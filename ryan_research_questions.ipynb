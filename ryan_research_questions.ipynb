{
 "cells": [
  {
   "cell_type": "markdown",
   "id": "b5ebd4a4",
   "metadata": {},
   "source": [
    "## Research Questions"
   ]
  },
  {
   "cell_type": "markdown",
   "id": "944d023b",
   "metadata": {},
   "source": [
    "What makes the property more valuable? lotconfig, sloped, irregular, proximity to things."
   ]
  },
  {
   "cell_type": "code",
   "execution_count": null,
   "id": "0bb4978a",
   "metadata": {},
   "outputs": [],
   "source": [
    "# wait until we have final regression models ran."
   ]
  },
  {
   "cell_type": "code",
   "execution_count": null,
   "id": "80cf9120",
   "metadata": {},
   "outputs": [],
   "source": []
  },
  {
   "cell_type": "code",
   "execution_count": null,
   "id": "a1c4a5ea",
   "metadata": {},
   "outputs": [],
   "source": []
  },
  {
   "cell_type": "markdown",
   "id": "9df5fdfc",
   "metadata": {},
   "source": [
    "Extra value from having another full bath, half bath, basement full bath, and basement half bath. Along with average cost of adding those to a house."
   ]
  },
  {
   "cell_type": "markdown",
   "id": "c1ef45e5",
   "metadata": {},
   "source": [
    "Average cost to add a bathroom to your existing space:\n",
    "- 15k (Homeadvisor) (low-cost is \\5k)\n",
    "- 7.6k (HomeGuide) https://homeguide.com/costs/cost-to-add-a-bathroom\n",
    "- 7.5k - 10k (Ownerly)\n",
    "- 15k (Angie, previously Angie's List)\n",
    " -6.5k-10k (Neighborly)\n",
    "\n",
    "Going to use a $10k estimated cost for adding a bathroom to existing space."
   ]
  },
  {
   "cell_type": "code",
   "execution_count": null,
   "id": "2e8edfee",
   "metadata": {},
   "outputs": [],
   "source": [
    "# Wait until we have final regression ran"
   ]
  },
  {
   "cell_type": "code",
   "execution_count": null,
   "id": "5a203b73",
   "metadata": {},
   "outputs": [],
   "source": []
  },
  {
   "cell_type": "markdown",
   "id": "f8769139",
   "metadata": {},
   "source": [
    "How much of a premium for an Ex kitchen over a TA kitchen? and cost of an average kitchen renovation?"
   ]
  },
  {
   "cell_type": "markdown",
   "id": "89f8036c",
   "metadata": {},
   "source": [
    "Cost of kitchen remodel:\n",
    "- Average midrange ktichen remodel, 66k (2019, REmodeling Magazine)\n",
    "- Major remodel (but not upscale), 69k (Home Depot)\n",
    "- 20k (KBRKitchenandBath). Major renovation between 40-70k\n",
    "- 20-50k (cliq studios)\n",
    "- 25k (HomeAdvisor)\n",
    "- Midrange remodel, 30-65k (DirectCabinets.com)\n",
    "- Standard: 25k-40k (Dulles Kitchen & Bath)\n",
    "- 13k - 21k (HomeGuide)\n",
    "- 40k (angi, formerly Angi's List)\n",
    "\n",
    "Going to use 40-50k, even though the price range swings wildly."
   ]
  },
  {
   "cell_type": "code",
   "execution_count": null,
   "id": "cd4929a9",
   "metadata": {},
   "outputs": [],
   "source": [
    "# wait until we have final regerssion ran"
   ]
  },
  {
   "cell_type": "code",
   "execution_count": null,
   "id": "54cd2bfe",
   "metadata": {},
   "outputs": [],
   "source": []
  },
  {
   "cell_type": "markdown",
   "id": "875106e2",
   "metadata": {},
   "source": [
    "Premium to have a fireplace? is it worth it?"
   ]
  },
  {
   "cell_type": "code",
   "execution_count": null,
   "id": "7f2e509f",
   "metadata": {},
   "outputs": [],
   "source": [
    "# Wait until we have final regression ran"
   ]
  },
  {
   "cell_type": "code",
   "execution_count": null,
   "id": "29ba698f",
   "metadata": {},
   "outputs": [],
   "source": []
  },
  {
   "cell_type": "code",
   "execution_count": null,
   "id": "479a0577",
   "metadata": {},
   "outputs": [],
   "source": []
  },
  {
   "cell_type": "markdown",
   "id": "6b5ebb6f",
   "metadata": {},
   "source": [
    "Hit to value from asbestos shingles? Dangerous to have (outlawed in 70's). Estimated cost to replace with vinyl/plywood?"
   ]
  },
  {
   "cell_type": "markdown",
   "id": "d38350e9",
   "metadata": {},
   "source": [
    "If absbestos shingles on your house are in good condition, usually not a serious problem.\n",
    "Removal is a costly and regulated process."
   ]
  },
  {
   "cell_type": "code",
   "execution_count": null,
   "id": "33d10c18",
   "metadata": {},
   "outputs": [],
   "source": []
  },
  {
   "cell_type": "code",
   "execution_count": null,
   "id": "a3f7857a",
   "metadata": {},
   "outputs": [],
   "source": []
  },
  {
   "cell_type": "markdown",
   "id": "136d6555",
   "metadata": {},
   "source": [
    "Correlation of all different quality classes."
   ]
  },
  {
   "cell_type": "code",
   "execution_count": null,
   "id": "918696a9",
   "metadata": {},
   "outputs": [],
   "source": []
  },
  {
   "cell_type": "code",
   "execution_count": null,
   "id": "9bdfdd60",
   "metadata": {},
   "outputs": [],
   "source": []
  },
  {
   "cell_type": "code",
   "execution_count": null,
   "id": "639b2afa",
   "metadata": {},
   "outputs": [],
   "source": []
  },
  {
   "cell_type": "markdown",
   "id": "739d5679",
   "metadata": {},
   "source": [
    "Other good info:\n",
    "- Complete basement remodel: $12-$30k. (Homeadvisor)\n",
    "- Most of the cost of renovating a home is the kitchen and the bathrooms. (Homeadvisor)\n",
    "- Adding a bathroom in a basement costs $8-15k on average (Homeadvisor)\n",
    "- Bathroom additions have an ROI of 50-60%, one of the best investments you can make (HomeGuide)\n",
    "- You will recoup on average 54% of your investment from adding a bathroom (Ownerly)\n",
    "- Adding a bathroom if your home has fewer than normal gives you the biggest bang for your buck. Too few hurts home value. (Ownerly)\n",
    "- Going from one to two baths is significant for home value (HomeLight)\n",
    "- I have seen everything from adds 10% to home value, to you get out 50% of what you put in."
   ]
  },
  {
   "cell_type": "code",
   "execution_count": null,
   "id": "cbebcf52",
   "metadata": {},
   "outputs": [],
   "source": []
  }
 ],
 "metadata": {
  "kernelspec": {
   "display_name": "Python 3",
   "language": "python",
   "name": "python3"
  },
  "language_info": {
   "codemirror_mode": {
    "name": "ipython",
    "version": 3
   },
   "file_extension": ".py",
   "mimetype": "text/x-python",
   "name": "python",
   "nbconvert_exporter": "python",
   "pygments_lexer": "ipython3",
   "version": "3.8.8"
  }
 },
 "nbformat": 4,
 "nbformat_minor": 5
}
