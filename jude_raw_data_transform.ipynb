{
 "cells": [
  {
   "cell_type": "code",
   "execution_count": 1,
   "metadata": {},
   "outputs": [],
   "source": [
    "import numpy as np\n",
    "import pandas as pd\n",
    "import matplotlib.pyplot as plt\n"
   ]
  },
  {
   "cell_type": "code",
   "execution_count": 2,
   "metadata": {},
   "outputs": [],
   "source": [
    "data = pd.read_csv('merge_data_update.csv', index_col=0)"
   ]
  },
  {
   "cell_type": "code",
   "execution_count": 3,
   "metadata": {},
   "outputs": [],
   "source": [
    "tdata = data.copy()"
   ]
  },
  {
   "cell_type": "code",
   "execution_count": 4,
   "metadata": {},
   "outputs": [
    {
     "data": {
      "text/html": [
       "<div>\n",
       "<style scoped>\n",
       "    .dataframe tbody tr th:only-of-type {\n",
       "        vertical-align: middle;\n",
       "    }\n",
       "\n",
       "    .dataframe tbody tr th {\n",
       "        vertical-align: top;\n",
       "    }\n",
       "\n",
       "    .dataframe thead th {\n",
       "        text-align: right;\n",
       "    }\n",
       "</style>\n",
       "<table border=\"1\" class=\"dataframe\">\n",
       "  <thead>\n",
       "    <tr style=\"text-align: right;\">\n",
       "      <th></th>\n",
       "      <th>PID</th>\n",
       "      <th>GrLivArea</th>\n",
       "      <th>SalePrice</th>\n",
       "      <th>MSSubClass</th>\n",
       "      <th>MSZoning</th>\n",
       "      <th>LotFrontage</th>\n",
       "      <th>LotArea</th>\n",
       "      <th>Street</th>\n",
       "      <th>Alley</th>\n",
       "      <th>LotShape</th>\n",
       "      <th>...</th>\n",
       "      <th>ClassPr_S</th>\n",
       "      <th>ClassSc_S</th>\n",
       "      <th>SchD_S</th>\n",
       "      <th>TxD_S</th>\n",
       "      <th>LndAc_S</th>\n",
       "      <th>ImpAc_S</th>\n",
       "      <th>OthAc_S</th>\n",
       "      <th>HSTtl_D</th>\n",
       "      <th>HSTtl_S</th>\n",
       "      <th>GLA</th>\n",
       "    </tr>\n",
       "  </thead>\n",
       "  <tbody>\n",
       "    <tr>\n",
       "      <th>0</th>\n",
       "      <td>909176150</td>\n",
       "      <td>856</td>\n",
       "      <td>126000</td>\n",
       "      <td>30</td>\n",
       "      <td>RL</td>\n",
       "      <td>NaN</td>\n",
       "      <td>7890</td>\n",
       "      <td>Pave</td>\n",
       "      <td>NaN</td>\n",
       "      <td>Reg</td>\n",
       "      <td>...</td>\n",
       "      <td>RESIDENTIAL</td>\n",
       "      <td>1-STORY 1945 &amp; OLDER</td>\n",
       "      <td>1.0</td>\n",
       "      <td>1.0</td>\n",
       "      <td>37300.0</td>\n",
       "      <td>0.0</td>\n",
       "      <td>111700.0</td>\n",
       "      <td>NaN</td>\n",
       "      <td>NaN</td>\n",
       "      <td>856.0</td>\n",
       "    </tr>\n",
       "    <tr>\n",
       "      <th>1</th>\n",
       "      <td>905476230</td>\n",
       "      <td>1049</td>\n",
       "      <td>139500</td>\n",
       "      <td>120</td>\n",
       "      <td>RL</td>\n",
       "      <td>42.0</td>\n",
       "      <td>4235</td>\n",
       "      <td>Pave</td>\n",
       "      <td>NaN</td>\n",
       "      <td>Reg</td>\n",
       "      <td>...</td>\n",
       "      <td>RESIDENTIAL</td>\n",
       "      <td>1-STORY TWNHM - 1946 &amp; NEWER</td>\n",
       "      <td>1.0</td>\n",
       "      <td>1.0</td>\n",
       "      <td>43500.0</td>\n",
       "      <td>0.0</td>\n",
       "      <td>130600.0</td>\n",
       "      <td>NaN</td>\n",
       "      <td>NaN</td>\n",
       "      <td>1049.0</td>\n",
       "    </tr>\n",
       "    <tr>\n",
       "      <th>2</th>\n",
       "      <td>911128020</td>\n",
       "      <td>1001</td>\n",
       "      <td>124900</td>\n",
       "      <td>30</td>\n",
       "      <td>C (all)</td>\n",
       "      <td>60.0</td>\n",
       "      <td>6060</td>\n",
       "      <td>Pave</td>\n",
       "      <td>NaN</td>\n",
       "      <td>Reg</td>\n",
       "      <td>...</td>\n",
       "      <td>RESIDENTIAL</td>\n",
       "      <td>1-STORY 1945 &amp; OLDER</td>\n",
       "      <td>1.0</td>\n",
       "      <td>1.0</td>\n",
       "      <td>41100.0</td>\n",
       "      <td>0.0</td>\n",
       "      <td>123200.0</td>\n",
       "      <td>NaN</td>\n",
       "      <td>NaN</td>\n",
       "      <td>1001.0</td>\n",
       "    </tr>\n",
       "    <tr>\n",
       "      <th>3</th>\n",
       "      <td>535377150</td>\n",
       "      <td>1039</td>\n",
       "      <td>114000</td>\n",
       "      <td>70</td>\n",
       "      <td>RL</td>\n",
       "      <td>80.0</td>\n",
       "      <td>8146</td>\n",
       "      <td>Pave</td>\n",
       "      <td>NaN</td>\n",
       "      <td>Reg</td>\n",
       "      <td>...</td>\n",
       "      <td>RESIDENTIAL</td>\n",
       "      <td>2-STORY 1945 &amp; OLDER</td>\n",
       "      <td>1.0</td>\n",
       "      <td>1.0</td>\n",
       "      <td>31100.0</td>\n",
       "      <td>0.0</td>\n",
       "      <td>93300.0</td>\n",
       "      <td>NaN</td>\n",
       "      <td>4850.0</td>\n",
       "      <td>1039.0</td>\n",
       "    </tr>\n",
       "    <tr>\n",
       "      <th>4</th>\n",
       "      <td>534177230</td>\n",
       "      <td>1665</td>\n",
       "      <td>227000</td>\n",
       "      <td>60</td>\n",
       "      <td>RL</td>\n",
       "      <td>70.0</td>\n",
       "      <td>8400</td>\n",
       "      <td>Pave</td>\n",
       "      <td>NaN</td>\n",
       "      <td>Reg</td>\n",
       "      <td>...</td>\n",
       "      <td>RESIDENTIAL</td>\n",
       "      <td>2-STORY 1946 &amp; NEWER</td>\n",
       "      <td>1.0</td>\n",
       "      <td>1.0</td>\n",
       "      <td>64300.0</td>\n",
       "      <td>0.0</td>\n",
       "      <td>192800.0</td>\n",
       "      <td>NaN</td>\n",
       "      <td>NaN</td>\n",
       "      <td>1665.0</td>\n",
       "    </tr>\n",
       "    <tr>\n",
       "      <th>...</th>\n",
       "      <td>...</td>\n",
       "      <td>...</td>\n",
       "      <td>...</td>\n",
       "      <td>...</td>\n",
       "      <td>...</td>\n",
       "      <td>...</td>\n",
       "      <td>...</td>\n",
       "      <td>...</td>\n",
       "      <td>...</td>\n",
       "      <td>...</td>\n",
       "      <td>...</td>\n",
       "      <td>...</td>\n",
       "      <td>...</td>\n",
       "      <td>...</td>\n",
       "      <td>...</td>\n",
       "      <td>...</td>\n",
       "      <td>...</td>\n",
       "      <td>...</td>\n",
       "      <td>...</td>\n",
       "      <td>...</td>\n",
       "      <td>...</td>\n",
       "    </tr>\n",
       "    <tr>\n",
       "      <th>2575</th>\n",
       "      <td>903205040</td>\n",
       "      <td>952</td>\n",
       "      <td>121000</td>\n",
       "      <td>30</td>\n",
       "      <td>RL</td>\n",
       "      <td>NaN</td>\n",
       "      <td>8854</td>\n",
       "      <td>Pave</td>\n",
       "      <td>NaN</td>\n",
       "      <td>Reg</td>\n",
       "      <td>...</td>\n",
       "      <td>RESIDENTIAL</td>\n",
       "      <td>1-STORY 1945 &amp; OLDER</td>\n",
       "      <td>1.0</td>\n",
       "      <td>1.0</td>\n",
       "      <td>34600.0</td>\n",
       "      <td>0.0</td>\n",
       "      <td>103900.0</td>\n",
       "      <td>4850.0</td>\n",
       "      <td>4850.0</td>\n",
       "      <td>952.0</td>\n",
       "    </tr>\n",
       "    <tr>\n",
       "      <th>2576</th>\n",
       "      <td>905402060</td>\n",
       "      <td>1733</td>\n",
       "      <td>139600</td>\n",
       "      <td>20</td>\n",
       "      <td>RL</td>\n",
       "      <td>NaN</td>\n",
       "      <td>13680</td>\n",
       "      <td>Pave</td>\n",
       "      <td>NaN</td>\n",
       "      <td>IR1</td>\n",
       "      <td>...</td>\n",
       "      <td>RESIDENTIAL</td>\n",
       "      <td>1-STORY 1946 &amp; NEWER ALL STYLES</td>\n",
       "      <td>1.0</td>\n",
       "      <td>1.0</td>\n",
       "      <td>46300.0</td>\n",
       "      <td>0.0</td>\n",
       "      <td>138800.0</td>\n",
       "      <td>NaN</td>\n",
       "      <td>NaN</td>\n",
       "      <td>1733.0</td>\n",
       "    </tr>\n",
       "    <tr>\n",
       "      <th>2577</th>\n",
       "      <td>909275030</td>\n",
       "      <td>2002</td>\n",
       "      <td>145000</td>\n",
       "      <td>90</td>\n",
       "      <td>RH</td>\n",
       "      <td>82.0</td>\n",
       "      <td>6270</td>\n",
       "      <td>Pave</td>\n",
       "      <td>NaN</td>\n",
       "      <td>Reg</td>\n",
       "      <td>...</td>\n",
       "      <td>RESIDENTIAL</td>\n",
       "      <td>DUPLEX - ALL STYLES AND AGES</td>\n",
       "      <td>1.0</td>\n",
       "      <td>1.0</td>\n",
       "      <td>45800.0</td>\n",
       "      <td>0.0</td>\n",
       "      <td>137400.0</td>\n",
       "      <td>NaN</td>\n",
       "      <td>NaN</td>\n",
       "      <td>2002.0</td>\n",
       "    </tr>\n",
       "    <tr>\n",
       "      <th>2578</th>\n",
       "      <td>907192040</td>\n",
       "      <td>1842</td>\n",
       "      <td>217500</td>\n",
       "      <td>60</td>\n",
       "      <td>RL</td>\n",
       "      <td>NaN</td>\n",
       "      <td>8826</td>\n",
       "      <td>Pave</td>\n",
       "      <td>NaN</td>\n",
       "      <td>Reg</td>\n",
       "      <td>...</td>\n",
       "      <td>RESIDENTIAL</td>\n",
       "      <td>2-STORY 1946 &amp; NEWER</td>\n",
       "      <td>1.0</td>\n",
       "      <td>1.0</td>\n",
       "      <td>66300.0</td>\n",
       "      <td>0.0</td>\n",
       "      <td>198900.0</td>\n",
       "      <td>4850.0</td>\n",
       "      <td>4850.0</td>\n",
       "      <td>1842.0</td>\n",
       "    </tr>\n",
       "    <tr>\n",
       "      <th>2579</th>\n",
       "      <td>906223180</td>\n",
       "      <td>1911</td>\n",
       "      <td>215000</td>\n",
       "      <td>60</td>\n",
       "      <td>RL</td>\n",
       "      <td>80.0</td>\n",
       "      <td>9554</td>\n",
       "      <td>Pave</td>\n",
       "      <td>NaN</td>\n",
       "      <td>IR1</td>\n",
       "      <td>...</td>\n",
       "      <td>RESIDENTIAL</td>\n",
       "      <td>2-STORY 1946 &amp; NEWER</td>\n",
       "      <td>1.0</td>\n",
       "      <td>1.0</td>\n",
       "      <td>62700.0</td>\n",
       "      <td>0.0</td>\n",
       "      <td>187900.0</td>\n",
       "      <td>NaN</td>\n",
       "      <td>NaN</td>\n",
       "      <td>1911.0</td>\n",
       "    </tr>\n",
       "  </tbody>\n",
       "</table>\n",
       "<p>2580 rows × 97 columns</p>\n",
       "</div>"
      ],
      "text/plain": [
       "            PID  GrLivArea  SalePrice  MSSubClass MSZoning  LotFrontage  \\\n",
       "0     909176150        856     126000          30       RL          NaN   \n",
       "1     905476230       1049     139500         120       RL         42.0   \n",
       "2     911128020       1001     124900          30  C (all)         60.0   \n",
       "3     535377150       1039     114000          70       RL         80.0   \n",
       "4     534177230       1665     227000          60       RL         70.0   \n",
       "...         ...        ...        ...         ...      ...          ...   \n",
       "2575  903205040        952     121000          30       RL          NaN   \n",
       "2576  905402060       1733     139600          20       RL          NaN   \n",
       "2577  909275030       2002     145000          90       RH         82.0   \n",
       "2578  907192040       1842     217500          60       RL          NaN   \n",
       "2579  906223180       1911     215000          60       RL         80.0   \n",
       "\n",
       "      LotArea Street Alley LotShape  ...    ClassPr_S  \\\n",
       "0        7890   Pave   NaN      Reg  ...  RESIDENTIAL   \n",
       "1        4235   Pave   NaN      Reg  ...  RESIDENTIAL   \n",
       "2        6060   Pave   NaN      Reg  ...  RESIDENTIAL   \n",
       "3        8146   Pave   NaN      Reg  ...  RESIDENTIAL   \n",
       "4        8400   Pave   NaN      Reg  ...  RESIDENTIAL   \n",
       "...       ...    ...   ...      ...  ...          ...   \n",
       "2575     8854   Pave   NaN      Reg  ...  RESIDENTIAL   \n",
       "2576    13680   Pave   NaN      IR1  ...  RESIDENTIAL   \n",
       "2577     6270   Pave   NaN      Reg  ...  RESIDENTIAL   \n",
       "2578     8826   Pave   NaN      Reg  ...  RESIDENTIAL   \n",
       "2579     9554   Pave   NaN      IR1  ...  RESIDENTIAL   \n",
       "\n",
       "                            ClassSc_S SchD_S TxD_S  LndAc_S ImpAc_S   OthAc_S  \\\n",
       "0                1-STORY 1945 & OLDER    1.0   1.0  37300.0     0.0  111700.0   \n",
       "1        1-STORY TWNHM - 1946 & NEWER    1.0   1.0  43500.0     0.0  130600.0   \n",
       "2                1-STORY 1945 & OLDER    1.0   1.0  41100.0     0.0  123200.0   \n",
       "3                2-STORY 1945 & OLDER    1.0   1.0  31100.0     0.0   93300.0   \n",
       "4                2-STORY 1946 & NEWER    1.0   1.0  64300.0     0.0  192800.0   \n",
       "...                               ...    ...   ...      ...     ...       ...   \n",
       "2575             1-STORY 1945 & OLDER    1.0   1.0  34600.0     0.0  103900.0   \n",
       "2576  1-STORY 1946 & NEWER ALL STYLES    1.0   1.0  46300.0     0.0  138800.0   \n",
       "2577     DUPLEX - ALL STYLES AND AGES    1.0   1.0  45800.0     0.0  137400.0   \n",
       "2578             2-STORY 1946 & NEWER    1.0   1.0  66300.0     0.0  198900.0   \n",
       "2579             2-STORY 1946 & NEWER    1.0   1.0  62700.0     0.0  187900.0   \n",
       "\n",
       "     HSTtl_D HSTtl_S     GLA  \n",
       "0        NaN     NaN   856.0  \n",
       "1        NaN     NaN  1049.0  \n",
       "2        NaN     NaN  1001.0  \n",
       "3        NaN  4850.0  1039.0  \n",
       "4        NaN     NaN  1665.0  \n",
       "...      ...     ...     ...  \n",
       "2575  4850.0  4850.0   952.0  \n",
       "2576     NaN     NaN  1733.0  \n",
       "2577     NaN     NaN  2002.0  \n",
       "2578  4850.0  4850.0  1842.0  \n",
       "2579     NaN     NaN  1911.0  \n",
       "\n",
       "[2580 rows x 97 columns]"
      ]
     },
     "execution_count": 4,
     "metadata": {},
     "output_type": "execute_result"
    }
   ],
   "source": [
    "tdata"
   ]
  },
  {
   "cell_type": "code",
   "execution_count": 5,
   "metadata": {},
   "outputs": [
    {
     "data": {
      "text/plain": [
       "Index(['PID', 'GrLivArea', 'SalePrice', 'MSSubClass', 'MSZoning',\n",
       "       'LotFrontage', 'LotArea', 'Street', 'Alley', 'LotShape', 'LandContour',\n",
       "       'Utilities', 'LotConfig', 'LandSlope', 'Neighborhood', 'Condition1',\n",
       "       'Condition2', 'BldgType', 'HouseStyle', 'OverallQual', 'OverallCond',\n",
       "       'YearBuilt', 'YearRemodAdd', 'RoofStyle', 'RoofMatl', 'Exterior1st',\n",
       "       'Exterior2nd', 'MasVnrType', 'MasVnrArea', 'ExterQual', 'ExterCond',\n",
       "       'Foundation', 'BsmtQual', 'BsmtCond', 'BsmtExposure', 'BsmtFinType1',\n",
       "       'BsmtFinSF1', 'BsmtFinType2', 'BsmtFinSF2', 'BsmtUnfSF', 'TotalBsmtSF',\n",
       "       'Heating', 'HeatingQC', 'CentralAir', 'Electrical', '1stFlrSF',\n",
       "       '2ndFlrSF', 'LowQualFinSF', 'BsmtFullBath', 'BsmtHalfBath', 'FullBath',\n",
       "       'HalfBath', 'BedroomAbvGr', 'KitchenAbvGr', 'KitchenQual',\n",
       "       'TotRmsAbvGrd', 'Functional', 'Fireplaces', 'FireplaceQu', 'GarageType',\n",
       "       'GarageYrBlt', 'GarageFinish', 'GarageCars', 'GarageArea', 'GarageQual',\n",
       "       'GarageCond', 'PavedDrive', 'WoodDeckSF', 'OpenPorchSF',\n",
       "       'EnclosedPorch', '3SsnPorch', 'ScreenPorch', 'PoolArea', 'PoolQC',\n",
       "       'Fence', 'MiscFeature', 'MiscVal', 'MoSold', 'YrSold', 'SaleType',\n",
       "       'SaleCondition', 'MapRefNo', 'GeoRefNo', 'Prop_Addr', 'ZngCdPr',\n",
       "       'ZngOLPr', 'ZngOLSc', 'ClassPr_S', 'ClassSc_S', 'SchD_S', 'TxD_S',\n",
       "       'LndAc_S', 'ImpAc_S', 'OthAc_S', 'HSTtl_D', 'HSTtl_S', 'GLA'],\n",
       "      dtype='object')"
      ]
     },
     "execution_count": 5,
     "metadata": {},
     "output_type": "execute_result"
    }
   ],
   "source": [
    "tdata.columns"
   ]
  },
  {
   "cell_type": "markdown",
   "metadata": {},
   "source": [
    "## Columns\n",
    "\n",
    "#### GrLivArea - keep as is\n",
    "#### MSSubClass - combine into 1stry, 1plus_stry, multi then dummify\n",
    "#### LotFrontage - drop\n",
    "#### LotArea - keep as is\n",
    "#### LotShape - binarize\n",
    "#### LandContour - binarize into \"level\" and \"other\"\n",
    "#### LotConfig - combine into \"culdesac\",  \"inside\", \"corner\"\n",
    "#### Neighborhood - keep as is\n",
    "#### Condition1 - cat into \"Normal\", \"Feedr\", \"Artery\", \"Railroad\", \"Positive\" then dummify\n",
    "#### BldgType - combine 2fam conv and duplex then dummify"
   ]
  },
  {
   "cell_type": "markdown",
   "metadata": {},
   "source": [
    "### MSSubClass"
   ]
  },
  {
   "cell_type": "code",
   "execution_count": 6,
   "metadata": {},
   "outputs": [
    {
     "data": {
      "text/plain": [
       "20     939\n",
       "60     502\n",
       "50     259\n",
       "120    169\n",
       "30     123\n",
       "160    120\n",
       "70     116\n",
       "80     109\n",
       "90      87\n",
       "190     53\n",
       "85      43\n",
       "75      21\n",
       "45      17\n",
       "180     15\n",
       "40       6\n",
       "150      1\n",
       "Name: MSSubClass, dtype: int64"
      ]
     },
     "execution_count": 6,
     "metadata": {},
     "output_type": "execute_result"
    }
   ],
   "source": [
    "# Initial State\n",
    "\n",
    "tdata['MSSubClass'].value_counts()"
   ]
  },
  {
   "cell_type": "code",
   "execution_count": 7,
   "metadata": {},
   "outputs": [],
   "source": [
    "# Transform Data\n",
    "\n",
    "tdata['MSSubClass'].replace([20, 30, 40, 80, 85, 120], 'one_stry', inplace=True)\n",
    "tdata['MSSubClass'].replace([45, 50, 60, 70, 75, 150, 160], 'one_plus_stry', inplace=True)\n",
    "tdata['MSSubClass'].replace([90, 180, 190], 'multi_stry', inplace=True)"
   ]
  },
  {
   "cell_type": "code",
   "execution_count": 8,
   "metadata": {},
   "outputs": [
    {
     "data": {
      "text/plain": [
       "one_stry         1389\n",
       "one_plus_stry    1036\n",
       "multi_stry        155\n",
       "Name: MSSubClass, dtype: int64"
      ]
     },
     "execution_count": 8,
     "metadata": {},
     "output_type": "execute_result"
    }
   ],
   "source": [
    "# Check Transformation\n",
    "\n",
    "tdata['MSSubClass'].value_counts()"
   ]
  },
  {
   "cell_type": "code",
   "execution_count": 9,
   "metadata": {},
   "outputs": [
    {
     "data": {
      "text/html": [
       "<div>\n",
       "<style scoped>\n",
       "    .dataframe tbody tr th:only-of-type {\n",
       "        vertical-align: middle;\n",
       "    }\n",
       "\n",
       "    .dataframe tbody tr th {\n",
       "        vertical-align: top;\n",
       "    }\n",
       "\n",
       "    .dataframe thead th {\n",
       "        text-align: right;\n",
       "    }\n",
       "</style>\n",
       "<table border=\"1\" class=\"dataframe\">\n",
       "  <thead>\n",
       "    <tr style=\"text-align: right;\">\n",
       "      <th></th>\n",
       "      <th>multi_stry</th>\n",
       "      <th>one_plus_stry</th>\n",
       "      <th>one_stry</th>\n",
       "    </tr>\n",
       "  </thead>\n",
       "  <tbody>\n",
       "    <tr>\n",
       "      <th>0</th>\n",
       "      <td>0</td>\n",
       "      <td>0</td>\n",
       "      <td>1</td>\n",
       "    </tr>\n",
       "    <tr>\n",
       "      <th>1</th>\n",
       "      <td>0</td>\n",
       "      <td>0</td>\n",
       "      <td>1</td>\n",
       "    </tr>\n",
       "    <tr>\n",
       "      <th>2</th>\n",
       "      <td>0</td>\n",
       "      <td>0</td>\n",
       "      <td>1</td>\n",
       "    </tr>\n",
       "    <tr>\n",
       "      <th>3</th>\n",
       "      <td>0</td>\n",
       "      <td>1</td>\n",
       "      <td>0</td>\n",
       "    </tr>\n",
       "    <tr>\n",
       "      <th>4</th>\n",
       "      <td>0</td>\n",
       "      <td>1</td>\n",
       "      <td>0</td>\n",
       "    </tr>\n",
       "    <tr>\n",
       "      <th>...</th>\n",
       "      <td>...</td>\n",
       "      <td>...</td>\n",
       "      <td>...</td>\n",
       "    </tr>\n",
       "    <tr>\n",
       "      <th>2575</th>\n",
       "      <td>0</td>\n",
       "      <td>0</td>\n",
       "      <td>1</td>\n",
       "    </tr>\n",
       "    <tr>\n",
       "      <th>2576</th>\n",
       "      <td>0</td>\n",
       "      <td>0</td>\n",
       "      <td>1</td>\n",
       "    </tr>\n",
       "    <tr>\n",
       "      <th>2577</th>\n",
       "      <td>1</td>\n",
       "      <td>0</td>\n",
       "      <td>0</td>\n",
       "    </tr>\n",
       "    <tr>\n",
       "      <th>2578</th>\n",
       "      <td>0</td>\n",
       "      <td>1</td>\n",
       "      <td>0</td>\n",
       "    </tr>\n",
       "    <tr>\n",
       "      <th>2579</th>\n",
       "      <td>0</td>\n",
       "      <td>1</td>\n",
       "      <td>0</td>\n",
       "    </tr>\n",
       "  </tbody>\n",
       "</table>\n",
       "<p>2580 rows × 3 columns</p>\n",
       "</div>"
      ],
      "text/plain": [
       "      multi_stry  one_plus_stry  one_stry\n",
       "0              0              0         1\n",
       "1              0              0         1\n",
       "2              0              0         1\n",
       "3              0              1         0\n",
       "4              0              1         0\n",
       "...          ...            ...       ...\n",
       "2575           0              0         1\n",
       "2576           0              0         1\n",
       "2577           1              0         0\n",
       "2578           0              1         0\n",
       "2579           0              1         0\n",
       "\n",
       "[2580 rows x 3 columns]"
      ]
     },
     "execution_count": 9,
     "metadata": {},
     "output_type": "execute_result"
    }
   ],
   "source": [
    "pd.get_dummies(tdata['MSSubClass'])"
   ]
  },
  {
   "cell_type": "code",
   "execution_count": 10,
   "metadata": {},
   "outputs": [],
   "source": [
    "# Dummify, drop 'one_stry'\n",
    "\n",
    "MSSubClass_dums = pd.get_dummies(tdata['MSSubClass'], prefix='MSSubClass', prefix_sep='_').drop('MSSubClass_one_stry', 1)\n",
    "tdata = pd.concat([tdata.drop('MSSubClass', 1), MSSubClass_dums], axis=1)"
   ]
  },
  {
   "cell_type": "code",
   "execution_count": 11,
   "metadata": {},
   "outputs": [
    {
     "data": {
      "text/plain": [
       "MSSubClass_multi_stry  MSSubClass_one_plus_stry\n",
       "0                      0                           1389\n",
       "                       1                           1036\n",
       "1                      0                            155\n",
       "dtype: int64"
      ]
     },
     "execution_count": 11,
     "metadata": {},
     "output_type": "execute_result"
    }
   ],
   "source": [
    "# Check new column\n",
    "\n",
    "tdata.iloc[:,-2:].value_counts()"
   ]
  },
  {
   "cell_type": "markdown",
   "metadata": {},
   "source": [
    "### LotFrontage (DROPPED)"
   ]
  },
  {
   "cell_type": "markdown",
   "metadata": {},
   "source": [
    "### LotShape"
   ]
  },
  {
   "cell_type": "code",
   "execution_count": 12,
   "metadata": {},
   "outputs": [
    {
     "data": {
      "text/plain": [
       "Reg    1641\n",
       "IR1     855\n",
       "IR2      71\n",
       "IR3      13\n",
       "Name: LotShape, dtype: int64"
      ]
     },
     "execution_count": 12,
     "metadata": {},
     "output_type": "execute_result"
    }
   ],
   "source": [
    "# Initial State\n",
    "\n",
    "tdata['LotShape'].value_counts()"
   ]
  },
  {
   "cell_type": "code",
   "execution_count": 13,
   "metadata": {},
   "outputs": [],
   "source": [
    "# Transform Data\n",
    "\n",
    "tdata['LotShape'].replace(['IR1', 'IR2', 'IR3'], 'IR', inplace=True)"
   ]
  },
  {
   "cell_type": "code",
   "execution_count": 14,
   "metadata": {},
   "outputs": [
    {
     "data": {
      "text/plain": [
       "Reg    1641\n",
       "IR      939\n",
       "Name: LotShape, dtype: int64"
      ]
     },
     "execution_count": 14,
     "metadata": {},
     "output_type": "execute_result"
    }
   ],
   "source": [
    "# Check Transformation\n",
    "\n",
    "tdata['LotShape'].value_counts()"
   ]
  },
  {
   "cell_type": "code",
   "execution_count": 15,
   "metadata": {},
   "outputs": [],
   "source": [
    "# Dummify, drop 'Reg'\n",
    "\n",
    "LotShape_dums = pd.get_dummies(tdata['LotShape'], prefix='LotShape', prefix_sep='_').drop('LotShape_Reg', 1)\n",
    "tdata = pd.concat([tdata.drop('LotShape', 1), LotShape_dums], axis=1)"
   ]
  },
  {
   "cell_type": "code",
   "execution_count": 16,
   "metadata": {},
   "outputs": [
    {
     "data": {
      "text/plain": [
       "LotShape_IR\n",
       "0              1641\n",
       "1               939\n",
       "dtype: int64"
      ]
     },
     "execution_count": 16,
     "metadata": {},
     "output_type": "execute_result"
    }
   ],
   "source": [
    "# Check new column\n",
    "\n",
    "tdata.iloc[:,-1:].value_counts()"
   ]
  },
  {
   "cell_type": "markdown",
   "metadata": {},
   "source": [
    "### LandContour"
   ]
  },
  {
   "cell_type": "code",
   "execution_count": 17,
   "metadata": {},
   "outputs": [
    {
     "data": {
      "text/plain": [
       "Lvl    2337\n",
       "HLS      96\n",
       "Bnk      95\n",
       "Low      52\n",
       "Name: LandContour, dtype: int64"
      ]
     },
     "execution_count": 17,
     "metadata": {},
     "output_type": "execute_result"
    }
   ],
   "source": [
    "# Initial State\n",
    "\n",
    "tdata['LandContour'].value_counts()"
   ]
  },
  {
   "cell_type": "code",
   "execution_count": 18,
   "metadata": {},
   "outputs": [],
   "source": [
    "# Transform Data\n",
    "\n",
    "tdata['LandContour'].replace(['HLS', 'Bnk', 'Low'], 'slope', inplace=True)"
   ]
  },
  {
   "cell_type": "code",
   "execution_count": 19,
   "metadata": {},
   "outputs": [
    {
     "data": {
      "text/plain": [
       "Lvl      2337\n",
       "slope     243\n",
       "Name: LandContour, dtype: int64"
      ]
     },
     "execution_count": 19,
     "metadata": {},
     "output_type": "execute_result"
    }
   ],
   "source": [
    "# Check Transformation\n",
    "\n",
    "tdata['LandContour'].value_counts()"
   ]
  },
  {
   "cell_type": "code",
   "execution_count": 20,
   "metadata": {},
   "outputs": [],
   "source": [
    "# Dummify, drop 'Lvl'\n",
    "\n",
    "LandContour_dums = pd.get_dummies(tdata['LandContour'], prefix='LandContour', prefix_sep='_').drop(\"LandContour_Lvl\", 1)\n",
    "tdata = pd.concat([tdata.drop('LandContour', 1), LandContour_dums], axis=1)"
   ]
  },
  {
   "cell_type": "code",
   "execution_count": 21,
   "metadata": {},
   "outputs": [
    {
     "data": {
      "text/plain": [
       "LandContour_slope\n",
       "0                    2337\n",
       "1                     243\n",
       "dtype: int64"
      ]
     },
     "execution_count": 21,
     "metadata": {},
     "output_type": "execute_result"
    }
   ],
   "source": [
    "tdata.iloc[:,-1:].value_counts()"
   ]
  },
  {
   "cell_type": "markdown",
   "metadata": {},
   "source": [
    "### LotConfig"
   ]
  },
  {
   "cell_type": "code",
   "execution_count": 22,
   "metadata": {},
   "outputs": [
    {
     "data": {
      "text/plain": [
       "Inside     1886\n",
       "Corner      439\n",
       "CulDSac     164\n",
       "FR2          78\n",
       "FR3          13\n",
       "Name: LotConfig, dtype: int64"
      ]
     },
     "execution_count": 22,
     "metadata": {},
     "output_type": "execute_result"
    }
   ],
   "source": [
    "# Initial State\n",
    "\n",
    "tdata['LotConfig'].value_counts()"
   ]
  },
  {
   "cell_type": "code",
   "execution_count": 23,
   "metadata": {},
   "outputs": [],
   "source": [
    "# Transform Data\n",
    "\n",
    "tdata['LotConfig'].replace(['FR2', 'FR3'], 'Corner', inplace=True)"
   ]
  },
  {
   "cell_type": "code",
   "execution_count": 24,
   "metadata": {},
   "outputs": [
    {
     "data": {
      "text/plain": [
       "Inside     1886\n",
       "Corner      530\n",
       "CulDSac     164\n",
       "Name: LotConfig, dtype: int64"
      ]
     },
     "execution_count": 24,
     "metadata": {},
     "output_type": "execute_result"
    }
   ],
   "source": [
    "# Check Transformation\n",
    "\n",
    "tdata['LotConfig'].value_counts()"
   ]
  },
  {
   "cell_type": "code",
   "execution_count": 25,
   "metadata": {},
   "outputs": [],
   "source": [
    "# Dummify, drop 'Inside'\n",
    "\n",
    "LotConfig_dums = pd.get_dummies(tdata['LotConfig'], prefix='LotConfig', prefix_sep='_').drop('LotConfig_Inside', 1)\n",
    "tdata = pd.concat([tdata.drop('LotConfig', 1), LotConfig_dums], axis=1)"
   ]
  },
  {
   "cell_type": "code",
   "execution_count": 26,
   "metadata": {},
   "outputs": [
    {
     "data": {
      "text/plain": [
       "LotConfig_CulDSac\n",
       "0                    2416\n",
       "1                     164\n",
       "dtype: int64"
      ]
     },
     "execution_count": 26,
     "metadata": {},
     "output_type": "execute_result"
    }
   ],
   "source": [
    "tdata.iloc[:,-1:].value_counts()"
   ]
  },
  {
   "cell_type": "markdown",
   "metadata": {},
   "source": [
    "### Condition1"
   ]
  },
  {
   "cell_type": "code",
   "execution_count": 27,
   "metadata": {},
   "outputs": [
    {
     "data": {
      "text/plain": [
       "Norm      2228\n",
       "Feedr      137\n",
       "Artery      81\n",
       "RRAn        40\n",
       "PosN        37\n",
       "RRAe        26\n",
       "PosA        19\n",
       "RRNn         8\n",
       "RRNe         4\n",
       "Name: Condition1, dtype: int64"
      ]
     },
     "execution_count": 27,
     "metadata": {},
     "output_type": "execute_result"
    }
   ],
   "source": [
    "# Initial State\n",
    "\n",
    "tdata['Condition1'].value_counts()"
   ]
  },
  {
   "cell_type": "code",
   "execution_count": 28,
   "metadata": {},
   "outputs": [],
   "source": [
    "# Transform Data\n",
    "\n",
    "tdata['Condition1'].replace(['RRAn', 'RRAe', 'RRNe', 'RRNn'], 'RailRd', inplace=True)\n",
    "tdata['Condition1'].replace(['PosN', 'PosA'], 'Pos', inplace=True)"
   ]
  },
  {
   "cell_type": "code",
   "execution_count": 29,
   "metadata": {},
   "outputs": [
    {
     "data": {
      "text/plain": [
       "Norm      2228\n",
       "Feedr      137\n",
       "Artery      81\n",
       "RailRd      78\n",
       "Pos         56\n",
       "Name: Condition1, dtype: int64"
      ]
     },
     "execution_count": 29,
     "metadata": {},
     "output_type": "execute_result"
    }
   ],
   "source": [
    "# Check Transformation\n",
    "\n",
    "tdata['Condition1'].value_counts()"
   ]
  },
  {
   "cell_type": "code",
   "execution_count": 30,
   "metadata": {},
   "outputs": [],
   "source": [
    "# Dummify, drop 'Norm'\n",
    "\n",
    "Condition1_dums = pd.get_dummies(tdata['Condition1'], prefix='Condition1', prefix_sep='_').drop('Condition1_Norm', 1)\n",
    "tdata = pd.concat([tdata.drop('Condition1', 1), Condition1_dums], axis=1)"
   ]
  },
  {
   "cell_type": "code",
   "execution_count": 31,
   "metadata": {},
   "outputs": [
    {
     "data": {
      "text/plain": [
       "Condition1_Artery  Condition1_Feedr  Condition1_Pos  Condition1_RailRd\n",
       "0                  0                 0               0                    2228\n",
       "                   1                 0               0                     137\n",
       "1                  0                 0               0                      81\n",
       "0                  0                 0               1                      78\n",
       "                                     1               0                      56\n",
       "dtype: int64"
      ]
     },
     "execution_count": 31,
     "metadata": {},
     "output_type": "execute_result"
    }
   ],
   "source": [
    "tdata.iloc[:,-4:].value_counts()"
   ]
  },
  {
   "cell_type": "markdown",
   "metadata": {},
   "source": [
    "### BldgType"
   ]
  },
  {
   "cell_type": "code",
   "execution_count": 32,
   "metadata": {},
   "outputs": [
    {
     "data": {
      "text/plain": [
       "1Fam      2139\n",
       "TwnhsE     202\n",
       "Twnhs       98\n",
       "Duplex      87\n",
       "2fmCon      54\n",
       "Name: BldgType, dtype: int64"
      ]
     },
     "execution_count": 32,
     "metadata": {},
     "output_type": "execute_result"
    }
   ],
   "source": [
    "# Initial State\n",
    "\n",
    "tdata['BldgType'].value_counts()"
   ]
  },
  {
   "cell_type": "code",
   "execution_count": 33,
   "metadata": {},
   "outputs": [],
   "source": [
    "# Transform Data\n",
    "\n",
    "tdata['BldgType'].replace(['Duplex', '2fmCon'], '2Fam', inplace=True)"
   ]
  },
  {
   "cell_type": "code",
   "execution_count": 34,
   "metadata": {},
   "outputs": [
    {
     "data": {
      "text/plain": [
       "1Fam      2139\n",
       "TwnhsE     202\n",
       "2Fam       141\n",
       "Twnhs       98\n",
       "Name: BldgType, dtype: int64"
      ]
     },
     "execution_count": 34,
     "metadata": {},
     "output_type": "execute_result"
    }
   ],
   "source": [
    "# Check Transformation\n",
    "\n",
    "tdata['BldgType'].value_counts()"
   ]
  },
  {
   "cell_type": "code",
   "execution_count": 35,
   "metadata": {},
   "outputs": [],
   "source": [
    "# Dummify, drop '1Fam'\n",
    "\n",
    "BldgType_dums = pd.get_dummies(tdata['BldgType'], prefix='BldgType', prefix_sep='_').drop('BldgType_1Fam', 1)\n",
    "tdata = pd.concat([tdata.drop('BldgType', 1), BldgType_dums], axis=1)"
   ]
  },
  {
   "cell_type": "code",
   "execution_count": 37,
   "metadata": {},
   "outputs": [
    {
     "data": {
      "text/plain": [
       "BldgType_2Fam  BldgType_Twnhs  BldgType_TwnhsE\n",
       "0              0               0                  2139\n",
       "                               1                   202\n",
       "1              0               0                   141\n",
       "0              1               0                    98\n",
       "dtype: int64"
      ]
     },
     "execution_count": 37,
     "metadata": {},
     "output_type": "execute_result"
    }
   ],
   "source": [
    "tdata.iloc[:,-3:].value_counts()"
   ]
  },
  {
   "cell_type": "code",
   "execution_count": null,
   "metadata": {},
   "outputs": [],
   "source": []
  }
 ],
 "metadata": {
  "kernelspec": {
   "display_name": "Python 3",
   "language": "python",
   "name": "python3"
  },
  "language_info": {
   "codemirror_mode": {
    "name": "ipython",
    "version": 3
   },
   "file_extension": ".py",
   "mimetype": "text/x-python",
   "name": "python",
   "nbconvert_exporter": "python",
   "pygments_lexer": "ipython3",
   "version": "3.8.5"
  }
 },
 "nbformat": 4,
 "nbformat_minor": 4
}
