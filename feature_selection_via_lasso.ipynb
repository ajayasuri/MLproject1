{
 "cells": [
  {
   "cell_type": "markdown",
   "metadata": {},
   "source": [
    "Performs Lasso Regression on Dummified data set to do feature selection on coefficients "
   ]
  },
  {
   "cell_type": "code",
   "execution_count": 1,
   "metadata": {},
   "outputs": [],
   "source": [
    "import numpy as np\n",
    "import pandas as pd\n",
    "import matplotlib.pyplot as plt\n",
    "import seaborn as sns\n",
    "from sklearn.model_selection import train_test_split\n",
    "from sklearn.linear_model import LinearRegression,Lasso\n",
    "from sklearn.linear_model import LassoCV\n",
    "from sklearn.preprocessing import StandardScaler\n",
    "from sklearn.metrics import mean_squared_error\n",
    "from sklearn.model_selection import cross_val_score"
   ]
  },
  {
   "cell_type": "code",
   "execution_count": 39,
   "metadata": {},
   "outputs": [],
   "source": [
    "data_train = pd.read_csv('RowFiltered_dummied_data_TRAIN.csv')\n",
    "data_test = pd.read_csv('RowFiltered_dummied_data_TEST.csv')\n"
   ]
  },
  {
   "cell_type": "code",
   "execution_count": 40,
   "metadata": {},
   "outputs": [],
   "source": [
    "# list(data_train.columns)"
   ]
  },
  {
   "cell_type": "code",
   "execution_count": 41,
   "metadata": {},
   "outputs": [
    {
     "data": {
      "text/html": [
       "<div>\n",
       "<style scoped>\n",
       "    .dataframe tbody tr th:only-of-type {\n",
       "        vertical-align: middle;\n",
       "    }\n",
       "\n",
       "    .dataframe tbody tr th {\n",
       "        vertical-align: top;\n",
       "    }\n",
       "\n",
       "    .dataframe thead th {\n",
       "        text-align: right;\n",
       "    }\n",
       "</style>\n",
       "<table border=\"1\" class=\"dataframe\">\n",
       "  <thead>\n",
       "    <tr style=\"text-align: right;\">\n",
       "      <th></th>\n",
       "      <th>SalePrice</th>\n",
       "      <th>Dist_From_UoI</th>\n",
       "      <th>GrLivArea</th>\n",
       "      <th>1stFlrSF</th>\n",
       "      <th>2ndFlrSF</th>\n",
       "      <th>TotRmsAbvGrd</th>\n",
       "      <th>BedroomAbvGr</th>\n",
       "      <th>FullBath</th>\n",
       "      <th>HalfBath</th>\n",
       "      <th>MSSubClass_&gt;1-story</th>\n",
       "      <th>...</th>\n",
       "      <th>Neighborhood_SawyerW</th>\n",
       "      <th>Neighborhood_Somerst</th>\n",
       "      <th>Neighborhood_Timber</th>\n",
       "      <th>UnpavedDrive</th>\n",
       "      <th>WoodDeckBinary</th>\n",
       "      <th>HasPorch</th>\n",
       "      <th>FenceBinary</th>\n",
       "      <th>Fireplaces</th>\n",
       "      <th>NoCentralAir</th>\n",
       "      <th>SchD_S</th>\n",
       "    </tr>\n",
       "  </thead>\n",
       "  <tbody>\n",
       "    <tr>\n",
       "      <th>0</th>\n",
       "      <td>179200</td>\n",
       "      <td>3.587525</td>\n",
       "      <td>1294</td>\n",
       "      <td>1294</td>\n",
       "      <td>0</td>\n",
       "      <td>6</td>\n",
       "      <td>3</td>\n",
       "      <td>2</td>\n",
       "      <td>0</td>\n",
       "      <td>0</td>\n",
       "      <td>...</td>\n",
       "      <td>1</td>\n",
       "      <td>0</td>\n",
       "      <td>0</td>\n",
       "      <td>0</td>\n",
       "      <td>1</td>\n",
       "      <td>1</td>\n",
       "      <td>1</td>\n",
       "      <td>0</td>\n",
       "      <td>0</td>\n",
       "      <td>0</td>\n",
       "    </tr>\n",
       "    <tr>\n",
       "      <th>1</th>\n",
       "      <td>115000</td>\n",
       "      <td>3.084359</td>\n",
       "      <td>1540</td>\n",
       "      <td>1040</td>\n",
       "      <td>500</td>\n",
       "      <td>7</td>\n",
       "      <td>4</td>\n",
       "      <td>1</td>\n",
       "      <td>0</td>\n",
       "      <td>1</td>\n",
       "      <td>...</td>\n",
       "      <td>0</td>\n",
       "      <td>0</td>\n",
       "      <td>0</td>\n",
       "      <td>0</td>\n",
       "      <td>0</td>\n",
       "      <td>0</td>\n",
       "      <td>0</td>\n",
       "      <td>0</td>\n",
       "      <td>0</td>\n",
       "      <td>0</td>\n",
       "    </tr>\n",
       "    <tr>\n",
       "      <th>2</th>\n",
       "      <td>110000</td>\n",
       "      <td>2.937397</td>\n",
       "      <td>892</td>\n",
       "      <td>892</td>\n",
       "      <td>0</td>\n",
       "      <td>5</td>\n",
       "      <td>3</td>\n",
       "      <td>1</td>\n",
       "      <td>0</td>\n",
       "      <td>0</td>\n",
       "      <td>...</td>\n",
       "      <td>0</td>\n",
       "      <td>0</td>\n",
       "      <td>0</td>\n",
       "      <td>0</td>\n",
       "      <td>0</td>\n",
       "      <td>0</td>\n",
       "      <td>1</td>\n",
       "      <td>0</td>\n",
       "      <td>0</td>\n",
       "      <td>0</td>\n",
       "    </tr>\n",
       "    <tr>\n",
       "      <th>3</th>\n",
       "      <td>131750</td>\n",
       "      <td>1.868841</td>\n",
       "      <td>960</td>\n",
       "      <td>960</td>\n",
       "      <td>0</td>\n",
       "      <td>4</td>\n",
       "      <td>2</td>\n",
       "      <td>1</td>\n",
       "      <td>0</td>\n",
       "      <td>0</td>\n",
       "      <td>...</td>\n",
       "      <td>0</td>\n",
       "      <td>0</td>\n",
       "      <td>0</td>\n",
       "      <td>0</td>\n",
       "      <td>1</td>\n",
       "      <td>1</td>\n",
       "      <td>0</td>\n",
       "      <td>0</td>\n",
       "      <td>0</td>\n",
       "      <td>0</td>\n",
       "    </tr>\n",
       "    <tr>\n",
       "      <th>4</th>\n",
       "      <td>190000</td>\n",
       "      <td>3.337009</td>\n",
       "      <td>1969</td>\n",
       "      <td>1161</td>\n",
       "      <td>808</td>\n",
       "      <td>8</td>\n",
       "      <td>3</td>\n",
       "      <td>2</td>\n",
       "      <td>1</td>\n",
       "      <td>1</td>\n",
       "      <td>...</td>\n",
       "      <td>0</td>\n",
       "      <td>0</td>\n",
       "      <td>0</td>\n",
       "      <td>0</td>\n",
       "      <td>0</td>\n",
       "      <td>1</td>\n",
       "      <td>0</td>\n",
       "      <td>1</td>\n",
       "      <td>0</td>\n",
       "      <td>0</td>\n",
       "    </tr>\n",
       "  </tbody>\n",
       "</table>\n",
       "<p>5 rows × 102 columns</p>\n",
       "</div>"
      ],
      "text/plain": [
       "   SalePrice  Dist_From_UoI  GrLivArea  1stFlrSF  2ndFlrSF  TotRmsAbvGrd  \\\n",
       "0     179200       3.587525       1294      1294         0             6   \n",
       "1     115000       3.084359       1540      1040       500             7   \n",
       "2     110000       2.937397        892       892         0             5   \n",
       "3     131750       1.868841        960       960         0             4   \n",
       "4     190000       3.337009       1969      1161       808             8   \n",
       "\n",
       "   BedroomAbvGr  FullBath  HalfBath  MSSubClass_>1-story  ...  \\\n",
       "0             3         2         0                    0  ...   \n",
       "1             4         1         0                    1  ...   \n",
       "2             3         1         0                    0  ...   \n",
       "3             2         1         0                    0  ...   \n",
       "4             3         2         1                    1  ...   \n",
       "\n",
       "   Neighborhood_SawyerW  Neighborhood_Somerst  Neighborhood_Timber  \\\n",
       "0                     1                     0                    0   \n",
       "1                     0                     0                    0   \n",
       "2                     0                     0                    0   \n",
       "3                     0                     0                    0   \n",
       "4                     0                     0                    0   \n",
       "\n",
       "   UnpavedDrive  WoodDeckBinary  HasPorch  FenceBinary  Fireplaces  \\\n",
       "0             0               1         1            1           0   \n",
       "1             0               0         0            0           0   \n",
       "2             0               0         0            1           0   \n",
       "3             0               1         1            0           0   \n",
       "4             0               0         1            0           1   \n",
       "\n",
       "   NoCentralAir  SchD_S  \n",
       "0             0       0  \n",
       "1             0       0  \n",
       "2             0       0  \n",
       "3             0       0  \n",
       "4             0       0  \n",
       "\n",
       "[5 rows x 102 columns]"
      ]
     },
     "execution_count": 41,
     "metadata": {},
     "output_type": "execute_result"
    }
   ],
   "source": [
    "data_train.head()"
   ]
  },
  {
   "cell_type": "code",
   "execution_count": 42,
   "metadata": {},
   "outputs": [],
   "source": [
    "#split y col \n",
    "data_testx=data_test.iloc[:,1:]\n",
    "data_testy=data_test.iloc[:,0]\n",
    "data_trainx=data_train.iloc[:,1:]\n",
    "data_trainy=data_train.iloc[:,0]\n",
    "\n"
   ]
  },
  {
   "cell_type": "code",
   "execution_count": 68,
   "metadata": {},
   "outputs": [],
   "source": [
    "#list(data_trainx.columns)"
   ]
  },
  {
   "cell_type": "code",
   "execution_count": 45,
   "metadata": {},
   "outputs": [],
   "source": [
    "#standardize test and train\n",
    "nonbinarycols=['Dist_From_UoI',\n",
    " 'GrLivArea',\n",
    " '1stFlrSF',\n",
    " '2ndFlrSF',\n",
    " 'TotRmsAbvGrd',\n",
    " 'BedroomAbvGr',\n",
    " 'FullBath',\n",
    " 'HalfBath',\n",
    " \n",
    " 'LotArea',\n",
    " 'LndAc_S',\n",
    "\n",
    " 'YearBuilt',\n",
    " 'OverallQual',\n",
    " \n",
    " \n",
    " 'RemodelYrsAftBuilt',\n",
    " \n",
    " 'TotalBsmtSF',\n",
    " 'BsmtUnfSF',\n",
    " \n",
    " 'BsmtHalfBath',\n",
    " 'BsmtFullBath',\n",
    "\n",
    " \n",
    " 'GarageArea',\n",
    " 'GarageCars',\n",
    " \n",
    " 'Fireplaces'\n",
    " ]\n"
   ]
  },
  {
   "cell_type": "code",
   "execution_count": 46,
   "metadata": {},
   "outputs": [],
   "source": [
    "scaler=StandardScaler()\n",
    "scaler.fit(data_trainx[nonbinarycols])\n",
    "data_trainx[nonbinarycols]=scaler.transform(data_trainx[nonbinarycols])\n",
    "scaler.fit(data_testx[nonbinarycols])\n",
    "data_testx[nonbinarycols]=scaler.transform(data_testx[nonbinarycols])"
   ]
  },
  {
   "cell_type": "markdown",
   "metadata": {},
   "source": [
    "## CV Lasso regular data "
   ]
  },
  {
   "cell_type": "code",
   "execution_count": 70,
   "metadata": {},
   "outputs": [
    {
     "name": "stderr",
     "output_type": "stream",
     "text": [
      "/Users/gabbyklein/opt/anaconda3/lib/python3.8/site-packages/sklearn/linear_model/_coordinate_descent.py:525: ConvergenceWarning: Objective did not converge. You might want to increase the number of iterations. Duality gap: 166225283976.1438, tolerance: 573435406.4634724\n",
      "  model = cd_fast.enet_coordinate_descent_gram(\n",
      "/Users/gabbyklein/opt/anaconda3/lib/python3.8/site-packages/sklearn/linear_model/_coordinate_descent.py:525: ConvergenceWarning: Objective did not converge. You might want to increase the number of iterations. Duality gap: 672675901.3337402, tolerance: 552358256.6715727\n",
      "  model = cd_fast.enet_coordinate_descent_gram(\n",
      "/Users/gabbyklein/opt/anaconda3/lib/python3.8/site-packages/sklearn/linear_model/_coordinate_descent.py:525: ConvergenceWarning: Objective did not converge. You might want to increase the number of iterations. Duality gap: 161568838516.81497, tolerance: 552358256.6715727\n",
      "  model = cd_fast.enet_coordinate_descent_gram(\n",
      "/Users/gabbyklein/opt/anaconda3/lib/python3.8/site-packages/sklearn/linear_model/_coordinate_descent.py:525: ConvergenceWarning: Objective did not converge. You might want to increase the number of iterations. Duality gap: 163386743404.12012, tolerance: 605979540.7696\n",
      "  model = cd_fast.enet_coordinate_descent_gram(\n",
      "/Users/gabbyklein/opt/anaconda3/lib/python3.8/site-packages/sklearn/linear_model/_coordinate_descent.py:525: ConvergenceWarning: Objective did not converge. You might want to increase the number of iterations. Duality gap: 169283266189.70123, tolerance: 561557562.1129434\n",
      "  model = cd_fast.enet_coordinate_descent_gram(\n",
      "/Users/gabbyklein/opt/anaconda3/lib/python3.8/site-packages/sklearn/linear_model/_coordinate_descent.py:525: ConvergenceWarning: Objective did not converge. You might want to increase the number of iterations. Duality gap: 161796639087.1676, tolerance: 577813035.7442329\n",
      "  model = cd_fast.enet_coordinate_descent_gram(\n"
     ]
    },
    {
     "name": "stdout",
     "output_type": "stream",
     "text": [
      "The selected alpha was 20.0 which gave r^2 of \n",
      "[0.93639875 0.92913005 0.898829   0.93872975 0.91795361]\n"
     ]
    },
    {
     "name": "stderr",
     "output_type": "stream",
     "text": [
      "/Users/gabbyklein/opt/anaconda3/lib/python3.8/site-packages/sklearn/linear_model/_coordinate_descent.py:529: ConvergenceWarning: Objective did not converge. You might want to increase the number of iterations. Duality gap: 672675901.5693359, tolerance: 552358256.6715727\n",
      "  model = cd_fast.enet_coordinate_descent(\n"
     ]
    }
   ],
   "source": [
    "#CV LASSO FOR REG DATA\n",
    "cvlasso=LassoCV( alphas=np.linspace(.0000001,20,1000), fit_intercept=True, normalize=False,cv=5)\n",
    "cvlasso.fit(data_trainx,data_trainy)\n",
    "\n",
    "lasso=Lasso(alpha=cvlasso.alpha_, fit_intercept=True, normalize=False)\n",
    "\n",
    "print(f'The selected alpha was {cvlasso.alpha_} which gave r^2 of ')\n",
    "print(cross_val_score(lasso, data_trainx,data_trainy,  scoring='r2'))\n",
    "\n",
    "stdev = np.sqrt(sum((cvlasso.predict(data_trainx) - data_trainy)**2) / (len(data_trainy) - 2))\n",
    "#prediction - 1.96*stdev, prediction + 1.96*stdev\n",
    "#feel these are inflated bc alpha is trained on some of the later validating points"
   ]
  },
  {
   "cell_type": "code",
   "execution_count": 71,
   "metadata": {},
   "outputs": [
    {
     "data": {
      "text/plain": [
       "0.9306900169338181"
      ]
     },
     "execution_count": 71,
     "metadata": {},
     "output_type": "execute_result"
    }
   ],
   "source": [
    "#actual test error \n",
    "cvlasso.score(data_testx,data_testy)"
   ]
  },
  {
   "cell_type": "code",
   "execution_count": 72,
   "metadata": {},
   "outputs": [],
   "source": [
    "#find mse for predictions in the .9-1.1 times the predicted price range\n",
    "\n",
    "def mseprediction(pred, allpredictions, data_trainy):\n",
    "    try:\n",
    "        return mean_squared_error(data_trainy[(allpredictions<=pred*1.1) & (allpredictions>=pred*.9)],allpredictions[(allpredictions<=pred*1.1) & (allpredictions>=pred*.9)])**.5\n",
    "    except:\n",
    "        try:\n",
    "            return mean_squared_error(data_trainy[(allpredictions<=pred*1.2) & (allpredictions>=pred*.8)],allpredictions[(allpredictions<=pred*1.1) & (allpredictions>=pred*.9)])**.5\n",
    "        except:\n",
    "            return 0\n"
   ]
  },
  {
   "cell_type": "code",
   "execution_count": 73,
   "metadata": {},
   "outputs": [],
   "source": [
    "#assuming constant variance of ys \n",
    "\n",
    "predictiondf=pd.DataFrame({'Prediction': cvlasso.predict(data_testx), 'Lower Bound 95%CI': cvlasso.predict(data_testx)- 1.96*stdev,'Upper Bound 95%CI':cvlasso.predict(data_testx)+ 1.96*stdev})\n",
    "actualpredictions=cvlasso.predict(data_trainx)\n",
    "# finding avrg mse for prediction in +-10% price range\n",
    "avrgmseperpredict=predictiondf.Prediction.apply(lambda x: mseprediction(x, actualpredictions, data_trainy))\n"
   ]
  },
  {
   "cell_type": "code",
   "execution_count": 74,
   "metadata": {},
   "outputs": [
    {
     "data": {
      "text/html": [
       "<div>\n",
       "<style scoped>\n",
       "    .dataframe tbody tr th:only-of-type {\n",
       "        vertical-align: middle;\n",
       "    }\n",
       "\n",
       "    .dataframe tbody tr th {\n",
       "        vertical-align: top;\n",
       "    }\n",
       "\n",
       "    .dataframe thead th {\n",
       "        text-align: right;\n",
       "    }\n",
       "</style>\n",
       "<table border=\"1\" class=\"dataframe\">\n",
       "  <thead>\n",
       "    <tr style=\"text-align: right;\">\n",
       "      <th></th>\n",
       "      <th>Prediction</th>\n",
       "      <th>Lower Bound Avrg MSE</th>\n",
       "      <th>Upper Bound Avrg MSE</th>\n",
       "      <th>Lower Bound 95%CI</th>\n",
       "      <th>Upper Bound 95%CI</th>\n",
       "    </tr>\n",
       "  </thead>\n",
       "  <tbody>\n",
       "    <tr>\n",
       "      <th>0</th>\n",
       "      <td>226042.984671</td>\n",
       "      <td>206402.351431</td>\n",
       "      <td>245683.617912</td>\n",
       "      <td>192649.506551</td>\n",
       "      <td>259436.462792</td>\n",
       "    </tr>\n",
       "    <tr>\n",
       "      <th>1</th>\n",
       "      <td>211155.501928</td>\n",
       "      <td>192780.208793</td>\n",
       "      <td>229530.795062</td>\n",
       "      <td>177762.023807</td>\n",
       "      <td>244548.980048</td>\n",
       "    </tr>\n",
       "    <tr>\n",
       "      <th>2</th>\n",
       "      <td>345734.837276</td>\n",
       "      <td>321007.491612</td>\n",
       "      <td>370462.182941</td>\n",
       "      <td>312341.359156</td>\n",
       "      <td>379128.315397</td>\n",
       "    </tr>\n",
       "    <tr>\n",
       "      <th>3</th>\n",
       "      <td>170381.961686</td>\n",
       "      <td>155973.285248</td>\n",
       "      <td>184790.638125</td>\n",
       "      <td>136988.483566</td>\n",
       "      <td>203775.439807</td>\n",
       "    </tr>\n",
       "    <tr>\n",
       "      <th>4</th>\n",
       "      <td>164003.968057</td>\n",
       "      <td>149357.540583</td>\n",
       "      <td>178650.395530</td>\n",
       "      <td>130610.489936</td>\n",
       "      <td>197397.446177</td>\n",
       "    </tr>\n",
       "    <tr>\n",
       "      <th>...</th>\n",
       "      <td>...</td>\n",
       "      <td>...</td>\n",
       "      <td>...</td>\n",
       "      <td>...</td>\n",
       "      <td>...</td>\n",
       "    </tr>\n",
       "    <tr>\n",
       "      <th>728</th>\n",
       "      <td>122518.856497</td>\n",
       "      <td>110800.692735</td>\n",
       "      <td>134237.020259</td>\n",
       "      <td>89125.378377</td>\n",
       "      <td>155912.334618</td>\n",
       "    </tr>\n",
       "    <tr>\n",
       "      <th>729</th>\n",
       "      <td>149648.551741</td>\n",
       "      <td>136368.070528</td>\n",
       "      <td>162929.032954</td>\n",
       "      <td>116255.073620</td>\n",
       "      <td>183042.029862</td>\n",
       "    </tr>\n",
       "    <tr>\n",
       "      <th>730</th>\n",
       "      <td>105410.061557</td>\n",
       "      <td>93802.696184</td>\n",
       "      <td>117017.426931</td>\n",
       "      <td>72016.583437</td>\n",
       "      <td>138803.539678</td>\n",
       "    </tr>\n",
       "    <tr>\n",
       "      <th>731</th>\n",
       "      <td>103810.084497</td>\n",
       "      <td>91878.949896</td>\n",
       "      <td>115741.219098</td>\n",
       "      <td>70416.606376</td>\n",
       "      <td>137203.562617</td>\n",
       "    </tr>\n",
       "    <tr>\n",
       "      <th>732</th>\n",
       "      <td>119746.695904</td>\n",
       "      <td>107308.334764</td>\n",
       "      <td>132185.057043</td>\n",
       "      <td>86353.217783</td>\n",
       "      <td>153140.174024</td>\n",
       "    </tr>\n",
       "  </tbody>\n",
       "</table>\n",
       "<p>733 rows × 5 columns</p>\n",
       "</div>"
      ],
      "text/plain": [
       "        Prediction  Lower Bound Avrg MSE  Upper Bound Avrg MSE  \\\n",
       "0    226042.984671         206402.351431         245683.617912   \n",
       "1    211155.501928         192780.208793         229530.795062   \n",
       "2    345734.837276         321007.491612         370462.182941   \n",
       "3    170381.961686         155973.285248         184790.638125   \n",
       "4    164003.968057         149357.540583         178650.395530   \n",
       "..             ...                   ...                   ...   \n",
       "728  122518.856497         110800.692735         134237.020259   \n",
       "729  149648.551741         136368.070528         162929.032954   \n",
       "730  105410.061557          93802.696184         117017.426931   \n",
       "731  103810.084497          91878.949896         115741.219098   \n",
       "732  119746.695904         107308.334764         132185.057043   \n",
       "\n",
       "     Lower Bound 95%CI  Upper Bound 95%CI  \n",
       "0        192649.506551      259436.462792  \n",
       "1        177762.023807      244548.980048  \n",
       "2        312341.359156      379128.315397  \n",
       "3        136988.483566      203775.439807  \n",
       "4        130610.489936      197397.446177  \n",
       "..                 ...                ...  \n",
       "728       89125.378377      155912.334618  \n",
       "729      116255.073620      183042.029862  \n",
       "730       72016.583437      138803.539678  \n",
       "731       70416.606376      137203.562617  \n",
       "732       86353.217783      153140.174024  \n",
       "\n",
       "[733 rows x 5 columns]"
      ]
     },
     "execution_count": 74,
     "metadata": {},
     "output_type": "execute_result"
    }
   ],
   "source": [
    "predictiondf=pd.DataFrame({'Prediction': cvlasso.predict(data_testx),'Lower Bound Avrg MSE':-avrgmseperpredict+ cvlasso.predict(data_testx),'Upper Bound Avrg MSE':avrgmseperpredict+ cvlasso.predict(data_testx),'Lower Bound 95%CI': cvlasso.predict(data_testx)- 1.96*stdev,'Upper Bound 95%CI':cvlasso.predict(data_testx)+ 1.96*stdev})\n",
    "predictiondf\n",
    "\n",
    "\n"
   ]
  },
  {
   "cell_type": "code",
   "execution_count": 52,
   "metadata": {},
   "outputs": [],
   "source": [
    "#get that df with prediction and ci for one instance\n",
    "def makeaprediction(xvars,model,data_trainx,data_trainy):\n",
    "    stdev=np.sqrt(sum((model.predict(data_trainx) - data_trainy)**2) / (len(data_trainy) - 2))\n",
    "    actualpredictions=model.predict(data_trainx)\n",
    "    avrgmseperpredict=mseprediction(model.predict(xvars), actualpredictions, data_trainy)\n",
    "    return pd.DataFrame({'Prediction': model.predict(xvars),'Lower Bound Avrg MSE':-avrgmseperpredict+ model.predict(xvars),'Upper Bound Avrg MSE':avrgmseperpredict+ model.predict(xvars),'Lower Bound 95%CI': model.predict(xvars)- 1.96*stdev,'Upper Bound 95%CI':model.predict(xvars)+ 1.96*stdev})\n",
    "\n"
   ]
  },
  {
   "cell_type": "code",
   "execution_count": 53,
   "metadata": {},
   "outputs": [
    {
     "data": {
      "text/html": [
       "<div>\n",
       "<style scoped>\n",
       "    .dataframe tbody tr th:only-of-type {\n",
       "        vertical-align: middle;\n",
       "    }\n",
       "\n",
       "    .dataframe tbody tr th {\n",
       "        vertical-align: top;\n",
       "    }\n",
       "\n",
       "    .dataframe thead th {\n",
       "        text-align: right;\n",
       "    }\n",
       "</style>\n",
       "<table border=\"1\" class=\"dataframe\">\n",
       "  <thead>\n",
       "    <tr style=\"text-align: right;\">\n",
       "      <th></th>\n",
       "      <th>Prediction</th>\n",
       "      <th>Lower Bound Avrg MSE</th>\n",
       "      <th>Upper Bound Avrg MSE</th>\n",
       "      <th>Lower Bound 95%CI</th>\n",
       "      <th>Upper Bound 95%CI</th>\n",
       "    </tr>\n",
       "  </thead>\n",
       "  <tbody>\n",
       "    <tr>\n",
       "      <th>0</th>\n",
       "      <td>226042.984671</td>\n",
       "      <td>206402.351431</td>\n",
       "      <td>245683.617912</td>\n",
       "      <td>192649.506551</td>\n",
       "      <td>259436.462792</td>\n",
       "    </tr>\n",
       "  </tbody>\n",
       "</table>\n",
       "</div>"
      ],
      "text/plain": [
       "      Prediction  Lower Bound Avrg MSE  Upper Bound Avrg MSE  \\\n",
       "0  226042.984671         206402.351431         245683.617912   \n",
       "\n",
       "   Lower Bound 95%CI  Upper Bound 95%CI  \n",
       "0      192649.506551      259436.462792  "
      ]
     },
     "execution_count": 53,
     "metadata": {},
     "output_type": "execute_result"
    }
   ],
   "source": [
    "reshapexinputs=pd.DataFrame([data_testx.loc[0,:]],columns=data_trainx.columns)\n",
    "makeaprediction(reshapexinputs,cvlasso,data_trainx,data_trainy)"
   ]
  },
  {
   "cell_type": "code",
   "execution_count": 54,
   "metadata": {},
   "outputs": [
    {
     "data": {
      "text/html": [
       "<div>\n",
       "<style scoped>\n",
       "    .dataframe tbody tr th:only-of-type {\n",
       "        vertical-align: middle;\n",
       "    }\n",
       "\n",
       "    .dataframe tbody tr th {\n",
       "        vertical-align: top;\n",
       "    }\n",
       "\n",
       "    .dataframe thead th {\n",
       "        text-align: right;\n",
       "    }\n",
       "</style>\n",
       "<table border=\"1\" class=\"dataframe\">\n",
       "  <thead>\n",
       "    <tr style=\"text-align: right;\">\n",
       "      <th></th>\n",
       "      <th>Attr</th>\n",
       "      <th>Coef</th>\n",
       "    </tr>\n",
       "  </thead>\n",
       "  <tbody>\n",
       "    <tr>\n",
       "      <th>0</th>\n",
       "      <td>Dist_From_UoI</td>\n",
       "      <td>1053.660311</td>\n",
       "    </tr>\n",
       "    <tr>\n",
       "      <th>1</th>\n",
       "      <td>GrLivArea</td>\n",
       "      <td>7972.249374</td>\n",
       "    </tr>\n",
       "    <tr>\n",
       "      <th>2</th>\n",
       "      <td>1stFlrSF</td>\n",
       "      <td>6065.822877</td>\n",
       "    </tr>\n",
       "    <tr>\n",
       "      <th>3</th>\n",
       "      <td>2ndFlrSF</td>\n",
       "      <td>10003.102815</td>\n",
       "    </tr>\n",
       "    <tr>\n",
       "      <th>4</th>\n",
       "      <td>TotRmsAbvGrd</td>\n",
       "      <td>-1012.118709</td>\n",
       "    </tr>\n",
       "    <tr>\n",
       "      <th>...</th>\n",
       "      <td>...</td>\n",
       "      <td>...</td>\n",
       "    </tr>\n",
       "    <tr>\n",
       "      <th>95</th>\n",
       "      <td>WoodDeckBinary</td>\n",
       "      <td>-1487.681599</td>\n",
       "    </tr>\n",
       "    <tr>\n",
       "      <th>96</th>\n",
       "      <td>HasPorch</td>\n",
       "      <td>-1953.041294</td>\n",
       "    </tr>\n",
       "    <tr>\n",
       "      <th>97</th>\n",
       "      <td>FenceBinary</td>\n",
       "      <td>1200.918027</td>\n",
       "    </tr>\n",
       "    <tr>\n",
       "      <th>98</th>\n",
       "      <td>Fireplaces</td>\n",
       "      <td>2364.888971</td>\n",
       "    </tr>\n",
       "    <tr>\n",
       "      <th>100</th>\n",
       "      <td>SchD_S</td>\n",
       "      <td>3711.514438</td>\n",
       "    </tr>\n",
       "  </tbody>\n",
       "</table>\n",
       "<p>92 rows × 2 columns</p>\n",
       "</div>"
      ],
      "text/plain": [
       "               Attr          Coef\n",
       "0     Dist_From_UoI   1053.660311\n",
       "1         GrLivArea   7972.249374\n",
       "2          1stFlrSF   6065.822877\n",
       "3          2ndFlrSF  10003.102815\n",
       "4      TotRmsAbvGrd  -1012.118709\n",
       "..              ...           ...\n",
       "95   WoodDeckBinary  -1487.681599\n",
       "96         HasPorch  -1953.041294\n",
       "97      FenceBinary   1200.918027\n",
       "98       Fireplaces   2364.888971\n",
       "100          SchD_S   3711.514438\n",
       "\n",
       "[92 rows x 2 columns]"
      ]
     },
     "execution_count": 54,
     "metadata": {},
     "output_type": "execute_result"
    }
   ],
   "source": [
    "results=pd.DataFrame({'Attr':data_trainx.columns,'Coef':cvlasso.coef_})\n",
    "results[results.Coef!=0].sort_values(by=['Coef'],key=abs)\n",
    "Nonzerocoefs=results[results.Coef!=0].Attr\n",
    "results[results.Coef!=0]"
   ]
  },
  {
   "cell_type": "code",
   "execution_count": 55,
   "metadata": {},
   "outputs": [],
   "source": [
    "# csv of SalePrice lasso selected cols\n",
    "data_trainx[Nonzerocoefs].to_csv(r'Lasso_Selected_Cols_TRAIN.csv', index=False)\n",
    "data_testx[Nonzerocoefs].to_csv(r'Lasso_Selected_Cols_TEST.csv', index=False)"
   ]
  },
  {
   "cell_type": "code",
   "execution_count": 56,
   "metadata": {},
   "outputs": [
    {
     "data": {
      "text/plain": [
       "Text(0.5, 0, 'Actual')"
      ]
     },
     "execution_count": 56,
     "metadata": {},
     "output_type": "execute_result"
    },
    {
     "data": {
      "image/png": "[encoded data removed]",
      "text/plain": [
       "<Figure size 432x288 with 1 Axes>"
      ]
     },
     "metadata": {
      "needs_background": "light"
     },
     "output_type": "display_data"
    }
   ],
   "source": [
    "plt.scatter(data_trainy,cvlasso.predict(data_trainx) )\n",
    "plt.title('Yactual vs Ypred')\n",
    "plt.ylabel('Predicted')\n",
    "plt.xlabel('Actual')"
   ]
  },
  {
   "cell_type": "markdown",
   "metadata": {},
   "source": [
    "## Do it again on Log(SalePrice)"
   ]
  },
  {
   "cell_type": "code",
   "execution_count": 57,
   "metadata": {},
   "outputs": [],
   "source": [
    "# create copy of train/test \n",
    "log_data_train = data_train.copy()\n",
    "log_data_test = data_test.copy()"
   ]
  },
  {
   "cell_type": "code",
   "execution_count": 58,
   "metadata": {},
   "outputs": [],
   "source": [
    "# log SalePrice and drop original column in test and train\n",
    "\n",
    "log_data_train['log_SalePrice'] = np.log(log_data_train['SalePrice'])\n",
    "log_data_train = log_data_train.drop(['SalePrice'], axis=1)\n",
    "log_first_column = log_data_train.pop('log_SalePrice')\n",
    "log_data_train.insert(0, 'log_SalePrice', log_first_column)\n",
    "\n",
    "log_data_test['log_SalePrice'] = np.log(log_data_test['SalePrice'])\n",
    "log_data_test = log_data_test.drop(['SalePrice'], axis=1)\n",
    "log_first_columnt = log_data_test.pop('log_SalePrice')\n",
    "log_data_test.insert(0, 'log_SalePrice', log_first_columnt)"
   ]
  },
  {
   "cell_type": "code",
   "execution_count": 59,
   "metadata": {},
   "outputs": [],
   "source": [
    "log_data_testx=data_testx.copy()\n",
    "log_data_testy=log_data_test.iloc[:,0]\n",
    "log_data_trainx=data_trainx.copy()\n",
    "log_data_trainy=log_data_train.iloc[:,0]"
   ]
  },
  {
   "cell_type": "code",
   "execution_count": 60,
   "metadata": {},
   "outputs": [],
   "source": [
    "scaler.fit(log_data_trainx[nonbinarycols])\n",
    "log_data_trainx[nonbinarycols]=scaler.transform(log_data_trainx[nonbinarycols])\n",
    "scaler.fit(log_data_testx[nonbinarycols])\n",
    "log_data_testx[nonbinarycols]=scaler.transform(log_data_testx[nonbinarycols])"
   ]
  },
  {
   "cell_type": "code",
   "execution_count": 61,
   "metadata": {},
   "outputs": [
    {
     "name": "stderr",
     "output_type": "stream",
     "text": [
      "/Users/gabbyklein/opt/anaconda3/lib/python3.8/site-packages/sklearn/linear_model/_coordinate_descent.py:525: ConvergenceWarning: Objective did not converge. You might want to increase the number of iterations. Duality gap: 4.441545918506496, tolerance: 0.015444101267082318\n",
      "  model = cd_fast.enet_coordinate_descent_gram(\n",
      "/Users/gabbyklein/opt/anaconda3/lib/python3.8/site-packages/sklearn/linear_model/_coordinate_descent.py:525: ConvergenceWarning: Objective did not converge. You might want to increase the number of iterations. Duality gap: 4.926946582216556, tolerance: 0.015357777410073806\n",
      "  model = cd_fast.enet_coordinate_descent_gram(\n",
      "/Users/gabbyklein/opt/anaconda3/lib/python3.8/site-packages/sklearn/linear_model/_coordinate_descent.py:525: ConvergenceWarning: Objective did not converge. You might want to increase the number of iterations. Duality gap: 4.511471473172417, tolerance: 0.015827686153756786\n",
      "  model = cd_fast.enet_coordinate_descent_gram(\n",
      "/Users/gabbyklein/opt/anaconda3/lib/python3.8/site-packages/sklearn/linear_model/_coordinate_descent.py:525: ConvergenceWarning: Objective did not converge. You might want to increase the number of iterations. Duality gap: 4.753718472038692, tolerance: 0.014919602202474937\n",
      "  model = cd_fast.enet_coordinate_descent_gram(\n",
      "/Users/gabbyklein/opt/anaconda3/lib/python3.8/site-packages/sklearn/linear_model/_coordinate_descent.py:525: ConvergenceWarning: Objective did not converge. You might want to increase the number of iterations. Duality gap: 4.4862646424465025, tolerance: 0.015136913983794853\n",
      "  model = cd_fast.enet_coordinate_descent_gram(\n",
      "/Users/gabbyklein/opt/anaconda3/lib/python3.8/site-packages/sklearn/linear_model/_coordinate_descent.py:529: ConvergenceWarning: Objective did not converge. You might want to increase the number of iterations. Duality gap: 5.922250018929137, tolerance: 0.019177335231592867\n",
      "  model = cd_fast.enet_coordinate_descent(\n",
      "/Users/gabbyklein/opt/anaconda3/lib/python3.8/site-packages/sklearn/linear_model/_coordinate_descent.py:529: ConvergenceWarning: Objective did not converge. You might want to increase the number of iterations. Duality gap: 4.4415458856023395, tolerance: 0.015444101267082318\n",
      "  model = cd_fast.enet_coordinate_descent(\n",
      "/Users/gabbyklein/opt/anaconda3/lib/python3.8/site-packages/sklearn/linear_model/_coordinate_descent.py:529: ConvergenceWarning: Objective did not converge. You might want to increase the number of iterations. Duality gap: 4.926946086195935, tolerance: 0.015357777410073806\n",
      "  model = cd_fast.enet_coordinate_descent(\n"
     ]
    },
    {
     "name": "stdout",
     "output_type": "stream",
     "text": [
      "The selected alpha was 1e-14 which gave r^2 of \n",
      "[0.91097016 0.94017345 0.90441913 0.93573005 0.92151743]\n"
     ]
    },
    {
     "name": "stderr",
     "output_type": "stream",
     "text": [
      "/Users/gabbyklein/opt/anaconda3/lib/python3.8/site-packages/sklearn/linear_model/_coordinate_descent.py:529: ConvergenceWarning: Objective did not converge. You might want to increase the number of iterations. Duality gap: 4.511471462836842, tolerance: 0.015827686153756786\n",
      "  model = cd_fast.enet_coordinate_descent(\n",
      "/Users/gabbyklein/opt/anaconda3/lib/python3.8/site-packages/sklearn/linear_model/_coordinate_descent.py:529: ConvergenceWarning: Objective did not converge. You might want to increase the number of iterations. Duality gap: 4.75371843541089, tolerance: 0.014919602202474937\n",
      "  model = cd_fast.enet_coordinate_descent(\n",
      "/Users/gabbyklein/opt/anaconda3/lib/python3.8/site-packages/sklearn/linear_model/_coordinate_descent.py:529: ConvergenceWarning: Objective did not converge. You might want to increase the number of iterations. Duality gap: 4.486264623424668, tolerance: 0.015136913983794853\n",
      "  model = cd_fast.enet_coordinate_descent(\n"
     ]
    }
   ],
   "source": [
    "#CV LASSO FOR LOG DATA\n",
    "cvlasso=LassoCV( alphas=np.linspace(.00000000000001,5,1000), fit_intercept=True, normalize=False,cv=5)\n",
    "cvlasso.fit(log_data_trainx,log_data_trainy)\n",
    "\n",
    "lasso=Lasso(alpha=cvlasso.alpha_, fit_intercept=True, normalize=False)\n",
    "print(f'The selected alpha was {cvlasso.alpha_} which gave r^2 of ')\n",
    "print(cross_val_score(lasso, log_data_trainx,log_data_trainy,  scoring='r2'))\n",
    "\n",
    "stdev = np.sqrt(sum((cvlasso.predict(log_data_trainx) - log_data_trainy)**2) / (len(log_data_trainy) - 2))\n",
    "#prediction - 1.96*stdev, prediction + 1.96*stdev\n",
    "#feel these are inflated bc alpha is trained on some of the later validating points"
   ]
  },
  {
   "cell_type": "code",
   "execution_count": 62,
   "metadata": {},
   "outputs": [
    {
     "data": {
      "text/plain": [
       "0.9278727537467196"
      ]
     },
     "execution_count": 62,
     "metadata": {},
     "output_type": "execute_result"
    }
   ],
   "source": [
    "#actual test error \n",
    "cvlasso.score(log_data_testx,log_data_testy)"
   ]
  },
  {
   "cell_type": "code",
   "execution_count": 63,
   "metadata": {},
   "outputs": [
    {
     "data": {
      "text/html": [
       "<div>\n",
       "<style scoped>\n",
       "    .dataframe tbody tr th:only-of-type {\n",
       "        vertical-align: middle;\n",
       "    }\n",
       "\n",
       "    .dataframe tbody tr th {\n",
       "        vertical-align: top;\n",
       "    }\n",
       "\n",
       "    .dataframe thead th {\n",
       "        text-align: right;\n",
       "    }\n",
       "</style>\n",
       "<table border=\"1\" class=\"dataframe\">\n",
       "  <thead>\n",
       "    <tr style=\"text-align: right;\">\n",
       "      <th></th>\n",
       "      <th>Attr</th>\n",
       "      <th>Coef</th>\n",
       "    </tr>\n",
       "  </thead>\n",
       "  <tbody>\n",
       "    <tr>\n",
       "      <th>0</th>\n",
       "      <td>Dist_From_UoI</td>\n",
       "      <td>-0.017250</td>\n",
       "    </tr>\n",
       "    <tr>\n",
       "      <th>1</th>\n",
       "      <td>GrLivArea</td>\n",
       "      <td>0.053919</td>\n",
       "    </tr>\n",
       "    <tr>\n",
       "      <th>2</th>\n",
       "      <td>1stFlrSF</td>\n",
       "      <td>0.040042</td>\n",
       "    </tr>\n",
       "    <tr>\n",
       "      <th>3</th>\n",
       "      <td>2ndFlrSF</td>\n",
       "      <td>0.056711</td>\n",
       "    </tr>\n",
       "    <tr>\n",
       "      <th>4</th>\n",
       "      <td>TotRmsAbvGrd</td>\n",
       "      <td>-0.006007</td>\n",
       "    </tr>\n",
       "    <tr>\n",
       "      <th>...</th>\n",
       "      <td>...</td>\n",
       "      <td>...</td>\n",
       "    </tr>\n",
       "    <tr>\n",
       "      <th>96</th>\n",
       "      <td>HasPorch</td>\n",
       "      <td>0.002760</td>\n",
       "    </tr>\n",
       "    <tr>\n",
       "      <th>97</th>\n",
       "      <td>FenceBinary</td>\n",
       "      <td>0.004997</td>\n",
       "    </tr>\n",
       "    <tr>\n",
       "      <th>98</th>\n",
       "      <td>Fireplaces</td>\n",
       "      <td>0.009961</td>\n",
       "    </tr>\n",
       "    <tr>\n",
       "      <th>99</th>\n",
       "      <td>NoCentralAir</td>\n",
       "      <td>-0.054246</td>\n",
       "    </tr>\n",
       "    <tr>\n",
       "      <th>100</th>\n",
       "      <td>SchD_S</td>\n",
       "      <td>0.056223</td>\n",
       "    </tr>\n",
       "  </tbody>\n",
       "</table>\n",
       "<p>101 rows × 2 columns</p>\n",
       "</div>"
      ],
      "text/plain": [
       "              Attr      Coef\n",
       "0    Dist_From_UoI -0.017250\n",
       "1        GrLivArea  0.053919\n",
       "2         1stFlrSF  0.040042\n",
       "3         2ndFlrSF  0.056711\n",
       "4     TotRmsAbvGrd -0.006007\n",
       "..             ...       ...\n",
       "96        HasPorch  0.002760\n",
       "97     FenceBinary  0.004997\n",
       "98      Fireplaces  0.009961\n",
       "99    NoCentralAir -0.054246\n",
       "100         SchD_S  0.056223\n",
       "\n",
       "[101 rows x 2 columns]"
      ]
     },
     "execution_count": 63,
     "metadata": {},
     "output_type": "execute_result"
    }
   ],
   "source": [
    "results=pd.DataFrame({'Attr':log_data_trainx.columns,'Coef':cvlasso.coef_})\n",
    "results[results.Coef!=0].sort_values(by=['Coef'],key=abs)\n",
    "Nonzerocoefs=results[results.Coef!=0].Attr\n",
    "results[results.Coef!=0]"
   ]
  },
  {
   "cell_type": "code",
   "execution_count": 64,
   "metadata": {},
   "outputs": [],
   "source": [
    "# csv of SalePrice log_lasso selected cols\n",
    "log_data_trainx[Nonzerocoefs].to_csv(r'log_Lasso_Selected_Cols_TRAIN.csv', index=False)\n",
    "log_data_testx[Nonzerocoefs].to_csv(r'log_Lasso_Selected_Cols_TEST.csv', index=False)"
   ]
  },
  {
   "cell_type": "code",
   "execution_count": 65,
   "metadata": {},
   "outputs": [
    {
     "data": {
      "text/plain": [
       "Text(0.5, 0, 'Actual')"
      ]
     },
     "execution_count": 65,
     "metadata": {},
     "output_type": "execute_result"
    },
    {
     "data": {
      "image/png": "[encoded data removed]",
      "text/plain": [
       "<Figure size 432x288 with 1 Axes>"
      ]
     },
     "metadata": {
      "needs_background": "light"
     },
     "output_type": "display_data"
    }
   ],
   "source": [
    "plt.scatter(log_data_trainy,cvlasso.predict(log_data_trainx) )\n",
    "\n",
    "plt.title('Yactual vs Ypred')\n",
    "plt.ylabel('Predicted')\n",
    "plt.xlabel('Actual')"
   ]
  },
  {
   "cell_type": "code",
   "execution_count": 66,
   "metadata": {},
   "outputs": [],
   "source": [
    "stdev = np.sqrt(sum((cvlasso.predict(log_data_trainx) - log_data_trainy)**2) / (len(log_data_trainy) - 2))\n",
    "predictiondf=pd.DataFrame({'Prediction': cvlasso.predict(log_data_testx), 'Lower Bound 95%CI': cvlasso.predict(log_data_testx)- 1.96*stdev,'Upper Bound 95%CI':cvlasso.predict(log_data_testx)+ 1.96*stdev})\n",
    "\n",
    "actualpredictions=cvlasso.predict(log_data_trainx)\n",
    "# finding avrg mse for prediction in +-10% price range\n",
    "avrgmseperpredict=predictiondf.Prediction.apply(lambda x: mseprediction(x, actualpredictions, log_data_trainy))\n",
    "\n"
   ]
  },
  {
   "cell_type": "code",
   "execution_count": 67,
   "metadata": {},
   "outputs": [
    {
     "data": {
      "text/html": [
       "<div>\n",
       "<style scoped>\n",
       "    .dataframe tbody tr th:only-of-type {\n",
       "        vertical-align: middle;\n",
       "    }\n",
       "\n",
       "    .dataframe tbody tr th {\n",
       "        vertical-align: top;\n",
       "    }\n",
       "\n",
       "    .dataframe thead th {\n",
       "        text-align: right;\n",
       "    }\n",
       "</style>\n",
       "<table border=\"1\" class=\"dataframe\">\n",
       "  <thead>\n",
       "    <tr style=\"text-align: right;\">\n",
       "      <th></th>\n",
       "      <th>Prediction</th>\n",
       "      <th>Lower Bound Avrg MSE</th>\n",
       "      <th>Upper Bound Avrg MSE</th>\n",
       "      <th>Lower Bound 95%CI</th>\n",
       "      <th>Upper Bound 95%CI</th>\n",
       "    </tr>\n",
       "  </thead>\n",
       "  <tbody>\n",
       "    <tr>\n",
       "      <th>0</th>\n",
       "      <td>12.316095</td>\n",
       "      <td>12.226807</td>\n",
       "      <td>12.405384</td>\n",
       "      <td>12.140990</td>\n",
       "      <td>12.491200</td>\n",
       "    </tr>\n",
       "    <tr>\n",
       "      <th>1</th>\n",
       "      <td>12.119969</td>\n",
       "      <td>12.030666</td>\n",
       "      <td>12.209273</td>\n",
       "      <td>11.944865</td>\n",
       "      <td>12.295074</td>\n",
       "    </tr>\n",
       "    <tr>\n",
       "      <th>2</th>\n",
       "      <td>12.865489</td>\n",
       "      <td>12.779680</td>\n",
       "      <td>12.951298</td>\n",
       "      <td>12.690384</td>\n",
       "      <td>13.040593</td>\n",
       "    </tr>\n",
       "    <tr>\n",
       "      <th>3</th>\n",
       "      <td>12.071953</td>\n",
       "      <td>11.982650</td>\n",
       "      <td>12.161257</td>\n",
       "      <td>11.896849</td>\n",
       "      <td>12.247058</td>\n",
       "    </tr>\n",
       "    <tr>\n",
       "      <th>4</th>\n",
       "      <td>12.009416</td>\n",
       "      <td>11.920094</td>\n",
       "      <td>12.098738</td>\n",
       "      <td>11.834311</td>\n",
       "      <td>12.184520</td>\n",
       "    </tr>\n",
       "    <tr>\n",
       "      <th>...</th>\n",
       "      <td>...</td>\n",
       "      <td>...</td>\n",
       "      <td>...</td>\n",
       "      <td>...</td>\n",
       "      <td>...</td>\n",
       "    </tr>\n",
       "    <tr>\n",
       "      <th>728</th>\n",
       "      <td>11.760377</td>\n",
       "      <td>11.671031</td>\n",
       "      <td>11.849724</td>\n",
       "      <td>11.585273</td>\n",
       "      <td>11.935482</td>\n",
       "    </tr>\n",
       "    <tr>\n",
       "      <th>729</th>\n",
       "      <td>11.878997</td>\n",
       "      <td>11.789697</td>\n",
       "      <td>11.968298</td>\n",
       "      <td>11.703893</td>\n",
       "      <td>12.054102</td>\n",
       "    </tr>\n",
       "    <tr>\n",
       "      <th>730</th>\n",
       "      <td>11.534551</td>\n",
       "      <td>11.444890</td>\n",
       "      <td>11.624211</td>\n",
       "      <td>11.359446</td>\n",
       "      <td>11.709655</td>\n",
       "    </tr>\n",
       "    <tr>\n",
       "      <th>731</th>\n",
       "      <td>11.571811</td>\n",
       "      <td>11.482209</td>\n",
       "      <td>11.661413</td>\n",
       "      <td>11.396707</td>\n",
       "      <td>11.746916</td>\n",
       "    </tr>\n",
       "    <tr>\n",
       "      <th>732</th>\n",
       "      <td>11.747970</td>\n",
       "      <td>11.658597</td>\n",
       "      <td>11.837344</td>\n",
       "      <td>11.572866</td>\n",
       "      <td>11.923075</td>\n",
       "    </tr>\n",
       "  </tbody>\n",
       "</table>\n",
       "<p>733 rows × 5 columns</p>\n",
       "</div>"
      ],
      "text/plain": [
       "     Prediction  Lower Bound Avrg MSE  Upper Bound Avrg MSE  \\\n",
       "0     12.316095             12.226807             12.405384   \n",
       "1     12.119969             12.030666             12.209273   \n",
       "2     12.865489             12.779680             12.951298   \n",
       "3     12.071953             11.982650             12.161257   \n",
       "4     12.009416             11.920094             12.098738   \n",
       "..          ...                   ...                   ...   \n",
       "728   11.760377             11.671031             11.849724   \n",
       "729   11.878997             11.789697             11.968298   \n",
       "730   11.534551             11.444890             11.624211   \n",
       "731   11.571811             11.482209             11.661413   \n",
       "732   11.747970             11.658597             11.837344   \n",
       "\n",
       "     Lower Bound 95%CI  Upper Bound 95%CI  \n",
       "0            12.140990          12.491200  \n",
       "1            11.944865          12.295074  \n",
       "2            12.690384          13.040593  \n",
       "3            11.896849          12.247058  \n",
       "4            11.834311          12.184520  \n",
       "..                 ...                ...  \n",
       "728          11.585273          11.935482  \n",
       "729          11.703893          12.054102  \n",
       "730          11.359446          11.709655  \n",
       "731          11.396707          11.746916  \n",
       "732          11.572866          11.923075  \n",
       "\n",
       "[733 rows x 5 columns]"
      ]
     },
     "execution_count": 67,
     "metadata": {},
     "output_type": "execute_result"
    }
   ],
   "source": [
    "predictiondf=pd.DataFrame({'Prediction': cvlasso.predict(log_data_testx),'Lower Bound Avrg MSE':-avrgmseperpredict+ cvlasso.predict(log_data_testx),'Upper Bound Avrg MSE':avrgmseperpredict+ cvlasso.predict(log_data_testx),'Lower Bound 95%CI': cvlasso.predict(log_data_testx)- 1.96*stdev,'Upper Bound 95%CI':cvlasso.predict(log_data_testx)+ 1.96*stdev})\n",
    "\n",
    "predictiondf\n"
   ]
  },
  {
   "cell_type": "markdown",
   "metadata": {},
   "source": [
    "## Lasso on Rs selected cols"
   ]
  },
  {
   "cell_type": "code",
   "execution_count": 69,
   "metadata": {},
   "outputs": [
    {
     "name": "stderr",
     "output_type": "stream",
     "text": [
      "<ipython-input-69-06b3a9c555bc>:10: UserWarning: With alpha=0, this algorithm does not converge well. You are advised to use the LinearRegression estimator\n",
      "  lasso.fit(data_trainxsubsetR, data_trainy)\n",
      "/Users/gabbyklein/opt/anaconda3/lib/python3.8/site-packages/sklearn/linear_model/_coordinate_descent.py:529: UserWarning: Coordinate descent with no regularization may lead to unexpected results and is discouraged.\n",
      "  model = cd_fast.enet_coordinate_descent(\n",
      "/Users/gabbyklein/opt/anaconda3/lib/python3.8/site-packages/sklearn/linear_model/_coordinate_descent.py:529: ConvergenceWarning: Objective did not converge. You might want to increase the number of iterations. Duality gap: 242194956750.70377, tolerance: 718014430.4529438\n",
      "  model = cd_fast.enet_coordinate_descent(\n"
     ]
    },
    {
     "data": {
      "text/plain": [
       "0.9263185801244276"
      ]
     },
     "execution_count": 69,
     "metadata": {},
     "output_type": "execute_result"
    }
   ],
   "source": [
    "rcols=[\"MasVnrType_BrkFace\" ,  \"Foundation_Stone\" ,    \"Exterior1st_AsbShng\" , \"LotArea\"             \n",
    " , \"Fireplaces\"    ,       \"HeatingQC_TA\"     ,    \"Exterior1st_BrkFace\",  \"Foundation_Wood\"     \n",
    " , \"Condition1_Artery\" ,   \"BsmtFinGdLvng\"    ,    \"Functional_Min\" ,      \"Neighborhood_NoRidge\"\n",
    ",\"ExterQual_Gd\"     ,    \"BsmtExposure\"       ,  \"KitchenQual_Ex\"  ,     \"BsmtQual_Ex\"         \n",
    ",\"Functional_Maj\"    ,   \"OverallCondBinary\"  ,  \"OverallQual\"  ,        \"ExterQual_Ex\"        \n",
    ",\"TotalBsmtSF\"   ,       \"BsmtUnfSF\"         ,   \"GrLivArea\"      ,      \"LndAc_S\" ]\n",
    "data_trainxsubsetR=data_trainx[rcols]\n",
    "data_testxsubsetR=data_testx[rcols]\n",
    "lasso.set_params(alpha=0)\n",
    "lasso.fit(data_trainxsubsetR, data_trainy) \n",
    "(lasso.score(data_trainxsubsetR, data_trainy))\n",
    "(lasso.score(data_testxsubsetR, data_testy))"
   ]
  },
  {
   "cell_type": "code",
   "execution_count": 38,
   "metadata": {},
   "outputs": [
    {
     "data": {
      "text/html": [
       "<div>\n",
       "<style scoped>\n",
       "    .dataframe tbody tr th:only-of-type {\n",
       "        vertical-align: middle;\n",
       "    }\n",
       "\n",
       "    .dataframe tbody tr th {\n",
       "        vertical-align: top;\n",
       "    }\n",
       "\n",
       "    .dataframe thead th {\n",
       "        text-align: right;\n",
       "    }\n",
       "</style>\n",
       "<table border=\"1\" class=\"dataframe\">\n",
       "  <thead>\n",
       "    <tr style=\"text-align: right;\">\n",
       "      <th></th>\n",
       "      <th>Prediction</th>\n",
       "      <th>Lower Bound Avrg MSE</th>\n",
       "      <th>Upper Bound Avrg MSE</th>\n",
       "      <th>Lower Bound 95%CI</th>\n",
       "      <th>Upper Bound 95%CI</th>\n",
       "    </tr>\n",
       "  </thead>\n",
       "  <tbody>\n",
       "    <tr>\n",
       "      <th>0</th>\n",
       "      <td>184309.285059</td>\n",
       "      <td>166235.193957</td>\n",
       "      <td>202383.376160</td>\n",
       "      <td>146981.385892</td>\n",
       "      <td>221637.184225</td>\n",
       "    </tr>\n",
       "    <tr>\n",
       "      <th>1</th>\n",
       "      <td>99041.798399</td>\n",
       "      <td>82747.133475</td>\n",
       "      <td>115336.463323</td>\n",
       "      <td>61713.899233</td>\n",
       "      <td>136369.697566</td>\n",
       "    </tr>\n",
       "    <tr>\n",
       "      <th>2</th>\n",
       "      <td>147320.847727</td>\n",
       "      <td>132906.633827</td>\n",
       "      <td>161735.061628</td>\n",
       "      <td>109992.948561</td>\n",
       "      <td>184648.746894</td>\n",
       "    </tr>\n",
       "    <tr>\n",
       "      <th>3</th>\n",
       "      <td>474512.155522</td>\n",
       "      <td>406208.080981</td>\n",
       "      <td>542816.230063</td>\n",
       "      <td>437184.256355</td>\n",
       "      <td>511840.054689</td>\n",
       "    </tr>\n",
       "    <tr>\n",
       "      <th>4</th>\n",
       "      <td>233961.230350</td>\n",
       "      <td>212964.612631</td>\n",
       "      <td>254957.848070</td>\n",
       "      <td>196633.331184</td>\n",
       "      <td>271289.129517</td>\n",
       "    </tr>\n",
       "    <tr>\n",
       "      <th>...</th>\n",
       "      <td>...</td>\n",
       "      <td>...</td>\n",
       "      <td>...</td>\n",
       "      <td>...</td>\n",
       "      <td>...</td>\n",
       "    </tr>\n",
       "    <tr>\n",
       "      <th>847</th>\n",
       "      <td>94210.793085</td>\n",
       "      <td>77622.605814</td>\n",
       "      <td>110798.980356</td>\n",
       "      <td>56882.893919</td>\n",
       "      <td>131538.692252</td>\n",
       "    </tr>\n",
       "    <tr>\n",
       "      <th>848</th>\n",
       "      <td>98800.174745</td>\n",
       "      <td>82535.340102</td>\n",
       "      <td>115065.009389</td>\n",
       "      <td>61472.275579</td>\n",
       "      <td>136128.073912</td>\n",
       "    </tr>\n",
       "    <tr>\n",
       "      <th>849</th>\n",
       "      <td>140156.412143</td>\n",
       "      <td>126155.747498</td>\n",
       "      <td>154157.076789</td>\n",
       "      <td>102828.512977</td>\n",
       "      <td>177484.311310</td>\n",
       "    </tr>\n",
       "    <tr>\n",
       "      <th>850</th>\n",
       "      <td>138329.659243</td>\n",
       "      <td>124252.033517</td>\n",
       "      <td>152407.284969</td>\n",
       "      <td>101001.760077</td>\n",
       "      <td>175657.558410</td>\n",
       "    </tr>\n",
       "    <tr>\n",
       "      <th>851</th>\n",
       "      <td>59832.835069</td>\n",
       "      <td>45831.177359</td>\n",
       "      <td>73834.492778</td>\n",
       "      <td>22504.935902</td>\n",
       "      <td>97160.734235</td>\n",
       "    </tr>\n",
       "  </tbody>\n",
       "</table>\n",
       "<p>852 rows × 5 columns</p>\n",
       "</div>"
      ],
      "text/plain": [
       "        Prediction  Lower Bound Avrg MSE  Upper Bound Avrg MSE  \\\n",
       "0    184309.285059         166235.193957         202383.376160   \n",
       "1     99041.798399          82747.133475         115336.463323   \n",
       "2    147320.847727         132906.633827         161735.061628   \n",
       "3    474512.155522         406208.080981         542816.230063   \n",
       "4    233961.230350         212964.612631         254957.848070   \n",
       "..             ...                   ...                   ...   \n",
       "847   94210.793085          77622.605814         110798.980356   \n",
       "848   98800.174745          82535.340102         115065.009389   \n",
       "849  140156.412143         126155.747498         154157.076789   \n",
       "850  138329.659243         124252.033517         152407.284969   \n",
       "851   59832.835069          45831.177359          73834.492778   \n",
       "\n",
       "     Lower Bound 95%CI  Upper Bound 95%CI  \n",
       "0        146981.385892      221637.184225  \n",
       "1         61713.899233      136369.697566  \n",
       "2        109992.948561      184648.746894  \n",
       "3        437184.256355      511840.054689  \n",
       "4        196633.331184      271289.129517  \n",
       "..                 ...                ...  \n",
       "847       56882.893919      131538.692252  \n",
       "848       61472.275579      136128.073912  \n",
       "849      102828.512977      177484.311310  \n",
       "850      101001.760077      175657.558410  \n",
       "851       22504.935902       97160.734235  \n",
       "\n",
       "[852 rows x 5 columns]"
      ]
     },
     "execution_count": 38,
     "metadata": {},
     "output_type": "execute_result"
    }
   ],
   "source": [
    "stdev = np.sqrt(sum((lasso.predict(data_trainxsubsetR) - data_trainy)**2) / (len(data_trainy) - 2))\n",
    "predictiondf=pd.DataFrame({'Prediction': lasso.predict(data_testxsubsetR), 'Lower Bound 95%CI': lasso.predict(data_testxsubsetR)- 1.96*stdev,'Upper Bound 95%CI':lasso.predict(data_testxsubsetR)+ 1.96*stdev})\n",
    "\n",
    "actualpredictions=lasso.predict(data_trainxsubsetR)\n",
    "# finding avrg mse for prediction in +-10% price range\n",
    "avrgmseperpredict=predictiondf.Prediction.apply(lambda x: mseprediction(x, actualpredictions, data_trainy))\n",
    "\n",
    "predictiondf=pd.DataFrame({'Prediction': lasso.predict(data_testxsubsetR),'Lower Bound Avrg MSE':-avrgmseperpredict+ lasso.predict(data_testxsubsetR),'Upper Bound Avrg MSE':avrgmseperpredict+ lasso.predict(data_testxsubsetR),'Lower Bound 95%CI': lasso.predict(data_testxsubsetR)- 1.96*stdev,'Upper Bound 95%CI':lasso.predict(data_testxsubsetR)+ 1.96*stdev})\n",
    "\n",
    "predictiondf\n",
    "\n",
    "\n"
   ]
  },
  {
   "cell_type": "code",
   "execution_count": null,
   "metadata": {},
   "outputs": [],
   "source": [
    "\n",
    "# csv of R's ~23 cols\n",
    "data_trainxsubsetR.to_csv(r'Stepwise_Selected_Cols_R_TRAIN.csv', index=False)\n",
    "data_testxsubsetR.to_csv(r'Stepwise_Selected_Cols_R_TEST.csv', index=False)\n"
   ]
  },
  {
   "cell_type": "markdown",
   "metadata": {},
   "source": [
    "# Lasso on Dummy Data"
   ]
  },
  {
   "cell_type": "code",
   "execution_count": null,
   "metadata": {},
   "outputs": [],
   "source": [
    "\n",
    "# data_testx=data_test.iloc[:,1:]\n",
    "# data_testy=data_test.iloc[:,0]\n",
    "# data_trainx=data_train.iloc[:,1:]\n",
    "# data_trainy=data_train.iloc[:,0]\n"
   ]
  },
  {
   "cell_type": "code",
   "execution_count": null,
   "metadata": {},
   "outputs": [],
   "source": [
    "# #standardize non binary cats\n",
    "# nonbinarycols=['GrLivArea', '1stFlrSF', '2ndFlrSF', 'TotRmsAbvGrd', 'BedroomAbvGr',\n",
    "#        'FullBath', 'HalfBath',  'LotArea',\n",
    "#        'LndAc_S',   'MasVnrArea',\n",
    "#         'YearBuilt',\n",
    "#        'OverallQual', 'TotalBsmtSF', 'BsmtUnfSF',\n",
    "#         'BsmtHalfBath', 'BsmtFullBath', \n",
    "#         'GarageArea', 'GarageCars',  'Fireplaces'\n",
    "#         ]"
   ]
  },
  {
   "cell_type": "code",
   "execution_count": null,
   "metadata": {},
   "outputs": [],
   "source": [
    "# #standardize non binary cols for lasso\n",
    "# for i in (nonbinarycols):\n",
    "#     data_trainx[i]=(data_trainx[i] - data_trainx[i].mean()) / data_trainx[i].std()    \n",
    "    \n",
    "# for i in (nonbinarycols):\n",
    "#     data_testx[i]=(data_testx[i] - data_testx[i].mean()) / data_testx[i].std() "
   ]
  },
  {
   "cell_type": "code",
   "execution_count": null,
   "metadata": {},
   "outputs": [],
   "source": [
    "#data_testx.head()"
   ]
  },
  {
   "cell_type": "code",
   "execution_count": null,
   "metadata": {},
   "outputs": [],
   "source": [
    "#lasso  = Lasso(normalize=True)"
   ]
  },
  {
   "cell_type": "markdown",
   "metadata": {},
   "source": [
    "Broad view of the test and train R2 as penalization grows"
   ]
  },
  {
   "cell_type": "code",
   "execution_count": null,
   "metadata": {},
   "outputs": [],
   "source": [
    "# lasso  = Lasso(normalize=True)\n",
    "# alphas = np.linspace(0,2500,1000)\n",
    "# lasso.set_params()\n",
    "# coefs_lasso  = []\n",
    "# trainr2=[]\n",
    "# testr2=[]\n",
    "\n",
    "# for alpha in alphas:\n",
    "#         lasso.set_params(alpha=alpha)\n",
    "#         lasso.fit(data_trainx, data_trainy) \n",
    "#         trainr2.append(lasso.score(data_trainx, data_trainy))\n",
    "#         testr2.append(lasso.score(data_testx, data_testy))\n",
    "#         coefs_lasso.append(lasso.coef_)\n",
    "# coefs_lasso = pd.DataFrame(coefs_lasso, index = alphas, columns = data_trainx.columns)  \n",
    "# coefs_lasso.head()\n",
    "\n",
    "  "
   ]
  },
  {
   "cell_type": "code",
   "execution_count": null,
   "metadata": {},
   "outputs": [],
   "source": [
    "# plt.plot(alphas, trainr2, c='b', label=r'train $R^2$')\n",
    "# plt.plot(alphas, testr2, c='r', label=r'test $R^2$')\n",
    "# plt.legend(loc=1)\n",
    "# plt.title(r'$R^2$ Drops with Increaing Regularizations')\n",
    "# plt.xlabel(r'hyperparameter $\\alpha$')\n",
    "# plt.ylabel(r'$R^2$')"
   ]
  },
  {
   "cell_type": "markdown",
   "metadata": {},
   "source": [
    "Zoomed in on where test and train r2 are maxed "
   ]
  },
  {
   "cell_type": "code",
   "execution_count": null,
   "metadata": {},
   "outputs": [],
   "source": [
    "# lasso  = Lasso(normalize=True)\n",
    "# alphas = np.linspace(0,5,1000)\n",
    "# lasso.set_params()\n",
    "# coefs_lasso  = []\n",
    "# trainr2=[]\n",
    "# testr2=[]\n",
    "\n",
    "# for alpha in alphas:\n",
    "#         lasso.set_params(alpha=alpha)\n",
    "#         lasso.fit(data_trainx, data_trainy) \n",
    "#         trainr2.append(lasso.score(data_trainx, data_trainy))\n",
    "#         testr2.append(lasso.score(data_testx, data_testy))\n",
    "#         coefs_lasso.append(lasso.coef_)\n",
    "# coefs_lasso = pd.DataFrame(coefs_lasso, index = alphas, columns = data_trainx.columns)  \n",
    "# coefs_lasso.head()\n",
    "\n",
    "  "
   ]
  },
  {
   "cell_type": "code",
   "execution_count": null,
   "metadata": {},
   "outputs": [],
   "source": [
    "\n",
    "# #alpha which maximized the testr2\n",
    "# maxind=testr2.index(max(testr2))\n",
    "# bestalpha=alphas[maxind]\n",
    "# bestalpha"
   ]
  },
  {
   "cell_type": "code",
   "execution_count": null,
   "metadata": {},
   "outputs": [],
   "source": [
    "# plt.plot(alphas, trainr2, c='b', label=r'train $R^2$')\n",
    "# plt.plot(alphas, testr2, c='r', label=r'test $R^2$')\n",
    "# plt.axvline(x=bestalpha,label=r'Best Alpha on Test Data')\n",
    "# plt.legend(loc=1)\n",
    "# plt.title(r'$R^2$ Zoomed in')\n",
    "# plt.xlabel(r'hyperparameter $\\lambda$')\n",
    "# plt.ylabel(r'$R^2$')\n",
    "\n"
   ]
  },
  {
   "cell_type": "code",
   "execution_count": null,
   "metadata": {},
   "outputs": [],
   "source": [
    "# for name in coefs_lasso.columns:\n",
    "#     plt.plot(coefs_lasso.index, coefs_lasso[name], label=name)\n",
    "# plt.xlabel(r'hyperparameter $\\lambda$')\n",
    "# plt.ylabel(r'slope values')\n",
    "## plt.legend(loc=1) "
   ]
  },
  {
   "cell_type": "code",
   "execution_count": null,
   "metadata": {},
   "outputs": [],
   "source": [
    "# sum(coefs_lasso.iloc[maxind]!=0)"
   ]
  },
  {
   "cell_type": "code",
   "execution_count": null,
   "metadata": {},
   "outputs": [],
   "source": [
    "# #visualize number of coefs used per alpha\n",
    "\n",
    "# num_nonzero_coef=[]\n",
    "# for i in range(len(alphas)):\n",
    "#     num_nonzero_coef.append(sum(coefs_lasso.iloc[i]!=0))"
   ]
  },
  {
   "cell_type": "code",
   "execution_count": null,
   "metadata": {},
   "outputs": [],
   "source": [
    "# plt.plot(alphas, num_nonzero_coef, c='b')\n",
    "# plt.legend(loc=1)\n",
    "# plt.title(r'Alpha vs # Non Zero Coefs')\n",
    "# plt.xlabel(r'Alpha')\n",
    "# plt.ylabel(r'# non zero coefs')"
   ]
  },
  {
   "cell_type": "code",
   "execution_count": null,
   "metadata": {},
   "outputs": [],
   "source": [
    "# plt.plot(num_nonzero_coef,testr2, c='b', label=r'test $R^2$')\n",
    "# plt.legend(loc=1)\n",
    "# plt.title(r'Alpha vs # Non Zero Coefs')\n",
    "# plt.ylabel(r'$R^2$')\n",
    "# plt.xlabel(r'# non zero coefs')"
   ]
  },
  {
   "cell_type": "code",
   "execution_count": null,
   "metadata": {},
   "outputs": [],
   "source": [
    "# #Examining the best model\n",
    "\n",
    "# lasso.set_params(alpha=bestalpha)\n",
    "# lasso.fit(data_trainx, data_trainy)\n",
    "\n",
    "# print('The train R2 is ',lasso.score(data_trainx, data_trainy))\n",
    "# print('The test R2 is ',lasso.score(data_testx, data_testy))\n",
    "# #pd.DataFrame(lasso.coef_,  columns = data_trainx.columns)\n",
    "# columns = data_trainx.columns\n",
    "# coeflist=list(zip(columns,lasso.coef_))\n",
    "# coefdf=pd.DataFrame(coeflist, columns=['Attr','Coef'])\n",
    "# coefdf=coefdf[coefdf.Coef!=0]\n",
    "# coefdf.sort_values(by=['Coef'],key=abs)"
   ]
  },
  {
   "cell_type": "markdown",
   "metadata": {},
   "source": [
    "# Lasso on Dummy Data w Log SalePrice"
   ]
  },
  {
   "cell_type": "code",
   "execution_count": null,
   "metadata": {},
   "outputs": [],
   "source": [
    "# # create copy of train/test \n",
    "# log_data_train = data_train.copy()\n",
    "# log_data_test = data_test.copy()"
   ]
  },
  {
   "cell_type": "code",
   "execution_count": null,
   "metadata": {},
   "outputs": [],
   "source": [
    "# log_data_train"
   ]
  },
  {
   "cell_type": "code",
   "execution_count": null,
   "metadata": {},
   "outputs": [],
   "source": [
    "# # log SalePrice and drop original column in test and train\n",
    "\n",
    "# log_data_train['log_SalePrice'] = np.log(log_data_train['SalePrice'])\n",
    "# log_data_train = log_data_train.drop(['SalePrice'], axis=1)\n",
    "# log_first_column = log_data_train.pop('log_SalePrice')\n",
    "# log_data_train.insert(0, 'log_SalePrice', log_first_column)\n",
    "\n",
    "# log_data_test['log_SalePrice'] = np.log(log_data_test['SalePrice'])\n",
    "# log_data_test = log_data_test.drop(['SalePrice'], axis=1)\n",
    "# log_first_columnt = log_data_test.pop('log_SalePrice')\n",
    "# log_data_test.insert(0, 'log_SalePrice', log_first_columnt)"
   ]
  },
  {
   "cell_type": "code",
   "execution_count": null,
   "metadata": {},
   "outputs": [],
   "source": [
    "# log_data_testx=data_testx.copy()\n",
    "# log_data_testy=log_data_test.iloc[:,0]\n",
    "# log_data_trainx=data_trainx.copy()\n",
    "# log_data_trainy=log_data_train.iloc[:,0]"
   ]
  },
  {
   "cell_type": "code",
   "execution_count": null,
   "metadata": {},
   "outputs": [],
   "source": [
    "# log_data_testx.head()"
   ]
  },
  {
   "cell_type": "code",
   "execution_count": null,
   "metadata": {},
   "outputs": [],
   "source": [
    "# log_data_testy.head()"
   ]
  },
  {
   "cell_type": "code",
   "execution_count": null,
   "metadata": {},
   "outputs": [],
   "source": [
    "# log_lasso  = Lasso(normalize=True)\n",
    "# log_alphas = np.linspace(0, 0.02, 1000)\n",
    "# log_lasso.set_params()\n",
    "# log_coefs_lasso  = []\n",
    "# log_trainr2=[]\n",
    "# log_testr2=[]\n",
    "\n",
    "# for log_alpha in log_alphas:\n",
    "#         log_lasso.set_params(alpha=log_alpha)\n",
    "#         log_lasso.fit(log_data_trainx, log_data_trainy) \n",
    "#         log_trainr2.append(log_lasso.score(log_data_trainx, log_data_trainy))\n",
    "#         log_testr2.append(log_lasso.score(log_data_testx, log_data_testy))\n",
    "#         log_coefs_lasso.append(log_lasso.coef_)\n",
    "# log_coefs_lasso = pd.DataFrame(log_coefs_lasso, index = log_alphas, columns = log_data_trainx.columns)  \n",
    "# log_coefs_lasso.head()"
   ]
  },
  {
   "cell_type": "code",
   "execution_count": null,
   "metadata": {},
   "outputs": [],
   "source": [
    "# plt.plot(log_alphas, log_trainr2, c='b', label=r'log_train $R^2$')\n",
    "# plt.plot(log_alphas, log_testr2, c='r', label=r'log_test $R^2$')\n",
    "# plt.legend(loc=1)\n",
    "# plt.title(r'$R^2$ Drops with Increaing Regularizations')\n",
    "# plt.xlabel(r'hyperparameter $\\lambda$')\n",
    "# plt.ylabel(r'$R^2$')"
   ]
  },
  {
   "cell_type": "code",
   "execution_count": null,
   "metadata": {},
   "outputs": [],
   "source": [
    "#alpha which maximized the log_testr2\n",
    "# log_maxind=log_testr2.index(max(log_testr2))\n",
    "# log_bestalpha=log_alphas[log_maxind]\n",
    "# log_bestalpha"
   ]
  },
  {
   "cell_type": "code",
   "execution_count": null,
   "metadata": {},
   "outputs": [],
   "source": [
    "# plt.plot(log_alphas, log_trainr2, c='b', label=r'log_train $R^2$')\n",
    "# plt.plot(log_alphas, log_testr2, c='r', label=r'log_test $R^2$')\n",
    "# plt.axvline(x=log_bestalpha,label=r'Best Alpha on log_Test Data')\n",
    "# plt.legend(loc=1)\n",
    "# plt.title(r'$R^2$ Zoomed in')\n",
    "# plt.xlabel(r'hyperparameter $\\lambda$')\n",
    "# plt.ylabel(r'$R^2$')"
   ]
  },
  {
   "cell_type": "code",
   "execution_count": null,
   "metadata": {},
   "outputs": [],
   "source": [
    "# sum(log_coefs_lasso.iloc[log_maxind]!=0)"
   ]
  },
  {
   "cell_type": "code",
   "execution_count": null,
   "metadata": {},
   "outputs": [],
   "source": [
    "#visualize number of coefs used per log_alpha\n",
    "\n",
    "# log_num_nonzero_coef=[]\n",
    "# for i in range(len(log_alphas)):\n",
    "#     log_num_nonzero_coef.append(sum(log_coefs_lasso.iloc[i]!=0))"
   ]
  },
  {
   "cell_type": "code",
   "execution_count": null,
   "metadata": {},
   "outputs": [],
   "source": [
    "# plt.plot(log_alphas, log_num_nonzero_coef, c='b')\n",
    "# plt.legend(loc=1)\n",
    "# plt.title(r'log_Alpha vs # Non Zero Coefs')\n",
    "# plt.xlabel(r'log_Alpha')\n",
    "# plt.ylabel(r'# non zero coefs')"
   ]
  },
  {
   "cell_type": "code",
   "execution_count": null,
   "metadata": {},
   "outputs": [],
   "source": [
    "# plt.plot(log_num_nonzero_coef,log_testr2, c='b', label=r'test $R^2$')\n",
    "# plt.legend(loc=1)\n",
    "# plt.title(r'log_Alpha vs # Non Zero Coefs')\n",
    "# plt.ylabel(r'$R^2$')\n",
    "# plt.xlabel(r'# non zero coefs')"
   ]
  },
  {
   "cell_type": "code",
   "execution_count": null,
   "metadata": {},
   "outputs": [],
   "source": [
    "#Examining the best model\n",
    "\n",
    "# log_lasso.set_params(alpha=log_bestalpha)\n",
    "# log_lasso.fit(log_data_trainx, log_data_trainy)\n",
    "\n",
    "# print('The log_train R2 is ',log_lasso.score(log_data_trainx, log_data_trainy))\n",
    "# print('The log_test R2 is ',log_lasso.score(log_data_testx, log_data_testy))\n",
    "# #pd.DataFrame(lasso.coef_,  columns = data_trainx.columns)\n",
    "# log_columns = log_data_trainx.columns\n",
    "# log_coeflist=list(zip(log_columns,log_lasso.coef_))\n",
    "# log_coefdf=pd.DataFrame(log_coeflist, columns=['Attr','Coef'])\n",
    "# log_coefdf=log_coefdf[log_coefdf.Coef!=0]\n",
    "# log_coefdf.sort_values(by=['Coef'],key=abs)"
   ]
  },
  {
   "cell_type": "markdown",
   "metadata": {},
   "source": [
    "# Lasso on Dummy Data w Price per sqaure ft"
   ]
  },
  {
   "cell_type": "code",
   "execution_count": null,
   "metadata": {},
   "outputs": [],
   "source": [
    "# # create new copy of train/test\n",
    "# sq_data_train = data_train.copy()\n",
    "# sq_data_test = data_test.copy()"
   ]
  },
  {
   "cell_type": "code",
   "execution_count": null,
   "metadata": {},
   "outputs": [],
   "source": [
    "# sq_data_train"
   ]
  },
  {
   "cell_type": "code",
   "execution_count": null,
   "metadata": {},
   "outputs": [],
   "source": [
    "# # price per square feet = saleprice/grlivarea\n",
    "# sq_data_train['Price_per_sq'] = sq_data_train['SalePrice']/sq_data_train['GrLivArea']\n",
    "# sq_data_train = sq_data_train.drop(['SalePrice', 'GrLivArea'], axis=1)\n",
    "# sq_first_column = sq_data_train.pop('Price_per_sq')\n",
    "# sq_data_train.insert(0, 'Price_per_sq', sq_first_column)\n",
    "\n",
    "# sq_data_test['Price_per_sq'] = sq_data_test['SalePrice']/sq_data_test['GrLivArea']\n",
    "# sq_data_test = sq_data_test.drop(['SalePrice', 'GrLivArea'], axis=1)\n",
    "# sq_first_columnt = sq_data_test.pop('Price_per_sq')\n",
    "# sq_data_test.insert(0, 'Price_per_sq', sq_first_columnt)"
   ]
  },
  {
   "cell_type": "code",
   "execution_count": null,
   "metadata": {},
   "outputs": [],
   "source": [
    "# sq_data_testx = sq_data_test.iloc[:,1:]\n",
    "# sq_data_testy = sq_data_test.iloc[:,0]\n",
    "# sq_data_trainx = sq_data_train.iloc[:,1:]\n",
    "# sq_data_trainy = sq_data_train.iloc[:,0]"
   ]
  },
  {
   "cell_type": "code",
   "execution_count": null,
   "metadata": {},
   "outputs": [],
   "source": [
    "# sq_nonbinarycols = ['1stFlrSF', '2ndFlrSF', 'TotRmsAbvGrd', 'BedroomAbvGr',\n",
    "#        'FullBath', 'HalfBath',  'LotArea',\n",
    "#        'LndAc_S',   'MasVnrArea',\n",
    "#         'YearBuilt',\n",
    "#        'OverallQual', 'TotalBsmtSF', 'BsmtUnfSF',\n",
    "#         'BsmtHalfBath', 'BsmtFullBath', \n",
    "#         'GarageArea', 'GarageCars',  'Fireplaces'\n",
    "#         ]\n",
    "# sq_nonbinarycols"
   ]
  },
  {
   "cell_type": "code",
   "execution_count": null,
   "metadata": {},
   "outputs": [],
   "source": [
    "# #standardize non binary cols for sq_lasso\n",
    "\n",
    "# for i in (sq_nonbinarycols):\n",
    "#     sq_data_trainx[i]=(sq_data_trainx[i] - sq_data_trainx[i].mean()) / sq_data_trainx[i].std()    \n",
    "    \n",
    "# for i in (sq_nonbinarycols):\n",
    "#     sq_data_testx[i]=(sq_data_testx[i] - sq_data_testx[i].mean()) / sq_data_testx[i].std()"
   ]
  },
  {
   "cell_type": "code",
   "execution_count": null,
   "metadata": {},
   "outputs": [],
   "source": [
    "# sq_data_testx.head()"
   ]
  },
  {
   "cell_type": "code",
   "execution_count": null,
   "metadata": {},
   "outputs": [],
   "source": [
    "# sq_data_testy.head()"
   ]
  },
  {
   "cell_type": "code",
   "execution_count": null,
   "metadata": {},
   "outputs": [],
   "source": [
    "# sq_lasso  = Lasso(normalize=True)\n",
    "# sq_alphas = np.linspace(0, .6, 1000)\n",
    "# sq_lasso.set_params()\n",
    "# sq_coefs_lasso  = []\n",
    "# sq_trainr2=[]\n",
    "# sq_testr2=[]\n",
    "\n",
    "# for sq_alpha in sq_alphas:\n",
    "#         sq_lasso.set_params(alpha=sq_alpha)\n",
    "#         sq_lasso.fit(sq_data_trainx, sq_data_trainy) \n",
    "#         sq_trainr2.append(sq_lasso.score(sq_data_trainx, sq_data_trainy))\n",
    "#         sq_testr2.append(sq_lasso.score(sq_data_testx, sq_data_testy))\n",
    "#         sq_coefs_lasso.append(sq_lasso.coef_)\n",
    "# sq_coefs_lasso = pd.DataFrame(sq_coefs_lasso, index = sq_alphas, columns = sq_data_trainx.columns)  \n",
    "# sq_coefs_lasso.head()"
   ]
  },
  {
   "cell_type": "code",
   "execution_count": null,
   "metadata": {},
   "outputs": [],
   "source": [
    "# plt.plot(sq_alphas, sq_trainr2, c='b', label=r'sq_train $R^2$')\n",
    "# plt.plot(sq_alphas, sq_testr2, c='r', label=r'sq_test $R^2$')\n",
    "# plt.legend(loc=1)\n",
    "# plt.title(r'$R^2$ Drops with Increaing Regularizations')\n",
    "# plt.xlabel(r'hyperparameter $\\lambda$')\n",
    "# plt.ylabel(r'$R^2$')"
   ]
  },
  {
   "cell_type": "code",
   "execution_count": null,
   "metadata": {},
   "outputs": [],
   "source": [
    "# #sq_alpha which maximized the sq_testr2\n",
    "# sq_maxind=sq_testr2.index(max(sq_testr2))\n",
    "# sq_bestalpha=sq_alphas[sq_maxind]\n",
    "# sq_bestalpha"
   ]
  },
  {
   "cell_type": "code",
   "execution_count": null,
   "metadata": {},
   "outputs": [],
   "source": [
    "# plt.plot(sq_alphas, sq_trainr2, c='b', label=r'sq_train $R^2$')\n",
    "# plt.plot(sq_alphas, sq_testr2, c='r', label=r'sq_test $R^2$')\n",
    "# plt.axvline(x=sq_bestalpha,label=r'Best Alpha on sq_Test Data')\n",
    "# plt.legend(loc=1)\n",
    "# plt.title(r'$R^2$ Zoomed in')\n",
    "# plt.xlabel(r'hyperparameter $\\lambda$')\n",
    "# plt.ylabel(r'$R^2$')"
   ]
  },
  {
   "cell_type": "code",
   "execution_count": null,
   "metadata": {},
   "outputs": [],
   "source": [
    "# sum(sq_coefs_lasso.iloc[sq_maxind]!=0)"
   ]
  },
  {
   "cell_type": "code",
   "execution_count": null,
   "metadata": {},
   "outputs": [],
   "source": [
    "# #visualize number of coefs used per sq_alpha\n",
    "\n",
    "# sq_num_nonzero_coef=[]\n",
    "# for i in range(len(sq_alphas)):\n",
    "#     sq_num_nonzero_coef.append(sum(sq_coefs_lasso.iloc[i]!=0))"
   ]
  },
  {
   "cell_type": "code",
   "execution_count": null,
   "metadata": {},
   "outputs": [],
   "source": [
    "# plt.plot(sq_alphas, sq_num_nonzero_coef, c='b')\n",
    "# plt.legend(loc=1)\n",
    "# plt.title(r'log_Alpha vs # Non Zero Coefs')\n",
    "# plt.xlabel(r'sq_Alpha')\n",
    "# plt.ylabel(r'# non zero coefs')"
   ]
  },
  {
   "cell_type": "code",
   "execution_count": null,
   "metadata": {},
   "outputs": [],
   "source": [
    "# plt.plot(sq_num_nonzero_coef,sq_testr2, c='b', label=r'sq_test $R^2$')\n",
    "# plt.legend(loc=1)\n",
    "# plt.title(r'sq_Alpha vs # Non Zero Coefs')\n",
    "# plt.ylabel(r'$R^2$')\n",
    "# plt.xlabel(r'# non zero coefs')"
   ]
  },
  {
   "cell_type": "code",
   "execution_count": null,
   "metadata": {},
   "outputs": [],
   "source": [
    "# #Examining the best model\n",
    "\n",
    "# sq_lasso.set_params(alpha=sq_bestalpha)\n",
    "# sq_lasso.fit(sq_data_trainx, sq_data_trainy)\n",
    "\n",
    "# print('The sq_train R2 is ',sq_lasso.score(sq_data_trainx, sq_data_trainy))\n",
    "# print('The sq_test R2 is ',sq_lasso.score(sq_data_testx, sq_data_testy))\n",
    "# #pd.DataFrame(lasso.coef_,  columns = data_trainx.columns)\n",
    "# sq_columns = sq_data_trainx.columns\n",
    "# sq_coeflist=list(zip(sq_columns,sq_lasso.coef_))\n",
    "# sq_coefdf=pd.DataFrame(sq_coeflist, columns=['Attr','Coef'])\n",
    "# sq_coefdf=sq_coefdf[sq_coefdf.Coef!=0]\n",
    "# sq_coefdf.sort_values(by=['Coef'],key=abs)"
   ]
  },
  {
   "cell_type": "markdown",
   "metadata": {},
   "source": [
    "## R's stepwise features regression"
   ]
  },
  {
   "cell_type": "code",
   "execution_count": null,
   "metadata": {},
   "outputs": [],
   "source": [
    "# data_trainxsubsetR=data_trainx[['LotConfig_CulDSac','ExterQual_Gd','Neighborhood_IDOTRR','Condition1_Artery','BsmtQual_Gd','HeatingQC_TA','MSSubClass_multi_fam','BsmtFinGdLvng','BedroomAbvGr','Neighborhood_NoRidge','RemodelYrsAftBuilt', 'MasVnrType_BrkFace','BldgType_TwnhsE' ,'MasVnrArea','Functional_Min','BldgType_Twnhs','Functional_Maj','BsmtQual_Ex'         ,'BsmtExposure' ,'Exterior1st_BrkFace','OverallCondBinary','YearBuilt','TotalBsmtSF','BsmtUnfSF','ExterQual_Ex','OverallQual','GrLivArea','LndAc_S']]\n",
    "# data_testxsubsetR=data_testx[['LotConfig_CulDSac','ExterQual_Gd','Neighborhood_IDOTRR','Condition1_Artery','BsmtQual_Gd','HeatingQC_TA','MSSubClass_multi_fam','BsmtFinGdLvng','BedroomAbvGr','Neighborhood_NoRidge','RemodelYrsAftBuilt', 'MasVnrType_BrkFace','BldgType_TwnhsE' ,'MasVnrArea','Functional_Min','BldgType_Twnhs','Functional_Maj','BsmtQual_Ex'         ,'BsmtExposure' ,'Exterior1st_BrkFace','OverallCondBinary','YearBuilt','TotalBsmtSF','BsmtUnfSF','ExterQual_Ex','OverallQual','GrLivArea','LndAc_S']]\n",
    "\n",
    "# lasso.set_params(alpha=0)\n",
    "# lasso.fit(data_trainxsubsetR, data_trainy) \n",
    "# (lasso.score(data_trainxsubsetR, data_trainy))\n",
    "# (lasso.score(data_testxsubsetR, data_testy))"
   ]
  },
  {
   "cell_type": "markdown",
   "metadata": {},
   "source": [
    "## Generate CSVs with subset of cols \n",
    "-didnt know which we wanted to play w so comment/uncomment as you please"
   ]
  },
  {
   "cell_type": "code",
   "execution_count": null,
   "metadata": {},
   "outputs": [],
   "source": [
    "\n",
    "# # # R's ~23 cols\n",
    "# # data_trainxsubsetR.to_csv(r'Stepwise_Selected_Cols_R_TRAIN.csv', index=False)\n",
    "# # data_testxsubsetR.to_csv(r'Stepwise_Selected_Cols_R_TEST.csv', index=False)\n",
    "# # #Log(SalePrice) lasso selected cols\n",
    "# # log_data_trainx.to_csv(r'Lasso_Selected_Cols_LOG_TRAIN.csv', index=False)\n",
    "# # log_data_testx.to_csv(r'Lasso_Selected_Cols_LOG_TEST.csv', index=False)\n",
    "# # #SalePrice lasso selected cols\n",
    "# # data_trainx.to_csv(r'Lasso_Selected_Cols_TRAIN.csv', index=False)\n",
    "# #data_testx.to_csv(r'Lasso_Selected_Cols_TEST.csv', index=False)"
   ]
  },
  {
   "cell_type": "code",
   "execution_count": null,
   "metadata": {},
   "outputs": [],
   "source": []
  },
  {
   "cell_type": "code",
   "execution_count": null,
   "metadata": {},
   "outputs": [],
   "source": [
    "#def lassoalphatune(xtrain,ytrain,alpharange):\n",
    "    \n",
    "    "
   ]
  }
 ],
 "metadata": {
  "kernelspec": {
   "display_name": "Python 3",
   "language": "python",
   "name": "python3"
  },
  "language_info": {
   "codemirror_mode": {
    "name": "ipython",
    "version": 3
   },
   "file_extension": ".py",
   "mimetype": "text/x-python",
   "name": "python",
   "nbconvert_exporter": "python",
   "pygments_lexer": "ipython3",
   "version": "3.8.5"
  }
 },
 "nbformat": 4,
 "nbformat_minor": 4
}
