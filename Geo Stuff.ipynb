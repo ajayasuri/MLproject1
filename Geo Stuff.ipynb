{
 "cells": [
  {
   "cell_type": "markdown",
   "metadata": {},
   "source": [
    "This will become apart of raw_data_transformation.py once its approved by group members "
   ]
  },
  {
   "cell_type": "code",
   "execution_count": 2,
   "metadata": {},
   "outputs": [],
   "source": [
    "#import geopy\n",
    "from geopy import Nominatim\n",
    "from geopy.extra.rate_limiter import RateLimiter\n",
    "from geopy.distance import great_circle\n",
    "import numpy as np\n",
    "import pandas as pd\n",
    "import matplotlib.pyplot as plt\n",
    "import gmplot"
   ]
  },
  {
   "cell_type": "code",
   "execution_count": 2,
   "metadata": {},
   "outputs": [],
   "source": [
    "tdata = pd.read_csv('merge_data_update.csv', index_col=0)\n",
    "locator = Nominatim(user_agent=\"myGeocoder\")"
   ]
  },
  {
   "cell_type": "code",
   "execution_count": 3,
   "metadata": {},
   "outputs": [],
   "source": [
    "def getlatlong(address):\n",
    "    try:\n",
    "        address=address+', Ames, Iowa'\n",
    "    \n",
    "        location = locator.geocode(address)\n",
    "        lat=location[1][0]\n",
    "        long=location[1][1]\n",
    "        return [lat,long]\n",
    "    except:\n",
    "        return ''\n",
    "    "
   ]
  },
  {
   "cell_type": "code",
   "execution_count": 4,
   "metadata": {},
   "outputs": [],
   "source": [
    "def distancetoUoI(latlong):\n",
    "    UofIowa=[42.026640, -93.646456]\n",
    "    try:\n",
    "        return great_circle(latlong, UofIowa).km\n",
    "    except:\n",
    "        return ''\n",
    "        "
   ]
  },
  {
   "cell_type": "code",
   "execution_count": 5,
   "metadata": {},
   "outputs": [
    {
     "data": {
      "text/plain": [
       "Index(['PID', 'GrLivArea', 'SalePrice', 'MSSubClass', 'MSZoning',\n",
       "       'LotFrontage', 'LotArea', 'Street', 'Alley', 'LotShape', 'LandContour',\n",
       "       'Utilities', 'LotConfig', 'LandSlope', 'Neighborhood', 'Condition1',\n",
       "       'Condition2', 'BldgType', 'HouseStyle', 'OverallQual', 'OverallCond',\n",
       "       'YearBuilt', 'YearRemodAdd', 'RoofStyle', 'RoofMatl', 'Exterior1st',\n",
       "       'Exterior2nd', 'MasVnrType', 'MasVnrArea', 'ExterQual', 'ExterCond',\n",
       "       'Foundation', 'BsmtQual', 'BsmtCond', 'BsmtExposure', 'BsmtFinType1',\n",
       "       'BsmtFinSF1', 'BsmtFinType2', 'BsmtFinSF2', 'BsmtUnfSF', 'TotalBsmtSF',\n",
       "       'Heating', 'HeatingQC', 'CentralAir', 'Electrical', '1stFlrSF',\n",
       "       '2ndFlrSF', 'LowQualFinSF', 'BsmtFullBath', 'BsmtHalfBath', 'FullBath',\n",
       "       'HalfBath', 'BedroomAbvGr', 'KitchenAbvGr', 'KitchenQual',\n",
       "       'TotRmsAbvGrd', 'Functional', 'Fireplaces', 'FireplaceQu', 'GarageType',\n",
       "       'GarageYrBlt', 'GarageFinish', 'GarageCars', 'GarageArea', 'GarageQual',\n",
       "       'GarageCond', 'PavedDrive', 'WoodDeckSF', 'OpenPorchSF',\n",
       "       'EnclosedPorch', '3SsnPorch', 'ScreenPorch', 'PoolArea', 'PoolQC',\n",
       "       'Fence', 'MiscFeature', 'MiscVal', 'MoSold', 'YrSold', 'SaleType',\n",
       "       'SaleCondition', 'MapRefNo', 'GeoRefNo', 'Prop_Addr', 'ZngCdPr',\n",
       "       'ZngOLPr', 'ZngOLSc', 'ClassPr_S', 'ClassSc_S', 'SchD_S', 'TxD_S',\n",
       "       'LndAc_S', 'ImpAc_S', 'OthAc_S', 'HSTtl_D', 'HSTtl_S', 'GLA'],\n",
       "      dtype='object')"
      ]
     },
     "execution_count": 5,
     "metadata": {},
     "output_type": "execute_result"
    }
   ],
   "source": [
    "tdata.columns"
   ]
  },
  {
   "cell_type": "code",
   "execution_count": null,
   "metadata": {},
   "outputs": [],
   "source": [
    "tdata['Lat_Long']=tdata.Prop_Addr.apply((lambda address:  getlatlong(address)))\n",
    "\n",
    "\n"
   ]
  },
  {
   "cell_type": "code",
   "execution_count": null,
   "metadata": {},
   "outputs": [],
   "source": [
    "tdata['Dist_From_UoI']=tdata.Lat_Long.apply(lambda latlong:  distancetoUoI(latlong))"
   ]
  },
  {
   "cell_type": "code",
   "execution_count": null,
   "metadata": {},
   "outputs": [],
   "source": [
    "tdata.Prop_Addr"
   ]
  },
  {
   "cell_type": "code",
   "execution_count": null,
   "metadata": {},
   "outputs": [],
   "source": [
    "locator.geocode('1505 Little Bluestem Ct, Ames, Iowa')"
   ]
  },
  {
   "cell_type": "markdown",
   "metadata": {},
   "source": [
    "# Finds Dist Btw All Houses"
   ]
  },
  {
   "cell_type": "code",
   "execution_count": 5,
   "metadata": {},
   "outputs": [],
   "source": [
    "tdata = pd.read_csv('initial_condensed_data_TEST.csv', index_col=0)"
   ]
  },
  {
   "cell_type": "code",
   "execution_count": 1,
   "metadata": {},
   "outputs": [],
   "source": [
    "def distancebetween(latlong1,latlong2):\n",
    "    \n",
    "    try:\n",
    "        return great_circle(latlong1, latlong2).km\n",
    "    except:\n",
    "        return 100 #these do not have distance- putting in ridiculous number so no error in compling to matrix will remove \n",
    "        "
   ]
  },
  {
   "cell_type": "code",
   "execution_count": 3,
   "metadata": {},
   "outputs": [],
   "source": [
    "def cleanlatlong(latlong):\n",
    "    try:\n",
    "        return [float(i) for i in latlong.replace('[', '').replace(']', '').replace(',', '').split()]\n",
    "    except:\n",
    "        return ''\n",
    "    "
   ]
  },
  {
   "cell_type": "code",
   "execution_count": 6,
   "metadata": {},
   "outputs": [],
   "source": [
    "tdata.Lat_Long=tdata.Lat_Long.apply(lambda x: cleanlatlong(x))\n"
   ]
  },
  {
   "cell_type": "code",
   "execution_count": 7,
   "metadata": {},
   "outputs": [],
   "source": [
    "tdata=tdata[(tdata.Lat_Long=='')==False]"
   ]
  },
  {
   "cell_type": "code",
   "execution_count": 8,
   "metadata": {},
   "outputs": [
    {
     "data": {
      "text/plain": [
       "Series([], Name: Lat_Long, dtype: object)"
      ]
     },
     "execution_count": 8,
     "metadata": {},
     "output_type": "execute_result"
    }
   ],
   "source": [
    "tdata.Lat_Long[(tdata.Lat_Long=='')]"
   ]
  },
  {
   "cell_type": "code",
   "execution_count": 9,
   "metadata": {},
   "outputs": [],
   "source": [
    "distmatrix=np.zeros((len(tdata), len(tdata)))\n",
    "for i in range(len(tdata)):\n",
    "    for j in range(i):\n",
    "        distmatrix[i,j]=distancebetween(tdata.Lat_Long.iloc[i],tdata.Lat_Long.iloc[j])\n",
    "        \n",
    "        "
   ]
  },
  {
   "cell_type": "code",
   "execution_count": 10,
   "metadata": {},
   "outputs": [],
   "source": [
    "distdf=pd.DataFrame(distmatrix)"
   ]
  },
  {
   "cell_type": "code",
   "execution_count": 11,
   "metadata": {},
   "outputs": [
    {
     "data": {
      "text/html": [
       "<div>\n",
       "<style scoped>\n",
       "    .dataframe tbody tr th:only-of-type {\n",
       "        vertical-align: middle;\n",
       "    }\n",
       "\n",
       "    .dataframe tbody tr th {\n",
       "        vertical-align: top;\n",
       "    }\n",
       "\n",
       "    .dataframe thead th {\n",
       "        text-align: right;\n",
       "    }\n",
       "</style>\n",
       "<table border=\"1\" class=\"dataframe\">\n",
       "  <thead>\n",
       "    <tr style=\"text-align: right;\">\n",
       "      <th></th>\n",
       "      <th>0</th>\n",
       "      <th>1</th>\n",
       "      <th>2</th>\n",
       "      <th>3</th>\n",
       "      <th>4</th>\n",
       "      <th>5</th>\n",
       "      <th>6</th>\n",
       "      <th>7</th>\n",
       "      <th>8</th>\n",
       "      <th>9</th>\n",
       "      <th>...</th>\n",
       "      <th>818</th>\n",
       "      <th>819</th>\n",
       "      <th>820</th>\n",
       "      <th>821</th>\n",
       "      <th>822</th>\n",
       "      <th>823</th>\n",
       "      <th>824</th>\n",
       "      <th>825</th>\n",
       "      <th>826</th>\n",
       "      <th>827</th>\n",
       "    </tr>\n",
       "  </thead>\n",
       "  <tbody>\n",
       "    <tr>\n",
       "      <th>0</th>\n",
       "      <td>0.000000</td>\n",
       "      <td>0.000000</td>\n",
       "      <td>0.000000</td>\n",
       "      <td>0.000000</td>\n",
       "      <td>0.000000</td>\n",
       "      <td>0.000000</td>\n",
       "      <td>0.000000</td>\n",
       "      <td>0.000000</td>\n",
       "      <td>0.000000</td>\n",
       "      <td>0.000000</td>\n",
       "      <td>...</td>\n",
       "      <td>0.000000</td>\n",
       "      <td>0.000000</td>\n",
       "      <td>0.000000</td>\n",
       "      <td>0.000000</td>\n",
       "      <td>0.000000</td>\n",
       "      <td>0.000000</td>\n",
       "      <td>0.000000</td>\n",
       "      <td>0.000000</td>\n",
       "      <td>0.000000</td>\n",
       "      <td>0.0</td>\n",
       "    </tr>\n",
       "    <tr>\n",
       "      <th>1</th>\n",
       "      <td>0.923634</td>\n",
       "      <td>0.000000</td>\n",
       "      <td>0.000000</td>\n",
       "      <td>0.000000</td>\n",
       "      <td>0.000000</td>\n",
       "      <td>0.000000</td>\n",
       "      <td>0.000000</td>\n",
       "      <td>0.000000</td>\n",
       "      <td>0.000000</td>\n",
       "      <td>0.000000</td>\n",
       "      <td>...</td>\n",
       "      <td>0.000000</td>\n",
       "      <td>0.000000</td>\n",
       "      <td>0.000000</td>\n",
       "      <td>0.000000</td>\n",
       "      <td>0.000000</td>\n",
       "      <td>0.000000</td>\n",
       "      <td>0.000000</td>\n",
       "      <td>0.000000</td>\n",
       "      <td>0.000000</td>\n",
       "      <td>0.0</td>\n",
       "    </tr>\n",
       "    <tr>\n",
       "      <th>2</th>\n",
       "      <td>3.612065</td>\n",
       "      <td>2.883038</td>\n",
       "      <td>0.000000</td>\n",
       "      <td>0.000000</td>\n",
       "      <td>0.000000</td>\n",
       "      <td>0.000000</td>\n",
       "      <td>0.000000</td>\n",
       "      <td>0.000000</td>\n",
       "      <td>0.000000</td>\n",
       "      <td>0.000000</td>\n",
       "      <td>...</td>\n",
       "      <td>0.000000</td>\n",
       "      <td>0.000000</td>\n",
       "      <td>0.000000</td>\n",
       "      <td>0.000000</td>\n",
       "      <td>0.000000</td>\n",
       "      <td>0.000000</td>\n",
       "      <td>0.000000</td>\n",
       "      <td>0.000000</td>\n",
       "      <td>0.000000</td>\n",
       "      <td>0.0</td>\n",
       "    </tr>\n",
       "    <tr>\n",
       "      <th>3</th>\n",
       "      <td>1.612197</td>\n",
       "      <td>2.535556</td>\n",
       "      <td>5.020051</td>\n",
       "      <td>0.000000</td>\n",
       "      <td>0.000000</td>\n",
       "      <td>0.000000</td>\n",
       "      <td>0.000000</td>\n",
       "      <td>0.000000</td>\n",
       "      <td>0.000000</td>\n",
       "      <td>0.000000</td>\n",
       "      <td>...</td>\n",
       "      <td>0.000000</td>\n",
       "      <td>0.000000</td>\n",
       "      <td>0.000000</td>\n",
       "      <td>0.000000</td>\n",
       "      <td>0.000000</td>\n",
       "      <td>0.000000</td>\n",
       "      <td>0.000000</td>\n",
       "      <td>0.000000</td>\n",
       "      <td>0.000000</td>\n",
       "      <td>0.0</td>\n",
       "    </tr>\n",
       "    <tr>\n",
       "      <th>4</th>\n",
       "      <td>7.172533</td>\n",
       "      <td>6.597174</td>\n",
       "      <td>3.812771</td>\n",
       "      <td>8.296048</td>\n",
       "      <td>0.000000</td>\n",
       "      <td>0.000000</td>\n",
       "      <td>0.000000</td>\n",
       "      <td>0.000000</td>\n",
       "      <td>0.000000</td>\n",
       "      <td>0.000000</td>\n",
       "      <td>...</td>\n",
       "      <td>0.000000</td>\n",
       "      <td>0.000000</td>\n",
       "      <td>0.000000</td>\n",
       "      <td>0.000000</td>\n",
       "      <td>0.000000</td>\n",
       "      <td>0.000000</td>\n",
       "      <td>0.000000</td>\n",
       "      <td>0.000000</td>\n",
       "      <td>0.000000</td>\n",
       "      <td>0.0</td>\n",
       "    </tr>\n",
       "    <tr>\n",
       "      <th>...</th>\n",
       "      <td>...</td>\n",
       "      <td>...</td>\n",
       "      <td>...</td>\n",
       "      <td>...</td>\n",
       "      <td>...</td>\n",
       "      <td>...</td>\n",
       "      <td>...</td>\n",
       "      <td>...</td>\n",
       "      <td>...</td>\n",
       "      <td>...</td>\n",
       "      <td>...</td>\n",
       "      <td>...</td>\n",
       "      <td>...</td>\n",
       "      <td>...</td>\n",
       "      <td>...</td>\n",
       "      <td>...</td>\n",
       "      <td>...</td>\n",
       "      <td>...</td>\n",
       "      <td>...</td>\n",
       "      <td>...</td>\n",
       "      <td>...</td>\n",
       "    </tr>\n",
       "    <tr>\n",
       "      <th>823</th>\n",
       "      <td>3.725824</td>\n",
       "      <td>4.327283</td>\n",
       "      <td>5.292958</td>\n",
       "      <td>3.036291</td>\n",
       "      <td>7.295616</td>\n",
       "      <td>0.202555</td>\n",
       "      <td>4.063652</td>\n",
       "      <td>5.836930</td>\n",
       "      <td>3.742528</td>\n",
       "      <td>1.579638</td>\n",
       "      <td>...</td>\n",
       "      <td>3.304588</td>\n",
       "      <td>4.467109</td>\n",
       "      <td>2.634637</td>\n",
       "      <td>4.183028</td>\n",
       "      <td>4.332900</td>\n",
       "      <td>0.000000</td>\n",
       "      <td>0.000000</td>\n",
       "      <td>0.000000</td>\n",
       "      <td>0.000000</td>\n",
       "      <td>0.0</td>\n",
       "    </tr>\n",
       "    <tr>\n",
       "      <th>824</th>\n",
       "      <td>3.537835</td>\n",
       "      <td>3.104777</td>\n",
       "      <td>1.370990</td>\n",
       "      <td>4.619067</td>\n",
       "      <td>3.681768</td>\n",
       "      <td>4.079299</td>\n",
       "      <td>2.794303</td>\n",
       "      <td>2.273848</td>\n",
       "      <td>4.102576</td>\n",
       "      <td>4.407666</td>\n",
       "      <td>...</td>\n",
       "      <td>3.444969</td>\n",
       "      <td>2.976588</td>\n",
       "      <td>3.177614</td>\n",
       "      <td>2.430820</td>\n",
       "      <td>0.167095</td>\n",
       "      <td>4.181314</td>\n",
       "      <td>0.000000</td>\n",
       "      <td>0.000000</td>\n",
       "      <td>0.000000</td>\n",
       "      <td>0.0</td>\n",
       "    </tr>\n",
       "    <tr>\n",
       "      <th>825</th>\n",
       "      <td>1.354559</td>\n",
       "      <td>0.682937</td>\n",
       "      <td>2.268283</td>\n",
       "      <td>2.871986</td>\n",
       "      <td>5.929110</td>\n",
       "      <td>3.955432</td>\n",
       "      <td>0.416333</td>\n",
       "      <td>2.165560</td>\n",
       "      <td>1.958456</td>\n",
       "      <td>5.142899</td>\n",
       "      <td>...</td>\n",
       "      <td>1.498590</td>\n",
       "      <td>0.571079</td>\n",
       "      <td>1.749942</td>\n",
       "      <td>0.044789</td>\n",
       "      <td>2.540849</td>\n",
       "      <td>4.138568</td>\n",
       "      <td>2.423426</td>\n",
       "      <td>0.000000</td>\n",
       "      <td>0.000000</td>\n",
       "      <td>0.0</td>\n",
       "    </tr>\n",
       "    <tr>\n",
       "      <th>826</th>\n",
       "      <td>3.296734</td>\n",
       "      <td>2.655543</td>\n",
       "      <td>0.517259</td>\n",
       "      <td>4.626629</td>\n",
       "      <td>3.943605</td>\n",
       "      <td>4.647700</td>\n",
       "      <td>2.409787</td>\n",
       "      <td>1.336365</td>\n",
       "      <td>3.897739</td>\n",
       "      <td>5.209246</td>\n",
       "      <td>...</td>\n",
       "      <td>3.317817</td>\n",
       "      <td>2.471922</td>\n",
       "      <td>3.243072</td>\n",
       "      <td>1.986686</td>\n",
       "      <td>0.926686</td>\n",
       "      <td>4.777399</td>\n",
       "      <td>0.938754</td>\n",
       "      <td>1.996227</td>\n",
       "      <td>0.000000</td>\n",
       "      <td>0.0</td>\n",
       "    </tr>\n",
       "    <tr>\n",
       "      <th>827</th>\n",
       "      <td>2.200012</td>\n",
       "      <td>1.808698</td>\n",
       "      <td>1.726577</td>\n",
       "      <td>3.389686</td>\n",
       "      <td>4.984109</td>\n",
       "      <td>3.543727</td>\n",
       "      <td>1.478715</td>\n",
       "      <td>2.141080</td>\n",
       "      <td>2.773585</td>\n",
       "      <td>4.399275</td>\n",
       "      <td>...</td>\n",
       "      <td>2.135381</td>\n",
       "      <td>1.719405</td>\n",
       "      <td>1.983275</td>\n",
       "      <td>1.166904</td>\n",
       "      <td>1.481280</td>\n",
       "      <td>3.695880</td>\n",
       "      <td>1.340621</td>\n",
       "      <td>1.148496</td>\n",
       "      <td>1.266059</td>\n",
       "      <td>0.0</td>\n",
       "    </tr>\n",
       "  </tbody>\n",
       "</table>\n",
       "<p>828 rows × 828 columns</p>\n",
       "</div>"
      ],
      "text/plain": [
       "          0         1         2         3         4         5         6    \\\n",
       "0    0.000000  0.000000  0.000000  0.000000  0.000000  0.000000  0.000000   \n",
       "1    0.923634  0.000000  0.000000  0.000000  0.000000  0.000000  0.000000   \n",
       "2    3.612065  2.883038  0.000000  0.000000  0.000000  0.000000  0.000000   \n",
       "3    1.612197  2.535556  5.020051  0.000000  0.000000  0.000000  0.000000   \n",
       "4    7.172533  6.597174  3.812771  8.296048  0.000000  0.000000  0.000000   \n",
       "..        ...       ...       ...       ...       ...       ...       ...   \n",
       "823  3.725824  4.327283  5.292958  3.036291  7.295616  0.202555  4.063652   \n",
       "824  3.537835  3.104777  1.370990  4.619067  3.681768  4.079299  2.794303   \n",
       "825  1.354559  0.682937  2.268283  2.871986  5.929110  3.955432  0.416333   \n",
       "826  3.296734  2.655543  0.517259  4.626629  3.943605  4.647700  2.409787   \n",
       "827  2.200012  1.808698  1.726577  3.389686  4.984109  3.543727  1.478715   \n",
       "\n",
       "          7         8         9    ...       818       819       820  \\\n",
       "0    0.000000  0.000000  0.000000  ...  0.000000  0.000000  0.000000   \n",
       "1    0.000000  0.000000  0.000000  ...  0.000000  0.000000  0.000000   \n",
       "2    0.000000  0.000000  0.000000  ...  0.000000  0.000000  0.000000   \n",
       "3    0.000000  0.000000  0.000000  ...  0.000000  0.000000  0.000000   \n",
       "4    0.000000  0.000000  0.000000  ...  0.000000  0.000000  0.000000   \n",
       "..        ...       ...       ...  ...       ...       ...       ...   \n",
       "823  5.836930  3.742528  1.579638  ...  3.304588  4.467109  2.634637   \n",
       "824  2.273848  4.102576  4.407666  ...  3.444969  2.976588  3.177614   \n",
       "825  2.165560  1.958456  5.142899  ...  1.498590  0.571079  1.749942   \n",
       "826  1.336365  3.897739  5.209246  ...  3.317817  2.471922  3.243072   \n",
       "827  2.141080  2.773585  4.399275  ...  2.135381  1.719405  1.983275   \n",
       "\n",
       "          821       822       823       824       825       826  827  \n",
       "0    0.000000  0.000000  0.000000  0.000000  0.000000  0.000000  0.0  \n",
       "1    0.000000  0.000000  0.000000  0.000000  0.000000  0.000000  0.0  \n",
       "2    0.000000  0.000000  0.000000  0.000000  0.000000  0.000000  0.0  \n",
       "3    0.000000  0.000000  0.000000  0.000000  0.000000  0.000000  0.0  \n",
       "4    0.000000  0.000000  0.000000  0.000000  0.000000  0.000000  0.0  \n",
       "..        ...       ...       ...       ...       ...       ...  ...  \n",
       "823  4.183028  4.332900  0.000000  0.000000  0.000000  0.000000  0.0  \n",
       "824  2.430820  0.167095  4.181314  0.000000  0.000000  0.000000  0.0  \n",
       "825  0.044789  2.540849  4.138568  2.423426  0.000000  0.000000  0.0  \n",
       "826  1.986686  0.926686  4.777399  0.938754  1.996227  0.000000  0.0  \n",
       "827  1.166904  1.481280  3.695880  1.340621  1.148496  1.266059  0.0  \n",
       "\n",
       "[828 rows x 828 columns]"
      ]
     },
     "execution_count": 11,
     "metadata": {},
     "output_type": "execute_result"
    }
   ],
   "source": [
    "distdf"
   ]
  },
  {
   "cell_type": "code",
   "execution_count": 12,
   "metadata": {},
   "outputs": [],
   "source": [
    "#distdf=distdf.replace({100: 0}, regex=True) #removes the 100"
   ]
  },
  {
   "cell_type": "code",
   "execution_count": 13,
   "metadata": {},
   "outputs": [],
   "source": [
    "distdf.to_csv(r'Distance_Matrix.csv', index=False)"
   ]
  },
  {
   "cell_type": "code",
   "execution_count": 15,
   "metadata": {},
   "outputs": [],
   "source": [
    "#ones in blueste have nas bc unit numbers and geopy cant find but there are only 7 fill in this \n",
    "\n",
    "\n",
    "#distancetoUoI([42.001852, -93.644843])"
   ]
  },
  {
   "cell_type": "code",
   "execution_count": 16,
   "metadata": {},
   "outputs": [],
   "source": [
    "#plt.plot(tdata.Lat_Long[0][0],tdata.Lat_Long[0][1])"
   ]
  },
  {
   "cell_type": "code",
   "execution_count": 17,
   "metadata": {},
   "outputs": [],
   "source": [
    "def seperatelat(latlong):\n",
    "    try:\n",
    "        return latlong[0]\n",
    "    except:\n",
    "        return ''\n",
    "def seperatelong(latlong):\n",
    "    try:\n",
    "        return latlong[1]\n",
    "    except:\n",
    "        return ''\n",
    "#tdata['Lat'], tdata['Long']=\n",
    "tdata['Lat']=tdata.Lat_Long.apply(lambda x: seperatelat(x))\n",
    "tdata['Long']=tdata.Lat_Long.apply(lambda x: seperatelong(x))"
   ]
  },
  {
   "cell_type": "code",
   "execution_count": 18,
   "metadata": {},
   "outputs": [
    {
     "data": {
      "text/plain": [
       "(41.98265753783516, 42.0671477054616, -93.69863507461659, -93.5748322797817)"
      ]
     },
     "execution_count": 18,
     "metadata": {},
     "output_type": "execute_result"
    },
    {
     "data": {
      "image/png": "[encoded data removed]",
      "text/plain": [
       "<Figure size 432x288 with 1 Axes>"
      ]
     },
     "metadata": {
      "needs_background": "light"
     },
     "output_type": "display_data"
    }
   ],
   "source": [
    "plt.scatter(tdata.Lat,tdata.Long)\n",
    "plt.scatter(42.026640, -93.646456, c='red')\n",
    "plt.axis()"
   ]
  },
  {
   "cell_type": "code",
   "execution_count": 19,
   "metadata": {},
   "outputs": [
    {
     "ename": "NameError",
     "evalue": "name 'xmin' is not defined",
     "output_type": "error",
     "traceback": [
      "\u001b[0;31m---------------------------------------------------------------------------\u001b[0m",
      "\u001b[0;31mNameError\u001b[0m                                 Traceback (most recent call last)",
      "\u001b[0;32m<ipython-input-19-334b2b948891>\u001b[0m in \u001b[0;36m<module>\u001b[0;34m\u001b[0m\n\u001b[0;32m----> 1\u001b[0;31m \u001b[0mxmin\u001b[0m\u001b[0;34m\u001b[0m\u001b[0;34m\u001b[0m\u001b[0m\n\u001b[0m",
      "\u001b[0;31mNameError\u001b[0m: name 'xmin' is not defined"
     ]
    }
   ],
   "source": [
    "xmin"
   ]
  },
  {
   "cell_type": "code",
   "execution_count": 20,
   "metadata": {},
   "outputs": [
    {
     "name": "stderr",
     "output_type": "stream",
     "text": [
      "/Users/gabbyklein/opt/anaconda3/lib/python3.8/site-packages/gmplot/color.py:194: UserWarning: Color '# FF0000' isn't supported.\n",
      "  warnings.warn(\"Color '%s' isn't supported.\" % color)\n"
     ]
    }
   ],
   "source": [
    "\n",
    "  \n",
    "latitude_list = tdata.Lat\n",
    "longitude_list = tdata.Long\n",
    "  \n",
    "gmap3 = gmplot.GoogleMapPlotter(42,\n",
    "                               -93.5, 13)\n",
    "  \n",
    "\n",
    "# scatter points on the google map\n",
    "gmap3.scatter( latitude_list, longitude_list, '# FF0000',\n",
    "                              size = 40, marker = False )\n",
    "\n",
    "gmap3.draw( \"mapofiowa.html\" )"
   ]
  },
  {
   "cell_type": "code",
   "execution_count": null,
   "metadata": {},
   "outputs": [],
   "source": []
  }
 ],
 "metadata": {
  "kernelspec": {
   "display_name": "Python 3",
   "language": "python",
   "name": "python3"
  },
  "language_info": {
   "codemirror_mode": {
    "name": "ipython",
    "version": 3
   },
   "file_extension": ".py",
   "mimetype": "text/x-python",
   "name": "python",
   "nbconvert_exporter": "python",
   "pygments_lexer": "ipython3",
   "version": "3.8.5"
  }
 },
 "nbformat": 4,
 "nbformat_minor": 4
}
