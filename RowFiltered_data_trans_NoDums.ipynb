{
 "cells": [
  {
   "cell_type": "code",
   "execution_count": 198,
   "metadata": {},
   "outputs": [],
   "source": [
    "#import geopy\n",
    "from geopy import Nominatim\n",
    "from geopy.extra.rate_limiter import RateLimiter\n",
    "from geopy.distance import great_circle\n",
    "import numpy as np\n",
    "import pandas as pd\n",
    "import matplotlib.pyplot as plt\n",
    "import seaborn as sns\n",
    "from sklearn.model_selection import train_test_split"
   ]
  },
  {
   "cell_type": "code",
   "execution_count": 199,
   "metadata": {},
   "outputs": [],
   "source": [
    "raw_data = pd.read_csv('merge_data_update.csv', index_col=0)"
   ]
  },
  {
   "cell_type": "code",
   "execution_count": 200,
   "metadata": {},
   "outputs": [],
   "source": [
    "# Analysis of what rows should be dropped is in \n",
    "# the second half of the Correlation_Multicollinearity_Investigation.ipynb notebook."
   ]
  },
  {
   "cell_type": "markdown",
   "metadata": {},
   "source": [
    "Drop List:\n",
    "- MSSubClasses 90 and 190.(multi-family properties)\n",
    "- New Home sales and Court Officer Deed sales (shown to have different characteristics from others).\n",
    "- Abnormal Sale Condition (foreclosures, etc), they dont fit the distribution, as seen by t-test. \n",
    "- Max GrLivArea = 3000sqft. Upper boxplot whisker for home size at 2,654sqft, still some values up to 3,000sqft, and close enough to the common data values to likey not have significant errors\n",
    "- MSZoning drop C, I, A (focused on residential properties)\n",
    "- LotArea, cutoff at 43,560 (1 acre. Very large for Ames, Iowa).\n",
    "- Utilities, drop NoSewr. Not enough homes with septic tanks in the dataset (only 2) to model the hit to home value from not being connected to public sewers.\n",
    "- OverallQual - Drop 1 and 2. We are not interested in pricing homes of extremely substandard quality. "
   ]
  },
  {
   "cell_type": "code",
   "execution_count": 201,
   "metadata": {},
   "outputs": [
    {
     "name": "stdout",
     "output_type": "stream",
     "text": [
      "MS Subclass Drops:  140\n",
      "SaleType Subclass Drops:  125\n",
      "Abnormal Sale Condition drops:  44\n",
      "Large SqFt drops:  16\n",
      "MSZoning drops:  13\n",
      "LotArea cutoff drops:  11\n",
      "No Sewer drops:  1\n",
      "OverallQual drops:  11\n",
      "\n",
      "Total number of rows dropped:  361\n"
     ]
    }
   ],
   "source": [
    "# Drop Column Formulation\n",
    "\n",
    "# Multi-fam drops\n",
    "MS90 = raw_data['MSSubClass']==90\n",
    "MS190 = raw_data['MSSubClass']==190\n",
    "MSSubClass_drops = np.logical_or(MS90, MS190)\n",
    "print('MS Subclass Drops: ', np.sum(MSSubClass_drops))\n",
    "\n",
    "# SaleType Drops\n",
    "new_sales = raw_data['SaleType']=='New'\n",
    "COD_sales = raw_data['SaleType']=='COD'\n",
    "SaleType_drops = np.logical_or(new_sales, COD_sales)\n",
    "tot1_drops = np.logical_or(MSSubClass_drops, SaleType_drops)\n",
    "print('SaleType Subclass Drops: ', np.sum(tot1_drops)-np.sum(MSSubClass_drops))\n",
    "\n",
    "# Abnormal Condition drops\n",
    "abnormal_drops = raw_data['SaleCondition']=='Abnorml'\n",
    "tot2_drops = np.logical_or(abnormal_drops, tot1_drops)\n",
    "print('Abnormal Sale Condition drops: ', np.sum(tot2_drops) - np.sum(tot1_drops))\n",
    "\n",
    "# Square Footage Cutoff\n",
    "lg_sqft = raw_data['GrLivArea']>3000\n",
    "tot3_drops = np.logical_or(tot2_drops, lg_sqft)\n",
    "print('Large SqFt drops: ', np.sum(tot3_drops) - np.sum(tot2_drops))\n",
    "\n",
    "# Zoning C, I, A drops\n",
    "zoning_drops = np.logical_or(np.logical_or(raw_data['MSZoning']=='C (all)', raw_data['MSZoning']=='I (all)'), \n",
    "                            raw_data['MSZoning']=='A (agr)')\n",
    "tot4_drops = np.logical_or(zoning_drops, tot3_drops)\n",
    "print('MSZoning drops: ', np.sum(tot4_drops) - np.sum(tot3_drops))\n",
    "\n",
    "#LotArea cutoff \n",
    "lots_cutoff = raw_data['LotArea']>43560\n",
    "tot5_drops = np.logical_or(lots_cutoff, tot4_drops)\n",
    "print('LotArea cutoff drops: ', np.sum(tot5_drops) - np.sum(tot4_drops))\n",
    "\n",
    "#Utilities NoSewr drop\n",
    "no_sewer = raw_data['Utilities']=='NoSewr'\n",
    "tot6_drops = np.logical_or(no_sewer, tot5_drops)\n",
    "print('No Sewer drops: ', np.sum(tot6_drops) - np.sum(tot5_drops))\n",
    "\n",
    "# OverallQual drops\n",
    "oq_drops = raw_data['OverallQual']<3\n",
    "final_drops = np.logical_or(oq_drops, tot6_drops)\n",
    "print('OverallQual drops: ', np.sum(final_drops) - np.sum(tot6_drops))\n",
    "\n",
    "# Total Drop Number\n",
    "print('\\nTotal number of rows dropped: ', np.sum(final_drops))"
   ]
  },
  {
   "cell_type": "code",
   "execution_count": 202,
   "metadata": {
    "scrolled": false
   },
   "outputs": [
    {
     "name": "stdout",
     "output_type": "stream",
     "text": [
      "Rows in filtered data:  2219\n"
     ]
    }
   ],
   "source": [
    "tdata = raw_data[~final_drops]\n",
    "print('Rows in filtered data: ', tdata.shape[0])\n"
   ]
  },
  {
   "cell_type": "code",
   "execution_count": 203,
   "metadata": {},
   "outputs": [
    {
     "data": {
      "text/html": [
       "<div>\n",
       "<style scoped>\n",
       "    .dataframe tbody tr th:only-of-type {\n",
       "        vertical-align: middle;\n",
       "    }\n",
       "\n",
       "    .dataframe tbody tr th {\n",
       "        vertical-align: top;\n",
       "    }\n",
       "\n",
       "    .dataframe thead th {\n",
       "        text-align: right;\n",
       "    }\n",
       "</style>\n",
       "<table border=\"1\" class=\"dataframe\">\n",
       "  <thead>\n",
       "    <tr style=\"text-align: right;\">\n",
       "      <th></th>\n",
       "      <th>PID</th>\n",
       "      <th>GrLivArea</th>\n",
       "      <th>SalePrice</th>\n",
       "      <th>MSSubClass</th>\n",
       "      <th>MSZoning</th>\n",
       "      <th>LotFrontage</th>\n",
       "      <th>LotArea</th>\n",
       "      <th>Street</th>\n",
       "      <th>Alley</th>\n",
       "      <th>LotShape</th>\n",
       "      <th>...</th>\n",
       "      <th>ClassPr_S</th>\n",
       "      <th>ClassSc_S</th>\n",
       "      <th>SchD_S</th>\n",
       "      <th>TxD_S</th>\n",
       "      <th>LndAc_S</th>\n",
       "      <th>ImpAc_S</th>\n",
       "      <th>OthAc_S</th>\n",
       "      <th>HSTtl_D</th>\n",
       "      <th>HSTtl_S</th>\n",
       "      <th>GLA</th>\n",
       "    </tr>\n",
       "  </thead>\n",
       "  <tbody>\n",
       "    <tr>\n",
       "      <th>0</th>\n",
       "      <td>909176150</td>\n",
       "      <td>856</td>\n",
       "      <td>126000</td>\n",
       "      <td>30</td>\n",
       "      <td>RL</td>\n",
       "      <td>NaN</td>\n",
       "      <td>7890</td>\n",
       "      <td>Pave</td>\n",
       "      <td>NaN</td>\n",
       "      <td>Reg</td>\n",
       "      <td>...</td>\n",
       "      <td>RESIDENTIAL</td>\n",
       "      <td>1-STORY 1945 &amp; OLDER</td>\n",
       "      <td>1.0</td>\n",
       "      <td>1.0</td>\n",
       "      <td>37300.0</td>\n",
       "      <td>0.0</td>\n",
       "      <td>111700.0</td>\n",
       "      <td>NaN</td>\n",
       "      <td>NaN</td>\n",
       "      <td>856.0</td>\n",
       "    </tr>\n",
       "    <tr>\n",
       "      <th>1</th>\n",
       "      <td>905476230</td>\n",
       "      <td>1049</td>\n",
       "      <td>139500</td>\n",
       "      <td>120</td>\n",
       "      <td>RL</td>\n",
       "      <td>42.0</td>\n",
       "      <td>4235</td>\n",
       "      <td>Pave</td>\n",
       "      <td>NaN</td>\n",
       "      <td>Reg</td>\n",
       "      <td>...</td>\n",
       "      <td>RESIDENTIAL</td>\n",
       "      <td>1-STORY TWNHM - 1946 &amp; NEWER</td>\n",
       "      <td>1.0</td>\n",
       "      <td>1.0</td>\n",
       "      <td>43500.0</td>\n",
       "      <td>0.0</td>\n",
       "      <td>130600.0</td>\n",
       "      <td>NaN</td>\n",
       "      <td>NaN</td>\n",
       "      <td>1049.0</td>\n",
       "    </tr>\n",
       "    <tr>\n",
       "      <th>3</th>\n",
       "      <td>535377150</td>\n",
       "      <td>1039</td>\n",
       "      <td>114000</td>\n",
       "      <td>70</td>\n",
       "      <td>RL</td>\n",
       "      <td>80.0</td>\n",
       "      <td>8146</td>\n",
       "      <td>Pave</td>\n",
       "      <td>NaN</td>\n",
       "      <td>Reg</td>\n",
       "      <td>...</td>\n",
       "      <td>RESIDENTIAL</td>\n",
       "      <td>2-STORY 1945 &amp; OLDER</td>\n",
       "      <td>1.0</td>\n",
       "      <td>1.0</td>\n",
       "      <td>31100.0</td>\n",
       "      <td>0.0</td>\n",
       "      <td>93300.0</td>\n",
       "      <td>NaN</td>\n",
       "      <td>4850.0</td>\n",
       "      <td>1039.0</td>\n",
       "    </tr>\n",
       "    <tr>\n",
       "      <th>4</th>\n",
       "      <td>534177230</td>\n",
       "      <td>1665</td>\n",
       "      <td>227000</td>\n",
       "      <td>60</td>\n",
       "      <td>RL</td>\n",
       "      <td>70.0</td>\n",
       "      <td>8400</td>\n",
       "      <td>Pave</td>\n",
       "      <td>NaN</td>\n",
       "      <td>Reg</td>\n",
       "      <td>...</td>\n",
       "      <td>RESIDENTIAL</td>\n",
       "      <td>2-STORY 1946 &amp; NEWER</td>\n",
       "      <td>1.0</td>\n",
       "      <td>1.0</td>\n",
       "      <td>64300.0</td>\n",
       "      <td>0.0</td>\n",
       "      <td>192800.0</td>\n",
       "      <td>NaN</td>\n",
       "      <td>NaN</td>\n",
       "      <td>1665.0</td>\n",
       "    </tr>\n",
       "    <tr>\n",
       "      <th>5</th>\n",
       "      <td>908128060</td>\n",
       "      <td>1922</td>\n",
       "      <td>198500</td>\n",
       "      <td>85</td>\n",
       "      <td>RL</td>\n",
       "      <td>64.0</td>\n",
       "      <td>7301</td>\n",
       "      <td>Pave</td>\n",
       "      <td>NaN</td>\n",
       "      <td>Reg</td>\n",
       "      <td>...</td>\n",
       "      <td>RESIDENTIAL</td>\n",
       "      <td>SPLIT FOYER</td>\n",
       "      <td>1.0</td>\n",
       "      <td>1.0</td>\n",
       "      <td>53700.0</td>\n",
       "      <td>0.0</td>\n",
       "      <td>161100.0</td>\n",
       "      <td>NaN</td>\n",
       "      <td>NaN</td>\n",
       "      <td>1922.0</td>\n",
       "    </tr>\n",
       "    <tr>\n",
       "      <th>...</th>\n",
       "      <td>...</td>\n",
       "      <td>...</td>\n",
       "      <td>...</td>\n",
       "      <td>...</td>\n",
       "      <td>...</td>\n",
       "      <td>...</td>\n",
       "      <td>...</td>\n",
       "      <td>...</td>\n",
       "      <td>...</td>\n",
       "      <td>...</td>\n",
       "      <td>...</td>\n",
       "      <td>...</td>\n",
       "      <td>...</td>\n",
       "      <td>...</td>\n",
       "      <td>...</td>\n",
       "      <td>...</td>\n",
       "      <td>...</td>\n",
       "      <td>...</td>\n",
       "      <td>...</td>\n",
       "      <td>...</td>\n",
       "      <td>...</td>\n",
       "    </tr>\n",
       "    <tr>\n",
       "      <th>2574</th>\n",
       "      <td>908128100</td>\n",
       "      <td>1724</td>\n",
       "      <td>196500</td>\n",
       "      <td>60</td>\n",
       "      <td>RL</td>\n",
       "      <td>62.0</td>\n",
       "      <td>7162</td>\n",
       "      <td>Pave</td>\n",
       "      <td>NaN</td>\n",
       "      <td>Reg</td>\n",
       "      <td>...</td>\n",
       "      <td>RESIDENTIAL</td>\n",
       "      <td>2-STORY 1946 &amp; NEWER</td>\n",
       "      <td>1.0</td>\n",
       "      <td>1.0</td>\n",
       "      <td>54700.0</td>\n",
       "      <td>0.0</td>\n",
       "      <td>163900.0</td>\n",
       "      <td>4850.0</td>\n",
       "      <td>4850.0</td>\n",
       "      <td>1725.0</td>\n",
       "    </tr>\n",
       "    <tr>\n",
       "      <th>2575</th>\n",
       "      <td>903205040</td>\n",
       "      <td>952</td>\n",
       "      <td>121000</td>\n",
       "      <td>30</td>\n",
       "      <td>RL</td>\n",
       "      <td>NaN</td>\n",
       "      <td>8854</td>\n",
       "      <td>Pave</td>\n",
       "      <td>NaN</td>\n",
       "      <td>Reg</td>\n",
       "      <td>...</td>\n",
       "      <td>RESIDENTIAL</td>\n",
       "      <td>1-STORY 1945 &amp; OLDER</td>\n",
       "      <td>1.0</td>\n",
       "      <td>1.0</td>\n",
       "      <td>34600.0</td>\n",
       "      <td>0.0</td>\n",
       "      <td>103900.0</td>\n",
       "      <td>4850.0</td>\n",
       "      <td>4850.0</td>\n",
       "      <td>952.0</td>\n",
       "    </tr>\n",
       "    <tr>\n",
       "      <th>2576</th>\n",
       "      <td>905402060</td>\n",
       "      <td>1733</td>\n",
       "      <td>139600</td>\n",
       "      <td>20</td>\n",
       "      <td>RL</td>\n",
       "      <td>NaN</td>\n",
       "      <td>13680</td>\n",
       "      <td>Pave</td>\n",
       "      <td>NaN</td>\n",
       "      <td>IR1</td>\n",
       "      <td>...</td>\n",
       "      <td>RESIDENTIAL</td>\n",
       "      <td>1-STORY 1946 &amp; NEWER ALL STYLES</td>\n",
       "      <td>1.0</td>\n",
       "      <td>1.0</td>\n",
       "      <td>46300.0</td>\n",
       "      <td>0.0</td>\n",
       "      <td>138800.0</td>\n",
       "      <td>NaN</td>\n",
       "      <td>NaN</td>\n",
       "      <td>1733.0</td>\n",
       "    </tr>\n",
       "    <tr>\n",
       "      <th>2578</th>\n",
       "      <td>907192040</td>\n",
       "      <td>1842</td>\n",
       "      <td>217500</td>\n",
       "      <td>60</td>\n",
       "      <td>RL</td>\n",
       "      <td>NaN</td>\n",
       "      <td>8826</td>\n",
       "      <td>Pave</td>\n",
       "      <td>NaN</td>\n",
       "      <td>Reg</td>\n",
       "      <td>...</td>\n",
       "      <td>RESIDENTIAL</td>\n",
       "      <td>2-STORY 1946 &amp; NEWER</td>\n",
       "      <td>1.0</td>\n",
       "      <td>1.0</td>\n",
       "      <td>66300.0</td>\n",
       "      <td>0.0</td>\n",
       "      <td>198900.0</td>\n",
       "      <td>4850.0</td>\n",
       "      <td>4850.0</td>\n",
       "      <td>1842.0</td>\n",
       "    </tr>\n",
       "    <tr>\n",
       "      <th>2579</th>\n",
       "      <td>906223180</td>\n",
       "      <td>1911</td>\n",
       "      <td>215000</td>\n",
       "      <td>60</td>\n",
       "      <td>RL</td>\n",
       "      <td>80.0</td>\n",
       "      <td>9554</td>\n",
       "      <td>Pave</td>\n",
       "      <td>NaN</td>\n",
       "      <td>IR1</td>\n",
       "      <td>...</td>\n",
       "      <td>RESIDENTIAL</td>\n",
       "      <td>2-STORY 1946 &amp; NEWER</td>\n",
       "      <td>1.0</td>\n",
       "      <td>1.0</td>\n",
       "      <td>62700.0</td>\n",
       "      <td>0.0</td>\n",
       "      <td>187900.0</td>\n",
       "      <td>NaN</td>\n",
       "      <td>NaN</td>\n",
       "      <td>1911.0</td>\n",
       "    </tr>\n",
       "  </tbody>\n",
       "</table>\n",
       "<p>2219 rows × 97 columns</p>\n",
       "</div>"
      ],
      "text/plain": [
       "            PID  GrLivArea  SalePrice  MSSubClass MSZoning  LotFrontage  \\\n",
       "0     909176150        856     126000          30       RL          NaN   \n",
       "1     905476230       1049     139500         120       RL         42.0   \n",
       "3     535377150       1039     114000          70       RL         80.0   \n",
       "4     534177230       1665     227000          60       RL         70.0   \n",
       "5     908128060       1922     198500          85       RL         64.0   \n",
       "...         ...        ...        ...         ...      ...          ...   \n",
       "2574  908128100       1724     196500          60       RL         62.0   \n",
       "2575  903205040        952     121000          30       RL          NaN   \n",
       "2576  905402060       1733     139600          20       RL          NaN   \n",
       "2578  907192040       1842     217500          60       RL          NaN   \n",
       "2579  906223180       1911     215000          60       RL         80.0   \n",
       "\n",
       "      LotArea Street Alley LotShape  ...    ClassPr_S  \\\n",
       "0        7890   Pave   NaN      Reg  ...  RESIDENTIAL   \n",
       "1        4235   Pave   NaN      Reg  ...  RESIDENTIAL   \n",
       "3        8146   Pave   NaN      Reg  ...  RESIDENTIAL   \n",
       "4        8400   Pave   NaN      Reg  ...  RESIDENTIAL   \n",
       "5        7301   Pave   NaN      Reg  ...  RESIDENTIAL   \n",
       "...       ...    ...   ...      ...  ...          ...   \n",
       "2574     7162   Pave   NaN      Reg  ...  RESIDENTIAL   \n",
       "2575     8854   Pave   NaN      Reg  ...  RESIDENTIAL   \n",
       "2576    13680   Pave   NaN      IR1  ...  RESIDENTIAL   \n",
       "2578     8826   Pave   NaN      Reg  ...  RESIDENTIAL   \n",
       "2579     9554   Pave   NaN      IR1  ...  RESIDENTIAL   \n",
       "\n",
       "                            ClassSc_S SchD_S TxD_S  LndAc_S ImpAc_S   OthAc_S  \\\n",
       "0                1-STORY 1945 & OLDER    1.0   1.0  37300.0     0.0  111700.0   \n",
       "1        1-STORY TWNHM - 1946 & NEWER    1.0   1.0  43500.0     0.0  130600.0   \n",
       "3                2-STORY 1945 & OLDER    1.0   1.0  31100.0     0.0   93300.0   \n",
       "4                2-STORY 1946 & NEWER    1.0   1.0  64300.0     0.0  192800.0   \n",
       "5                         SPLIT FOYER    1.0   1.0  53700.0     0.0  161100.0   \n",
       "...                               ...    ...   ...      ...     ...       ...   \n",
       "2574             2-STORY 1946 & NEWER    1.0   1.0  54700.0     0.0  163900.0   \n",
       "2575             1-STORY 1945 & OLDER    1.0   1.0  34600.0     0.0  103900.0   \n",
       "2576  1-STORY 1946 & NEWER ALL STYLES    1.0   1.0  46300.0     0.0  138800.0   \n",
       "2578             2-STORY 1946 & NEWER    1.0   1.0  66300.0     0.0  198900.0   \n",
       "2579             2-STORY 1946 & NEWER    1.0   1.0  62700.0     0.0  187900.0   \n",
       "\n",
       "     HSTtl_D HSTtl_S     GLA  \n",
       "0        NaN     NaN   856.0  \n",
       "1        NaN     NaN  1049.0  \n",
       "3        NaN  4850.0  1039.0  \n",
       "4        NaN     NaN  1665.0  \n",
       "5        NaN     NaN  1922.0  \n",
       "...      ...     ...     ...  \n",
       "2574  4850.0  4850.0  1725.0  \n",
       "2575  4850.0  4850.0   952.0  \n",
       "2576     NaN     NaN  1733.0  \n",
       "2578  4850.0  4850.0  1842.0  \n",
       "2579     NaN     NaN  1911.0  \n",
       "\n",
       "[2219 rows x 97 columns]"
      ]
     },
     "execution_count": 203,
     "metadata": {},
     "output_type": "execute_result"
    }
   ],
   "source": [
    "tdata"
   ]
  },
  {
   "cell_type": "code",
   "execution_count": 204,
   "metadata": {},
   "outputs": [
    {
     "data": {
      "text/plain": [
       "Index(['PID', 'GrLivArea', 'SalePrice', 'MSSubClass', 'MSZoning',\n",
       "       'LotFrontage', 'LotArea', 'Street', 'Alley', 'LotShape', 'LandContour',\n",
       "       'Utilities', 'LotConfig', 'LandSlope', 'Neighborhood', 'Condition1',\n",
       "       'Condition2', 'BldgType', 'HouseStyle', 'OverallQual', 'OverallCond',\n",
       "       'YearBuilt', 'YearRemodAdd', 'RoofStyle', 'RoofMatl', 'Exterior1st',\n",
       "       'Exterior2nd', 'MasVnrType', 'MasVnrArea', 'ExterQual', 'ExterCond',\n",
       "       'Foundation', 'BsmtQual', 'BsmtCond', 'BsmtExposure', 'BsmtFinType1',\n",
       "       'BsmtFinSF1', 'BsmtFinType2', 'BsmtFinSF2', 'BsmtUnfSF', 'TotalBsmtSF',\n",
       "       'Heating', 'HeatingQC', 'CentralAir', 'Electrical', '1stFlrSF',\n",
       "       '2ndFlrSF', 'LowQualFinSF', 'BsmtFullBath', 'BsmtHalfBath', 'FullBath',\n",
       "       'HalfBath', 'BedroomAbvGr', 'KitchenAbvGr', 'KitchenQual',\n",
       "       'TotRmsAbvGrd', 'Functional', 'Fireplaces', 'FireplaceQu', 'GarageType',\n",
       "       'GarageYrBlt', 'GarageFinish', 'GarageCars', 'GarageArea', 'GarageQual',\n",
       "       'GarageCond', 'PavedDrive', 'WoodDeckSF', 'OpenPorchSF',\n",
       "       'EnclosedPorch', '3SsnPorch', 'ScreenPorch', 'PoolArea', 'PoolQC',\n",
       "       'Fence', 'MiscFeature', 'MiscVal', 'MoSold', 'YrSold', 'SaleType',\n",
       "       'SaleCondition', 'MapRefNo', 'GeoRefNo', 'Prop_Addr', 'ZngCdPr',\n",
       "       'ZngOLPr', 'ZngOLSc', 'ClassPr_S', 'ClassSc_S', 'SchD_S', 'TxD_S',\n",
       "       'LndAc_S', 'ImpAc_S', 'OthAc_S', 'HSTtl_D', 'HSTtl_S', 'GLA'],\n",
       "      dtype='object')"
      ]
     },
     "execution_count": 204,
     "metadata": {},
     "output_type": "execute_result"
    }
   ],
   "source": [
    "tdata.columns"
   ]
  },
  {
   "cell_type": "markdown",
   "metadata": {},
   "source": [
    "## Drop Columns"
   ]
  },
  {
   "cell_type": "code",
   "execution_count": 205,
   "metadata": {},
   "outputs": [],
   "source": [
    "# These columns will be dropped later by Gabby: 'OpenPorchSF', 'EnclosedPorch', '3SsnPorch', 'ScreenPorch'\n",
    "\n",
    "drop_list = ['Street', 'Alley', 'Utilities', 'LandSlope','Condition2', 'MapRefNo', 'ZngCdPr', 'ZngOLPr', 'ZngOLSc', \n",
    "           'ClassSc_S', 'Heating', 'LowQualFinSF', 'KitchenAbvGr', 'RoofMatl', 'ExterCond', 'BsmtFinSF1', \n",
    "           'BsmtFinSF2', 'BsmtFinType2', 'GarageQual', 'GarageCond', 'PoolArea', 'PoolQC', 'MiscFeature', 'MiscVal', 'YrSold', 'SaleType', 'SaleCondition', \n",
    "             'HSTtl_D', 'HSTtl_S', 'GLA', 'MSZoning', 'HouseStyle', 'ClassPr_S', 'ImpAc_S', 'Exterior2nd', 'GarageYrBlt',\n",
    "            'LotFrontage']"
   ]
  },
  {
   "cell_type": "code",
   "execution_count": 206,
   "metadata": {},
   "outputs": [],
   "source": [
    "tdata = tdata.drop(drop_list, axis=1)"
   ]
  },
  {
   "cell_type": "code",
   "execution_count": 207,
   "metadata": {},
   "outputs": [
    {
     "data": {
      "text/plain": [
       "Index(['PID', 'GrLivArea', 'SalePrice', 'MSSubClass', 'LotArea', 'LotShape',\n",
       "       'LandContour', 'LotConfig', 'Neighborhood', 'Condition1', 'BldgType',\n",
       "       'OverallQual', 'OverallCond', 'YearBuilt', 'YearRemodAdd', 'RoofStyle',\n",
       "       'Exterior1st', 'MasVnrType', 'MasVnrArea', 'ExterQual', 'Foundation',\n",
       "       'BsmtQual', 'BsmtCond', 'BsmtExposure', 'BsmtFinType1', 'BsmtUnfSF',\n",
       "       'TotalBsmtSF', 'HeatingQC', 'CentralAir', 'Electrical', '1stFlrSF',\n",
       "       '2ndFlrSF', 'BsmtFullBath', 'BsmtHalfBath', 'FullBath', 'HalfBath',\n",
       "       'BedroomAbvGr', 'KitchenQual', 'TotRmsAbvGrd', 'Functional',\n",
       "       'Fireplaces', 'FireplaceQu', 'GarageType', 'GarageFinish', 'GarageCars',\n",
       "       'GarageArea', 'PavedDrive', 'WoodDeckSF', 'OpenPorchSF',\n",
       "       'EnclosedPorch', '3SsnPorch', 'ScreenPorch', 'Fence', 'MoSold',\n",
       "       'GeoRefNo', 'Prop_Addr', 'SchD_S', 'TxD_S', 'LndAc_S', 'OthAc_S'],\n",
       "      dtype='object')"
      ]
     },
     "execution_count": 207,
     "metadata": {},
     "output_type": "execute_result"
    }
   ],
   "source": [
    "tdata.columns"
   ]
  },
  {
   "cell_type": "markdown",
   "metadata": {},
   "source": [
    "# ====================\n",
    "# RYAN'S CODE SECTION\n",
    "# ===================="
   ]
  },
  {
   "cell_type": "markdown",
   "metadata": {},
   "source": [
    "## For 'HeatingQC', combine the one 'Po' with 'Fa' and Dummify"
   ]
  },
  {
   "cell_type": "code",
   "execution_count": 208,
   "metadata": {},
   "outputs": [
    {
     "data": {
      "text/plain": [
       "Ex    1142\n",
       "TA     624\n",
       "Gd     389\n",
       "Fa      63\n",
       "Po       1\n",
       "Name: HeatingQC, dtype: int64"
      ]
     },
     "execution_count": 208,
     "metadata": {},
     "output_type": "execute_result"
    }
   ],
   "source": [
    "# Check initial state\n",
    "tdata['HeatingQC'].value_counts()"
   ]
  },
  {
   "cell_type": "code",
   "execution_count": 209,
   "metadata": {},
   "outputs": [],
   "source": [
    "# Replace the one 'Po' with 'Fa'\n",
    "tdata['HeatingQC'].replace('Po', 'Fa', inplace=True)"
   ]
  },
  {
   "cell_type": "code",
   "execution_count": 210,
   "metadata": {},
   "outputs": [
    {
     "data": {
      "text/plain": [
       "Ex    1142\n",
       "TA     624\n",
       "Gd     389\n",
       "Fa      64\n",
       "Name: HeatingQC, dtype: int64"
      ]
     },
     "execution_count": 210,
     "metadata": {},
     "output_type": "execute_result"
    }
   ],
   "source": [
    "# Check transformation\n",
    "\n",
    "tdata['HeatingQC'].value_counts()"
   ]
  },
  {
   "cell_type": "code",
   "execution_count": 211,
   "metadata": {},
   "outputs": [],
   "source": [
    "tdata['HeatingQC'] = tdata['HeatingQC'].astype('category')"
   ]
  },
  {
   "cell_type": "code",
   "execution_count": 212,
   "metadata": {},
   "outputs": [
    {
     "name": "stdout",
     "output_type": "stream",
     "text": [
      "category\n"
     ]
    }
   ],
   "source": [
    "print(tdata['HeatingQC'].dtypes)"
   ]
  },
  {
   "cell_type": "markdown",
   "metadata": {},
   "source": [
    "## 'CentralAir': Making 'Y' == 0, and 'N' == 1, rename NoCentralAir"
   ]
  },
  {
   "cell_type": "markdown",
   "metadata": {},
   "source": [
    "Changing the base case (yes) to be included in the intercept value."
   ]
  },
  {
   "cell_type": "code",
   "execution_count": 213,
   "metadata": {},
   "outputs": [
    {
     "data": {
      "text/plain": [
       "Y    2126\n",
       "N      93\n",
       "Name: CentralAir, dtype: int64"
      ]
     },
     "execution_count": 213,
     "metadata": {},
     "output_type": "execute_result"
    }
   ],
   "source": [
    "# Initial State\n",
    "tdata['CentralAir'].value_counts()"
   ]
  },
  {
   "cell_type": "code",
   "execution_count": 214,
   "metadata": {},
   "outputs": [],
   "source": [
    "# Transforming the column, Y == 0 and N == 1\n",
    "tdata['CentralAir'].replace('Y', 0, inplace=True)\n",
    "tdata['CentralAir'].replace('N', 1, inplace=True)\n",
    "tdata.rename(columns={'CentralAir':'NoCentralAir'}, inplace=True)"
   ]
  },
  {
   "cell_type": "code",
   "execution_count": 215,
   "metadata": {},
   "outputs": [
    {
     "data": {
      "text/plain": [
       "0    2126\n",
       "1      93\n",
       "Name: NoCentralAir, dtype: int64"
      ]
     },
     "execution_count": 215,
     "metadata": {},
     "output_type": "execute_result"
    }
   ],
   "source": [
    "# Checking the transformation\n",
    "tdata['NoCentralAir'].value_counts()"
   ]
  },
  {
   "cell_type": "markdown",
   "metadata": {},
   "source": [
    "## 'Electrical' - Fill NaN, Dummify"
   ]
  },
  {
   "cell_type": "markdown",
   "metadata": {},
   "source": [
    "If initial thought is correct, age of house should determine the electrical system. So YrBuilt for the missing value will tell us with high probability the electrical in the house."
   ]
  },
  {
   "cell_type": "code",
   "execution_count": 216,
   "metadata": {},
   "outputs": [
    {
     "data": {
      "text/html": [
       "<div>\n",
       "<style scoped>\n",
       "    .dataframe tbody tr th:only-of-type {\n",
       "        vertical-align: middle;\n",
       "    }\n",
       "\n",
       "    .dataframe tbody tr th {\n",
       "        vertical-align: top;\n",
       "    }\n",
       "\n",
       "    .dataframe thead th {\n",
       "        text-align: right;\n",
       "    }\n",
       "</style>\n",
       "<table border=\"1\" class=\"dataframe\">\n",
       "  <thead>\n",
       "    <tr style=\"text-align: right;\">\n",
       "      <th></th>\n",
       "      <th>mean</th>\n",
       "      <th>std</th>\n",
       "    </tr>\n",
       "    <tr>\n",
       "      <th>Electrical</th>\n",
       "      <th></th>\n",
       "      <th></th>\n",
       "    </tr>\n",
       "  </thead>\n",
       "  <tbody>\n",
       "    <tr>\n",
       "      <th>FuseA</th>\n",
       "      <td>1938.962687</td>\n",
       "      <td>17.787132</td>\n",
       "    </tr>\n",
       "    <tr>\n",
       "      <th>FuseF</th>\n",
       "      <td>1932.760000</td>\n",
       "      <td>15.100441</td>\n",
       "    </tr>\n",
       "    <tr>\n",
       "      <th>FuseP</th>\n",
       "      <td>1927.000000</td>\n",
       "      <td>2.828427</td>\n",
       "    </tr>\n",
       "    <tr>\n",
       "      <th>SBrkr</th>\n",
       "      <td>1973.689840</td>\n",
       "      <td>28.232981</td>\n",
       "    </tr>\n",
       "  </tbody>\n",
       "</table>\n",
       "</div>"
      ],
      "text/plain": [
       "                   mean        std\n",
       "Electrical                        \n",
       "FuseA       1938.962687  17.787132\n",
       "FuseF       1932.760000  15.100441\n",
       "FuseP       1927.000000   2.828427\n",
       "SBrkr       1973.689840  28.232981"
      ]
     },
     "execution_count": 216,
     "metadata": {},
     "output_type": "execute_result"
    }
   ],
   "source": [
    "# Find info on Year Built for each 'Electrical' class\n",
    "tdata.groupby('Electrical')['YearBuilt'].agg(['mean', 'std'])"
   ]
  },
  {
   "cell_type": "code",
   "execution_count": 217,
   "metadata": {
    "scrolled": true
   },
   "outputs": [
    {
     "data": {
      "text/plain": [
       "2442    2006\n",
       "Name: YearBuilt, dtype: int64"
      ]
     },
     "execution_count": 217,
     "metadata": {},
     "output_type": "execute_result"
    }
   ],
   "source": [
    "# Get the year for the missing value\n",
    "tdata[tdata['Electrical'].isnull()].YearBuilt"
   ]
  },
  {
   "cell_type": "markdown",
   "metadata": {},
   "source": [
    "The YearBuilt for the observation with missing 'Electrical' is 2006, a clear sign that the value should be filled in with 'SBrkr'"
   ]
  },
  {
   "cell_type": "code",
   "execution_count": 218,
   "metadata": {},
   "outputs": [
    {
     "name": "stdout",
     "output_type": "stream",
     "text": [
      "SBrkr    2057\n",
      "FuseA     134\n",
      "FuseF      25\n",
      "FuseP       2\n",
      "Name: Electrical, dtype: int64\n",
      "Missing Values:  1\n"
     ]
    }
   ],
   "source": [
    "# Initial State\n",
    "print(tdata['Electrical'].value_counts())\n",
    "print('Missing Values: ', np.sum(tdata['Electrical'].isnull()))"
   ]
  },
  {
   "cell_type": "code",
   "execution_count": 219,
   "metadata": {},
   "outputs": [],
   "source": [
    "# Filling the in missing value with 'SBrkr'\n",
    "tdata['Electrical'].fillna(value='SBrkr', inplace=True)"
   ]
  },
  {
   "cell_type": "code",
   "execution_count": 220,
   "metadata": {},
   "outputs": [],
   "source": [
    "# Creating Binary NonStdElectrical Y/N for this.\n",
    "tdata['Electrical'].replace('SBrkr', 0, inplace=True)\n",
    "tdata['Electrical'].replace(['FuseA', 'FuseF', 'FuseP'], 1, inplace=True)\n",
    "# Rename Column\n",
    "tdata.rename(columns={'Electrical': 'NonStdElectrical'}, inplace=True)"
   ]
  },
  {
   "cell_type": "code",
   "execution_count": 221,
   "metadata": {},
   "outputs": [
    {
     "name": "stdout",
     "output_type": "stream",
     "text": [
      "0    2058\n",
      "1     161\n",
      "Name: NonStdElectrical, dtype: int64\n",
      "Missing Values:  0\n"
     ]
    }
   ],
   "source": [
    "# Checking the transformation\n",
    "print(tdata['NonStdElectrical'].value_counts())\n",
    "print('Missing Values: ', np.sum(tdata['NonStdElectrical'].isnull()))"
   ]
  },
  {
   "cell_type": "markdown",
   "metadata": {},
   "source": [
    "## 'BsmtFullBath' - Fill Nan's"
   ]
  },
  {
   "cell_type": "markdown",
   "metadata": {},
   "source": [
    "There are two missing values, check if those observations have basements."
   ]
  },
  {
   "cell_type": "code",
   "execution_count": 222,
   "metadata": {},
   "outputs": [
    {
     "data": {
      "text/html": [
       "<div>\n",
       "<style scoped>\n",
       "    .dataframe tbody tr th:only-of-type {\n",
       "        vertical-align: middle;\n",
       "    }\n",
       "\n",
       "    .dataframe tbody tr th {\n",
       "        vertical-align: top;\n",
       "    }\n",
       "\n",
       "    .dataframe thead th {\n",
       "        text-align: right;\n",
       "    }\n",
       "</style>\n",
       "<table border=\"1\" class=\"dataframe\">\n",
       "  <thead>\n",
       "    <tr style=\"text-align: right;\">\n",
       "      <th></th>\n",
       "      <th>Foundation</th>\n",
       "      <th>BsmtQual</th>\n",
       "      <th>BsmtCond</th>\n",
       "      <th>BsmtExposure</th>\n",
       "      <th>BsmtFinType1</th>\n",
       "      <th>BsmtUnfSF</th>\n",
       "      <th>TotalBsmtSF</th>\n",
       "      <th>HeatingQC</th>\n",
       "      <th>NoCentralAir</th>\n",
       "      <th>NonStdElectrical</th>\n",
       "    </tr>\n",
       "  </thead>\n",
       "  <tbody>\n",
       "  </tbody>\n",
       "</table>\n",
       "</div>"
      ],
      "text/plain": [
       "Empty DataFrame\n",
       "Columns: [Foundation, BsmtQual, BsmtCond, BsmtExposure, BsmtFinType1, BsmtUnfSF, TotalBsmtSF, HeatingQC, NoCentralAir, NonStdElectrical]\n",
       "Index: []"
      ]
     },
     "execution_count": 222,
     "metadata": {},
     "output_type": "execute_result"
    }
   ],
   "source": [
    "tdata[tdata['BsmtFullBath'].isnull()].iloc[:,20:30]"
   ]
  },
  {
   "cell_type": "markdown",
   "metadata": {},
   "source": [
    "Confirmed that one has no information at all for any basement column, and one has 0 for TotalBsmtSF, so I am comfortable saying those missing values are because the houses in the observations don't have basements. Will set them to 0."
   ]
  },
  {
   "cell_type": "code",
   "execution_count": 223,
   "metadata": {},
   "outputs": [
    {
     "data": {
      "text/plain": [
       "0.0    1271\n",
       "1.0     938\n",
       "2.0      10\n",
       "Name: BsmtFullBath, dtype: int64"
      ]
     },
     "execution_count": 223,
     "metadata": {},
     "output_type": "execute_result"
    }
   ],
   "source": [
    "# Initial State\n",
    "tdata['BsmtFullBath'].value_counts()"
   ]
  },
  {
   "cell_type": "code",
   "execution_count": 224,
   "metadata": {},
   "outputs": [],
   "source": [
    "# Filling in missing values with 0\n",
    "tdata['BsmtFullBath'].fillna(value=0, inplace=True)"
   ]
  },
  {
   "cell_type": "code",
   "execution_count": 225,
   "metadata": {},
   "outputs": [
    {
     "name": "stdout",
     "output_type": "stream",
     "text": [
      "0.0    1271\n",
      "1.0     938\n",
      "2.0      10\n",
      "Name: BsmtFullBath, dtype: int64\n",
      "Missing values:  0\n"
     ]
    }
   ],
   "source": [
    "# Checking the transformation\n",
    "print(tdata['BsmtFullBath'].value_counts())\n",
    "print('Missing values: ', np.sum(tdata['BsmtFullBath'].isnull()))"
   ]
  },
  {
   "cell_type": "markdown",
   "metadata": {},
   "source": [
    "## BsmtHalfBath - Fill NaN's"
   ]
  },
  {
   "cell_type": "markdown",
   "metadata": {},
   "source": [
    "Should be the same as BsmtFullBath work. There are two missing values, check if those observations have basements."
   ]
  },
  {
   "cell_type": "code",
   "execution_count": 226,
   "metadata": {},
   "outputs": [
    {
     "data": {
      "text/html": [
       "<div>\n",
       "<style scoped>\n",
       "    .dataframe tbody tr th:only-of-type {\n",
       "        vertical-align: middle;\n",
       "    }\n",
       "\n",
       "    .dataframe tbody tr th {\n",
       "        vertical-align: top;\n",
       "    }\n",
       "\n",
       "    .dataframe thead th {\n",
       "        text-align: right;\n",
       "    }\n",
       "</style>\n",
       "<table border=\"1\" class=\"dataframe\">\n",
       "  <thead>\n",
       "    <tr style=\"text-align: right;\">\n",
       "      <th></th>\n",
       "      <th>Foundation</th>\n",
       "      <th>BsmtQual</th>\n",
       "      <th>BsmtCond</th>\n",
       "      <th>BsmtExposure</th>\n",
       "      <th>BsmtFinType1</th>\n",
       "      <th>BsmtUnfSF</th>\n",
       "      <th>TotalBsmtSF</th>\n",
       "      <th>HeatingQC</th>\n",
       "      <th>NoCentralAir</th>\n",
       "      <th>NonStdElectrical</th>\n",
       "    </tr>\n",
       "  </thead>\n",
       "  <tbody>\n",
       "  </tbody>\n",
       "</table>\n",
       "</div>"
      ],
      "text/plain": [
       "Empty DataFrame\n",
       "Columns: [Foundation, BsmtQual, BsmtCond, BsmtExposure, BsmtFinType1, BsmtUnfSF, TotalBsmtSF, HeatingQC, NoCentralAir, NonStdElectrical]\n",
       "Index: []"
      ]
     },
     "execution_count": 226,
     "metadata": {},
     "output_type": "execute_result"
    }
   ],
   "source": [
    "tdata[tdata['BsmtHalfBath'].isnull()].iloc[:,20:30]"
   ]
  },
  {
   "cell_type": "markdown",
   "metadata": {},
   "source": [
    "It's the same rows of data as the above BsmtFullBath Nan's so treat them the same way. Fill with Zeros."
   ]
  },
  {
   "cell_type": "code",
   "execution_count": 227,
   "metadata": {},
   "outputs": [
    {
     "name": "stdout",
     "output_type": "stream",
     "text": [
      "0.0    2073\n",
      "1.0     145\n",
      "2.0       1\n",
      "Name: BsmtHalfBath, dtype: int64\n",
      "Missing values:  0\n"
     ]
    }
   ],
   "source": [
    "# Initial State\n",
    "print(tdata['BsmtHalfBath'].value_counts())\n",
    "print('Missing values: ', np.sum(tdata['BsmtHalfBath'].isnull()))"
   ]
  },
  {
   "cell_type": "code",
   "execution_count": 228,
   "metadata": {},
   "outputs": [],
   "source": [
    "# Filling in missing values with 0\n",
    "tdata['BsmtHalfBath'].fillna(value=0, inplace=True)"
   ]
  },
  {
   "cell_type": "code",
   "execution_count": 229,
   "metadata": {},
   "outputs": [
    {
     "name": "stdout",
     "output_type": "stream",
     "text": [
      "0.0    2073\n",
      "1.0     145\n",
      "2.0       1\n",
      "Name: BsmtHalfBath, dtype: int64\n",
      "Missing values:  0\n"
     ]
    }
   ],
   "source": [
    "# Checking the transformation\n",
    "print(tdata['BsmtHalfBath'].value_counts())\n",
    "print('Missing values: ', np.sum(tdata['BsmtHalfBath'].isnull()))"
   ]
  },
  {
   "cell_type": "markdown",
   "metadata": {},
   "source": [
    "## 'KitchenQual' - Combine the one 'Po' into 'Fa', Dummify"
   ]
  },
  {
   "cell_type": "code",
   "execution_count": 230,
   "metadata": {},
   "outputs": [
    {
     "data": {
      "text/plain": [
       "TA    1139\n",
       "Gd     923\n",
       "Ex     110\n",
       "Fa      47\n",
       "Name: KitchenQual, dtype: int64"
      ]
     },
     "execution_count": 230,
     "metadata": {},
     "output_type": "execute_result"
    }
   ],
   "source": [
    "# Initial State\n",
    "tdata['KitchenQual'].value_counts()"
   ]
  },
  {
   "cell_type": "code",
   "execution_count": 231,
   "metadata": {},
   "outputs": [],
   "source": [
    "# Replace the one 'Po' with 'Fa'\n",
    "tdata['KitchenQual'].replace('Po', 'Fa', inplace=True)"
   ]
  },
  {
   "cell_type": "code",
   "execution_count": 232,
   "metadata": {},
   "outputs": [
    {
     "data": {
      "text/plain": [
       "TA    1139\n",
       "Gd     923\n",
       "Ex     110\n",
       "Fa      47\n",
       "Name: KitchenQual, dtype: int64"
      ]
     },
     "execution_count": 232,
     "metadata": {},
     "output_type": "execute_result"
    }
   ],
   "source": [
    "# Check transformation\n",
    "tdata['KitchenQual'].value_counts()"
   ]
  },
  {
   "cell_type": "code",
   "execution_count": 233,
   "metadata": {},
   "outputs": [
    {
     "name": "stdout",
     "output_type": "stream",
     "text": [
      "category\n"
     ]
    }
   ],
   "source": [
    "tdata['KitchenQual'] = tdata['KitchenQual'].astype('category')\n",
    "print(tdata['KitchenQual'].dtypes)"
   ]
  },
  {
   "cell_type": "markdown",
   "metadata": {},
   "source": [
    "## 'YearRemodAdd' - Binarize for Y/N Remodeled, and create 'RemodelYrsAftBuilt'"
   ]
  },
  {
   "cell_type": "code",
   "execution_count": 234,
   "metadata": {},
   "outputs": [],
   "source": [
    "# Remodeled houses had YearRemodAdd date AFTER YearBuilt.\n",
    "# If the years are the same it means the house was not remodeled.\n",
    "## Making a binary column. Later will have to see if it is useful.##\n",
    "tdata['Remodeled'] = tdata['YearRemodAdd'] > tdata['YearBuilt']"
   ]
  },
  {
   "cell_type": "code",
   "execution_count": 235,
   "metadata": {},
   "outputs": [
    {
     "data": {
      "text/plain": [
       "0.4583145561063542"
      ]
     },
     "execution_count": 235,
     "metadata": {},
     "output_type": "execute_result"
    }
   ],
   "source": [
    "# Diagnstic\n",
    "# What percent of houses have been remodeled?\n",
    "np.mean(tdata['Remodeled'])"
   ]
  },
  {
   "cell_type": "code",
   "execution_count": 236,
   "metadata": {},
   "outputs": [
    {
     "data": {
      "text/plain": [
       "<AxesSubplot:title={'center':'SalePrice'}, xlabel='Remodeled'>"
      ]
     },
     "execution_count": 236,
     "metadata": {},
     "output_type": "execute_result"
    },
    {
     "data": {
      "image/png": "[encoded data removed]",
      "text/plain": [
       "<Figure size 432x288 with 1 Axes>"
      ]
     },
     "metadata": {
      "needs_background": "light"
     },
     "output_type": "display_data"
    }
   ],
   "source": [
    "# Diagnostic\n",
    "#Visualize the price differences\n",
    "tdata.boxplot(column='SalePrice', by='Remodeled')"
   ]
  },
  {
   "cell_type": "code",
   "execution_count": 237,
   "metadata": {},
   "outputs": [
    {
     "data": {
      "text/plain": [
       "count    1017.000000\n",
       "mean     1986.910521\n",
       "std        21.692438\n",
       "min      1950.000000\n",
       "25%      1972.000000\n",
       "50%      1996.000000\n",
       "75%      2004.000000\n",
       "max      2010.000000\n",
       "Name: YearRemodAdd, dtype: float64"
      ]
     },
     "execution_count": 237,
     "metadata": {},
     "output_type": "execute_result"
    }
   ],
   "source": [
    "# Diagnostic\n",
    "#Describing the remodel years for homes that have been remodeled.\n",
    "tdata[tdata['Remodeled']==True].YearRemodAdd.describe()"
   ]
  },
  {
   "cell_type": "code",
   "execution_count": 238,
   "metadata": {},
   "outputs": [
    {
     "data": {
      "text/plain": [
       "(0.0, 60.0)"
      ]
     },
     "execution_count": 238,
     "metadata": {},
     "output_type": "execute_result"
    },
    {
     "data": {
      "image/png": "[encoded data removed]",
      "text/plain": [
       "<Figure size 432x288 with 1 Axes>"
      ]
     },
     "metadata": {
      "needs_background": "light"
     },
     "output_type": "display_data"
    }
   ],
   "source": [
    "#Visualize what the column will be \n",
    "(tdata['YearRemodAdd'] - tdata['YearBuilt']).hist(bins=40)\n",
    "plt.xlim(2,120)\n",
    "plt.ylim(0, 60)"
   ]
  },
  {
   "cell_type": "code",
   "execution_count": 239,
   "metadata": {},
   "outputs": [
    {
     "data": {
      "text/plain": [
       " 0      1201\n",
       " 1       293\n",
       " 30       25\n",
       " 25       22\n",
       " 40       20\n",
       "        ... \n",
       " 107       1\n",
       " 109       1\n",
       " 115       1\n",
       " 121       1\n",
       "-1         1\n",
       "Name: RemodelYrsAftBuilt, Length: 113, dtype: int64"
      ]
     },
     "execution_count": 239,
     "metadata": {},
     "output_type": "execute_result"
    }
   ],
   "source": [
    "# Create Column 'RemodelYrsAftBuilt'\n",
    "tdata['RemodelYrsAftBuilt'] = tdata['YearRemodAdd'] - tdata['YearBuilt']\n",
    "tdata['RemodelYrsAftBuilt'].value_counts()\n",
    "      "
   ]
  },
  {
   "cell_type": "code",
   "execution_count": 240,
   "metadata": {},
   "outputs": [
    {
     "data": {
      "text/html": [
       "<div>\n",
       "<style scoped>\n",
       "    .dataframe tbody tr th:only-of-type {\n",
       "        vertical-align: middle;\n",
       "    }\n",
       "\n",
       "    .dataframe tbody tr th {\n",
       "        vertical-align: top;\n",
       "    }\n",
       "\n",
       "    .dataframe thead th {\n",
       "        text-align: right;\n",
       "    }\n",
       "</style>\n",
       "<table border=\"1\" class=\"dataframe\">\n",
       "  <thead>\n",
       "    <tr style=\"text-align: right;\">\n",
       "      <th></th>\n",
       "      <th>Remodeled</th>\n",
       "      <th>RemodelYrsAftBuilt</th>\n",
       "    </tr>\n",
       "  </thead>\n",
       "  <tbody>\n",
       "    <tr>\n",
       "      <th>0</th>\n",
       "      <td>True</td>\n",
       "      <td>11</td>\n",
       "    </tr>\n",
       "    <tr>\n",
       "      <th>1</th>\n",
       "      <td>False</td>\n",
       "      <td>0</td>\n",
       "    </tr>\n",
       "    <tr>\n",
       "      <th>3</th>\n",
       "      <td>True</td>\n",
       "      <td>103</td>\n",
       "    </tr>\n",
       "    <tr>\n",
       "      <th>4</th>\n",
       "      <td>False</td>\n",
       "      <td>0</td>\n",
       "    </tr>\n",
       "    <tr>\n",
       "      <th>5</th>\n",
       "      <td>False</td>\n",
       "      <td>0</td>\n",
       "    </tr>\n",
       "    <tr>\n",
       "      <th>...</th>\n",
       "      <td>...</td>\n",
       "      <td>...</td>\n",
       "    </tr>\n",
       "    <tr>\n",
       "      <th>2574</th>\n",
       "      <td>True</td>\n",
       "      <td>1</td>\n",
       "    </tr>\n",
       "    <tr>\n",
       "      <th>2575</th>\n",
       "      <td>True</td>\n",
       "      <td>34</td>\n",
       "    </tr>\n",
       "    <tr>\n",
       "      <th>2576</th>\n",
       "      <td>False</td>\n",
       "      <td>0</td>\n",
       "    </tr>\n",
       "    <tr>\n",
       "      <th>2578</th>\n",
       "      <td>False</td>\n",
       "      <td>0</td>\n",
       "    </tr>\n",
       "    <tr>\n",
       "      <th>2579</th>\n",
       "      <td>True</td>\n",
       "      <td>1</td>\n",
       "    </tr>\n",
       "  </tbody>\n",
       "</table>\n",
       "<p>2219 rows × 2 columns</p>\n",
       "</div>"
      ],
      "text/plain": [
       "      Remodeled  RemodelYrsAftBuilt\n",
       "0          True                  11\n",
       "1         False                   0\n",
       "3          True                 103\n",
       "4         False                   0\n",
       "5         False                   0\n",
       "...         ...                 ...\n",
       "2574       True                   1\n",
       "2575       True                  34\n",
       "2576      False                   0\n",
       "2578      False                   0\n",
       "2579       True                   1\n",
       "\n",
       "[2219 rows x 2 columns]"
      ]
     },
     "execution_count": 240,
     "metadata": {},
     "output_type": "execute_result"
    }
   ],
   "source": [
    "# See the new columns, show they look good.\n",
    "tdata.iloc[:,-2:]"
   ]
  },
  {
   "cell_type": "code",
   "execution_count": 241,
   "metadata": {},
   "outputs": [],
   "source": [
    "# Removing original YearRemodAdd Column\n",
    "tdata.drop('YearRemodAdd', axis=1, inplace=True)"
   ]
  },
  {
   "cell_type": "markdown",
   "metadata": {},
   "source": [
    " ## Functional - 3 Categories: Typ, Min, Maj(w/ mod, sal). Dummify"
   ]
  },
  {
   "cell_type": "code",
   "execution_count": 242,
   "metadata": {},
   "outputs": [
    {
     "data": {
      "text/plain": [
       "Typ     2073\n",
       "Min2      57\n",
       "Min1      50\n",
       "Mod       21\n",
       "Maj1      12\n",
       "Maj2       6\n",
       "Name: Functional, dtype: int64"
      ]
     },
     "execution_count": 242,
     "metadata": {},
     "output_type": "execute_result"
    }
   ],
   "source": [
    "# Initial State\n",
    "tdata['Functional'].value_counts()"
   ]
  },
  {
   "cell_type": "code",
   "execution_count": 243,
   "metadata": {},
   "outputs": [],
   "source": [
    "# Combine the Min1, Min2 into a Min category. Combine the Maj1, Maj2, Mod, and Sal into a Maj category\n",
    "tdata['Functional'].replace(['Min1', 'Min2'], 'Min', inplace=True)\n",
    "tdata['Functional'].replace(['Maj1', 'Maj2', 'Mod', 'Sal'], 'Maj', inplace=True)"
   ]
  },
  {
   "cell_type": "code",
   "execution_count": 244,
   "metadata": {},
   "outputs": [
    {
     "data": {
      "text/plain": [
       "Typ    2073\n",
       "Min     107\n",
       "Maj      39\n",
       "Name: Functional, dtype: int64"
      ]
     },
     "execution_count": 244,
     "metadata": {},
     "output_type": "execute_result"
    }
   ],
   "source": [
    "# Check the result\n",
    "tdata['Functional'].value_counts()"
   ]
  },
  {
   "cell_type": "markdown",
   "metadata": {},
   "source": [
    "## RoofStyle - Combine into Hip, Gabel, Other. Then Dummify."
   ]
  },
  {
   "cell_type": "code",
   "execution_count": 245,
   "metadata": {},
   "outputs": [
    {
     "data": {
      "text/plain": [
       "Gable      1784\n",
       "Hip         395\n",
       "Gambrel      17\n",
       "Flat         11\n",
       "Mansard       9\n",
       "Shed          3\n",
       "Name: RoofStyle, dtype: int64"
      ]
     },
     "execution_count": 245,
     "metadata": {},
     "output_type": "execute_result"
    }
   ],
   "source": [
    "# Initial State\n",
    "tdata['RoofStyle'].value_counts()"
   ]
  },
  {
   "cell_type": "code",
   "execution_count": 246,
   "metadata": {},
   "outputs": [],
   "source": [
    "# Combine Gambrel, Flat, Mansard, and Shed into 'Other'\n",
    "tdata['RoofStyle'].replace(['Gambrel', 'Flat', 'Mansard', 'Shed'], 'Other', inplace=True)"
   ]
  },
  {
   "cell_type": "code",
   "execution_count": 247,
   "metadata": {},
   "outputs": [
    {
     "data": {
      "text/plain": [
       "Gable    1784\n",
       "Hip       395\n",
       "Other      40\n",
       "Name: RoofStyle, dtype: int64"
      ]
     },
     "execution_count": 247,
     "metadata": {},
     "output_type": "execute_result"
    }
   ],
   "source": [
    "# Check the Transformation\n",
    "tdata['RoofStyle'].value_counts()"
   ]
  },
  {
   "cell_type": "code",
   "execution_count": 248,
   "metadata": {},
   "outputs": [
    {
     "name": "stdout",
     "output_type": "stream",
     "text": [
      "category\n"
     ]
    }
   ],
   "source": [
    "tdata['RoofStyle'] = tdata['RoofStyle'].astype('category')\n",
    "print(tdata['RoofStyle'].dtypes)"
   ]
  },
  {
   "cell_type": "markdown",
   "metadata": {},
   "source": [
    "## Exterior1st - Combine Categories into similar materials, then dummify."
   ]
  },
  {
   "cell_type": "markdown",
   "metadata": {},
   "source": [
    "Materials to combine:\n",
    "Value, roughly, high to low.\n",
    "\n",
    "No stone houses. \n",
    "\n",
    "Common brick is a significant upgrade, can't be combined. Not even sure what to combine it with based on value, its definitely the leader.\n",
    "\n",
    "Vinyl Siding\n",
    "\n",
    "Plywood - Better than hardboard, so should be its own category.\n",
    "\n",
    "Wood shingles - its own category.\n",
    "\n",
    "Stucco - Possibly similar enough to Cement Board (value-wise) to be combined with it.\n",
    "Cement Board - Put w/ Wood siding, similar traits/value/looks, different materials.\n",
    "\n",
    "Metal Siding - definitely its own category.\n",
    "\n",
    "Cinderblock - Other, not used in a while (inferior to concrete)\n",
    "Precast - Other (not different enough from other 'Other's to be significant)\n",
    "Asphalt Shingles - Other (not different enough from other 'Other's to be significant)\n",
    "Immitation Stucco - Other.\n",
    "\n",
    "Hardboard - it's own category, cheapo finish.\n",
    "\n",
    "Asbestos shingles means old, not used in last 50 years. (banned in the 70's) Maybe drop."
   ]
  },
  {
   "cell_type": "code",
   "execution_count": 249,
   "metadata": {},
   "outputs": [
    {
     "data": {
      "text/plain": [
       "VinylSd    763\n",
       "HdBoard    375\n",
       "MetalSd    343\n",
       "Wd Sdng    325\n",
       "Plywood    156\n",
       "CemntBd     83\n",
       "BrkFace     67\n",
       "WdShing     44\n",
       "Stucco      32\n",
       "AsbShng     23\n",
       "BrkComm      5\n",
       "PreCast      1\n",
       "CBlock       1\n",
       "ImStucc      1\n",
       "Name: Exterior1st, dtype: int64"
      ]
     },
     "execution_count": 249,
     "metadata": {},
     "output_type": "execute_result"
    }
   ],
   "source": [
    "# Inital State\n",
    "tdata['Exterior1st'].value_counts()"
   ]
  },
  {
   "cell_type": "code",
   "execution_count": 250,
   "metadata": {},
   "outputs": [],
   "source": [
    "# Combine Stucco, Cement Board, and Wood siding (based on value). New cat called Stc_CemBd_WdSd\n",
    "tdata['Exterior1st'].replace(['Stucco', 'CemntBd', 'Wd Sdng'], 'Stc_CemBd_WdSd', inplace=True)\n",
    "# Combine Cinderblock, Precast, Asphalt Singles, Imitation Stucco into other.\n",
    "tdata['Exterior1st'].replace(['CBlock', 'PreCast', 'AsphShn', 'ImStucc'], 'Other', inplace=True)\n",
    "\n",
    "# Potentially drop asbestos shingles, no longer used (actually banned) and might be captured in age of house. \n",
    "# Or, conversely, might be a significant negative."
   ]
  },
  {
   "cell_type": "code",
   "execution_count": 251,
   "metadata": {},
   "outputs": [
    {
     "data": {
      "text/plain": [
       "VinylSd           763\n",
       "Stc_CemBd_WdSd    440\n",
       "HdBoard           375\n",
       "MetalSd           343\n",
       "Plywood           156\n",
       "BrkFace            67\n",
       "WdShing            44\n",
       "AsbShng            23\n",
       "BrkComm             5\n",
       "Other               3\n",
       "Name: Exterior1st, dtype: int64"
      ]
     },
     "execution_count": 251,
     "metadata": {},
     "output_type": "execute_result"
    }
   ],
   "source": [
    "# Check the combinations\n",
    "tdata['Exterior1st'].value_counts()"
   ]
  },
  {
   "cell_type": "markdown",
   "metadata": {},
   "source": [
    "Still an aweful lot of categories. Maybe combine BrkComm with VinylSd and Plywood. (even though it is more valuable), and maybe combine Other with HdBoard (both low-value cats, even if different). Maybe combine wood shingles withCemBd_WdSd. Talk to team.\n",
    "\n",
    "VinylSd, BrkComm, Plywood\n",
    "HdBoard, Other\n",
    "WdShing, Stc_CemBd_WdSd (Stucco, Cement Board, Wood Siding)"
   ]
  },
  {
   "cell_type": "code",
   "execution_count": 252,
   "metadata": {},
   "outputs": [],
   "source": [
    "# Combine Wood shingles into Stc_CemBd_WdSd\n",
    "tdata['Exterior1st'].replace(['Stc_CemBd_WdSd', 'WdShing'], 'Stc_CemBd_WdSdSh', inplace=True)\n",
    "# Combine BrkComm with VinylSd, Plywood. \n",
    "tdata['Exterior1st'].replace(['BrkComm', 'VinylSd', 'Plywood'], 'VinylPlywBrkcom', inplace=True)\n",
    "# Combine HdBoard and Other\n",
    "tdata['Exterior1st'].replace(['Other', 'HdBoard'], 'HdbdOther', inplace=True)"
   ]
  },
  {
   "cell_type": "code",
   "execution_count": 253,
   "metadata": {},
   "outputs": [
    {
     "data": {
      "text/plain": [
       "VinylPlywBrkcom     924\n",
       "Stc_CemBd_WdSdSh    484\n",
       "HdbdOther           378\n",
       "MetalSd             343\n",
       "BrkFace              67\n",
       "AsbShng              23\n",
       "Name: Exterior1st, dtype: int64"
      ]
     },
     "execution_count": 253,
     "metadata": {},
     "output_type": "execute_result"
    }
   ],
   "source": [
    "tdata['Exterior1st'].value_counts()"
   ]
  },
  {
   "cell_type": "code",
   "execution_count": 254,
   "metadata": {},
   "outputs": [
    {
     "name": "stdout",
     "output_type": "stream",
     "text": [
      "category\n"
     ]
    }
   ],
   "source": [
    "tdata['Exterior1st'] = tdata['Exterior1st'].astype('category')\n",
    "print(tdata['Exterior1st'].dtypes)"
   ]
  },
  {
   "cell_type": "markdown",
   "metadata": {},
   "source": [
    "## MasVnrType - Combine Bricks, Investigate Nulls, Dummify"
   ]
  },
  {
   "cell_type": "code",
   "execution_count": 255,
   "metadata": {},
   "outputs": [
    {
     "name": "stdout",
     "output_type": "stream",
     "text": [
      "None       1334\n",
      "BrkFace     711\n",
      "Stone       149\n",
      "BrkCmn       14\n",
      "Name: MasVnrType, dtype: int64\n",
      "Mising values:  11\n"
     ]
    }
   ],
   "source": [
    "# Initial state\n",
    "print(tdata['MasVnrType'].value_counts())\n",
    "print('Mising values: ', np.sum(tdata['MasVnrType'].isnull()))"
   ]
  },
  {
   "cell_type": "code",
   "execution_count": 256,
   "metadata": {},
   "outputs": [
    {
     "data": {
      "text/html": [
       "<div>\n",
       "<style scoped>\n",
       "    .dataframe tbody tr th:only-of-type {\n",
       "        vertical-align: middle;\n",
       "    }\n",
       "\n",
       "    .dataframe tbody tr th {\n",
       "        vertical-align: top;\n",
       "    }\n",
       "\n",
       "    .dataframe thead th {\n",
       "        text-align: right;\n",
       "    }\n",
       "</style>\n",
       "<table border=\"1\" class=\"dataframe\">\n",
       "  <thead>\n",
       "    <tr style=\"text-align: right;\">\n",
       "      <th></th>\n",
       "      <th>PID</th>\n",
       "      <th>GrLivArea</th>\n",
       "      <th>SalePrice</th>\n",
       "      <th>MSSubClass</th>\n",
       "      <th>LotArea</th>\n",
       "      <th>LotShape</th>\n",
       "      <th>LandContour</th>\n",
       "      <th>LotConfig</th>\n",
       "      <th>Neighborhood</th>\n",
       "      <th>Condition1</th>\n",
       "      <th>...</th>\n",
       "      <th>Fence</th>\n",
       "      <th>MoSold</th>\n",
       "      <th>GeoRefNo</th>\n",
       "      <th>Prop_Addr</th>\n",
       "      <th>SchD_S</th>\n",
       "      <th>TxD_S</th>\n",
       "      <th>LndAc_S</th>\n",
       "      <th>OthAc_S</th>\n",
       "      <th>Remodeled</th>\n",
       "      <th>RemodelYrsAftBuilt</th>\n",
       "    </tr>\n",
       "  </thead>\n",
       "  <tbody>\n",
       "    <tr>\n",
       "      <th>175</th>\n",
       "      <td>528439010</td>\n",
       "      <td>1460</td>\n",
       "      <td>247000</td>\n",
       "      <td>20</td>\n",
       "      <td>10037</td>\n",
       "      <td>Reg</td>\n",
       "      <td>Lvl</td>\n",
       "      <td>Corner</td>\n",
       "      <td>Somerst</td>\n",
       "      <td>Feedr</td>\n",
       "      <td>...</td>\n",
       "      <td>NaN</td>\n",
       "      <td>8</td>\n",
       "      <td>528439010.0</td>\n",
       "      <td>2625 YORKSHIRE ST</td>\n",
       "      <td>1.0</td>\n",
       "      <td>1.0</td>\n",
       "      <td>70300.0</td>\n",
       "      <td>210700.0</td>\n",
       "      <td>True</td>\n",
       "      <td>1</td>\n",
       "    </tr>\n",
       "    <tr>\n",
       "      <th>787</th>\n",
       "      <td>528240070</td>\n",
       "      <td>1960</td>\n",
       "      <td>216500</td>\n",
       "      <td>60</td>\n",
       "      <td>7851</td>\n",
       "      <td>Reg</td>\n",
       "      <td>Lvl</td>\n",
       "      <td>Inside</td>\n",
       "      <td>Gilbert</td>\n",
       "      <td>Norm</td>\n",
       "      <td>...</td>\n",
       "      <td>NaN</td>\n",
       "      <td>5</td>\n",
       "      <td>528240070.0</td>\n",
       "      <td>3907 WESTLAWN DR</td>\n",
       "      <td>5.0</td>\n",
       "      <td>45.0</td>\n",
       "      <td>64600.0</td>\n",
       "      <td>193700.0</td>\n",
       "      <td>False</td>\n",
       "      <td>0</td>\n",
       "    </tr>\n",
       "    <tr>\n",
       "      <th>871</th>\n",
       "      <td>907260030</td>\n",
       "      <td>1725</td>\n",
       "      <td>198500</td>\n",
       "      <td>60</td>\n",
       "      <td>8749</td>\n",
       "      <td>Reg</td>\n",
       "      <td>Lvl</td>\n",
       "      <td>Inside</td>\n",
       "      <td>CollgCr</td>\n",
       "      <td>Norm</td>\n",
       "      <td>...</td>\n",
       "      <td>NaN</td>\n",
       "      <td>11</td>\n",
       "      <td>907260030.0</td>\n",
       "      <td>5014 CLEMENS BLVD</td>\n",
       "      <td>1.0</td>\n",
       "      <td>1.0</td>\n",
       "      <td>62100.0</td>\n",
       "      <td>186200.0</td>\n",
       "      <td>False</td>\n",
       "      <td>0</td>\n",
       "    </tr>\n",
       "    <tr>\n",
       "      <th>891</th>\n",
       "      <td>528290090</td>\n",
       "      <td>1414</td>\n",
       "      <td>176000</td>\n",
       "      <td>60</td>\n",
       "      <td>7750</td>\n",
       "      <td>Reg</td>\n",
       "      <td>Lvl</td>\n",
       "      <td>Inside</td>\n",
       "      <td>Gilbert</td>\n",
       "      <td>RRAn</td>\n",
       "      <td>...</td>\n",
       "      <td>NaN</td>\n",
       "      <td>4</td>\n",
       "      <td>528290090.0</td>\n",
       "      <td>3813 WELBECK DR</td>\n",
       "      <td>5.0</td>\n",
       "      <td>45.0</td>\n",
       "      <td>48400.0</td>\n",
       "      <td>145000.0</td>\n",
       "      <td>False</td>\n",
       "      <td>0</td>\n",
       "    </tr>\n",
       "    <tr>\n",
       "      <th>1041</th>\n",
       "      <td>531371050</td>\n",
       "      <td>1200</td>\n",
       "      <td>184900</td>\n",
       "      <td>20</td>\n",
       "      <td>10083</td>\n",
       "      <td>Reg</td>\n",
       "      <td>Lvl</td>\n",
       "      <td>Inside</td>\n",
       "      <td>SawyerW</td>\n",
       "      <td>Norm</td>\n",
       "      <td>...</td>\n",
       "      <td>NaN</td>\n",
       "      <td>8</td>\n",
       "      <td>531371050.0</td>\n",
       "      <td>5429 TENNESSEE ST</td>\n",
       "      <td>1.0</td>\n",
       "      <td>1.0</td>\n",
       "      <td>54800.0</td>\n",
       "      <td>164400.0</td>\n",
       "      <td>False</td>\n",
       "      <td>0</td>\n",
       "    </tr>\n",
       "    <tr>\n",
       "      <th>1161</th>\n",
       "      <td>534104100</td>\n",
       "      <td>1812</td>\n",
       "      <td>205000</td>\n",
       "      <td>60</td>\n",
       "      <td>7500</td>\n",
       "      <td>Reg</td>\n",
       "      <td>Lvl</td>\n",
       "      <td>Inside</td>\n",
       "      <td>Somerst</td>\n",
       "      <td>Norm</td>\n",
       "      <td>...</td>\n",
       "      <td>NaN</td>\n",
       "      <td>4</td>\n",
       "      <td>534104100.0</td>\n",
       "      <td>2650 SOMERSET DR</td>\n",
       "      <td>1.0</td>\n",
       "      <td>1.0</td>\n",
       "      <td>63100.0</td>\n",
       "      <td>189300.0</td>\n",
       "      <td>False</td>\n",
       "      <td>0</td>\n",
       "    </tr>\n",
       "    <tr>\n",
       "      <th>1355</th>\n",
       "      <td>528480160</td>\n",
       "      <td>1665</td>\n",
       "      <td>205950</td>\n",
       "      <td>60</td>\n",
       "      <td>8125</td>\n",
       "      <td>Reg</td>\n",
       "      <td>Lvl</td>\n",
       "      <td>Inside</td>\n",
       "      <td>Somerst</td>\n",
       "      <td>Norm</td>\n",
       "      <td>...</td>\n",
       "      <td>NaN</td>\n",
       "      <td>5</td>\n",
       "      <td>528480160.0</td>\n",
       "      <td>2615 CLAYTON DR</td>\n",
       "      <td>1.0</td>\n",
       "      <td>1.0</td>\n",
       "      <td>67300.0</td>\n",
       "      <td>201900.0</td>\n",
       "      <td>False</td>\n",
       "      <td>0</td>\n",
       "    </tr>\n",
       "    <tr>\n",
       "      <th>1553</th>\n",
       "      <td>907251090</td>\n",
       "      <td>2031</td>\n",
       "      <td>237000</td>\n",
       "      <td>60</td>\n",
       "      <td>9473</td>\n",
       "      <td>Reg</td>\n",
       "      <td>Lvl</td>\n",
       "      <td>Inside</td>\n",
       "      <td>CollgCr</td>\n",
       "      <td>Norm</td>\n",
       "      <td>...</td>\n",
       "      <td>NaN</td>\n",
       "      <td>3</td>\n",
       "      <td>907251090.0</td>\n",
       "      <td>522 SMILEY AVE</td>\n",
       "      <td>1.0</td>\n",
       "      <td>1.0</td>\n",
       "      <td>76100.0</td>\n",
       "      <td>228300.0</td>\n",
       "      <td>False</td>\n",
       "      <td>0</td>\n",
       "    </tr>\n",
       "    <tr>\n",
       "      <th>2033</th>\n",
       "      <td>908130020</td>\n",
       "      <td>914</td>\n",
       "      <td>117250</td>\n",
       "      <td>20</td>\n",
       "      <td>8050</td>\n",
       "      <td>Reg</td>\n",
       "      <td>Lvl</td>\n",
       "      <td>Inside</td>\n",
       "      <td>Edwards</td>\n",
       "      <td>Norm</td>\n",
       "      <td>...</td>\n",
       "      <td>NaN</td>\n",
       "      <td>4</td>\n",
       "      <td>908130020.0</td>\n",
       "      <td>206 DOTSON DR</td>\n",
       "      <td>1.0</td>\n",
       "      <td>1.0</td>\n",
       "      <td>40400.0</td>\n",
       "      <td>121200.0</td>\n",
       "      <td>False</td>\n",
       "      <td>0</td>\n",
       "    </tr>\n",
       "    <tr>\n",
       "      <th>2477</th>\n",
       "      <td>528250010</td>\n",
       "      <td>1394</td>\n",
       "      <td>165500</td>\n",
       "      <td>80</td>\n",
       "      <td>11950</td>\n",
       "      <td>IR1</td>\n",
       "      <td>Lvl</td>\n",
       "      <td>Corner</td>\n",
       "      <td>Gilbert</td>\n",
       "      <td>Norm</td>\n",
       "      <td>...</td>\n",
       "      <td>NaN</td>\n",
       "      <td>10</td>\n",
       "      <td>528250010.0</td>\n",
       "      <td>4015 HYDE AVE</td>\n",
       "      <td>5.0</td>\n",
       "      <td>45.0</td>\n",
       "      <td>51900.0</td>\n",
       "      <td>155800.0</td>\n",
       "      <td>False</td>\n",
       "      <td>0</td>\n",
       "    </tr>\n",
       "    <tr>\n",
       "      <th>2536</th>\n",
       "      <td>528275160</td>\n",
       "      <td>2004</td>\n",
       "      <td>257500</td>\n",
       "      <td>60</td>\n",
       "      <td>12891</td>\n",
       "      <td>IR1</td>\n",
       "      <td>Lvl</td>\n",
       "      <td>Corner</td>\n",
       "      <td>Gilbert</td>\n",
       "      <td>Norm</td>\n",
       "      <td>...</td>\n",
       "      <td>NaN</td>\n",
       "      <td>7</td>\n",
       "      <td>528275160.0</td>\n",
       "      <td>3838 BRICKMAN AVE</td>\n",
       "      <td>5.0</td>\n",
       "      <td>45.0</td>\n",
       "      <td>73100.0</td>\n",
       "      <td>219100.0</td>\n",
       "      <td>False</td>\n",
       "      <td>0</td>\n",
       "    </tr>\n",
       "  </tbody>\n",
       "</table>\n",
       "<p>11 rows × 61 columns</p>\n",
       "</div>"
      ],
      "text/plain": [
       "            PID  GrLivArea  SalePrice  MSSubClass  LotArea LotShape  \\\n",
       "175   528439010       1460     247000          20    10037      Reg   \n",
       "787   528240070       1960     216500          60     7851      Reg   \n",
       "871   907260030       1725     198500          60     8749      Reg   \n",
       "891   528290090       1414     176000          60     7750      Reg   \n",
       "1041  531371050       1200     184900          20    10083      Reg   \n",
       "1161  534104100       1812     205000          60     7500      Reg   \n",
       "1355  528480160       1665     205950          60     8125      Reg   \n",
       "1553  907251090       2031     237000          60     9473      Reg   \n",
       "2033  908130020        914     117250          20     8050      Reg   \n",
       "2477  528250010       1394     165500          80    11950      IR1   \n",
       "2536  528275160       2004     257500          60    12891      IR1   \n",
       "\n",
       "     LandContour LotConfig Neighborhood Condition1  ... Fence  MoSold  \\\n",
       "175          Lvl    Corner      Somerst      Feedr  ...   NaN       8   \n",
       "787          Lvl    Inside      Gilbert       Norm  ...   NaN       5   \n",
       "871          Lvl    Inside      CollgCr       Norm  ...   NaN      11   \n",
       "891          Lvl    Inside      Gilbert       RRAn  ...   NaN       4   \n",
       "1041         Lvl    Inside      SawyerW       Norm  ...   NaN       8   \n",
       "1161         Lvl    Inside      Somerst       Norm  ...   NaN       4   \n",
       "1355         Lvl    Inside      Somerst       Norm  ...   NaN       5   \n",
       "1553         Lvl    Inside      CollgCr       Norm  ...   NaN       3   \n",
       "2033         Lvl    Inside      Edwards       Norm  ...   NaN       4   \n",
       "2477         Lvl    Corner      Gilbert       Norm  ...   NaN      10   \n",
       "2536         Lvl    Corner      Gilbert       Norm  ...   NaN       7   \n",
       "\n",
       "         GeoRefNo          Prop_Addr SchD_S TxD_S  LndAc_S   OthAc_S  \\\n",
       "175   528439010.0  2625 YORKSHIRE ST    1.0   1.0  70300.0  210700.0   \n",
       "787   528240070.0   3907 WESTLAWN DR    5.0  45.0  64600.0  193700.0   \n",
       "871   907260030.0  5014 CLEMENS BLVD    1.0   1.0  62100.0  186200.0   \n",
       "891   528290090.0    3813 WELBECK DR    5.0  45.0  48400.0  145000.0   \n",
       "1041  531371050.0  5429 TENNESSEE ST    1.0   1.0  54800.0  164400.0   \n",
       "1161  534104100.0   2650 SOMERSET DR    1.0   1.0  63100.0  189300.0   \n",
       "1355  528480160.0    2615 CLAYTON DR    1.0   1.0  67300.0  201900.0   \n",
       "1553  907251090.0     522 SMILEY AVE    1.0   1.0  76100.0  228300.0   \n",
       "2033  908130020.0      206 DOTSON DR    1.0   1.0  40400.0  121200.0   \n",
       "2477  528250010.0      4015 HYDE AVE    5.0  45.0  51900.0  155800.0   \n",
       "2536  528275160.0  3838 BRICKMAN AVE    5.0  45.0  73100.0  219100.0   \n",
       "\n",
       "     Remodeled RemodelYrsAftBuilt  \n",
       "175       True                  1  \n",
       "787      False                  0  \n",
       "871      False                  0  \n",
       "891      False                  0  \n",
       "1041     False                  0  \n",
       "1161     False                  0  \n",
       "1355     False                  0  \n",
       "1553     False                  0  \n",
       "2033     False                  0  \n",
       "2477     False                  0  \n",
       "2536     False                  0  \n",
       "\n",
       "[11 rows x 61 columns]"
      ]
     },
     "execution_count": 256,
     "metadata": {},
     "output_type": "execute_result"
    }
   ],
   "source": [
    "tdata[tdata['MasVnrType'].isnull()] # Changed the column indees to investigate"
   ]
  },
  {
   "cell_type": "markdown",
   "metadata": {},
   "source": [
    "From inspection, these null-values are in rows that:\n",
    "1) Are of all different zoning types.\n",
    "2) 1/3 have missing lot frontage\n",
    "3) Most are 1Fam building types\n",
    "4) Built in 2000 or later.\n",
    "5) NaN for MasVnrArea\n",
    "6) Foundations are all PConc\n",
    "7) Most have paved drives and garages\n",
    "8) All have NaN for Fence\n",
    "\n",
    "Don't see any special relatinoships, and none have MasVnrArea, so going to fill these NaN's in as None (the mode)"
   ]
  },
  {
   "cell_type": "code",
   "execution_count": 257,
   "metadata": {},
   "outputs": [],
   "source": [
    "# Filling in missing values with 'None'\n",
    "tdata['MasVnrType'].fillna(value='None', inplace=True)"
   ]
  },
  {
   "cell_type": "code",
   "execution_count": 258,
   "metadata": {},
   "outputs": [
    {
     "name": "stdout",
     "output_type": "stream",
     "text": [
      "None       1345\n",
      "BrkFace     711\n",
      "Stone       149\n",
      "BrkCmn       14\n",
      "Name: MasVnrType, dtype: int64\n",
      "Missing values:  0\n"
     ]
    }
   ],
   "source": [
    "# Checking the transformation\n",
    "print(tdata['MasVnrType'].value_counts())\n",
    "print('Missing values: ', np.sum(tdata['MasVnrType'].isnull()))"
   ]
  },
  {
   "cell_type": "code",
   "execution_count": 259,
   "metadata": {},
   "outputs": [],
   "source": [
    "# Combining Stone and BrkCmn, those are both much higher value than BrkFace.\n",
    "tdata['MasVnrType'].replace(['Stone', 'BrkCmn'], 'StoneBrkcom', inplace=True)"
   ]
  },
  {
   "cell_type": "code",
   "execution_count": 260,
   "metadata": {},
   "outputs": [
    {
     "data": {
      "text/plain": [
       "None           1345\n",
       "BrkFace         711\n",
       "StoneBrkcom     163\n",
       "Name: MasVnrType, dtype: int64"
      ]
     },
     "execution_count": 260,
     "metadata": {},
     "output_type": "execute_result"
    }
   ],
   "source": [
    "# Checking the transformation\n",
    "tdata['MasVnrType'].value_counts()"
   ]
  },
  {
   "cell_type": "code",
   "execution_count": 261,
   "metadata": {},
   "outputs": [
    {
     "name": "stdout",
     "output_type": "stream",
     "text": [
      "category\n"
     ]
    }
   ],
   "source": [
    "tdata['MasVnrType'] = tdata['MasVnrType'].astype('category')\n",
    "print(tdata['MasVnrType'].dtypes)"
   ]
  },
  {
   "cell_type": "markdown",
   "metadata": {},
   "source": [
    "## MasVnrArea - Fill NaN's"
   ]
  },
  {
   "cell_type": "markdown",
   "metadata": {},
   "source": [
    "Already found out that the NaN's in this column are the same as the ones in the MasVnrType column above. I filled those in with None for type so am filling these in with 0 for Area."
   ]
  },
  {
   "cell_type": "code",
   "execution_count": 262,
   "metadata": {},
   "outputs": [
    {
     "name": "stdout",
     "output_type": "stream",
     "text": [
      "0.0       1329\n",
      "120.0       12\n",
      "216.0       11\n",
      "108.0        9\n",
      "176.0        9\n",
      "          ... \n",
      "616.0        1\n",
      "632.0        1\n",
      "396.0        1\n",
      "406.0        1\n",
      "1159.0       1\n",
      "Name: MasVnrArea, Length: 385, dtype: int64\n",
      "Missing Values:  11\n"
     ]
    }
   ],
   "source": [
    "# Initial State\n",
    "print(tdata['MasVnrArea'].value_counts())\n",
    "print('Missing Values: ', np.sum(tdata['MasVnrArea'].isnull()))\n",
    "#Numerical variable, with a large amount of Zeros."
   ]
  },
  {
   "cell_type": "code",
   "execution_count": 263,
   "metadata": {},
   "outputs": [],
   "source": [
    "# Now filling the NaN's with zeros\n",
    "tdata['MasVnrArea'].fillna(value=0, inplace=True)"
   ]
  },
  {
   "cell_type": "code",
   "execution_count": 264,
   "metadata": {},
   "outputs": [
    {
     "name": "stdout",
     "output_type": "stream",
     "text": [
      "0.0       1340\n",
      "120.0       12\n",
      "216.0       11\n",
      "108.0        9\n",
      "176.0        9\n",
      "          ... \n",
      "616.0        1\n",
      "632.0        1\n",
      "396.0        1\n",
      "406.0        1\n",
      "1159.0       1\n",
      "Name: MasVnrArea, Length: 385, dtype: int64\n",
      "Missing Values:  0\n"
     ]
    }
   ],
   "source": [
    "# Check that our fills went correctly\n",
    "print(tdata['MasVnrArea'].value_counts())\n",
    "print('Missing Values: ', np.sum(tdata['MasVnrArea'].isnull()))"
   ]
  },
  {
   "cell_type": "markdown",
   "metadata": {},
   "source": [
    "## Foundation - Dummify\n",
    "Maybe condense later. Potentially ask Mr. Burakowski"
   ]
  },
  {
   "cell_type": "code",
   "execution_count": 265,
   "metadata": {},
   "outputs": [
    {
     "data": {
      "text/plain": [
       "PConc     978\n",
       "CBlock    976\n",
       "BrkTil    230\n",
       "Slab       24\n",
       "Stone       6\n",
       "Wood        5\n",
       "Name: Foundation, dtype: int64"
      ]
     },
     "execution_count": 265,
     "metadata": {},
     "output_type": "execute_result"
    }
   ],
   "source": [
    "tdata['Foundation'].value_counts()"
   ]
  },
  {
   "cell_type": "code",
   "execution_count": 266,
   "metadata": {},
   "outputs": [
    {
     "name": "stdout",
     "output_type": "stream",
     "text": [
      "category\n"
     ]
    }
   ],
   "source": [
    "tdata['Foundation'] = tdata['Foundation'].astype('category')\n",
    "print(tdata['Foundation'].dtypes)"
   ]
  },
  {
   "cell_type": "markdown",
   "metadata": {},
   "source": [
    "## BsmtQual - No Basement cat from NaN's, Combine 'Po' into 'Fa', Dummify"
   ]
  },
  {
   "cell_type": "code",
   "execution_count": 267,
   "metadata": {},
   "outputs": [
    {
     "name": "stdout",
     "output_type": "stream",
     "text": [
      "TA    1000\n",
      "Gd     972\n",
      "Ex     145\n",
      "Fa      62\n",
      "Name: BsmtQual, dtype: int64\n",
      "Missing values:  40\n"
     ]
    }
   ],
   "source": [
    "# Initial State\n",
    "print(tdata['BsmtQual'].value_counts())\n",
    "print('Missing values: ', np.sum(tdata['BsmtQual'].isnull()))"
   ]
  },
  {
   "cell_type": "code",
   "execution_count": 268,
   "metadata": {},
   "outputs": [],
   "source": [
    "# Combine 'Po' into 'Fa'\n",
    "tdata['BsmtQual'].replace('Po', 'Fa', inplace=True)\n",
    "# Make 'None' category for NaN's\n",
    "tdata['BsmtQual'].fillna(value='None', inplace=True)"
   ]
  },
  {
   "cell_type": "code",
   "execution_count": 269,
   "metadata": {},
   "outputs": [
    {
     "name": "stdout",
     "output_type": "stream",
     "text": [
      "TA      1000\n",
      "Gd       972\n",
      "Ex       145\n",
      "Fa        62\n",
      "None      40\n",
      "Name: BsmtQual, dtype: int64\n",
      "Missing values:  0\n"
     ]
    }
   ],
   "source": [
    "# Check Transformation\n",
    "print(tdata['BsmtQual'].value_counts())\n",
    "print('Missing values: ', np.sum(tdata['BsmtQual'].isnull()))"
   ]
  },
  {
   "cell_type": "code",
   "execution_count": 270,
   "metadata": {},
   "outputs": [
    {
     "name": "stdout",
     "output_type": "stream",
     "text": [
      "category\n"
     ]
    }
   ],
   "source": [
    "tdata['BsmtQual'] = tdata['BsmtQual'].astype('category')\n",
    "print(tdata['BsmtQual'].dtypes)"
   ]
  },
  {
   "cell_type": "markdown",
   "metadata": {},
   "source": [
    "## BsmtCond - Combine 'Po' into 'Fa', 'Ex' into 'Gd'. Fill NaN's w/ 'None', the Dummify"
   ]
  },
  {
   "cell_type": "code",
   "execution_count": 271,
   "metadata": {},
   "outputs": [
    {
     "name": "stdout",
     "output_type": "stream",
     "text": [
      "TA    2023\n",
      "Gd      85\n",
      "Fa      67\n",
      "Ex       3\n",
      "Po       1\n",
      "Name: BsmtCond, dtype: int64\n",
      "Missing values:  40\n"
     ]
    }
   ],
   "source": [
    "# Initial State\n",
    "print(tdata['BsmtCond'].value_counts())\n",
    "print('Missing values: ', np.sum(tdata['BsmtCond'].isnull()))"
   ]
  },
  {
   "cell_type": "code",
   "execution_count": 272,
   "metadata": {},
   "outputs": [],
   "source": [
    "# Combine 'Po' into 'Fa', and 'Ex' into 'Gd'\n",
    "tdata['BsmtCond'].replace('Po', 'Fa', inplace=True)\n",
    "tdata['BsmtCond'].replace('Ex', 'Gd', inplace=True)\n",
    "# Fill NaN's with 'None'\n",
    "tdata['BsmtCond'].fillna(value='None', inplace=True)"
   ]
  },
  {
   "cell_type": "code",
   "execution_count": 273,
   "metadata": {},
   "outputs": [
    {
     "data": {
      "text/plain": [
       "TA      2023\n",
       "Gd        88\n",
       "Fa        68\n",
       "None      40\n",
       "Name: BsmtCond, dtype: int64"
      ]
     },
     "execution_count": 273,
     "metadata": {},
     "output_type": "execute_result"
    }
   ],
   "source": [
    "# Checking the transformation\n",
    "tdata['BsmtCond'].value_counts()"
   ]
  },
  {
   "cell_type": "code",
   "execution_count": 274,
   "metadata": {},
   "outputs": [
    {
     "name": "stdout",
     "output_type": "stream",
     "text": [
      "category\n"
     ]
    }
   ],
   "source": [
    "tdata['BsmtCond'] = tdata['BsmtCond'].astype('category')\n",
    "print(tdata['BsmtCond'].dtypes)"
   ]
  },
  {
   "cell_type": "markdown",
   "metadata": {},
   "source": [
    "## BsmtExposure - Create a binary y/n. 'Gd', 'Av' == 1, rest == 0"
   ]
  },
  {
   "cell_type": "markdown",
   "metadata": {},
   "source": [
    "Need to figure out what the two NaN's are that are not similar to the rest of the basement column NaN's and decide what to do with them."
   ]
  },
  {
   "cell_type": "code",
   "execution_count": 275,
   "metadata": {},
   "outputs": [
    {
     "data": {
      "text/html": [
       "<div>\n",
       "<style scoped>\n",
       "    .dataframe tbody tr th:only-of-type {\n",
       "        vertical-align: middle;\n",
       "    }\n",
       "\n",
       "    .dataframe tbody tr th {\n",
       "        vertical-align: top;\n",
       "    }\n",
       "\n",
       "    .dataframe thead th {\n",
       "        text-align: right;\n",
       "    }\n",
       "</style>\n",
       "<table border=\"1\" class=\"dataframe\">\n",
       "  <thead>\n",
       "    <tr style=\"text-align: right;\">\n",
       "      <th></th>\n",
       "      <th>BsmtQual</th>\n",
       "      <th>BsmtCond</th>\n",
       "      <th>BsmtExposure</th>\n",
       "      <th>BsmtFinType1</th>\n",
       "      <th>BsmtUnfSF</th>\n",
       "      <th>TotalBsmtSF</th>\n",
       "      <th>HeatingQC</th>\n",
       "      <th>NoCentralAir</th>\n",
       "      <th>NonStdElectrical</th>\n",
       "      <th>1stFlrSF</th>\n",
       "    </tr>\n",
       "  </thead>\n",
       "  <tbody>\n",
       "    <tr>\n",
       "      <th>813</th>\n",
       "      <td>Gd</td>\n",
       "      <td>TA</td>\n",
       "      <td>NaN</td>\n",
       "      <td>Unf</td>\n",
       "      <td>936.0</td>\n",
       "      <td>936.0</td>\n",
       "      <td>Ex</td>\n",
       "      <td>0</td>\n",
       "      <td>0</td>\n",
       "      <td>936</td>\n",
       "    </tr>\n",
       "    <tr>\n",
       "      <th>1201</th>\n",
       "      <td>Gd</td>\n",
       "      <td>TA</td>\n",
       "      <td>NaN</td>\n",
       "      <td>Unf</td>\n",
       "      <td>1595.0</td>\n",
       "      <td>1595.0</td>\n",
       "      <td>Ex</td>\n",
       "      <td>0</td>\n",
       "      <td>0</td>\n",
       "      <td>1595</td>\n",
       "    </tr>\n",
       "  </tbody>\n",
       "</table>\n",
       "</div>"
      ],
      "text/plain": [
       "     BsmtQual BsmtCond BsmtExposure BsmtFinType1  BsmtUnfSF  TotalBsmtSF  \\\n",
       "813        Gd       TA          NaN          Unf      936.0        936.0   \n",
       "1201       Gd       TA          NaN          Unf     1595.0       1595.0   \n",
       "\n",
       "     HeatingQC  NoCentralAir  NonStdElectrical  1stFlrSF  \n",
       "813         Ex             0                 0       936  \n",
       "1201        Ex             0                 0      1595  "
      ]
     },
     "execution_count": 275,
     "metadata": {},
     "output_type": "execute_result"
    }
   ],
   "source": [
    "expose_df = tdata[tdata['BsmtExposure'].isnull()]\n",
    "cond_df = raw_data[raw_data['BsmtCond'].isnull()]\n",
    "#The rows not shared w/ other Bsmt Columns\n",
    "expose_df[~expose_df.index.isin(cond_df.index)].iloc[:, 20:30] #changed the last columns indexes to visually inspect"
   ]
  },
  {
   "cell_type": "markdown",
   "metadata": {},
   "source": [
    "These both are unfinished basements in 1Fam houses, so I am going to the the BsmtExposure values to the modal value, 'No'"
   ]
  },
  {
   "cell_type": "code",
   "execution_count": 276,
   "metadata": {},
   "outputs": [
    {
     "name": "stdout",
     "output_type": "stream",
     "text": [
      "No    1500\n",
      "Av     296\n",
      "Gd     200\n",
      "Mn     181\n",
      "Name: BsmtExposure, dtype: int64\n",
      "Missing values:  42\n"
     ]
    }
   ],
   "source": [
    "# Initial State\n",
    "print(tdata['BsmtExposure'].value_counts())\n",
    "print('Missing values: ', np.sum(tdata['BsmtExposure'].isnull()))"
   ]
  },
  {
   "cell_type": "code",
   "execution_count": 277,
   "metadata": {},
   "outputs": [],
   "source": [
    "# Fill in the two unique NaN's with 'No'. Same for the rest of the NaN's.\n",
    "tdata['BsmtExposure'].fillna(value='No', inplace=True)\n",
    "# Combine Gd, Av into '1', combine Mn, No into '0'\n",
    "tdata['BsmtExposure'].replace(['Gd', 'Av'], 1, inplace=True)\n",
    "tdata['BsmtExposure'].replace(['Mn', 'No'], 0, inplace=True)"
   ]
  },
  {
   "cell_type": "code",
   "execution_count": 278,
   "metadata": {},
   "outputs": [
    {
     "name": "stdout",
     "output_type": "stream",
     "text": [
      "0    1723\n",
      "1     496\n",
      "Name: BsmtExposure, dtype: int64\n",
      "Missing values:  0\n"
     ]
    }
   ],
   "source": [
    "# Check Transformation\n",
    "print(tdata['BsmtExposure'].value_counts())\n",
    "print('Missing values: ', np.sum(tdata['BsmtExposure'].isnull()))"
   ]
  },
  {
   "cell_type": "markdown",
   "metadata": {},
   "source": [
    "## BsmtFinType1 - Binarize, Good Living (y or n)"
   ]
  },
  {
   "cell_type": "code",
   "execution_count": 279,
   "metadata": {},
   "outputs": [
    {
     "name": "stdout",
     "output_type": "stream",
     "text": [
      "GLQ    665\n",
      "Unf    579\n",
      "ALQ    361\n",
      "Rec    226\n",
      "BLQ    224\n",
      "LwQ    124\n",
      "Name: BsmtFinType1, dtype: int64\n",
      "Missing values:  40\n"
     ]
    }
   ],
   "source": [
    "# Initial State\n",
    "print(tdata['BsmtFinType1'].value_counts())\n",
    "print('Missing values: ', np.sum(tdata['BsmtFinType1'].isnull()))"
   ]
  },
  {
   "cell_type": "code",
   "execution_count": 280,
   "metadata": {},
   "outputs": [],
   "source": [
    "# Fill missing values with Unf (this is okay since I am dropping that class)\n",
    "tdata['BsmtFinType1'].fillna(value='Unf', inplace=True)\n",
    "# Change GLQ to 1, the rest to 0\n",
    "tdata['BsmtFinType1'].replace(['Unf', 'ALQ', 'Rec', 'BLQ', 'LwQ'], 0, inplace=True)\n",
    "tdata['BsmtFinType1'].replace(['GLQ'], 1, inplace=True)\n",
    "# change name to reflect the new column meaning\n",
    "tdata.rename(columns={'BsmtFinType1':'BsmtFinGdLvng'}, inplace=True)"
   ]
  },
  {
   "cell_type": "code",
   "execution_count": 281,
   "metadata": {},
   "outputs": [
    {
     "data": {
      "text/plain": [
       "0    1554\n",
       "1     665\n",
       "Name: BsmtFinGdLvng, dtype: int64"
      ]
     },
     "execution_count": 281,
     "metadata": {},
     "output_type": "execute_result"
    }
   ],
   "source": [
    "# Check Transformation\n",
    "tdata['BsmtFinGdLvng'].value_counts()"
   ]
  },
  {
   "cell_type": "markdown",
   "metadata": {},
   "source": [
    "# FireplaceQu"
   ]
  },
  {
   "cell_type": "code",
   "execution_count": 282,
   "metadata": {},
   "outputs": [
    {
     "name": "stdout",
     "output_type": "stream",
     "text": [
      "Gd    536\n",
      "TA    531\n",
      "Fa     67\n",
      "Po     41\n",
      "Ex     26\n",
      "Name: FireplaceQu, dtype: int64\n",
      "Missing values:  1018\n"
     ]
    }
   ],
   "source": [
    "# Initial State\n",
    "print(tdata['FireplaceQu'].value_counts())\n",
    "print('Missing values: ', np.sum(tdata['FireplaceQu'].isnull()))"
   ]
  },
  {
   "cell_type": "code",
   "execution_count": 283,
   "metadata": {},
   "outputs": [
    {
     "data": {
      "text/plain": [
       "1    1034\n",
       "0    1018\n",
       "2     157\n",
       "3       9\n",
       "4       1\n",
       "Name: Fireplaces, dtype: int64"
      ]
     },
     "execution_count": 283,
     "metadata": {},
     "output_type": "execute_result"
    }
   ],
   "source": [
    "# Explore NaN's\n",
    "tdata['Fireplaces'].value_counts()"
   ]
  },
  {
   "cell_type": "code",
   "execution_count": 284,
   "metadata": {},
   "outputs": [],
   "source": [
    "# Clearly the 1,241 missing values are No Firepalces. Adding a class called None. Then dropping that one.\n",
    "tdata['FireplaceQu'].fillna(value='None', inplace=True)"
   ]
  },
  {
   "cell_type": "code",
   "execution_count": 285,
   "metadata": {},
   "outputs": [
    {
     "name": "stdout",
     "output_type": "stream",
     "text": [
      "None    1018\n",
      "Gd       536\n",
      "TA       531\n",
      "Fa        67\n",
      "Po        41\n",
      "Ex        26\n",
      "Name: FireplaceQu, dtype: int64\n",
      "Missing values:  0\n"
     ]
    }
   ],
   "source": [
    "# Check changes\n",
    "print(tdata['FireplaceQu'].value_counts())\n",
    "print('Missing values: ', np.sum(tdata['FireplaceQu'].isnull()))"
   ]
  },
  {
   "cell_type": "code",
   "execution_count": 286,
   "metadata": {},
   "outputs": [],
   "source": [
    "tdata['FireplaceQu'] = tdata['FireplaceQu'].astype('category')"
   ]
  },
  {
   "cell_type": "markdown",
   "metadata": {},
   "source": [
    "# =====================\n",
    "# GABBY'S CODE SECTION\n",
    "# ====================="
   ]
  },
  {
   "cell_type": "markdown",
   "metadata": {},
   "source": [
    "## BsmtUnfSF - Keep, change the 1 null to 0."
   ]
  },
  {
   "cell_type": "code",
   "execution_count": 287,
   "metadata": {},
   "outputs": [],
   "source": [
    "sum(tdata.BsmtUnfSF.isnull())\n",
    "tdata[tdata.BsmtUnfSF.isnull()]\n",
    "# Filling in missing value with 0\n",
    "tdata['BsmtUnfSF'].fillna(value=0, inplace=True)"
   ]
  },
  {
   "cell_type": "markdown",
   "metadata": {},
   "source": [
    "## TotalBsmtSF  - Keep, change the 1 null to 0.\n"
   ]
  },
  {
   "cell_type": "code",
   "execution_count": 288,
   "metadata": {},
   "outputs": [],
   "source": [
    "sum(tdata.TotalBsmtSF.isnull())\n",
    "tdata[tdata.TotalBsmtSF.isnull()] #classic row 912\n",
    "# Filling in missing value with 0\n",
    "tdata['TotalBsmtSF'].fillna(value=0, inplace=True)"
   ]
  },
  {
   "cell_type": "markdown",
   "metadata": {},
   "source": [
    "## GarageType -\n",
    "carport into none, built-in, basement into attached, two-type into detached (possibly binary Y/N)- none for nas\n"
   ]
  },
  {
   "cell_type": "code",
   "execution_count": 289,
   "metadata": {},
   "outputs": [
    {
     "data": {
      "text/plain": [
       "0"
      ]
     },
     "execution_count": 289,
     "metadata": {},
     "output_type": "execute_result"
    }
   ],
   "source": [
    "#nas to none as per kaggle dict\n",
    "sum(tdata.GarageType.isnull())\n",
    "tdata['GarageType'].fillna(value='None', inplace=True)\n",
    "sum(tdata.GarageType.isnull())\n"
   ]
  },
  {
   "cell_type": "code",
   "execution_count": 290,
   "metadata": {},
   "outputs": [
    {
     "data": {
      "text/plain": [
       "Attchd     1367\n",
       "Detchd      603\n",
       "BuiltIn     134\n",
       "None         76\n",
       "Basment      23\n",
       "2Types       12\n",
       "CarPort       4\n",
       "Name: GarageType, dtype: int64"
      ]
     },
     "execution_count": 290,
     "metadata": {},
     "output_type": "execute_result"
    }
   ],
   "source": [
    "tdata.GarageType.value_counts()"
   ]
  },
  {
   "cell_type": "code",
   "execution_count": 291,
   "metadata": {},
   "outputs": [
    {
     "name": "stderr",
     "output_type": "stream",
     "text": [
      "<ipython-input-291-4d8f79e8676c>:2: SettingWithCopyWarning: \n",
      "A value is trying to be set on a copy of a slice from a DataFrame\n",
      "\n",
      "See the caveats in the documentation: https://pandas.pydata.org/pandas-docs/stable/user_guide/indexing.html#returning-a-view-versus-a-copy\n",
      "  tdata.GarageType[tdata.GarageType==\"CarPort\"]='None'\n",
      "<ipython-input-291-4d8f79e8676c>:3: SettingWithCopyWarning: \n",
      "A value is trying to be set on a copy of a slice from a DataFrame\n",
      "\n",
      "See the caveats in the documentation: https://pandas.pydata.org/pandas-docs/stable/user_guide/indexing.html#returning-a-view-versus-a-copy\n",
      "  tdata.GarageType[tdata.GarageType==\"BuiltIn\"]='Attchd'\n",
      "<ipython-input-291-4d8f79e8676c>:4: SettingWithCopyWarning: \n",
      "A value is trying to be set on a copy of a slice from a DataFrame\n",
      "\n",
      "See the caveats in the documentation: https://pandas.pydata.org/pandas-docs/stable/user_guide/indexing.html#returning-a-view-versus-a-copy\n",
      "  tdata.GarageType[tdata.GarageType==\"Basment\"]='Attchd'\n",
      "<ipython-input-291-4d8f79e8676c>:5: SettingWithCopyWarning: \n",
      "A value is trying to be set on a copy of a slice from a DataFrame\n",
      "\n",
      "See the caveats in the documentation: https://pandas.pydata.org/pandas-docs/stable/user_guide/indexing.html#returning-a-view-versus-a-copy\n",
      "  tdata.GarageType[tdata.GarageType==\"2Types\"]='Detchd'\n"
     ]
    },
    {
     "data": {
      "text/plain": [
       "Attchd    1524\n",
       "Detchd     615\n",
       "None        80\n",
       "Name: GarageType, dtype: int64"
      ]
     },
     "execution_count": 291,
     "metadata": {},
     "output_type": "execute_result"
    }
   ],
   "source": [
    "#whittle categories\n",
    "tdata.GarageType[tdata.GarageType==\"CarPort\"]='None'\n",
    "tdata.GarageType[tdata.GarageType==\"BuiltIn\"]='Attchd'\n",
    "tdata.GarageType[tdata.GarageType==\"Basment\"]='Attchd'\n",
    "tdata.GarageType[tdata.GarageType==\"2Types\"]='Detchd'\n",
    "tdata.GarageType.value_counts()"
   ]
  },
  {
   "cell_type": "code",
   "execution_count": 292,
   "metadata": {},
   "outputs": [
    {
     "name": "stderr",
     "output_type": "stream",
     "text": [
      "<ipython-input-292-ffd15f8ee67a>:3: SettingWithCopyWarning: \n",
      "A value is trying to be set on a copy of a slice from a DataFrame\n",
      "\n",
      "See the caveats in the documentation: https://pandas.pydata.org/pandas-docs/stable/user_guide/indexing.html#returning-a-view-versus-a-copy\n",
      "  tdata['GarageType'][(tdata['GarageFinish'].isna()==False) &(tdata['GarageType']=='None')]='Attchd'\n"
     ]
    }
   ],
   "source": [
    "#as discovered during garagefinish,there are nine nas that would suggest no garage hpwever they have garage data in all other garage cols so assigning them attched aka the mode\n",
    "sum( (tdata['GarageFinish'].isna()==False) &(tdata['GarageType']=='None')) \n",
    "tdata['GarageType'][(tdata['GarageFinish'].isna()==False) &(tdata['GarageType']=='None')]='Attchd'\n",
    "sum( (tdata['GarageFinish'].isna()==False) &(tdata['GarageType']=='None')) \n",
    "tdata.GarageType=tdata.GarageType.astype(\"category\")"
   ]
  },
  {
   "cell_type": "markdown",
   "metadata": {},
   "source": [
    "## HasGarage -create binary garage col- 1=yes garage"
   ]
  },
  {
   "cell_type": "code",
   "execution_count": 293,
   "metadata": {},
   "outputs": [],
   "source": [
    "#tdata['HasGarage'] = np.where(tdata['GarageType']!= 'None', 1, 0)"
   ]
  },
  {
   "cell_type": "code",
   "execution_count": 294,
   "metadata": {},
   "outputs": [],
   "source": [
    "#check its worked\n",
    "#sum(tdata['HasGarage']==0)"
   ]
  },
  {
   "cell_type": "markdown",
   "metadata": {},
   "source": [
    "## GarageFinish"
   ]
  },
  {
   "cell_type": "code",
   "execution_count": 295,
   "metadata": {},
   "outputs": [
    {
     "data": {
      "text/plain": [
       "78"
      ]
     },
     "execution_count": 295,
     "metadata": {},
     "output_type": "execute_result"
    }
   ],
   "source": [
    "tdata['GarageFinish'].value_counts()\n",
    "sum(tdata['GarageFinish'].isna())\n",
    "#sum( (tdata['GarageFinish'].isna()) &(tdata['GarageType']!='None')) "
   ]
  },
  {
   "cell_type": "code",
   "execution_count": 296,
   "metadata": {},
   "outputs": [
    {
     "name": "stderr",
     "output_type": "stream",
     "text": [
      "<ipython-input-296-ae0553da1aa2>:1: SettingWithCopyWarning: \n",
      "A value is trying to be set on a copy of a slice from a DataFrame\n",
      "\n",
      "See the caveats in the documentation: https://pandas.pydata.org/pandas-docs/stable/user_guide/indexing.html#returning-a-view-versus-a-copy\n",
      "  tdata.GarageFinish[(tdata['GarageFinish'].isna()) &(tdata['GarageType']!='None')]='Unf'\n"
     ]
    }
   ],
   "source": [
    "tdata.GarageFinish[(tdata['GarageFinish'].isna()) &(tdata['GarageType']!='None')]='Unf'"
   ]
  },
  {
   "cell_type": "code",
   "execution_count": 297,
   "metadata": {},
   "outputs": [
    {
     "data": {
      "text/plain": [
       "Unf    946\n",
       "RFn    659\n",
       "Fin    538\n",
       "Name: GarageFinish, dtype: int64"
      ]
     },
     "execution_count": 297,
     "metadata": {},
     "output_type": "execute_result"
    }
   ],
   "source": [
    "tdata['GarageFinish'].value_counts()"
   ]
  },
  {
   "cell_type": "code",
   "execution_count": 298,
   "metadata": {},
   "outputs": [
    {
     "name": "stderr",
     "output_type": "stream",
     "text": [
      "<ipython-input-298-a09a9ca32031>:1: SettingWithCopyWarning: \n",
      "A value is trying to be set on a copy of a slice from a DataFrame\n",
      "\n",
      "See the caveats in the documentation: https://pandas.pydata.org/pandas-docs/stable/user_guide/indexing.html#returning-a-view-versus-a-copy\n",
      "  tdata['GarageFinish'][(tdata['GarageFinish'].isna())]='None'\n"
     ]
    }
   ],
   "source": [
    "tdata['GarageFinish'][(tdata['GarageFinish'].isna())]='None'\n",
    "tdata['GarageFinish'].value_counts()\n",
    "tdata.GarageFinish=tdata.GarageFinish.astype(\"category\")\n"
   ]
  },
  {
   "cell_type": "markdown",
   "metadata": {},
   "source": [
    "## GarageCars- keep as is"
   ]
  },
  {
   "cell_type": "code",
   "execution_count": 299,
   "metadata": {},
   "outputs": [
    {
     "data": {
      "text/plain": [
       "1"
      ]
     },
     "execution_count": 299,
     "metadata": {},
     "output_type": "execute_result"
    }
   ],
   "source": [
    "sum(tdata['GarageCars'].isna())"
   ]
  },
  {
   "cell_type": "code",
   "execution_count": 300,
   "metadata": {},
   "outputs": [
    {
     "name": "stderr",
     "output_type": "stream",
     "text": [
      "<ipython-input-300-c5fc05e22339>:3: SettingWithCopyWarning: \n",
      "A value is trying to be set on a copy of a slice from a DataFrame\n",
      "\n",
      "See the caveats in the documentation: https://pandas.pydata.org/pandas-docs/stable/user_guide/indexing.html#returning-a-view-versus-a-copy\n",
      "  tdata['GarageCars'][tdata['GarageCars'].isna()]=round(tdata['GarageCars'].mean())\n"
     ]
    }
   ],
   "source": [
    "tdata['GarageFinish'][tdata['GarageCars'].isna()]\n",
    "#one na which has features for garage type so we gonna give it the avrg number of cars \n",
    "tdata['GarageCars'][tdata['GarageCars'].isna()]=round(tdata['GarageCars'].mean())"
   ]
  },
  {
   "cell_type": "code",
   "execution_count": 301,
   "metadata": {},
   "outputs": [
    {
     "data": {
      "text/plain": [
       "0"
      ]
     },
     "execution_count": 301,
     "metadata": {},
     "output_type": "execute_result"
    }
   ],
   "source": [
    "sum(tdata['GarageCars'].isna())"
   ]
  },
  {
   "cell_type": "markdown",
   "metadata": {},
   "source": [
    "## GarageArea - if missing-> replace w mean of those w garages else 0 if no garage duh "
   ]
  },
  {
   "cell_type": "code",
   "execution_count": 302,
   "metadata": {},
   "outputs": [
    {
     "data": {
      "text/plain": [
       "0"
      ]
     },
     "execution_count": 302,
     "metadata": {},
     "output_type": "execute_result"
    }
   ],
   "source": [
    "sum( (tdata['GarageArea'].isna()) &(tdata['GarageType']!='None'))\n",
    "sum( (tdata['GarageArea']==0) &(tdata['GarageType']!='None'))\n",
    "sum( (tdata['GarageArea']!=0) &(tdata['GarageType']=='None'))"
   ]
  },
  {
   "cell_type": "code",
   "execution_count": 303,
   "metadata": {},
   "outputs": [
    {
     "name": "stderr",
     "output_type": "stream",
     "text": [
      "<ipython-input-303-0f7f5f9bc4cd>:2: SettingWithCopyWarning: \n",
      "A value is trying to be set on a copy of a slice from a DataFrame\n",
      "\n",
      "See the caveats in the documentation: https://pandas.pydata.org/pandas-docs/stable/user_guide/indexing.html#returning-a-view-versus-a-copy\n",
      "  tdata['GarageArea'][(tdata['GarageArea'].isna()) &(tdata['GarageType']!='None')]=round(tdata['GarageArea'][tdata['GarageArea']!=0].mean())\n"
     ]
    }
   ],
   "source": [
    "#one w a garage but no area \n",
    "tdata['GarageArea'][(tdata['GarageArea'].isna()) &(tdata['GarageType']!='None')]=round(tdata['GarageArea'][tdata['GarageArea']!=0].mean())"
   ]
  },
  {
   "cell_type": "code",
   "execution_count": 304,
   "metadata": {},
   "outputs": [
    {
     "data": {
      "text/plain": [
       "0"
      ]
     },
     "execution_count": 304,
     "metadata": {},
     "output_type": "execute_result"
    }
   ],
   "source": [
    "sum(tdata['GarageArea'].isna())"
   ]
  },
  {
   "cell_type": "markdown",
   "metadata": {},
   "source": [
    "## PavedDrive - binary, y=0 n=1 as per drop maj class- follow up w luke"
   ]
  },
  {
   "cell_type": "code",
   "execution_count": 305,
   "metadata": {},
   "outputs": [
    {
     "data": {
      "text/plain": [
       "0"
      ]
     },
     "execution_count": 305,
     "metadata": {},
     "output_type": "execute_result"
    }
   ],
   "source": [
    "sum(tdata['PavedDrive'].isna())"
   ]
  },
  {
   "cell_type": "code",
   "execution_count": 306,
   "metadata": {},
   "outputs": [],
   "source": [
    "#tdata[tdata['PavedDrive']==\"Y\"]\n",
    "tdata['UnpavedDrive'] = np.where(tdata['PavedDrive']!= 'Y', 1, 0)"
   ]
  },
  {
   "cell_type": "code",
   "execution_count": 307,
   "metadata": {},
   "outputs": [],
   "source": [
    "tdata=tdata.drop('PavedDrive',1)"
   ]
  },
  {
   "cell_type": "code",
   "execution_count": 308,
   "metadata": {},
   "outputs": [],
   "source": [
    "#tdata.PavedDrive"
   ]
  },
  {
   "cell_type": "markdown",
   "metadata": {},
   "source": [
    "## WoodDeckSF - binarize"
   ]
  },
  {
   "cell_type": "code",
   "execution_count": null,
   "metadata": {},
   "outputs": [],
   "source": []
  },
  {
   "cell_type": "code",
   "execution_count": 309,
   "metadata": {},
   "outputs": [],
   "source": [
    "sum(tdata['WoodDeckSF'].isna())\n",
    "sum(tdata['WoodDeckSF']>0)\n",
    "tdata['WoodDeckBinary']=tdata['WoodDeckSF']>0\n",
    "tdata=tdata.drop('WoodDeckSF',1)"
   ]
  },
  {
   "cell_type": "code",
   "execution_count": 310,
   "metadata": {},
   "outputs": [],
   "source": [
    "#tdata.WoodDeckSF"
   ]
  },
  {
   "cell_type": "markdown",
   "metadata": {},
   "source": [
    "## Create Has Porch\n"
   ]
  },
  {
   "cell_type": "code",
   "execution_count": 311,
   "metadata": {},
   "outputs": [],
   "source": [
    "tdata['HasPorch']=((tdata['ScreenPorch']+tdata['OpenPorchSF']+tdata['3SsnPorch']+tdata['EnclosedPorch'])>0).astype(int)\n"
   ]
  },
  {
   "cell_type": "code",
   "execution_count": 312,
   "metadata": {},
   "outputs": [],
   "source": [
    "tdata=tdata.drop('ScreenPorch',1)\n",
    "tdata=tdata.drop('OpenPorchSF',1)\n",
    "tdata=tdata.drop('3SsnPorch',1)\n",
    "tdata=tdata.drop('EnclosedPorch',1)"
   ]
  },
  {
   "cell_type": "markdown",
   "metadata": {},
   "source": [
    "## Fence- Binarize"
   ]
  },
  {
   "cell_type": "code",
   "execution_count": 313,
   "metadata": {},
   "outputs": [
    {
     "data": {
      "text/plain": [
       "1738"
      ]
     },
     "execution_count": 313,
     "metadata": {},
     "output_type": "execute_result"
    }
   ],
   "source": [
    "sum(tdata.Fence.isna())"
   ]
  },
  {
   "cell_type": "code",
   "execution_count": 314,
   "metadata": {},
   "outputs": [
    {
     "name": "stderr",
     "output_type": "stream",
     "text": [
      "<ipython-input-314-59ec50b9ce32>:1: SettingWithCopyWarning: \n",
      "A value is trying to be set on a copy of a slice from a DataFrame\n",
      "\n",
      "See the caveats in the documentation: https://pandas.pydata.org/pandas-docs/stable/user_guide/indexing.html#returning-a-view-versus-a-copy\n",
      "  tdata['Fence'][tdata['Fence'].isna()]='None'\n"
     ]
    }
   ],
   "source": [
    "tdata['Fence'][tdata['Fence'].isna()]='None'"
   ]
  },
  {
   "cell_type": "code",
   "execution_count": 315,
   "metadata": {},
   "outputs": [],
   "source": [
    "tdata['FenceBinary']=(tdata['Fence']!='None').astype(int)\n"
   ]
  },
  {
   "cell_type": "code",
   "execution_count": 316,
   "metadata": {},
   "outputs": [
    {
     "data": {
      "text/plain": [
       "1738"
      ]
     },
     "execution_count": 316,
     "metadata": {},
     "output_type": "execute_result"
    }
   ],
   "source": [
    "sum(tdata['FenceBinary']==0)"
   ]
  },
  {
   "cell_type": "code",
   "execution_count": 317,
   "metadata": {},
   "outputs": [],
   "source": [
    "tdata=tdata.drop('Fence',1)"
   ]
  },
  {
   "cell_type": "markdown",
   "metadata": {},
   "source": [
    "## MoSold"
   ]
  },
  {
   "cell_type": "code",
   "execution_count": 318,
   "metadata": {},
   "outputs": [
    {
     "data": {
      "text/plain": [
       "0"
      ]
     },
     "execution_count": 318,
     "metadata": {},
     "output_type": "execute_result"
    }
   ],
   "source": [
    "sum(tdata.MoSold.isna())"
   ]
  },
  {
   "cell_type": "code",
   "execution_count": 319,
   "metadata": {},
   "outputs": [],
   "source": [
    "tdata.MoSold=tdata.MoSold.astype(\"category\")"
   ]
  },
  {
   "cell_type": "markdown",
   "metadata": {},
   "source": [
    "## OverallQual"
   ]
  },
  {
   "cell_type": "code",
   "execution_count": 320,
   "metadata": {},
   "outputs": [
    {
     "data": {
      "text/plain": [
       "0"
      ]
     },
     "execution_count": 320,
     "metadata": {},
     "output_type": "execute_result"
    }
   ],
   "source": [
    "sum(tdata.OverallQual.isna())"
   ]
  },
  {
   "cell_type": "code",
   "execution_count": 321,
   "metadata": {},
   "outputs": [
    {
     "data": {
      "text/plain": [
       "<AxesSubplot:xlabel='OverallQual', ylabel='SalePrice'>"
      ]
     },
     "execution_count": 321,
     "metadata": {},
     "output_type": "execute_result"
    },
    {
     "data": {
      "image/png": "[encoded data removed]",
      "text/plain": [
       "<Figure size 432x288 with 1 Axes>"
      ]
     },
     "metadata": {
      "needs_background": "light"
     },
     "output_type": "display_data"
    }
   ],
   "source": [
    "sns.boxplot(x='OverallQual',y='SalePrice',data=tdata)"
   ]
  },
  {
   "cell_type": "code",
   "execution_count": 322,
   "metadata": {},
   "outputs": [
    {
     "data": {
      "text/plain": [
       "<AxesSubplot:xlabel='OverallQual', ylabel='OverallCond'>"
      ]
     },
     "execution_count": 322,
     "metadata": {},
     "output_type": "execute_result"
    },
    {
     "data": {
      "image/png": "[encoded data removed]",
      "text/plain": [
       "<Figure size 432x288 with 1 Axes>"
      ]
     },
     "metadata": {
      "needs_background": "light"
     },
     "output_type": "display_data"
    }
   ],
   "source": [
    "sns.boxplot(x='OverallQual',y='OverallCond',data=tdata)"
   ]
  },
  {
   "cell_type": "markdown",
   "metadata": {},
   "source": [
    "## OverallCond- \n",
    "-said we should binarize but going to do that in new col bc i actually like this as is now ...\n",
    "-do we think this should be ordinal or nominal categorical? "
   ]
  },
  {
   "cell_type": "code",
   "execution_count": 323,
   "metadata": {},
   "outputs": [
    {
     "data": {
      "text/plain": [
       "0"
      ]
     },
     "execution_count": 323,
     "metadata": {},
     "output_type": "execute_result"
    }
   ],
   "source": [
    "sum(tdata.OverallCond.isna())"
   ]
  },
  {
   "cell_type": "code",
   "execution_count": 324,
   "metadata": {},
   "outputs": [
    {
     "data": {
      "text/plain": [
       "5    1193\n",
       "6     440\n",
       "7     334\n",
       "8     132\n",
       "4      59\n",
       "9      34\n",
       "3      24\n",
       "2       3\n",
       "Name: OverallCond, dtype: int64"
      ]
     },
     "execution_count": 324,
     "metadata": {},
     "output_type": "execute_result"
    }
   ],
   "source": [
    "tdata.OverallCond.value_counts()"
   ]
  },
  {
   "cell_type": "code",
   "execution_count": 325,
   "metadata": {},
   "outputs": [
    {
     "data": {
      "text/plain": [
       "(array([   3.,   24.,   59.,    0., 1193.,  440.,    0.,  334.,  132.,\n",
       "          34.]),\n",
       " array([2. , 2.7, 3.4, 4.1, 4.8, 5.5, 6.2, 6.9, 7.6, 8.3, 9. ]),\n",
       " <BarContainer object of 10 artists>)"
      ]
     },
     "execution_count": 325,
     "metadata": {},
     "output_type": "execute_result"
    },
    {
     "data": {
      "image/png": "[encoded data removed]",
      "text/plain": [
       "<Figure size 432x288 with 1 Axes>"
      ]
     },
     "metadata": {
      "needs_background": "light"
     },
     "output_type": "display_data"
    }
   ],
   "source": [
    "plt.hist(tdata.OverallCond)"
   ]
  },
  {
   "cell_type": "code",
   "execution_count": 326,
   "metadata": {},
   "outputs": [
    {
     "data": {
      "text/plain": [
       "<AxesSubplot:xlabel='OverallCond', ylabel='SalePrice'>"
      ]
     },
     "execution_count": 326,
     "metadata": {},
     "output_type": "execute_result"
    },
    {
     "data": {
      "image/png": "[encoded data removed]",
      "text/plain": [
       "<Figure size 432x288 with 1 Axes>"
      ]
     },
     "metadata": {
      "needs_background": "light"
     },
     "output_type": "display_data"
    }
   ],
   "source": [
    "sns.boxplot(x='OverallCond',y='SalePrice',data=tdata)"
   ]
  },
  {
   "cell_type": "markdown",
   "metadata": {},
   "source": [
    "## OverallCondBinary\n",
    "-below average y or no "
   ]
  },
  {
   "cell_type": "code",
   "execution_count": 327,
   "metadata": {},
   "outputs": [],
   "source": [
    "tdata['OverallCondBinary']=(tdata['OverallCond']<5).astype(int)\n",
    "tdata=tdata.drop('OverallCond',1)"
   ]
  },
  {
   "cell_type": "markdown",
   "metadata": {},
   "source": [
    "## GeoRefNo"
   ]
  },
  {
   "cell_type": "code",
   "execution_count": 328,
   "metadata": {},
   "outputs": [
    {
     "data": {
      "text/plain": [
       "14"
      ]
     },
     "execution_count": 328,
     "metadata": {},
     "output_type": "execute_result"
    }
   ],
   "source": [
    "sum(tdata.GeoRefNo.isna())"
   ]
  },
  {
   "cell_type": "code",
   "execution_count": 329,
   "metadata": {},
   "outputs": [],
   "source": [
    "#nothing I can do about these nas rn- will become an issue for computing distance\n",
    "#to college. at that time we can impute the avrg distance or since small # instances do manually if\n",
    "#they have an address\n",
    "\n",
    "#themissing21 = indices of these rows  in case want to drop "
   ]
  },
  {
   "cell_type": "markdown",
   "metadata": {},
   "source": [
    "# Distance to campus column"
   ]
  },
  {
   "cell_type": "code",
   "execution_count": 330,
   "metadata": {},
   "outputs": [],
   "source": [
    "def getlatlong(address):\n",
    "    try:\n",
    "        address=address+', Ames, Iowa'\n",
    "    \n",
    "        location = locator.geocode(address)\n",
    "        lat=location[1][0]\n",
    "        long=location[1][1]\n",
    "        return [lat,long]\n",
    "    except:\n",
    "        return ''\n",
    "    "
   ]
  },
  {
   "cell_type": "code",
   "execution_count": 331,
   "metadata": {},
   "outputs": [],
   "source": [
    "def distancetoUoI(latlong):\n",
    "    UofIowa=[42.026640, -93.646456]\n",
    "    try:\n",
    "        return great_circle(latlong, UofIowa).km\n",
    "    except:\n",
    "        return ''"
   ]
  },
  {
   "cell_type": "code",
   "execution_count": 332,
   "metadata": {},
   "outputs": [],
   "source": [
    "locator = Nominatim(user_agent=\"myGeocoder\")\n",
    "tdata['Lat_Long']=tdata.Prop_Addr.apply((lambda address: getlatlong(address)))"
   ]
  },
  {
   "cell_type": "code",
   "execution_count": 333,
   "metadata": {},
   "outputs": [],
   "source": [
    "tdata['Dist_From_UoI']=tdata.Lat_Long.apply(lambda latlong:  distancetoUoI(latlong))"
   ]
  },
  {
   "cell_type": "code",
   "execution_count": 334,
   "metadata": {},
   "outputs": [],
   "source": [
    "#tdata.Lat_Long"
   ]
  },
  {
   "cell_type": "markdown",
   "metadata": {},
   "source": [
    "## Prop_Addr"
   ]
  },
  {
   "cell_type": "code",
   "execution_count": 335,
   "metadata": {},
   "outputs": [
    {
     "data": {
      "text/plain": [
       "14"
      ]
     },
     "execution_count": 335,
     "metadata": {},
     "output_type": "execute_result"
    }
   ],
   "source": [
    "sum((tdata.Prop_Addr.isna()))#&(tdata.GeoRefNo.isna()))\n",
    "#same 21 w no address- nothing can do bout that \n"
   ]
  },
  {
   "cell_type": "markdown",
   "metadata": {},
   "source": [
    "## SchD_S\n",
    "-binary- 1 means school dist 5 else dist 1"
   ]
  },
  {
   "cell_type": "code",
   "execution_count": 336,
   "metadata": {},
   "outputs": [
    {
     "data": {
      "text/plain": [
       "14"
      ]
     },
     "execution_count": 336,
     "metadata": {},
     "output_type": "execute_result"
    }
   ],
   "source": [
    "sum((tdata.SchD_S.isna()) &(tdata.GeoRefNo.isna()))\n",
    "#same 21 w no address- impute mode"
   ]
  },
  {
   "cell_type": "code",
   "execution_count": 337,
   "metadata": {},
   "outputs": [
    {
     "data": {
      "text/plain": [
       "1.0    1922\n",
       "5.0     283\n",
       "Name: SchD_S, dtype: int64"
      ]
     },
     "execution_count": 337,
     "metadata": {},
     "output_type": "execute_result"
    }
   ],
   "source": [
    "tdata.SchD_S.value_counts()"
   ]
  },
  {
   "cell_type": "code",
   "execution_count": 338,
   "metadata": {},
   "outputs": [
    {
     "name": "stderr",
     "output_type": "stream",
     "text": [
      "<ipython-input-338-6fb3b8e8450f>:1: SettingWithCopyWarning: \n",
      "A value is trying to be set on a copy of a slice from a DataFrame\n",
      "\n",
      "See the caveats in the documentation: https://pandas.pydata.org/pandas-docs/stable/user_guide/indexing.html#returning-a-view-versus-a-copy\n",
      "  tdata.SchD_S[tdata.SchD_S.isna()]=1.0\n"
     ]
    }
   ],
   "source": [
    "tdata.SchD_S[tdata.SchD_S.isna()]=1.0"
   ]
  },
  {
   "cell_type": "code",
   "execution_count": 339,
   "metadata": {},
   "outputs": [],
   "source": [
    "tdata['SchD_S'] = np.where(tdata['SchD_S']== 5.0, 1, 0)"
   ]
  },
  {
   "cell_type": "code",
   "execution_count": 340,
   "metadata": {},
   "outputs": [
    {
     "data": {
      "text/plain": [
       "283"
      ]
     },
     "execution_count": 340,
     "metadata": {},
     "output_type": "execute_result"
    }
   ],
   "source": [
    "sum(tdata['SchD_S']==1)"
   ]
  },
  {
   "cell_type": "markdown",
   "metadata": {},
   "source": [
    "## TxD_S \n",
    "-this is perfectly corr w school dist- drop "
   ]
  },
  {
   "cell_type": "code",
   "execution_count": 341,
   "metadata": {},
   "outputs": [
    {
     "data": {
      "text/plain": [
       "14"
      ]
     },
     "execution_count": 341,
     "metadata": {},
     "output_type": "execute_result"
    }
   ],
   "source": [
    "sum((tdata.TxD_S.isna()))"
   ]
  },
  {
   "cell_type": "code",
   "execution_count": 342,
   "metadata": {},
   "outputs": [
    {
     "data": {
      "text/plain": [
       "1.0     1922\n",
       "45.0     283\n",
       "Name: TxD_S, dtype: int64"
      ]
     },
     "execution_count": 342,
     "metadata": {},
     "output_type": "execute_result"
    }
   ],
   "source": [
    "tdata.TxD_S.value_counts()"
   ]
  },
  {
   "cell_type": "code",
   "execution_count": 343,
   "metadata": {},
   "outputs": [
    {
     "name": "stderr",
     "output_type": "stream",
     "text": [
      "<ipython-input-343-c4b4d3829437>:1: SettingWithCopyWarning: \n",
      "A value is trying to be set on a copy of a slice from a DataFrame\n",
      "\n",
      "See the caveats in the documentation: https://pandas.pydata.org/pandas-docs/stable/user_guide/indexing.html#returning-a-view-versus-a-copy\n",
      "  tdata.TxD_S[tdata.TxD_S.isna()]=1.0\n"
     ]
    }
   ],
   "source": [
    "tdata.TxD_S[tdata.TxD_S.isna()]=1.0\n",
    "tdata['TxD_S'] = np.where(tdata['TxD_S']== 45.0, 1, 0)"
   ]
  },
  {
   "cell_type": "code",
   "execution_count": 344,
   "metadata": {},
   "outputs": [],
   "source": [
    "tdata=tdata.drop(columns='TxD_S')"
   ]
  },
  {
   "cell_type": "markdown",
   "metadata": {},
   "source": [
    "## LndAc_S\n",
    "-thinking bout filling in the nas and zeros with the avrg land ac size for the given lot area cause theyre roughly corr and rando avrg might not make sense\n",
    "-hypothesize we will see some correlations in cols "
   ]
  },
  {
   "cell_type": "code",
   "execution_count": 345,
   "metadata": {},
   "outputs": [
    {
     "data": {
      "text/plain": [
       "14"
      ]
     },
     "execution_count": 345,
     "metadata": {},
     "output_type": "execute_result"
    }
   ],
   "source": [
    "sum((tdata.LndAc_S.isna()) )"
   ]
  },
  {
   "cell_type": "code",
   "execution_count": 346,
   "metadata": {},
   "outputs": [],
   "source": [
    "themissing21=tdata.index[(tdata.LndAc_S.isna())].tolist()"
   ]
  },
  {
   "cell_type": "code",
   "execution_count": 347,
   "metadata": {},
   "outputs": [
    {
     "data": {
      "text/html": [
       "<div>\n",
       "<style scoped>\n",
       "    .dataframe tbody tr th:only-of-type {\n",
       "        vertical-align: middle;\n",
       "    }\n",
       "\n",
       "    .dataframe tbody tr th {\n",
       "        vertical-align: top;\n",
       "    }\n",
       "\n",
       "    .dataframe thead th {\n",
       "        text-align: right;\n",
       "    }\n",
       "</style>\n",
       "<table border=\"1\" class=\"dataframe\">\n",
       "  <thead>\n",
       "    <tr style=\"text-align: right;\">\n",
       "      <th></th>\n",
       "      <th>PID</th>\n",
       "      <th>GrLivArea</th>\n",
       "      <th>SalePrice</th>\n",
       "      <th>MSSubClass</th>\n",
       "      <th>LotArea</th>\n",
       "      <th>LotShape</th>\n",
       "      <th>LandContour</th>\n",
       "      <th>LotConfig</th>\n",
       "      <th>Neighborhood</th>\n",
       "      <th>Condition1</th>\n",
       "      <th>...</th>\n",
       "      <th>OthAc_S</th>\n",
       "      <th>Remodeled</th>\n",
       "      <th>RemodelYrsAftBuilt</th>\n",
       "      <th>UnpavedDrive</th>\n",
       "      <th>WoodDeckBinary</th>\n",
       "      <th>HasPorch</th>\n",
       "      <th>FenceBinary</th>\n",
       "      <th>OverallCondBinary</th>\n",
       "      <th>Lat_Long</th>\n",
       "      <th>Dist_From_UoI</th>\n",
       "    </tr>\n",
       "  </thead>\n",
       "  <tbody>\n",
       "  </tbody>\n",
       "</table>\n",
       "<p>0 rows × 59 columns</p>\n",
       "</div>"
      ],
      "text/plain": [
       "Empty DataFrame\n",
       "Columns: [PID, GrLivArea, SalePrice, MSSubClass, LotArea, LotShape, LandContour, LotConfig, Neighborhood, Condition1, BldgType, OverallQual, YearBuilt, RoofStyle, Exterior1st, MasVnrType, MasVnrArea, ExterQual, Foundation, BsmtQual, BsmtCond, BsmtExposure, BsmtFinGdLvng, BsmtUnfSF, TotalBsmtSF, HeatingQC, NoCentralAir, NonStdElectrical, 1stFlrSF, 2ndFlrSF, BsmtFullBath, BsmtHalfBath, FullBath, HalfBath, BedroomAbvGr, KitchenQual, TotRmsAbvGrd, Functional, Fireplaces, FireplaceQu, GarageType, GarageFinish, GarageCars, GarageArea, MoSold, GeoRefNo, Prop_Addr, SchD_S, LndAc_S, OthAc_S, Remodeled, RemodelYrsAftBuilt, UnpavedDrive, WoodDeckBinary, HasPorch, FenceBinary, OverallCondBinary, Lat_Long, Dist_From_UoI]\n",
       "Index: []\n",
       "\n",
       "[0 rows x 59 columns]"
      ]
     },
     "execution_count": 347,
     "metadata": {},
     "output_type": "execute_result"
    }
   ],
   "source": [
    "tdata[tdata.LndAc_S==0]"
   ]
  },
  {
   "cell_type": "code",
   "execution_count": 348,
   "metadata": {},
   "outputs": [
    {
     "data": {
      "text/plain": [
       "44000.0    13\n",
       "56200.0    11\n",
       "43900.0    10\n",
       "42800.0    10\n",
       "40200.0    10\n",
       "           ..\n",
       "81500.0     1\n",
       "29300.0     1\n",
       "80000.0     1\n",
       "85000.0     1\n",
       "84300.0     1\n",
       "Name: LndAc_S, Length: 700, dtype: int64"
      ]
     },
     "execution_count": 348,
     "metadata": {},
     "output_type": "execute_result"
    }
   ],
   "source": [
    "tdata.LndAc_S.value_counts()"
   ]
  },
  {
   "cell_type": "code",
   "execution_count": 349,
   "metadata": {},
   "outputs": [
    {
     "data": {
      "text/plain": [
       "<matplotlib.collections.PathCollection at 0x7fc1b84bc520>"
      ]
     },
     "execution_count": 349,
     "metadata": {},
     "output_type": "execute_result"
    },
    {
     "data": {
      "image/png": "[encoded data removed]",
      "text/plain": [
       "<Figure size 432x288 with 1 Axes>"
      ]
     },
     "metadata": {
      "needs_background": "light"
     },
     "output_type": "display_data"
    }
   ],
   "source": [
    "plt.scatter(tdata['LndAc_S'], np.log(tdata['LotArea']))\n",
    "#vis corr w lot area "
   ]
  },
  {
   "cell_type": "code",
   "execution_count": 350,
   "metadata": {},
   "outputs": [],
   "source": [
    "# not needed, no rows == 0 anymore\n",
    "\n",
    "#tdata.LndAc_S[tdata.LndAc_S==0]=tdata.LotArea[tdata.LotArea==]\n",
    "#LA=int(tdata[tdata.LndAc_S==0].LotArea)\n",
    "#tdata.LndAc_S[tdata.LndAc_S==0]=round(tdata[(tdata.LotArea>LA*.9) & (tdata.LotArea<LA*1.1)].LndAc_S.mean()\n",
    "#)"
   ]
  },
  {
   "cell_type": "code",
   "execution_count": 351,
   "metadata": {},
   "outputs": [
    {
     "data": {
      "text/plain": [
       "[79, 109, 404, 683, 895, 1088, 1204, 1346, 1516, 2011, 2139, 2168, 2228, 2531]"
      ]
     },
     "execution_count": 351,
     "metadata": {},
     "output_type": "execute_result"
    }
   ],
   "source": [
    "list((tdata.LotArea[((tdata.LndAc_S.isna()))]).keys())"
   ]
  },
  {
   "cell_type": "code",
   "execution_count": 352,
   "metadata": {},
   "outputs": [],
   "source": [
    "imputedvals=[]\n",
    "keysofnas=list((tdata.LotArea[((tdata.LndAc_S.isna()))]).keys())\n",
    "for i in range(sum(tdata.LndAc_S.isna())):\n",
    "    LA=tdata.loc[keysofnas[i],'LotArea']\n",
    "    imputedvals.append(round(tdata[(tdata.LotArea>LA*.9) & (tdata.LotArea<LA*1.1)].LndAc_S.mean())\n",
    "    )  "
   ]
  },
  {
   "cell_type": "code",
   "execution_count": 353,
   "metadata": {},
   "outputs": [
    {
     "name": "stderr",
     "output_type": "stream",
     "text": [
      "<ipython-input-353-90775d9f79f6>:1: SettingWithCopyWarning: \n",
      "A value is trying to be set on a copy of a slice from a DataFrame\n",
      "\n",
      "See the caveats in the documentation: https://pandas.pydata.org/pandas-docs/stable/user_guide/indexing.html#returning-a-view-versus-a-copy\n",
      "  tdata.LndAc_S[((tdata.LndAc_S.isna()))]=imputedvals\n"
     ]
    }
   ],
   "source": [
    "tdata.LndAc_S[((tdata.LndAc_S.isna()))]=imputedvals"
   ]
  },
  {
   "cell_type": "code",
   "execution_count": 354,
   "metadata": {},
   "outputs": [
    {
     "data": {
      "text/plain": [
       "54980.0"
      ]
     },
     "execution_count": 354,
     "metadata": {},
     "output_type": "execute_result"
    }
   ],
   "source": [
    "tdata.loc[109,'LndAc_S']"
   ]
  },
  {
   "cell_type": "markdown",
   "metadata": {},
   "source": [
    "## OthAc_S\n",
    "-we need to drop either this or lndac_s asap due to corr- didnt even need a test just visually \n"
   ]
  },
  {
   "cell_type": "code",
   "execution_count": 355,
   "metadata": {},
   "outputs": [
    {
     "data": {
      "text/plain": [
       "14"
      ]
     },
     "execution_count": 355,
     "metadata": {},
     "output_type": "execute_result"
    }
   ],
   "source": [
    "sum((tdata.OthAc_S.isna()) )"
   ]
  },
  {
   "cell_type": "code",
   "execution_count": 356,
   "metadata": {},
   "outputs": [
    {
     "data": {
      "text/plain": [
       "<matplotlib.collections.PathCollection at 0x7fc1b9479af0>"
      ]
     },
     "execution_count": 356,
     "metadata": {},
     "output_type": "execute_result"
    },
    {
     "data": {
      "image/png": "[encoded data removed]",
      "text/plain": [
       "<Figure size 432x288 with 1 Axes>"
      ]
     },
     "metadata": {
      "needs_background": "light"
     },
     "output_type": "display_data"
    }
   ],
   "source": [
    "plt.scatter(tdata['OthAc_S'], (tdata['LndAc_S']))"
   ]
  },
  {
   "cell_type": "code",
   "execution_count": 357,
   "metadata": {},
   "outputs": [],
   "source": [
    "tdata=tdata.drop(columns='OthAc_S')"
   ]
  },
  {
   "cell_type": "code",
   "execution_count": 358,
   "metadata": {},
   "outputs": [],
   "source": [
    "#Dropping columns that weren't earlier because they were needed for more code later. Done with them now.\n",
    "# tdata=tdata.drop(columns='GarageType') # No need todrop this, it was only for being dummied. \n",
    "# tdata=tdata.drop(columns='GarageFinish') # No need to drop this, it was only dropped for dummying.\n"
   ]
  },
  {
   "cell_type": "markdown",
   "metadata": {},
   "source": [
    "# ============\n",
    "# JUDE'S CODE\n",
    "# ============"
   ]
  },
  {
   "cell_type": "markdown",
   "metadata": {},
   "source": [
    "## Columns\n",
    "\n",
    "#### GrLivArea - keep as is\n",
    "#### MSSubClass - combine into 1stry, 1plus_stry, multi then dummify\n",
    "#### LotFrontage - drop\n",
    "#### LotArea - keep as is\n",
    "#### LotShape - binarize\n",
    "#### LandContour - binarize into \"level\" and \"other\"\n",
    "#### LotConfig - combine into \"culdesac\",  \"inside\", \"corner\"\n",
    "#### Neighborhood - keep as is\n",
    "#### Condition1 - cat into \"Normal\", \"Feedr\", \"Artery\", \"Railroad\", \"Positive\" then dummify\n",
    "#### BldgType - combine 2fam conv and duplex then dummify"
   ]
  },
  {
   "cell_type": "markdown",
   "metadata": {},
   "source": [
    "### MSSubClass"
   ]
  },
  {
   "cell_type": "code",
   "execution_count": 359,
   "metadata": {},
   "outputs": [
    {
     "data": {
      "text/plain": [
       "20     838\n",
       "60     461\n",
       "50     237\n",
       "120    156\n",
       "160    113\n",
       "70     107\n",
       "80     105\n",
       "30     104\n",
       "85      43\n",
       "75      17\n",
       "45      17\n",
       "180     14\n",
       "40       6\n",
       "150      1\n",
       "Name: MSSubClass, dtype: int64"
      ]
     },
     "execution_count": 359,
     "metadata": {},
     "output_type": "execute_result"
    }
   ],
   "source": [
    "# Initial State\n",
    "\n",
    "tdata['MSSubClass'].value_counts()"
   ]
  },
  {
   "cell_type": "code",
   "execution_count": 360,
   "metadata": {},
   "outputs": [],
   "source": [
    "# Transform Data\n",
    "\n",
    "tdata['MSSubClass'].replace([20, 30, 40, 80, 85, 120], 'one_story', inplace=True)\n",
    "tdata['MSSubClass'].replace([45, 50, 60, 70, 75, 150, 160, 180], '>1-story', inplace=True)\n",
    "tdata['MSSubClass'].replace([90, 190], 'multi_fam', inplace=True)"
   ]
  },
  {
   "cell_type": "code",
   "execution_count": 361,
   "metadata": {},
   "outputs": [
    {
     "data": {
      "text/plain": [
       "one_story    1252\n",
       ">1-story      967\n",
       "Name: MSSubClass, dtype: int64"
      ]
     },
     "execution_count": 361,
     "metadata": {},
     "output_type": "execute_result"
    }
   ],
   "source": [
    "# Check Transformation\n",
    "\n",
    "tdata['MSSubClass'].value_counts()"
   ]
  },
  {
   "cell_type": "code",
   "execution_count": 362,
   "metadata": {},
   "outputs": [
    {
     "data": {
      "text/plain": [
       "one_story    1252\n",
       ">1-story      967\n",
       "Name: MSSubClass, dtype: int64"
      ]
     },
     "execution_count": 362,
     "metadata": {},
     "output_type": "execute_result"
    }
   ],
   "source": [
    "tdata['MSSubClass'] = tdata['MSSubClass'].astype('category')\n",
    "tdata['MSSubClass'].value_counts()"
   ]
  },
  {
   "cell_type": "markdown",
   "metadata": {},
   "source": [
    "### LotFrontage (DROPPED)"
   ]
  },
  {
   "cell_type": "markdown",
   "metadata": {},
   "source": [
    "### LotShape"
   ]
  },
  {
   "cell_type": "code",
   "execution_count": 363,
   "metadata": {},
   "outputs": [
    {
     "data": {
      "text/plain": [
       "Reg    1396\n",
       "IR1     755\n",
       "IR2      58\n",
       "IR3      10\n",
       "Name: LotShape, dtype: int64"
      ]
     },
     "execution_count": 363,
     "metadata": {},
     "output_type": "execute_result"
    }
   ],
   "source": [
    "# Initial State\n",
    "\n",
    "tdata['LotShape'].value_counts()"
   ]
  },
  {
   "cell_type": "code",
   "execution_count": 364,
   "metadata": {},
   "outputs": [],
   "source": [
    "# Transform Data\n",
    "\n",
    "tdata['LotShape'].replace(['IR1', 'IR2', 'IR3'], 'IR', inplace=True)"
   ]
  },
  {
   "cell_type": "code",
   "execution_count": 365,
   "metadata": {},
   "outputs": [
    {
     "data": {
      "text/plain": [
       "Reg    1396\n",
       "IR      823\n",
       "Name: LotShape, dtype: int64"
      ]
     },
     "execution_count": 365,
     "metadata": {},
     "output_type": "execute_result"
    }
   ],
   "source": [
    "# Check Transformation\n",
    "\n",
    "tdata['LotShape'].value_counts()"
   ]
  },
  {
   "cell_type": "code",
   "execution_count": 366,
   "metadata": {},
   "outputs": [],
   "source": [
    "# Dummify, drop 'Reg'\n",
    "\n",
    "LotShape_dums = pd.get_dummies(tdata['LotShape'], prefix='LotShape', prefix_sep='_').drop('LotShape_Reg', 1)\n",
    "tdata = pd.concat([tdata.drop('LotShape', 1), LotShape_dums], axis=1)"
   ]
  },
  {
   "cell_type": "code",
   "execution_count": 367,
   "metadata": {},
   "outputs": [
    {
     "data": {
      "text/plain": [
       "LotShape_IR\n",
       "0              1396\n",
       "1               823\n",
       "dtype: int64"
      ]
     },
     "execution_count": 367,
     "metadata": {},
     "output_type": "execute_result"
    }
   ],
   "source": [
    "# Check new column\n",
    "tdata.iloc[:,-1:].value_counts()"
   ]
  },
  {
   "cell_type": "markdown",
   "metadata": {},
   "source": [
    "### LandContour"
   ]
  },
  {
   "cell_type": "code",
   "execution_count": 368,
   "metadata": {},
   "outputs": [
    {
     "data": {
      "text/plain": [
       "Lvl    2023\n",
       "HLS      83\n",
       "Bnk      77\n",
       "Low      36\n",
       "Name: LandContour, dtype: int64"
      ]
     },
     "execution_count": 368,
     "metadata": {},
     "output_type": "execute_result"
    }
   ],
   "source": [
    "# Initial State\n",
    "\n",
    "tdata['LandContour'].value_counts()"
   ]
  },
  {
   "cell_type": "code",
   "execution_count": 369,
   "metadata": {},
   "outputs": [],
   "source": [
    "# Transform Data\n",
    "\n",
    "tdata['LandContour'].replace(['HLS', 'Bnk', 'Low'], 'slope', inplace=True)"
   ]
  },
  {
   "cell_type": "code",
   "execution_count": 370,
   "metadata": {},
   "outputs": [
    {
     "data": {
      "text/plain": [
       "Lvl      2023\n",
       "slope     196\n",
       "Name: LandContour, dtype: int64"
      ]
     },
     "execution_count": 370,
     "metadata": {},
     "output_type": "execute_result"
    }
   ],
   "source": [
    "# Check Transformation\n",
    "\n",
    "tdata['LandContour'].value_counts()"
   ]
  },
  {
   "cell_type": "code",
   "execution_count": 371,
   "metadata": {},
   "outputs": [],
   "source": [
    "# Dummify, drop 'Lvl'\n",
    "\n",
    "LandContour_dums = pd.get_dummies(tdata['LandContour'], prefix='LandContour', prefix_sep='_').drop(\"LandContour_Lvl\", 1)\n",
    "tdata = pd.concat([tdata.drop('LandContour', 1), LandContour_dums], axis=1)"
   ]
  },
  {
   "cell_type": "code",
   "execution_count": 372,
   "metadata": {},
   "outputs": [
    {
     "data": {
      "text/plain": [
       "SlopedLot\n",
       "0            2023\n",
       "1             196\n",
       "dtype: int64"
      ]
     },
     "execution_count": 372,
     "metadata": {},
     "output_type": "execute_result"
    }
   ],
   "source": [
    "tdata.rename(columns={'LandContour_slope':'SlopedLot'}, inplace=True)\n",
    "tdata.iloc[:,-1:].value_counts()"
   ]
  },
  {
   "cell_type": "markdown",
   "metadata": {},
   "source": [
    "### LotConfig"
   ]
  },
  {
   "cell_type": "code",
   "execution_count": 373,
   "metadata": {},
   "outputs": [
    {
     "data": {
      "text/plain": [
       "Inside     1623\n",
       "Corner      374\n",
       "CulDSac     143\n",
       "FR2          68\n",
       "FR3          11\n",
       "Name: LotConfig, dtype: int64"
      ]
     },
     "execution_count": 373,
     "metadata": {},
     "output_type": "execute_result"
    }
   ],
   "source": [
    "# Initial State\n",
    "\n",
    "tdata['LotConfig'].value_counts()"
   ]
  },
  {
   "cell_type": "code",
   "execution_count": 374,
   "metadata": {},
   "outputs": [],
   "source": [
    "# Transform Data\n",
    "\n",
    "tdata['LotConfig'].replace(['FR2', 'FR3'], 'Corner', inplace=True)"
   ]
  },
  {
   "cell_type": "code",
   "execution_count": 375,
   "metadata": {},
   "outputs": [
    {
     "data": {
      "text/plain": [
       "Inside     1623\n",
       "Corner      453\n",
       "CulDSac     143\n",
       "Name: LotConfig, dtype: int64"
      ]
     },
     "execution_count": 375,
     "metadata": {},
     "output_type": "execute_result"
    }
   ],
   "source": [
    "# Check Transformation\n",
    "\n",
    "tdata['LotConfig'].value_counts()"
   ]
  },
  {
   "cell_type": "code",
   "execution_count": 376,
   "metadata": {},
   "outputs": [
    {
     "name": "stdout",
     "output_type": "stream",
     "text": [
      "category\n"
     ]
    }
   ],
   "source": [
    "tdata['LotConfig'] = tdata['LotConfig'].astype('category')\n",
    "print(tdata['LotConfig'].dtypes)"
   ]
  },
  {
   "cell_type": "markdown",
   "metadata": {},
   "source": [
    "### Condition1"
   ]
  },
  {
   "cell_type": "code",
   "execution_count": 377,
   "metadata": {},
   "outputs": [
    {
     "data": {
      "text/plain": [
       "Norm      1935\n",
       "Feedr      109\n",
       "Artery      62\n",
       "PosN        34\n",
       "RRAn        32\n",
       "RRAe        19\n",
       "PosA        18\n",
       "RRNn         6\n",
       "RRNe         4\n",
       "Name: Condition1, dtype: int64"
      ]
     },
     "execution_count": 377,
     "metadata": {},
     "output_type": "execute_result"
    }
   ],
   "source": [
    "# Initial State\n",
    "\n",
    "tdata['Condition1'].value_counts()"
   ]
  },
  {
   "cell_type": "code",
   "execution_count": 378,
   "metadata": {},
   "outputs": [],
   "source": [
    "# Transform Data\n",
    "\n",
    "tdata['Condition1'].replace(['RRAn', 'RRAe', 'RRNe', 'RRNn'], 'RailRd', inplace=True)\n",
    "tdata['Condition1'].replace(['PosN', 'PosA'], 'Pos', inplace=True)"
   ]
  },
  {
   "cell_type": "code",
   "execution_count": 379,
   "metadata": {},
   "outputs": [
    {
     "data": {
      "text/plain": [
       "Norm      1935\n",
       "Feedr      109\n",
       "Artery      62\n",
       "RailRd      61\n",
       "Pos         52\n",
       "Name: Condition1, dtype: int64"
      ]
     },
     "execution_count": 379,
     "metadata": {},
     "output_type": "execute_result"
    }
   ],
   "source": [
    "# Check Transformation\n",
    "\n",
    "tdata['Condition1'].value_counts()"
   ]
  },
  {
   "cell_type": "code",
   "execution_count": 380,
   "metadata": {},
   "outputs": [
    {
     "name": "stdout",
     "output_type": "stream",
     "text": [
      "category\n"
     ]
    }
   ],
   "source": [
    "tdata['Condition1'] = tdata['Condition1'].astype('category')\n",
    "print(tdata['Condition1'].dtypes)"
   ]
  },
  {
   "cell_type": "markdown",
   "metadata": {},
   "source": [
    "### BldgType"
   ]
  },
  {
   "cell_type": "code",
   "execution_count": 381,
   "metadata": {},
   "outputs": [
    {
     "data": {
      "text/plain": [
       "1Fam      1938\n",
       "TwnhsE     189\n",
       "Twnhs       90\n",
       "2fmCon       2\n",
       "Name: BldgType, dtype: int64"
      ]
     },
     "execution_count": 381,
     "metadata": {},
     "output_type": "execute_result"
    }
   ],
   "source": [
    "# Initial State\n",
    "\n",
    "tdata['BldgType'].value_counts()"
   ]
  },
  {
   "cell_type": "code",
   "execution_count": 382,
   "metadata": {},
   "outputs": [],
   "source": [
    "# Transform Data\n",
    "\n",
    "tdata['BldgType'].replace(['Duplex', '2fmCon'], '2Fam', inplace=True)"
   ]
  },
  {
   "cell_type": "code",
   "execution_count": 383,
   "metadata": {},
   "outputs": [
    {
     "data": {
      "text/plain": [
       "1Fam      1938\n",
       "TwnhsE     189\n",
       "Twnhs       90\n",
       "2Fam         2\n",
       "Name: BldgType, dtype: int64"
      ]
     },
     "execution_count": 383,
     "metadata": {},
     "output_type": "execute_result"
    }
   ],
   "source": [
    "# Check Transformation\n",
    "\n",
    "tdata['BldgType'].value_counts()"
   ]
  },
  {
   "cell_type": "code",
   "execution_count": 384,
   "metadata": {},
   "outputs": [
    {
     "name": "stdout",
     "output_type": "stream",
     "text": [
      "category\n"
     ]
    }
   ],
   "source": [
    "tdata['BldgType'] = tdata['BldgType'].astype('category')\n",
    "print(tdata['BldgType'].dtypes)"
   ]
  },
  {
   "cell_type": "markdown",
   "metadata": {},
   "source": [
    "# ============================\n",
    "# FINISHED COLUMN PROCESSING\n",
    "# ============================\n",
    "The rest of the code below is to check out the columns we are left with now and to save a new dataset."
   ]
  },
  {
   "cell_type": "code",
   "execution_count": 385,
   "metadata": {},
   "outputs": [
    {
     "data": {
      "text/html": [
       "<div>\n",
       "<style scoped>\n",
       "    .dataframe tbody tr th:only-of-type {\n",
       "        vertical-align: middle;\n",
       "    }\n",
       "\n",
       "    .dataframe tbody tr th {\n",
       "        vertical-align: top;\n",
       "    }\n",
       "\n",
       "    .dataframe thead th {\n",
       "        text-align: right;\n",
       "    }\n",
       "</style>\n",
       "<table border=\"1\" class=\"dataframe\">\n",
       "  <thead>\n",
       "    <tr style=\"text-align: right;\">\n",
       "      <th></th>\n",
       "      <th>PID</th>\n",
       "      <th>GrLivArea</th>\n",
       "      <th>SalePrice</th>\n",
       "      <th>MSSubClass</th>\n",
       "      <th>LotArea</th>\n",
       "      <th>LotConfig</th>\n",
       "      <th>Neighborhood</th>\n",
       "      <th>Condition1</th>\n",
       "      <th>BldgType</th>\n",
       "      <th>OverallQual</th>\n",
       "      <th>...</th>\n",
       "      <th>RemodelYrsAftBuilt</th>\n",
       "      <th>UnpavedDrive</th>\n",
       "      <th>WoodDeckBinary</th>\n",
       "      <th>HasPorch</th>\n",
       "      <th>FenceBinary</th>\n",
       "      <th>OverallCondBinary</th>\n",
       "      <th>Lat_Long</th>\n",
       "      <th>Dist_From_UoI</th>\n",
       "      <th>LotShape_IR</th>\n",
       "      <th>SlopedLot</th>\n",
       "    </tr>\n",
       "  </thead>\n",
       "  <tbody>\n",
       "    <tr>\n",
       "      <th>0</th>\n",
       "      <td>909176150</td>\n",
       "      <td>856</td>\n",
       "      <td>126000</td>\n",
       "      <td>one_story</td>\n",
       "      <td>7890</td>\n",
       "      <td>Corner</td>\n",
       "      <td>SWISU</td>\n",
       "      <td>Norm</td>\n",
       "      <td>1Fam</td>\n",
       "      <td>6</td>\n",
       "      <td>...</td>\n",
       "      <td>11</td>\n",
       "      <td>0</td>\n",
       "      <td>False</td>\n",
       "      <td>1</td>\n",
       "      <td>0</td>\n",
       "      <td>0</td>\n",
       "      <td>[42.01856448979592, -93.65161918367347]</td>\n",
       "      <td>0.994098</td>\n",
       "      <td>0</td>\n",
       "      <td>0</td>\n",
       "    </tr>\n",
       "    <tr>\n",
       "      <th>1</th>\n",
       "      <td>905476230</td>\n",
       "      <td>1049</td>\n",
       "      <td>139500</td>\n",
       "      <td>one_story</td>\n",
       "      <td>4235</td>\n",
       "      <td>Inside</td>\n",
       "      <td>Edwards</td>\n",
       "      <td>Norm</td>\n",
       "      <td>TwnhsE</td>\n",
       "      <td>5</td>\n",
       "      <td>...</td>\n",
       "      <td>0</td>\n",
       "      <td>0</td>\n",
       "      <td>False</td>\n",
       "      <td>1</td>\n",
       "      <td>0</td>\n",
       "      <td>0</td>\n",
       "      <td>[42.024855315930424, -93.66367099341755]</td>\n",
       "      <td>1.43575</td>\n",
       "      <td>0</td>\n",
       "      <td>0</td>\n",
       "    </tr>\n",
       "    <tr>\n",
       "      <th>3</th>\n",
       "      <td>535377150</td>\n",
       "      <td>1039</td>\n",
       "      <td>114000</td>\n",
       "      <td>&gt;1-story</td>\n",
       "      <td>8146</td>\n",
       "      <td>Corner</td>\n",
       "      <td>OldTown</td>\n",
       "      <td>Norm</td>\n",
       "      <td>1Fam</td>\n",
       "      <td>4</td>\n",
       "      <td>...</td>\n",
       "      <td>103</td>\n",
       "      <td>1</td>\n",
       "      <td>False</td>\n",
       "      <td>1</td>\n",
       "      <td>0</td>\n",
       "      <td>0</td>\n",
       "      <td>[42.03739146938776, -93.61220695918368]</td>\n",
       "      <td>3.07097</td>\n",
       "      <td>0</td>\n",
       "      <td>0</td>\n",
       "    </tr>\n",
       "    <tr>\n",
       "      <th>4</th>\n",
       "      <td>534177230</td>\n",
       "      <td>1665</td>\n",
       "      <td>227000</td>\n",
       "      <td>&gt;1-story</td>\n",
       "      <td>8400</td>\n",
       "      <td>Inside</td>\n",
       "      <td>NWAmes</td>\n",
       "      <td>Norm</td>\n",
       "      <td>1Fam</td>\n",
       "      <td>8</td>\n",
       "      <td>...</td>\n",
       "      <td>0</td>\n",
       "      <td>0</td>\n",
       "      <td>False</td>\n",
       "      <td>1</td>\n",
       "      <td>0</td>\n",
       "      <td>0</td>\n",
       "      <td>[42.04455376067282, -93.63181831620726]</td>\n",
       "      <td>2.33006</td>\n",
       "      <td>0</td>\n",
       "      <td>0</td>\n",
       "    </tr>\n",
       "    <tr>\n",
       "      <th>5</th>\n",
       "      <td>908128060</td>\n",
       "      <td>1922</td>\n",
       "      <td>198500</td>\n",
       "      <td>one_story</td>\n",
       "      <td>7301</td>\n",
       "      <td>Corner</td>\n",
       "      <td>Edwards</td>\n",
       "      <td>Norm</td>\n",
       "      <td>1Fam</td>\n",
       "      <td>7</td>\n",
       "      <td>...</td>\n",
       "      <td>0</td>\n",
       "      <td>0</td>\n",
       "      <td>False</td>\n",
       "      <td>1</td>\n",
       "      <td>0</td>\n",
       "      <td>0</td>\n",
       "      <td>[42.01900877172312, -93.67298690279817]</td>\n",
       "      <td>2.35011</td>\n",
       "      <td>0</td>\n",
       "      <td>0</td>\n",
       "    </tr>\n",
       "    <tr>\n",
       "      <th>...</th>\n",
       "      <td>...</td>\n",
       "      <td>...</td>\n",
       "      <td>...</td>\n",
       "      <td>...</td>\n",
       "      <td>...</td>\n",
       "      <td>...</td>\n",
       "      <td>...</td>\n",
       "      <td>...</td>\n",
       "      <td>...</td>\n",
       "      <td>...</td>\n",
       "      <td>...</td>\n",
       "      <td>...</td>\n",
       "      <td>...</td>\n",
       "      <td>...</td>\n",
       "      <td>...</td>\n",
       "      <td>...</td>\n",
       "      <td>...</td>\n",
       "      <td>...</td>\n",
       "      <td>...</td>\n",
       "      <td>...</td>\n",
       "      <td>...</td>\n",
       "    </tr>\n",
       "    <tr>\n",
       "      <th>2574</th>\n",
       "      <td>908128100</td>\n",
       "      <td>1724</td>\n",
       "      <td>196500</td>\n",
       "      <td>&gt;1-story</td>\n",
       "      <td>7162</td>\n",
       "      <td>Inside</td>\n",
       "      <td>Edwards</td>\n",
       "      <td>Norm</td>\n",
       "      <td>1Fam</td>\n",
       "      <td>7</td>\n",
       "      <td>...</td>\n",
       "      <td>1</td>\n",
       "      <td>0</td>\n",
       "      <td>True</td>\n",
       "      <td>1</td>\n",
       "      <td>0</td>\n",
       "      <td>0</td>\n",
       "      <td>[42.019007, -93.67274607047453]</td>\n",
       "      <td>2.33164</td>\n",
       "      <td>0</td>\n",
       "      <td>0</td>\n",
       "    </tr>\n",
       "    <tr>\n",
       "      <th>2575</th>\n",
       "      <td>903205040</td>\n",
       "      <td>952</td>\n",
       "      <td>121000</td>\n",
       "      <td>one_story</td>\n",
       "      <td>8854</td>\n",
       "      <td>Inside</td>\n",
       "      <td>BrkSide</td>\n",
       "      <td>Norm</td>\n",
       "      <td>1Fam</td>\n",
       "      <td>6</td>\n",
       "      <td>...</td>\n",
       "      <td>34</td>\n",
       "      <td>1</td>\n",
       "      <td>False</td>\n",
       "      <td>1</td>\n",
       "      <td>0</td>\n",
       "      <td>0</td>\n",
       "      <td>[42.032101777475496, -93.6263728406611]</td>\n",
       "      <td>1.76647</td>\n",
       "      <td>0</td>\n",
       "      <td>0</td>\n",
       "    </tr>\n",
       "    <tr>\n",
       "      <th>2576</th>\n",
       "      <td>905402060</td>\n",
       "      <td>1733</td>\n",
       "      <td>139600</td>\n",
       "      <td>one_story</td>\n",
       "      <td>13680</td>\n",
       "      <td>CulDSac</td>\n",
       "      <td>Edwards</td>\n",
       "      <td>Norm</td>\n",
       "      <td>1Fam</td>\n",
       "      <td>3</td>\n",
       "      <td>...</td>\n",
       "      <td>0</td>\n",
       "      <td>0</td>\n",
       "      <td>False</td>\n",
       "      <td>0</td>\n",
       "      <td>0</td>\n",
       "      <td>0</td>\n",
       "      <td>[42.027669288907106, -93.6661381147073]</td>\n",
       "      <td>1.62974</td>\n",
       "      <td>1</td>\n",
       "      <td>0</td>\n",
       "    </tr>\n",
       "    <tr>\n",
       "      <th>2578</th>\n",
       "      <td>907192040</td>\n",
       "      <td>1842</td>\n",
       "      <td>217500</td>\n",
       "      <td>&gt;1-story</td>\n",
       "      <td>8826</td>\n",
       "      <td>Inside</td>\n",
       "      <td>CollgCr</td>\n",
       "      <td>Norm</td>\n",
       "      <td>1Fam</td>\n",
       "      <td>7</td>\n",
       "      <td>...</td>\n",
       "      <td>0</td>\n",
       "      <td>0</td>\n",
       "      <td>True</td>\n",
       "      <td>1</td>\n",
       "      <td>0</td>\n",
       "      <td>0</td>\n",
       "      <td>[42.016802051693205, -93.6897483798832]</td>\n",
       "      <td>3.73977</td>\n",
       "      <td>0</td>\n",
       "      <td>0</td>\n",
       "    </tr>\n",
       "    <tr>\n",
       "      <th>2579</th>\n",
       "      <td>906223180</td>\n",
       "      <td>1911</td>\n",
       "      <td>215000</td>\n",
       "      <td>&gt;1-story</td>\n",
       "      <td>9554</td>\n",
       "      <td>Inside</td>\n",
       "      <td>SawyerW</td>\n",
       "      <td>Norm</td>\n",
       "      <td>1Fam</td>\n",
       "      <td>8</td>\n",
       "      <td>...</td>\n",
       "      <td>1</td>\n",
       "      <td>0</td>\n",
       "      <td>True</td>\n",
       "      <td>1</td>\n",
       "      <td>0</td>\n",
       "      <td>0</td>\n",
       "      <td>[42.031579353928, -93.68223191481248]</td>\n",
       "      <td>3.00556</td>\n",
       "      <td>1</td>\n",
       "      <td>0</td>\n",
       "    </tr>\n",
       "  </tbody>\n",
       "</table>\n",
       "<p>2219 rows × 58 columns</p>\n",
       "</div>"
      ],
      "text/plain": [
       "            PID  GrLivArea  SalePrice MSSubClass  LotArea LotConfig  \\\n",
       "0     909176150        856     126000  one_story     7890    Corner   \n",
       "1     905476230       1049     139500  one_story     4235    Inside   \n",
       "3     535377150       1039     114000   >1-story     8146    Corner   \n",
       "4     534177230       1665     227000   >1-story     8400    Inside   \n",
       "5     908128060       1922     198500  one_story     7301    Corner   \n",
       "...         ...        ...        ...        ...      ...       ...   \n",
       "2574  908128100       1724     196500   >1-story     7162    Inside   \n",
       "2575  903205040        952     121000  one_story     8854    Inside   \n",
       "2576  905402060       1733     139600  one_story    13680   CulDSac   \n",
       "2578  907192040       1842     217500   >1-story     8826    Inside   \n",
       "2579  906223180       1911     215000   >1-story     9554    Inside   \n",
       "\n",
       "     Neighborhood Condition1 BldgType  OverallQual  ...  RemodelYrsAftBuilt  \\\n",
       "0           SWISU       Norm     1Fam            6  ...                  11   \n",
       "1         Edwards       Norm   TwnhsE            5  ...                   0   \n",
       "3         OldTown       Norm     1Fam            4  ...                 103   \n",
       "4          NWAmes       Norm     1Fam            8  ...                   0   \n",
       "5         Edwards       Norm     1Fam            7  ...                   0   \n",
       "...           ...        ...      ...          ...  ...                 ...   \n",
       "2574      Edwards       Norm     1Fam            7  ...                   1   \n",
       "2575      BrkSide       Norm     1Fam            6  ...                  34   \n",
       "2576      Edwards       Norm     1Fam            3  ...                   0   \n",
       "2578      CollgCr       Norm     1Fam            7  ...                   0   \n",
       "2579      SawyerW       Norm     1Fam            8  ...                   1   \n",
       "\n",
       "     UnpavedDrive WoodDeckBinary HasPorch  FenceBinary OverallCondBinary  \\\n",
       "0               0          False        1            0                 0   \n",
       "1               0          False        1            0                 0   \n",
       "3               1          False        1            0                 0   \n",
       "4               0          False        1            0                 0   \n",
       "5               0          False        1            0                 0   \n",
       "...           ...            ...      ...          ...               ...   \n",
       "2574            0           True        1            0                 0   \n",
       "2575            1          False        1            0                 0   \n",
       "2576            0          False        0            0                 0   \n",
       "2578            0           True        1            0                 0   \n",
       "2579            0           True        1            0                 0   \n",
       "\n",
       "                                      Lat_Long Dist_From_UoI LotShape_IR  \\\n",
       "0      [42.01856448979592, -93.65161918367347]      0.994098           0   \n",
       "1     [42.024855315930424, -93.66367099341755]       1.43575           0   \n",
       "3      [42.03739146938776, -93.61220695918368]       3.07097           0   \n",
       "4      [42.04455376067282, -93.63181831620726]       2.33006           0   \n",
       "5      [42.01900877172312, -93.67298690279817]       2.35011           0   \n",
       "...                                        ...           ...         ...   \n",
       "2574           [42.019007, -93.67274607047453]       2.33164           0   \n",
       "2575   [42.032101777475496, -93.6263728406611]       1.76647           0   \n",
       "2576   [42.027669288907106, -93.6661381147073]       1.62974           1   \n",
       "2578   [42.016802051693205, -93.6897483798832]       3.73977           0   \n",
       "2579     [42.031579353928, -93.68223191481248]       3.00556           1   \n",
       "\n",
       "      SlopedLot  \n",
       "0             0  \n",
       "1             0  \n",
       "3             0  \n",
       "4             0  \n",
       "5             0  \n",
       "...         ...  \n",
       "2574          0  \n",
       "2575          0  \n",
       "2576          0  \n",
       "2578          0  \n",
       "2579          0  \n",
       "\n",
       "[2219 rows x 58 columns]"
      ]
     },
     "execution_count": 385,
     "metadata": {},
     "output_type": "execute_result"
    }
   ],
   "source": [
    "tdata"
   ]
  },
  {
   "cell_type": "code",
   "execution_count": 386,
   "metadata": {},
   "outputs": [
    {
     "data": {
      "text/plain": [
       "OverallCondBinary     2133\n",
       "NoCentralAir          2126\n",
       "BsmtHalfBath          2073\n",
       "NonStdElectrical      2058\n",
       "UnpavedDrive          2038\n",
       "SlopedLot             2023\n",
       "SchD_S                1936\n",
       "FenceBinary           1738\n",
       "BsmtExposure          1723\n",
       "BsmtFinGdLvng         1554\n",
       "LotShape_IR           1396\n",
       "HalfBath              1365\n",
       "MasVnrArea            1340\n",
       "BsmtFullBath          1271\n",
       "2ndFlrSF              1247\n",
       "Remodeled             1202\n",
       "RemodelYrsAftBuilt    1201\n",
       "WoodDeckBinary        1124\n",
       "Fireplaces            1018\n",
       "HasPorch               648\n",
       "BsmtUnfSF              159\n",
       "GarageArea              76\n",
       "GarageCars              76\n",
       "Lat_Long                52\n",
       "Dist_From_UoI           52\n",
       "TotalBsmtSF             40\n",
       "BedroomAbvGr             5\n",
       "FullBath                 4\n",
       "YearBuilt                0\n",
       "MasVnrType               0\n",
       "Exterior1st              0\n",
       "GrLivArea                0\n",
       "SalePrice                0\n",
       "RoofStyle                0\n",
       "MSSubClass               0\n",
       "Condition1               0\n",
       "LotArea                  0\n",
       "OverallQual              0\n",
       "LotConfig                0\n",
       "Neighborhood             0\n",
       "ExterQual                0\n",
       "BldgType                 0\n",
       "GeoRefNo                 0\n",
       "Foundation               0\n",
       "BsmtQual                 0\n",
       "BsmtCond                 0\n",
       "MoSold                   0\n",
       "HeatingQC                0\n",
       "1stFlrSF                 0\n",
       "LndAc_S                  0\n",
       "Prop_Addr                0\n",
       "KitchenQual              0\n",
       "TotRmsAbvGrd             0\n",
       "Functional               0\n",
       "FireplaceQu              0\n",
       "GarageType               0\n",
       "GarageFinish             0\n",
       "PID                      0\n",
       "dtype: int64"
      ]
     },
     "execution_count": 386,
     "metadata": {},
     "output_type": "execute_result"
    }
   ],
   "source": [
    "#The below shows columns that have the most 0's, or highest sparsity of data.\n",
    "np.sum(~tdata.astype(bool), axis=0).sort_values(ascending=False)[0:60]\n"
   ]
  },
  {
   "cell_type": "code",
   "execution_count": null,
   "metadata": {},
   "outputs": [],
   "source": []
  },
  {
   "cell_type": "code",
   "execution_count": 387,
   "metadata": {
    "scrolled": true
   },
   "outputs": [
    {
     "data": {
      "text/plain": [
       "Index(['PID', 'GrLivArea', 'SalePrice', 'MSSubClass', 'LotArea', 'LotConfig',\n",
       "       'Neighborhood', 'Condition1', 'BldgType', 'OverallQual', 'YearBuilt',\n",
       "       'RoofStyle', 'Exterior1st', 'MasVnrType', 'MasVnrArea', 'ExterQual',\n",
       "       'Foundation', 'BsmtQual', 'BsmtCond', 'BsmtExposure', 'BsmtFinGdLvng',\n",
       "       'BsmtUnfSF', 'TotalBsmtSF', 'HeatingQC', 'NoCentralAir',\n",
       "       'NonStdElectrical', '1stFlrSF', '2ndFlrSF', 'BsmtFullBath',\n",
       "       'BsmtHalfBath', 'FullBath', 'HalfBath', 'BedroomAbvGr', 'KitchenQual',\n",
       "       'TotRmsAbvGrd', 'Functional', 'Fireplaces', 'FireplaceQu', 'GarageType',\n",
       "       'GarageFinish', 'GarageCars', 'GarageArea', 'MoSold', 'GeoRefNo',\n",
       "       'Prop_Addr', 'SchD_S', 'LndAc_S', 'Remodeled', 'RemodelYrsAftBuilt',\n",
       "       'UnpavedDrive', 'WoodDeckBinary', 'HasPorch', 'FenceBinary',\n",
       "       'OverallCondBinary', 'Lat_Long', 'Dist_From_UoI', 'LotShape_IR',\n",
       "       'SlopedLot'],\n",
       "      dtype='object')"
      ]
     },
     "execution_count": 387,
     "metadata": {},
     "output_type": "execute_result"
    }
   ],
   "source": [
    "#Need to come up with a reasonable order for columns. And figure out which are telling ust he same things.\n",
    "tdata.columns"
   ]
  },
  {
   "cell_type": "markdown",
   "metadata": {},
   "source": [
    "Proposed Ordering:\n",
    "\n",
    "**First the dependent variable**\n",
    "'SalePrice'\n",
    "**Next all the things not machine-learning related, to make them easy to identify and drop**\n",
    "'PID'\n",
    "'MoSold'\n",
    "'GeoRefNo'\n",
    "'Prop_Addr'\n",
    "**Everything to do with the size of the house**\n",
    "'GrLivArea'\n",
    "'1stFlrSF'\n",
    "'2ndFlrSF'\n",
    "'TotRmsAbvGrd'\n",
    "'BedroomAbvGr'\n",
    "'FullBath'\n",
    "'HalfBath'\n",
    "'MSSubClass_one_plus_stry'\n",
    "'MSSubClass_multi_stry'\n",
    "'BldgType_Twnhs'\n",
    "'BldgType_TwnhsE'\n",
    "'BldgType_2Fam'\n",
    "**Everything to do with the lot**\n",
    "'LotArea'\n",
    "'LndAc_S'\n",
    "'LotShape_IR'\n",
    "'LandContour_slope'\n",
    "'LotConfig_Corner'\n",
    "'LotConfig_CulDSac'\n",
    "'Condition1_Artery'\n",
    "'Condition1_Feedr'\n",
    "'Condition1_Pos'\n",
    "'Condition1_RailRd'\n",
    "**Everything to do with the building materials of the house**\n",
    "'NonStdElectrical'\n",
    "'MasVnrArea'\n",
    "'MasVnrType_BrkFace'\n",
    "'MasVnrType_StoneBrkcom'\n",
    "'RoofStyle_Hip'\n",
    "'RoofStyle_Other'\n",
    "'Exterior1st_AsbShng'\n",
    "'Exterior1st_BrkFace'\n",
    "'Exterior1st_HdbdOther'\n",
    "'Exterior1st_MetalSd'\n",
    "'Exterior1st_Stc_CemBd_WdSdSh'\n",
    "'Foundation_BrkTil'\n",
    "'Foundation_PConc'\n",
    "'Foundation_Slab'\n",
    "'Foundation_Stone'\n",
    "'Foundation_Wood'\n",
    "**Everything to do with the quality of the house**\n",
    "'YearBuilt'\n",
    "'OverallQual'\n",
    "'OverallCondBinary'\n",
    "'ExterQual'\n",
    "'HeatingQC_Gd'\n",
    "'HeatingQC_TA'\n",
    "'HeatingQC_Fa'\n",
    "'KitchenQual_Ex'\n",
    "'KitchenQual_Gd'\n",
    "'KitchenQual_Fa'\n",
    "'Remodeled'\n",
    "'RemodelYrsAftBuilt'\n",
    "'Functional_Min'\n",
    "'Functional_Maj'\n",
    "'FireplaceQu'\n",
    "**Everything to do with the Basement**\n",
    "'BsmtQual_None'\n",
    "'BsmtCond_None'\n",
    "'TotalBsmtSF'\n",
    "'BsmtUnfSF'\n",
    "'BsmtFinGdLvng'\n",
    "'BsmtHalfBath'\n",
    "'BsmtFullBath'\n",
    "'BsmtExposure'\n",
    "'BsmtQual_Ex'\n",
    "'BsmtQual_Gd'\n",
    "'BsmtQual_Fa'\n",
    "'BsmtCond_Gd'\n",
    "'BsmtCond_Fa'\n",
    "**Everything to do with Garages**\n",
    "'GarageType_Detchd'\n",
    "'GarageType_None'\n",
    "'GarageFinish_None'\n",
    "'GarageArea'\n",
    "'GarageCars'\n",
    "'GarageFinish_Fin'\n",
    "'GarageFinish_RFn'\n",
    "**Information on 'amenities'**\n",
    "'Neighborhood'\n",
    "'UnpavedDrive'\n",
    "'WoodDeckBinary'\n",
    "'HasPorch'\n",
    "'FenceBinary'\n",
    "'Fireplaces'\n",
    "'NoCentralAir'\n",
    "'SchD_S'\n",
    "\n",
    "\n",
    "NOTE: This will have to be edited and tweaked as we go on."
   ]
  },
  {
   "cell_type": "code",
   "execution_count": 388,
   "metadata": {},
   "outputs": [],
   "source": [
    "ordered_col_list_2 = ['SalePrice', #dependent Variable\n",
    "                   'PID', 'Prop_Addr', 'GeoRefNo', 'MoSold','Lat_Long', #Not ML-related\n",
    "                   'Dist_From_UoI', 'GrLivArea', '1stFlrSF', '2ndFlrSF', 'TotRmsAbvGrd', 'BedroomAbvGr', \n",
    "                    'FullBath', 'HalfBath', 'MSSubClass', \n",
    "                    'BldgType', #Size of the house \n",
    "                    'LotArea', 'LndAc_S', 'LotShape_IR', 'SlopedLot', 'LotConfig', 'Condition1', #Lot columns\n",
    "                    'NonStdElectrical', 'MasVnrArea', 'MasVnrType', \n",
    "                    'RoofStyle', 'Exterior1st', \n",
    "                    'Foundation', # Building Materials\n",
    "                   'YearBuilt', 'OverallQual', 'OverallCondBinary', 'ExterQual', 'HeatingQC', 'KitchenQual', 'Remodeled', 'RemodelYrsAftBuilt', 'Functional', 'FireplaceQu', #Quality of house\n",
    "                   'BsmtQual', 'TotalBsmtSF', 'BsmtUnfSF', 'BsmtFinGdLvng', \n",
    "                    'BsmtHalfBath', 'BsmtFullBath', 'BsmtExposure', 'BsmtQual', 'BsmtCond', #Basement columns\n",
    "                   'GarageType', 'GarageFinish', 'GarageArea', \n",
    "                    'GarageCars', # Garage Columns\n",
    "                    'UnpavedDrive', 'WoodDeckBinary', 'HasPorch', 'FenceBinary', \n",
    "                    'Fireplaces', 'NoCentralAir', 'SchD_S'] # Amenity Columns\n",
    "\n",
    "\n",
    "\n",
    "\n"
   ]
  },
  {
   "cell_type": "code",
   "execution_count": 389,
   "metadata": {},
   "outputs": [],
   "source": [
    "tdata = tdata.reindex(columns=ordered_col_list_2)"
   ]
  },
  {
   "cell_type": "code",
   "execution_count": 390,
   "metadata": {},
   "outputs": [],
   "source": [
    "#tdata.to_csv(r'initial_condensed_data.csv', index=False)"
   ]
  },
  {
   "cell_type": "code",
   "execution_count": 391,
   "metadata": {},
   "outputs": [
    {
     "data": {
      "text/html": [
       "<div>\n",
       "<style scoped>\n",
       "    .dataframe tbody tr th:only-of-type {\n",
       "        vertical-align: middle;\n",
       "    }\n",
       "\n",
       "    .dataframe tbody tr th {\n",
       "        vertical-align: top;\n",
       "    }\n",
       "\n",
       "    .dataframe thead th {\n",
       "        text-align: right;\n",
       "    }\n",
       "</style>\n",
       "<table border=\"1\" class=\"dataframe\">\n",
       "  <thead>\n",
       "    <tr style=\"text-align: right;\">\n",
       "      <th></th>\n",
       "      <th>SalePrice</th>\n",
       "      <th>PID</th>\n",
       "      <th>Prop_Addr</th>\n",
       "      <th>GeoRefNo</th>\n",
       "      <th>MoSold</th>\n",
       "      <th>Lat_Long</th>\n",
       "      <th>Dist_From_UoI</th>\n",
       "      <th>GrLivArea</th>\n",
       "      <th>1stFlrSF</th>\n",
       "      <th>2ndFlrSF</th>\n",
       "      <th>...</th>\n",
       "      <th>GarageFinish</th>\n",
       "      <th>GarageArea</th>\n",
       "      <th>GarageCars</th>\n",
       "      <th>UnpavedDrive</th>\n",
       "      <th>WoodDeckBinary</th>\n",
       "      <th>HasPorch</th>\n",
       "      <th>FenceBinary</th>\n",
       "      <th>Fireplaces</th>\n",
       "      <th>NoCentralAir</th>\n",
       "      <th>SchD_S</th>\n",
       "    </tr>\n",
       "  </thead>\n",
       "  <tbody>\n",
       "    <tr>\n",
       "      <th>0</th>\n",
       "      <td>126000</td>\n",
       "      <td>909176150</td>\n",
       "      <td>436 HAYWARD AVE</td>\n",
       "      <td>909176150.0</td>\n",
       "      <td>3</td>\n",
       "      <td>[42.01856448979592, -93.65161918367347]</td>\n",
       "      <td>0.994098</td>\n",
       "      <td>856</td>\n",
       "      <td>856</td>\n",
       "      <td>0</td>\n",
       "      <td>...</td>\n",
       "      <td>Unf</td>\n",
       "      <td>399.0</td>\n",
       "      <td>2.0</td>\n",
       "      <td>0</td>\n",
       "      <td>False</td>\n",
       "      <td>1</td>\n",
       "      <td>0</td>\n",
       "      <td>1</td>\n",
       "      <td>0</td>\n",
       "      <td>0</td>\n",
       "    </tr>\n",
       "    <tr>\n",
       "      <th>1</th>\n",
       "      <td>139500</td>\n",
       "      <td>905476230</td>\n",
       "      <td>3416 WEST ST</td>\n",
       "      <td>905476230.0</td>\n",
       "      <td>2</td>\n",
       "      <td>[42.024855315930424, -93.66367099341755]</td>\n",
       "      <td>1.43575</td>\n",
       "      <td>1049</td>\n",
       "      <td>1049</td>\n",
       "      <td>0</td>\n",
       "      <td>...</td>\n",
       "      <td>Fin</td>\n",
       "      <td>266.0</td>\n",
       "      <td>1.0</td>\n",
       "      <td>0</td>\n",
       "      <td>False</td>\n",
       "      <td>1</td>\n",
       "      <td>0</td>\n",
       "      <td>0</td>\n",
       "      <td>0</td>\n",
       "      <td>0</td>\n",
       "    </tr>\n",
       "    <tr>\n",
       "      <th>3</th>\n",
       "      <td>114000</td>\n",
       "      <td>535377150</td>\n",
       "      <td>1524 DOUGLAS AVE</td>\n",
       "      <td>535377150.0</td>\n",
       "      <td>5</td>\n",
       "      <td>[42.03739146938776, -93.61220695918368]</td>\n",
       "      <td>3.07097</td>\n",
       "      <td>1039</td>\n",
       "      <td>717</td>\n",
       "      <td>322</td>\n",
       "      <td>...</td>\n",
       "      <td>Unf</td>\n",
       "      <td>281.0</td>\n",
       "      <td>1.0</td>\n",
       "      <td>1</td>\n",
       "      <td>False</td>\n",
       "      <td>1</td>\n",
       "      <td>0</td>\n",
       "      <td>0</td>\n",
       "      <td>0</td>\n",
       "      <td>0</td>\n",
       "    </tr>\n",
       "    <tr>\n",
       "      <th>4</th>\n",
       "      <td>227000</td>\n",
       "      <td>534177230</td>\n",
       "      <td>2304 FILLMORE AVE</td>\n",
       "      <td>534177230.0</td>\n",
       "      <td>11</td>\n",
       "      <td>[42.04455376067282, -93.63181831620726]</td>\n",
       "      <td>2.33006</td>\n",
       "      <td>1665</td>\n",
       "      <td>810</td>\n",
       "      <td>855</td>\n",
       "      <td>...</td>\n",
       "      <td>Fin</td>\n",
       "      <td>528.0</td>\n",
       "      <td>2.0</td>\n",
       "      <td>0</td>\n",
       "      <td>False</td>\n",
       "      <td>1</td>\n",
       "      <td>0</td>\n",
       "      <td>0</td>\n",
       "      <td>0</td>\n",
       "      <td>0</td>\n",
       "    </tr>\n",
       "    <tr>\n",
       "      <th>5</th>\n",
       "      <td>198500</td>\n",
       "      <td>908128060</td>\n",
       "      <td>4003 MARIGOLD DR</td>\n",
       "      <td>908128060.0</td>\n",
       "      <td>7</td>\n",
       "      <td>[42.01900877172312, -93.67298690279817]</td>\n",
       "      <td>2.35011</td>\n",
       "      <td>1922</td>\n",
       "      <td>495</td>\n",
       "      <td>1427</td>\n",
       "      <td>...</td>\n",
       "      <td>RFn</td>\n",
       "      <td>672.0</td>\n",
       "      <td>2.0</td>\n",
       "      <td>0</td>\n",
       "      <td>False</td>\n",
       "      <td>1</td>\n",
       "      <td>0</td>\n",
       "      <td>1</td>\n",
       "      <td>0</td>\n",
       "      <td>0</td>\n",
       "    </tr>\n",
       "    <tr>\n",
       "      <th>...</th>\n",
       "      <td>...</td>\n",
       "      <td>...</td>\n",
       "      <td>...</td>\n",
       "      <td>...</td>\n",
       "      <td>...</td>\n",
       "      <td>...</td>\n",
       "      <td>...</td>\n",
       "      <td>...</td>\n",
       "      <td>...</td>\n",
       "      <td>...</td>\n",
       "      <td>...</td>\n",
       "      <td>...</td>\n",
       "      <td>...</td>\n",
       "      <td>...</td>\n",
       "      <td>...</td>\n",
       "      <td>...</td>\n",
       "      <td>...</td>\n",
       "      <td>...</td>\n",
       "      <td>...</td>\n",
       "      <td>...</td>\n",
       "      <td>...</td>\n",
       "    </tr>\n",
       "    <tr>\n",
       "      <th>2574</th>\n",
       "      <td>196500</td>\n",
       "      <td>908128100</td>\n",
       "      <td>4019 MARIGOLD DR</td>\n",
       "      <td>908128100.0</td>\n",
       "      <td>5</td>\n",
       "      <td>[42.019007, -93.67274607047453]</td>\n",
       "      <td>2.33164</td>\n",
       "      <td>1724</td>\n",
       "      <td>806</td>\n",
       "      <td>918</td>\n",
       "      <td>...</td>\n",
       "      <td>Fin</td>\n",
       "      <td>616.0</td>\n",
       "      <td>2.0</td>\n",
       "      <td>0</td>\n",
       "      <td>True</td>\n",
       "      <td>1</td>\n",
       "      <td>0</td>\n",
       "      <td>1</td>\n",
       "      <td>0</td>\n",
       "      <td>0</td>\n",
       "    </tr>\n",
       "    <tr>\n",
       "      <th>2575</th>\n",
       "      <td>121000</td>\n",
       "      <td>903205040</td>\n",
       "      <td>1021 RIDGEWOOD AVE</td>\n",
       "      <td>903205040.0</td>\n",
       "      <td>5</td>\n",
       "      <td>[42.032101777475496, -93.6263728406611]</td>\n",
       "      <td>1.76647</td>\n",
       "      <td>952</td>\n",
       "      <td>952</td>\n",
       "      <td>0</td>\n",
       "      <td>...</td>\n",
       "      <td>Unf</td>\n",
       "      <td>192.0</td>\n",
       "      <td>1.0</td>\n",
       "      <td>1</td>\n",
       "      <td>False</td>\n",
       "      <td>1</td>\n",
       "      <td>0</td>\n",
       "      <td>1</td>\n",
       "      <td>1</td>\n",
       "      <td>0</td>\n",
       "    </tr>\n",
       "    <tr>\n",
       "      <th>2576</th>\n",
       "      <td>139600</td>\n",
       "      <td>905402060</td>\n",
       "      <td>3619 MARY CIR</td>\n",
       "      <td>905402060.0</td>\n",
       "      <td>6</td>\n",
       "      <td>[42.027669288907106, -93.6661381147073]</td>\n",
       "      <td>1.62974</td>\n",
       "      <td>1733</td>\n",
       "      <td>1733</td>\n",
       "      <td>0</td>\n",
       "      <td>...</td>\n",
       "      <td>Unf</td>\n",
       "      <td>452.0</td>\n",
       "      <td>2.0</td>\n",
       "      <td>0</td>\n",
       "      <td>False</td>\n",
       "      <td>0</td>\n",
       "      <td>0</td>\n",
       "      <td>1</td>\n",
       "      <td>0</td>\n",
       "      <td>0</td>\n",
       "    </tr>\n",
       "    <tr>\n",
       "      <th>2578</th>\n",
       "      <td>217500</td>\n",
       "      <td>907192040</td>\n",
       "      <td>5319 CLEMENS BLVD</td>\n",
       "      <td>907192040.0</td>\n",
       "      <td>7</td>\n",
       "      <td>[42.016802051693205, -93.6897483798832]</td>\n",
       "      <td>3.73977</td>\n",
       "      <td>1842</td>\n",
       "      <td>985</td>\n",
       "      <td>857</td>\n",
       "      <td>...</td>\n",
       "      <td>Fin</td>\n",
       "      <td>486.0</td>\n",
       "      <td>2.0</td>\n",
       "      <td>0</td>\n",
       "      <td>True</td>\n",
       "      <td>1</td>\n",
       "      <td>0</td>\n",
       "      <td>1</td>\n",
       "      <td>0</td>\n",
       "      <td>0</td>\n",
       "    </tr>\n",
       "    <tr>\n",
       "      <th>2579</th>\n",
       "      <td>215000</td>\n",
       "      <td>906223180</td>\n",
       "      <td>1025 VERMONT CT</td>\n",
       "      <td>906223180.0</td>\n",
       "      <td>9</td>\n",
       "      <td>[42.031579353928, -93.68223191481248]</td>\n",
       "      <td>3.00556</td>\n",
       "      <td>1911</td>\n",
       "      <td>1065</td>\n",
       "      <td>846</td>\n",
       "      <td>...</td>\n",
       "      <td>RFn</td>\n",
       "      <td>471.0</td>\n",
       "      <td>2.0</td>\n",
       "      <td>0</td>\n",
       "      <td>True</td>\n",
       "      <td>1</td>\n",
       "      <td>0</td>\n",
       "      <td>1</td>\n",
       "      <td>0</td>\n",
       "      <td>0</td>\n",
       "    </tr>\n",
       "  </tbody>\n",
       "</table>\n",
       "<p>2219 rows × 58 columns</p>\n",
       "</div>"
      ],
      "text/plain": [
       "      SalePrice        PID           Prop_Addr     GeoRefNo MoSold  \\\n",
       "0        126000  909176150     436 HAYWARD AVE  909176150.0      3   \n",
       "1        139500  905476230        3416 WEST ST  905476230.0      2   \n",
       "3        114000  535377150    1524 DOUGLAS AVE  535377150.0      5   \n",
       "4        227000  534177230   2304 FILLMORE AVE  534177230.0     11   \n",
       "5        198500  908128060    4003 MARIGOLD DR  908128060.0      7   \n",
       "...         ...        ...                 ...          ...    ...   \n",
       "2574     196500  908128100    4019 MARIGOLD DR  908128100.0      5   \n",
       "2575     121000  903205040  1021 RIDGEWOOD AVE  903205040.0      5   \n",
       "2576     139600  905402060       3619 MARY CIR  905402060.0      6   \n",
       "2578     217500  907192040   5319 CLEMENS BLVD  907192040.0      7   \n",
       "2579     215000  906223180     1025 VERMONT CT  906223180.0      9   \n",
       "\n",
       "                                      Lat_Long Dist_From_UoI  GrLivArea  \\\n",
       "0      [42.01856448979592, -93.65161918367347]      0.994098        856   \n",
       "1     [42.024855315930424, -93.66367099341755]       1.43575       1049   \n",
       "3      [42.03739146938776, -93.61220695918368]       3.07097       1039   \n",
       "4      [42.04455376067282, -93.63181831620726]       2.33006       1665   \n",
       "5      [42.01900877172312, -93.67298690279817]       2.35011       1922   \n",
       "...                                        ...           ...        ...   \n",
       "2574           [42.019007, -93.67274607047453]       2.33164       1724   \n",
       "2575   [42.032101777475496, -93.6263728406611]       1.76647        952   \n",
       "2576   [42.027669288907106, -93.6661381147073]       1.62974       1733   \n",
       "2578   [42.016802051693205, -93.6897483798832]       3.73977       1842   \n",
       "2579     [42.031579353928, -93.68223191481248]       3.00556       1911   \n",
       "\n",
       "      1stFlrSF  2ndFlrSF  ...  GarageFinish  GarageArea  GarageCars  \\\n",
       "0          856         0  ...           Unf       399.0         2.0   \n",
       "1         1049         0  ...           Fin       266.0         1.0   \n",
       "3          717       322  ...           Unf       281.0         1.0   \n",
       "4          810       855  ...           Fin       528.0         2.0   \n",
       "5          495      1427  ...           RFn       672.0         2.0   \n",
       "...        ...       ...  ...           ...         ...         ...   \n",
       "2574       806       918  ...           Fin       616.0         2.0   \n",
       "2575       952         0  ...           Unf       192.0         1.0   \n",
       "2576      1733         0  ...           Unf       452.0         2.0   \n",
       "2578       985       857  ...           Fin       486.0         2.0   \n",
       "2579      1065       846  ...           RFn       471.0         2.0   \n",
       "\n",
       "      UnpavedDrive WoodDeckBinary HasPorch  FenceBinary  Fireplaces  \\\n",
       "0                0          False        1            0           1   \n",
       "1                0          False        1            0           0   \n",
       "3                1          False        1            0           0   \n",
       "4                0          False        1            0           0   \n",
       "5                0          False        1            0           1   \n",
       "...            ...            ...      ...          ...         ...   \n",
       "2574             0           True        1            0           1   \n",
       "2575             1          False        1            0           1   \n",
       "2576             0          False        0            0           1   \n",
       "2578             0           True        1            0           1   \n",
       "2579             0           True        1            0           1   \n",
       "\n",
       "      NoCentralAir  SchD_S  \n",
       "0                0       0  \n",
       "1                0       0  \n",
       "3                0       0  \n",
       "4                0       0  \n",
       "5                0       0  \n",
       "...            ...     ...  \n",
       "2574             0       0  \n",
       "2575             1       0  \n",
       "2576             0       0  \n",
       "2578             0       0  \n",
       "2579             0       0  \n",
       "\n",
       "[2219 rows x 58 columns]"
      ]
     },
     "execution_count": 391,
     "metadata": {},
     "output_type": "execute_result"
    }
   ],
   "source": [
    "tdata"
   ]
  },
  {
   "cell_type": "markdown",
   "metadata": {},
   "source": [
    "# Split Test Train"
   ]
  },
  {
   "cell_type": "code",
   "execution_count": 392,
   "metadata": {},
   "outputs": [],
   "source": [
    "data_only_ml_cols=tdata.drop(['PID', 'Prop_Addr', 'GeoRefNo', 'MoSold'], axis=1)"
   ]
  },
  {
   "cell_type": "code",
   "execution_count": 393,
   "metadata": {},
   "outputs": [],
   "source": [
    " tdata_train, tdata_test = train_test_split(data_only_ml_cols, test_size=0.33, random_state=100)"
   ]
  },
  {
   "cell_type": "code",
   "execution_count": 394,
   "metadata": {},
   "outputs": [
    {
     "data": {
      "text/plain": [
       "(1486, 54)"
      ]
     },
     "execution_count": 394,
     "metadata": {},
     "output_type": "execute_result"
    }
   ],
   "source": [
    "tdata_train.shape"
   ]
  },
  {
   "cell_type": "code",
   "execution_count": null,
   "metadata": {},
   "outputs": [],
   "source": [
    "tdata_test.shape"
   ]
  },
  {
   "cell_type": "code",
   "execution_count": 395,
   "metadata": {},
   "outputs": [],
   "source": [
    "temp=tdata_train\n",
    "temp1=tdata_test"
   ]
  },
  {
   "cell_type": "markdown",
   "metadata": {},
   "source": [
    "## Adding in the Neighborhood Cluster Labels"
   ]
  },
  {
   "cell_type": "code",
   "execution_count": 396,
   "metadata": {},
   "outputs": [],
   "source": [
    "NeighborhoodlabelsTRAIN=pd.read_csv('NeighborhoodlabelsTRAIN.csv', index_col=0)\n",
    "NeighborhoodlabelsTEST=pd.read_csv('NeighborhoodlabelsTEST.csv', index_col=0)"
   ]
  },
  {
   "cell_type": "code",
   "execution_count": 397,
   "metadata": {},
   "outputs": [
    {
     "data": {
      "text/html": [
       "<div>\n",
       "<style scoped>\n",
       "    .dataframe tbody tr th:only-of-type {\n",
       "        vertical-align: middle;\n",
       "    }\n",
       "\n",
       "    .dataframe tbody tr th {\n",
       "        vertical-align: top;\n",
       "    }\n",
       "\n",
       "    .dataframe thead th {\n",
       "        text-align: right;\n",
       "    }\n",
       "</style>\n",
       "<table border=\"1\" class=\"dataframe\">\n",
       "  <thead>\n",
       "    <tr style=\"text-align: right;\">\n",
       "      <th></th>\n",
       "      <th>Neighborhood Cluster Label_2</th>\n",
       "      <th>Neighborhood Cluster Label_3</th>\n",
       "      <th>Neighborhood Cluster Label_4</th>\n",
       "      <th>Neighborhood Cluster Label_5</th>\n",
       "    </tr>\n",
       "  </thead>\n",
       "  <tbody>\n",
       "    <tr>\n",
       "      <th>0</th>\n",
       "      <td>0</td>\n",
       "      <td>0</td>\n",
       "      <td>0</td>\n",
       "      <td>0</td>\n",
       "    </tr>\n",
       "    <tr>\n",
       "      <th>1</th>\n",
       "      <td>0</td>\n",
       "      <td>0</td>\n",
       "      <td>0</td>\n",
       "      <td>0</td>\n",
       "    </tr>\n",
       "    <tr>\n",
       "      <th>2</th>\n",
       "      <td>0</td>\n",
       "      <td>0</td>\n",
       "      <td>0</td>\n",
       "      <td>0</td>\n",
       "    </tr>\n",
       "    <tr>\n",
       "      <th>3</th>\n",
       "      <td>0</td>\n",
       "      <td>0</td>\n",
       "      <td>0</td>\n",
       "      <td>0</td>\n",
       "    </tr>\n",
       "    <tr>\n",
       "      <th>4</th>\n",
       "      <td>0</td>\n",
       "      <td>0</td>\n",
       "      <td>0</td>\n",
       "      <td>0</td>\n",
       "    </tr>\n",
       "    <tr>\n",
       "      <th>...</th>\n",
       "      <td>...</td>\n",
       "      <td>...</td>\n",
       "      <td>...</td>\n",
       "      <td>...</td>\n",
       "    </tr>\n",
       "    <tr>\n",
       "      <th>1481</th>\n",
       "      <td>0</td>\n",
       "      <td>0</td>\n",
       "      <td>0</td>\n",
       "      <td>0</td>\n",
       "    </tr>\n",
       "    <tr>\n",
       "      <th>1482</th>\n",
       "      <td>0</td>\n",
       "      <td>0</td>\n",
       "      <td>0</td>\n",
       "      <td>0</td>\n",
       "    </tr>\n",
       "    <tr>\n",
       "      <th>1483</th>\n",
       "      <td>1</td>\n",
       "      <td>0</td>\n",
       "      <td>0</td>\n",
       "      <td>0</td>\n",
       "    </tr>\n",
       "    <tr>\n",
       "      <th>1484</th>\n",
       "      <td>0</td>\n",
       "      <td>0</td>\n",
       "      <td>0</td>\n",
       "      <td>0</td>\n",
       "    </tr>\n",
       "    <tr>\n",
       "      <th>1485</th>\n",
       "      <td>0</td>\n",
       "      <td>0</td>\n",
       "      <td>0</td>\n",
       "      <td>0</td>\n",
       "    </tr>\n",
       "  </tbody>\n",
       "</table>\n",
       "<p>1449 rows × 4 columns</p>\n",
       "</div>"
      ],
      "text/plain": [
       "      Neighborhood Cluster Label_2  Neighborhood Cluster Label_3  \\\n",
       "0                                0                             0   \n",
       "1                                0                             0   \n",
       "2                                0                             0   \n",
       "3                                0                             0   \n",
       "4                                0                             0   \n",
       "...                            ...                           ...   \n",
       "1481                             0                             0   \n",
       "1482                             0                             0   \n",
       "1483                             1                             0   \n",
       "1484                             0                             0   \n",
       "1485                             0                             0   \n",
       "\n",
       "      Neighborhood Cluster Label_4  Neighborhood Cluster Label_5  \n",
       "0                                0                             0  \n",
       "1                                0                             0  \n",
       "2                                0                             0  \n",
       "3                                0                             0  \n",
       "4                                0                             0  \n",
       "...                            ...                           ...  \n",
       "1481                             0                             0  \n",
       "1482                             0                             0  \n",
       "1483                             0                             0  \n",
       "1484                             0                             0  \n",
       "1485                             0                             0  \n",
       "\n",
       "[1449 rows x 4 columns]"
      ]
     },
     "execution_count": 397,
     "metadata": {},
     "output_type": "execute_result"
    }
   ],
   "source": [
    "NeighborhoodlabelsTRAIN"
   ]
  },
  {
   "cell_type": "code",
   "execution_count": 401,
   "metadata": {},
   "outputs": [],
   "source": [
    "# dropping like 20 rows that dont have lats longs\n",
    "#lndmrkrow=int(tdata_train.Neighborhood.index[tdata_train.Neighborhood=='Landmrk'][0])\n",
    "#tdata_train=tdata_train.drop([lndmrkrow])\n",
    "DroppedNoLat=((tdata_train.Lat_Long=='')==False)\n",
    "tdata_train=tdata_train[DroppedNoLat]\n"
   ]
  },
  {
   "cell_type": "code",
   "execution_count": 402,
   "metadata": {},
   "outputs": [
    {
     "data": {
      "text/html": [
       "<div>\n",
       "<style scoped>\n",
       "    .dataframe tbody tr th:only-of-type {\n",
       "        vertical-align: middle;\n",
       "    }\n",
       "\n",
       "    .dataframe tbody tr th {\n",
       "        vertical-align: top;\n",
       "    }\n",
       "\n",
       "    .dataframe thead th {\n",
       "        text-align: right;\n",
       "    }\n",
       "</style>\n",
       "<table border=\"1\" class=\"dataframe\">\n",
       "  <thead>\n",
       "    <tr style=\"text-align: right;\">\n",
       "      <th></th>\n",
       "      <th>SalePrice</th>\n",
       "      <th>Lat_Long</th>\n",
       "      <th>Dist_From_UoI</th>\n",
       "      <th>GrLivArea</th>\n",
       "      <th>1stFlrSF</th>\n",
       "      <th>2ndFlrSF</th>\n",
       "      <th>TotRmsAbvGrd</th>\n",
       "      <th>BedroomAbvGr</th>\n",
       "      <th>FullBath</th>\n",
       "      <th>HalfBath</th>\n",
       "      <th>...</th>\n",
       "      <th>GarageFinish</th>\n",
       "      <th>GarageArea</th>\n",
       "      <th>GarageCars</th>\n",
       "      <th>UnpavedDrive</th>\n",
       "      <th>WoodDeckBinary</th>\n",
       "      <th>HasPorch</th>\n",
       "      <th>FenceBinary</th>\n",
       "      <th>Fireplaces</th>\n",
       "      <th>NoCentralAir</th>\n",
       "      <th>SchD_S</th>\n",
       "    </tr>\n",
       "  </thead>\n",
       "  <tbody>\n",
       "    <tr>\n",
       "      <th>2360</th>\n",
       "      <td>179200</td>\n",
       "      <td>[42.036345280662346, -93.6878802695534]</td>\n",
       "      <td>3.58753</td>\n",
       "      <td>1294</td>\n",
       "      <td>1294</td>\n",
       "      <td>0</td>\n",
       "      <td>6</td>\n",
       "      <td>3</td>\n",
       "      <td>2</td>\n",
       "      <td>0</td>\n",
       "      <td>...</td>\n",
       "      <td>RFn</td>\n",
       "      <td>496.0</td>\n",
       "      <td>2.0</td>\n",
       "      <td>0</td>\n",
       "      <td>True</td>\n",
       "      <td>1</td>\n",
       "      <td>1</td>\n",
       "      <td>0</td>\n",
       "      <td>0</td>\n",
       "      <td>0</td>\n",
       "    </tr>\n",
       "    <tr>\n",
       "      <th>1975</th>\n",
       "      <td>115000</td>\n",
       "      <td>[42.038378, -93.61261990196078]</td>\n",
       "      <td>3.08436</td>\n",
       "      <td>1540</td>\n",
       "      <td>1040</td>\n",
       "      <td>500</td>\n",
       "      <td>7</td>\n",
       "      <td>4</td>\n",
       "      <td>1</td>\n",
       "      <td>0</td>\n",
       "      <td>...</td>\n",
       "      <td>Unf</td>\n",
       "      <td>352.0</td>\n",
       "      <td>1.0</td>\n",
       "      <td>0</td>\n",
       "      <td>False</td>\n",
       "      <td>0</td>\n",
       "      <td>0</td>\n",
       "      <td>0</td>\n",
       "      <td>0</td>\n",
       "      <td>0</td>\n",
       "    </tr>\n",
       "    <tr>\n",
       "      <th>2238</th>\n",
       "      <td>110000</td>\n",
       "      <td>[42.04854121553709, -93.6265682965729]</td>\n",
       "      <td>2.9374</td>\n",
       "      <td>892</td>\n",
       "      <td>892</td>\n",
       "      <td>0</td>\n",
       "      <td>5</td>\n",
       "      <td>3</td>\n",
       "      <td>1</td>\n",
       "      <td>0</td>\n",
       "      <td>...</td>\n",
       "      <td>RFn</td>\n",
       "      <td>264.0</td>\n",
       "      <td>1.0</td>\n",
       "      <td>0</td>\n",
       "      <td>False</td>\n",
       "      <td>0</td>\n",
       "      <td>1</td>\n",
       "      <td>0</td>\n",
       "      <td>0</td>\n",
       "      <td>0</td>\n",
       "    </tr>\n",
       "    <tr>\n",
       "      <th>464</th>\n",
       "      <td>131750</td>\n",
       "      <td>[42.018681900000004, -93.6663829759606]</td>\n",
       "      <td>1.86884</td>\n",
       "      <td>960</td>\n",
       "      <td>960</td>\n",
       "      <td>0</td>\n",
       "      <td>4</td>\n",
       "      <td>2</td>\n",
       "      <td>1</td>\n",
       "      <td>0</td>\n",
       "      <td>...</td>\n",
       "      <td>Unf</td>\n",
       "      <td>392.0</td>\n",
       "      <td>1.0</td>\n",
       "      <td>0</td>\n",
       "      <td>True</td>\n",
       "      <td>1</td>\n",
       "      <td>0</td>\n",
       "      <td>0</td>\n",
       "      <td>0</td>\n",
       "      <td>0</td>\n",
       "    </tr>\n",
       "    <tr>\n",
       "      <th>220</th>\n",
       "      <td>190000</td>\n",
       "      <td>[42.055141, -93.633802]</td>\n",
       "      <td>3.33701</td>\n",
       "      <td>1969</td>\n",
       "      <td>1161</td>\n",
       "      <td>808</td>\n",
       "      <td>8</td>\n",
       "      <td>3</td>\n",
       "      <td>2</td>\n",
       "      <td>1</td>\n",
       "      <td>...</td>\n",
       "      <td>RFn</td>\n",
       "      <td>534.0</td>\n",
       "      <td>2.0</td>\n",
       "      <td>0</td>\n",
       "      <td>False</td>\n",
       "      <td>1</td>\n",
       "      <td>0</td>\n",
       "      <td>1</td>\n",
       "      <td>0</td>\n",
       "      <td>0</td>\n",
       "    </tr>\n",
       "    <tr>\n",
       "      <th>...</th>\n",
       "      <td>...</td>\n",
       "      <td>...</td>\n",
       "      <td>...</td>\n",
       "      <td>...</td>\n",
       "      <td>...</td>\n",
       "      <td>...</td>\n",
       "      <td>...</td>\n",
       "      <td>...</td>\n",
       "      <td>...</td>\n",
       "      <td>...</td>\n",
       "      <td>...</td>\n",
       "      <td>...</td>\n",
       "      <td>...</td>\n",
       "      <td>...</td>\n",
       "      <td>...</td>\n",
       "      <td>...</td>\n",
       "      <td>...</td>\n",
       "      <td>...</td>\n",
       "      <td>...</td>\n",
       "      <td>...</td>\n",
       "      <td>...</td>\n",
       "    </tr>\n",
       "    <tr>\n",
       "      <th>447</th>\n",
       "      <td>195000</td>\n",
       "      <td>[42.0624755, -93.6414793]</td>\n",
       "      <td>4.00587</td>\n",
       "      <td>1455</td>\n",
       "      <td>1455</td>\n",
       "      <td>0</td>\n",
       "      <td>6</td>\n",
       "      <td>2</td>\n",
       "      <td>2</td>\n",
       "      <td>0</td>\n",
       "      <td>...</td>\n",
       "      <td>Fin</td>\n",
       "      <td>644.0</td>\n",
       "      <td>3.0</td>\n",
       "      <td>0</td>\n",
       "      <td>True</td>\n",
       "      <td>1</td>\n",
       "      <td>0</td>\n",
       "      <td>1</td>\n",
       "      <td>0</td>\n",
       "      <td>1</td>\n",
       "    </tr>\n",
       "    <tr>\n",
       "      <th>2258</th>\n",
       "      <td>146500</td>\n",
       "      <td>[42.02730468048847, -93.60702960866344]</td>\n",
       "      <td>3.25742</td>\n",
       "      <td>1521</td>\n",
       "      <td>780</td>\n",
       "      <td>741</td>\n",
       "      <td>8</td>\n",
       "      <td>4</td>\n",
       "      <td>1</td>\n",
       "      <td>0</td>\n",
       "      <td>...</td>\n",
       "      <td>Unf</td>\n",
       "      <td>640.0</td>\n",
       "      <td>3.0</td>\n",
       "      <td>0</td>\n",
       "      <td>False</td>\n",
       "      <td>1</td>\n",
       "      <td>1</td>\n",
       "      <td>0</td>\n",
       "      <td>0</td>\n",
       "      <td>0</td>\n",
       "    </tr>\n",
       "    <tr>\n",
       "      <th>99</th>\n",
       "      <td>211500</td>\n",
       "      <td>[42.04299352441229, -93.64930425966442]</td>\n",
       "      <td>1.83358</td>\n",
       "      <td>1226</td>\n",
       "      <td>1226</td>\n",
       "      <td>0</td>\n",
       "      <td>4</td>\n",
       "      <td>1</td>\n",
       "      <td>1</td>\n",
       "      <td>0</td>\n",
       "      <td>...</td>\n",
       "      <td>Fin</td>\n",
       "      <td>484.0</td>\n",
       "      <td>2.0</td>\n",
       "      <td>0</td>\n",
       "      <td>True</td>\n",
       "      <td>1</td>\n",
       "      <td>0</td>\n",
       "      <td>2</td>\n",
       "      <td>0</td>\n",
       "      <td>0</td>\n",
       "    </tr>\n",
       "    <tr>\n",
       "      <th>2176</th>\n",
       "      <td>117000</td>\n",
       "      <td>[42.021659183673464, -93.68313334693877]</td>\n",
       "      <td>3.07985</td>\n",
       "      <td>875</td>\n",
       "      <td>875</td>\n",
       "      <td>0</td>\n",
       "      <td>5</td>\n",
       "      <td>3</td>\n",
       "      <td>1</td>\n",
       "      <td>0</td>\n",
       "      <td>...</td>\n",
       "      <td>Unf</td>\n",
       "      <td>728.0</td>\n",
       "      <td>2.0</td>\n",
       "      <td>0</td>\n",
       "      <td>True</td>\n",
       "      <td>0</td>\n",
       "      <td>0</td>\n",
       "      <td>0</td>\n",
       "      <td>0</td>\n",
       "      <td>0</td>\n",
       "    </tr>\n",
       "    <tr>\n",
       "      <th>1827</th>\n",
       "      <td>144000</td>\n",
       "      <td>[42.04582264860672, -93.61812796437889]</td>\n",
       "      <td>3.16594</td>\n",
       "      <td>1524</td>\n",
       "      <td>874</td>\n",
       "      <td>650</td>\n",
       "      <td>7</td>\n",
       "      <td>3</td>\n",
       "      <td>1</td>\n",
       "      <td>1</td>\n",
       "      <td>...</td>\n",
       "      <td>Unf</td>\n",
       "      <td>315.0</td>\n",
       "      <td>1.0</td>\n",
       "      <td>0</td>\n",
       "      <td>False</td>\n",
       "      <td>0</td>\n",
       "      <td>1</td>\n",
       "      <td>0</td>\n",
       "      <td>0</td>\n",
       "      <td>0</td>\n",
       "    </tr>\n",
       "  </tbody>\n",
       "</table>\n",
       "<p>1449 rows × 54 columns</p>\n",
       "</div>"
      ],
      "text/plain": [
       "      SalePrice                                  Lat_Long Dist_From_UoI  \\\n",
       "2360     179200   [42.036345280662346, -93.6878802695534]       3.58753   \n",
       "1975     115000           [42.038378, -93.61261990196078]       3.08436   \n",
       "2238     110000    [42.04854121553709, -93.6265682965729]        2.9374   \n",
       "464      131750   [42.018681900000004, -93.6663829759606]       1.86884   \n",
       "220      190000                   [42.055141, -93.633802]       3.33701   \n",
       "...         ...                                       ...           ...   \n",
       "447      195000                 [42.0624755, -93.6414793]       4.00587   \n",
       "2258     146500   [42.02730468048847, -93.60702960866344]       3.25742   \n",
       "99       211500   [42.04299352441229, -93.64930425966442]       1.83358   \n",
       "2176     117000  [42.021659183673464, -93.68313334693877]       3.07985   \n",
       "1827     144000   [42.04582264860672, -93.61812796437889]       3.16594   \n",
       "\n",
       "      GrLivArea  1stFlrSF  2ndFlrSF  TotRmsAbvGrd  BedroomAbvGr  FullBath  \\\n",
       "2360       1294      1294         0             6             3         2   \n",
       "1975       1540      1040       500             7             4         1   \n",
       "2238        892       892         0             5             3         1   \n",
       "464         960       960         0             4             2         1   \n",
       "220        1969      1161       808             8             3         2   \n",
       "...         ...       ...       ...           ...           ...       ...   \n",
       "447        1455      1455         0             6             2         2   \n",
       "2258       1521       780       741             8             4         1   \n",
       "99         1226      1226         0             4             1         1   \n",
       "2176        875       875         0             5             3         1   \n",
       "1827       1524       874       650             7             3         1   \n",
       "\n",
       "      HalfBath  ... GarageFinish GarageArea  GarageCars  UnpavedDrive  \\\n",
       "2360         0  ...          RFn      496.0         2.0             0   \n",
       "1975         0  ...          Unf      352.0         1.0             0   \n",
       "2238         0  ...          RFn      264.0         1.0             0   \n",
       "464          0  ...          Unf      392.0         1.0             0   \n",
       "220          1  ...          RFn      534.0         2.0             0   \n",
       "...        ...  ...          ...        ...         ...           ...   \n",
       "447          0  ...          Fin      644.0         3.0             0   \n",
       "2258         0  ...          Unf      640.0         3.0             0   \n",
       "99           0  ...          Fin      484.0         2.0             0   \n",
       "2176         0  ...          Unf      728.0         2.0             0   \n",
       "1827         1  ...          Unf      315.0         1.0             0   \n",
       "\n",
       "      WoodDeckBinary  HasPorch FenceBinary Fireplaces  NoCentralAir  SchD_S  \n",
       "2360            True         1           1          0             0       0  \n",
       "1975           False         0           0          0             0       0  \n",
       "2238           False         0           1          0             0       0  \n",
       "464             True         1           0          0             0       0  \n",
       "220            False         1           0          1             0       0  \n",
       "...              ...       ...         ...        ...           ...     ...  \n",
       "447             True         1           0          1             0       1  \n",
       "2258           False         1           1          0             0       0  \n",
       "99              True         1           0          2             0       0  \n",
       "2176            True         0           0          0             0       0  \n",
       "1827           False         0           1          0             0       0  \n",
       "\n",
       "[1449 rows x 54 columns]"
      ]
     },
     "execution_count": 402,
     "metadata": {},
     "output_type": "execute_result"
    }
   ],
   "source": [
    "tdata_train"
   ]
  },
  {
   "cell_type": "code",
   "execution_count": 403,
   "metadata": {},
   "outputs": [
    {
     "data": {
      "text/html": [
       "<div>\n",
       "<style scoped>\n",
       "    .dataframe tbody tr th:only-of-type {\n",
       "        vertical-align: middle;\n",
       "    }\n",
       "\n",
       "    .dataframe tbody tr th {\n",
       "        vertical-align: top;\n",
       "    }\n",
       "\n",
       "    .dataframe thead th {\n",
       "        text-align: right;\n",
       "    }\n",
       "</style>\n",
       "<table border=\"1\" class=\"dataframe\">\n",
       "  <thead>\n",
       "    <tr style=\"text-align: right;\">\n",
       "      <th></th>\n",
       "      <th>Neighborhood Cluster Label_2</th>\n",
       "      <th>Neighborhood Cluster Label_3</th>\n",
       "      <th>Neighborhood Cluster Label_4</th>\n",
       "      <th>Neighborhood Cluster Label_5</th>\n",
       "    </tr>\n",
       "  </thead>\n",
       "  <tbody>\n",
       "    <tr>\n",
       "      <th>0</th>\n",
       "      <td>0</td>\n",
       "      <td>0</td>\n",
       "      <td>0</td>\n",
       "      <td>0</td>\n",
       "    </tr>\n",
       "    <tr>\n",
       "      <th>1</th>\n",
       "      <td>0</td>\n",
       "      <td>0</td>\n",
       "      <td>0</td>\n",
       "      <td>0</td>\n",
       "    </tr>\n",
       "    <tr>\n",
       "      <th>2</th>\n",
       "      <td>0</td>\n",
       "      <td>0</td>\n",
       "      <td>0</td>\n",
       "      <td>0</td>\n",
       "    </tr>\n",
       "    <tr>\n",
       "      <th>3</th>\n",
       "      <td>0</td>\n",
       "      <td>0</td>\n",
       "      <td>0</td>\n",
       "      <td>0</td>\n",
       "    </tr>\n",
       "    <tr>\n",
       "      <th>4</th>\n",
       "      <td>0</td>\n",
       "      <td>0</td>\n",
       "      <td>0</td>\n",
       "      <td>0</td>\n",
       "    </tr>\n",
       "    <tr>\n",
       "      <th>...</th>\n",
       "      <td>...</td>\n",
       "      <td>...</td>\n",
       "      <td>...</td>\n",
       "      <td>...</td>\n",
       "    </tr>\n",
       "    <tr>\n",
       "      <th>1481</th>\n",
       "      <td>0</td>\n",
       "      <td>0</td>\n",
       "      <td>0</td>\n",
       "      <td>0</td>\n",
       "    </tr>\n",
       "    <tr>\n",
       "      <th>1482</th>\n",
       "      <td>0</td>\n",
       "      <td>0</td>\n",
       "      <td>0</td>\n",
       "      <td>0</td>\n",
       "    </tr>\n",
       "    <tr>\n",
       "      <th>1483</th>\n",
       "      <td>1</td>\n",
       "      <td>0</td>\n",
       "      <td>0</td>\n",
       "      <td>0</td>\n",
       "    </tr>\n",
       "    <tr>\n",
       "      <th>1484</th>\n",
       "      <td>0</td>\n",
       "      <td>0</td>\n",
       "      <td>0</td>\n",
       "      <td>0</td>\n",
       "    </tr>\n",
       "    <tr>\n",
       "      <th>1485</th>\n",
       "      <td>0</td>\n",
       "      <td>0</td>\n",
       "      <td>0</td>\n",
       "      <td>0</td>\n",
       "    </tr>\n",
       "  </tbody>\n",
       "</table>\n",
       "<p>1449 rows × 4 columns</p>\n",
       "</div>"
      ],
      "text/plain": [
       "      Neighborhood Cluster Label_2  Neighborhood Cluster Label_3  \\\n",
       "0                                0                             0   \n",
       "1                                0                             0   \n",
       "2                                0                             0   \n",
       "3                                0                             0   \n",
       "4                                0                             0   \n",
       "...                            ...                           ...   \n",
       "1481                             0                             0   \n",
       "1482                             0                             0   \n",
       "1483                             1                             0   \n",
       "1484                             0                             0   \n",
       "1485                             0                             0   \n",
       "\n",
       "      Neighborhood Cluster Label_4  Neighborhood Cluster Label_5  \n",
       "0                                0                             0  \n",
       "1                                0                             0  \n",
       "2                                0                             0  \n",
       "3                                0                             0  \n",
       "4                                0                             0  \n",
       "...                            ...                           ...  \n",
       "1481                             0                             0  \n",
       "1482                             0                             0  \n",
       "1483                             0                             0  \n",
       "1484                             0                             0  \n",
       "1485                             0                             0  \n",
       "\n",
       "[1449 rows x 4 columns]"
      ]
     },
     "execution_count": 403,
     "metadata": {},
     "output_type": "execute_result"
    }
   ],
   "source": [
    "NeighborhoodlabelsTRAIN\n",
    "#tdata_train"
   ]
  },
  {
   "cell_type": "code",
   "execution_count": 404,
   "metadata": {},
   "outputs": [
    {
     "data": {
      "text/html": [
       "<div>\n",
       "<style scoped>\n",
       "    .dataframe tbody tr th:only-of-type {\n",
       "        vertical-align: middle;\n",
       "    }\n",
       "\n",
       "    .dataframe tbody tr th {\n",
       "        vertical-align: top;\n",
       "    }\n",
       "\n",
       "    .dataframe thead th {\n",
       "        text-align: right;\n",
       "    }\n",
       "</style>\n",
       "<table border=\"1\" class=\"dataframe\">\n",
       "  <thead>\n",
       "    <tr style=\"text-align: right;\">\n",
       "      <th></th>\n",
       "      <th>index</th>\n",
       "      <th>SalePrice</th>\n",
       "      <th>Lat_Long</th>\n",
       "      <th>Dist_From_UoI</th>\n",
       "      <th>GrLivArea</th>\n",
       "      <th>1stFlrSF</th>\n",
       "      <th>2ndFlrSF</th>\n",
       "      <th>TotRmsAbvGrd</th>\n",
       "      <th>BedroomAbvGr</th>\n",
       "      <th>FullBath</th>\n",
       "      <th>...</th>\n",
       "      <th>GarageFinish</th>\n",
       "      <th>GarageArea</th>\n",
       "      <th>GarageCars</th>\n",
       "      <th>UnpavedDrive</th>\n",
       "      <th>WoodDeckBinary</th>\n",
       "      <th>HasPorch</th>\n",
       "      <th>FenceBinary</th>\n",
       "      <th>Fireplaces</th>\n",
       "      <th>NoCentralAir</th>\n",
       "      <th>SchD_S</th>\n",
       "    </tr>\n",
       "  </thead>\n",
       "  <tbody>\n",
       "    <tr>\n",
       "      <th>0</th>\n",
       "      <td>2360</td>\n",
       "      <td>179200</td>\n",
       "      <td>[42.036345280662346, -93.6878802695534]</td>\n",
       "      <td>3.58753</td>\n",
       "      <td>1294</td>\n",
       "      <td>1294</td>\n",
       "      <td>0</td>\n",
       "      <td>6</td>\n",
       "      <td>3</td>\n",
       "      <td>2</td>\n",
       "      <td>...</td>\n",
       "      <td>RFn</td>\n",
       "      <td>496.0</td>\n",
       "      <td>2.0</td>\n",
       "      <td>0</td>\n",
       "      <td>True</td>\n",
       "      <td>1</td>\n",
       "      <td>1</td>\n",
       "      <td>0</td>\n",
       "      <td>0</td>\n",
       "      <td>0</td>\n",
       "    </tr>\n",
       "    <tr>\n",
       "      <th>1</th>\n",
       "      <td>1975</td>\n",
       "      <td>115000</td>\n",
       "      <td>[42.038378, -93.61261990196078]</td>\n",
       "      <td>3.08436</td>\n",
       "      <td>1540</td>\n",
       "      <td>1040</td>\n",
       "      <td>500</td>\n",
       "      <td>7</td>\n",
       "      <td>4</td>\n",
       "      <td>1</td>\n",
       "      <td>...</td>\n",
       "      <td>Unf</td>\n",
       "      <td>352.0</td>\n",
       "      <td>1.0</td>\n",
       "      <td>0</td>\n",
       "      <td>False</td>\n",
       "      <td>0</td>\n",
       "      <td>0</td>\n",
       "      <td>0</td>\n",
       "      <td>0</td>\n",
       "      <td>0</td>\n",
       "    </tr>\n",
       "    <tr>\n",
       "      <th>2</th>\n",
       "      <td>2238</td>\n",
       "      <td>110000</td>\n",
       "      <td>[42.04854121553709, -93.6265682965729]</td>\n",
       "      <td>2.9374</td>\n",
       "      <td>892</td>\n",
       "      <td>892</td>\n",
       "      <td>0</td>\n",
       "      <td>5</td>\n",
       "      <td>3</td>\n",
       "      <td>1</td>\n",
       "      <td>...</td>\n",
       "      <td>RFn</td>\n",
       "      <td>264.0</td>\n",
       "      <td>1.0</td>\n",
       "      <td>0</td>\n",
       "      <td>False</td>\n",
       "      <td>0</td>\n",
       "      <td>1</td>\n",
       "      <td>0</td>\n",
       "      <td>0</td>\n",
       "      <td>0</td>\n",
       "    </tr>\n",
       "    <tr>\n",
       "      <th>3</th>\n",
       "      <td>464</td>\n",
       "      <td>131750</td>\n",
       "      <td>[42.018681900000004, -93.6663829759606]</td>\n",
       "      <td>1.86884</td>\n",
       "      <td>960</td>\n",
       "      <td>960</td>\n",
       "      <td>0</td>\n",
       "      <td>4</td>\n",
       "      <td>2</td>\n",
       "      <td>1</td>\n",
       "      <td>...</td>\n",
       "      <td>Unf</td>\n",
       "      <td>392.0</td>\n",
       "      <td>1.0</td>\n",
       "      <td>0</td>\n",
       "      <td>True</td>\n",
       "      <td>1</td>\n",
       "      <td>0</td>\n",
       "      <td>0</td>\n",
       "      <td>0</td>\n",
       "      <td>0</td>\n",
       "    </tr>\n",
       "    <tr>\n",
       "      <th>4</th>\n",
       "      <td>220</td>\n",
       "      <td>190000</td>\n",
       "      <td>[42.055141, -93.633802]</td>\n",
       "      <td>3.33701</td>\n",
       "      <td>1969</td>\n",
       "      <td>1161</td>\n",
       "      <td>808</td>\n",
       "      <td>8</td>\n",
       "      <td>3</td>\n",
       "      <td>2</td>\n",
       "      <td>...</td>\n",
       "      <td>RFn</td>\n",
       "      <td>534.0</td>\n",
       "      <td>2.0</td>\n",
       "      <td>0</td>\n",
       "      <td>False</td>\n",
       "      <td>1</td>\n",
       "      <td>0</td>\n",
       "      <td>1</td>\n",
       "      <td>0</td>\n",
       "      <td>0</td>\n",
       "    </tr>\n",
       "    <tr>\n",
       "      <th>...</th>\n",
       "      <td>...</td>\n",
       "      <td>...</td>\n",
       "      <td>...</td>\n",
       "      <td>...</td>\n",
       "      <td>...</td>\n",
       "      <td>...</td>\n",
       "      <td>...</td>\n",
       "      <td>...</td>\n",
       "      <td>...</td>\n",
       "      <td>...</td>\n",
       "      <td>...</td>\n",
       "      <td>...</td>\n",
       "      <td>...</td>\n",
       "      <td>...</td>\n",
       "      <td>...</td>\n",
       "      <td>...</td>\n",
       "      <td>...</td>\n",
       "      <td>...</td>\n",
       "      <td>...</td>\n",
       "      <td>...</td>\n",
       "      <td>...</td>\n",
       "    </tr>\n",
       "    <tr>\n",
       "      <th>1444</th>\n",
       "      <td>447</td>\n",
       "      <td>195000</td>\n",
       "      <td>[42.0624755, -93.6414793]</td>\n",
       "      <td>4.00587</td>\n",
       "      <td>1455</td>\n",
       "      <td>1455</td>\n",
       "      <td>0</td>\n",
       "      <td>6</td>\n",
       "      <td>2</td>\n",
       "      <td>2</td>\n",
       "      <td>...</td>\n",
       "      <td>Fin</td>\n",
       "      <td>644.0</td>\n",
       "      <td>3.0</td>\n",
       "      <td>0</td>\n",
       "      <td>True</td>\n",
       "      <td>1</td>\n",
       "      <td>0</td>\n",
       "      <td>1</td>\n",
       "      <td>0</td>\n",
       "      <td>1</td>\n",
       "    </tr>\n",
       "    <tr>\n",
       "      <th>1445</th>\n",
       "      <td>2258</td>\n",
       "      <td>146500</td>\n",
       "      <td>[42.02730468048847, -93.60702960866344]</td>\n",
       "      <td>3.25742</td>\n",
       "      <td>1521</td>\n",
       "      <td>780</td>\n",
       "      <td>741</td>\n",
       "      <td>8</td>\n",
       "      <td>4</td>\n",
       "      <td>1</td>\n",
       "      <td>...</td>\n",
       "      <td>Unf</td>\n",
       "      <td>640.0</td>\n",
       "      <td>3.0</td>\n",
       "      <td>0</td>\n",
       "      <td>False</td>\n",
       "      <td>1</td>\n",
       "      <td>1</td>\n",
       "      <td>0</td>\n",
       "      <td>0</td>\n",
       "      <td>0</td>\n",
       "    </tr>\n",
       "    <tr>\n",
       "      <th>1446</th>\n",
       "      <td>99</td>\n",
       "      <td>211500</td>\n",
       "      <td>[42.04299352441229, -93.64930425966442]</td>\n",
       "      <td>1.83358</td>\n",
       "      <td>1226</td>\n",
       "      <td>1226</td>\n",
       "      <td>0</td>\n",
       "      <td>4</td>\n",
       "      <td>1</td>\n",
       "      <td>1</td>\n",
       "      <td>...</td>\n",
       "      <td>Fin</td>\n",
       "      <td>484.0</td>\n",
       "      <td>2.0</td>\n",
       "      <td>0</td>\n",
       "      <td>True</td>\n",
       "      <td>1</td>\n",
       "      <td>0</td>\n",
       "      <td>2</td>\n",
       "      <td>0</td>\n",
       "      <td>0</td>\n",
       "    </tr>\n",
       "    <tr>\n",
       "      <th>1447</th>\n",
       "      <td>2176</td>\n",
       "      <td>117000</td>\n",
       "      <td>[42.021659183673464, -93.68313334693877]</td>\n",
       "      <td>3.07985</td>\n",
       "      <td>875</td>\n",
       "      <td>875</td>\n",
       "      <td>0</td>\n",
       "      <td>5</td>\n",
       "      <td>3</td>\n",
       "      <td>1</td>\n",
       "      <td>...</td>\n",
       "      <td>Unf</td>\n",
       "      <td>728.0</td>\n",
       "      <td>2.0</td>\n",
       "      <td>0</td>\n",
       "      <td>True</td>\n",
       "      <td>0</td>\n",
       "      <td>0</td>\n",
       "      <td>0</td>\n",
       "      <td>0</td>\n",
       "      <td>0</td>\n",
       "    </tr>\n",
       "    <tr>\n",
       "      <th>1448</th>\n",
       "      <td>1827</td>\n",
       "      <td>144000</td>\n",
       "      <td>[42.04582264860672, -93.61812796437889]</td>\n",
       "      <td>3.16594</td>\n",
       "      <td>1524</td>\n",
       "      <td>874</td>\n",
       "      <td>650</td>\n",
       "      <td>7</td>\n",
       "      <td>3</td>\n",
       "      <td>1</td>\n",
       "      <td>...</td>\n",
       "      <td>Unf</td>\n",
       "      <td>315.0</td>\n",
       "      <td>1.0</td>\n",
       "      <td>0</td>\n",
       "      <td>False</td>\n",
       "      <td>0</td>\n",
       "      <td>1</td>\n",
       "      <td>0</td>\n",
       "      <td>0</td>\n",
       "      <td>0</td>\n",
       "    </tr>\n",
       "  </tbody>\n",
       "</table>\n",
       "<p>1449 rows × 55 columns</p>\n",
       "</div>"
      ],
      "text/plain": [
       "      index  SalePrice                                  Lat_Long  \\\n",
       "0      2360     179200   [42.036345280662346, -93.6878802695534]   \n",
       "1      1975     115000           [42.038378, -93.61261990196078]   \n",
       "2      2238     110000    [42.04854121553709, -93.6265682965729]   \n",
       "3       464     131750   [42.018681900000004, -93.6663829759606]   \n",
       "4       220     190000                   [42.055141, -93.633802]   \n",
       "...     ...        ...                                       ...   \n",
       "1444    447     195000                 [42.0624755, -93.6414793]   \n",
       "1445   2258     146500   [42.02730468048847, -93.60702960866344]   \n",
       "1446     99     211500   [42.04299352441229, -93.64930425966442]   \n",
       "1447   2176     117000  [42.021659183673464, -93.68313334693877]   \n",
       "1448   1827     144000   [42.04582264860672, -93.61812796437889]   \n",
       "\n",
       "     Dist_From_UoI  GrLivArea  1stFlrSF  2ndFlrSF  TotRmsAbvGrd  BedroomAbvGr  \\\n",
       "0          3.58753       1294      1294         0             6             3   \n",
       "1          3.08436       1540      1040       500             7             4   \n",
       "2           2.9374        892       892         0             5             3   \n",
       "3          1.86884        960       960         0             4             2   \n",
       "4          3.33701       1969      1161       808             8             3   \n",
       "...            ...        ...       ...       ...           ...           ...   \n",
       "1444       4.00587       1455      1455         0             6             2   \n",
       "1445       3.25742       1521       780       741             8             4   \n",
       "1446       1.83358       1226      1226         0             4             1   \n",
       "1447       3.07985        875       875         0             5             3   \n",
       "1448       3.16594       1524       874       650             7             3   \n",
       "\n",
       "      FullBath  ...  GarageFinish GarageArea GarageCars  UnpavedDrive  \\\n",
       "0            2  ...           RFn      496.0        2.0             0   \n",
       "1            1  ...           Unf      352.0        1.0             0   \n",
       "2            1  ...           RFn      264.0        1.0             0   \n",
       "3            1  ...           Unf      392.0        1.0             0   \n",
       "4            2  ...           RFn      534.0        2.0             0   \n",
       "...        ...  ...           ...        ...        ...           ...   \n",
       "1444         2  ...           Fin      644.0        3.0             0   \n",
       "1445         1  ...           Unf      640.0        3.0             0   \n",
       "1446         1  ...           Fin      484.0        2.0             0   \n",
       "1447         1  ...           Unf      728.0        2.0             0   \n",
       "1448         1  ...           Unf      315.0        1.0             0   \n",
       "\n",
       "      WoodDeckBinary  HasPorch  FenceBinary Fireplaces NoCentralAir  SchD_S  \n",
       "0               True         1            1          0            0       0  \n",
       "1              False         0            0          0            0       0  \n",
       "2              False         0            1          0            0       0  \n",
       "3               True         1            0          0            0       0  \n",
       "4              False         1            0          1            0       0  \n",
       "...              ...       ...          ...        ...          ...     ...  \n",
       "1444            True         1            0          1            0       1  \n",
       "1445           False         1            1          0            0       0  \n",
       "1446            True         1            0          2            0       0  \n",
       "1447            True         0            0          0            0       0  \n",
       "1448           False         0            1          0            0       0  \n",
       "\n",
       "[1449 rows x 55 columns]"
      ]
     },
     "execution_count": 404,
     "metadata": {},
     "output_type": "execute_result"
    }
   ],
   "source": [
    "tdata_train.reset_index()"
   ]
  },
  {
   "cell_type": "code",
   "execution_count": 405,
   "metadata": {},
   "outputs": [],
   "source": [
    "tdata_train=tdata_train.reset_index()\n",
    "tdata_test=tdata_test.reset_index()\n",
    "tdata_train = tdata_train.drop(['index'], axis=1)\n",
    "tdata_test = tdata_test.drop(['index'], axis=1)"
   ]
  },
  {
   "cell_type": "code",
   "execution_count": 406,
   "metadata": {},
   "outputs": [],
   "source": [
    "NeighborhoodlabelsTRAIN=NeighborhoodlabelsTRAIN.reset_index()\n",
    "NeighborhoodlabelsTEST=NeighborhoodlabelsTEST.reset_index()\n",
    "NeighborhoodlabelsTEST = NeighborhoodlabelsTEST.drop(['index'], axis=1)\n",
    "NeighborhoodlabelsTRAIN = NeighborhoodlabelsTRAIN.drop(['index'], axis=1)"
   ]
  },
  {
   "cell_type": "code",
   "execution_count": 407,
   "metadata": {},
   "outputs": [
    {
     "data": {
      "text/html": [
       "<div>\n",
       "<style scoped>\n",
       "    .dataframe tbody tr th:only-of-type {\n",
       "        vertical-align: middle;\n",
       "    }\n",
       "\n",
       "    .dataframe tbody tr th {\n",
       "        vertical-align: top;\n",
       "    }\n",
       "\n",
       "    .dataframe thead th {\n",
       "        text-align: right;\n",
       "    }\n",
       "</style>\n",
       "<table border=\"1\" class=\"dataframe\">\n",
       "  <thead>\n",
       "    <tr style=\"text-align: right;\">\n",
       "      <th></th>\n",
       "      <th>Neighborhood Cluster Label_2</th>\n",
       "      <th>Neighborhood Cluster Label_3</th>\n",
       "      <th>Neighborhood Cluster Label_4</th>\n",
       "      <th>Neighborhood Cluster Label_5</th>\n",
       "    </tr>\n",
       "  </thead>\n",
       "  <tbody>\n",
       "    <tr>\n",
       "      <th>0</th>\n",
       "      <td>0</td>\n",
       "      <td>0</td>\n",
       "      <td>0</td>\n",
       "      <td>0</td>\n",
       "    </tr>\n",
       "    <tr>\n",
       "      <th>1</th>\n",
       "      <td>0</td>\n",
       "      <td>0</td>\n",
       "      <td>0</td>\n",
       "      <td>0</td>\n",
       "    </tr>\n",
       "    <tr>\n",
       "      <th>2</th>\n",
       "      <td>0</td>\n",
       "      <td>0</td>\n",
       "      <td>0</td>\n",
       "      <td>0</td>\n",
       "    </tr>\n",
       "    <tr>\n",
       "      <th>3</th>\n",
       "      <td>0</td>\n",
       "      <td>0</td>\n",
       "      <td>0</td>\n",
       "      <td>0</td>\n",
       "    </tr>\n",
       "    <tr>\n",
       "      <th>4</th>\n",
       "      <td>0</td>\n",
       "      <td>0</td>\n",
       "      <td>0</td>\n",
       "      <td>0</td>\n",
       "    </tr>\n",
       "    <tr>\n",
       "      <th>...</th>\n",
       "      <td>...</td>\n",
       "      <td>...</td>\n",
       "      <td>...</td>\n",
       "      <td>...</td>\n",
       "    </tr>\n",
       "    <tr>\n",
       "      <th>1444</th>\n",
       "      <td>0</td>\n",
       "      <td>0</td>\n",
       "      <td>0</td>\n",
       "      <td>0</td>\n",
       "    </tr>\n",
       "    <tr>\n",
       "      <th>1445</th>\n",
       "      <td>0</td>\n",
       "      <td>0</td>\n",
       "      <td>0</td>\n",
       "      <td>0</td>\n",
       "    </tr>\n",
       "    <tr>\n",
       "      <th>1446</th>\n",
       "      <td>1</td>\n",
       "      <td>0</td>\n",
       "      <td>0</td>\n",
       "      <td>0</td>\n",
       "    </tr>\n",
       "    <tr>\n",
       "      <th>1447</th>\n",
       "      <td>0</td>\n",
       "      <td>0</td>\n",
       "      <td>0</td>\n",
       "      <td>0</td>\n",
       "    </tr>\n",
       "    <tr>\n",
       "      <th>1448</th>\n",
       "      <td>0</td>\n",
       "      <td>0</td>\n",
       "      <td>0</td>\n",
       "      <td>0</td>\n",
       "    </tr>\n",
       "  </tbody>\n",
       "</table>\n",
       "<p>1449 rows × 4 columns</p>\n",
       "</div>"
      ],
      "text/plain": [
       "      Neighborhood Cluster Label_2  Neighborhood Cluster Label_3  \\\n",
       "0                                0                             0   \n",
       "1                                0                             0   \n",
       "2                                0                             0   \n",
       "3                                0                             0   \n",
       "4                                0                             0   \n",
       "...                            ...                           ...   \n",
       "1444                             0                             0   \n",
       "1445                             0                             0   \n",
       "1446                             1                             0   \n",
       "1447                             0                             0   \n",
       "1448                             0                             0   \n",
       "\n",
       "      Neighborhood Cluster Label_4  Neighborhood Cluster Label_5  \n",
       "0                                0                             0  \n",
       "1                                0                             0  \n",
       "2                                0                             0  \n",
       "3                                0                             0  \n",
       "4                                0                             0  \n",
       "...                            ...                           ...  \n",
       "1444                             0                             0  \n",
       "1445                             0                             0  \n",
       "1446                             0                             0  \n",
       "1447                             0                             0  \n",
       "1448                             0                             0  \n",
       "\n",
       "[1449 rows x 4 columns]"
      ]
     },
     "execution_count": 407,
     "metadata": {},
     "output_type": "execute_result"
    }
   ],
   "source": [
    "NeighborhoodlabelsTRAIN"
   ]
  },
  {
   "cell_type": "code",
   "execution_count": 408,
   "metadata": {},
   "outputs": [],
   "source": [
    "tdata_train=pd.concat([tdata_train, NeighborhoodlabelsTRAIN], axis=1)\n",
    "tdata_test=pd.concat([tdata_test, NeighborhoodlabelsTEST], axis=1)\n",
    "drop_list=['Remodeled','LndAc_S']\n",
    "tdata_train = tdata_train.drop(drop_list, axis=1)\n",
    "tdata_test = tdata_test.drop(drop_list, axis=1)"
   ]
  },
  {
   "cell_type": "code",
   "execution_count": 409,
   "metadata": {},
   "outputs": [
    {
     "data": {
      "text/html": [
       "<div>\n",
       "<style scoped>\n",
       "    .dataframe tbody tr th:only-of-type {\n",
       "        vertical-align: middle;\n",
       "    }\n",
       "\n",
       "    .dataframe tbody tr th {\n",
       "        vertical-align: top;\n",
       "    }\n",
       "\n",
       "    .dataframe thead th {\n",
       "        text-align: right;\n",
       "    }\n",
       "</style>\n",
       "<table border=\"1\" class=\"dataframe\">\n",
       "  <thead>\n",
       "    <tr style=\"text-align: right;\">\n",
       "      <th></th>\n",
       "      <th>SalePrice</th>\n",
       "      <th>Lat_Long</th>\n",
       "      <th>Dist_From_UoI</th>\n",
       "      <th>GrLivArea</th>\n",
       "      <th>1stFlrSF</th>\n",
       "      <th>2ndFlrSF</th>\n",
       "      <th>TotRmsAbvGrd</th>\n",
       "      <th>BedroomAbvGr</th>\n",
       "      <th>FullBath</th>\n",
       "      <th>HalfBath</th>\n",
       "      <th>...</th>\n",
       "      <th>WoodDeckBinary</th>\n",
       "      <th>HasPorch</th>\n",
       "      <th>FenceBinary</th>\n",
       "      <th>Fireplaces</th>\n",
       "      <th>NoCentralAir</th>\n",
       "      <th>SchD_S</th>\n",
       "      <th>Neighborhood Cluster Label_2</th>\n",
       "      <th>Neighborhood Cluster Label_3</th>\n",
       "      <th>Neighborhood Cluster Label_4</th>\n",
       "      <th>Neighborhood Cluster Label_5</th>\n",
       "    </tr>\n",
       "  </thead>\n",
       "  <tbody>\n",
       "    <tr>\n",
       "      <th>0</th>\n",
       "      <td>179200</td>\n",
       "      <td>[42.036345280662346, -93.6878802695534]</td>\n",
       "      <td>3.58753</td>\n",
       "      <td>1294</td>\n",
       "      <td>1294</td>\n",
       "      <td>0</td>\n",
       "      <td>6</td>\n",
       "      <td>3</td>\n",
       "      <td>2</td>\n",
       "      <td>0</td>\n",
       "      <td>...</td>\n",
       "      <td>True</td>\n",
       "      <td>1</td>\n",
       "      <td>1</td>\n",
       "      <td>0</td>\n",
       "      <td>0</td>\n",
       "      <td>0</td>\n",
       "      <td>0</td>\n",
       "      <td>0</td>\n",
       "      <td>0</td>\n",
       "      <td>0</td>\n",
       "    </tr>\n",
       "    <tr>\n",
       "      <th>1</th>\n",
       "      <td>115000</td>\n",
       "      <td>[42.038378, -93.61261990196078]</td>\n",
       "      <td>3.08436</td>\n",
       "      <td>1540</td>\n",
       "      <td>1040</td>\n",
       "      <td>500</td>\n",
       "      <td>7</td>\n",
       "      <td>4</td>\n",
       "      <td>1</td>\n",
       "      <td>0</td>\n",
       "      <td>...</td>\n",
       "      <td>False</td>\n",
       "      <td>0</td>\n",
       "      <td>0</td>\n",
       "      <td>0</td>\n",
       "      <td>0</td>\n",
       "      <td>0</td>\n",
       "      <td>0</td>\n",
       "      <td>0</td>\n",
       "      <td>0</td>\n",
       "      <td>0</td>\n",
       "    </tr>\n",
       "    <tr>\n",
       "      <th>2</th>\n",
       "      <td>110000</td>\n",
       "      <td>[42.04854121553709, -93.6265682965729]</td>\n",
       "      <td>2.9374</td>\n",
       "      <td>892</td>\n",
       "      <td>892</td>\n",
       "      <td>0</td>\n",
       "      <td>5</td>\n",
       "      <td>3</td>\n",
       "      <td>1</td>\n",
       "      <td>0</td>\n",
       "      <td>...</td>\n",
       "      <td>False</td>\n",
       "      <td>0</td>\n",
       "      <td>1</td>\n",
       "      <td>0</td>\n",
       "      <td>0</td>\n",
       "      <td>0</td>\n",
       "      <td>0</td>\n",
       "      <td>0</td>\n",
       "      <td>0</td>\n",
       "      <td>0</td>\n",
       "    </tr>\n",
       "    <tr>\n",
       "      <th>3</th>\n",
       "      <td>131750</td>\n",
       "      <td>[42.018681900000004, -93.6663829759606]</td>\n",
       "      <td>1.86884</td>\n",
       "      <td>960</td>\n",
       "      <td>960</td>\n",
       "      <td>0</td>\n",
       "      <td>4</td>\n",
       "      <td>2</td>\n",
       "      <td>1</td>\n",
       "      <td>0</td>\n",
       "      <td>...</td>\n",
       "      <td>True</td>\n",
       "      <td>1</td>\n",
       "      <td>0</td>\n",
       "      <td>0</td>\n",
       "      <td>0</td>\n",
       "      <td>0</td>\n",
       "      <td>0</td>\n",
       "      <td>0</td>\n",
       "      <td>0</td>\n",
       "      <td>0</td>\n",
       "    </tr>\n",
       "    <tr>\n",
       "      <th>4</th>\n",
       "      <td>190000</td>\n",
       "      <td>[42.055141, -93.633802]</td>\n",
       "      <td>3.33701</td>\n",
       "      <td>1969</td>\n",
       "      <td>1161</td>\n",
       "      <td>808</td>\n",
       "      <td>8</td>\n",
       "      <td>3</td>\n",
       "      <td>2</td>\n",
       "      <td>1</td>\n",
       "      <td>...</td>\n",
       "      <td>False</td>\n",
       "      <td>1</td>\n",
       "      <td>0</td>\n",
       "      <td>1</td>\n",
       "      <td>0</td>\n",
       "      <td>0</td>\n",
       "      <td>0</td>\n",
       "      <td>0</td>\n",
       "      <td>0</td>\n",
       "      <td>0</td>\n",
       "    </tr>\n",
       "    <tr>\n",
       "      <th>...</th>\n",
       "      <td>...</td>\n",
       "      <td>...</td>\n",
       "      <td>...</td>\n",
       "      <td>...</td>\n",
       "      <td>...</td>\n",
       "      <td>...</td>\n",
       "      <td>...</td>\n",
       "      <td>...</td>\n",
       "      <td>...</td>\n",
       "      <td>...</td>\n",
       "      <td>...</td>\n",
       "      <td>...</td>\n",
       "      <td>...</td>\n",
       "      <td>...</td>\n",
       "      <td>...</td>\n",
       "      <td>...</td>\n",
       "      <td>...</td>\n",
       "      <td>...</td>\n",
       "      <td>...</td>\n",
       "      <td>...</td>\n",
       "      <td>...</td>\n",
       "    </tr>\n",
       "    <tr>\n",
       "      <th>1444</th>\n",
       "      <td>195000</td>\n",
       "      <td>[42.0624755, -93.6414793]</td>\n",
       "      <td>4.00587</td>\n",
       "      <td>1455</td>\n",
       "      <td>1455</td>\n",
       "      <td>0</td>\n",
       "      <td>6</td>\n",
       "      <td>2</td>\n",
       "      <td>2</td>\n",
       "      <td>0</td>\n",
       "      <td>...</td>\n",
       "      <td>True</td>\n",
       "      <td>1</td>\n",
       "      <td>0</td>\n",
       "      <td>1</td>\n",
       "      <td>0</td>\n",
       "      <td>1</td>\n",
       "      <td>0</td>\n",
       "      <td>0</td>\n",
       "      <td>0</td>\n",
       "      <td>0</td>\n",
       "    </tr>\n",
       "    <tr>\n",
       "      <th>1445</th>\n",
       "      <td>146500</td>\n",
       "      <td>[42.02730468048847, -93.60702960866344]</td>\n",
       "      <td>3.25742</td>\n",
       "      <td>1521</td>\n",
       "      <td>780</td>\n",
       "      <td>741</td>\n",
       "      <td>8</td>\n",
       "      <td>4</td>\n",
       "      <td>1</td>\n",
       "      <td>0</td>\n",
       "      <td>...</td>\n",
       "      <td>False</td>\n",
       "      <td>1</td>\n",
       "      <td>1</td>\n",
       "      <td>0</td>\n",
       "      <td>0</td>\n",
       "      <td>0</td>\n",
       "      <td>0</td>\n",
       "      <td>0</td>\n",
       "      <td>0</td>\n",
       "      <td>0</td>\n",
       "    </tr>\n",
       "    <tr>\n",
       "      <th>1446</th>\n",
       "      <td>211500</td>\n",
       "      <td>[42.04299352441229, -93.64930425966442]</td>\n",
       "      <td>1.83358</td>\n",
       "      <td>1226</td>\n",
       "      <td>1226</td>\n",
       "      <td>0</td>\n",
       "      <td>4</td>\n",
       "      <td>1</td>\n",
       "      <td>1</td>\n",
       "      <td>0</td>\n",
       "      <td>...</td>\n",
       "      <td>True</td>\n",
       "      <td>1</td>\n",
       "      <td>0</td>\n",
       "      <td>2</td>\n",
       "      <td>0</td>\n",
       "      <td>0</td>\n",
       "      <td>1</td>\n",
       "      <td>0</td>\n",
       "      <td>0</td>\n",
       "      <td>0</td>\n",
       "    </tr>\n",
       "    <tr>\n",
       "      <th>1447</th>\n",
       "      <td>117000</td>\n",
       "      <td>[42.021659183673464, -93.68313334693877]</td>\n",
       "      <td>3.07985</td>\n",
       "      <td>875</td>\n",
       "      <td>875</td>\n",
       "      <td>0</td>\n",
       "      <td>5</td>\n",
       "      <td>3</td>\n",
       "      <td>1</td>\n",
       "      <td>0</td>\n",
       "      <td>...</td>\n",
       "      <td>True</td>\n",
       "      <td>0</td>\n",
       "      <td>0</td>\n",
       "      <td>0</td>\n",
       "      <td>0</td>\n",
       "      <td>0</td>\n",
       "      <td>0</td>\n",
       "      <td>0</td>\n",
       "      <td>0</td>\n",
       "      <td>0</td>\n",
       "    </tr>\n",
       "    <tr>\n",
       "      <th>1448</th>\n",
       "      <td>144000</td>\n",
       "      <td>[42.04582264860672, -93.61812796437889]</td>\n",
       "      <td>3.16594</td>\n",
       "      <td>1524</td>\n",
       "      <td>874</td>\n",
       "      <td>650</td>\n",
       "      <td>7</td>\n",
       "      <td>3</td>\n",
       "      <td>1</td>\n",
       "      <td>1</td>\n",
       "      <td>...</td>\n",
       "      <td>False</td>\n",
       "      <td>0</td>\n",
       "      <td>1</td>\n",
       "      <td>0</td>\n",
       "      <td>0</td>\n",
       "      <td>0</td>\n",
       "      <td>0</td>\n",
       "      <td>0</td>\n",
       "      <td>0</td>\n",
       "      <td>0</td>\n",
       "    </tr>\n",
       "  </tbody>\n",
       "</table>\n",
       "<p>1449 rows × 56 columns</p>\n",
       "</div>"
      ],
      "text/plain": [
       "      SalePrice                                  Lat_Long Dist_From_UoI  \\\n",
       "0        179200   [42.036345280662346, -93.6878802695534]       3.58753   \n",
       "1        115000           [42.038378, -93.61261990196078]       3.08436   \n",
       "2        110000    [42.04854121553709, -93.6265682965729]        2.9374   \n",
       "3        131750   [42.018681900000004, -93.6663829759606]       1.86884   \n",
       "4        190000                   [42.055141, -93.633802]       3.33701   \n",
       "...         ...                                       ...           ...   \n",
       "1444     195000                 [42.0624755, -93.6414793]       4.00587   \n",
       "1445     146500   [42.02730468048847, -93.60702960866344]       3.25742   \n",
       "1446     211500   [42.04299352441229, -93.64930425966442]       1.83358   \n",
       "1447     117000  [42.021659183673464, -93.68313334693877]       3.07985   \n",
       "1448     144000   [42.04582264860672, -93.61812796437889]       3.16594   \n",
       "\n",
       "      GrLivArea  1stFlrSF  2ndFlrSF  TotRmsAbvGrd  BedroomAbvGr  FullBath  \\\n",
       "0          1294      1294         0             6             3         2   \n",
       "1          1540      1040       500             7             4         1   \n",
       "2           892       892         0             5             3         1   \n",
       "3           960       960         0             4             2         1   \n",
       "4          1969      1161       808             8             3         2   \n",
       "...         ...       ...       ...           ...           ...       ...   \n",
       "1444       1455      1455         0             6             2         2   \n",
       "1445       1521       780       741             8             4         1   \n",
       "1446       1226      1226         0             4             1         1   \n",
       "1447        875       875         0             5             3         1   \n",
       "1448       1524       874       650             7             3         1   \n",
       "\n",
       "      HalfBath  ... WoodDeckBinary HasPorch  FenceBinary  Fireplaces  \\\n",
       "0            0  ...           True        1            1           0   \n",
       "1            0  ...          False        0            0           0   \n",
       "2            0  ...          False        0            1           0   \n",
       "3            0  ...           True        1            0           0   \n",
       "4            1  ...          False        1            0           1   \n",
       "...        ...  ...            ...      ...          ...         ...   \n",
       "1444         0  ...           True        1            0           1   \n",
       "1445         0  ...          False        1            1           0   \n",
       "1446         0  ...           True        1            0           2   \n",
       "1447         0  ...           True        0            0           0   \n",
       "1448         1  ...          False        0            1           0   \n",
       "\n",
       "      NoCentralAir SchD_S Neighborhood Cluster Label_2  \\\n",
       "0                0      0                            0   \n",
       "1                0      0                            0   \n",
       "2                0      0                            0   \n",
       "3                0      0                            0   \n",
       "4                0      0                            0   \n",
       "...            ...    ...                          ...   \n",
       "1444             0      1                            0   \n",
       "1445             0      0                            0   \n",
       "1446             0      0                            1   \n",
       "1447             0      0                            0   \n",
       "1448             0      0                            0   \n",
       "\n",
       "      Neighborhood Cluster Label_3  Neighborhood Cluster Label_4  \\\n",
       "0                                0                             0   \n",
       "1                                0                             0   \n",
       "2                                0                             0   \n",
       "3                                0                             0   \n",
       "4                                0                             0   \n",
       "...                            ...                           ...   \n",
       "1444                             0                             0   \n",
       "1445                             0                             0   \n",
       "1446                             0                             0   \n",
       "1447                             0                             0   \n",
       "1448                             0                             0   \n",
       "\n",
       "     Neighborhood Cluster Label_5  \n",
       "0                               0  \n",
       "1                               0  \n",
       "2                               0  \n",
       "3                               0  \n",
       "4                               0  \n",
       "...                           ...  \n",
       "1444                            0  \n",
       "1445                            0  \n",
       "1446                            0  \n",
       "1447                            0  \n",
       "1448                            0  \n",
       "\n",
       "[1449 rows x 56 columns]"
      ]
     },
     "execution_count": 409,
     "metadata": {},
     "output_type": "execute_result"
    }
   ],
   "source": [
    "tdata_train"
   ]
  },
  {
   "cell_type": "code",
   "execution_count": 410,
   "metadata": {},
   "outputs": [],
   "source": [
    "#ensuring all boolean cols are evenly distributed\n",
    "\n",
    "fullsetvalues=np.sum(~tdata.astype(bool), axis=0)\n",
    "trainsetvalues=np.sum(~tdata_train.astype(bool), axis=0)\n"
   ]
  },
  {
   "cell_type": "code",
   "execution_count": 411,
   "metadata": {},
   "outputs": [
    {
     "data": {
      "text/plain": [
       "FullBath         1.0\n",
       "BedroomAbvGr     0.8\n",
       "Dist_From_UoI    0.0\n",
       "Lat_Long         0.0\n",
       "dtype: float64"
      ]
     },
     "execution_count": 411,
     "metadata": {},
     "output_type": "execute_result"
    }
   ],
   "source": [
    "#none of the sparse bool cols have abnoraml dist btw test and train. \n",
    "#should have ~66% of bools cols weight in the train anything above 70 or below 60 is shown\n",
    "#only problamtic cols are not bools and this just says 75% houses w no above ground bedrooms are in this set and same logic w fullbath\n",
    "((trainsetvalues/fullsetvalues ).sort_values(ascending=False))[(((trainsetvalues/fullsetvalues ).sort_values(ascending=False))>.7) | (((trainsetvalues/fullsetvalues ).sort_values(ascending=False))<.6)]"
   ]
  },
  {
   "cell_type": "code",
   "execution_count": 412,
   "metadata": {},
   "outputs": [],
   "source": [
    "tdata_train.to_csv(r'RowFiltered_condensed_data_TRAIN.csv', index=False)"
   ]
  },
  {
   "cell_type": "code",
   "execution_count": 413,
   "metadata": {},
   "outputs": [],
   "source": [
    "tdata_test.to_csv(r'RowFiltered_condensed_data_TEST.csv', index=False)"
   ]
  },
  {
   "cell_type": "code",
   "execution_count": 414,
   "metadata": {},
   "outputs": [
    {
     "name": "stdout",
     "output_type": "stream",
     "text": [
      "Null values in train:  0\n",
      "Null values in test:  0\n"
     ]
    }
   ],
   "source": [
    "# Check that no NaN's are left over. \n",
    "print('Null values in train: ', np.sum(np.sum(tdata_train.isnull(),axis=1),axis=0))\n",
    "print('Null values in test: ', np.sum(np.sum(tdata_test.isnull(),axis=1),axis=0))"
   ]
  },
  {
   "cell_type": "code",
   "execution_count": 415,
   "metadata": {},
   "outputs": [
    {
     "data": {
      "text/html": [
       "<div>\n",
       "<style scoped>\n",
       "    .dataframe tbody tr th:only-of-type {\n",
       "        vertical-align: middle;\n",
       "    }\n",
       "\n",
       "    .dataframe tbody tr th {\n",
       "        vertical-align: top;\n",
       "    }\n",
       "\n",
       "    .dataframe thead th {\n",
       "        text-align: right;\n",
       "    }\n",
       "</style>\n",
       "<table border=\"1\" class=\"dataframe\">\n",
       "  <thead>\n",
       "    <tr style=\"text-align: right;\">\n",
       "      <th></th>\n",
       "      <th>SalePrice</th>\n",
       "      <th>Lat_Long</th>\n",
       "      <th>Dist_From_UoI</th>\n",
       "      <th>GrLivArea</th>\n",
       "      <th>1stFlrSF</th>\n",
       "      <th>2ndFlrSF</th>\n",
       "      <th>TotRmsAbvGrd</th>\n",
       "      <th>BedroomAbvGr</th>\n",
       "      <th>FullBath</th>\n",
       "      <th>HalfBath</th>\n",
       "      <th>...</th>\n",
       "      <th>WoodDeckBinary</th>\n",
       "      <th>HasPorch</th>\n",
       "      <th>FenceBinary</th>\n",
       "      <th>Fireplaces</th>\n",
       "      <th>NoCentralAir</th>\n",
       "      <th>SchD_S</th>\n",
       "      <th>Neighborhood Cluster Label_2</th>\n",
       "      <th>Neighborhood Cluster Label_3</th>\n",
       "      <th>Neighborhood Cluster Label_4</th>\n",
       "      <th>Neighborhood Cluster Label_5</th>\n",
       "    </tr>\n",
       "  </thead>\n",
       "  <tbody>\n",
       "    <tr>\n",
       "      <th>0</th>\n",
       "      <td>179200</td>\n",
       "      <td>[42.036345280662346, -93.6878802695534]</td>\n",
       "      <td>3.58753</td>\n",
       "      <td>1294</td>\n",
       "      <td>1294</td>\n",
       "      <td>0</td>\n",
       "      <td>6</td>\n",
       "      <td>3</td>\n",
       "      <td>2</td>\n",
       "      <td>0</td>\n",
       "      <td>...</td>\n",
       "      <td>True</td>\n",
       "      <td>1</td>\n",
       "      <td>1</td>\n",
       "      <td>0</td>\n",
       "      <td>0</td>\n",
       "      <td>0</td>\n",
       "      <td>0</td>\n",
       "      <td>0</td>\n",
       "      <td>0</td>\n",
       "      <td>0</td>\n",
       "    </tr>\n",
       "    <tr>\n",
       "      <th>1</th>\n",
       "      <td>115000</td>\n",
       "      <td>[42.038378, -93.61261990196078]</td>\n",
       "      <td>3.08436</td>\n",
       "      <td>1540</td>\n",
       "      <td>1040</td>\n",
       "      <td>500</td>\n",
       "      <td>7</td>\n",
       "      <td>4</td>\n",
       "      <td>1</td>\n",
       "      <td>0</td>\n",
       "      <td>...</td>\n",
       "      <td>False</td>\n",
       "      <td>0</td>\n",
       "      <td>0</td>\n",
       "      <td>0</td>\n",
       "      <td>0</td>\n",
       "      <td>0</td>\n",
       "      <td>0</td>\n",
       "      <td>0</td>\n",
       "      <td>0</td>\n",
       "      <td>0</td>\n",
       "    </tr>\n",
       "    <tr>\n",
       "      <th>2</th>\n",
       "      <td>110000</td>\n",
       "      <td>[42.04854121553709, -93.6265682965729]</td>\n",
       "      <td>2.9374</td>\n",
       "      <td>892</td>\n",
       "      <td>892</td>\n",
       "      <td>0</td>\n",
       "      <td>5</td>\n",
       "      <td>3</td>\n",
       "      <td>1</td>\n",
       "      <td>0</td>\n",
       "      <td>...</td>\n",
       "      <td>False</td>\n",
       "      <td>0</td>\n",
       "      <td>1</td>\n",
       "      <td>0</td>\n",
       "      <td>0</td>\n",
       "      <td>0</td>\n",
       "      <td>0</td>\n",
       "      <td>0</td>\n",
       "      <td>0</td>\n",
       "      <td>0</td>\n",
       "    </tr>\n",
       "    <tr>\n",
       "      <th>3</th>\n",
       "      <td>131750</td>\n",
       "      <td>[42.018681900000004, -93.6663829759606]</td>\n",
       "      <td>1.86884</td>\n",
       "      <td>960</td>\n",
       "      <td>960</td>\n",
       "      <td>0</td>\n",
       "      <td>4</td>\n",
       "      <td>2</td>\n",
       "      <td>1</td>\n",
       "      <td>0</td>\n",
       "      <td>...</td>\n",
       "      <td>True</td>\n",
       "      <td>1</td>\n",
       "      <td>0</td>\n",
       "      <td>0</td>\n",
       "      <td>0</td>\n",
       "      <td>0</td>\n",
       "      <td>0</td>\n",
       "      <td>0</td>\n",
       "      <td>0</td>\n",
       "      <td>0</td>\n",
       "    </tr>\n",
       "    <tr>\n",
       "      <th>4</th>\n",
       "      <td>190000</td>\n",
       "      <td>[42.055141, -93.633802]</td>\n",
       "      <td>3.33701</td>\n",
       "      <td>1969</td>\n",
       "      <td>1161</td>\n",
       "      <td>808</td>\n",
       "      <td>8</td>\n",
       "      <td>3</td>\n",
       "      <td>2</td>\n",
       "      <td>1</td>\n",
       "      <td>...</td>\n",
       "      <td>False</td>\n",
       "      <td>1</td>\n",
       "      <td>0</td>\n",
       "      <td>1</td>\n",
       "      <td>0</td>\n",
       "      <td>0</td>\n",
       "      <td>0</td>\n",
       "      <td>0</td>\n",
       "      <td>0</td>\n",
       "      <td>0</td>\n",
       "    </tr>\n",
       "    <tr>\n",
       "      <th>...</th>\n",
       "      <td>...</td>\n",
       "      <td>...</td>\n",
       "      <td>...</td>\n",
       "      <td>...</td>\n",
       "      <td>...</td>\n",
       "      <td>...</td>\n",
       "      <td>...</td>\n",
       "      <td>...</td>\n",
       "      <td>...</td>\n",
       "      <td>...</td>\n",
       "      <td>...</td>\n",
       "      <td>...</td>\n",
       "      <td>...</td>\n",
       "      <td>...</td>\n",
       "      <td>...</td>\n",
       "      <td>...</td>\n",
       "      <td>...</td>\n",
       "      <td>...</td>\n",
       "      <td>...</td>\n",
       "      <td>...</td>\n",
       "      <td>...</td>\n",
       "    </tr>\n",
       "    <tr>\n",
       "      <th>1444</th>\n",
       "      <td>195000</td>\n",
       "      <td>[42.0624755, -93.6414793]</td>\n",
       "      <td>4.00587</td>\n",
       "      <td>1455</td>\n",
       "      <td>1455</td>\n",
       "      <td>0</td>\n",
       "      <td>6</td>\n",
       "      <td>2</td>\n",
       "      <td>2</td>\n",
       "      <td>0</td>\n",
       "      <td>...</td>\n",
       "      <td>True</td>\n",
       "      <td>1</td>\n",
       "      <td>0</td>\n",
       "      <td>1</td>\n",
       "      <td>0</td>\n",
       "      <td>1</td>\n",
       "      <td>0</td>\n",
       "      <td>0</td>\n",
       "      <td>0</td>\n",
       "      <td>0</td>\n",
       "    </tr>\n",
       "    <tr>\n",
       "      <th>1445</th>\n",
       "      <td>146500</td>\n",
       "      <td>[42.02730468048847, -93.60702960866344]</td>\n",
       "      <td>3.25742</td>\n",
       "      <td>1521</td>\n",
       "      <td>780</td>\n",
       "      <td>741</td>\n",
       "      <td>8</td>\n",
       "      <td>4</td>\n",
       "      <td>1</td>\n",
       "      <td>0</td>\n",
       "      <td>...</td>\n",
       "      <td>False</td>\n",
       "      <td>1</td>\n",
       "      <td>1</td>\n",
       "      <td>0</td>\n",
       "      <td>0</td>\n",
       "      <td>0</td>\n",
       "      <td>0</td>\n",
       "      <td>0</td>\n",
       "      <td>0</td>\n",
       "      <td>0</td>\n",
       "    </tr>\n",
       "    <tr>\n",
       "      <th>1446</th>\n",
       "      <td>211500</td>\n",
       "      <td>[42.04299352441229, -93.64930425966442]</td>\n",
       "      <td>1.83358</td>\n",
       "      <td>1226</td>\n",
       "      <td>1226</td>\n",
       "      <td>0</td>\n",
       "      <td>4</td>\n",
       "      <td>1</td>\n",
       "      <td>1</td>\n",
       "      <td>0</td>\n",
       "      <td>...</td>\n",
       "      <td>True</td>\n",
       "      <td>1</td>\n",
       "      <td>0</td>\n",
       "      <td>2</td>\n",
       "      <td>0</td>\n",
       "      <td>0</td>\n",
       "      <td>1</td>\n",
       "      <td>0</td>\n",
       "      <td>0</td>\n",
       "      <td>0</td>\n",
       "    </tr>\n",
       "    <tr>\n",
       "      <th>1447</th>\n",
       "      <td>117000</td>\n",
       "      <td>[42.021659183673464, -93.68313334693877]</td>\n",
       "      <td>3.07985</td>\n",
       "      <td>875</td>\n",
       "      <td>875</td>\n",
       "      <td>0</td>\n",
       "      <td>5</td>\n",
       "      <td>3</td>\n",
       "      <td>1</td>\n",
       "      <td>0</td>\n",
       "      <td>...</td>\n",
       "      <td>True</td>\n",
       "      <td>0</td>\n",
       "      <td>0</td>\n",
       "      <td>0</td>\n",
       "      <td>0</td>\n",
       "      <td>0</td>\n",
       "      <td>0</td>\n",
       "      <td>0</td>\n",
       "      <td>0</td>\n",
       "      <td>0</td>\n",
       "    </tr>\n",
       "    <tr>\n",
       "      <th>1448</th>\n",
       "      <td>144000</td>\n",
       "      <td>[42.04582264860672, -93.61812796437889]</td>\n",
       "      <td>3.16594</td>\n",
       "      <td>1524</td>\n",
       "      <td>874</td>\n",
       "      <td>650</td>\n",
       "      <td>7</td>\n",
       "      <td>3</td>\n",
       "      <td>1</td>\n",
       "      <td>1</td>\n",
       "      <td>...</td>\n",
       "      <td>False</td>\n",
       "      <td>0</td>\n",
       "      <td>1</td>\n",
       "      <td>0</td>\n",
       "      <td>0</td>\n",
       "      <td>0</td>\n",
       "      <td>0</td>\n",
       "      <td>0</td>\n",
       "      <td>0</td>\n",
       "      <td>0</td>\n",
       "    </tr>\n",
       "  </tbody>\n",
       "</table>\n",
       "<p>1449 rows × 56 columns</p>\n",
       "</div>"
      ],
      "text/plain": [
       "      SalePrice                                  Lat_Long Dist_From_UoI  \\\n",
       "0        179200   [42.036345280662346, -93.6878802695534]       3.58753   \n",
       "1        115000           [42.038378, -93.61261990196078]       3.08436   \n",
       "2        110000    [42.04854121553709, -93.6265682965729]        2.9374   \n",
       "3        131750   [42.018681900000004, -93.6663829759606]       1.86884   \n",
       "4        190000                   [42.055141, -93.633802]       3.33701   \n",
       "...         ...                                       ...           ...   \n",
       "1444     195000                 [42.0624755, -93.6414793]       4.00587   \n",
       "1445     146500   [42.02730468048847, -93.60702960866344]       3.25742   \n",
       "1446     211500   [42.04299352441229, -93.64930425966442]       1.83358   \n",
       "1447     117000  [42.021659183673464, -93.68313334693877]       3.07985   \n",
       "1448     144000   [42.04582264860672, -93.61812796437889]       3.16594   \n",
       "\n",
       "      GrLivArea  1stFlrSF  2ndFlrSF  TotRmsAbvGrd  BedroomAbvGr  FullBath  \\\n",
       "0          1294      1294         0             6             3         2   \n",
       "1          1540      1040       500             7             4         1   \n",
       "2           892       892         0             5             3         1   \n",
       "3           960       960         0             4             2         1   \n",
       "4          1969      1161       808             8             3         2   \n",
       "...         ...       ...       ...           ...           ...       ...   \n",
       "1444       1455      1455         0             6             2         2   \n",
       "1445       1521       780       741             8             4         1   \n",
       "1446       1226      1226         0             4             1         1   \n",
       "1447        875       875         0             5             3         1   \n",
       "1448       1524       874       650             7             3         1   \n",
       "\n",
       "      HalfBath  ... WoodDeckBinary HasPorch  FenceBinary  Fireplaces  \\\n",
       "0            0  ...           True        1            1           0   \n",
       "1            0  ...          False        0            0           0   \n",
       "2            0  ...          False        0            1           0   \n",
       "3            0  ...           True        1            0           0   \n",
       "4            1  ...          False        1            0           1   \n",
       "...        ...  ...            ...      ...          ...         ...   \n",
       "1444         0  ...           True        1            0           1   \n",
       "1445         0  ...          False        1            1           0   \n",
       "1446         0  ...           True        1            0           2   \n",
       "1447         0  ...           True        0            0           0   \n",
       "1448         1  ...          False        0            1           0   \n",
       "\n",
       "      NoCentralAir SchD_S Neighborhood Cluster Label_2  \\\n",
       "0                0      0                            0   \n",
       "1                0      0                            0   \n",
       "2                0      0                            0   \n",
       "3                0      0                            0   \n",
       "4                0      0                            0   \n",
       "...            ...    ...                          ...   \n",
       "1444             0      1                            0   \n",
       "1445             0      0                            0   \n",
       "1446             0      0                            1   \n",
       "1447             0      0                            0   \n",
       "1448             0      0                            0   \n",
       "\n",
       "      Neighborhood Cluster Label_3  Neighborhood Cluster Label_4  \\\n",
       "0                                0                             0   \n",
       "1                                0                             0   \n",
       "2                                0                             0   \n",
       "3                                0                             0   \n",
       "4                                0                             0   \n",
       "...                            ...                           ...   \n",
       "1444                             0                             0   \n",
       "1445                             0                             0   \n",
       "1446                             0                             0   \n",
       "1447                             0                             0   \n",
       "1448                             0                             0   \n",
       "\n",
       "     Neighborhood Cluster Label_5  \n",
       "0                               0  \n",
       "1                               0  \n",
       "2                               0  \n",
       "3                               0  \n",
       "4                               0  \n",
       "...                           ...  \n",
       "1444                            0  \n",
       "1445                            0  \n",
       "1446                            0  \n",
       "1447                            0  \n",
       "1448                            0  \n",
       "\n",
       "[1449 rows x 56 columns]"
      ]
     },
     "execution_count": 415,
     "metadata": {},
     "output_type": "execute_result"
    }
   ],
   "source": [
    "tdata_train"
   ]
  },
  {
   "cell_type": "code",
   "execution_count": null,
   "metadata": {},
   "outputs": [],
   "source": []
  }
 ],
 "metadata": {
  "kernelspec": {
   "display_name": "Python 3",
   "language": "python",
   "name": "python3"
  },
  "language_info": {
   "codemirror_mode": {
    "name": "ipython",
    "version": 3
   },
   "file_extension": ".py",
   "mimetype": "text/x-python",
   "name": "python",
   "nbconvert_exporter": "python",
   "pygments_lexer": "ipython3",
   "version": "3.8.5"
  }
 },
 "nbformat": 4,
 "nbformat_minor": 5
}
