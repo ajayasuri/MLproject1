{
 "cells": [
  {
   "cell_type": "code",
   "execution_count": 1,
   "metadata": {},
   "outputs": [],
   "source": [
    "import pandas as pd\n",
    "import numpy as np\n",
    "from sklearn.linear_model import LinearRegression\n",
    "from sklearn.linear_model import LogisticRegression\n",
    "from sklearn.tree import DecisionTreeRegressor\n",
    "from sklearn.ensemble import RandomForestRegressor\n",
    "from matplotlib import pyplot"
   ]
  },
  {
   "cell_type": "code",
   "execution_count": 2,
   "metadata": {},
   "outputs": [],
   "source": [
    "#data = pd.read_csv('initial_dummied_data.csv')\n",
    "#test_data = pd.read_csv('initial_dummied_data_TEST.csv')\n",
    "train_data = pd.read_csv('initial_dummied_data_TRAIN.csv')"
   ]
  },
  {
   "cell_type": "code",
   "execution_count": 3,
   "metadata": {},
   "outputs": [
    {
     "data": {
      "text/plain": [
       "(1728, 103)"
      ]
     },
     "execution_count": 3,
     "metadata": {},
     "output_type": "execute_result"
    }
   ],
   "source": [
    "train_data.shape"
   ]
  },
  {
   "cell_type": "code",
   "execution_count": 4,
   "metadata": {},
   "outputs": [],
   "source": [
    "train_X = train_data.drop('SalePrice', axis=1)\n",
    "train_y = train_data['SalePrice']"
   ]
  },
  {
   "cell_type": "markdown",
   "metadata": {},
   "source": [
    "## Feat Imp w/ Linear Regression"
   ]
  },
  {
   "cell_type": "code",
   "execution_count": 5,
   "metadata": {},
   "outputs": [],
   "source": [
    "lm = LinearRegression()"
   ]
  },
  {
   "cell_type": "code",
   "execution_count": 6,
   "metadata": {},
   "outputs": [
    {
     "data": {
      "text/plain": [
       "LinearRegression()"
      ]
     },
     "execution_count": 6,
     "metadata": {},
     "output_type": "execute_result"
    }
   ],
   "source": [
    "lm.fit(train_X, train_y)"
   ]
  },
  {
   "cell_type": "code",
   "execution_count": 7,
   "metadata": {},
   "outputs": [
    {
     "name": "stdout",
     "output_type": "stream",
     "text": [
      "Feature: 0, Score: 2.26794\n",
      "Feature: 1, Score: 34.09803\n",
      "Feature: 2, Score: 38.83312\n",
      "Feature: 3, Score: -432.28220\n",
      "Feature: 4, Score: -2844.65579\n",
      "Feature: 5, Score: 1107.70140\n",
      "Feature: 6, Score: 2455.55055\n",
      "Feature: 7, Score: -1147.80809\n",
      "Feature: 8, Score: -13876.38343\n",
      "Feature: 9, Score: -24073.88984\n",
      "Feature: 10, Score: -17496.83439\n",
      "Feature: 11, Score: 777.62608\n",
      "Feature: 12, Score: 0.07968\n",
      "Feature: 13, Score: 1.12330\n",
      "Feature: 14, Score: 610.90091\n",
      "Feature: 15, Score: -815.20853\n",
      "Feature: 16, Score: -830.82346\n",
      "Feature: 17, Score: 4813.21516\n",
      "Feature: 18, Score: -8612.77686\n",
      "Feature: 19, Score: -5330.53165\n",
      "Feature: 20, Score: 4858.41917\n",
      "Feature: 21, Score: -5298.17797\n",
      "Feature: 22, Score: -1194.14623\n",
      "Feature: 23, Score: 21.57318\n",
      "Feature: 24, Score: -5643.88396\n",
      "Feature: 25, Score: -3356.99643\n",
      "Feature: 26, Score: -709.17411\n",
      "Feature: 27, Score: 1904.75302\n",
      "Feature: 28, Score: -7100.19394\n",
      "Feature: 29, Score: 17037.57994\n",
      "Feature: 30, Score: 251.57771\n",
      "Feature: 31, Score: 1974.67997\n",
      "Feature: 32, Score: 1527.31392\n",
      "Feature: 33, Score: -862.71401\n",
      "Feature: 34, Score: -39.46829\n",
      "Feature: 35, Score: 2188.91413\n",
      "Feature: 36, Score: 1874.47460\n",
      "Feature: 37, Score: -12724.79640\n",
      "Feature: 38, Score: 293.08918\n",
      "Feature: 39, Score: 6503.20717\n",
      "Feature: 40, Score: -14262.70337\n",
      "Feature: 41, Score: 34385.36445\n",
      "Feature: 42, Score: 8348.64538\n",
      "Feature: 43, Score: 3267.46310\n",
      "Feature: 44, Score: -560.38082\n",
      "Feature: 45, Score: -4789.06445\n",
      "Feature: 46, Score: -4080.26840\n",
      "Feature: 47, Score: 9050.27023\n",
      "Feature: 48, Score: 3800.97139\n",
      "Feature: 49, Score: 5471.91017\n",
      "Feature: 50, Score: -358.42312\n",
      "Feature: 51, Score: 150.66684\n",
      "Feature: 52, Score: -12709.02238\n",
      "Feature: 53, Score: -20234.32652\n",
      "Feature: 54, Score: -220.26281\n",
      "Feature: 55, Score: -2843.84426\n",
      "Feature: 56, Score: -4783.97634\n",
      "Feature: 57, Score: -4544.41084\n",
      "Feature: 58, Score: 843.97085\n",
      "Feature: 59, Score: 5133.21557\n",
      "Feature: 60, Score: 5133.21557\n",
      "Feature: 61, Score: 19.64836\n",
      "Feature: 62, Score: -11.26419\n",
      "Feature: 63, Score: 5104.74617\n",
      "Feature: 64, Score: 2471.89662\n",
      "Feature: 65, Score: 4048.94762\n",
      "Feature: 66, Score: 6827.30451\n",
      "Feature: 67, Score: 15781.78689\n",
      "Feature: 68, Score: -2939.70303\n",
      "Feature: 69, Score: 3092.62344\n",
      "Feature: 70, Score: -2417.81236\n",
      "Feature: 71, Score: -2605.54068\n",
      "Feature: 72, Score: 1266.59728\n",
      "Feature: 73, Score: 2358.92456\n",
      "Feature: 74, Score: 2358.92456\n",
      "Feature: 75, Score: 12.89667\n",
      "Feature: 76, Score: 774.05398\n",
      "Feature: 77, Score: -345.68937\n",
      "Feature: 78, Score: -2265.35497\n",
      "Feature: 79, Score: -3308.35138\n",
      "Feature: 80, Score: -11068.35294\n",
      "Feature: 81, Score: 1228.29599\n",
      "Feature: 82, Score: -6247.61588\n",
      "Feature: 83, Score: -28722.19043\n",
      "Feature: 84, Score: -12110.13536\n",
      "Feature: 85, Score: -8619.44297\n",
      "Feature: 86, Score: -9053.41620\n",
      "Feature: 87, Score: -10558.07276\n",
      "Feature: 88, Score: 7780.23562\n",
      "Feature: 89, Score: -16054.46755\n",
      "Feature: 90, Score: -10580.55927\n",
      "Feature: 91, Score: -4751.85602\n",
      "Feature: 92, Score: -12535.06798\n",
      "Feature: 93, Score: -3724.70591\n",
      "Feature: 94, Score: -8410.01313\n",
      "Feature: 95, Score: -1849.86045\n",
      "Feature: 96, Score: 224.72681\n",
      "Feature: 97, Score: -1503.30453\n",
      "Feature: 98, Score: 1245.51534\n",
      "Feature: 99, Score: 5086.53111\n",
      "Feature: 100, Score: -3392.91587\n",
      "Feature: 101, Score: 16593.18033\n"
     ]
    }
   ],
   "source": [
    "lm_importance = lm.coef_\n",
    "for i,v in enumerate(lm_importance):\n",
    "    print('Feature: %0d, Score: %.5f' % (i,v))"
   ]
  },
  {
   "cell_type": "code",
   "execution_count": 8,
   "metadata": {},
   "outputs": [
    {
     "data": {
      "image/png": "[encoded data removed]",
      "text/plain": [
       "<Figure size 432x288 with 1 Axes>"
      ]
     },
     "metadata": {
      "needs_background": "light"
     },
     "output_type": "display_data"
    }
   ],
   "source": [
    "pyplot.bar([x for x in range(len(lm_importance))], lm_importance, 4)\n",
    "pyplot.show()"
   ]
  },
  {
   "cell_type": "markdown",
   "metadata": {},
   "source": [
    "## Feat Imp w/ Logistic Regression"
   ]
  },
  {
   "cell_type": "code",
   "execution_count": 9,
   "metadata": {},
   "outputs": [
    {
     "name": "stderr",
     "output_type": "stream",
     "text": [
      "/Users/AJ/opt/anaconda3/lib/python3.8/site-packages/sklearn/linear_model/_logistic.py:762: ConvergenceWarning: lbfgs failed to converge (status=1):\n",
      "STOP: TOTAL NO. of ITERATIONS REACHED LIMIT.\n",
      "\n",
      "Increase the number of iterations (max_iter) or scale the data as shown in:\n",
      "    https://scikit-learn.org/stable/modules/preprocessing.html\n",
      "Please also refer to the documentation for alternative solver options:\n",
      "    https://scikit-learn.org/stable/modules/linear_model.html#logistic-regression\n",
      "  n_iter_i = _check_optimize_result(\n"
     ]
    },
    {
     "data": {
      "text/plain": [
       "LogisticRegression(max_iter=1000)"
      ]
     },
     "execution_count": 9,
     "metadata": {},
     "output_type": "execute_result"
    }
   ],
   "source": [
    "logit = LogisticRegression(max_iter=1000)\n",
    "logit.fit(train_X, train_y)"
   ]
  },
  {
   "cell_type": "code",
   "execution_count": 10,
   "metadata": {},
   "outputs": [
    {
     "name": "stdout",
     "output_type": "stream",
     "text": [
      "Feature: 0, Score: -0.00396\n",
      "Feature: 1, Score: -0.00177\n",
      "Feature: 2, Score: -0.00216\n",
      "Feature: 3, Score: -0.00000\n",
      "Feature: 4, Score: -0.00001\n",
      "Feature: 5, Score: -0.00000\n",
      "Feature: 6, Score: -0.00000\n",
      "Feature: 7, Score: -0.00000\n",
      "Feature: 8, Score: -0.00000\n",
      "Feature: 9, Score: -0.00000\n",
      "Feature: 10, Score: -0.00000\n",
      "Feature: 11, Score: -0.00000\n",
      "Feature: 12, Score: 0.00035\n",
      "Feature: 13, Score: 0.00005\n",
      "Feature: 14, Score: -0.00000\n",
      "Feature: 15, Score: -0.00000\n",
      "Feature: 16, Score: -0.00000\n",
      "Feature: 17, Score: -0.00000\n",
      "Feature: 18, Score: -0.00000\n",
      "Feature: 19, Score: -0.00000\n",
      "Feature: 20, Score: -0.00000\n",
      "Feature: 21, Score: -0.00000\n",
      "Feature: 22, Score: -0.00000\n",
      "Feature: 23, Score: -0.00065\n",
      "Feature: 24, Score: -0.00000\n",
      "Feature: 25, Score: -0.00000\n",
      "Feature: 26, Score: -0.00000\n",
      "Feature: 27, Score: -0.00000\n",
      "Feature: 28, Score: 0.00001\n",
      "Feature: 29, Score: -0.00000\n",
      "Feature: 30, Score: -0.00000\n",
      "Feature: 31, Score: -0.00000\n",
      "Feature: 32, Score: -0.00000\n",
      "Feature: 33, Score: 0.00001\n",
      "Feature: 34, Score: -0.00000\n",
      "Feature: 35, Score: -0.00000\n",
      "Feature: 36, Score: -0.00000\n",
      "Feature: 37, Score: -0.00000\n",
      "Feature: 38, Score: 0.00169\n",
      "Feature: 39, Score: -0.00004\n",
      "Feature: 40, Score: 0.00001\n",
      "Feature: 41, Score: -0.00000\n",
      "Feature: 42, Score: -0.00000\n",
      "Feature: 43, Score: -0.00000\n",
      "Feature: 44, Score: -0.00000\n",
      "Feature: 45, Score: 0.00001\n",
      "Feature: 46, Score: -0.00000\n",
      "Feature: 47, Score: -0.00000\n",
      "Feature: 48, Score: -0.00000\n",
      "Feature: 49, Score: -0.00000\n",
      "Feature: 50, Score: 0.00001\n",
      "Feature: 51, Score: 0.00044\n",
      "Feature: 52, Score: -0.00000\n",
      "Feature: 53, Score: -0.00000\n",
      "Feature: 54, Score: -0.00000\n",
      "Feature: 55, Score: 0.00001\n",
      "Feature: 56, Score: -0.00000\n",
      "Feature: 57, Score: -0.00000\n",
      "Feature: 58, Score: -0.00000\n",
      "Feature: 59, Score: -0.00000\n",
      "Feature: 60, Score: -0.00000\n",
      "Feature: 61, Score: -0.00250\n",
      "Feature: 62, Score: 0.00267\n",
      "Feature: 63, Score: -0.00000\n",
      "Feature: 64, Score: -0.00000\n",
      "Feature: 65, Score: -0.00000\n",
      "Feature: 66, Score: -0.00000\n",
      "Feature: 67, Score: -0.00000\n",
      "Feature: 68, Score: -0.00000\n",
      "Feature: 69, Score: 0.00001\n",
      "Feature: 70, Score: -0.00000\n",
      "Feature: 71, Score: 0.00001\n",
      "Feature: 72, Score: 0.00001\n",
      "Feature: 73, Score: -0.00000\n",
      "Feature: 74, Score: -0.00000\n",
      "Feature: 75, Score: 0.00473\n",
      "Feature: 76, Score: 0.00001\n",
      "Feature: 77, Score: -0.00000\n",
      "Feature: 78, Score: -0.00000\n",
      "Feature: 79, Score: -0.00000\n",
      "Feature: 80, Score: -0.00000\n",
      "Feature: 81, Score: -0.00000\n",
      "Feature: 82, Score: -0.00000\n",
      "Feature: 83, Score: -0.00000\n",
      "Feature: 84, Score: -0.00000\n",
      "Feature: 85, Score: -0.00000\n",
      "Feature: 86, Score: -0.00000\n",
      "Feature: 87, Score: -0.00000\n",
      "Feature: 88, Score: -0.00000\n",
      "Feature: 89, Score: -0.00000\n",
      "Feature: 90, Score: 0.00001\n",
      "Feature: 91, Score: -0.00000\n",
      "Feature: 92, Score: -0.00000\n",
      "Feature: 93, Score: -0.00000\n",
      "Feature: 94, Score: -0.00000\n",
      "Feature: 95, Score: 0.00001\n",
      "Feature: 96, Score: -0.00001\n",
      "Feature: 97, Score: -0.00001\n",
      "Feature: 98, Score: -0.00000\n",
      "Feature: 99, Score: 0.00001\n",
      "Feature: 100, Score: 0.00001\n",
      "Feature: 101, Score: -0.00000\n"
     ]
    }
   ],
   "source": [
    "logit_importance = logit.coef_[0]\n",
    "for i,v in enumerate(logit_importance):\n",
    "    print('Feature: %0d, Score: %.5f' % (i,v))"
   ]
  },
  {
   "cell_type": "code",
   "execution_count": 18,
   "metadata": {},
   "outputs": [
    {
     "data": {
      "image/png": "[encoded data removed]",
      "text/plain": [
       "<Figure size 432x288 with 1 Axes>"
      ]
     },
     "metadata": {
      "needs_background": "light"
     },
     "output_type": "display_data"
    }
   ],
   "source": [
    "pyplot.bar([x for x in range(len(logit_importance))], logit_importance, 4)\n",
    "pyplot.show()"
   ]
  },
  {
   "cell_type": "markdown",
   "metadata": {},
   "source": [
    "## Feat Imp w/ Decision Tree"
   ]
  },
  {
   "cell_type": "code",
   "execution_count": 12,
   "metadata": {},
   "outputs": [
    {
     "data": {
      "text/plain": [
       "DecisionTreeRegressor()"
      ]
     },
     "execution_count": 12,
     "metadata": {},
     "output_type": "execute_result"
    }
   ],
   "source": [
    "DT = DecisionTreeRegressor()\n",
    "DT.fit(train_X, train_y)"
   ]
  },
  {
   "cell_type": "code",
   "execution_count": 13,
   "metadata": {},
   "outputs": [
    {
     "name": "stdout",
     "output_type": "stream",
     "text": [
      "Feature: 0, Score: 0.01596\n",
      "Feature: 1, Score: 0.00219\n",
      "Feature: 2, Score: 0.00361\n",
      "Feature: 3, Score: 0.00128\n",
      "Feature: 4, Score: 0.00050\n",
      "Feature: 5, Score: 0.00035\n",
      "Feature: 6, Score: 0.00031\n",
      "Feature: 7, Score: 0.00005\n",
      "Feature: 8, Score: 0.00034\n",
      "Feature: 9, Score: 0.00000\n",
      "Feature: 10, Score: 0.00026\n",
      "Feature: 11, Score: 0.00021\n",
      "Feature: 12, Score: 0.00701\n",
      "Feature: 13, Score: 0.87680\n",
      "Feature: 14, Score: 0.00055\n",
      "Feature: 15, Score: 0.00019\n",
      "Feature: 16, Score: 0.00045\n",
      "Feature: 17, Score: 0.00147\n",
      "Feature: 18, Score: 0.00000\n",
      "Feature: 19, Score: 0.00008\n",
      "Feature: 20, Score: 0.00109\n",
      "Feature: 21, Score: 0.00123\n",
      "Feature: 22, Score: 0.00002\n",
      "Feature: 23, Score: 0.00209\n",
      "Feature: 24, Score: 0.00035\n",
      "Feature: 25, Score: 0.00022\n",
      "Feature: 26, Score: 0.00024\n",
      "Feature: 27, Score: 0.00009\n",
      "Feature: 28, Score: 0.00050\n",
      "Feature: 29, Score: 0.00008\n",
      "Feature: 30, Score: 0.00022\n",
      "Feature: 31, Score: 0.00010\n",
      "Feature: 32, Score: 0.00005\n",
      "Feature: 33, Score: 0.00019\n",
      "Feature: 34, Score: 0.01210\n",
      "Feature: 35, Score: 0.00000\n",
      "Feature: 36, Score: 0.00000\n",
      "Feature: 37, Score: 0.00000\n",
      "Feature: 38, Score: 0.00417\n",
      "Feature: 39, Score: 0.01703\n",
      "Feature: 40, Score: 0.00305\n",
      "Feature: 41, Score: 0.00012\n",
      "Feature: 42, Score: 0.00003\n",
      "Feature: 43, Score: 0.00075\n",
      "Feature: 44, Score: 0.00014\n",
      "Feature: 45, Score: 0.00032\n",
      "Feature: 46, Score: 0.00000\n",
      "Feature: 47, Score: 0.00000\n",
      "Feature: 48, Score: 0.00021\n",
      "Feature: 49, Score: 0.00026\n",
      "Feature: 50, Score: 0.00030\n",
      "Feature: 51, Score: 0.00514\n",
      "Feature: 52, Score: 0.00033\n",
      "Feature: 53, Score: 0.00036\n",
      "Feature: 54, Score: 0.00010\n",
      "Feature: 55, Score: 0.00016\n",
      "Feature: 56, Score: 0.00067\n",
      "Feature: 57, Score: 0.00006\n",
      "Feature: 58, Score: 0.00008\n",
      "Feature: 59, Score: 0.00000\n",
      "Feature: 60, Score: 0.00001\n",
      "Feature: 61, Score: 0.00468\n",
      "Feature: 62, Score: 0.00401\n",
      "Feature: 63, Score: 0.00475\n",
      "Feature: 64, Score: 0.00000\n",
      "Feature: 65, Score: 0.00215\n",
      "Feature: 66, Score: 0.00036\n",
      "Feature: 67, Score: 0.00025\n",
      "Feature: 68, Score: 0.00075\n",
      "Feature: 69, Score: 0.00049\n",
      "Feature: 70, Score: 0.00060\n",
      "Feature: 71, Score: 0.00001\n",
      "Feature: 72, Score: 0.00016\n",
      "Feature: 73, Score: 0.00001\n",
      "Feature: 74, Score: 0.00002\n",
      "Feature: 75, Score: 0.00397\n",
      "Feature: 76, Score: 0.00707\n",
      "Feature: 77, Score: 0.00057\n",
      "Feature: 78, Score: 0.00025\n",
      "Feature: 79, Score: 0.00000\n",
      "Feature: 80, Score: 0.00019\n",
      "Feature: 81, Score: 0.00040\n",
      "Feature: 82, Score: 0.00001\n",
      "Feature: 83, Score: 0.00000\n",
      "Feature: 84, Score: 0.00000\n",
      "Feature: 85, Score: 0.00040\n",
      "Feature: 86, Score: 0.00002\n",
      "Feature: 87, Score: 0.00005\n",
      "Feature: 88, Score: 0.00001\n",
      "Feature: 89, Score: 0.00003\n",
      "Feature: 90, Score: 0.00003\n",
      "Feature: 91, Score: 0.00002\n",
      "Feature: 92, Score: 0.00086\n",
      "Feature: 93, Score: 0.00015\n",
      "Feature: 94, Score: 0.00121\n",
      "Feature: 95, Score: 0.00063\n",
      "Feature: 96, Score: 0.00022\n",
      "Feature: 97, Score: 0.00035\n",
      "Feature: 98, Score: 0.00054\n",
      "Feature: 99, Score: 0.00122\n",
      "Feature: 100, Score: 0.00001\n",
      "Feature: 101, Score: 0.00008\n"
     ]
    }
   ],
   "source": [
    "DT_importance = DT.feature_importances_\n",
    "for i,v in enumerate(DT_importance):\n",
    "    print('Feature: %0d, Score: %.5f' % (i,v))"
   ]
  },
  {
   "cell_type": "code",
   "execution_count": 14,
   "metadata": {},
   "outputs": [
    {
     "data": {
      "text/plain": [
       "<BarContainer object of 102 artists>"
      ]
     },
     "execution_count": 14,
     "metadata": {},
     "output_type": "execute_result"
    },
    {
     "data": {
      "image/png": "[encoded data removed]",
      "text/plain": [
       "<Figure size 432x288 with 1 Axes>"
      ]
     },
     "metadata": {
      "needs_background": "light"
     },
     "output_type": "display_data"
    }
   ],
   "source": [
    "pyplot.bar([x for x in range(len(DT_importance))], DT_importance, 6)"
   ]
  },
  {
   "cell_type": "markdown",
   "metadata": {},
   "source": [
    "## Feat Imp w/ Random Forest"
   ]
  },
  {
   "cell_type": "code",
   "execution_count": 15,
   "metadata": {},
   "outputs": [
    {
     "data": {
      "text/plain": [
       "RandomForestRegressor()"
      ]
     },
     "execution_count": 15,
     "metadata": {},
     "output_type": "execute_result"
    }
   ],
   "source": [
    "randomforest = RandomForestRegressor()\n",
    "randomforest.fit(train_X, train_y)"
   ]
  },
  {
   "cell_type": "code",
   "execution_count": 16,
   "metadata": {},
   "outputs": [
    {
     "name": "stdout",
     "output_type": "stream",
     "text": [
      "Feature: 0, Score: 0.01428\n",
      "Feature: 1, Score: 0.00390\n",
      "Feature: 2, Score: 0.00297\n",
      "Feature: 3, Score: 0.00154\n",
      "Feature: 4, Score: 0.00157\n",
      "Feature: 5, Score: 0.00073\n",
      "Feature: 6, Score: 0.00040\n",
      "Feature: 7, Score: 0.00020\n",
      "Feature: 8, Score: 0.00007\n",
      "Feature: 9, Score: 0.00006\n",
      "Feature: 10, Score: 0.00019\n",
      "Feature: 11, Score: 0.00006\n",
      "Feature: 12, Score: 0.00651\n",
      "Feature: 13, Score: 0.87878\n",
      "Feature: 14, Score: 0.00044\n",
      "Feature: 15, Score: 0.00041\n",
      "Feature: 16, Score: 0.00060\n",
      "Feature: 17, Score: 0.00037\n",
      "Feature: 18, Score: 0.00018\n",
      "Feature: 19, Score: 0.00019\n",
      "Feature: 20, Score: 0.00048\n",
      "Feature: 21, Score: 0.00033\n",
      "Feature: 22, Score: 0.00086\n",
      "Feature: 23, Score: 0.00312\n",
      "Feature: 24, Score: 0.00041\n",
      "Feature: 25, Score: 0.00016\n",
      "Feature: 26, Score: 0.00051\n",
      "Feature: 27, Score: 0.00009\n",
      "Feature: 28, Score: 0.00021\n",
      "Feature: 29, Score: 0.00049\n",
      "Feature: 30, Score: 0.00025\n",
      "Feature: 31, Score: 0.00025\n",
      "Feature: 32, Score: 0.00044\n",
      "Feature: 33, Score: 0.00030\n",
      "Feature: 34, Score: 0.00080\n",
      "Feature: 35, Score: 0.00002\n",
      "Feature: 36, Score: 0.00000\n",
      "Feature: 37, Score: 0.00000\n",
      "Feature: 38, Score: 0.00723\n",
      "Feature: 39, Score: 0.01700\n",
      "Feature: 40, Score: 0.00213\n",
      "Feature: 41, Score: 0.00187\n",
      "Feature: 42, Score: 0.00013\n",
      "Feature: 43, Score: 0.00069\n",
      "Feature: 44, Score: 0.00029\n",
      "Feature: 45, Score: 0.00084\n",
      "Feature: 46, Score: 0.00021\n",
      "Feature: 47, Score: 0.00016\n",
      "Feature: 48, Score: 0.00078\n",
      "Feature: 49, Score: 0.00007\n",
      "Feature: 50, Score: 0.00027\n",
      "Feature: 51, Score: 0.00178\n",
      "Feature: 52, Score: 0.00031\n",
      "Feature: 53, Score: 0.00082\n",
      "Feature: 54, Score: 0.00004\n",
      "Feature: 55, Score: 0.00111\n",
      "Feature: 56, Score: 0.00043\n",
      "Feature: 57, Score: 0.00006\n",
      "Feature: 58, Score: 0.00017\n",
      "Feature: 59, Score: 0.00021\n",
      "Feature: 60, Score: 0.00026\n",
      "Feature: 61, Score: 0.01145\n",
      "Feature: 62, Score: 0.00481\n",
      "Feature: 63, Score: 0.00281\n",
      "Feature: 64, Score: 0.00019\n",
      "Feature: 65, Score: 0.00133\n",
      "Feature: 66, Score: 0.00039\n",
      "Feature: 67, Score: 0.00037\n",
      "Feature: 68, Score: 0.00035\n",
      "Feature: 69, Score: 0.00030\n",
      "Feature: 70, Score: 0.00027\n",
      "Feature: 71, Score: 0.00008\n",
      "Feature: 72, Score: 0.00027\n",
      "Feature: 73, Score: 0.00008\n",
      "Feature: 74, Score: 0.00007\n",
      "Feature: 75, Score: 0.00653\n",
      "Feature: 76, Score: 0.00069\n",
      "Feature: 77, Score: 0.00037\n",
      "Feature: 78, Score: 0.00026\n",
      "Feature: 79, Score: 0.00014\n",
      "Feature: 80, Score: 0.00012\n",
      "Feature: 81, Score: 0.00059\n",
      "Feature: 82, Score: 0.00028\n",
      "Feature: 83, Score: 0.00004\n",
      "Feature: 84, Score: 0.00019\n",
      "Feature: 85, Score: 0.00025\n",
      "Feature: 86, Score: 0.00027\n",
      "Feature: 87, Score: 0.00018\n",
      "Feature: 88, Score: 0.00004\n",
      "Feature: 89, Score: 0.00017\n",
      "Feature: 90, Score: 0.00011\n",
      "Feature: 91, Score: 0.00006\n",
      "Feature: 92, Score: 0.00034\n",
      "Feature: 93, Score: 0.00010\n",
      "Feature: 94, Score: 0.00056\n",
      "Feature: 95, Score: 0.00241\n",
      "Feature: 96, Score: 0.00038\n",
      "Feature: 97, Score: 0.00034\n",
      "Feature: 98, Score: 0.00102\n",
      "Feature: 99, Score: 0.00082\n",
      "Feature: 100, Score: 0.00171\n",
      "Feature: 101, Score: 0.00023\n"
     ]
    }
   ],
   "source": [
    "randomforest_importance = randomforest.feature_importances_\n",
    "for i,v in enumerate(randomforest_importance):\n",
    "    print('Feature: %0d, Score: %.5f' % (i,v))"
   ]
  },
  {
   "cell_type": "code",
   "execution_count": 17,
   "metadata": {},
   "outputs": [
    {
     "data": {
      "text/plain": [
       "<BarContainer object of 102 artists>"
      ]
     },
     "execution_count": 17,
     "metadata": {},
     "output_type": "execute_result"
    },
    {
     "data": {
      "image/png": "[encoded data removed]",
      "text/plain": [
       "<Figure size 432x288 with 1 Axes>"
      ]
     },
     "metadata": {
      "needs_background": "light"
     },
     "output_type": "display_data"
    }
   ],
   "source": [
    "pyplot.bar([x for x in randomforest_importance], randomforest_importance, .03)"
   ]
  },
  {
   "cell_type": "code",
   "execution_count": null,
   "metadata": {},
   "outputs": [],
   "source": []
  }
 ],
 "metadata": {
  "kernelspec": {
   "display_name": "Python 3",
   "language": "python",
   "name": "python3"
  },
  "language_info": {
   "codemirror_mode": {
    "name": "ipython",
    "version": 3
   },
   "file_extension": ".py",
   "mimetype": "text/x-python",
   "name": "python",
   "nbconvert_exporter": "python",
   "pygments_lexer": "ipython3",
   "version": "3.8.5"
  }
 },
 "nbformat": 4,
 "nbformat_minor": 4
}
