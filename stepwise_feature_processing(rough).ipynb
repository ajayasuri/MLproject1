{
 "cells": [
  {
   "cell_type": "markdown",
   "id": "b71f0536",
   "metadata": {},
   "source": [
    "This notebook will be where we process the columns for our regression model into the best form of themselves."
   ]
  },
  {
   "cell_type": "markdown",
   "id": "d8a9acfa",
   "metadata": {},
   "source": [
    "First, I need to test whether Boolean Remodel or years between build and remodel has more info I will run two regressions, one with each, and keep the column that yields the slightly higher one."
   ]
  },
  {
   "cell_type": "code",
   "execution_count": 2,
   "id": "77798602",
   "metadata": {},
   "outputs": [],
   "source": [
    "import numpy as np\n",
    "import pandas as pd\n",
    "from sklearn.linear_model import LinearRegression"
   ]
  },
  {
   "cell_type": "code",
   "execution_count": 4,
   "id": "02eaa8ce",
   "metadata": {},
   "outputs": [],
   "source": [
    "data=pd.read_csv('RowFiltered_dummied_data_TRAIN.csv')"
   ]
  },
  {
   "cell_type": "code",
   "execution_count": 5,
   "id": "cc118931",
   "metadata": {},
   "outputs": [],
   "source": [
    "binary_X = data.drop('SalePrice', axis=1).drop('RemodelYrsAftBuilt', axis=1)\n",
    "YrsAfter_X = data.drop('SalePrice', axis=1).drop('Remodeled', axis=1)\n",
    "y = data['SalePrice']"
   ]
  },
  {
   "cell_type": "code",
   "execution_count": 8,
   "id": "77ad30a7",
   "metadata": {},
   "outputs": [],
   "source": [
    "ols=LinearRegression()"
   ]
  },
  {
   "cell_type": "code",
   "execution_count": 9,
   "id": "5a95cc39",
   "metadata": {},
   "outputs": [
    {
     "data": {
      "text/plain": [
       "0.9398718274845993"
      ]
     },
     "execution_count": 9,
     "metadata": {},
     "output_type": "execute_result"
    }
   ],
   "source": [
    "# Including only Binary remodeled column.\n",
    "ols.fit(binary_X, y)\n",
    "ols.score(binary_X, y)"
   ]
  },
  {
   "cell_type": "code",
   "execution_count": 10,
   "id": "344c3b1a",
   "metadata": {},
   "outputs": [
    {
     "data": {
      "text/plain": [
       "0.9404867901276911"
      ]
     },
     "execution_count": 10,
     "metadata": {},
     "output_type": "execute_result"
    }
   ],
   "source": [
    "# Including only RemodelYrsAftBuilt column\n",
    "ols.fit(YrsAfter_X, y)\n",
    "ols.score(YrsAfter_X, y)"
   ]
  },
  {
   "cell_type": "markdown",
   "id": "993a78ca",
   "metadata": {},
   "source": [
    "YrsAfter gives a better $R^2$. Now, lets make sure its multicollinearity with the other columns is of a manageable level."
   ]
  },
  {
   "cell_type": "code",
   "execution_count": 11,
   "id": "b0462bab",
   "metadata": {},
   "outputs": [
    {
     "data": {
      "text/plain": [
       "0.7373052059575511"
      ]
     },
     "execution_count": 11,
     "metadata": {},
     "output_type": "execute_result"
    }
   ],
   "source": [
    "# To test the YrsAfter column:\n",
    "y = data['RemodelYrsAftBuilt']\n",
    "colX = YrsAfter_X = data.drop('SalePrice', axis=1).drop('Remodeled', axis=1).drop('RemodelYrsAftBuilt', axis=1)\n",
    "ols.fit(colX, y)\n",
    "ols.score(colX, y)"
   ]
  },
  {
   "cell_type": "markdown",
   "id": "97ac82b7",
   "metadata": {},
   "source": [
    "It is very multicollinear, disappointing. Lets check what it was WITH the boolean column, to see if we at least reduce it by eliminating the boolean."
   ]
  },
  {
   "cell_type": "code",
   "execution_count": 12,
   "id": "00a9dd32",
   "metadata": {},
   "outputs": [
    {
     "data": {
      "text/plain": [
       "0.773157050029327"
      ]
     },
     "execution_count": 12,
     "metadata": {},
     "output_type": "execute_result"
    }
   ],
   "source": [
    "# To test the YrsAfter column:\n",
    "y = data['RemodelYrsAftBuilt']\n",
    "colX = YrsAfter_X = data.drop('SalePrice', axis=1).drop('RemodelYrsAftBuilt', axis=1)\n",
    "ols.fit(colX, y)\n",
    "ols.score(colX, y)"
   ]
  },
  {
   "cell_type": "markdown",
   "id": "147fa330",
   "metadata": {},
   "source": [
    "Yeah, thats a pretty decent reduction in multicollinearity from the removal of just one column in 100. Going forward we will use the RemodelYrsAftBuilt column."
   ]
  },
  {
   "cell_type": "markdown",
   "id": "41854abb",
   "metadata": {},
   "source": [
    "## Feature Importance for LndAc_S"
   ]
  },
  {
   "cell_type": "code",
   "execution_count": 15,
   "id": "52a18682",
   "metadata": {},
   "outputs": [],
   "source": [
    "train = data.copy()\n",
    "test = pd.read_csv('RowFiltered_dummied_data_TEST.csv')\n",
    "\n",
    "trainX = train.drop('SalePrice', axis=1)\n",
    "train_y = train['SalePrice']\n",
    "testX = test.drop('SalePrice', axis=1)\n",
    "test_y = test['SalePrice']\n",
    "\n"
   ]
  },
  {
   "cell_type": "code",
   "execution_count": 16,
   "id": "7c01723a",
   "metadata": {},
   "outputs": [
    {
     "ename": "NameError",
     "evalue": "name 'lasso' is not defined",
     "output_type": "error",
     "traceback": [
      "\u001b[1;31m---------------------------------------------------------------------------\u001b[0m",
      "\u001b[1;31mNameError\u001b[0m                                 Traceback (most recent call last)",
      "\u001b[1;32m<ipython-input-16-6badf23e6a04>\u001b[0m in \u001b[0;36m<module>\u001b[1;34m\u001b[0m\n\u001b[0;32m      7\u001b[0m \u001b[0mdata_trainxsubsetR\u001b[0m \u001b[1;33m=\u001b[0m \u001b[0mtrainX\u001b[0m\u001b[1;33m[\u001b[0m\u001b[0mrcols\u001b[0m\u001b[1;33m]\u001b[0m\u001b[1;33m\u001b[0m\u001b[1;33m\u001b[0m\u001b[0m\n\u001b[0;32m      8\u001b[0m \u001b[0mdata_testxsubsetR\u001b[0m \u001b[1;33m=\u001b[0m \u001b[0mtestX\u001b[0m\u001b[1;33m[\u001b[0m\u001b[0mrcols\u001b[0m\u001b[1;33m]\u001b[0m\u001b[1;33m\u001b[0m\u001b[1;33m\u001b[0m\u001b[0m\n\u001b[1;32m----> 9\u001b[1;33m \u001b[0mlasso\u001b[0m\u001b[1;33m.\u001b[0m\u001b[0mset_params\u001b[0m\u001b[1;33m(\u001b[0m\u001b[0malpha\u001b[0m\u001b[1;33m=\u001b[0m\u001b[1;36m0\u001b[0m\u001b[1;33m)\u001b[0m\u001b[1;33m\u001b[0m\u001b[1;33m\u001b[0m\u001b[0m\n\u001b[0m\u001b[0;32m     10\u001b[0m \u001b[0mlasso\u001b[0m\u001b[1;33m.\u001b[0m\u001b[0mfit\u001b[0m\u001b[1;33m(\u001b[0m\u001b[0mdata_trainxsubsetR\u001b[0m\u001b[1;33m,\u001b[0m \u001b[0mtrain_y\u001b[0m\u001b[1;33m)\u001b[0m\u001b[1;33m\u001b[0m\u001b[1;33m\u001b[0m\u001b[0m\n\u001b[0;32m     11\u001b[0m \u001b[1;33m(\u001b[0m\u001b[0mlasso\u001b[0m\u001b[1;33m.\u001b[0m\u001b[0mscore\u001b[0m\u001b[1;33m(\u001b[0m\u001b[0mdata_trainxsubsetR\u001b[0m\u001b[1;33m,\u001b[0m \u001b[0mtrain_y\u001b[0m\u001b[1;33m)\u001b[0m\u001b[1;33m)\u001b[0m\u001b[1;33m\u001b[0m\u001b[1;33m\u001b[0m\u001b[0m\n",
      "\u001b[1;31mNameError\u001b[0m: name 'lasso' is not defined"
     ]
    }
   ],
   "source": [
    "rcols=[\"MasVnrType_BrkFace\" ,  \"Foundation_Stone\" ,    \"Exterior1st_AsbShng\" , \"LotArea\"             \n",
    " , \"Fireplaces\"    ,       \"HeatingQC_TA\"     ,    \"Exterior1st_BrkFace\",  \"Foundation_Wood\"     \n",
    " , \"Condition1_Artery\" ,   \"BsmtFinGdLvng\"    ,    \"Functional_Min\" ,      \"Neighborhood_NoRidge\"\n",
    ",\"ExterQual_Gd\"     ,    \"BsmtExposure\"       ,  \"KitchenQual_Ex\"  ,     \"BsmtQual_Ex\"         \n",
    ",\"Functional_Maj\"    ,   \"OverallCondBinary\"  ,  \"OverallQual\"  ,        \"ExterQual_Ex\"        \n",
    ",\"TotalBsmtSF\"   ,       \"BsmtUnfSF\"         ,   \"GrLivArea\"      ,      \"LndAc_S\" ]\n",
    "data_trainxsubsetR = trainX[rcols]\n",
    "data_testxsubsetR = testX[rcols]\n",
    "lasso.set_params(alpha=0)\n",
    "lasso.fit(data_trainxsubsetR, train_y) \n",
    "(lasso.score(data_trainxsubsetR, train_y))\n",
    "(lasso.score(data_testxsubsetR, test_y))"
   ]
  },
  {
   "cell_type": "code",
   "execution_count": 38,
   "id": "0c8c14ad",
   "metadata": {},
   "outputs": [
    {
     "data": {
      "text/html": [
       "<div>\n",
       "<style scoped>\n",
       "    .dataframe tbody tr th:only-of-type {\n",
       "        vertical-align: middle;\n",
       "    }\n",
       "\n",
       "    .dataframe tbody tr th {\n",
       "        vertical-align: top;\n",
       "    }\n",
       "\n",
       "    .dataframe thead th {\n",
       "        text-align: right;\n",
       "    }\n",
       "</style>\n",
       "<table border=\"1\" class=\"dataframe\">\n",
       "  <thead>\n",
       "    <tr style=\"text-align: right;\">\n",
       "      <th></th>\n",
       "      <th>Prediction</th>\n",
       "      <th>Lower Bound Avrg MSE</th>\n",
       "      <th>Upper Bound Avrg MSE</th>\n",
       "      <th>Lower Bound 95%CI</th>\n",
       "      <th>Upper Bound 95%CI</th>\n",
       "    </tr>\n",
       "  </thead>\n",
       "  <tbody>\n",
       "    <tr>\n",
       "      <th>0</th>\n",
       "      <td>184309.285059</td>\n",
       "      <td>166235.193957</td>\n",
       "      <td>202383.376160</td>\n",
       "      <td>146981.385892</td>\n",
       "      <td>221637.184225</td>\n",
       "    </tr>\n",
       "    <tr>\n",
       "      <th>1</th>\n",
       "      <td>99041.798399</td>\n",
       "      <td>82747.133475</td>\n",
       "      <td>115336.463323</td>\n",
       "      <td>61713.899233</td>\n",
       "      <td>136369.697566</td>\n",
       "    </tr>\n",
       "    <tr>\n",
       "      <th>2</th>\n",
       "      <td>147320.847727</td>\n",
       "      <td>132906.633827</td>\n",
       "      <td>161735.061628</td>\n",
       "      <td>109992.948561</td>\n",
       "      <td>184648.746894</td>\n",
       "    </tr>\n",
       "    <tr>\n",
       "      <th>3</th>\n",
       "      <td>474512.155522</td>\n",
       "      <td>406208.080981</td>\n",
       "      <td>542816.230063</td>\n",
       "      <td>437184.256355</td>\n",
       "      <td>511840.054689</td>\n",
       "    </tr>\n",
       "    <tr>\n",
       "      <th>4</th>\n",
       "      <td>233961.230350</td>\n",
       "      <td>212964.612631</td>\n",
       "      <td>254957.848070</td>\n",
       "      <td>196633.331184</td>\n",
       "      <td>271289.129517</td>\n",
       "    </tr>\n",
       "    <tr>\n",
       "      <th>...</th>\n",
       "      <td>...</td>\n",
       "      <td>...</td>\n",
       "      <td>...</td>\n",
       "      <td>...</td>\n",
       "      <td>...</td>\n",
       "    </tr>\n",
       "    <tr>\n",
       "      <th>847</th>\n",
       "      <td>94210.793085</td>\n",
       "      <td>77622.605814</td>\n",
       "      <td>110798.980356</td>\n",
       "      <td>56882.893919</td>\n",
       "      <td>131538.692252</td>\n",
       "    </tr>\n",
       "    <tr>\n",
       "      <th>848</th>\n",
       "      <td>98800.174745</td>\n",
       "      <td>82535.340102</td>\n",
       "      <td>115065.009389</td>\n",
       "      <td>61472.275579</td>\n",
       "      <td>136128.073912</td>\n",
       "    </tr>\n",
       "    <tr>\n",
       "      <th>849</th>\n",
       "      <td>140156.412143</td>\n",
       "      <td>126155.747498</td>\n",
       "      <td>154157.076789</td>\n",
       "      <td>102828.512977</td>\n",
       "      <td>177484.311310</td>\n",
       "    </tr>\n",
       "    <tr>\n",
       "      <th>850</th>\n",
       "      <td>138329.659243</td>\n",
       "      <td>124252.033517</td>\n",
       "      <td>152407.284969</td>\n",
       "      <td>101001.760077</td>\n",
       "      <td>175657.558410</td>\n",
       "    </tr>\n",
       "    <tr>\n",
       "      <th>851</th>\n",
       "      <td>59832.835069</td>\n",
       "      <td>45831.177359</td>\n",
       "      <td>73834.492778</td>\n",
       "      <td>22504.935902</td>\n",
       "      <td>97160.734235</td>\n",
       "    </tr>\n",
       "  </tbody>\n",
       "</table>\n",
       "<p>852 rows × 5 columns</p>\n",
       "</div>"
      ],
      "text/plain": [
       "        Prediction  Lower Bound Avrg MSE  Upper Bound Avrg MSE  \\\n",
       "0    184309.285059         166235.193957         202383.376160   \n",
       "1     99041.798399          82747.133475         115336.463323   \n",
       "2    147320.847727         132906.633827         161735.061628   \n",
       "3    474512.155522         406208.080981         542816.230063   \n",
       "4    233961.230350         212964.612631         254957.848070   \n",
       "..             ...                   ...                   ...   \n",
       "847   94210.793085          77622.605814         110798.980356   \n",
       "848   98800.174745          82535.340102         115065.009389   \n",
       "849  140156.412143         126155.747498         154157.076789   \n",
       "850  138329.659243         124252.033517         152407.284969   \n",
       "851   59832.835069          45831.177359          73834.492778   \n",
       "\n",
       "     Lower Bound 95%CI  Upper Bound 95%CI  \n",
       "0        146981.385892      221637.184225  \n",
       "1         61713.899233      136369.697566  \n",
       "2        109992.948561      184648.746894  \n",
       "3        437184.256355      511840.054689  \n",
       "4        196633.331184      271289.129517  \n",
       "..                 ...                ...  \n",
       "847       56882.893919      131538.692252  \n",
       "848       61472.275579      136128.073912  \n",
       "849      102828.512977      177484.311310  \n",
       "850      101001.760077      175657.558410  \n",
       "851       22504.935902       97160.734235  \n",
       "\n",
       "[852 rows x 5 columns]"
      ]
     },
     "execution_count": 38,
     "metadata": {},
     "output_type": "execute_result"
    }
   ],
   "source": [
    "stdev = np.sqrt(sum((lasso.predict(data_trainxsubsetR) - data_trainy)**2) / (len(data_trainy) - 2))\n",
    "predictiondf=pd.DataFrame({'Prediction': lasso.predict(data_testxsubsetR), 'Lower Bound 95%CI': lasso.predict(data_testxsubsetR)- 1.96*stdev,'Upper Bound 95%CI':lasso.predict(data_testxsubsetR)+ 1.96*stdev})\n",
    "\n",
    "actualpredictions=lasso.predict(data_trainxsubsetR)\n",
    "# finding avrg mse for prediction in +-10% price range\n",
    "avrgmseperpredict=predictiondf.Prediction.apply(lambda x: mseprediction(x, actualpredictions, data_trainy))\n",
    "\n",
    "predictiondf=pd.DataFrame({'Prediction': lasso.predict(data_testxsubsetR),'Lower Bound Avrg MSE':-avrgmseperpredict+ lasso.predict(data_testxsubsetR),'Upper Bound Avrg MSE':avrgmseperpredict+ lasso.predict(data_testxsubsetR),'Lower Bound 95%CI': lasso.predict(data_testxsubsetR)- 1.96*stdev,'Upper Bound 95%CI':lasso.predict(data_testxsubsetR)+ 1.96*stdev})\n",
    "\n",
    "predictiondf\n",
    "\n",
    "\n"
   ]
  },
  {
   "cell_type": "code",
   "execution_count": null,
   "id": "2b2faf77",
   "metadata": {},
   "outputs": [],
   "source": []
  }
 ],
 "metadata": {
  "kernelspec": {
   "display_name": "Python 3",
   "language": "python",
   "name": "python3"
  },
  "language_info": {
   "codemirror_mode": {
    "name": "ipython",
    "version": 3
   },
   "file_extension": ".py",
   "mimetype": "text/x-python",
   "name": "python",
   "nbconvert_exporter": "python",
   "pygments_lexer": "ipython3",
   "version": "3.8.8"
  }
 },
 "nbformat": 4,
 "nbformat_minor": 5
}
