{
 "cells": [
  {
   "cell_type": "markdown",
   "metadata": {},
   "source": [
    "Notespace:\n",
    "-Ryan: We should discuss the BuildingType and the MSSubClass columns. They give us almost the same info. Need to figure out what to do as a team. **Keeping, but pay attention to them**\n",
    "\n",
    "Names brainstorming for datasets.\n",
    "\n",
    "Dummified - initial_dummied_data.csv\n",
    "\n",
    "Smartified - initial_condensed_data.csv"
   ]
  },
  {
   "cell_type": "code",
   "execution_count": 1,
   "metadata": {},
   "outputs": [],
   "source": [
    "import numpy as np\n",
    "import pandas as pd\n",
    "import matplotlib.pyplot as plt\n",
    "import seaborn as sns\n",
    "from sklearn.model_selection import train_test_split"
   ]
  },
  {
   "cell_type": "code",
   "execution_count": 2,
   "metadata": {},
   "outputs": [],
   "source": [
    "data = pd.read_csv('merge_data_update.csv', index_col=0)"
   ]
  },
  {
   "cell_type": "code",
   "execution_count": 3,
   "metadata": {},
   "outputs": [],
   "source": [
    "tdata = data.copy()"
   ]
  },
  {
   "cell_type": "code",
   "execution_count": 4,
   "metadata": {},
   "outputs": [
    {
     "data": {
      "text/html": [
       "<div>\n",
       "<style scoped>\n",
       "    .dataframe tbody tr th:only-of-type {\n",
       "        vertical-align: middle;\n",
       "    }\n",
       "\n",
       "    .dataframe tbody tr th {\n",
       "        vertical-align: top;\n",
       "    }\n",
       "\n",
       "    .dataframe thead th {\n",
       "        text-align: right;\n",
       "    }\n",
       "</style>\n",
       "<table border=\"1\" class=\"dataframe\">\n",
       "  <thead>\n",
       "    <tr style=\"text-align: right;\">\n",
       "      <th></th>\n",
       "      <th>PID</th>\n",
       "      <th>GrLivArea</th>\n",
       "      <th>SalePrice</th>\n",
       "      <th>MSSubClass</th>\n",
       "      <th>MSZoning</th>\n",
       "      <th>LotFrontage</th>\n",
       "      <th>LotArea</th>\n",
       "      <th>Street</th>\n",
       "      <th>Alley</th>\n",
       "      <th>LotShape</th>\n",
       "      <th>...</th>\n",
       "      <th>ClassPr_S</th>\n",
       "      <th>ClassSc_S</th>\n",
       "      <th>SchD_S</th>\n",
       "      <th>TxD_S</th>\n",
       "      <th>LndAc_S</th>\n",
       "      <th>ImpAc_S</th>\n",
       "      <th>OthAc_S</th>\n",
       "      <th>HSTtl_D</th>\n",
       "      <th>HSTtl_S</th>\n",
       "      <th>GLA</th>\n",
       "    </tr>\n",
       "  </thead>\n",
       "  <tbody>\n",
       "    <tr>\n",
       "      <th>0</th>\n",
       "      <td>909176150</td>\n",
       "      <td>856</td>\n",
       "      <td>126000</td>\n",
       "      <td>30</td>\n",
       "      <td>RL</td>\n",
       "      <td>NaN</td>\n",
       "      <td>7890</td>\n",
       "      <td>Pave</td>\n",
       "      <td>NaN</td>\n",
       "      <td>Reg</td>\n",
       "      <td>...</td>\n",
       "      <td>RESIDENTIAL</td>\n",
       "      <td>1-STORY 1945 &amp; OLDER</td>\n",
       "      <td>1.0</td>\n",
       "      <td>1.0</td>\n",
       "      <td>37300.0</td>\n",
       "      <td>0.0</td>\n",
       "      <td>111700.0</td>\n",
       "      <td>NaN</td>\n",
       "      <td>NaN</td>\n",
       "      <td>856.0</td>\n",
       "    </tr>\n",
       "    <tr>\n",
       "      <th>1</th>\n",
       "      <td>905476230</td>\n",
       "      <td>1049</td>\n",
       "      <td>139500</td>\n",
       "      <td>120</td>\n",
       "      <td>RL</td>\n",
       "      <td>42.0</td>\n",
       "      <td>4235</td>\n",
       "      <td>Pave</td>\n",
       "      <td>NaN</td>\n",
       "      <td>Reg</td>\n",
       "      <td>...</td>\n",
       "      <td>RESIDENTIAL</td>\n",
       "      <td>1-STORY TWNHM - 1946 &amp; NEWER</td>\n",
       "      <td>1.0</td>\n",
       "      <td>1.0</td>\n",
       "      <td>43500.0</td>\n",
       "      <td>0.0</td>\n",
       "      <td>130600.0</td>\n",
       "      <td>NaN</td>\n",
       "      <td>NaN</td>\n",
       "      <td>1049.0</td>\n",
       "    </tr>\n",
       "    <tr>\n",
       "      <th>2</th>\n",
       "      <td>911128020</td>\n",
       "      <td>1001</td>\n",
       "      <td>124900</td>\n",
       "      <td>30</td>\n",
       "      <td>C (all)</td>\n",
       "      <td>60.0</td>\n",
       "      <td>6060</td>\n",
       "      <td>Pave</td>\n",
       "      <td>NaN</td>\n",
       "      <td>Reg</td>\n",
       "      <td>...</td>\n",
       "      <td>RESIDENTIAL</td>\n",
       "      <td>1-STORY 1945 &amp; OLDER</td>\n",
       "      <td>1.0</td>\n",
       "      <td>1.0</td>\n",
       "      <td>41100.0</td>\n",
       "      <td>0.0</td>\n",
       "      <td>123200.0</td>\n",
       "      <td>NaN</td>\n",
       "      <td>NaN</td>\n",
       "      <td>1001.0</td>\n",
       "    </tr>\n",
       "    <tr>\n",
       "      <th>3</th>\n",
       "      <td>535377150</td>\n",
       "      <td>1039</td>\n",
       "      <td>114000</td>\n",
       "      <td>70</td>\n",
       "      <td>RL</td>\n",
       "      <td>80.0</td>\n",
       "      <td>8146</td>\n",
       "      <td>Pave</td>\n",
       "      <td>NaN</td>\n",
       "      <td>Reg</td>\n",
       "      <td>...</td>\n",
       "      <td>RESIDENTIAL</td>\n",
       "      <td>2-STORY 1945 &amp; OLDER</td>\n",
       "      <td>1.0</td>\n",
       "      <td>1.0</td>\n",
       "      <td>31100.0</td>\n",
       "      <td>0.0</td>\n",
       "      <td>93300.0</td>\n",
       "      <td>NaN</td>\n",
       "      <td>4850.0</td>\n",
       "      <td>1039.0</td>\n",
       "    </tr>\n",
       "    <tr>\n",
       "      <th>4</th>\n",
       "      <td>534177230</td>\n",
       "      <td>1665</td>\n",
       "      <td>227000</td>\n",
       "      <td>60</td>\n",
       "      <td>RL</td>\n",
       "      <td>70.0</td>\n",
       "      <td>8400</td>\n",
       "      <td>Pave</td>\n",
       "      <td>NaN</td>\n",
       "      <td>Reg</td>\n",
       "      <td>...</td>\n",
       "      <td>RESIDENTIAL</td>\n",
       "      <td>2-STORY 1946 &amp; NEWER</td>\n",
       "      <td>1.0</td>\n",
       "      <td>1.0</td>\n",
       "      <td>64300.0</td>\n",
       "      <td>0.0</td>\n",
       "      <td>192800.0</td>\n",
       "      <td>NaN</td>\n",
       "      <td>NaN</td>\n",
       "      <td>1665.0</td>\n",
       "    </tr>\n",
       "    <tr>\n",
       "      <th>...</th>\n",
       "      <td>...</td>\n",
       "      <td>...</td>\n",
       "      <td>...</td>\n",
       "      <td>...</td>\n",
       "      <td>...</td>\n",
       "      <td>...</td>\n",
       "      <td>...</td>\n",
       "      <td>...</td>\n",
       "      <td>...</td>\n",
       "      <td>...</td>\n",
       "      <td>...</td>\n",
       "      <td>...</td>\n",
       "      <td>...</td>\n",
       "      <td>...</td>\n",
       "      <td>...</td>\n",
       "      <td>...</td>\n",
       "      <td>...</td>\n",
       "      <td>...</td>\n",
       "      <td>...</td>\n",
       "      <td>...</td>\n",
       "      <td>...</td>\n",
       "    </tr>\n",
       "    <tr>\n",
       "      <th>2575</th>\n",
       "      <td>903205040</td>\n",
       "      <td>952</td>\n",
       "      <td>121000</td>\n",
       "      <td>30</td>\n",
       "      <td>RL</td>\n",
       "      <td>NaN</td>\n",
       "      <td>8854</td>\n",
       "      <td>Pave</td>\n",
       "      <td>NaN</td>\n",
       "      <td>Reg</td>\n",
       "      <td>...</td>\n",
       "      <td>RESIDENTIAL</td>\n",
       "      <td>1-STORY 1945 &amp; OLDER</td>\n",
       "      <td>1.0</td>\n",
       "      <td>1.0</td>\n",
       "      <td>34600.0</td>\n",
       "      <td>0.0</td>\n",
       "      <td>103900.0</td>\n",
       "      <td>4850.0</td>\n",
       "      <td>4850.0</td>\n",
       "      <td>952.0</td>\n",
       "    </tr>\n",
       "    <tr>\n",
       "      <th>2576</th>\n",
       "      <td>905402060</td>\n",
       "      <td>1733</td>\n",
       "      <td>139600</td>\n",
       "      <td>20</td>\n",
       "      <td>RL</td>\n",
       "      <td>NaN</td>\n",
       "      <td>13680</td>\n",
       "      <td>Pave</td>\n",
       "      <td>NaN</td>\n",
       "      <td>IR1</td>\n",
       "      <td>...</td>\n",
       "      <td>RESIDENTIAL</td>\n",
       "      <td>1-STORY 1946 &amp; NEWER ALL STYLES</td>\n",
       "      <td>1.0</td>\n",
       "      <td>1.0</td>\n",
       "      <td>46300.0</td>\n",
       "      <td>0.0</td>\n",
       "      <td>138800.0</td>\n",
       "      <td>NaN</td>\n",
       "      <td>NaN</td>\n",
       "      <td>1733.0</td>\n",
       "    </tr>\n",
       "    <tr>\n",
       "      <th>2577</th>\n",
       "      <td>909275030</td>\n",
       "      <td>2002</td>\n",
       "      <td>145000</td>\n",
       "      <td>90</td>\n",
       "      <td>RH</td>\n",
       "      <td>82.0</td>\n",
       "      <td>6270</td>\n",
       "      <td>Pave</td>\n",
       "      <td>NaN</td>\n",
       "      <td>Reg</td>\n",
       "      <td>...</td>\n",
       "      <td>RESIDENTIAL</td>\n",
       "      <td>DUPLEX - ALL STYLES AND AGES</td>\n",
       "      <td>1.0</td>\n",
       "      <td>1.0</td>\n",
       "      <td>45800.0</td>\n",
       "      <td>0.0</td>\n",
       "      <td>137400.0</td>\n",
       "      <td>NaN</td>\n",
       "      <td>NaN</td>\n",
       "      <td>2002.0</td>\n",
       "    </tr>\n",
       "    <tr>\n",
       "      <th>2578</th>\n",
       "      <td>907192040</td>\n",
       "      <td>1842</td>\n",
       "      <td>217500</td>\n",
       "      <td>60</td>\n",
       "      <td>RL</td>\n",
       "      <td>NaN</td>\n",
       "      <td>8826</td>\n",
       "      <td>Pave</td>\n",
       "      <td>NaN</td>\n",
       "      <td>Reg</td>\n",
       "      <td>...</td>\n",
       "      <td>RESIDENTIAL</td>\n",
       "      <td>2-STORY 1946 &amp; NEWER</td>\n",
       "      <td>1.0</td>\n",
       "      <td>1.0</td>\n",
       "      <td>66300.0</td>\n",
       "      <td>0.0</td>\n",
       "      <td>198900.0</td>\n",
       "      <td>4850.0</td>\n",
       "      <td>4850.0</td>\n",
       "      <td>1842.0</td>\n",
       "    </tr>\n",
       "    <tr>\n",
       "      <th>2579</th>\n",
       "      <td>906223180</td>\n",
       "      <td>1911</td>\n",
       "      <td>215000</td>\n",
       "      <td>60</td>\n",
       "      <td>RL</td>\n",
       "      <td>80.0</td>\n",
       "      <td>9554</td>\n",
       "      <td>Pave</td>\n",
       "      <td>NaN</td>\n",
       "      <td>IR1</td>\n",
       "      <td>...</td>\n",
       "      <td>RESIDENTIAL</td>\n",
       "      <td>2-STORY 1946 &amp; NEWER</td>\n",
       "      <td>1.0</td>\n",
       "      <td>1.0</td>\n",
       "      <td>62700.0</td>\n",
       "      <td>0.0</td>\n",
       "      <td>187900.0</td>\n",
       "      <td>NaN</td>\n",
       "      <td>NaN</td>\n",
       "      <td>1911.0</td>\n",
       "    </tr>\n",
       "  </tbody>\n",
       "</table>\n",
       "<p>2580 rows × 97 columns</p>\n",
       "</div>"
      ],
      "text/plain": [
       "            PID  GrLivArea  SalePrice  MSSubClass MSZoning  LotFrontage  \\\n",
       "0     909176150        856     126000          30       RL          NaN   \n",
       "1     905476230       1049     139500         120       RL         42.0   \n",
       "2     911128020       1001     124900          30  C (all)         60.0   \n",
       "3     535377150       1039     114000          70       RL         80.0   \n",
       "4     534177230       1665     227000          60       RL         70.0   \n",
       "...         ...        ...        ...         ...      ...          ...   \n",
       "2575  903205040        952     121000          30       RL          NaN   \n",
       "2576  905402060       1733     139600          20       RL          NaN   \n",
       "2577  909275030       2002     145000          90       RH         82.0   \n",
       "2578  907192040       1842     217500          60       RL          NaN   \n",
       "2579  906223180       1911     215000          60       RL         80.0   \n",
       "\n",
       "      LotArea Street Alley LotShape  ...    ClassPr_S  \\\n",
       "0        7890   Pave   NaN      Reg  ...  RESIDENTIAL   \n",
       "1        4235   Pave   NaN      Reg  ...  RESIDENTIAL   \n",
       "2        6060   Pave   NaN      Reg  ...  RESIDENTIAL   \n",
       "3        8146   Pave   NaN      Reg  ...  RESIDENTIAL   \n",
       "4        8400   Pave   NaN      Reg  ...  RESIDENTIAL   \n",
       "...       ...    ...   ...      ...  ...          ...   \n",
       "2575     8854   Pave   NaN      Reg  ...  RESIDENTIAL   \n",
       "2576    13680   Pave   NaN      IR1  ...  RESIDENTIAL   \n",
       "2577     6270   Pave   NaN      Reg  ...  RESIDENTIAL   \n",
       "2578     8826   Pave   NaN      Reg  ...  RESIDENTIAL   \n",
       "2579     9554   Pave   NaN      IR1  ...  RESIDENTIAL   \n",
       "\n",
       "                            ClassSc_S SchD_S TxD_S  LndAc_S ImpAc_S   OthAc_S  \\\n",
       "0                1-STORY 1945 & OLDER    1.0   1.0  37300.0     0.0  111700.0   \n",
       "1        1-STORY TWNHM - 1946 & NEWER    1.0   1.0  43500.0     0.0  130600.0   \n",
       "2                1-STORY 1945 & OLDER    1.0   1.0  41100.0     0.0  123200.0   \n",
       "3                2-STORY 1945 & OLDER    1.0   1.0  31100.0     0.0   93300.0   \n",
       "4                2-STORY 1946 & NEWER    1.0   1.0  64300.0     0.0  192800.0   \n",
       "...                               ...    ...   ...      ...     ...       ...   \n",
       "2575             1-STORY 1945 & OLDER    1.0   1.0  34600.0     0.0  103900.0   \n",
       "2576  1-STORY 1946 & NEWER ALL STYLES    1.0   1.0  46300.0     0.0  138800.0   \n",
       "2577     DUPLEX - ALL STYLES AND AGES    1.0   1.0  45800.0     0.0  137400.0   \n",
       "2578             2-STORY 1946 & NEWER    1.0   1.0  66300.0     0.0  198900.0   \n",
       "2579             2-STORY 1946 & NEWER    1.0   1.0  62700.0     0.0  187900.0   \n",
       "\n",
       "     HSTtl_D HSTtl_S     GLA  \n",
       "0        NaN     NaN   856.0  \n",
       "1        NaN     NaN  1049.0  \n",
       "2        NaN     NaN  1001.0  \n",
       "3        NaN  4850.0  1039.0  \n",
       "4        NaN     NaN  1665.0  \n",
       "...      ...     ...     ...  \n",
       "2575  4850.0  4850.0   952.0  \n",
       "2576     NaN     NaN  1733.0  \n",
       "2577     NaN     NaN  2002.0  \n",
       "2578  4850.0  4850.0  1842.0  \n",
       "2579     NaN     NaN  1911.0  \n",
       "\n",
       "[2580 rows x 97 columns]"
      ]
     },
     "execution_count": 4,
     "metadata": {},
     "output_type": "execute_result"
    }
   ],
   "source": [
    "tdata"
   ]
  },
  {
   "cell_type": "code",
   "execution_count": 5,
   "metadata": {},
   "outputs": [
    {
     "data": {
      "text/plain": [
       "Index(['PID', 'GrLivArea', 'SalePrice', 'MSSubClass', 'MSZoning',\n",
       "       'LotFrontage', 'LotArea', 'Street', 'Alley', 'LotShape', 'LandContour',\n",
       "       'Utilities', 'LotConfig', 'LandSlope', 'Neighborhood', 'Condition1',\n",
       "       'Condition2', 'BldgType', 'HouseStyle', 'OverallQual', 'OverallCond',\n",
       "       'YearBuilt', 'YearRemodAdd', 'RoofStyle', 'RoofMatl', 'Exterior1st',\n",
       "       'Exterior2nd', 'MasVnrType', 'MasVnrArea', 'ExterQual', 'ExterCond',\n",
       "       'Foundation', 'BsmtQual', 'BsmtCond', 'BsmtExposure', 'BsmtFinType1',\n",
       "       'BsmtFinSF1', 'BsmtFinType2', 'BsmtFinSF2', 'BsmtUnfSF', 'TotalBsmtSF',\n",
       "       'Heating', 'HeatingQC', 'CentralAir', 'Electrical', '1stFlrSF',\n",
       "       '2ndFlrSF', 'LowQualFinSF', 'BsmtFullBath', 'BsmtHalfBath', 'FullBath',\n",
       "       'HalfBath', 'BedroomAbvGr', 'KitchenAbvGr', 'KitchenQual',\n",
       "       'TotRmsAbvGrd', 'Functional', 'Fireplaces', 'FireplaceQu', 'GarageType',\n",
       "       'GarageYrBlt', 'GarageFinish', 'GarageCars', 'GarageArea', 'GarageQual',\n",
       "       'GarageCond', 'PavedDrive', 'WoodDeckSF', 'OpenPorchSF',\n",
       "       'EnclosedPorch', '3SsnPorch', 'ScreenPorch', 'PoolArea', 'PoolQC',\n",
       "       'Fence', 'MiscFeature', 'MiscVal', 'MoSold', 'YrSold', 'SaleType',\n",
       "       'SaleCondition', 'MapRefNo', 'GeoRefNo', 'Prop_Addr', 'ZngCdPr',\n",
       "       'ZngOLPr', 'ZngOLSc', 'ClassPr_S', 'ClassSc_S', 'SchD_S', 'TxD_S',\n",
       "       'LndAc_S', 'ImpAc_S', 'OthAc_S', 'HSTtl_D', 'HSTtl_S', 'GLA'],\n",
       "      dtype='object')"
      ]
     },
     "execution_count": 5,
     "metadata": {},
     "output_type": "execute_result"
    }
   ],
   "source": [
    "tdata.columns"
   ]
  },
  {
   "cell_type": "markdown",
   "metadata": {},
   "source": [
    "## Drop Columns"
   ]
  },
  {
   "cell_type": "code",
   "execution_count": 6,
   "metadata": {},
   "outputs": [],
   "source": [
    "# These columns will be dropped later by Gabby: 'OpenPorchSF', 'EnclosedPorch', '3SsnPorch', 'ScreenPorch'\n",
    "\n",
    "drop_list = ['Street', 'Alley', 'Utilities', 'LandSlope','Condition2', 'MapRefNo', 'ZngCdPr', 'ZngOLPr', 'ZngOLSc', \n",
    "           'ClassSc_S', 'Heating', 'LowQualFinSF', 'KitchenAbvGr', 'RoofMatl', 'ExterCond', 'BsmtFinSF1', \n",
    "           'BsmtFinSF2', 'BsmtFinType2', 'GarageQual', 'GarageCond', 'PoolArea', 'PoolQC', 'MiscFeature', 'MiscVal', 'YrSold', 'SaleType', 'SaleCondition', \n",
    "             'HSTtl_D', 'HSTtl_S', 'GLA', 'MSZoning', 'HouseStyle', 'ClassPr_S', 'ImpAc_S', 'Exterior2nd', 'GarageYrBlt',\n",
    "            'LotFrontage']"
   ]
  },
  {
   "cell_type": "code",
   "execution_count": 7,
   "metadata": {},
   "outputs": [],
   "source": [
    "tdata = tdata.drop(drop_list, axis=1)"
   ]
  },
  {
   "cell_type": "code",
   "execution_count": 8,
   "metadata": {},
   "outputs": [
    {
     "data": {
      "text/plain": [
       "Index(['PID', 'GrLivArea', 'SalePrice', 'MSSubClass', 'LotArea', 'LotShape',\n",
       "       'LandContour', 'LotConfig', 'Neighborhood', 'Condition1', 'BldgType',\n",
       "       'OverallQual', 'OverallCond', 'YearBuilt', 'YearRemodAdd', 'RoofStyle',\n",
       "       'Exterior1st', 'MasVnrType', 'MasVnrArea', 'ExterQual', 'Foundation',\n",
       "       'BsmtQual', 'BsmtCond', 'BsmtExposure', 'BsmtFinType1', 'BsmtUnfSF',\n",
       "       'TotalBsmtSF', 'HeatingQC', 'CentralAir', 'Electrical', '1stFlrSF',\n",
       "       '2ndFlrSF', 'BsmtFullBath', 'BsmtHalfBath', 'FullBath', 'HalfBath',\n",
       "       'BedroomAbvGr', 'KitchenQual', 'TotRmsAbvGrd', 'Functional',\n",
       "       'Fireplaces', 'FireplaceQu', 'GarageType', 'GarageFinish', 'GarageCars',\n",
       "       'GarageArea', 'PavedDrive', 'WoodDeckSF', 'OpenPorchSF',\n",
       "       'EnclosedPorch', '3SsnPorch', 'ScreenPorch', 'Fence', 'MoSold',\n",
       "       'GeoRefNo', 'Prop_Addr', 'SchD_S', 'TxD_S', 'LndAc_S', 'OthAc_S'],\n",
       "      dtype='object')"
      ]
     },
     "execution_count": 8,
     "metadata": {},
     "output_type": "execute_result"
    }
   ],
   "source": [
    "tdata.columns"
   ]
  },
  {
   "cell_type": "markdown",
   "metadata": {},
   "source": [
    "# ====================\n",
    "# RYAN'S CODE SECTION\n",
    "# ===================="
   ]
  },
  {
   "cell_type": "markdown",
   "metadata": {},
   "source": [
    "## For 'HeatingQC', combine the one 'Po' with 'Fa' and Dummify"
   ]
  },
  {
   "cell_type": "code",
   "execution_count": 9,
   "metadata": {},
   "outputs": [
    {
     "data": {
      "text/plain": [
       "Ex    1293\n",
       "TA     768\n",
       "Gd     434\n",
       "Fa      84\n",
       "Po       1\n",
       "Name: HeatingQC, dtype: int64"
      ]
     },
     "execution_count": 9,
     "metadata": {},
     "output_type": "execute_result"
    }
   ],
   "source": [
    "# Check initial state\n",
    "tdata['HeatingQC'].value_counts()"
   ]
  },
  {
   "cell_type": "code",
   "execution_count": 10,
   "metadata": {},
   "outputs": [],
   "source": [
    "# Replace the one 'Po' with 'Fa'\n",
    "tdata['HeatingQC'].replace('Po', 'Fa', inplace=True)"
   ]
  },
  {
   "cell_type": "code",
   "execution_count": 11,
   "metadata": {},
   "outputs": [],
   "source": [
    "# Dummifying, dropping 'Ex' class' column.\n",
    "HeatingQC_dums = pd.get_dummies(tdata['HeatingQC'], prefix='HeatingQC', prefix_sep='_').drop('HeatingQC_Ex',1)\n",
    "tdata = pd.concat([tdata.drop('HeatingQC', 1), HeatingQC_dums], axis=1)"
   ]
  },
  {
   "cell_type": "code",
   "execution_count": 12,
   "metadata": {},
   "outputs": [
    {
     "data": {
      "text/plain": [
       "HeatingQC_Fa  HeatingQC_Gd  HeatingQC_TA\n",
       "0             0             0               1293\n",
       "                            1                768\n",
       "              1             0                434\n",
       "1             0             0                 85\n",
       "dtype: int64"
      ]
     },
     "execution_count": 12,
     "metadata": {},
     "output_type": "execute_result"
    }
   ],
   "source": [
    "# Check it\n",
    "tdata.iloc[:,-3:].value_counts()"
   ]
  },
  {
   "cell_type": "markdown",
   "metadata": {},
   "source": [
    "## 'CentralAir': Making 'Y' == 0, and 'N' == 1, rename NoCentralAir"
   ]
  },
  {
   "cell_type": "markdown",
   "metadata": {},
   "source": [
    "Changing the base case (yes) to be included in the intercept value."
   ]
  },
  {
   "cell_type": "code",
   "execution_count": 13,
   "metadata": {},
   "outputs": [
    {
     "data": {
      "text/plain": [
       "Y    2417\n",
       "N     163\n",
       "Name: CentralAir, dtype: int64"
      ]
     },
     "execution_count": 13,
     "metadata": {},
     "output_type": "execute_result"
    }
   ],
   "source": [
    "# Initial State\n",
    "tdata['CentralAir'].value_counts()"
   ]
  },
  {
   "cell_type": "code",
   "execution_count": 14,
   "metadata": {},
   "outputs": [],
   "source": [
    "# Transforming the column, Y == 0 and N == 1\n",
    "tdata['CentralAir'].replace('Y', 0, inplace=True)\n",
    "tdata['CentralAir'].replace('N', 1, inplace=True)\n",
    "tdata.rename(columns={'CentralAir':'NoCentralAir'}, inplace=True)"
   ]
  },
  {
   "cell_type": "code",
   "execution_count": 15,
   "metadata": {},
   "outputs": [
    {
     "data": {
      "text/plain": [
       "0    2417\n",
       "1     163\n",
       "Name: NoCentralAir, dtype: int64"
      ]
     },
     "execution_count": 15,
     "metadata": {},
     "output_type": "execute_result"
    }
   ],
   "source": [
    "# Checking the transformation\n",
    "tdata['NoCentralAir'].value_counts()"
   ]
  },
  {
   "cell_type": "markdown",
   "metadata": {},
   "source": [
    "## 'Electrical' - Fill NaN, Dummify"
   ]
  },
  {
   "cell_type": "markdown",
   "metadata": {},
   "source": [
    "If initial thought is correct, age of house should determine the electrical system. So YrBuilt for the missing value will tell us with high probability the electrical in the house."
   ]
  },
  {
   "cell_type": "code",
   "execution_count": 16,
   "metadata": {},
   "outputs": [
    {
     "data": {
      "text/html": [
       "<div>\n",
       "<style scoped>\n",
       "    .dataframe tbody tr th:only-of-type {\n",
       "        vertical-align: middle;\n",
       "    }\n",
       "\n",
       "    .dataframe tbody tr th {\n",
       "        vertical-align: top;\n",
       "    }\n",
       "\n",
       "    .dataframe thead th {\n",
       "        text-align: right;\n",
       "    }\n",
       "</style>\n",
       "<table border=\"1\" class=\"dataframe\">\n",
       "  <thead>\n",
       "    <tr style=\"text-align: right;\">\n",
       "      <th></th>\n",
       "      <th>mean</th>\n",
       "      <th>std</th>\n",
       "    </tr>\n",
       "    <tr>\n",
       "      <th>Electrical</th>\n",
       "      <th></th>\n",
       "      <th></th>\n",
       "    </tr>\n",
       "  </thead>\n",
       "  <tbody>\n",
       "    <tr>\n",
       "      <th>FuseA</th>\n",
       "      <td>1937.797619</td>\n",
       "      <td>18.662319</td>\n",
       "    </tr>\n",
       "    <tr>\n",
       "      <th>FuseF</th>\n",
       "      <td>1933.461538</td>\n",
       "      <td>16.509720</td>\n",
       "    </tr>\n",
       "    <tr>\n",
       "      <th>FuseP</th>\n",
       "      <td>1926.000000</td>\n",
       "      <td>14.189198</td>\n",
       "    </tr>\n",
       "    <tr>\n",
       "      <th>SBrkr</th>\n",
       "      <td>1973.347569</td>\n",
       "      <td>28.652937</td>\n",
       "    </tr>\n",
       "  </tbody>\n",
       "</table>\n",
       "</div>"
      ],
      "text/plain": [
       "                   mean        std\n",
       "Electrical                        \n",
       "FuseA       1937.797619  18.662319\n",
       "FuseF       1933.461538  16.509720\n",
       "FuseP       1926.000000  14.189198\n",
       "SBrkr       1973.347569  28.652937"
      ]
     },
     "execution_count": 16,
     "metadata": {},
     "output_type": "execute_result"
    }
   ],
   "source": [
    "# Find info on Year Built for each 'Electrical' class\n",
    "tdata.groupby('Electrical')['YearBuilt'].agg(['mean', 'std'])"
   ]
  },
  {
   "cell_type": "code",
   "execution_count": 17,
   "metadata": {
    "scrolled": true
   },
   "outputs": [
    {
     "data": {
      "text/plain": [
       "2442    2006\n",
       "Name: YearBuilt, dtype: int64"
      ]
     },
     "execution_count": 17,
     "metadata": {},
     "output_type": "execute_result"
    }
   ],
   "source": [
    "# Get the year for the missing value\n",
    "tdata[tdata['Electrical'].isnull()].YearBuilt"
   ]
  },
  {
   "cell_type": "markdown",
   "metadata": {},
   "source": [
    "The YearBuilt for the observation with missing 'Electrical' is 2006, a clear sign that the value should be filled in with 'SBrkr'"
   ]
  },
  {
   "cell_type": "code",
   "execution_count": 18,
   "metadata": {},
   "outputs": [
    {
     "name": "stdout",
     "output_type": "stream",
     "text": [
      "SBrkr    2365\n",
      "FuseA     168\n",
      "FuseF      39\n",
      "FuseP       7\n",
      "Name: Electrical, dtype: int64\n",
      "Missing Values:  1\n"
     ]
    }
   ],
   "source": [
    "# Initial State\n",
    "print(tdata['Electrical'].value_counts())\n",
    "print('Missing Values: ', np.sum(tdata['Electrical'].isnull()))"
   ]
  },
  {
   "cell_type": "code",
   "execution_count": 19,
   "metadata": {},
   "outputs": [],
   "source": [
    "# Filling the in missing value with 'SBrkr'\n",
    "tdata['Electrical'].fillna(value='SBrkr', inplace=True)"
   ]
  },
  {
   "cell_type": "code",
   "execution_count": 20,
   "metadata": {},
   "outputs": [],
   "source": [
    "# Creating Binary NonStdElectrical Y/N for this.\n",
    "tdata['Electrical'].replace('SBrkr', 0, inplace=True)\n",
    "tdata['Electrical'].replace(['FuseA', 'FuseF', 'FuseP'], 1, inplace=True)\n",
    "# Rename Column\n",
    "tdata.rename(columns={'Electrical': 'NonStdElectrical'}, inplace=True)"
   ]
  },
  {
   "cell_type": "code",
   "execution_count": 21,
   "metadata": {},
   "outputs": [
    {
     "name": "stdout",
     "output_type": "stream",
     "text": [
      "0    2366\n",
      "1     214\n",
      "Name: NonStdElectrical, dtype: int64\n",
      "Missing Values:  0\n"
     ]
    }
   ],
   "source": [
    "# Checking the transformation\n",
    "print(tdata['NonStdElectrical'].value_counts())\n",
    "print('Missing Values: ', np.sum(tdata['NonStdElectrical'].isnull()))"
   ]
  },
  {
   "cell_type": "markdown",
   "metadata": {},
   "source": [
    "## 'BsmtFullBath' - Fill Nan's"
   ]
  },
  {
   "cell_type": "markdown",
   "metadata": {},
   "source": [
    "There are two missing values, check if those observations have basements."
   ]
  },
  {
   "cell_type": "code",
   "execution_count": 22,
   "metadata": {},
   "outputs": [
    {
     "data": {
      "text/html": [
       "<div>\n",
       "<style scoped>\n",
       "    .dataframe tbody tr th:only-of-type {\n",
       "        vertical-align: middle;\n",
       "    }\n",
       "\n",
       "    .dataframe tbody tr th {\n",
       "        vertical-align: top;\n",
       "    }\n",
       "\n",
       "    .dataframe thead th {\n",
       "        text-align: right;\n",
       "    }\n",
       "</style>\n",
       "<table border=\"1\" class=\"dataframe\">\n",
       "  <thead>\n",
       "    <tr style=\"text-align: right;\">\n",
       "      <th></th>\n",
       "      <th>Foundation</th>\n",
       "      <th>BsmtQual</th>\n",
       "      <th>BsmtCond</th>\n",
       "      <th>BsmtExposure</th>\n",
       "      <th>BsmtFinType1</th>\n",
       "      <th>BsmtUnfSF</th>\n",
       "      <th>TotalBsmtSF</th>\n",
       "      <th>NoCentralAir</th>\n",
       "      <th>NonStdElectrical</th>\n",
       "      <th>1stFlrSF</th>\n",
       "    </tr>\n",
       "  </thead>\n",
       "  <tbody>\n",
       "    <tr>\n",
       "      <th>912</th>\n",
       "      <td>PConc</td>\n",
       "      <td>NaN</td>\n",
       "      <td>NaN</td>\n",
       "      <td>NaN</td>\n",
       "      <td>NaN</td>\n",
       "      <td>NaN</td>\n",
       "      <td>NaN</td>\n",
       "      <td>0</td>\n",
       "      <td>1</td>\n",
       "      <td>896</td>\n",
       "    </tr>\n",
       "    <tr>\n",
       "      <th>2308</th>\n",
       "      <td>Slab</td>\n",
       "      <td>NaN</td>\n",
       "      <td>NaN</td>\n",
       "      <td>NaN</td>\n",
       "      <td>NaN</td>\n",
       "      <td>0.0</td>\n",
       "      <td>0.0</td>\n",
       "      <td>0</td>\n",
       "      <td>0</td>\n",
       "      <td>3820</td>\n",
       "    </tr>\n",
       "  </tbody>\n",
       "</table>\n",
       "</div>"
      ],
      "text/plain": [
       "     Foundation BsmtQual BsmtCond BsmtExposure BsmtFinType1  BsmtUnfSF  \\\n",
       "912       PConc      NaN      NaN          NaN          NaN        NaN   \n",
       "2308       Slab      NaN      NaN          NaN          NaN        0.0   \n",
       "\n",
       "      TotalBsmtSF  NoCentralAir  NonStdElectrical  1stFlrSF  \n",
       "912           NaN             0                 1       896  \n",
       "2308          0.0             0                 0      3820  "
      ]
     },
     "execution_count": 22,
     "metadata": {},
     "output_type": "execute_result"
    }
   ],
   "source": [
    "tdata[tdata['BsmtFullBath'].isnull()].iloc[:,20:30]"
   ]
  },
  {
   "cell_type": "markdown",
   "metadata": {},
   "source": [
    "Confirmed that one has no information at all for any basement column, and one has 0 for TotalBsmtSF, so I am comfortable saying those missing values are because the houses in the observations don't have basements. Will set them to 0."
   ]
  },
  {
   "cell_type": "code",
   "execution_count": 23,
   "metadata": {},
   "outputs": [
    {
     "data": {
      "text/plain": [
       "0.0    1485\n",
       "1.0    1065\n",
       "2.0      27\n",
       "3.0       1\n",
       "Name: BsmtFullBath, dtype: int64"
      ]
     },
     "execution_count": 23,
     "metadata": {},
     "output_type": "execute_result"
    }
   ],
   "source": [
    "# Initial State\n",
    "tdata['BsmtFullBath'].value_counts()"
   ]
  },
  {
   "cell_type": "code",
   "execution_count": 24,
   "metadata": {},
   "outputs": [],
   "source": [
    "# Filling in missing values with 0\n",
    "tdata['BsmtFullBath'].fillna(value=0, inplace=True)"
   ]
  },
  {
   "cell_type": "code",
   "execution_count": 25,
   "metadata": {},
   "outputs": [
    {
     "name": "stdout",
     "output_type": "stream",
     "text": [
      "0.0    1487\n",
      "1.0    1065\n",
      "2.0      27\n",
      "3.0       1\n",
      "Name: BsmtFullBath, dtype: int64\n",
      "Missing values:  0\n"
     ]
    }
   ],
   "source": [
    "# Checking the transformation\n",
    "print(tdata['BsmtFullBath'].value_counts())\n",
    "print('Missing values: ', np.sum(tdata['BsmtFullBath'].isnull()))"
   ]
  },
  {
   "cell_type": "markdown",
   "metadata": {},
   "source": [
    "## BsmtHalfBath - Fill NaN's"
   ]
  },
  {
   "cell_type": "markdown",
   "metadata": {},
   "source": [
    "Should be the same as BsmtFullBath work. There are two missing values, check if those observations have basements."
   ]
  },
  {
   "cell_type": "code",
   "execution_count": 26,
   "metadata": {},
   "outputs": [
    {
     "data": {
      "text/html": [
       "<div>\n",
       "<style scoped>\n",
       "    .dataframe tbody tr th:only-of-type {\n",
       "        vertical-align: middle;\n",
       "    }\n",
       "\n",
       "    .dataframe tbody tr th {\n",
       "        vertical-align: top;\n",
       "    }\n",
       "\n",
       "    .dataframe thead th {\n",
       "        text-align: right;\n",
       "    }\n",
       "</style>\n",
       "<table border=\"1\" class=\"dataframe\">\n",
       "  <thead>\n",
       "    <tr style=\"text-align: right;\">\n",
       "      <th></th>\n",
       "      <th>Foundation</th>\n",
       "      <th>BsmtQual</th>\n",
       "      <th>BsmtCond</th>\n",
       "      <th>BsmtExposure</th>\n",
       "      <th>BsmtFinType1</th>\n",
       "      <th>BsmtUnfSF</th>\n",
       "      <th>TotalBsmtSF</th>\n",
       "      <th>NoCentralAir</th>\n",
       "      <th>NonStdElectrical</th>\n",
       "      <th>1stFlrSF</th>\n",
       "    </tr>\n",
       "  </thead>\n",
       "  <tbody>\n",
       "    <tr>\n",
       "      <th>912</th>\n",
       "      <td>PConc</td>\n",
       "      <td>NaN</td>\n",
       "      <td>NaN</td>\n",
       "      <td>NaN</td>\n",
       "      <td>NaN</td>\n",
       "      <td>NaN</td>\n",
       "      <td>NaN</td>\n",
       "      <td>0</td>\n",
       "      <td>1</td>\n",
       "      <td>896</td>\n",
       "    </tr>\n",
       "    <tr>\n",
       "      <th>2308</th>\n",
       "      <td>Slab</td>\n",
       "      <td>NaN</td>\n",
       "      <td>NaN</td>\n",
       "      <td>NaN</td>\n",
       "      <td>NaN</td>\n",
       "      <td>0.0</td>\n",
       "      <td>0.0</td>\n",
       "      <td>0</td>\n",
       "      <td>0</td>\n",
       "      <td>3820</td>\n",
       "    </tr>\n",
       "  </tbody>\n",
       "</table>\n",
       "</div>"
      ],
      "text/plain": [
       "     Foundation BsmtQual BsmtCond BsmtExposure BsmtFinType1  BsmtUnfSF  \\\n",
       "912       PConc      NaN      NaN          NaN          NaN        NaN   \n",
       "2308       Slab      NaN      NaN          NaN          NaN        0.0   \n",
       "\n",
       "      TotalBsmtSF  NoCentralAir  NonStdElectrical  1stFlrSF  \n",
       "912           NaN             0                 1       896  \n",
       "2308          0.0             0                 0      3820  "
      ]
     },
     "execution_count": 26,
     "metadata": {},
     "output_type": "execute_result"
    }
   ],
   "source": [
    "tdata[tdata['BsmtHalfBath'].isnull()].iloc[:,20:30]"
   ]
  },
  {
   "cell_type": "markdown",
   "metadata": {},
   "source": [
    "It's the same rows of data as the above BsmtFullBath Nan's so treat them the same way. Fill with Zeros."
   ]
  },
  {
   "cell_type": "code",
   "execution_count": 27,
   "metadata": {},
   "outputs": [
    {
     "name": "stdout",
     "output_type": "stream",
     "text": [
      "0.0    2420\n",
      "1.0     156\n",
      "2.0       2\n",
      "Name: BsmtHalfBath, dtype: int64\n",
      "Missing values:  2\n"
     ]
    }
   ],
   "source": [
    "# Initial State\n",
    "print(tdata['BsmtHalfBath'].value_counts())\n",
    "print('Missing values: ', np.sum(tdata['BsmtHalfBath'].isnull()))"
   ]
  },
  {
   "cell_type": "code",
   "execution_count": 28,
   "metadata": {},
   "outputs": [],
   "source": [
    "# Filling in missing values with 0\n",
    "tdata['BsmtHalfBath'].fillna(value=0, inplace=True)"
   ]
  },
  {
   "cell_type": "code",
   "execution_count": 29,
   "metadata": {},
   "outputs": [
    {
     "name": "stdout",
     "output_type": "stream",
     "text": [
      "0.0    2422\n",
      "1.0     156\n",
      "2.0       2\n",
      "Name: BsmtHalfBath, dtype: int64\n",
      "Missing values:  0\n"
     ]
    }
   ],
   "source": [
    "# Checking the transformation\n",
    "print(tdata['BsmtHalfBath'].value_counts())\n",
    "print('Missing values: ', np.sum(tdata['BsmtHalfBath'].isnull()))"
   ]
  },
  {
   "cell_type": "markdown",
   "metadata": {},
   "source": [
    "## 'KitchenQual' - Combine the one 'Po' into 'Fa', Dummify"
   ]
  },
  {
   "cell_type": "code",
   "execution_count": 30,
   "metadata": {},
   "outputs": [
    {
     "data": {
      "text/plain": [
       "TA    1358\n",
       "Gd    1017\n",
       "Ex     142\n",
       "Fa      62\n",
       "Po       1\n",
       "Name: KitchenQual, dtype: int64"
      ]
     },
     "execution_count": 30,
     "metadata": {},
     "output_type": "execute_result"
    }
   ],
   "source": [
    "# Initial State\n",
    "tdata['KitchenQual'].value_counts()"
   ]
  },
  {
   "cell_type": "code",
   "execution_count": 31,
   "metadata": {},
   "outputs": [],
   "source": [
    "# Replace the one 'Po' with 'Fa'\n",
    "tdata['KitchenQual'].replace('Po', 'Fa', inplace=True)"
   ]
  },
  {
   "cell_type": "code",
   "execution_count": 32,
   "metadata": {},
   "outputs": [],
   "source": [
    "# Dummifying, dropping 'TA' class' column.\n",
    "KitchenQual_dums = pd.get_dummies(tdata['KitchenQual'], prefix='KitchenQual', prefix_sep='_').drop('KitchenQual_TA',1)\n",
    "tdata = pd.concat([tdata.drop('KitchenQual', 1), KitchenQual_dums], axis=1)"
   ]
  },
  {
   "cell_type": "code",
   "execution_count": 33,
   "metadata": {},
   "outputs": [
    {
     "data": {
      "text/plain": [
       "KitchenQual_Ex  KitchenQual_Fa  KitchenQual_Gd\n",
       "0               0               0                 1358\n",
       "                                1                 1017\n",
       "1               0               0                  142\n",
       "0               1               0                   63\n",
       "dtype: int64"
      ]
     },
     "execution_count": 33,
     "metadata": {},
     "output_type": "execute_result"
    }
   ],
   "source": [
    "# Check the transformation\n",
    "tdata.iloc[:,-3:].value_counts()"
   ]
  },
  {
   "cell_type": "markdown",
   "metadata": {},
   "source": [
    "## 'YearRemodAdd' - Binarize for Y/N Remodeled, and create 'RemodelYrsAftBuilt'"
   ]
  },
  {
   "cell_type": "code",
   "execution_count": 34,
   "metadata": {},
   "outputs": [],
   "source": [
    "# Remodeled houses had YearRemodAdd date AFTER YearBuilt.\n",
    "# If the years are the same it means the house was not remodeled.\n",
    "## Making a binary column. Later will have to see if it is useful.##\n",
    "tdata['Remodeled'] = tdata['YearRemodAdd'] > tdata['YearBuilt']"
   ]
  },
  {
   "cell_type": "code",
   "execution_count": 35,
   "metadata": {},
   "outputs": [
    {
     "data": {
      "text/plain": [
       "0.4624031007751938"
      ]
     },
     "execution_count": 35,
     "metadata": {},
     "output_type": "execute_result"
    }
   ],
   "source": [
    "# Diagnstic\n",
    "# What percent of houses have been remodeled?\n",
    "np.mean(tdata['Remodeled'])"
   ]
  },
  {
   "cell_type": "code",
   "execution_count": 36,
   "metadata": {},
   "outputs": [
    {
     "data": {
      "text/plain": [
       "<AxesSubplot:title={'center':'SalePrice'}, xlabel='Remodeled'>"
      ]
     },
     "execution_count": 36,
     "metadata": {},
     "output_type": "execute_result"
    },
    {
     "data": {
      "image/png": "[encoded data removed]",
      "text/plain": [
       "<Figure size 432x288 with 1 Axes>"
      ]
     },
     "metadata": {
      "needs_background": "light"
     },
     "output_type": "display_data"
    }
   ],
   "source": [
    "# Diagnostic\n",
    "#Visualize the price differences\n",
    "tdata.boxplot(column='SalePrice', by='Remodeled')"
   ]
  },
  {
   "cell_type": "code",
   "execution_count": 37,
   "metadata": {},
   "outputs": [
    {
     "data": {
      "text/plain": [
       "count    1193.000000\n",
       "mean     1986.029338\n",
       "std        22.235884\n",
       "min      1950.000000\n",
       "25%      1958.000000\n",
       "50%      1996.000000\n",
       "75%      2004.000000\n",
       "max      2010.000000\n",
       "Name: YearRemodAdd, dtype: float64"
      ]
     },
     "execution_count": 37,
     "metadata": {},
     "output_type": "execute_result"
    }
   ],
   "source": [
    "# Diagnostic\n",
    "#Describing the remodel years for homes that have been remodeled.\n",
    "tdata[tdata['Remodeled']==True].YearRemodAdd.describe()"
   ]
  },
  {
   "cell_type": "code",
   "execution_count": 38,
   "metadata": {},
   "outputs": [
    {
     "data": {
      "text/plain": [
       "(0.0, 60.0)"
      ]
     },
     "execution_count": 38,
     "metadata": {},
     "output_type": "execute_result"
    },
    {
     "data": {
      "image/png": "[encoded data removed]",
      "text/plain": [
       "<Figure size 432x288 with 1 Axes>"
      ]
     },
     "metadata": {
      "needs_background": "light"
     },
     "output_type": "display_data"
    }
   ],
   "source": [
    "#Visualize what the column will be \n",
    "(tdata['YearRemodAdd'] - tdata['YearBuilt']).hist(bins=40)\n",
    "plt.xlim(2,120)\n",
    "plt.ylim(0, 60)"
   ]
  },
  {
   "cell_type": "code",
   "execution_count": 39,
   "metadata": {},
   "outputs": [
    {
     "data": {
      "text/plain": [
       " 0      1386\n",
       " 1       352\n",
       " 30       34\n",
       " 40       29\n",
       " 25       24\n",
       "        ... \n",
       " 107       1\n",
       " 109       1\n",
       " 115       1\n",
       " 121       1\n",
       "-1         1\n",
       "Name: RemodelYrsAftBuilt, Length: 116, dtype: int64"
      ]
     },
     "execution_count": 39,
     "metadata": {},
     "output_type": "execute_result"
    }
   ],
   "source": [
    "# Create Column 'RemodelYrsAftBuilt'\n",
    "tdata['RemodelYrsAftBuilt'] = tdata['YearRemodAdd'] - tdata['YearBuilt']\n",
    "tdata['RemodelYrsAftBuilt'].value_counts()\n",
    "      "
   ]
  },
  {
   "cell_type": "code",
   "execution_count": 40,
   "metadata": {},
   "outputs": [
    {
     "data": {
      "text/html": [
       "<div>\n",
       "<style scoped>\n",
       "    .dataframe tbody tr th:only-of-type {\n",
       "        vertical-align: middle;\n",
       "    }\n",
       "\n",
       "    .dataframe tbody tr th {\n",
       "        vertical-align: top;\n",
       "    }\n",
       "\n",
       "    .dataframe thead th {\n",
       "        text-align: right;\n",
       "    }\n",
       "</style>\n",
       "<table border=\"1\" class=\"dataframe\">\n",
       "  <thead>\n",
       "    <tr style=\"text-align: right;\">\n",
       "      <th></th>\n",
       "      <th>Remodeled</th>\n",
       "      <th>RemodelYrsAftBuilt</th>\n",
       "    </tr>\n",
       "  </thead>\n",
       "  <tbody>\n",
       "    <tr>\n",
       "      <th>0</th>\n",
       "      <td>True</td>\n",
       "      <td>11</td>\n",
       "    </tr>\n",
       "    <tr>\n",
       "      <th>1</th>\n",
       "      <td>False</td>\n",
       "      <td>0</td>\n",
       "    </tr>\n",
       "    <tr>\n",
       "      <th>2</th>\n",
       "      <td>True</td>\n",
       "      <td>77</td>\n",
       "    </tr>\n",
       "    <tr>\n",
       "      <th>3</th>\n",
       "      <td>True</td>\n",
       "      <td>103</td>\n",
       "    </tr>\n",
       "    <tr>\n",
       "      <th>4</th>\n",
       "      <td>False</td>\n",
       "      <td>0</td>\n",
       "    </tr>\n",
       "    <tr>\n",
       "      <th>...</th>\n",
       "      <td>...</td>\n",
       "      <td>...</td>\n",
       "    </tr>\n",
       "    <tr>\n",
       "      <th>2575</th>\n",
       "      <td>True</td>\n",
       "      <td>34</td>\n",
       "    </tr>\n",
       "    <tr>\n",
       "      <th>2576</th>\n",
       "      <td>False</td>\n",
       "      <td>0</td>\n",
       "    </tr>\n",
       "    <tr>\n",
       "      <th>2577</th>\n",
       "      <td>True</td>\n",
       "      <td>1</td>\n",
       "    </tr>\n",
       "    <tr>\n",
       "      <th>2578</th>\n",
       "      <td>False</td>\n",
       "      <td>0</td>\n",
       "    </tr>\n",
       "    <tr>\n",
       "      <th>2579</th>\n",
       "      <td>True</td>\n",
       "      <td>1</td>\n",
       "    </tr>\n",
       "  </tbody>\n",
       "</table>\n",
       "<p>2580 rows × 2 columns</p>\n",
       "</div>"
      ],
      "text/plain": [
       "      Remodeled  RemodelYrsAftBuilt\n",
       "0          True                  11\n",
       "1         False                   0\n",
       "2          True                  77\n",
       "3          True                 103\n",
       "4         False                   0\n",
       "...         ...                 ...\n",
       "2575       True                  34\n",
       "2576      False                   0\n",
       "2577       True                   1\n",
       "2578      False                   0\n",
       "2579       True                   1\n",
       "\n",
       "[2580 rows x 2 columns]"
      ]
     },
     "execution_count": 40,
     "metadata": {},
     "output_type": "execute_result"
    }
   ],
   "source": [
    "# See the new columns, show they look good.\n",
    "tdata.iloc[:,-2:]"
   ]
  },
  {
   "cell_type": "code",
   "execution_count": 41,
   "metadata": {},
   "outputs": [],
   "source": [
    "# Removing original YearRemodAdd Column\n",
    "tdata.drop('YearRemodAdd', axis=1, inplace=True)"
   ]
  },
  {
   "cell_type": "markdown",
   "metadata": {},
   "source": [
    " ## Functional - 3 Categories: Typ, Min, Maj(w/ mod, sal). Dummify"
   ]
  },
  {
   "cell_type": "code",
   "execution_count": 42,
   "metadata": {},
   "outputs": [
    {
     "data": {
      "text/plain": [
       "Typ     2399\n",
       "Min2      66\n",
       "Min1      57\n",
       "Mod       32\n",
       "Maj1      18\n",
       "Maj2       7\n",
       "Sal        1\n",
       "Name: Functional, dtype: int64"
      ]
     },
     "execution_count": 42,
     "metadata": {},
     "output_type": "execute_result"
    }
   ],
   "source": [
    "# Initial State\n",
    "tdata['Functional'].value_counts()"
   ]
  },
  {
   "cell_type": "code",
   "execution_count": 43,
   "metadata": {},
   "outputs": [],
   "source": [
    "# Combine the Min1, Min2 into a Min category. Combine the Maj1, Maj2, Mod, and Sal into a Maj category\n",
    "tdata['Functional'].replace(['Min1', 'Min2'], 'Min', inplace=True)\n",
    "tdata['Functional'].replace(['Maj1', 'Maj2', 'Mod', 'Sal'], 'Maj', inplace=True)"
   ]
  },
  {
   "cell_type": "code",
   "execution_count": 44,
   "metadata": {},
   "outputs": [
    {
     "data": {
      "text/plain": [
       "Typ    2399\n",
       "Min     123\n",
       "Maj      58\n",
       "Name: Functional, dtype: int64"
      ]
     },
     "execution_count": 44,
     "metadata": {},
     "output_type": "execute_result"
    }
   ],
   "source": [
    "# Check the result\n",
    "tdata['Functional'].value_counts()"
   ]
  },
  {
   "cell_type": "code",
   "execution_count": 45,
   "metadata": {},
   "outputs": [],
   "source": [
    "# Dummify the column, drop Typ (modal value)\n",
    "Functional_dums = pd.get_dummies(tdata['Functional'], prefix='Functional', prefix_sep='_').drop('Functional_Typ',1)\n",
    "tdata = pd.concat([tdata.drop('Functional', 1), Functional_dums], axis=1)"
   ]
  },
  {
   "cell_type": "code",
   "execution_count": 46,
   "metadata": {},
   "outputs": [
    {
     "data": {
      "text/plain": [
       "Functional_Maj  Functional_Min\n",
       "0               0                 2399\n",
       "                1                  123\n",
       "1               0                   58\n",
       "dtype: int64"
      ]
     },
     "execution_count": 46,
     "metadata": {},
     "output_type": "execute_result"
    }
   ],
   "source": [
    "# Check the transformation\n",
    "tdata.iloc[:,-2:].value_counts()"
   ]
  },
  {
   "cell_type": "markdown",
   "metadata": {},
   "source": [
    "## RoofStyle - Combine into Hip, Gabel, Other. Then Dummify."
   ]
  },
  {
   "cell_type": "code",
   "execution_count": 47,
   "metadata": {},
   "outputs": [
    {
     "data": {
      "text/plain": [
       "Gable      2059\n",
       "Hip         473\n",
       "Gambrel      18\n",
       "Flat         16\n",
       "Mansard      10\n",
       "Shed          4\n",
       "Name: RoofStyle, dtype: int64"
      ]
     },
     "execution_count": 47,
     "metadata": {},
     "output_type": "execute_result"
    }
   ],
   "source": [
    "# Initial State\n",
    "tdata['RoofStyle'].value_counts()"
   ]
  },
  {
   "cell_type": "code",
   "execution_count": 48,
   "metadata": {},
   "outputs": [],
   "source": [
    "# Combine Gambrel, Flat, Mansard, and Shed into 'Other'\n",
    "tdata['RoofStyle'].replace(['Gambrel', 'Flat', 'Mansard', 'Shed'], 'Other', inplace=True)"
   ]
  },
  {
   "cell_type": "code",
   "execution_count": 49,
   "metadata": {},
   "outputs": [],
   "source": [
    "# Dummify, drop Gable (modal value)\n",
    "RoofStyle_dums = pd.get_dummies(tdata['RoofStyle'], prefix='RoofStyle', prefix_sep='_').drop('RoofStyle_Gable',1)\n",
    "tdata = pd.concat([tdata.drop('RoofStyle', axis=1), RoofStyle_dums], axis=1)"
   ]
  },
  {
   "cell_type": "code",
   "execution_count": 50,
   "metadata": {},
   "outputs": [
    {
     "data": {
      "text/plain": [
       "RoofStyle_Hip  RoofStyle_Other\n",
       "0              0                  2059\n",
       "1              0                   473\n",
       "0              1                    48\n",
       "dtype: int64"
      ]
     },
     "execution_count": 50,
     "metadata": {},
     "output_type": "execute_result"
    }
   ],
   "source": [
    "# Check the Transformation\n",
    "tdata.iloc[:, -2:].value_counts()"
   ]
  },
  {
   "cell_type": "markdown",
   "metadata": {},
   "source": [
    "## Exterior1st - Combine Categories into similar materials, then dummify."
   ]
  },
  {
   "cell_type": "markdown",
   "metadata": {},
   "source": [
    "Materials to combine:\n",
    "Value, roughly, high to low.\n",
    "\n",
    "No stone houses. \n",
    "\n",
    "Common brick is a significant upgrade, can't be combined. Not even sure what to combine it with based on value, its definitely the leader.\n",
    "\n",
    "Vinyl Siding\n",
    "\n",
    "Plywood - Better than hardboard, so should be its own category.\n",
    "\n",
    "Wood shingles - its own category.\n",
    "\n",
    "Stucco - Possibly similar enough to Cement Board (value-wise) to be combined with it.\n",
    "Cement Board - Put w/ Wood siding, similar traits/value/looks, different materials.\n",
    "\n",
    "Metal Siding - definitely its own category.\n",
    "\n",
    "Cinderblock - Other, not used in a while (inferior to concrete)\n",
    "Precast - Other (not different enough from other 'Other's to be significant)\n",
    "Asphalt Shingles - Other (not different enough from other 'Other's to be significant)\n",
    "Immitation Stucco - Other.\n",
    "\n",
    "Hardboard - it's own category, cheapo finish.\n",
    "\n",
    "Asbestos shingles means old, not used in last 50 years. (banned in the 70's) Maybe drop."
   ]
  },
  {
   "cell_type": "code",
   "execution_count": 51,
   "metadata": {},
   "outputs": [
    {
     "data": {
      "text/plain": [
       "VinylSd    868\n",
       "HdBoard    416\n",
       "MetalSd    407\n",
       "Wd Sdng    385\n",
       "Plywood    194\n",
       "CemntBd     97\n",
       "BrkFace     80\n",
       "WdShing     51\n",
       "Stucco      37\n",
       "AsbShng     34\n",
       "BrkComm      5\n",
       "AsphShn      2\n",
       "CBlock       2\n",
       "PreCast      1\n",
       "ImStucc      1\n",
       "Name: Exterior1st, dtype: int64"
      ]
     },
     "execution_count": 51,
     "metadata": {},
     "output_type": "execute_result"
    }
   ],
   "source": [
    "# Inital State\n",
    "tdata['Exterior1st'].value_counts()"
   ]
  },
  {
   "cell_type": "code",
   "execution_count": 52,
   "metadata": {},
   "outputs": [],
   "source": [
    "# Combine Stucco, Cement Board, and Wood siding (based on value). New cat called Stc_CemBd_WdSd\n",
    "tdata['Exterior1st'].replace(['Stucco', 'CemntBd', 'Wd Sdng'], 'Stc_CemBd_WdSd', inplace=True)\n",
    "# Combine Cinderblock, Precast, Asphalt Singles, Imitation Stucco into other.\n",
    "tdata['Exterior1st'].replace(['CBlock', 'PreCast', 'AsphShn', 'ImStucc'], 'Other', inplace=True)\n",
    "\n",
    "# Potentially drop asbestos shingles, no longer used (actually banned) and might be captured in age of house. \n",
    "# Or, conversely, might be a significant negative."
   ]
  },
  {
   "cell_type": "code",
   "execution_count": 53,
   "metadata": {},
   "outputs": [
    {
     "data": {
      "text/plain": [
       "VinylSd           868\n",
       "Stc_CemBd_WdSd    519\n",
       "HdBoard           416\n",
       "MetalSd           407\n",
       "Plywood           194\n",
       "BrkFace            80\n",
       "WdShing            51\n",
       "AsbShng            34\n",
       "Other               6\n",
       "BrkComm             5\n",
       "Name: Exterior1st, dtype: int64"
      ]
     },
     "execution_count": 53,
     "metadata": {},
     "output_type": "execute_result"
    }
   ],
   "source": [
    "# Check the combinations\n",
    "tdata['Exterior1st'].value_counts()"
   ]
  },
  {
   "cell_type": "markdown",
   "metadata": {},
   "source": [
    "Still an aweful lot of categories. Maybe combine BrkComm with VinylSd and Plywood. (even though it is more valuable), and maybe combine Other with HdBoard (both low-value cats, even if different). Maybe combine wood shingles withCemBd_WdSd. Talk to team.\n",
    "\n",
    "VinylSd, BrkComm, Plywood\n",
    "HdBoard, Other\n",
    "WdShing, Stc_CemBd_WdSd (Stucco, Cement Board, Wood Siding)"
   ]
  },
  {
   "cell_type": "code",
   "execution_count": 54,
   "metadata": {},
   "outputs": [],
   "source": [
    "# Combine Wood shingles into Stc_CemBd_WdSd\n",
    "tdata['Exterior1st'].replace(['Stc_CemBd_WdSd', 'WdShing'], 'Stc_CemBd_WdSdSh', inplace=True)\n",
    "# Combine BrkComm with VinylSd, Plywood. \n",
    "tdata['Exterior1st'].replace(['BrkComm', 'VinylSd', 'Plywood'], 'VinylPlywBrkcom', inplace=True)\n",
    "# Combine HdBoard and Other\n",
    "tdata['Exterior1st'].replace(['Other', 'HdBoard'], 'HdbdOther', inplace=True)"
   ]
  },
  {
   "cell_type": "code",
   "execution_count": 55,
   "metadata": {},
   "outputs": [
    {
     "data": {
      "text/plain": [
       "VinylPlywBrkcom     1067\n",
       "Stc_CemBd_WdSdSh     570\n",
       "HdbdOther            422\n",
       "MetalSd              407\n",
       "BrkFace               80\n",
       "AsbShng               34\n",
       "Name: Exterior1st, dtype: int64"
      ]
     },
     "execution_count": 55,
     "metadata": {},
     "output_type": "execute_result"
    }
   ],
   "source": [
    "tdata['Exterior1st'].value_counts()"
   ]
  },
  {
   "cell_type": "code",
   "execution_count": 56,
   "metadata": {},
   "outputs": [],
   "source": [
    "# Dummify, and drop VinylPlywBrkcom (modal) class\n",
    "Exterior1st_dums = pd.get_dummies(tdata['Exterior1st'], prefix='Exterior1st', \n",
    "                                  prefix_sep='_').drop('Exterior1st_VinylPlywBrkcom', axis=1)\n",
    "tdata = pd.concat([tdata.drop('Exterior1st', axis=1), Exterior1st_dums], axis=1)"
   ]
  },
  {
   "cell_type": "code",
   "execution_count": 57,
   "metadata": {},
   "outputs": [
    {
     "data": {
      "text/plain": [
       "Exterior1st_AsbShng  Exterior1st_BrkFace  Exterior1st_HdbdOther  Exterior1st_MetalSd  Exterior1st_Stc_CemBd_WdSdSh\n",
       "0                    0                    0                      0                    0                               1067\n",
       "                                                                                      1                                570\n",
       "                                          1                      0                    0                                422\n",
       "                                          0                      1                    0                                407\n",
       "                     1                    0                      0                    0                                 80\n",
       "1                    0                    0                      0                    0                                 34\n",
       "dtype: int64"
      ]
     },
     "execution_count": 57,
     "metadata": {},
     "output_type": "execute_result"
    }
   ],
   "source": [
    "# Check the Transformation\n",
    "tdata.iloc[:, -5:].value_counts()"
   ]
  },
  {
   "cell_type": "markdown",
   "metadata": {},
   "source": [
    "## MasVnrType - Combine Bricks, Investigate Nulls, Dummify"
   ]
  },
  {
   "cell_type": "code",
   "execution_count": 58,
   "metadata": {},
   "outputs": [
    {
     "name": "stdout",
     "output_type": "stream",
     "text": [
      "None       1559\n",
      "BrkFace     804\n",
      "Stone       183\n",
      "BrkCmn       20\n",
      "Name: MasVnrType, dtype: int64\n",
      "Mising values:  14\n"
     ]
    }
   ],
   "source": [
    "# Initial state\n",
    "print(tdata['MasVnrType'].value_counts())\n",
    "print('Mising values: ', np.sum(tdata['MasVnrType'].isnull()))"
   ]
  },
  {
   "cell_type": "code",
   "execution_count": 59,
   "metadata": {},
   "outputs": [
    {
     "data": {
      "text/html": [
       "<div>\n",
       "<style scoped>\n",
       "    .dataframe tbody tr th:only-of-type {\n",
       "        vertical-align: middle;\n",
       "    }\n",
       "\n",
       "    .dataframe tbody tr th {\n",
       "        vertical-align: top;\n",
       "    }\n",
       "\n",
       "    .dataframe thead th {\n",
       "        text-align: right;\n",
       "    }\n",
       "</style>\n",
       "<table border=\"1\" class=\"dataframe\">\n",
       "  <thead>\n",
       "    <tr style=\"text-align: right;\">\n",
       "      <th></th>\n",
       "      <th>Remodeled</th>\n",
       "      <th>RemodelYrsAftBuilt</th>\n",
       "      <th>Functional_Maj</th>\n",
       "      <th>Functional_Min</th>\n",
       "      <th>RoofStyle_Hip</th>\n",
       "      <th>RoofStyle_Other</th>\n",
       "      <th>Exterior1st_AsbShng</th>\n",
       "      <th>Exterior1st_BrkFace</th>\n",
       "      <th>Exterior1st_HdbdOther</th>\n",
       "      <th>Exterior1st_MetalSd</th>\n",
       "    </tr>\n",
       "  </thead>\n",
       "  <tbody>\n",
       "    <tr>\n",
       "      <th>175</th>\n",
       "      <td>True</td>\n",
       "      <td>1</td>\n",
       "      <td>0</td>\n",
       "      <td>0</td>\n",
       "      <td>1</td>\n",
       "      <td>0</td>\n",
       "      <td>0</td>\n",
       "      <td>0</td>\n",
       "      <td>0</td>\n",
       "      <td>0</td>\n",
       "    </tr>\n",
       "    <tr>\n",
       "      <th>358</th>\n",
       "      <td>True</td>\n",
       "      <td>1</td>\n",
       "      <td>0</td>\n",
       "      <td>0</td>\n",
       "      <td>0</td>\n",
       "      <td>0</td>\n",
       "      <td>0</td>\n",
       "      <td>0</td>\n",
       "      <td>0</td>\n",
       "      <td>0</td>\n",
       "    </tr>\n",
       "    <tr>\n",
       "      <th>753</th>\n",
       "      <td>True</td>\n",
       "      <td>1</td>\n",
       "      <td>0</td>\n",
       "      <td>0</td>\n",
       "      <td>0</td>\n",
       "      <td>0</td>\n",
       "      <td>0</td>\n",
       "      <td>0</td>\n",
       "      <td>0</td>\n",
       "      <td>0</td>\n",
       "    </tr>\n",
       "    <tr>\n",
       "      <th>787</th>\n",
       "      <td>False</td>\n",
       "      <td>0</td>\n",
       "      <td>0</td>\n",
       "      <td>0</td>\n",
       "      <td>0</td>\n",
       "      <td>0</td>\n",
       "      <td>0</td>\n",
       "      <td>0</td>\n",
       "      <td>0</td>\n",
       "      <td>0</td>\n",
       "    </tr>\n",
       "    <tr>\n",
       "      <th>871</th>\n",
       "      <td>False</td>\n",
       "      <td>0</td>\n",
       "      <td>0</td>\n",
       "      <td>0</td>\n",
       "      <td>0</td>\n",
       "      <td>0</td>\n",
       "      <td>0</td>\n",
       "      <td>0</td>\n",
       "      <td>0</td>\n",
       "      <td>0</td>\n",
       "    </tr>\n",
       "    <tr>\n",
       "      <th>891</th>\n",
       "      <td>False</td>\n",
       "      <td>0</td>\n",
       "      <td>0</td>\n",
       "      <td>0</td>\n",
       "      <td>0</td>\n",
       "      <td>0</td>\n",
       "      <td>0</td>\n",
       "      <td>0</td>\n",
       "      <td>0</td>\n",
       "      <td>0</td>\n",
       "    </tr>\n",
       "    <tr>\n",
       "      <th>951</th>\n",
       "      <td>False</td>\n",
       "      <td>0</td>\n",
       "      <td>0</td>\n",
       "      <td>0</td>\n",
       "      <td>0</td>\n",
       "      <td>0</td>\n",
       "      <td>0</td>\n",
       "      <td>0</td>\n",
       "      <td>0</td>\n",
       "      <td>0</td>\n",
       "    </tr>\n",
       "    <tr>\n",
       "      <th>1041</th>\n",
       "      <td>False</td>\n",
       "      <td>0</td>\n",
       "      <td>0</td>\n",
       "      <td>0</td>\n",
       "      <td>0</td>\n",
       "      <td>0</td>\n",
       "      <td>0</td>\n",
       "      <td>0</td>\n",
       "      <td>0</td>\n",
       "      <td>0</td>\n",
       "    </tr>\n",
       "    <tr>\n",
       "      <th>1161</th>\n",
       "      <td>False</td>\n",
       "      <td>0</td>\n",
       "      <td>0</td>\n",
       "      <td>0</td>\n",
       "      <td>0</td>\n",
       "      <td>0</td>\n",
       "      <td>0</td>\n",
       "      <td>0</td>\n",
       "      <td>0</td>\n",
       "      <td>0</td>\n",
       "    </tr>\n",
       "    <tr>\n",
       "      <th>1355</th>\n",
       "      <td>False</td>\n",
       "      <td>0</td>\n",
       "      <td>0</td>\n",
       "      <td>0</td>\n",
       "      <td>0</td>\n",
       "      <td>0</td>\n",
       "      <td>0</td>\n",
       "      <td>0</td>\n",
       "      <td>0</td>\n",
       "      <td>0</td>\n",
       "    </tr>\n",
       "    <tr>\n",
       "      <th>1553</th>\n",
       "      <td>False</td>\n",
       "      <td>0</td>\n",
       "      <td>0</td>\n",
       "      <td>0</td>\n",
       "      <td>0</td>\n",
       "      <td>0</td>\n",
       "      <td>0</td>\n",
       "      <td>0</td>\n",
       "      <td>0</td>\n",
       "      <td>0</td>\n",
       "    </tr>\n",
       "    <tr>\n",
       "      <th>2033</th>\n",
       "      <td>False</td>\n",
       "      <td>0</td>\n",
       "      <td>0</td>\n",
       "      <td>0</td>\n",
       "      <td>0</td>\n",
       "      <td>0</td>\n",
       "      <td>0</td>\n",
       "      <td>0</td>\n",
       "      <td>0</td>\n",
       "      <td>0</td>\n",
       "    </tr>\n",
       "    <tr>\n",
       "      <th>2477</th>\n",
       "      <td>False</td>\n",
       "      <td>0</td>\n",
       "      <td>0</td>\n",
       "      <td>0</td>\n",
       "      <td>0</td>\n",
       "      <td>0</td>\n",
       "      <td>0</td>\n",
       "      <td>0</td>\n",
       "      <td>0</td>\n",
       "      <td>0</td>\n",
       "    </tr>\n",
       "    <tr>\n",
       "      <th>2536</th>\n",
       "      <td>False</td>\n",
       "      <td>0</td>\n",
       "      <td>0</td>\n",
       "      <td>0</td>\n",
       "      <td>0</td>\n",
       "      <td>0</td>\n",
       "      <td>0</td>\n",
       "      <td>0</td>\n",
       "      <td>0</td>\n",
       "      <td>0</td>\n",
       "    </tr>\n",
       "  </tbody>\n",
       "</table>\n",
       "</div>"
      ],
      "text/plain": [
       "      Remodeled  RemodelYrsAftBuilt  Functional_Maj  Functional_Min  \\\n",
       "175        True                   1               0               0   \n",
       "358        True                   1               0               0   \n",
       "753        True                   1               0               0   \n",
       "787       False                   0               0               0   \n",
       "871       False                   0               0               0   \n",
       "891       False                   0               0               0   \n",
       "951       False                   0               0               0   \n",
       "1041      False                   0               0               0   \n",
       "1161      False                   0               0               0   \n",
       "1355      False                   0               0               0   \n",
       "1553      False                   0               0               0   \n",
       "2033      False                   0               0               0   \n",
       "2477      False                   0               0               0   \n",
       "2536      False                   0               0               0   \n",
       "\n",
       "      RoofStyle_Hip  RoofStyle_Other  Exterior1st_AsbShng  \\\n",
       "175               1                0                    0   \n",
       "358               0                0                    0   \n",
       "753               0                0                    0   \n",
       "787               0                0                    0   \n",
       "871               0                0                    0   \n",
       "891               0                0                    0   \n",
       "951               0                0                    0   \n",
       "1041              0                0                    0   \n",
       "1161              0                0                    0   \n",
       "1355              0                0                    0   \n",
       "1553              0                0                    0   \n",
       "2033              0                0                    0   \n",
       "2477              0                0                    0   \n",
       "2536              0                0                    0   \n",
       "\n",
       "      Exterior1st_BrkFace  Exterior1st_HdbdOther  Exterior1st_MetalSd  \n",
       "175                     0                      0                    0  \n",
       "358                     0                      0                    0  \n",
       "753                     0                      0                    0  \n",
       "787                     0                      0                    0  \n",
       "871                     0                      0                    0  \n",
       "891                     0                      0                    0  \n",
       "951                     0                      0                    0  \n",
       "1041                    0                      0                    0  \n",
       "1161                    0                      0                    0  \n",
       "1355                    0                      0                    0  \n",
       "1553                    0                      0                    0  \n",
       "2033                    0                      0                    0  \n",
       "2477                    0                      0                    0  \n",
       "2536                    0                      0                    0  "
      ]
     },
     "execution_count": 59,
     "metadata": {},
     "output_type": "execute_result"
    }
   ],
   "source": [
    "tdata[tdata['MasVnrType'].isnull()].iloc[:,60:70] # Changed the column indees to investigate"
   ]
  },
  {
   "cell_type": "markdown",
   "metadata": {},
   "source": [
    "From inspection, these null-values are in rows that:\n",
    "1) Are of all different zoning types.\n",
    "2) 1/3 have missing lot frontage\n",
    "3) Most are 1Fam building types\n",
    "4) Built in 2000 or later.\n",
    "5) NaN for MasVnrArea\n",
    "6) Foundations are all PConc\n",
    "7) Most have paved drives and garages\n",
    "8) All have NaN for Fence\n",
    "\n",
    "Don't see any special relatinoships, and none have MasVnrArea, so going to fill these NaN's in as None (the mode)"
   ]
  },
  {
   "cell_type": "code",
   "execution_count": 60,
   "metadata": {},
   "outputs": [],
   "source": [
    "# Filling in missing values with 'None'\n",
    "tdata['MasVnrType'].fillna(value='None', inplace=True)"
   ]
  },
  {
   "cell_type": "code",
   "execution_count": 61,
   "metadata": {},
   "outputs": [
    {
     "name": "stdout",
     "output_type": "stream",
     "text": [
      "None       1573\n",
      "BrkFace     804\n",
      "Stone       183\n",
      "BrkCmn       20\n",
      "Name: MasVnrType, dtype: int64\n",
      "Missing values:  0\n"
     ]
    }
   ],
   "source": [
    "# Checking the transformation\n",
    "print(tdata['MasVnrType'].value_counts())\n",
    "print('Missing values: ', np.sum(tdata['MasVnrType'].isnull()))"
   ]
  },
  {
   "cell_type": "code",
   "execution_count": 62,
   "metadata": {},
   "outputs": [],
   "source": [
    "# Combining Stone and BrkCmn, those are both much higher value than BrkFace.\n",
    "tdata['MasVnrType'].replace(['Stone', 'BrkCmn'], 'StoneBrkcom', inplace=True)"
   ]
  },
  {
   "cell_type": "code",
   "execution_count": 63,
   "metadata": {},
   "outputs": [
    {
     "data": {
      "text/plain": [
       "None           1573\n",
       "BrkFace         804\n",
       "StoneBrkcom     203\n",
       "Name: MasVnrType, dtype: int64"
      ]
     },
     "execution_count": 63,
     "metadata": {},
     "output_type": "execute_result"
    }
   ],
   "source": [
    "# Checking the transformation\n",
    "tdata['MasVnrType'].value_counts()"
   ]
  },
  {
   "cell_type": "code",
   "execution_count": 64,
   "metadata": {},
   "outputs": [],
   "source": [
    "# Create dummy columns\n",
    "MasVnrType_dums = pd.get_dummies(tdata['MasVnrType'], prefix='MasVnrType', \n",
    "                                 prefix_sep='_').drop('MasVnrType_None', axis=1)\n",
    "tdata = pd.concat([tdata.drop('MasVnrType', axis=1), MasVnrType_dums], axis=1)"
   ]
  },
  {
   "cell_type": "code",
   "execution_count": 65,
   "metadata": {},
   "outputs": [
    {
     "data": {
      "text/plain": [
       "MasVnrType_BrkFace  MasVnrType_StoneBrkcom\n",
       "0                   0                         1573\n",
       "1                   0                          804\n",
       "0                   1                          203\n",
       "dtype: int64"
      ]
     },
     "execution_count": 65,
     "metadata": {},
     "output_type": "execute_result"
    }
   ],
   "source": [
    "tdata.iloc[:,-2:].value_counts()"
   ]
  },
  {
   "cell_type": "markdown",
   "metadata": {},
   "source": [
    "## MasVnrArea - Fill NaN's"
   ]
  },
  {
   "cell_type": "markdown",
   "metadata": {},
   "source": [
    "Already found out that the NaN's in this column are the same as the ones in the MasVnrType column above. I filled those in with None for type so am filling these in with 0 for Area."
   ]
  },
  {
   "cell_type": "code",
   "execution_count": 66,
   "metadata": {},
   "outputs": [
    {
     "name": "stdout",
     "output_type": "stream",
     "text": [
      "0.0      1554\n",
      "120.0      13\n",
      "216.0      11\n",
      "108.0      10\n",
      "176.0      10\n",
      "         ... \n",
      "647.0       1\n",
      "549.0       1\n",
      "262.0       1\n",
      "668.0       1\n",
      "402.0       1\n",
      "Name: MasVnrArea, Length: 416, dtype: int64\n",
      "Missing Values:  14\n"
     ]
    }
   ],
   "source": [
    "# Initial State\n",
    "print(tdata['MasVnrArea'].value_counts())\n",
    "print('Missing Values: ', np.sum(tdata['MasVnrArea'].isnull()))\n",
    "#Numerical variable, with a large amount of Zeros."
   ]
  },
  {
   "cell_type": "code",
   "execution_count": 67,
   "metadata": {},
   "outputs": [],
   "source": [
    "# Now filling the NaN's with zeros\n",
    "tdata['MasVnrArea'].fillna(value=0, inplace=True)"
   ]
  },
  {
   "cell_type": "code",
   "execution_count": 68,
   "metadata": {},
   "outputs": [
    {
     "name": "stdout",
     "output_type": "stream",
     "text": [
      "0.0      1568\n",
      "120.0      13\n",
      "216.0      11\n",
      "108.0      10\n",
      "176.0      10\n",
      "         ... \n",
      "647.0       1\n",
      "549.0       1\n",
      "262.0       1\n",
      "668.0       1\n",
      "402.0       1\n",
      "Name: MasVnrArea, Length: 416, dtype: int64\n",
      "Missing Values:  0\n"
     ]
    }
   ],
   "source": [
    "# Check that our fills went correctly\n",
    "print(tdata['MasVnrArea'].value_counts())\n",
    "print('Missing Values: ', np.sum(tdata['MasVnrArea'].isnull()))"
   ]
  },
  {
   "cell_type": "markdown",
   "metadata": {},
   "source": [
    "## Foundation - Dummify\n",
    "Maybe condense later. Potentially ask Mr. Burakowski"
   ]
  },
  {
   "cell_type": "code",
   "execution_count": 69,
   "metadata": {},
   "outputs": [
    {
     "data": {
      "text/plain": [
       "CBlock    1140\n",
       "PConc     1105\n",
       "BrkTil     278\n",
       "Slab        42\n",
       "Stone       10\n",
       "Wood         5\n",
       "Name: Foundation, dtype: int64"
      ]
     },
     "execution_count": 69,
     "metadata": {},
     "output_type": "execute_result"
    }
   ],
   "source": [
    "tdata['Foundation'].value_counts()"
   ]
  },
  {
   "cell_type": "code",
   "execution_count": 70,
   "metadata": {},
   "outputs": [],
   "source": [
    "# Create dummy columns\n",
    "Foundation_dums = pd.get_dummies(tdata['Foundation'], prefix='Foundation', \n",
    "                                 prefix_sep='_').drop('Foundation_CBlock', axis=1)\n",
    "tdata = pd.concat([tdata.drop('Foundation', axis=1), Foundation_dums], axis=1)"
   ]
  },
  {
   "cell_type": "code",
   "execution_count": 71,
   "metadata": {},
   "outputs": [
    {
     "data": {
      "text/plain": [
       "Foundation_BrkTil  Foundation_PConc  Foundation_Slab  Foundation_Stone  Foundation_Wood\n",
       "0                  0                 0                0                 0                  1140\n",
       "                   1                 0                0                 0                  1105\n",
       "1                  0                 0                0                 0                   278\n",
       "0                  0                 1                0                 0                    42\n",
       "                                     0                1                 0                    10\n",
       "                                                      0                 1                     5\n",
       "dtype: int64"
      ]
     },
     "execution_count": 71,
     "metadata": {},
     "output_type": "execute_result"
    }
   ],
   "source": [
    "# Check the dummification\n",
    "tdata.iloc[:,-5:].value_counts()"
   ]
  },
  {
   "cell_type": "markdown",
   "metadata": {},
   "source": [
    "## BsmtQual - No Basement cat from NaN's, Combine 'Po' into 'Fa', Dummify"
   ]
  },
  {
   "cell_type": "code",
   "execution_count": 72,
   "metadata": {},
   "outputs": [
    {
     "name": "stdout",
     "output_type": "stream",
     "text": [
      "TA    1166\n",
      "Gd    1077\n",
      "Ex     188\n",
      "Fa      78\n",
      "Po       2\n",
      "Name: BsmtQual, dtype: int64\n",
      "Missing values:  69\n"
     ]
    }
   ],
   "source": [
    "# Initial State\n",
    "print(tdata['BsmtQual'].value_counts())\n",
    "print('Missing values: ', np.sum(tdata['BsmtQual'].isnull()))"
   ]
  },
  {
   "cell_type": "code",
   "execution_count": 73,
   "metadata": {},
   "outputs": [],
   "source": [
    "# Combine 'Po' into 'Fa'\n",
    "tdata['BsmtQual'].replace('Po', 'Fa', inplace=True)\n",
    "# Make 'None' category for NaN's\n",
    "tdata['BsmtQual'].fillna(value='None', inplace=True)"
   ]
  },
  {
   "cell_type": "code",
   "execution_count": 74,
   "metadata": {},
   "outputs": [
    {
     "name": "stdout",
     "output_type": "stream",
     "text": [
      "TA      1166\n",
      "Gd      1077\n",
      "Ex       188\n",
      "Fa        80\n",
      "None      69\n",
      "Name: BsmtQual, dtype: int64\n",
      "Missing values:  0\n"
     ]
    }
   ],
   "source": [
    "# Check Transformation\n",
    "print(tdata['BsmtQual'].value_counts())\n",
    "print('Missing values: ', np.sum(tdata['BsmtQual'].isnull()))"
   ]
  },
  {
   "cell_type": "code",
   "execution_count": 75,
   "metadata": {},
   "outputs": [],
   "source": [
    "# Create dummy columns\n",
    "BsmtQual_dums = pd.get_dummies(tdata['BsmtQual'], prefix='BsmtQual', \n",
    "                                 prefix_sep='_').drop('BsmtQual_TA', axis=1)\n",
    "tdata = pd.concat([tdata.drop('BsmtQual', axis=1), BsmtQual_dums], axis=1)"
   ]
  },
  {
   "cell_type": "code",
   "execution_count": 76,
   "metadata": {},
   "outputs": [
    {
     "data": {
      "text/plain": [
       "BsmtQual_Ex  BsmtQual_Fa  BsmtQual_Gd  BsmtQual_None\n",
       "0            0            0            0                1166\n",
       "                          1            0                1077\n",
       "1            0            0            0                 188\n",
       "0            1            0            0                  80\n",
       "             0            0            1                  69\n",
       "dtype: int64"
      ]
     },
     "execution_count": 76,
     "metadata": {},
     "output_type": "execute_result"
    }
   ],
   "source": [
    "# Check the dummification\n",
    "tdata.iloc[:,-4:].value_counts()"
   ]
  },
  {
   "cell_type": "markdown",
   "metadata": {},
   "source": [
    "## BsmtCond - Combine 'Po' into 'Fa', 'Ex' into 'Gd'. Fill NaN's w/ 'None', the Dummify"
   ]
  },
  {
   "cell_type": "code",
   "execution_count": 77,
   "metadata": {},
   "outputs": [
    {
     "name": "stdout",
     "output_type": "stream",
     "text": [
      "TA    2316\n",
      "Gd     101\n",
      "Fa      88\n",
      "Po       3\n",
      "Ex       3\n",
      "Name: BsmtCond, dtype: int64\n",
      "Missing values:  69\n"
     ]
    }
   ],
   "source": [
    "# Initial State\n",
    "print(tdata['BsmtCond'].value_counts())\n",
    "print('Missing values: ', np.sum(tdata['BsmtCond'].isnull()))"
   ]
  },
  {
   "cell_type": "code",
   "execution_count": 78,
   "metadata": {},
   "outputs": [],
   "source": [
    "# Combine 'Po' into 'Fa', and 'Ex' into 'Gd'\n",
    "tdata['BsmtCond'].replace('Po', 'Fa', inplace=True)\n",
    "tdata['BsmtCond'].replace('Ex', 'Gd', inplace=True)\n",
    "# Fill NaN's with 'None'\n",
    "tdata['BsmtCond'].fillna(value='None', inplace=True)"
   ]
  },
  {
   "cell_type": "code",
   "execution_count": 79,
   "metadata": {},
   "outputs": [
    {
     "data": {
      "text/plain": [
       "TA      2316\n",
       "Gd       104\n",
       "Fa        91\n",
       "None      69\n",
       "Name: BsmtCond, dtype: int64"
      ]
     },
     "execution_count": 79,
     "metadata": {},
     "output_type": "execute_result"
    }
   ],
   "source": [
    "# Checking the transformation\n",
    "tdata['BsmtCond'].value_counts()"
   ]
  },
  {
   "cell_type": "code",
   "execution_count": 80,
   "metadata": {},
   "outputs": [],
   "source": [
    "# Create dummy columns\n",
    "BsmtCond_dums = pd.get_dummies(tdata['BsmtCond'], prefix='BsmtCond', \n",
    "                                 prefix_sep='_').drop('BsmtCond_TA', axis=1)\n",
    "tdata = pd.concat([tdata.drop('BsmtCond', axis=1), BsmtCond_dums], axis=1)"
   ]
  },
  {
   "cell_type": "code",
   "execution_count": 81,
   "metadata": {},
   "outputs": [
    {
     "data": {
      "text/plain": [
       "BsmtCond_Fa  BsmtCond_Gd  BsmtCond_None\n",
       "0            0            0                2316\n",
       "             1            0                 104\n",
       "1            0            0                  91\n",
       "0            0            1                  69\n",
       "dtype: int64"
      ]
     },
     "execution_count": 81,
     "metadata": {},
     "output_type": "execute_result"
    }
   ],
   "source": [
    "# Check the dummification\n",
    "tdata.iloc[:,-3:].value_counts()"
   ]
  },
  {
   "cell_type": "markdown",
   "metadata": {},
   "source": [
    "## BsmtExposure - Create a binary y/n. 'Gd', 'Av' == 1, rest == 0"
   ]
  },
  {
   "cell_type": "markdown",
   "metadata": {},
   "source": [
    "Need to figure out what the two NaN's are that are not similar to the rest of the basement column NaN's and decide what to do with them."
   ]
  },
  {
   "cell_type": "code",
   "execution_count": 82,
   "metadata": {},
   "outputs": [
    {
     "data": {
      "text/html": [
       "<div>\n",
       "<style scoped>\n",
       "    .dataframe tbody tr th:only-of-type {\n",
       "        vertical-align: middle;\n",
       "    }\n",
       "\n",
       "    .dataframe tbody tr th {\n",
       "        vertical-align: top;\n",
       "    }\n",
       "\n",
       "    .dataframe thead th {\n",
       "        text-align: right;\n",
       "    }\n",
       "</style>\n",
       "<table border=\"1\" class=\"dataframe\">\n",
       "  <thead>\n",
       "    <tr style=\"text-align: right;\">\n",
       "      <th></th>\n",
       "      <th>NoCentralAir</th>\n",
       "      <th>NonStdElectrical</th>\n",
       "      <th>1stFlrSF</th>\n",
       "      <th>2ndFlrSF</th>\n",
       "      <th>BsmtFullBath</th>\n",
       "      <th>BsmtHalfBath</th>\n",
       "      <th>FullBath</th>\n",
       "      <th>HalfBath</th>\n",
       "      <th>BedroomAbvGr</th>\n",
       "      <th>TotRmsAbvGrd</th>\n",
       "    </tr>\n",
       "  </thead>\n",
       "  <tbody>\n",
       "    <tr>\n",
       "      <th>813</th>\n",
       "      <td>0</td>\n",
       "      <td>0</td>\n",
       "      <td>936</td>\n",
       "      <td>840</td>\n",
       "      <td>0.0</td>\n",
       "      <td>0.0</td>\n",
       "      <td>2</td>\n",
       "      <td>1</td>\n",
       "      <td>3</td>\n",
       "      <td>7</td>\n",
       "    </tr>\n",
       "    <tr>\n",
       "      <th>1201</th>\n",
       "      <td>0</td>\n",
       "      <td>0</td>\n",
       "      <td>1595</td>\n",
       "      <td>0</td>\n",
       "      <td>0.0</td>\n",
       "      <td>0.0</td>\n",
       "      <td>2</td>\n",
       "      <td>0</td>\n",
       "      <td>2</td>\n",
       "      <td>6</td>\n",
       "    </tr>\n",
       "  </tbody>\n",
       "</table>\n",
       "</div>"
      ],
      "text/plain": [
       "      NoCentralAir  NonStdElectrical  1stFlrSF  2ndFlrSF  BsmtFullBath  \\\n",
       "813              0                 0       936       840           0.0   \n",
       "1201             0                 0      1595         0           0.0   \n",
       "\n",
       "      BsmtHalfBath  FullBath  HalfBath  BedroomAbvGr  TotRmsAbvGrd  \n",
       "813            0.0         2         1             3             7  \n",
       "1201           0.0         2         0             2             6  "
      ]
     },
     "execution_count": 82,
     "metadata": {},
     "output_type": "execute_result"
    }
   ],
   "source": [
    "expose_df = tdata[tdata['BsmtExposure'].isnull()]\n",
    "cond_df = data[data['BsmtCond'].isnull()]\n",
    "#The rows not shared w/ other Bsmt Columns\n",
    "expose_df[~expose_df.index.isin(cond_df.index)].iloc[:, 20:30] #changed the last columns indexes to visually inspect"
   ]
  },
  {
   "cell_type": "markdown",
   "metadata": {},
   "source": [
    "These both are unfinished basements in 1Fam houses, so I am going to the the BsmtExposure values to the modal value, 'No'"
   ]
  },
  {
   "cell_type": "code",
   "execution_count": 83,
   "metadata": {},
   "outputs": [
    {
     "name": "stdout",
     "output_type": "stream",
     "text": [
      "No    1708\n",
      "Av     344\n",
      "Gd     242\n",
      "Mn     215\n",
      "Name: BsmtExposure, dtype: int64\n",
      "Missing values:  71\n"
     ]
    }
   ],
   "source": [
    "# Initial State\n",
    "print(tdata['BsmtExposure'].value_counts())\n",
    "print('Missing values: ', np.sum(tdata['BsmtExposure'].isnull()))"
   ]
  },
  {
   "cell_type": "code",
   "execution_count": 84,
   "metadata": {},
   "outputs": [],
   "source": [
    "# Fill in the two unique NaN's with 'No'. Same for the rest of the NaN's.\n",
    "tdata['BsmtExposure'].fillna(value='No', inplace=True)\n",
    "# Combine Gd, Av into '1', combine Mn, No into '0'\n",
    "tdata['BsmtExposure'].replace(['Gd', 'Av'], 1, inplace=True)\n",
    "tdata['BsmtExposure'].replace(['Mn', 'No'], 0, inplace=True)"
   ]
  },
  {
   "cell_type": "code",
   "execution_count": 85,
   "metadata": {},
   "outputs": [
    {
     "name": "stdout",
     "output_type": "stream",
     "text": [
      "0    1994\n",
      "1     586\n",
      "Name: BsmtExposure, dtype: int64\n",
      "Missing values:  0\n"
     ]
    }
   ],
   "source": [
    "# Check Transformation\n",
    "print(tdata['BsmtExposure'].value_counts())\n",
    "print('Missing values: ', np.sum(tdata['BsmtExposure'].isnull()))"
   ]
  },
  {
   "cell_type": "markdown",
   "metadata": {},
   "source": [
    "## BsmtFinType1 - Binarize, Good Living (y or n)"
   ]
  },
  {
   "cell_type": "code",
   "execution_count": 86,
   "metadata": {},
   "outputs": [
    {
     "name": "stdout",
     "output_type": "stream",
     "text": [
      "GLQ    753\n",
      "Unf    706\n",
      "ALQ    397\n",
      "Rec    265\n",
      "BLQ    251\n",
      "LwQ    139\n",
      "Name: BsmtFinType1, dtype: int64\n",
      "Missing values:  69\n"
     ]
    }
   ],
   "source": [
    "# Initial State\n",
    "print(tdata['BsmtFinType1'].value_counts())\n",
    "print('Missing values: ', np.sum(tdata['BsmtFinType1'].isnull()))"
   ]
  },
  {
   "cell_type": "code",
   "execution_count": 87,
   "metadata": {},
   "outputs": [],
   "source": [
    "# Fill missing values with Unf (this is okay since I am dropping that class)\n",
    "tdata['BsmtFinType1'].fillna(value='Unf', inplace=True)\n",
    "# Change GLQ to 1, the rest to 0\n",
    "tdata['BsmtFinType1'].replace(['Unf', 'ALQ', 'Rec', 'BLQ', 'LwQ'], 0, inplace=True)\n",
    "tdata['BsmtFinType1'].replace(['GLQ'], 1, inplace=True)\n",
    "# change name to reflect the new column meaning\n",
    "tdata.rename(columns={'BsmtFinType1':'BsmtFinGdLvng'}, inplace=True)"
   ]
  },
  {
   "cell_type": "code",
   "execution_count": 88,
   "metadata": {},
   "outputs": [
    {
     "data": {
      "text/plain": [
       "0    1827\n",
       "1     753\n",
       "Name: BsmtFinGdLvng, dtype: int64"
      ]
     },
     "execution_count": 88,
     "metadata": {},
     "output_type": "execute_result"
    }
   ],
   "source": [
    "# Check Transformation\n",
    "tdata['BsmtFinGdLvng'].value_counts()"
   ]
  },
  {
   "cell_type": "markdown",
   "metadata": {},
   "source": [
    "# =====================\n",
    "# GABBY'S CODE SECTION\n",
    "# ====================="
   ]
  },
  {
   "cell_type": "markdown",
   "metadata": {},
   "source": [
    "## BsmtUnfSF - Keep, change the 1 null to 0."
   ]
  },
  {
   "cell_type": "code",
   "execution_count": 89,
   "metadata": {},
   "outputs": [],
   "source": [
    "sum(tdata.BsmtUnfSF.isnull())\n",
    "tdata[tdata.BsmtUnfSF.isnull()]\n",
    "# Filling in missing value with 0\n",
    "tdata['BsmtUnfSF'].fillna(value=0, inplace=True)"
   ]
  },
  {
   "cell_type": "markdown",
   "metadata": {},
   "source": [
    "## TotalBsmtSF  - Keep, change the 1 null to 0.\n"
   ]
  },
  {
   "cell_type": "code",
   "execution_count": 90,
   "metadata": {},
   "outputs": [],
   "source": [
    "sum(tdata.TotalBsmtSF.isnull())\n",
    "tdata[tdata.TotalBsmtSF.isnull()] #classic row 912\n",
    "# Filling in missing value with 0\n",
    "tdata['TotalBsmtSF'].fillna(value=0, inplace=True)"
   ]
  },
  {
   "cell_type": "markdown",
   "metadata": {},
   "source": [
    "## GarageType -\n",
    "carport into none, built-in, basement into attached, two-type into detached (possibly binary Y/N)- none for nas\n"
   ]
  },
  {
   "cell_type": "code",
   "execution_count": 91,
   "metadata": {},
   "outputs": [
    {
     "data": {
      "text/plain": [
       "0"
      ]
     },
     "execution_count": 91,
     "metadata": {},
     "output_type": "execute_result"
    }
   ],
   "source": [
    "#nas to none as per kaggle dict\n",
    "sum(tdata.GarageType.isnull())\n",
    "tdata['GarageType'].fillna(value='None', inplace=True)\n",
    "sum(tdata.GarageType.isnull())\n"
   ]
  },
  {
   "cell_type": "code",
   "execution_count": 92,
   "metadata": {},
   "outputs": [
    {
     "data": {
      "text/plain": [
       "Attchd     1527\n",
       "Detchd      716\n",
       "BuiltIn     153\n",
       "None        127\n",
       "Basment      27\n",
       "2Types       21\n",
       "CarPort       9\n",
       "Name: GarageType, dtype: int64"
      ]
     },
     "execution_count": 92,
     "metadata": {},
     "output_type": "execute_result"
    }
   ],
   "source": [
    "tdata.GarageType.value_counts()"
   ]
  },
  {
   "cell_type": "code",
   "execution_count": 93,
   "metadata": {},
   "outputs": [
    {
     "name": "stderr",
     "output_type": "stream",
     "text": [
      "<ipython-input-93-4d8f79e8676c>:2: SettingWithCopyWarning: \n",
      "A value is trying to be set on a copy of a slice from a DataFrame\n",
      "\n",
      "See the caveats in the documentation: https://pandas.pydata.org/pandas-docs/stable/user_guide/indexing.html#returning-a-view-versus-a-copy\n",
      "  tdata.GarageType[tdata.GarageType==\"CarPort\"]='None'\n",
      "<ipython-input-93-4d8f79e8676c>:3: SettingWithCopyWarning: \n",
      "A value is trying to be set on a copy of a slice from a DataFrame\n",
      "\n",
      "See the caveats in the documentation: https://pandas.pydata.org/pandas-docs/stable/user_guide/indexing.html#returning-a-view-versus-a-copy\n",
      "  tdata.GarageType[tdata.GarageType==\"BuiltIn\"]='Attchd'\n",
      "<ipython-input-93-4d8f79e8676c>:4: SettingWithCopyWarning: \n",
      "A value is trying to be set on a copy of a slice from a DataFrame\n",
      "\n",
      "See the caveats in the documentation: https://pandas.pydata.org/pandas-docs/stable/user_guide/indexing.html#returning-a-view-versus-a-copy\n",
      "  tdata.GarageType[tdata.GarageType==\"Basment\"]='Attchd'\n",
      "<ipython-input-93-4d8f79e8676c>:5: SettingWithCopyWarning: \n",
      "A value is trying to be set on a copy of a slice from a DataFrame\n",
      "\n",
      "See the caveats in the documentation: https://pandas.pydata.org/pandas-docs/stable/user_guide/indexing.html#returning-a-view-versus-a-copy\n",
      "  tdata.GarageType[tdata.GarageType==\"2Types\"]='Detchd'\n"
     ]
    },
    {
     "data": {
      "text/plain": [
       "Attchd    1707\n",
       "Detchd     737\n",
       "None       136\n",
       "Name: GarageType, dtype: int64"
      ]
     },
     "execution_count": 93,
     "metadata": {},
     "output_type": "execute_result"
    }
   ],
   "source": [
    "#whittle categories\n",
    "tdata.GarageType[tdata.GarageType==\"CarPort\"]='None'\n",
    "tdata.GarageType[tdata.GarageType==\"BuiltIn\"]='Attchd'\n",
    "tdata.GarageType[tdata.GarageType==\"Basment\"]='Attchd'\n",
    "tdata.GarageType[tdata.GarageType==\"2Types\"]='Detchd'\n",
    "tdata.GarageType.value_counts()"
   ]
  },
  {
   "cell_type": "code",
   "execution_count": 94,
   "metadata": {},
   "outputs": [
    {
     "name": "stderr",
     "output_type": "stream",
     "text": [
      "<ipython-input-94-ffd15f8ee67a>:3: SettingWithCopyWarning: \n",
      "A value is trying to be set on a copy of a slice from a DataFrame\n",
      "\n",
      "See the caveats in the documentation: https://pandas.pydata.org/pandas-docs/stable/user_guide/indexing.html#returning-a-view-versus-a-copy\n",
      "  tdata['GarageType'][(tdata['GarageFinish'].isna()==False) &(tdata['GarageType']=='None')]='Attchd'\n"
     ]
    }
   ],
   "source": [
    "#as discovered during garagefinish,there are nine nas that would suggest no garage hpwever they have garage data in all other garage cols so assigning them attched aka the mode\n",
    "sum( (tdata['GarageFinish'].isna()==False) &(tdata['GarageType']=='None')) \n",
    "tdata['GarageType'][(tdata['GarageFinish'].isna()==False) &(tdata['GarageType']=='None')]='Attchd'\n",
    "sum( (tdata['GarageFinish'].isna()==False) &(tdata['GarageType']=='None')) \n",
    "tdata.GarageType=tdata.GarageType.astype(\"category\")"
   ]
  },
  {
   "cell_type": "code",
   "execution_count": 95,
   "metadata": {},
   "outputs": [],
   "source": [
    "# Dummifying, dropping attchd column.\n",
    "GarageTypedummy = pd.get_dummies(tdata['GarageType'], prefix='GarageType', prefix_sep='_').drop('GarageType_Attchd',1)\n",
    "tdata = pd.concat([tdata, GarageTypedummy], axis=1)\n"
   ]
  },
  {
   "cell_type": "code",
   "execution_count": 96,
   "metadata": {},
   "outputs": [
    {
     "data": {
      "text/html": [
       "<div>\n",
       "<style scoped>\n",
       "    .dataframe tbody tr th:only-of-type {\n",
       "        vertical-align: middle;\n",
       "    }\n",
       "\n",
       "    .dataframe tbody tr th {\n",
       "        vertical-align: top;\n",
       "    }\n",
       "\n",
       "    .dataframe thead th {\n",
       "        text-align: right;\n",
       "    }\n",
       "</style>\n",
       "<table border=\"1\" class=\"dataframe\">\n",
       "  <thead>\n",
       "    <tr style=\"text-align: right;\">\n",
       "      <th></th>\n",
       "      <th>PID</th>\n",
       "      <th>GrLivArea</th>\n",
       "      <th>SalePrice</th>\n",
       "      <th>MSSubClass</th>\n",
       "      <th>LotArea</th>\n",
       "      <th>LotShape</th>\n",
       "      <th>LandContour</th>\n",
       "      <th>LotConfig</th>\n",
       "      <th>Neighborhood</th>\n",
       "      <th>Condition1</th>\n",
       "      <th>...</th>\n",
       "      <th>Foundation_Wood</th>\n",
       "      <th>BsmtQual_Ex</th>\n",
       "      <th>BsmtQual_Fa</th>\n",
       "      <th>BsmtQual_Gd</th>\n",
       "      <th>BsmtQual_None</th>\n",
       "      <th>BsmtCond_Fa</th>\n",
       "      <th>BsmtCond_Gd</th>\n",
       "      <th>BsmtCond_None</th>\n",
       "      <th>GarageType_Detchd</th>\n",
       "      <th>GarageType_None</th>\n",
       "    </tr>\n",
       "  </thead>\n",
       "  <tbody>\n",
       "    <tr>\n",
       "      <th>0</th>\n",
       "      <td>909176150</td>\n",
       "      <td>856</td>\n",
       "      <td>126000</td>\n",
       "      <td>30</td>\n",
       "      <td>7890</td>\n",
       "      <td>Reg</td>\n",
       "      <td>Lvl</td>\n",
       "      <td>Corner</td>\n",
       "      <td>SWISU</td>\n",
       "      <td>Norm</td>\n",
       "      <td>...</td>\n",
       "      <td>0</td>\n",
       "      <td>0</td>\n",
       "      <td>0</td>\n",
       "      <td>0</td>\n",
       "      <td>0</td>\n",
       "      <td>0</td>\n",
       "      <td>0</td>\n",
       "      <td>0</td>\n",
       "      <td>1</td>\n",
       "      <td>0</td>\n",
       "    </tr>\n",
       "    <tr>\n",
       "      <th>1</th>\n",
       "      <td>905476230</td>\n",
       "      <td>1049</td>\n",
       "      <td>139500</td>\n",
       "      <td>120</td>\n",
       "      <td>4235</td>\n",
       "      <td>Reg</td>\n",
       "      <td>Lvl</td>\n",
       "      <td>Inside</td>\n",
       "      <td>Edwards</td>\n",
       "      <td>Norm</td>\n",
       "      <td>...</td>\n",
       "      <td>0</td>\n",
       "      <td>0</td>\n",
       "      <td>0</td>\n",
       "      <td>1</td>\n",
       "      <td>0</td>\n",
       "      <td>0</td>\n",
       "      <td>0</td>\n",
       "      <td>0</td>\n",
       "      <td>0</td>\n",
       "      <td>0</td>\n",
       "    </tr>\n",
       "    <tr>\n",
       "      <th>2</th>\n",
       "      <td>911128020</td>\n",
       "      <td>1001</td>\n",
       "      <td>124900</td>\n",
       "      <td>30</td>\n",
       "      <td>6060</td>\n",
       "      <td>Reg</td>\n",
       "      <td>Lvl</td>\n",
       "      <td>Inside</td>\n",
       "      <td>IDOTRR</td>\n",
       "      <td>Norm</td>\n",
       "      <td>...</td>\n",
       "      <td>0</td>\n",
       "      <td>0</td>\n",
       "      <td>0</td>\n",
       "      <td>0</td>\n",
       "      <td>0</td>\n",
       "      <td>0</td>\n",
       "      <td>0</td>\n",
       "      <td>0</td>\n",
       "      <td>1</td>\n",
       "      <td>0</td>\n",
       "    </tr>\n",
       "    <tr>\n",
       "      <th>3</th>\n",
       "      <td>535377150</td>\n",
       "      <td>1039</td>\n",
       "      <td>114000</td>\n",
       "      <td>70</td>\n",
       "      <td>8146</td>\n",
       "      <td>Reg</td>\n",
       "      <td>Lvl</td>\n",
       "      <td>Corner</td>\n",
       "      <td>OldTown</td>\n",
       "      <td>Norm</td>\n",
       "      <td>...</td>\n",
       "      <td>0</td>\n",
       "      <td>0</td>\n",
       "      <td>1</td>\n",
       "      <td>0</td>\n",
       "      <td>0</td>\n",
       "      <td>0</td>\n",
       "      <td>0</td>\n",
       "      <td>0</td>\n",
       "      <td>1</td>\n",
       "      <td>0</td>\n",
       "    </tr>\n",
       "    <tr>\n",
       "      <th>4</th>\n",
       "      <td>534177230</td>\n",
       "      <td>1665</td>\n",
       "      <td>227000</td>\n",
       "      <td>60</td>\n",
       "      <td>8400</td>\n",
       "      <td>Reg</td>\n",
       "      <td>Lvl</td>\n",
       "      <td>Inside</td>\n",
       "      <td>NWAmes</td>\n",
       "      <td>Norm</td>\n",
       "      <td>...</td>\n",
       "      <td>0</td>\n",
       "      <td>0</td>\n",
       "      <td>0</td>\n",
       "      <td>1</td>\n",
       "      <td>0</td>\n",
       "      <td>0</td>\n",
       "      <td>0</td>\n",
       "      <td>0</td>\n",
       "      <td>0</td>\n",
       "      <td>0</td>\n",
       "    </tr>\n",
       "    <tr>\n",
       "      <th>...</th>\n",
       "      <td>...</td>\n",
       "      <td>...</td>\n",
       "      <td>...</td>\n",
       "      <td>...</td>\n",
       "      <td>...</td>\n",
       "      <td>...</td>\n",
       "      <td>...</td>\n",
       "      <td>...</td>\n",
       "      <td>...</td>\n",
       "      <td>...</td>\n",
       "      <td>...</td>\n",
       "      <td>...</td>\n",
       "      <td>...</td>\n",
       "      <td>...</td>\n",
       "      <td>...</td>\n",
       "      <td>...</td>\n",
       "      <td>...</td>\n",
       "      <td>...</td>\n",
       "      <td>...</td>\n",
       "      <td>...</td>\n",
       "      <td>...</td>\n",
       "    </tr>\n",
       "    <tr>\n",
       "      <th>2575</th>\n",
       "      <td>903205040</td>\n",
       "      <td>952</td>\n",
       "      <td>121000</td>\n",
       "      <td>30</td>\n",
       "      <td>8854</td>\n",
       "      <td>Reg</td>\n",
       "      <td>Lvl</td>\n",
       "      <td>Inside</td>\n",
       "      <td>BrkSide</td>\n",
       "      <td>Norm</td>\n",
       "      <td>...</td>\n",
       "      <td>0</td>\n",
       "      <td>0</td>\n",
       "      <td>0</td>\n",
       "      <td>0</td>\n",
       "      <td>0</td>\n",
       "      <td>0</td>\n",
       "      <td>0</td>\n",
       "      <td>0</td>\n",
       "      <td>1</td>\n",
       "      <td>0</td>\n",
       "    </tr>\n",
       "    <tr>\n",
       "      <th>2576</th>\n",
       "      <td>905402060</td>\n",
       "      <td>1733</td>\n",
       "      <td>139600</td>\n",
       "      <td>20</td>\n",
       "      <td>13680</td>\n",
       "      <td>IR1</td>\n",
       "      <td>Lvl</td>\n",
       "      <td>CulDSac</td>\n",
       "      <td>Edwards</td>\n",
       "      <td>Norm</td>\n",
       "      <td>...</td>\n",
       "      <td>0</td>\n",
       "      <td>0</td>\n",
       "      <td>0</td>\n",
       "      <td>0</td>\n",
       "      <td>1</td>\n",
       "      <td>0</td>\n",
       "      <td>0</td>\n",
       "      <td>1</td>\n",
       "      <td>0</td>\n",
       "      <td>0</td>\n",
       "    </tr>\n",
       "    <tr>\n",
       "      <th>2577</th>\n",
       "      <td>909275030</td>\n",
       "      <td>2002</td>\n",
       "      <td>145000</td>\n",
       "      <td>90</td>\n",
       "      <td>6270</td>\n",
       "      <td>Reg</td>\n",
       "      <td>HLS</td>\n",
       "      <td>Inside</td>\n",
       "      <td>Crawfor</td>\n",
       "      <td>Norm</td>\n",
       "      <td>...</td>\n",
       "      <td>0</td>\n",
       "      <td>0</td>\n",
       "      <td>0</td>\n",
       "      <td>0</td>\n",
       "      <td>0</td>\n",
       "      <td>0</td>\n",
       "      <td>0</td>\n",
       "      <td>0</td>\n",
       "      <td>1</td>\n",
       "      <td>0</td>\n",
       "    </tr>\n",
       "    <tr>\n",
       "      <th>2578</th>\n",
       "      <td>907192040</td>\n",
       "      <td>1842</td>\n",
       "      <td>217500</td>\n",
       "      <td>60</td>\n",
       "      <td>8826</td>\n",
       "      <td>Reg</td>\n",
       "      <td>Lvl</td>\n",
       "      <td>Inside</td>\n",
       "      <td>CollgCr</td>\n",
       "      <td>Norm</td>\n",
       "      <td>...</td>\n",
       "      <td>0</td>\n",
       "      <td>0</td>\n",
       "      <td>0</td>\n",
       "      <td>1</td>\n",
       "      <td>0</td>\n",
       "      <td>0</td>\n",
       "      <td>0</td>\n",
       "      <td>0</td>\n",
       "      <td>0</td>\n",
       "      <td>0</td>\n",
       "    </tr>\n",
       "    <tr>\n",
       "      <th>2579</th>\n",
       "      <td>906223180</td>\n",
       "      <td>1911</td>\n",
       "      <td>215000</td>\n",
       "      <td>60</td>\n",
       "      <td>9554</td>\n",
       "      <td>IR1</td>\n",
       "      <td>Lvl</td>\n",
       "      <td>Inside</td>\n",
       "      <td>SawyerW</td>\n",
       "      <td>Norm</td>\n",
       "      <td>...</td>\n",
       "      <td>0</td>\n",
       "      <td>0</td>\n",
       "      <td>0</td>\n",
       "      <td>1</td>\n",
       "      <td>0</td>\n",
       "      <td>0</td>\n",
       "      <td>0</td>\n",
       "      <td>0</td>\n",
       "      <td>0</td>\n",
       "      <td>0</td>\n",
       "    </tr>\n",
       "  </tbody>\n",
       "</table>\n",
       "<p>2580 rows × 83 columns</p>\n",
       "</div>"
      ],
      "text/plain": [
       "            PID  GrLivArea  SalePrice  MSSubClass  LotArea LotShape  \\\n",
       "0     909176150        856     126000          30     7890      Reg   \n",
       "1     905476230       1049     139500         120     4235      Reg   \n",
       "2     911128020       1001     124900          30     6060      Reg   \n",
       "3     535377150       1039     114000          70     8146      Reg   \n",
       "4     534177230       1665     227000          60     8400      Reg   \n",
       "...         ...        ...        ...         ...      ...      ...   \n",
       "2575  903205040        952     121000          30     8854      Reg   \n",
       "2576  905402060       1733     139600          20    13680      IR1   \n",
       "2577  909275030       2002     145000          90     6270      Reg   \n",
       "2578  907192040       1842     217500          60     8826      Reg   \n",
       "2579  906223180       1911     215000          60     9554      IR1   \n",
       "\n",
       "     LandContour LotConfig Neighborhood Condition1  ... Foundation_Wood  \\\n",
       "0            Lvl    Corner        SWISU       Norm  ...               0   \n",
       "1            Lvl    Inside      Edwards       Norm  ...               0   \n",
       "2            Lvl    Inside       IDOTRR       Norm  ...               0   \n",
       "3            Lvl    Corner      OldTown       Norm  ...               0   \n",
       "4            Lvl    Inside       NWAmes       Norm  ...               0   \n",
       "...          ...       ...          ...        ...  ...             ...   \n",
       "2575         Lvl    Inside      BrkSide       Norm  ...               0   \n",
       "2576         Lvl   CulDSac      Edwards       Norm  ...               0   \n",
       "2577         HLS    Inside      Crawfor       Norm  ...               0   \n",
       "2578         Lvl    Inside      CollgCr       Norm  ...               0   \n",
       "2579         Lvl    Inside      SawyerW       Norm  ...               0   \n",
       "\n",
       "      BsmtQual_Ex  BsmtQual_Fa  BsmtQual_Gd  BsmtQual_None BsmtCond_Fa  \\\n",
       "0               0            0            0              0           0   \n",
       "1               0            0            1              0           0   \n",
       "2               0            0            0              0           0   \n",
       "3               0            1            0              0           0   \n",
       "4               0            0            1              0           0   \n",
       "...           ...          ...          ...            ...         ...   \n",
       "2575            0            0            0              0           0   \n",
       "2576            0            0            0              1           0   \n",
       "2577            0            0            0              0           0   \n",
       "2578            0            0            1              0           0   \n",
       "2579            0            0            1              0           0   \n",
       "\n",
       "      BsmtCond_Gd  BsmtCond_None  GarageType_Detchd  GarageType_None  \n",
       "0               0              0                  1                0  \n",
       "1               0              0                  0                0  \n",
       "2               0              0                  1                0  \n",
       "3               0              0                  1                0  \n",
       "4               0              0                  0                0  \n",
       "...           ...            ...                ...              ...  \n",
       "2575            0              0                  1                0  \n",
       "2576            0              1                  0                0  \n",
       "2577            0              0                  1                0  \n",
       "2578            0              0                  0                0  \n",
       "2579            0              0                  0                0  \n",
       "\n",
       "[2580 rows x 83 columns]"
      ]
     },
     "execution_count": 96,
     "metadata": {},
     "output_type": "execute_result"
    }
   ],
   "source": [
    "tdata"
   ]
  },
  {
   "cell_type": "markdown",
   "metadata": {},
   "source": [
    "## HasGarage -create binary garage col- 1=yes garage"
   ]
  },
  {
   "cell_type": "code",
   "execution_count": 97,
   "metadata": {},
   "outputs": [],
   "source": [
    "#tdata['HasGarage'] = np.where(tdata['GarageType']!= 'None', 1, 0)"
   ]
  },
  {
   "cell_type": "code",
   "execution_count": 98,
   "metadata": {},
   "outputs": [],
   "source": [
    "#check its worked\n",
    "#sum(tdata['HasGarage']==0)"
   ]
  },
  {
   "cell_type": "markdown",
   "metadata": {},
   "source": [
    "## GarageFinish"
   ]
  },
  {
   "cell_type": "code",
   "execution_count": 99,
   "metadata": {},
   "outputs": [
    {
     "data": {
      "text/plain": [
       "129"
      ]
     },
     "execution_count": 99,
     "metadata": {},
     "output_type": "execute_result"
    }
   ],
   "source": [
    "tdata['GarageFinish'].value_counts()\n",
    "sum(tdata['GarageFinish'].isna())\n",
    "#sum( (tdata['GarageFinish'].isna()) &(tdata['GarageType']!='None')) "
   ]
  },
  {
   "cell_type": "code",
   "execution_count": 100,
   "metadata": {},
   "outputs": [
    {
     "name": "stderr",
     "output_type": "stream",
     "text": [
      "<ipython-input-100-ae0553da1aa2>:1: SettingWithCopyWarning: \n",
      "A value is trying to be set on a copy of a slice from a DataFrame\n",
      "\n",
      "See the caveats in the documentation: https://pandas.pydata.org/pandas-docs/stable/user_guide/indexing.html#returning-a-view-versus-a-copy\n",
      "  tdata.GarageFinish[(tdata['GarageFinish'].isna()) &(tdata['GarageType']!='None')]='Unf'\n"
     ]
    }
   ],
   "source": [
    "tdata.GarageFinish[(tdata['GarageFinish'].isna()) &(tdata['GarageType']!='None')]='Unf'"
   ]
  },
  {
   "cell_type": "code",
   "execution_count": 101,
   "metadata": {},
   "outputs": [
    {
     "data": {
      "text/plain": [
       "Unf    1114\n",
       "RFn     718\n",
       "Fin     621\n",
       "Name: GarageFinish, dtype: int64"
      ]
     },
     "execution_count": 101,
     "metadata": {},
     "output_type": "execute_result"
    }
   ],
   "source": [
    "tdata['GarageFinish'].value_counts()"
   ]
  },
  {
   "cell_type": "code",
   "execution_count": 102,
   "metadata": {},
   "outputs": [
    {
     "name": "stderr",
     "output_type": "stream",
     "text": [
      "<ipython-input-102-058c3fab6866>:1: SettingWithCopyWarning: \n",
      "A value is trying to be set on a copy of a slice from a DataFrame\n",
      "\n",
      "See the caveats in the documentation: https://pandas.pydata.org/pandas-docs/stable/user_guide/indexing.html#returning-a-view-versus-a-copy\n",
      "  tdata['GarageFinish'][(tdata['GarageFinish'].isna())]='None'\n"
     ]
    }
   ],
   "source": [
    "tdata['GarageFinish'][(tdata['GarageFinish'].isna())]='None'\n",
    "tdata['GarageFinish'].value_counts()\n",
    "tdata.GarageFinish=tdata.GarageFinish.astype(\"category\")\n",
    "GarageFinishdummy = pd.get_dummies(tdata['GarageFinish'], prefix='GarageFinish', prefix_sep='_').drop('GarageFinish_Unf',1)\n",
    "tdata = pd.concat([tdata, GarageFinishdummy], axis=1)"
   ]
  },
  {
   "cell_type": "markdown",
   "metadata": {},
   "source": [
    "## GarageCars- keep as is"
   ]
  },
  {
   "cell_type": "code",
   "execution_count": 103,
   "metadata": {},
   "outputs": [
    {
     "data": {
      "text/plain": [
       "1"
      ]
     },
     "execution_count": 103,
     "metadata": {},
     "output_type": "execute_result"
    }
   ],
   "source": [
    "sum(tdata['GarageCars'].isna())"
   ]
  },
  {
   "cell_type": "code",
   "execution_count": 104,
   "metadata": {},
   "outputs": [
    {
     "name": "stderr",
     "output_type": "stream",
     "text": [
      "<ipython-input-104-c5fc05e22339>:3: SettingWithCopyWarning: \n",
      "A value is trying to be set on a copy of a slice from a DataFrame\n",
      "\n",
      "See the caveats in the documentation: https://pandas.pydata.org/pandas-docs/stable/user_guide/indexing.html#returning-a-view-versus-a-copy\n",
      "  tdata['GarageCars'][tdata['GarageCars'].isna()]=round(tdata['GarageCars'].mean())\n"
     ]
    }
   ],
   "source": [
    "tdata['GarageFinish'][tdata['GarageCars'].isna()]\n",
    "#one na which has features for garage type so we gonna give it the avrg number of cars \n",
    "tdata['GarageCars'][tdata['GarageCars'].isna()]=round(tdata['GarageCars'].mean())"
   ]
  },
  {
   "cell_type": "code",
   "execution_count": 105,
   "metadata": {},
   "outputs": [
    {
     "data": {
      "text/plain": [
       "0"
      ]
     },
     "execution_count": 105,
     "metadata": {},
     "output_type": "execute_result"
    }
   ],
   "source": [
    "sum(tdata['GarageCars'].isna())"
   ]
  },
  {
   "cell_type": "markdown",
   "metadata": {},
   "source": [
    "## GarageArea - if missing-> replace w mean of those w garages else 0 if no garage duh "
   ]
  },
  {
   "cell_type": "code",
   "execution_count": 106,
   "metadata": {},
   "outputs": [
    {
     "data": {
      "text/plain": [
       "0"
      ]
     },
     "execution_count": 106,
     "metadata": {},
     "output_type": "execute_result"
    }
   ],
   "source": [
    "sum( (tdata['GarageArea'].isna()) &(tdata['GarageType']!='None'))\n",
    "sum( (tdata['GarageArea']==0) &(tdata['GarageType']!='None'))\n",
    "sum( (tdata['GarageArea']!=0) &(tdata['GarageType']=='None'))"
   ]
  },
  {
   "cell_type": "code",
   "execution_count": 107,
   "metadata": {},
   "outputs": [
    {
     "name": "stderr",
     "output_type": "stream",
     "text": [
      "<ipython-input-107-0f7f5f9bc4cd>:2: SettingWithCopyWarning: \n",
      "A value is trying to be set on a copy of a slice from a DataFrame\n",
      "\n",
      "See the caveats in the documentation: https://pandas.pydata.org/pandas-docs/stable/user_guide/indexing.html#returning-a-view-versus-a-copy\n",
      "  tdata['GarageArea'][(tdata['GarageArea'].isna()) &(tdata['GarageType']!='None')]=round(tdata['GarageArea'][tdata['GarageArea']!=0].mean())\n"
     ]
    }
   ],
   "source": [
    "#one w a garage but no area \n",
    "tdata['GarageArea'][(tdata['GarageArea'].isna()) &(tdata['GarageType']!='None')]=round(tdata['GarageArea'][tdata['GarageArea']!=0].mean())"
   ]
  },
  {
   "cell_type": "code",
   "execution_count": 108,
   "metadata": {},
   "outputs": [
    {
     "data": {
      "text/plain": [
       "0"
      ]
     },
     "execution_count": 108,
     "metadata": {},
     "output_type": "execute_result"
    }
   ],
   "source": [
    "sum(tdata['GarageArea'].isna())"
   ]
  },
  {
   "cell_type": "markdown",
   "metadata": {},
   "source": [
    "## PavedDrive - binary, y=0 n=1 as per drop maj class- follow up w luke"
   ]
  },
  {
   "cell_type": "code",
   "execution_count": 109,
   "metadata": {},
   "outputs": [
    {
     "data": {
      "text/plain": [
       "0"
      ]
     },
     "execution_count": 109,
     "metadata": {},
     "output_type": "execute_result"
    }
   ],
   "source": [
    "sum(tdata['PavedDrive'].isna())"
   ]
  },
  {
   "cell_type": "code",
   "execution_count": 110,
   "metadata": {},
   "outputs": [],
   "source": [
    "#tdata[tdata['PavedDrive']==\"Y\"]\n",
    "tdata['UnpavedDrive'] = np.where(tdata['PavedDrive']!= 'Y', 1, 0)"
   ]
  },
  {
   "cell_type": "code",
   "execution_count": 111,
   "metadata": {},
   "outputs": [],
   "source": [
    "tdata=tdata.drop('PavedDrive',1)"
   ]
  },
  {
   "cell_type": "code",
   "execution_count": 112,
   "metadata": {},
   "outputs": [],
   "source": [
    "#tdata.PavedDrive"
   ]
  },
  {
   "cell_type": "markdown",
   "metadata": {},
   "source": [
    "## WoodDeckSF - binarize"
   ]
  },
  {
   "cell_type": "code",
   "execution_count": null,
   "metadata": {},
   "outputs": [],
   "source": []
  },
  {
   "cell_type": "code",
   "execution_count": 113,
   "metadata": {},
   "outputs": [],
   "source": [
    "sum(tdata['WoodDeckSF'].isna())\n",
    "sum(tdata['WoodDeckSF']>0)\n",
    "tdata['WoodDeckBinary']=tdata['WoodDeckSF']>0\n",
    "tdata=tdata.drop('WoodDeckSF',1)"
   ]
  },
  {
   "cell_type": "code",
   "execution_count": 114,
   "metadata": {},
   "outputs": [],
   "source": [
    "#tdata.WoodDeckSF"
   ]
  },
  {
   "cell_type": "markdown",
   "metadata": {},
   "source": [
    "## Create Has Porch\n"
   ]
  },
  {
   "cell_type": "code",
   "execution_count": 115,
   "metadata": {},
   "outputs": [],
   "source": [
    "tdata['HasPorch']=((tdata['ScreenPorch']+tdata['OpenPorchSF']+tdata['3SsnPorch']+tdata['EnclosedPorch'])>0).astype(int)\n"
   ]
  },
  {
   "cell_type": "code",
   "execution_count": 116,
   "metadata": {},
   "outputs": [],
   "source": [
    "tdata=tdata.drop('ScreenPorch',1)\n",
    "tdata=tdata.drop('OpenPorchSF',1)\n",
    "tdata=tdata.drop('3SsnPorch',1)\n",
    "tdata=tdata.drop('EnclosedPorch',1)"
   ]
  },
  {
   "cell_type": "markdown",
   "metadata": {},
   "source": [
    "## Fence- Binarize"
   ]
  },
  {
   "cell_type": "code",
   "execution_count": 117,
   "metadata": {},
   "outputs": [
    {
     "data": {
      "text/plain": [
       "2055"
      ]
     },
     "execution_count": 117,
     "metadata": {},
     "output_type": "execute_result"
    }
   ],
   "source": [
    "sum(tdata.Fence.isna())"
   ]
  },
  {
   "cell_type": "code",
   "execution_count": 118,
   "metadata": {},
   "outputs": [
    {
     "name": "stderr",
     "output_type": "stream",
     "text": [
      "<ipython-input-118-59ec50b9ce32>:1: SettingWithCopyWarning: \n",
      "A value is trying to be set on a copy of a slice from a DataFrame\n",
      "\n",
      "See the caveats in the documentation: https://pandas.pydata.org/pandas-docs/stable/user_guide/indexing.html#returning-a-view-versus-a-copy\n",
      "  tdata['Fence'][tdata['Fence'].isna()]='None'\n"
     ]
    }
   ],
   "source": [
    "tdata['Fence'][tdata['Fence'].isna()]='None'"
   ]
  },
  {
   "cell_type": "code",
   "execution_count": 119,
   "metadata": {},
   "outputs": [],
   "source": [
    "tdata['FenceBinary']=(tdata['Fence']!='None').astype(int)\n"
   ]
  },
  {
   "cell_type": "code",
   "execution_count": 120,
   "metadata": {},
   "outputs": [
    {
     "data": {
      "text/plain": [
       "2055"
      ]
     },
     "execution_count": 120,
     "metadata": {},
     "output_type": "execute_result"
    }
   ],
   "source": [
    "sum(tdata['FenceBinary']==0)"
   ]
  },
  {
   "cell_type": "code",
   "execution_count": 121,
   "metadata": {},
   "outputs": [],
   "source": [
    "tdata=tdata.drop('Fence',1)"
   ]
  },
  {
   "cell_type": "markdown",
   "metadata": {},
   "source": [
    "## MoSold"
   ]
  },
  {
   "cell_type": "code",
   "execution_count": 122,
   "metadata": {},
   "outputs": [
    {
     "data": {
      "text/plain": [
       "0"
      ]
     },
     "execution_count": 122,
     "metadata": {},
     "output_type": "execute_result"
    }
   ],
   "source": [
    "sum(tdata.MoSold.isna())"
   ]
  },
  {
   "cell_type": "code",
   "execution_count": 123,
   "metadata": {},
   "outputs": [],
   "source": [
    "tdata.MoSold=tdata.MoSold.astype(\"category\")"
   ]
  },
  {
   "cell_type": "markdown",
   "metadata": {},
   "source": [
    "## OverallQual"
   ]
  },
  {
   "cell_type": "code",
   "execution_count": 124,
   "metadata": {},
   "outputs": [
    {
     "data": {
      "text/plain": [
       "0"
      ]
     },
     "execution_count": 124,
     "metadata": {},
     "output_type": "execute_result"
    }
   ],
   "source": [
    "sum(tdata.OverallQual.isna())"
   ]
  },
  {
   "cell_type": "code",
   "execution_count": 125,
   "metadata": {},
   "outputs": [
    {
     "data": {
      "text/plain": [
       "<AxesSubplot:xlabel='OverallQual', ylabel='SalePrice'>"
      ]
     },
     "execution_count": 125,
     "metadata": {},
     "output_type": "execute_result"
    },
    {
     "data": {
      "image/png": "[encoded data removed]",
      "text/plain": [
       "<Figure size 432x288 with 1 Axes>"
      ]
     },
     "metadata": {
      "needs_background": "light"
     },
     "output_type": "display_data"
    }
   ],
   "source": [
    "sns.boxplot(x='OverallQual',y='SalePrice',data=tdata)"
   ]
  },
  {
   "cell_type": "code",
   "execution_count": 126,
   "metadata": {},
   "outputs": [
    {
     "data": {
      "text/plain": [
       "<AxesSubplot:xlabel='OverallQual', ylabel='OverallCond'>"
      ]
     },
     "execution_count": 126,
     "metadata": {},
     "output_type": "execute_result"
    },
    {
     "data": {
      "image/png": "[encoded data removed]",
      "text/plain": [
       "<Figure size 432x288 with 1 Axes>"
      ]
     },
     "metadata": {
      "needs_background": "light"
     },
     "output_type": "display_data"
    }
   ],
   "source": [
    "sns.boxplot(x='OverallQual',y='OverallCond',data=tdata)"
   ]
  },
  {
   "cell_type": "markdown",
   "metadata": {},
   "source": [
    "## OverallCond- \n",
    "-said we should binarize but going to do that in new col bc i actually like this as is now ...\n",
    "-do we think this should be ordinal or nominal categorical? "
   ]
  },
  {
   "cell_type": "code",
   "execution_count": 127,
   "metadata": {},
   "outputs": [
    {
     "data": {
      "text/plain": [
       "0"
      ]
     },
     "execution_count": 127,
     "metadata": {},
     "output_type": "execute_result"
    }
   ],
   "source": [
    "sum(tdata.OverallCond.isna())"
   ]
  },
  {
   "cell_type": "code",
   "execution_count": 128,
   "metadata": {},
   "outputs": [
    {
     "data": {
      "text/plain": [
       "5    1402\n",
       "6     498\n",
       "7     360\n",
       "8     140\n",
       "4      88\n",
       "9      41\n",
       "3      39\n",
       "2       8\n",
       "1       4\n",
       "Name: OverallCond, dtype: int64"
      ]
     },
     "execution_count": 128,
     "metadata": {},
     "output_type": "execute_result"
    }
   ],
   "source": [
    "tdata.OverallCond.value_counts()"
   ]
  },
  {
   "cell_type": "code",
   "execution_count": 129,
   "metadata": {},
   "outputs": [
    {
     "data": {
      "text/plain": [
       "(array([   4.,    8.,   39.,   88.,    0., 1402.,  498.,  360.,  140.,\n",
       "          41.]),\n",
       " array([1. , 1.8, 2.6, 3.4, 4.2, 5. , 5.8, 6.6, 7.4, 8.2, 9. ]),\n",
       " <BarContainer object of 10 artists>)"
      ]
     },
     "execution_count": 129,
     "metadata": {},
     "output_type": "execute_result"
    },
    {
     "data": {
      "image/png": "[encoded data removed]",
      "text/plain": [
       "<Figure size 432x288 with 1 Axes>"
      ]
     },
     "metadata": {
      "needs_background": "light"
     },
     "output_type": "display_data"
    }
   ],
   "source": [
    "plt.hist(tdata.OverallCond)"
   ]
  },
  {
   "cell_type": "code",
   "execution_count": 130,
   "metadata": {},
   "outputs": [
    {
     "data": {
      "text/plain": [
       "<AxesSubplot:xlabel='OverallCond', ylabel='SalePrice'>"
      ]
     },
     "execution_count": 130,
     "metadata": {},
     "output_type": "execute_result"
    },
    {
     "data": {
      "image/png": "[encoded data removed]",
      "text/plain": [
       "<Figure size 432x288 with 1 Axes>"
      ]
     },
     "metadata": {
      "needs_background": "light"
     },
     "output_type": "display_data"
    }
   ],
   "source": [
    "sns.boxplot(x='OverallCond',y='SalePrice',data=tdata)"
   ]
  },
  {
   "cell_type": "markdown",
   "metadata": {},
   "source": [
    "## OverallCondBinary\n",
    "-below average y or no "
   ]
  },
  {
   "cell_type": "code",
   "execution_count": 131,
   "metadata": {},
   "outputs": [],
   "source": [
    "tdata['OverallCondBinary']=(tdata['OverallCond']<5).astype(int)\n",
    "tdata=tdata.drop('OverallCond',1)"
   ]
  },
  {
   "cell_type": "markdown",
   "metadata": {},
   "source": [
    "## GeoRefNo"
   ]
  },
  {
   "cell_type": "code",
   "execution_count": 132,
   "metadata": {},
   "outputs": [
    {
     "data": {
      "text/plain": [
       "21"
      ]
     },
     "execution_count": 132,
     "metadata": {},
     "output_type": "execute_result"
    }
   ],
   "source": [
    "sum(tdata.GeoRefNo.isna())"
   ]
  },
  {
   "cell_type": "code",
   "execution_count": 133,
   "metadata": {},
   "outputs": [],
   "source": [
    "#nothing I can do about these nas rn- will become an issue for computing distance\n",
    "#to college. at that time we can impute the avrg distance or since small # instances do manually if\n",
    "#they have an address\n",
    "\n",
    "#themissing21 = indices of these rows  in case want to drop "
   ]
  },
  {
   "cell_type": "markdown",
   "metadata": {},
   "source": [
    "## Prop_Addr"
   ]
  },
  {
   "cell_type": "code",
   "execution_count": 134,
   "metadata": {},
   "outputs": [
    {
     "data": {
      "text/plain": [
       "21"
      ]
     },
     "execution_count": 134,
     "metadata": {},
     "output_type": "execute_result"
    }
   ],
   "source": [
    "sum((tdata.Prop_Addr.isna()))#&(tdata.GeoRefNo.isna()))\n",
    "#same 21 w no address- nothing can do bout that \n"
   ]
  },
  {
   "cell_type": "markdown",
   "metadata": {},
   "source": [
    "## SchD_S\n",
    "-binary- 1 means school dist 5 else dist 1"
   ]
  },
  {
   "cell_type": "code",
   "execution_count": 135,
   "metadata": {},
   "outputs": [
    {
     "data": {
      "text/plain": [
       "21"
      ]
     },
     "execution_count": 135,
     "metadata": {},
     "output_type": "execute_result"
    }
   ],
   "source": [
    "sum((tdata.SchD_S.isna()) &(tdata.GeoRefNo.isna()))\n",
    "#same 21 w no address- impute mode"
   ]
  },
  {
   "cell_type": "code",
   "execution_count": 136,
   "metadata": {},
   "outputs": [
    {
     "data": {
      "text/plain": [
       "1.0    2229\n",
       "5.0     330\n",
       "Name: SchD_S, dtype: int64"
      ]
     },
     "execution_count": 136,
     "metadata": {},
     "output_type": "execute_result"
    }
   ],
   "source": [
    "tdata.SchD_S.value_counts()"
   ]
  },
  {
   "cell_type": "code",
   "execution_count": 137,
   "metadata": {},
   "outputs": [
    {
     "name": "stderr",
     "output_type": "stream",
     "text": [
      "<ipython-input-137-6fb3b8e8450f>:1: SettingWithCopyWarning: \n",
      "A value is trying to be set on a copy of a slice from a DataFrame\n",
      "\n",
      "See the caveats in the documentation: https://pandas.pydata.org/pandas-docs/stable/user_guide/indexing.html#returning-a-view-versus-a-copy\n",
      "  tdata.SchD_S[tdata.SchD_S.isna()]=1.0\n"
     ]
    }
   ],
   "source": [
    "tdata.SchD_S[tdata.SchD_S.isna()]=1.0"
   ]
  },
  {
   "cell_type": "code",
   "execution_count": 138,
   "metadata": {},
   "outputs": [],
   "source": [
    "tdata['SchD_S'] = np.where(tdata['SchD_S']== 5.0, 1, 0)"
   ]
  },
  {
   "cell_type": "code",
   "execution_count": 139,
   "metadata": {},
   "outputs": [
    {
     "data": {
      "text/plain": [
       "330"
      ]
     },
     "execution_count": 139,
     "metadata": {},
     "output_type": "execute_result"
    }
   ],
   "source": [
    "sum(tdata['SchD_S']==1)"
   ]
  },
  {
   "cell_type": "markdown",
   "metadata": {},
   "source": [
    "## TxD_S \n",
    "-this is perfectly corr w school dist- drop "
   ]
  },
  {
   "cell_type": "code",
   "execution_count": 140,
   "metadata": {},
   "outputs": [
    {
     "data": {
      "text/plain": [
       "21"
      ]
     },
     "execution_count": 140,
     "metadata": {},
     "output_type": "execute_result"
    }
   ],
   "source": [
    "sum((tdata.TxD_S.isna()))"
   ]
  },
  {
   "cell_type": "code",
   "execution_count": 141,
   "metadata": {},
   "outputs": [
    {
     "data": {
      "text/plain": [
       "1.0     2229\n",
       "45.0     330\n",
       "Name: TxD_S, dtype: int64"
      ]
     },
     "execution_count": 141,
     "metadata": {},
     "output_type": "execute_result"
    }
   ],
   "source": [
    "tdata.TxD_S.value_counts()"
   ]
  },
  {
   "cell_type": "code",
   "execution_count": 142,
   "metadata": {},
   "outputs": [
    {
     "name": "stderr",
     "output_type": "stream",
     "text": [
      "<ipython-input-142-c4b4d3829437>:1: SettingWithCopyWarning: \n",
      "A value is trying to be set on a copy of a slice from a DataFrame\n",
      "\n",
      "See the caveats in the documentation: https://pandas.pydata.org/pandas-docs/stable/user_guide/indexing.html#returning-a-view-versus-a-copy\n",
      "  tdata.TxD_S[tdata.TxD_S.isna()]=1.0\n"
     ]
    }
   ],
   "source": [
    "tdata.TxD_S[tdata.TxD_S.isna()]=1.0\n",
    "tdata['TxD_S'] = np.where(tdata['TxD_S']== 45.0, 1, 0)"
   ]
  },
  {
   "cell_type": "code",
   "execution_count": 143,
   "metadata": {},
   "outputs": [],
   "source": [
    "tdata=tdata.drop(columns='TxD_S')"
   ]
  },
  {
   "cell_type": "markdown",
   "metadata": {},
   "source": [
    "## LndAc_S\n",
    "-thinking bout filling in the nas and zeros with the avrg land ac size for the given lot area cause theyre roughly corr and rando avrg might not make sense\n",
    "-hypothesize we will see some correlations in cols "
   ]
  },
  {
   "cell_type": "code",
   "execution_count": 144,
   "metadata": {},
   "outputs": [
    {
     "data": {
      "text/plain": [
       "21"
      ]
     },
     "execution_count": 144,
     "metadata": {},
     "output_type": "execute_result"
    }
   ],
   "source": [
    "sum((tdata.LndAc_S.isna()) )"
   ]
  },
  {
   "cell_type": "code",
   "execution_count": 145,
   "metadata": {},
   "outputs": [],
   "source": [
    "themissing21=tdata.index[(tdata.LndAc_S.isna())].tolist()"
   ]
  },
  {
   "cell_type": "code",
   "execution_count": 146,
   "metadata": {},
   "outputs": [
    {
     "data": {
      "text/html": [
       "<div>\n",
       "<style scoped>\n",
       "    .dataframe tbody tr th:only-of-type {\n",
       "        vertical-align: middle;\n",
       "    }\n",
       "\n",
       "    .dataframe tbody tr th {\n",
       "        vertical-align: top;\n",
       "    }\n",
       "\n",
       "    .dataframe thead th {\n",
       "        text-align: right;\n",
       "    }\n",
       "</style>\n",
       "<table border=\"1\" class=\"dataframe\">\n",
       "  <thead>\n",
       "    <tr style=\"text-align: right;\">\n",
       "      <th></th>\n",
       "      <th>PID</th>\n",
       "      <th>GrLivArea</th>\n",
       "      <th>SalePrice</th>\n",
       "      <th>MSSubClass</th>\n",
       "      <th>LotArea</th>\n",
       "      <th>LotShape</th>\n",
       "      <th>LandContour</th>\n",
       "      <th>LotConfig</th>\n",
       "      <th>Neighborhood</th>\n",
       "      <th>Condition1</th>\n",
       "      <th>...</th>\n",
       "      <th>GarageType_Detchd</th>\n",
       "      <th>GarageType_None</th>\n",
       "      <th>GarageFinish_Fin</th>\n",
       "      <th>GarageFinish_None</th>\n",
       "      <th>GarageFinish_RFn</th>\n",
       "      <th>UnpavedDrive</th>\n",
       "      <th>WoodDeckBinary</th>\n",
       "      <th>HasPorch</th>\n",
       "      <th>FenceBinary</th>\n",
       "      <th>OverallCondBinary</th>\n",
       "    </tr>\n",
       "  </thead>\n",
       "  <tbody>\n",
       "    <tr>\n",
       "      <th>904</th>\n",
       "      <td>910206010</td>\n",
       "      <td>845</td>\n",
       "      <td>68104</td>\n",
       "      <td>50</td>\n",
       "      <td>11067</td>\n",
       "      <td>Reg</td>\n",
       "      <td>Lvl</td>\n",
       "      <td>Corner</td>\n",
       "      <td>IDOTRR</td>\n",
       "      <td>Norm</td>\n",
       "      <td>...</td>\n",
       "      <td>1</td>\n",
       "      <td>0</td>\n",
       "      <td>0</td>\n",
       "      <td>0</td>\n",
       "      <td>0</td>\n",
       "      <td>1</td>\n",
       "      <td>True</td>\n",
       "      <td>0</td>\n",
       "      <td>0</td>\n",
       "      <td>1</td>\n",
       "    </tr>\n",
       "  </tbody>\n",
       "</table>\n",
       "<p>1 rows × 82 columns</p>\n",
       "</div>"
      ],
      "text/plain": [
       "           PID  GrLivArea  SalePrice  MSSubClass  LotArea LotShape  \\\n",
       "904  910206010        845      68104          50    11067      Reg   \n",
       "\n",
       "    LandContour LotConfig Neighborhood Condition1  ... GarageType_Detchd  \\\n",
       "904         Lvl    Corner       IDOTRR       Norm  ...                 1   \n",
       "\n",
       "     GarageType_None  GarageFinish_Fin  GarageFinish_None GarageFinish_RFn  \\\n",
       "904                0                 0                  0                0   \n",
       "\n",
       "     UnpavedDrive  WoodDeckBinary  HasPorch  FenceBinary  OverallCondBinary  \n",
       "904             1            True         0            0                  1  \n",
       "\n",
       "[1 rows x 82 columns]"
      ]
     },
     "execution_count": 146,
     "metadata": {},
     "output_type": "execute_result"
    }
   ],
   "source": [
    "tdata[tdata.LndAc_S==0]"
   ]
  },
  {
   "cell_type": "code",
   "execution_count": 147,
   "metadata": {},
   "outputs": [
    {
     "data": {
      "text/plain": [
       "44000.0     13\n",
       "43700.0     12\n",
       "36800.0     12\n",
       "41700.0     12\n",
       "40200.0     12\n",
       "            ..\n",
       "100400.0     1\n",
       "80300.0      1\n",
       "68900.0      1\n",
       "123300.0     1\n",
       "87700.0      1\n",
       "Name: LndAc_S, Length: 772, dtype: int64"
      ]
     },
     "execution_count": 147,
     "metadata": {},
     "output_type": "execute_result"
    }
   ],
   "source": [
    "tdata.LndAc_S.value_counts()"
   ]
  },
  {
   "cell_type": "code",
   "execution_count": 148,
   "metadata": {},
   "outputs": [
    {
     "data": {
      "text/plain": [
       "<matplotlib.collections.PathCollection at 0x7f7f1f2da5e0>"
      ]
     },
     "execution_count": 148,
     "metadata": {},
     "output_type": "execute_result"
    },
    {
     "data": {
      "image/png": "[encoded data removed]",
      "text/plain": [
       "<Figure size 432x288 with 1 Axes>"
      ]
     },
     "metadata": {
      "needs_background": "light"
     },
     "output_type": "display_data"
    }
   ],
   "source": [
    "plt.scatter(tdata['LndAc_S'], np.log(tdata['LotArea']))\n",
    "#vis corr w lot area "
   ]
  },
  {
   "cell_type": "code",
   "execution_count": 149,
   "metadata": {},
   "outputs": [
    {
     "name": "stderr",
     "output_type": "stream",
     "text": [
      "<ipython-input-149-d0741030846e>:3: SettingWithCopyWarning: \n",
      "A value is trying to be set on a copy of a slice from a DataFrame\n",
      "\n",
      "See the caveats in the documentation: https://pandas.pydata.org/pandas-docs/stable/user_guide/indexing.html#returning-a-view-versus-a-copy\n",
      "  tdata.LndAc_S[tdata.LndAc_S==0]=round(tdata[(tdata.LotArea>LA*.9) & (tdata.LotArea<LA*1.1)].LndAc_S.mean()\n"
     ]
    }
   ],
   "source": [
    "#tdata.LndAc_S[tdata.LndAc_S==0]=tdata.LotArea[tdata.LotArea==]\n",
    "LA=int(tdata[tdata.LndAc_S==0].LotArea)\n",
    "tdata.LndAc_S[tdata.LndAc_S==0]=round(tdata[(tdata.LotArea>LA*.9) & (tdata.LotArea<LA*1.1)].LndAc_S.mean()\n",
    ")"
   ]
  },
  {
   "cell_type": "code",
   "execution_count": 150,
   "metadata": {},
   "outputs": [
    {
     "data": {
      "text/plain": [
       "[79,\n",
       " 109,\n",
       " 404,\n",
       " 495,\n",
       " 558,\n",
       " 680,\n",
       " 683,\n",
       " 895,\n",
       " 1088,\n",
       " 1204,\n",
       " 1346,\n",
       " 1516,\n",
       " 1578,\n",
       " 2011,\n",
       " 2139,\n",
       " 2168,\n",
       " 2203,\n",
       " 2228,\n",
       " 2323,\n",
       " 2525,\n",
       " 2531]"
      ]
     },
     "execution_count": 150,
     "metadata": {},
     "output_type": "execute_result"
    }
   ],
   "source": [
    "list((tdata.LotArea[((tdata.LndAc_S.isna()))]).keys())"
   ]
  },
  {
   "cell_type": "code",
   "execution_count": 151,
   "metadata": {},
   "outputs": [],
   "source": [
    "imputedvals=[]\n",
    "keysofnas=list((tdata.LotArea[((tdata.LndAc_S.isna()))]).keys())\n",
    "for i in range(sum(tdata.LndAc_S.isna())):\n",
    "    LA=tdata.loc[keysofnas[i],'LotArea']\n",
    "    imputedvals.append(round(tdata[(tdata.LotArea>LA*.9) & (tdata.LotArea<LA*1.1)].LndAc_S.mean())\n",
    "    )  "
   ]
  },
  {
   "cell_type": "code",
   "execution_count": 152,
   "metadata": {},
   "outputs": [
    {
     "name": "stderr",
     "output_type": "stream",
     "text": [
      "<ipython-input-152-90775d9f79f6>:1: SettingWithCopyWarning: \n",
      "A value is trying to be set on a copy of a slice from a DataFrame\n",
      "\n",
      "See the caveats in the documentation: https://pandas.pydata.org/pandas-docs/stable/user_guide/indexing.html#returning-a-view-versus-a-copy\n",
      "  tdata.LndAc_S[((tdata.LndAc_S.isna()))]=imputedvals\n"
     ]
    }
   ],
   "source": [
    "tdata.LndAc_S[((tdata.LndAc_S.isna()))]=imputedvals"
   ]
  },
  {
   "cell_type": "code",
   "execution_count": 153,
   "metadata": {},
   "outputs": [
    {
     "data": {
      "text/plain": [
       "54033.0"
      ]
     },
     "execution_count": 153,
     "metadata": {},
     "output_type": "execute_result"
    }
   ],
   "source": [
    "tdata.loc[109,'LndAc_S']"
   ]
  },
  {
   "cell_type": "markdown",
   "metadata": {},
   "source": [
    "## OthAc_S\n",
    "-we need to drop either this or lndac_s asap due to corr- didnt even need a test just visually \n"
   ]
  },
  {
   "cell_type": "code",
   "execution_count": 154,
   "metadata": {},
   "outputs": [
    {
     "data": {
      "text/plain": [
       "21"
      ]
     },
     "execution_count": 154,
     "metadata": {},
     "output_type": "execute_result"
    }
   ],
   "source": [
    "sum((tdata.OthAc_S.isna()) )"
   ]
  },
  {
   "cell_type": "code",
   "execution_count": 155,
   "metadata": {},
   "outputs": [
    {
     "data": {
      "text/plain": [
       "<matplotlib.collections.PathCollection at 0x7f7f1f7fcfd0>"
      ]
     },
     "execution_count": 155,
     "metadata": {},
     "output_type": "execute_result"
    },
    {
     "data": {
      "image/png": "[encoded data removed]",
      "text/plain": [
       "<Figure size 432x288 with 1 Axes>"
      ]
     },
     "metadata": {
      "needs_background": "light"
     },
     "output_type": "display_data"
    }
   ],
   "source": [
    "plt.scatter(tdata['OthAc_S'], (tdata['LndAc_S']))"
   ]
  },
  {
   "cell_type": "code",
   "execution_count": 156,
   "metadata": {},
   "outputs": [],
   "source": [
    "tdata=tdata.drop(columns='OthAc_S')"
   ]
  },
  {
   "cell_type": "code",
   "execution_count": 157,
   "metadata": {},
   "outputs": [],
   "source": [
    "#Dropping columns that weren't earlier because they were needed for more code later. Done with them now.\n",
    "tdata=tdata.drop(columns='GarageType')\n",
    "tdata=tdata.drop(columns='GarageFinish')\n"
   ]
  },
  {
   "cell_type": "markdown",
   "metadata": {},
   "source": [
    "# ============\n",
    "# JUDE'S CODE\n",
    "# ============"
   ]
  },
  {
   "cell_type": "markdown",
   "metadata": {},
   "source": [
    "## Columns\n",
    "\n",
    "#### GrLivArea - keep as is\n",
    "#### MSSubClass - combine into 1stry, 1plus_stry, multi then dummify\n",
    "#### LotFrontage - drop\n",
    "#### LotArea - keep as is\n",
    "#### LotShape - binarize\n",
    "#### LandContour - binarize into \"level\" and \"other\"\n",
    "#### LotConfig - combine into \"culdesac\",  \"inside\", \"corner\"\n",
    "#### Neighborhood - keep as is\n",
    "#### Condition1 - cat into \"Normal\", \"Feedr\", \"Artery\", \"Railroad\", \"Positive\" then dummify\n",
    "#### BldgType - combine 2fam conv and duplex then dummify"
   ]
  },
  {
   "cell_type": "markdown",
   "metadata": {},
   "source": [
    "### MSSubClass"
   ]
  },
  {
   "cell_type": "code",
   "execution_count": 158,
   "metadata": {},
   "outputs": [
    {
     "data": {
      "text/plain": [
       "20     939\n",
       "60     502\n",
       "50     259\n",
       "120    169\n",
       "30     123\n",
       "160    120\n",
       "70     116\n",
       "80     109\n",
       "90      87\n",
       "190     53\n",
       "85      43\n",
       "75      21\n",
       "45      17\n",
       "180     15\n",
       "40       6\n",
       "150      1\n",
       "Name: MSSubClass, dtype: int64"
      ]
     },
     "execution_count": 158,
     "metadata": {},
     "output_type": "execute_result"
    }
   ],
   "source": [
    "# Initial State\n",
    "\n",
    "tdata['MSSubClass'].value_counts()"
   ]
  },
  {
   "cell_type": "code",
   "execution_count": 159,
   "metadata": {},
   "outputs": [],
   "source": [
    "# Transform Data\n",
    "\n",
    "tdata['MSSubClass'].replace([20, 30, 40, 80, 85, 120], 'one_story', inplace=True)\n",
    "tdata['MSSubClass'].replace([45, 50, 60, 70, 75, 150, 160, 180], '>1-story', inplace=True)\n",
    "tdata['MSSubClass'].replace([90, 190], 'multi_fam', inplace=True)"
   ]
  },
  {
   "cell_type": "code",
   "execution_count": 160,
   "metadata": {},
   "outputs": [
    {
     "data": {
      "text/plain": [
       "one_story    1389\n",
       ">1-story     1051\n",
       "multi_fam     140\n",
       "Name: MSSubClass, dtype: int64"
      ]
     },
     "execution_count": 160,
     "metadata": {},
     "output_type": "execute_result"
    }
   ],
   "source": [
    "# Check Transformation\n",
    "\n",
    "tdata['MSSubClass'].value_counts()"
   ]
  },
  {
   "cell_type": "code",
   "execution_count": 161,
   "metadata": {},
   "outputs": [
    {
     "data": {
      "text/html": [
       "<div>\n",
       "<style scoped>\n",
       "    .dataframe tbody tr th:only-of-type {\n",
       "        vertical-align: middle;\n",
       "    }\n",
       "\n",
       "    .dataframe tbody tr th {\n",
       "        vertical-align: top;\n",
       "    }\n",
       "\n",
       "    .dataframe thead th {\n",
       "        text-align: right;\n",
       "    }\n",
       "</style>\n",
       "<table border=\"1\" class=\"dataframe\">\n",
       "  <thead>\n",
       "    <tr style=\"text-align: right;\">\n",
       "      <th></th>\n",
       "      <th>&gt;1-story</th>\n",
       "      <th>multi_fam</th>\n",
       "      <th>one_story</th>\n",
       "    </tr>\n",
       "  </thead>\n",
       "  <tbody>\n",
       "    <tr>\n",
       "      <th>0</th>\n",
       "      <td>0</td>\n",
       "      <td>0</td>\n",
       "      <td>1</td>\n",
       "    </tr>\n",
       "    <tr>\n",
       "      <th>1</th>\n",
       "      <td>0</td>\n",
       "      <td>0</td>\n",
       "      <td>1</td>\n",
       "    </tr>\n",
       "    <tr>\n",
       "      <th>2</th>\n",
       "      <td>0</td>\n",
       "      <td>0</td>\n",
       "      <td>1</td>\n",
       "    </tr>\n",
       "    <tr>\n",
       "      <th>3</th>\n",
       "      <td>1</td>\n",
       "      <td>0</td>\n",
       "      <td>0</td>\n",
       "    </tr>\n",
       "    <tr>\n",
       "      <th>4</th>\n",
       "      <td>1</td>\n",
       "      <td>0</td>\n",
       "      <td>0</td>\n",
       "    </tr>\n",
       "    <tr>\n",
       "      <th>...</th>\n",
       "      <td>...</td>\n",
       "      <td>...</td>\n",
       "      <td>...</td>\n",
       "    </tr>\n",
       "    <tr>\n",
       "      <th>2575</th>\n",
       "      <td>0</td>\n",
       "      <td>0</td>\n",
       "      <td>1</td>\n",
       "    </tr>\n",
       "    <tr>\n",
       "      <th>2576</th>\n",
       "      <td>0</td>\n",
       "      <td>0</td>\n",
       "      <td>1</td>\n",
       "    </tr>\n",
       "    <tr>\n",
       "      <th>2577</th>\n",
       "      <td>0</td>\n",
       "      <td>1</td>\n",
       "      <td>0</td>\n",
       "    </tr>\n",
       "    <tr>\n",
       "      <th>2578</th>\n",
       "      <td>1</td>\n",
       "      <td>0</td>\n",
       "      <td>0</td>\n",
       "    </tr>\n",
       "    <tr>\n",
       "      <th>2579</th>\n",
       "      <td>1</td>\n",
       "      <td>0</td>\n",
       "      <td>0</td>\n",
       "    </tr>\n",
       "  </tbody>\n",
       "</table>\n",
       "<p>2580 rows × 3 columns</p>\n",
       "</div>"
      ],
      "text/plain": [
       "      >1-story  multi_fam  one_story\n",
       "0            0          0          1\n",
       "1            0          0          1\n",
       "2            0          0          1\n",
       "3            1          0          0\n",
       "4            1          0          0\n",
       "...        ...        ...        ...\n",
       "2575         0          0          1\n",
       "2576         0          0          1\n",
       "2577         0          1          0\n",
       "2578         1          0          0\n",
       "2579         1          0          0\n",
       "\n",
       "[2580 rows x 3 columns]"
      ]
     },
     "execution_count": 161,
     "metadata": {},
     "output_type": "execute_result"
    }
   ],
   "source": [
    "pd.get_dummies(tdata['MSSubClass'])"
   ]
  },
  {
   "cell_type": "code",
   "execution_count": 162,
   "metadata": {},
   "outputs": [],
   "source": [
    "# Dummify, drop 'one_stry'\n",
    "\n",
    "MSSubClass_dums = pd.get_dummies(tdata['MSSubClass'], prefix='MSSubClass', prefix_sep='_').drop('MSSubClass_one_story', 1)\n",
    "tdata = pd.concat([tdata.drop('MSSubClass', 1), MSSubClass_dums], axis=1)"
   ]
  },
  {
   "cell_type": "code",
   "execution_count": 163,
   "metadata": {},
   "outputs": [
    {
     "data": {
      "text/plain": [
       "MSSubClass_>1-story  MSSubClass_multi_fam\n",
       "0                    0                       1389\n",
       "1                    0                       1051\n",
       "0                    1                        140\n",
       "dtype: int64"
      ]
     },
     "execution_count": 163,
     "metadata": {},
     "output_type": "execute_result"
    }
   ],
   "source": [
    "# Check new column\n",
    "\n",
    "tdata.iloc[:,-2:].value_counts()"
   ]
  },
  {
   "cell_type": "markdown",
   "metadata": {},
   "source": [
    "### LotFrontage (DROPPED)"
   ]
  },
  {
   "cell_type": "markdown",
   "metadata": {},
   "source": [
    "### LotShape"
   ]
  },
  {
   "cell_type": "code",
   "execution_count": 164,
   "metadata": {},
   "outputs": [
    {
     "data": {
      "text/plain": [
       "Reg    1641\n",
       "IR1     855\n",
       "IR2      71\n",
       "IR3      13\n",
       "Name: LotShape, dtype: int64"
      ]
     },
     "execution_count": 164,
     "metadata": {},
     "output_type": "execute_result"
    }
   ],
   "source": [
    "# Initial State\n",
    "\n",
    "tdata['LotShape'].value_counts()"
   ]
  },
  {
   "cell_type": "code",
   "execution_count": 165,
   "metadata": {},
   "outputs": [],
   "source": [
    "# Transform Data\n",
    "\n",
    "tdata['LotShape'].replace(['IR1', 'IR2', 'IR3'], 'IR', inplace=True)"
   ]
  },
  {
   "cell_type": "code",
   "execution_count": 166,
   "metadata": {},
   "outputs": [
    {
     "data": {
      "text/plain": [
       "Reg    1641\n",
       "IR      939\n",
       "Name: LotShape, dtype: int64"
      ]
     },
     "execution_count": 166,
     "metadata": {},
     "output_type": "execute_result"
    }
   ],
   "source": [
    "# Check Transformation\n",
    "\n",
    "tdata['LotShape'].value_counts()"
   ]
  },
  {
   "cell_type": "code",
   "execution_count": 167,
   "metadata": {},
   "outputs": [],
   "source": [
    "# Dummify, drop 'Reg'\n",
    "\n",
    "LotShape_dums = pd.get_dummies(tdata['LotShape'], prefix='LotShape', prefix_sep='_').drop('LotShape_Reg', 1)\n",
    "tdata = pd.concat([tdata.drop('LotShape', 1), LotShape_dums], axis=1)"
   ]
  },
  {
   "cell_type": "code",
   "execution_count": 168,
   "metadata": {},
   "outputs": [
    {
     "data": {
      "text/plain": [
       "LotShape_IR\n",
       "0              1641\n",
       "1               939\n",
       "dtype: int64"
      ]
     },
     "execution_count": 168,
     "metadata": {},
     "output_type": "execute_result"
    }
   ],
   "source": [
    "# Check new column\n",
    "tdata.iloc[:,-1:].value_counts()"
   ]
  },
  {
   "cell_type": "markdown",
   "metadata": {},
   "source": [
    "### LandContour"
   ]
  },
  {
   "cell_type": "code",
   "execution_count": 169,
   "metadata": {},
   "outputs": [
    {
     "data": {
      "text/plain": [
       "Lvl    2337\n",
       "HLS      96\n",
       "Bnk      95\n",
       "Low      52\n",
       "Name: LandContour, dtype: int64"
      ]
     },
     "execution_count": 169,
     "metadata": {},
     "output_type": "execute_result"
    }
   ],
   "source": [
    "# Initial State\n",
    "\n",
    "tdata['LandContour'].value_counts()"
   ]
  },
  {
   "cell_type": "code",
   "execution_count": 170,
   "metadata": {},
   "outputs": [],
   "source": [
    "# Transform Data\n",
    "\n",
    "tdata['LandContour'].replace(['HLS', 'Bnk', 'Low'], 'slope', inplace=True)"
   ]
  },
  {
   "cell_type": "code",
   "execution_count": 171,
   "metadata": {},
   "outputs": [
    {
     "data": {
      "text/plain": [
       "Lvl      2337\n",
       "slope     243\n",
       "Name: LandContour, dtype: int64"
      ]
     },
     "execution_count": 171,
     "metadata": {},
     "output_type": "execute_result"
    }
   ],
   "source": [
    "# Check Transformation\n",
    "\n",
    "tdata['LandContour'].value_counts()"
   ]
  },
  {
   "cell_type": "code",
   "execution_count": 172,
   "metadata": {},
   "outputs": [],
   "source": [
    "# Dummify, drop 'Lvl'\n",
    "\n",
    "LandContour_dums = pd.get_dummies(tdata['LandContour'], prefix='LandContour', prefix_sep='_').drop(\"LandContour_Lvl\", 1)\n",
    "tdata = pd.concat([tdata.drop('LandContour', 1), LandContour_dums], axis=1)"
   ]
  },
  {
   "cell_type": "code",
   "execution_count": 173,
   "metadata": {},
   "outputs": [
    {
     "data": {
      "text/plain": [
       "SlopedLot\n",
       "0            2337\n",
       "1             243\n",
       "dtype: int64"
      ]
     },
     "execution_count": 173,
     "metadata": {},
     "output_type": "execute_result"
    }
   ],
   "source": [
    "tdata.rename(columns={'LandContour_slope':'SlopedLot'}, inplace=True)\n",
    "tdata.iloc[:,-1:].value_counts()"
   ]
  },
  {
   "cell_type": "markdown",
   "metadata": {},
   "source": [
    "### LotConfig"
   ]
  },
  {
   "cell_type": "code",
   "execution_count": 174,
   "metadata": {},
   "outputs": [
    {
     "data": {
      "text/plain": [
       "Inside     1886\n",
       "Corner      439\n",
       "CulDSac     164\n",
       "FR2          78\n",
       "FR3          13\n",
       "Name: LotConfig, dtype: int64"
      ]
     },
     "execution_count": 174,
     "metadata": {},
     "output_type": "execute_result"
    }
   ],
   "source": [
    "# Initial State\n",
    "\n",
    "tdata['LotConfig'].value_counts()"
   ]
  },
  {
   "cell_type": "code",
   "execution_count": 175,
   "metadata": {},
   "outputs": [],
   "source": [
    "# Transform Data\n",
    "\n",
    "tdata['LotConfig'].replace(['FR2', 'FR3'], 'Corner', inplace=True)"
   ]
  },
  {
   "cell_type": "code",
   "execution_count": 176,
   "metadata": {},
   "outputs": [
    {
     "data": {
      "text/plain": [
       "Inside     1886\n",
       "Corner      530\n",
       "CulDSac     164\n",
       "Name: LotConfig, dtype: int64"
      ]
     },
     "execution_count": 176,
     "metadata": {},
     "output_type": "execute_result"
    }
   ],
   "source": [
    "# Check Transformation\n",
    "\n",
    "tdata['LotConfig'].value_counts()"
   ]
  },
  {
   "cell_type": "code",
   "execution_count": 177,
   "metadata": {},
   "outputs": [],
   "source": [
    "# Dummify, drop 'Inside'\n",
    "\n",
    "LotConfig_dums = pd.get_dummies(tdata['LotConfig'], prefix='LotConfig', prefix_sep='_').drop('LotConfig_Inside', 1)\n",
    "tdata = pd.concat([tdata.drop('LotConfig', 1), LotConfig_dums], axis=1)"
   ]
  },
  {
   "cell_type": "code",
   "execution_count": 178,
   "metadata": {},
   "outputs": [
    {
     "data": {
      "text/plain": [
       "LotConfig_Corner  LotConfig_CulDSac\n",
       "0                 0                    1886\n",
       "1                 0                     530\n",
       "0                 1                     164\n",
       "dtype: int64"
      ]
     },
     "execution_count": 178,
     "metadata": {},
     "output_type": "execute_result"
    }
   ],
   "source": [
    "tdata.iloc[:,-2:].value_counts()"
   ]
  },
  {
   "cell_type": "markdown",
   "metadata": {},
   "source": [
    "### Condition1"
   ]
  },
  {
   "cell_type": "code",
   "execution_count": 179,
   "metadata": {},
   "outputs": [
    {
     "data": {
      "text/plain": [
       "Norm      2228\n",
       "Feedr      137\n",
       "Artery      81\n",
       "RRAn        40\n",
       "PosN        37\n",
       "RRAe        26\n",
       "PosA        19\n",
       "RRNn         8\n",
       "RRNe         4\n",
       "Name: Condition1, dtype: int64"
      ]
     },
     "execution_count": 179,
     "metadata": {},
     "output_type": "execute_result"
    }
   ],
   "source": [
    "# Initial State\n",
    "\n",
    "tdata['Condition1'].value_counts()"
   ]
  },
  {
   "cell_type": "code",
   "execution_count": 180,
   "metadata": {},
   "outputs": [],
   "source": [
    "# Transform Data\n",
    "\n",
    "tdata['Condition1'].replace(['RRAn', 'RRAe', 'RRNe', 'RRNn'], 'RailRd', inplace=True)\n",
    "tdata['Condition1'].replace(['PosN', 'PosA'], 'Pos', inplace=True)"
   ]
  },
  {
   "cell_type": "code",
   "execution_count": 181,
   "metadata": {},
   "outputs": [
    {
     "data": {
      "text/plain": [
       "Norm      2228\n",
       "Feedr      137\n",
       "Artery      81\n",
       "RailRd      78\n",
       "Pos         56\n",
       "Name: Condition1, dtype: int64"
      ]
     },
     "execution_count": 181,
     "metadata": {},
     "output_type": "execute_result"
    }
   ],
   "source": [
    "# Check Transformation\n",
    "\n",
    "tdata['Condition1'].value_counts()"
   ]
  },
  {
   "cell_type": "code",
   "execution_count": 182,
   "metadata": {},
   "outputs": [],
   "source": [
    "# Dummify, drop 'Norm'\n",
    "\n",
    "Condition1_dums = pd.get_dummies(tdata['Condition1'], prefix='Condition1', prefix_sep='_').drop('Condition1_Norm', 1)\n",
    "tdata = pd.concat([tdata.drop('Condition1', 1), Condition1_dums], axis=1)"
   ]
  },
  {
   "cell_type": "code",
   "execution_count": 183,
   "metadata": {},
   "outputs": [
    {
     "data": {
      "text/plain": [
       "Condition1_Artery  Condition1_Feedr  Condition1_Pos  Condition1_RailRd\n",
       "0                  0                 0               0                    2228\n",
       "                   1                 0               0                     137\n",
       "1                  0                 0               0                      81\n",
       "0                  0                 0               1                      78\n",
       "                                     1               0                      56\n",
       "dtype: int64"
      ]
     },
     "execution_count": 183,
     "metadata": {},
     "output_type": "execute_result"
    }
   ],
   "source": [
    "tdata.iloc[:,-4:].value_counts()"
   ]
  },
  {
   "cell_type": "markdown",
   "metadata": {},
   "source": [
    "### BldgType"
   ]
  },
  {
   "cell_type": "code",
   "execution_count": 184,
   "metadata": {},
   "outputs": [
    {
     "data": {
      "text/plain": [
       "1Fam      2139\n",
       "TwnhsE     202\n",
       "Twnhs       98\n",
       "Duplex      87\n",
       "2fmCon      54\n",
       "Name: BldgType, dtype: int64"
      ]
     },
     "execution_count": 184,
     "metadata": {},
     "output_type": "execute_result"
    }
   ],
   "source": [
    "# Initial State\n",
    "\n",
    "tdata['BldgType'].value_counts()"
   ]
  },
  {
   "cell_type": "code",
   "execution_count": 185,
   "metadata": {},
   "outputs": [],
   "source": [
    "# Transform Data\n",
    "\n",
    "tdata['BldgType'].replace(['Duplex', '2fmCon'], '2Fam', inplace=True)"
   ]
  },
  {
   "cell_type": "code",
   "execution_count": 186,
   "metadata": {},
   "outputs": [
    {
     "data": {
      "text/plain": [
       "1Fam      2139\n",
       "TwnhsE     202\n",
       "2Fam       141\n",
       "Twnhs       98\n",
       "Name: BldgType, dtype: int64"
      ]
     },
     "execution_count": 186,
     "metadata": {},
     "output_type": "execute_result"
    }
   ],
   "source": [
    "# Check Transformation\n",
    "\n",
    "tdata['BldgType'].value_counts()"
   ]
  },
  {
   "cell_type": "code",
   "execution_count": 187,
   "metadata": {},
   "outputs": [],
   "source": [
    "# Dummify, drop '1Fam'\n",
    "\n",
    "BldgType_dums = pd.get_dummies(tdata['BldgType'], prefix='BldgType', prefix_sep='_').drop('BldgType_1Fam', 1)\n",
    "tdata = pd.concat([tdata.drop('BldgType', 1), BldgType_dums], axis=1)"
   ]
  },
  {
   "cell_type": "code",
   "execution_count": 188,
   "metadata": {},
   "outputs": [
    {
     "data": {
      "text/plain": [
       "BldgType_2Fam  BldgType_Twnhs  BldgType_TwnhsE\n",
       "0              0               0                  2139\n",
       "                               1                   202\n",
       "1              0               0                   141\n",
       "0              1               0                    98\n",
       "dtype: int64"
      ]
     },
     "execution_count": 188,
     "metadata": {},
     "output_type": "execute_result"
    }
   ],
   "source": [
    "tdata.iloc[:,-3:].value_counts()"
   ]
  },
  {
   "cell_type": "markdown",
   "metadata": {},
   "source": [
    "# ============================\n",
    "# FINISHED COLUMN PROCESSING\n",
    "# ============================\n",
    "The rest of the code below is to check out the columns we are left with now and to save a new dataset."
   ]
  },
  {
   "cell_type": "code",
   "execution_count": 189,
   "metadata": {},
   "outputs": [
    {
     "data": {
      "text/html": [
       "<div>\n",
       "<style scoped>\n",
       "    .dataframe tbody tr th:only-of-type {\n",
       "        vertical-align: middle;\n",
       "    }\n",
       "\n",
       "    .dataframe tbody tr th {\n",
       "        vertical-align: top;\n",
       "    }\n",
       "\n",
       "    .dataframe thead th {\n",
       "        text-align: right;\n",
       "    }\n",
       "</style>\n",
       "<table border=\"1\" class=\"dataframe\">\n",
       "  <thead>\n",
       "    <tr style=\"text-align: right;\">\n",
       "      <th></th>\n",
       "      <th>PID</th>\n",
       "      <th>GrLivArea</th>\n",
       "      <th>SalePrice</th>\n",
       "      <th>LotArea</th>\n",
       "      <th>Neighborhood</th>\n",
       "      <th>OverallQual</th>\n",
       "      <th>YearBuilt</th>\n",
       "      <th>MasVnrArea</th>\n",
       "      <th>ExterQual</th>\n",
       "      <th>BsmtExposure</th>\n",
       "      <th>...</th>\n",
       "      <th>SlopedLot</th>\n",
       "      <th>LotConfig_Corner</th>\n",
       "      <th>LotConfig_CulDSac</th>\n",
       "      <th>Condition1_Artery</th>\n",
       "      <th>Condition1_Feedr</th>\n",
       "      <th>Condition1_Pos</th>\n",
       "      <th>Condition1_RailRd</th>\n",
       "      <th>BldgType_2Fam</th>\n",
       "      <th>BldgType_Twnhs</th>\n",
       "      <th>BldgType_TwnhsE</th>\n",
       "    </tr>\n",
       "  </thead>\n",
       "  <tbody>\n",
       "    <tr>\n",
       "      <th>0</th>\n",
       "      <td>909176150</td>\n",
       "      <td>856</td>\n",
       "      <td>126000</td>\n",
       "      <td>7890</td>\n",
       "      <td>SWISU</td>\n",
       "      <td>6</td>\n",
       "      <td>1939</td>\n",
       "      <td>0.0</td>\n",
       "      <td>TA</td>\n",
       "      <td>0</td>\n",
       "      <td>...</td>\n",
       "      <td>0</td>\n",
       "      <td>1</td>\n",
       "      <td>0</td>\n",
       "      <td>0</td>\n",
       "      <td>0</td>\n",
       "      <td>0</td>\n",
       "      <td>0</td>\n",
       "      <td>0</td>\n",
       "      <td>0</td>\n",
       "      <td>0</td>\n",
       "    </tr>\n",
       "    <tr>\n",
       "      <th>1</th>\n",
       "      <td>905476230</td>\n",
       "      <td>1049</td>\n",
       "      <td>139500</td>\n",
       "      <td>4235</td>\n",
       "      <td>Edwards</td>\n",
       "      <td>5</td>\n",
       "      <td>1984</td>\n",
       "      <td>149.0</td>\n",
       "      <td>Gd</td>\n",
       "      <td>0</td>\n",
       "      <td>...</td>\n",
       "      <td>0</td>\n",
       "      <td>0</td>\n",
       "      <td>0</td>\n",
       "      <td>0</td>\n",
       "      <td>0</td>\n",
       "      <td>0</td>\n",
       "      <td>0</td>\n",
       "      <td>0</td>\n",
       "      <td>0</td>\n",
       "      <td>1</td>\n",
       "    </tr>\n",
       "    <tr>\n",
       "      <th>2</th>\n",
       "      <td>911128020</td>\n",
       "      <td>1001</td>\n",
       "      <td>124900</td>\n",
       "      <td>6060</td>\n",
       "      <td>IDOTRR</td>\n",
       "      <td>5</td>\n",
       "      <td>1930</td>\n",
       "      <td>0.0</td>\n",
       "      <td>Gd</td>\n",
       "      <td>0</td>\n",
       "      <td>...</td>\n",
       "      <td>0</td>\n",
       "      <td>0</td>\n",
       "      <td>0</td>\n",
       "      <td>0</td>\n",
       "      <td>0</td>\n",
       "      <td>0</td>\n",
       "      <td>0</td>\n",
       "      <td>0</td>\n",
       "      <td>0</td>\n",
       "      <td>0</td>\n",
       "    </tr>\n",
       "    <tr>\n",
       "      <th>3</th>\n",
       "      <td>535377150</td>\n",
       "      <td>1039</td>\n",
       "      <td>114000</td>\n",
       "      <td>8146</td>\n",
       "      <td>OldTown</td>\n",
       "      <td>4</td>\n",
       "      <td>1900</td>\n",
       "      <td>0.0</td>\n",
       "      <td>Gd</td>\n",
       "      <td>0</td>\n",
       "      <td>...</td>\n",
       "      <td>0</td>\n",
       "      <td>1</td>\n",
       "      <td>0</td>\n",
       "      <td>0</td>\n",
       "      <td>0</td>\n",
       "      <td>0</td>\n",
       "      <td>0</td>\n",
       "      <td>0</td>\n",
       "      <td>0</td>\n",
       "      <td>0</td>\n",
       "    </tr>\n",
       "    <tr>\n",
       "      <th>4</th>\n",
       "      <td>534177230</td>\n",
       "      <td>1665</td>\n",
       "      <td>227000</td>\n",
       "      <td>8400</td>\n",
       "      <td>NWAmes</td>\n",
       "      <td>8</td>\n",
       "      <td>2001</td>\n",
       "      <td>0.0</td>\n",
       "      <td>Gd</td>\n",
       "      <td>0</td>\n",
       "      <td>...</td>\n",
       "      <td>0</td>\n",
       "      <td>0</td>\n",
       "      <td>0</td>\n",
       "      <td>0</td>\n",
       "      <td>0</td>\n",
       "      <td>0</td>\n",
       "      <td>0</td>\n",
       "      <td>0</td>\n",
       "      <td>0</td>\n",
       "      <td>0</td>\n",
       "    </tr>\n",
       "    <tr>\n",
       "      <th>...</th>\n",
       "      <td>...</td>\n",
       "      <td>...</td>\n",
       "      <td>...</td>\n",
       "      <td>...</td>\n",
       "      <td>...</td>\n",
       "      <td>...</td>\n",
       "      <td>...</td>\n",
       "      <td>...</td>\n",
       "      <td>...</td>\n",
       "      <td>...</td>\n",
       "      <td>...</td>\n",
       "      <td>...</td>\n",
       "      <td>...</td>\n",
       "      <td>...</td>\n",
       "      <td>...</td>\n",
       "      <td>...</td>\n",
       "      <td>...</td>\n",
       "      <td>...</td>\n",
       "      <td>...</td>\n",
       "      <td>...</td>\n",
       "      <td>...</td>\n",
       "    </tr>\n",
       "    <tr>\n",
       "      <th>2575</th>\n",
       "      <td>903205040</td>\n",
       "      <td>952</td>\n",
       "      <td>121000</td>\n",
       "      <td>8854</td>\n",
       "      <td>BrkSide</td>\n",
       "      <td>6</td>\n",
       "      <td>1916</td>\n",
       "      <td>0.0</td>\n",
       "      <td>TA</td>\n",
       "      <td>0</td>\n",
       "      <td>...</td>\n",
       "      <td>0</td>\n",
       "      <td>0</td>\n",
       "      <td>0</td>\n",
       "      <td>0</td>\n",
       "      <td>0</td>\n",
       "      <td>0</td>\n",
       "      <td>0</td>\n",
       "      <td>0</td>\n",
       "      <td>0</td>\n",
       "      <td>0</td>\n",
       "    </tr>\n",
       "    <tr>\n",
       "      <th>2576</th>\n",
       "      <td>905402060</td>\n",
       "      <td>1733</td>\n",
       "      <td>139600</td>\n",
       "      <td>13680</td>\n",
       "      <td>Edwards</td>\n",
       "      <td>3</td>\n",
       "      <td>1955</td>\n",
       "      <td>0.0</td>\n",
       "      <td>TA</td>\n",
       "      <td>0</td>\n",
       "      <td>...</td>\n",
       "      <td>0</td>\n",
       "      <td>0</td>\n",
       "      <td>1</td>\n",
       "      <td>0</td>\n",
       "      <td>0</td>\n",
       "      <td>0</td>\n",
       "      <td>0</td>\n",
       "      <td>0</td>\n",
       "      <td>0</td>\n",
       "      <td>0</td>\n",
       "    </tr>\n",
       "    <tr>\n",
       "      <th>2577</th>\n",
       "      <td>909275030</td>\n",
       "      <td>2002</td>\n",
       "      <td>145000</td>\n",
       "      <td>6270</td>\n",
       "      <td>Crawfor</td>\n",
       "      <td>5</td>\n",
       "      <td>1949</td>\n",
       "      <td>0.0</td>\n",
       "      <td>TA</td>\n",
       "      <td>0</td>\n",
       "      <td>...</td>\n",
       "      <td>1</td>\n",
       "      <td>0</td>\n",
       "      <td>0</td>\n",
       "      <td>0</td>\n",
       "      <td>0</td>\n",
       "      <td>0</td>\n",
       "      <td>0</td>\n",
       "      <td>1</td>\n",
       "      <td>0</td>\n",
       "      <td>0</td>\n",
       "    </tr>\n",
       "    <tr>\n",
       "      <th>2578</th>\n",
       "      <td>907192040</td>\n",
       "      <td>1842</td>\n",
       "      <td>217500</td>\n",
       "      <td>8826</td>\n",
       "      <td>CollgCr</td>\n",
       "      <td>7</td>\n",
       "      <td>2000</td>\n",
       "      <td>144.0</td>\n",
       "      <td>Gd</td>\n",
       "      <td>0</td>\n",
       "      <td>...</td>\n",
       "      <td>0</td>\n",
       "      <td>0</td>\n",
       "      <td>0</td>\n",
       "      <td>0</td>\n",
       "      <td>0</td>\n",
       "      <td>0</td>\n",
       "      <td>0</td>\n",
       "      <td>0</td>\n",
       "      <td>0</td>\n",
       "      <td>0</td>\n",
       "    </tr>\n",
       "    <tr>\n",
       "      <th>2579</th>\n",
       "      <td>906223180</td>\n",
       "      <td>1911</td>\n",
       "      <td>215000</td>\n",
       "      <td>9554</td>\n",
       "      <td>SawyerW</td>\n",
       "      <td>8</td>\n",
       "      <td>1993</td>\n",
       "      <td>125.0</td>\n",
       "      <td>Gd</td>\n",
       "      <td>0</td>\n",
       "      <td>...</td>\n",
       "      <td>0</td>\n",
       "      <td>0</td>\n",
       "      <td>0</td>\n",
       "      <td>0</td>\n",
       "      <td>0</td>\n",
       "      <td>0</td>\n",
       "      <td>0</td>\n",
       "      <td>0</td>\n",
       "      <td>0</td>\n",
       "      <td>0</td>\n",
       "    </tr>\n",
       "  </tbody>\n",
       "</table>\n",
       "<p>2580 rows × 86 columns</p>\n",
       "</div>"
      ],
      "text/plain": [
       "            PID  GrLivArea  SalePrice  LotArea Neighborhood  OverallQual  \\\n",
       "0     909176150        856     126000     7890        SWISU            6   \n",
       "1     905476230       1049     139500     4235      Edwards            5   \n",
       "2     911128020       1001     124900     6060       IDOTRR            5   \n",
       "3     535377150       1039     114000     8146      OldTown            4   \n",
       "4     534177230       1665     227000     8400       NWAmes            8   \n",
       "...         ...        ...        ...      ...          ...          ...   \n",
       "2575  903205040        952     121000     8854      BrkSide            6   \n",
       "2576  905402060       1733     139600    13680      Edwards            3   \n",
       "2577  909275030       2002     145000     6270      Crawfor            5   \n",
       "2578  907192040       1842     217500     8826      CollgCr            7   \n",
       "2579  906223180       1911     215000     9554      SawyerW            8   \n",
       "\n",
       "      YearBuilt  MasVnrArea ExterQual  BsmtExposure  ...  SlopedLot  \\\n",
       "0          1939         0.0        TA             0  ...          0   \n",
       "1          1984       149.0        Gd             0  ...          0   \n",
       "2          1930         0.0        Gd             0  ...          0   \n",
       "3          1900         0.0        Gd             0  ...          0   \n",
       "4          2001         0.0        Gd             0  ...          0   \n",
       "...         ...         ...       ...           ...  ...        ...   \n",
       "2575       1916         0.0        TA             0  ...          0   \n",
       "2576       1955         0.0        TA             0  ...          0   \n",
       "2577       1949         0.0        TA             0  ...          1   \n",
       "2578       2000       144.0        Gd             0  ...          0   \n",
       "2579       1993       125.0        Gd             0  ...          0   \n",
       "\n",
       "      LotConfig_Corner  LotConfig_CulDSac  Condition1_Artery  \\\n",
       "0                    1                  0                  0   \n",
       "1                    0                  0                  0   \n",
       "2                    0                  0                  0   \n",
       "3                    1                  0                  0   \n",
       "4                    0                  0                  0   \n",
       "...                ...                ...                ...   \n",
       "2575                 0                  0                  0   \n",
       "2576                 0                  1                  0   \n",
       "2577                 0                  0                  0   \n",
       "2578                 0                  0                  0   \n",
       "2579                 0                  0                  0   \n",
       "\n",
       "      Condition1_Feedr  Condition1_Pos  Condition1_RailRd  BldgType_2Fam  \\\n",
       "0                    0               0                  0              0   \n",
       "1                    0               0                  0              0   \n",
       "2                    0               0                  0              0   \n",
       "3                    0               0                  0              0   \n",
       "4                    0               0                  0              0   \n",
       "...                ...             ...                ...            ...   \n",
       "2575                 0               0                  0              0   \n",
       "2576                 0               0                  0              0   \n",
       "2577                 0               0                  0              1   \n",
       "2578                 0               0                  0              0   \n",
       "2579                 0               0                  0              0   \n",
       "\n",
       "      BldgType_Twnhs  BldgType_TwnhsE  \n",
       "0                  0                0  \n",
       "1                  0                1  \n",
       "2                  0                0  \n",
       "3                  0                0  \n",
       "4                  0                0  \n",
       "...              ...              ...  \n",
       "2575               0                0  \n",
       "2576               0                0  \n",
       "2577               0                0  \n",
       "2578               0                0  \n",
       "2579               0                0  \n",
       "\n",
       "[2580 rows x 86 columns]"
      ]
     },
     "execution_count": 189,
     "metadata": {},
     "output_type": "execute_result"
    }
   ],
   "source": [
    "tdata"
   ]
  },
  {
   "cell_type": "code",
   "execution_count": 190,
   "metadata": {},
   "outputs": [
    {
     "data": {
      "text/plain": [
       "Foundation_Wood                 2575\n",
       "Foundation_Stone                2570\n",
       "Exterior1st_AsbShng             2546\n",
       "Foundation_Slab                 2538\n",
       "RoofStyle_Other                 2532\n",
       "Condition1_Pos                  2524\n",
       "Functional_Maj                  2522\n",
       "KitchenQual_Fa                  2517\n",
       "BsmtQual_None                   2511\n",
       "BsmtCond_None                   2511\n",
       "Condition1_RailRd               2502\n",
       "BsmtQual_Fa                     2500\n",
       "Exterior1st_BrkFace             2500\n",
       "Condition1_Artery               2499\n",
       "HeatingQC_Fa                    2495\n",
       "BsmtCond_Fa                     2489\n",
       "BldgType_Twnhs                  2482\n",
       "BsmtCond_Gd                     2476\n",
       "Functional_Min                  2457\n",
       "GarageFinish_None               2453\n",
       "GarageType_None                 2453\n",
       "Condition1_Feedr                2443\n",
       "OverallCondBinary               2441\n",
       "MSSubClass_multi_fam            2440\n",
       "BldgType_2Fam                   2439\n",
       "KitchenQual_Ex                  2438\n",
       "BsmtHalfBath                    2422\n",
       "NoCentralAir                    2417\n",
       "LotConfig_CulDSac               2416\n",
       "BsmtQual_Ex                     2392\n",
       "BldgType_TwnhsE                 2378\n",
       "MasVnrType_StoneBrkcom          2377\n",
       "NonStdElectrical                2366\n",
       "SlopedLot                       2337\n",
       "UnpavedDrive                    2336\n",
       "Foundation_BrkTil               2302\n",
       "SchD_S                          2250\n",
       "Exterior1st_MetalSd             2173\n",
       "Exterior1st_HdbdOther           2158\n",
       "HeatingQC_Gd                    2146\n",
       "RoofStyle_Hip                   2107\n",
       "FenceBinary                     2055\n",
       "LotConfig_Corner                2050\n",
       "Exterior1st_Stc_CemBd_WdSdSh    2010\n",
       "BsmtExposure                    1994\n",
       "GarageFinish_Fin                1959\n",
       "GarageFinish_RFn                1862\n",
       "GarageType_Detchd               1843\n",
       "BsmtFinGdLvng                   1827\n",
       "HeatingQC_TA                    1812\n",
       "MasVnrType_BrkFace              1776\n",
       "LotShape_IR                     1641\n",
       "HalfBath                        1622\n",
       "MasVnrArea                      1568\n",
       "KitchenQual_Gd                  1563\n",
       "MSSubClass_>1-story             1529\n",
       "BsmtQual_Gd                     1503\n",
       "BsmtFullBath                    1487\n",
       "Foundation_PConc                1475\n",
       "2ndFlrSF                        1464\n",
       "dtype: int64"
      ]
     },
     "execution_count": 190,
     "metadata": {},
     "output_type": "execute_result"
    }
   ],
   "source": [
    "#The below shows columns that have the most 0's, or highest sparsity of data.\n",
    "np.sum(~tdata.astype(bool), axis=0).sort_values(ascending=False)[0:60]\n"
   ]
  },
  {
   "cell_type": "code",
   "execution_count": 191,
   "metadata": {},
   "outputs": [
    {
     "data": {
      "text/plain": [
       "Index(['PID', 'GrLivArea', 'SalePrice', 'LotArea', 'Neighborhood',\n",
       "       'OverallQual', 'YearBuilt', 'MasVnrArea', 'ExterQual', 'BsmtExposure',\n",
       "       'BsmtFinGdLvng', 'BsmtUnfSF', 'TotalBsmtSF', 'NoCentralAir',\n",
       "       'NonStdElectrical', '1stFlrSF', '2ndFlrSF', 'BsmtFullBath',\n",
       "       'BsmtHalfBath', 'FullBath', 'HalfBath', 'BedroomAbvGr', 'TotRmsAbvGrd',\n",
       "       'Fireplaces', 'FireplaceQu', 'GarageCars', 'GarageArea', 'MoSold',\n",
       "       'GeoRefNo', 'Prop_Addr', 'SchD_S', 'LndAc_S', 'HeatingQC_Fa',\n",
       "       'HeatingQC_Gd', 'HeatingQC_TA', 'KitchenQual_Ex', 'KitchenQual_Fa',\n",
       "       'KitchenQual_Gd', 'Remodeled', 'RemodelYrsAftBuilt', 'Functional_Maj',\n",
       "       'Functional_Min', 'RoofStyle_Hip', 'RoofStyle_Other',\n",
       "       'Exterior1st_AsbShng', 'Exterior1st_BrkFace', 'Exterior1st_HdbdOther',\n",
       "       'Exterior1st_MetalSd', 'Exterior1st_Stc_CemBd_WdSdSh',\n",
       "       'MasVnrType_BrkFace', 'MasVnrType_StoneBrkcom', 'Foundation_BrkTil',\n",
       "       'Foundation_PConc', 'Foundation_Slab', 'Foundation_Stone',\n",
       "       'Foundation_Wood', 'BsmtQual_Ex', 'BsmtQual_Fa', 'BsmtQual_Gd',\n",
       "       'BsmtQual_None', 'BsmtCond_Fa', 'BsmtCond_Gd', 'BsmtCond_None',\n",
       "       'GarageType_Detchd', 'GarageType_None', 'GarageFinish_Fin',\n",
       "       'GarageFinish_None', 'GarageFinish_RFn', 'UnpavedDrive',\n",
       "       'WoodDeckBinary', 'HasPorch', 'FenceBinary', 'OverallCondBinary',\n",
       "       'MSSubClass_>1-story', 'MSSubClass_multi_fam', 'LotShape_IR',\n",
       "       'SlopedLot', 'LotConfig_Corner', 'LotConfig_CulDSac',\n",
       "       'Condition1_Artery', 'Condition1_Feedr', 'Condition1_Pos',\n",
       "       'Condition1_RailRd', 'BldgType_2Fam', 'BldgType_Twnhs',\n",
       "       'BldgType_TwnhsE'],\n",
       "      dtype='object')"
      ]
     },
     "execution_count": 191,
     "metadata": {},
     "output_type": "execute_result"
    }
   ],
   "source": [
    "#Need to come up with a reasonable order for columns. And figure out which are telling ust he same things.\n",
    "tdata.columns"
   ]
  },
  {
   "cell_type": "markdown",
   "metadata": {},
   "source": [
    "Proposed Ordering:\n",
    "\n",
    "**First the dependent variable**\n",
    "'SalePrice'\n",
    "**Next all the things not machine-learning related, to make them easy to identify and drop**\n",
    "'PID'\n",
    "'MoSold'\n",
    "'GeoRefNo'\n",
    "'Prop_Addr'\n",
    "**Everything to do with the size of the house**\n",
    "'GrLivArea'\n",
    "'1stFlrSF'\n",
    "'2ndFlrSF'\n",
    "'TotRmsAbvGrd'\n",
    "'BedroomAbvGr'\n",
    "'FullBath'\n",
    "'HalfBath'\n",
    "'MSSubClass_one_plus_stry'\n",
    "'MSSubClass_multi_stry'\n",
    "'BldgType_Twnhs'\n",
    "'BldgType_TwnhsE'\n",
    "'BldgType_2Fam'\n",
    "**Everything to do with the lot**\n",
    "'LotArea'\n",
    "'LndAc_S'\n",
    "'LotShape_IR'\n",
    "'LandContour_slope'\n",
    "'LotConfig_Corner'\n",
    "'LotConfig_CulDSac'\n",
    "'Condition1_Artery'\n",
    "'Condition1_Feedr'\n",
    "'Condition1_Pos'\n",
    "'Condition1_RailRd'\n",
    "**Everything to do with the building materials of the house**\n",
    "'NonStdElectrical'\n",
    "'MasVnrArea'\n",
    "'MasVnrType_BrkFace'\n",
    "'MasVnrType_StoneBrkcom'\n",
    "'RoofStyle_Hip'\n",
    "'RoofStyle_Other'\n",
    "'Exterior1st_AsbShng'\n",
    "'Exterior1st_BrkFace'\n",
    "'Exterior1st_HdbdOther'\n",
    "'Exterior1st_MetalSd'\n",
    "'Exterior1st_Stc_CemBd_WdSdSh'\n",
    "'Foundation_BrkTil'\n",
    "'Foundation_PConc'\n",
    "'Foundation_Slab'\n",
    "'Foundation_Stone'\n",
    "'Foundation_Wood'\n",
    "**Everything to do with the quality of the house**\n",
    "'YearBuilt'\n",
    "'OverallQual'\n",
    "'OverallCondBinary'\n",
    "'ExterQual'\n",
    "'HeatingQC_Gd'\n",
    "'HeatingQC_TA'\n",
    "'HeatingQC_Fa'\n",
    "'KitchenQual_Ex'\n",
    "'KitchenQual_Gd'\n",
    "'KitchenQual_Fa'\n",
    "'Remodeled'\n",
    "'RemodelYrsAftBuilt'\n",
    "'Functional_Min'\n",
    "'Functional_Maj'\n",
    "'FireplaceQu'\n",
    "**Everything to do with the Basement**\n",
    "'BsmtQual_None'\n",
    "'BsmtCond_None'\n",
    "'TotalBsmtSF'\n",
    "'BsmtUnfSF'\n",
    "'BsmtFinGdLvng'\n",
    "'BsmtHalfBath'\n",
    "'BsmtFullBath'\n",
    "'BsmtExposure'\n",
    "'BsmtQual_Ex'\n",
    "'BsmtQual_Gd'\n",
    "'BsmtQual_Fa'\n",
    "'BsmtCond_Gd'\n",
    "'BsmtCond_Fa'\n",
    "**Everything to do with Garages**\n",
    "'GarageType_Detchd'\n",
    "'GarageType_None'\n",
    "'GarageFinish_None'\n",
    "'GarageArea'\n",
    "'GarageCars'\n",
    "'GarageFinish_Fin'\n",
    "'GarageFinish_RFn'\n",
    "**Information on 'amenities'**\n",
    "'Neighborhood'\n",
    "'UnpavedDrive'\n",
    "'WoodDeckBinary'\n",
    "'HasPorch'\n",
    "'FenceBinary'\n",
    "'Fireplaces'\n",
    "'NoCentralAir'\n",
    "'SchD_S'\n",
    "\n",
    "\n",
    "NOTE: This will have to be edited and tweaked as we go on."
   ]
  },
  {
   "cell_type": "code",
   "execution_count": 192,
   "metadata": {},
   "outputs": [],
   "source": [
    "ordered_col_list = ['SalePrice', #dependent Variable\n",
    "                   'PID', 'Prop_Addr', 'GeoRefNo', 'MoSold', #Not ML-related\n",
    "                   'GrLivArea', '1stFlrSF', '2ndFlrSF', 'TotRmsAbvGrd', 'BedroomAbvGr', \n",
    "                    'FullBath', 'HalfBath', 'MSSubClass_>1-story', 'MSSubClass_multi_fam', \n",
    "                    'BldgType_Twnhs', 'BldgType_TwnhsE', 'BldgType_2Fam', #Size of the house\n",
    "                    'LotArea', 'LndAc_S', 'LotShape_IR', 'SlopedLot', 'LotConfig_Corner', \n",
    "                    'LotConfig_CulDSac', 'Condition1_Artery', 'Condition1_Feedr', \n",
    "                    'Condition1_Pos', 'Condition1_RailRd', #Lot columns\n",
    "                    'NonStdElectrical', 'MasVnrArea', 'MasVnrType_BrkFace', 'MasVnrType_StoneBrkcom', \n",
    "                    'RoofStyle_Hip', 'RoofStyle_Other', 'Exterior1st_AsbShng', 'Exterior1st_BrkFace', \n",
    "                    'Exterior1st_HdbdOther', 'Exterior1st_MetalSd', 'Exterior1st_Stc_CemBd_WdSdSh', \n",
    "                    'Foundation_BrkTil', 'Foundation_PConc', 'Foundation_Slab', 'Foundation_Stone', \n",
    "                    'Foundation_Wood', # Building Materials\n",
    "                   'YearBuilt', 'OverallQual', 'OverallCondBinary', 'ExterQual', 'HeatingQC_Gd', \n",
    "                    'HeatingQC_TA', 'HeatingQC_Fa', 'KitchenQual_Ex', 'KitchenQual_Gd', \n",
    "                    'KitchenQual_Fa', 'Remodeled', 'RemodelYrsAftBuilt', 'Functional_Min', \n",
    "                    'Functional_Maj', 'FireplaceQu', #Quality of house\n",
    "                   'BsmtQual_None', 'BsmtCond_None', 'TotalBsmtSF', 'BsmtUnfSF', 'BsmtFinGdLvng', \n",
    "                    'BsmtHalfBath', 'BsmtFullBath', 'BsmtExposure', 'BsmtQual_Ex', 'BsmtQual_Gd', \n",
    "                    'BsmtQual_Fa', 'BsmtCond_Gd', 'BsmtCond_Fa', #Basement columns\n",
    "                   'GarageType_Detchd', 'GarageType_None', 'GarageFinish_None', 'GarageArea', \n",
    "                    'GarageCars', 'GarageFinish_Fin', 'GarageFinish_RFn', # Garage Columns\n",
    "                   'Neighborhood', 'UnpavedDrive', 'WoodDeckBinary', 'HasPorch', 'FenceBinary', \n",
    "                    'Fireplaces', 'NoCentralAir', 'SchD_S'] # Amenity Columns\n",
    "\n",
    "\n",
    "\n",
    "\n"
   ]
  },
  {
   "cell_type": "code",
   "execution_count": 193,
   "metadata": {},
   "outputs": [],
   "source": [
    "tdata = tdata[ordered_col_list]"
   ]
  },
  {
   "cell_type": "code",
   "execution_count": 266,
   "metadata": {},
   "outputs": [],
   "source": [
    " tdata_train, tdata_test = train_test_split(tdata, test_size=0.33, random_state=100)"
   ]
  },
  {
   "cell_type": "code",
   "execution_count": 267,
   "metadata": {},
   "outputs": [],
   "source": [
    "#ensuring all boolean cols are evenly distributed\n",
    "\n",
    "fullsetvalues=np.sum(~tdata.astype(bool), axis=0)\n",
    "trainsetvalues=np.sum(~tdata_train.astype(bool), axis=0)\n"
   ]
  },
  {
   "cell_type": "code",
   "execution_count": 268,
   "metadata": {},
   "outputs": [
    {
     "data": {
      "text/plain": [
       "BedroomAbvGr    0.857143\n",
       "FullBath        0.750000\n",
       "dtype: float64"
      ]
     },
     "execution_count": 268,
     "metadata": {},
     "output_type": "execute_result"
    }
   ],
   "source": [
    "#none of the sparse bool cols have abnoraml dist btw test and train. \n",
    "#should have ~66% of bools cols weight in the train anything above 70 or below 60 is shown\n",
    "#only problamtic cols are not bools and this just says 75% houses w no above ground bedrooms are in this set and same logic w fullbath\n",
    "((trainsetvalues/fullsetvalues ).sort_values(ascending=False))[(((trainsetvalues/fullsetvalues ).sort_values(ascending=False))>.7) | (((trainsetvalues/fullsetvalues ).sort_values(ascending=False))<.6)]"
   ]
  },
  {
   "cell_type": "code",
   "execution_count": 195,
   "metadata": {},
   "outputs": [],
   "source": [
    "tdata_train.to_csv(r'initial_dummied_data_TRAIN.csv', index=False)"
   ]
  },
  {
   "cell_type": "code",
   "execution_count": null,
   "metadata": {},
   "outputs": [],
   "source": [
    "tdata_test.to_csv(r'initial_dummied_data_TEST.csv', index=False)"
   ]
  }
 ],
 "metadata": {
  "kernelspec": {
   "display_name": "Python 3",
   "language": "python",
   "name": "python3"
  },
  "language_info": {
   "codemirror_mode": {
    "name": "ipython",
    "version": 3
   },
   "file_extension": ".py",
   "mimetype": "text/x-python",
   "name": "python",
   "nbconvert_exporter": "python",
   "pygments_lexer": "ipython3",
   "version": "3.8.5"
  }
 },
 "nbformat": 4,
 "nbformat_minor": 5
}
