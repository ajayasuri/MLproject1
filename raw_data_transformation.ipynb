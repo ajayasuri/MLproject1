{
 "cells": [
  {
   "cell_type": "code",
   "execution_count": 1,
   "id": "d9708765",
   "metadata": {},
   "outputs": [],
   "source": [
    "import numpy as np\n",
    "import pandas as pd\n",
    "import matplotlib.pyplot as plt\n"
   ]
  },
  {
   "cell_type": "code",
   "execution_count": 2,
   "id": "6713ca05",
   "metadata": {},
   "outputs": [],
   "source": [
    "data = pd.read_csv('merge_data_update.csv', index_col=0)"
   ]
  },
  {
   "cell_type": "code",
   "execution_count": 3,
   "id": "c514d61c",
   "metadata": {},
   "outputs": [],
   "source": [
    "tdata = data.copy()"
   ]
  },
  {
   "cell_type": "code",
   "execution_count": 4,
   "id": "ed955fce",
   "metadata": {},
   "outputs": [
    {
     "data": {
      "text/html": [
       "<div>\n",
       "<style scoped>\n",
       "    .dataframe tbody tr th:only-of-type {\n",
       "        vertical-align: middle;\n",
       "    }\n",
       "\n",
       "    .dataframe tbody tr th {\n",
       "        vertical-align: top;\n",
       "    }\n",
       "\n",
       "    .dataframe thead th {\n",
       "        text-align: right;\n",
       "    }\n",
       "</style>\n",
       "<table border=\"1\" class=\"dataframe\">\n",
       "  <thead>\n",
       "    <tr style=\"text-align: right;\">\n",
       "      <th></th>\n",
       "      <th>PID</th>\n",
       "      <th>GrLivArea</th>\n",
       "      <th>SalePrice</th>\n",
       "      <th>MSSubClass</th>\n",
       "      <th>MSZoning</th>\n",
       "      <th>LotFrontage</th>\n",
       "      <th>LotArea</th>\n",
       "      <th>Street</th>\n",
       "      <th>Alley</th>\n",
       "      <th>LotShape</th>\n",
       "      <th>...</th>\n",
       "      <th>ClassPr_S</th>\n",
       "      <th>ClassSc_S</th>\n",
       "      <th>SchD_S</th>\n",
       "      <th>TxD_S</th>\n",
       "      <th>LndAc_S</th>\n",
       "      <th>ImpAc_S</th>\n",
       "      <th>OthAc_S</th>\n",
       "      <th>HSTtl_D</th>\n",
       "      <th>HSTtl_S</th>\n",
       "      <th>GLA</th>\n",
       "    </tr>\n",
       "  </thead>\n",
       "  <tbody>\n",
       "    <tr>\n",
       "      <th>0</th>\n",
       "      <td>909176150</td>\n",
       "      <td>856</td>\n",
       "      <td>126000</td>\n",
       "      <td>30</td>\n",
       "      <td>RL</td>\n",
       "      <td>NaN</td>\n",
       "      <td>7890</td>\n",
       "      <td>Pave</td>\n",
       "      <td>NaN</td>\n",
       "      <td>Reg</td>\n",
       "      <td>...</td>\n",
       "      <td>RESIDENTIAL</td>\n",
       "      <td>1-STORY 1945 &amp; OLDER</td>\n",
       "      <td>1.0</td>\n",
       "      <td>1.0</td>\n",
       "      <td>37300.0</td>\n",
       "      <td>0.0</td>\n",
       "      <td>111700.0</td>\n",
       "      <td>NaN</td>\n",
       "      <td>NaN</td>\n",
       "      <td>856.0</td>\n",
       "    </tr>\n",
       "    <tr>\n",
       "      <th>1</th>\n",
       "      <td>905476230</td>\n",
       "      <td>1049</td>\n",
       "      <td>139500</td>\n",
       "      <td>120</td>\n",
       "      <td>RL</td>\n",
       "      <td>42.0</td>\n",
       "      <td>4235</td>\n",
       "      <td>Pave</td>\n",
       "      <td>NaN</td>\n",
       "      <td>Reg</td>\n",
       "      <td>...</td>\n",
       "      <td>RESIDENTIAL</td>\n",
       "      <td>1-STORY TWNHM - 1946 &amp; NEWER</td>\n",
       "      <td>1.0</td>\n",
       "      <td>1.0</td>\n",
       "      <td>43500.0</td>\n",
       "      <td>0.0</td>\n",
       "      <td>130600.0</td>\n",
       "      <td>NaN</td>\n",
       "      <td>NaN</td>\n",
       "      <td>1049.0</td>\n",
       "    </tr>\n",
       "    <tr>\n",
       "      <th>2</th>\n",
       "      <td>911128020</td>\n",
       "      <td>1001</td>\n",
       "      <td>124900</td>\n",
       "      <td>30</td>\n",
       "      <td>C (all)</td>\n",
       "      <td>60.0</td>\n",
       "      <td>6060</td>\n",
       "      <td>Pave</td>\n",
       "      <td>NaN</td>\n",
       "      <td>Reg</td>\n",
       "      <td>...</td>\n",
       "      <td>RESIDENTIAL</td>\n",
       "      <td>1-STORY 1945 &amp; OLDER</td>\n",
       "      <td>1.0</td>\n",
       "      <td>1.0</td>\n",
       "      <td>41100.0</td>\n",
       "      <td>0.0</td>\n",
       "      <td>123200.0</td>\n",
       "      <td>NaN</td>\n",
       "      <td>NaN</td>\n",
       "      <td>1001.0</td>\n",
       "    </tr>\n",
       "    <tr>\n",
       "      <th>3</th>\n",
       "      <td>535377150</td>\n",
       "      <td>1039</td>\n",
       "      <td>114000</td>\n",
       "      <td>70</td>\n",
       "      <td>RL</td>\n",
       "      <td>80.0</td>\n",
       "      <td>8146</td>\n",
       "      <td>Pave</td>\n",
       "      <td>NaN</td>\n",
       "      <td>Reg</td>\n",
       "      <td>...</td>\n",
       "      <td>RESIDENTIAL</td>\n",
       "      <td>2-STORY 1945 &amp; OLDER</td>\n",
       "      <td>1.0</td>\n",
       "      <td>1.0</td>\n",
       "      <td>31100.0</td>\n",
       "      <td>0.0</td>\n",
       "      <td>93300.0</td>\n",
       "      <td>NaN</td>\n",
       "      <td>4850.0</td>\n",
       "      <td>1039.0</td>\n",
       "    </tr>\n",
       "    <tr>\n",
       "      <th>4</th>\n",
       "      <td>534177230</td>\n",
       "      <td>1665</td>\n",
       "      <td>227000</td>\n",
       "      <td>60</td>\n",
       "      <td>RL</td>\n",
       "      <td>70.0</td>\n",
       "      <td>8400</td>\n",
       "      <td>Pave</td>\n",
       "      <td>NaN</td>\n",
       "      <td>Reg</td>\n",
       "      <td>...</td>\n",
       "      <td>RESIDENTIAL</td>\n",
       "      <td>2-STORY 1946 &amp; NEWER</td>\n",
       "      <td>1.0</td>\n",
       "      <td>1.0</td>\n",
       "      <td>64300.0</td>\n",
       "      <td>0.0</td>\n",
       "      <td>192800.0</td>\n",
       "      <td>NaN</td>\n",
       "      <td>NaN</td>\n",
       "      <td>1665.0</td>\n",
       "    </tr>\n",
       "    <tr>\n",
       "      <th>...</th>\n",
       "      <td>...</td>\n",
       "      <td>...</td>\n",
       "      <td>...</td>\n",
       "      <td>...</td>\n",
       "      <td>...</td>\n",
       "      <td>...</td>\n",
       "      <td>...</td>\n",
       "      <td>...</td>\n",
       "      <td>...</td>\n",
       "      <td>...</td>\n",
       "      <td>...</td>\n",
       "      <td>...</td>\n",
       "      <td>...</td>\n",
       "      <td>...</td>\n",
       "      <td>...</td>\n",
       "      <td>...</td>\n",
       "      <td>...</td>\n",
       "      <td>...</td>\n",
       "      <td>...</td>\n",
       "      <td>...</td>\n",
       "      <td>...</td>\n",
       "    </tr>\n",
       "    <tr>\n",
       "      <th>2575</th>\n",
       "      <td>903205040</td>\n",
       "      <td>952</td>\n",
       "      <td>121000</td>\n",
       "      <td>30</td>\n",
       "      <td>RL</td>\n",
       "      <td>NaN</td>\n",
       "      <td>8854</td>\n",
       "      <td>Pave</td>\n",
       "      <td>NaN</td>\n",
       "      <td>Reg</td>\n",
       "      <td>...</td>\n",
       "      <td>RESIDENTIAL</td>\n",
       "      <td>1-STORY 1945 &amp; OLDER</td>\n",
       "      <td>1.0</td>\n",
       "      <td>1.0</td>\n",
       "      <td>34600.0</td>\n",
       "      <td>0.0</td>\n",
       "      <td>103900.0</td>\n",
       "      <td>4850.0</td>\n",
       "      <td>4850.0</td>\n",
       "      <td>952.0</td>\n",
       "    </tr>\n",
       "    <tr>\n",
       "      <th>2576</th>\n",
       "      <td>905402060</td>\n",
       "      <td>1733</td>\n",
       "      <td>139600</td>\n",
       "      <td>20</td>\n",
       "      <td>RL</td>\n",
       "      <td>NaN</td>\n",
       "      <td>13680</td>\n",
       "      <td>Pave</td>\n",
       "      <td>NaN</td>\n",
       "      <td>IR1</td>\n",
       "      <td>...</td>\n",
       "      <td>RESIDENTIAL</td>\n",
       "      <td>1-STORY 1946 &amp; NEWER ALL STYLES</td>\n",
       "      <td>1.0</td>\n",
       "      <td>1.0</td>\n",
       "      <td>46300.0</td>\n",
       "      <td>0.0</td>\n",
       "      <td>138800.0</td>\n",
       "      <td>NaN</td>\n",
       "      <td>NaN</td>\n",
       "      <td>1733.0</td>\n",
       "    </tr>\n",
       "    <tr>\n",
       "      <th>2577</th>\n",
       "      <td>909275030</td>\n",
       "      <td>2002</td>\n",
       "      <td>145000</td>\n",
       "      <td>90</td>\n",
       "      <td>RH</td>\n",
       "      <td>82.0</td>\n",
       "      <td>6270</td>\n",
       "      <td>Pave</td>\n",
       "      <td>NaN</td>\n",
       "      <td>Reg</td>\n",
       "      <td>...</td>\n",
       "      <td>RESIDENTIAL</td>\n",
       "      <td>DUPLEX - ALL STYLES AND AGES</td>\n",
       "      <td>1.0</td>\n",
       "      <td>1.0</td>\n",
       "      <td>45800.0</td>\n",
       "      <td>0.0</td>\n",
       "      <td>137400.0</td>\n",
       "      <td>NaN</td>\n",
       "      <td>NaN</td>\n",
       "      <td>2002.0</td>\n",
       "    </tr>\n",
       "    <tr>\n",
       "      <th>2578</th>\n",
       "      <td>907192040</td>\n",
       "      <td>1842</td>\n",
       "      <td>217500</td>\n",
       "      <td>60</td>\n",
       "      <td>RL</td>\n",
       "      <td>NaN</td>\n",
       "      <td>8826</td>\n",
       "      <td>Pave</td>\n",
       "      <td>NaN</td>\n",
       "      <td>Reg</td>\n",
       "      <td>...</td>\n",
       "      <td>RESIDENTIAL</td>\n",
       "      <td>2-STORY 1946 &amp; NEWER</td>\n",
       "      <td>1.0</td>\n",
       "      <td>1.0</td>\n",
       "      <td>66300.0</td>\n",
       "      <td>0.0</td>\n",
       "      <td>198900.0</td>\n",
       "      <td>4850.0</td>\n",
       "      <td>4850.0</td>\n",
       "      <td>1842.0</td>\n",
       "    </tr>\n",
       "    <tr>\n",
       "      <th>2579</th>\n",
       "      <td>906223180</td>\n",
       "      <td>1911</td>\n",
       "      <td>215000</td>\n",
       "      <td>60</td>\n",
       "      <td>RL</td>\n",
       "      <td>80.0</td>\n",
       "      <td>9554</td>\n",
       "      <td>Pave</td>\n",
       "      <td>NaN</td>\n",
       "      <td>IR1</td>\n",
       "      <td>...</td>\n",
       "      <td>RESIDENTIAL</td>\n",
       "      <td>2-STORY 1946 &amp; NEWER</td>\n",
       "      <td>1.0</td>\n",
       "      <td>1.0</td>\n",
       "      <td>62700.0</td>\n",
       "      <td>0.0</td>\n",
       "      <td>187900.0</td>\n",
       "      <td>NaN</td>\n",
       "      <td>NaN</td>\n",
       "      <td>1911.0</td>\n",
       "    </tr>\n",
       "  </tbody>\n",
       "</table>\n",
       "<p>2580 rows × 97 columns</p>\n",
       "</div>"
      ],
      "text/plain": [
       "            PID  GrLivArea  SalePrice  MSSubClass MSZoning  LotFrontage  \\\n",
       "0     909176150        856     126000          30       RL          NaN   \n",
       "1     905476230       1049     139500         120       RL         42.0   \n",
       "2     911128020       1001     124900          30  C (all)         60.0   \n",
       "3     535377150       1039     114000          70       RL         80.0   \n",
       "4     534177230       1665     227000          60       RL         70.0   \n",
       "...         ...        ...        ...         ...      ...          ...   \n",
       "2575  903205040        952     121000          30       RL          NaN   \n",
       "2576  905402060       1733     139600          20       RL          NaN   \n",
       "2577  909275030       2002     145000          90       RH         82.0   \n",
       "2578  907192040       1842     217500          60       RL          NaN   \n",
       "2579  906223180       1911     215000          60       RL         80.0   \n",
       "\n",
       "      LotArea Street Alley LotShape  ...    ClassPr_S  \\\n",
       "0        7890   Pave   NaN      Reg  ...  RESIDENTIAL   \n",
       "1        4235   Pave   NaN      Reg  ...  RESIDENTIAL   \n",
       "2        6060   Pave   NaN      Reg  ...  RESIDENTIAL   \n",
       "3        8146   Pave   NaN      Reg  ...  RESIDENTIAL   \n",
       "4        8400   Pave   NaN      Reg  ...  RESIDENTIAL   \n",
       "...       ...    ...   ...      ...  ...          ...   \n",
       "2575     8854   Pave   NaN      Reg  ...  RESIDENTIAL   \n",
       "2576    13680   Pave   NaN      IR1  ...  RESIDENTIAL   \n",
       "2577     6270   Pave   NaN      Reg  ...  RESIDENTIAL   \n",
       "2578     8826   Pave   NaN      Reg  ...  RESIDENTIAL   \n",
       "2579     9554   Pave   NaN      IR1  ...  RESIDENTIAL   \n",
       "\n",
       "                            ClassSc_S SchD_S TxD_S  LndAc_S ImpAc_S   OthAc_S  \\\n",
       "0                1-STORY 1945 & OLDER    1.0   1.0  37300.0     0.0  111700.0   \n",
       "1        1-STORY TWNHM - 1946 & NEWER    1.0   1.0  43500.0     0.0  130600.0   \n",
       "2                1-STORY 1945 & OLDER    1.0   1.0  41100.0     0.0  123200.0   \n",
       "3                2-STORY 1945 & OLDER    1.0   1.0  31100.0     0.0   93300.0   \n",
       "4                2-STORY 1946 & NEWER    1.0   1.0  64300.0     0.0  192800.0   \n",
       "...                               ...    ...   ...      ...     ...       ...   \n",
       "2575             1-STORY 1945 & OLDER    1.0   1.0  34600.0     0.0  103900.0   \n",
       "2576  1-STORY 1946 & NEWER ALL STYLES    1.0   1.0  46300.0     0.0  138800.0   \n",
       "2577     DUPLEX - ALL STYLES AND AGES    1.0   1.0  45800.0     0.0  137400.0   \n",
       "2578             2-STORY 1946 & NEWER    1.0   1.0  66300.0     0.0  198900.0   \n",
       "2579             2-STORY 1946 & NEWER    1.0   1.0  62700.0     0.0  187900.0   \n",
       "\n",
       "     HSTtl_D HSTtl_S     GLA  \n",
       "0        NaN     NaN   856.0  \n",
       "1        NaN     NaN  1049.0  \n",
       "2        NaN     NaN  1001.0  \n",
       "3        NaN  4850.0  1039.0  \n",
       "4        NaN     NaN  1665.0  \n",
       "...      ...     ...     ...  \n",
       "2575  4850.0  4850.0   952.0  \n",
       "2576     NaN     NaN  1733.0  \n",
       "2577     NaN     NaN  2002.0  \n",
       "2578  4850.0  4850.0  1842.0  \n",
       "2579     NaN     NaN  1911.0  \n",
       "\n",
       "[2580 rows x 97 columns]"
      ]
     },
     "execution_count": 4,
     "metadata": {},
     "output_type": "execute_result"
    }
   ],
   "source": [
    "tdata"
   ]
  },
  {
   "cell_type": "code",
   "execution_count": 5,
   "id": "a1c625cc",
   "metadata": {},
   "outputs": [
    {
     "data": {
      "text/plain": [
       "Index(['PID', 'GrLivArea', 'SalePrice', 'MSSubClass', 'MSZoning',\n",
       "       'LotFrontage', 'LotArea', 'Street', 'Alley', 'LotShape', 'LandContour',\n",
       "       'Utilities', 'LotConfig', 'LandSlope', 'Neighborhood', 'Condition1',\n",
       "       'Condition2', 'BldgType', 'HouseStyle', 'OverallQual', 'OverallCond',\n",
       "       'YearBuilt', 'YearRemodAdd', 'RoofStyle', 'RoofMatl', 'Exterior1st',\n",
       "       'Exterior2nd', 'MasVnrType', 'MasVnrArea', 'ExterQual', 'ExterCond',\n",
       "       'Foundation', 'BsmtQual', 'BsmtCond', 'BsmtExposure', 'BsmtFinType1',\n",
       "       'BsmtFinSF1', 'BsmtFinType2', 'BsmtFinSF2', 'BsmtUnfSF', 'TotalBsmtSF',\n",
       "       'Heating', 'HeatingQC', 'CentralAir', 'Electrical', '1stFlrSF',\n",
       "       '2ndFlrSF', 'LowQualFinSF', 'BsmtFullBath', 'BsmtHalfBath', 'FullBath',\n",
       "       'HalfBath', 'BedroomAbvGr', 'KitchenAbvGr', 'KitchenQual',\n",
       "       'TotRmsAbvGrd', 'Functional', 'Fireplaces', 'FireplaceQu', 'GarageType',\n",
       "       'GarageYrBlt', 'GarageFinish', 'GarageCars', 'GarageArea', 'GarageQual',\n",
       "       'GarageCond', 'PavedDrive', 'WoodDeckSF', 'OpenPorchSF',\n",
       "       'EnclosedPorch', '3SsnPorch', 'ScreenPorch', 'PoolArea', 'PoolQC',\n",
       "       'Fence', 'MiscFeature', 'MiscVal', 'MoSold', 'YrSold', 'SaleType',\n",
       "       'SaleCondition', 'MapRefNo', 'GeoRefNo', 'Prop_Addr', 'ZngCdPr',\n",
       "       'ZngOLPr', 'ZngOLSc', 'ClassPr_S', 'ClassSc_S', 'SchD_S', 'TxD_S',\n",
       "       'LndAc_S', 'ImpAc_S', 'OthAc_S', 'HSTtl_D', 'HSTtl_S', 'GLA'],\n",
       "      dtype='object')"
      ]
     },
     "execution_count": 5,
     "metadata": {},
     "output_type": "execute_result"
    }
   ],
   "source": [
    "tdata.columns"
   ]
  },
  {
   "cell_type": "markdown",
   "id": "2572faf8",
   "metadata": {},
   "source": [
    "## Drop Columns"
   ]
  },
  {
   "cell_type": "code",
   "execution_count": 6,
   "id": "f2c13b6d",
   "metadata": {},
   "outputs": [],
   "source": [
    "drop_list = ['Street', 'Alley', 'Utilities', 'LandSlope','Condition2', 'MapRefNo', 'ZngCdPr', 'ZngOLPr', 'ZngOLSc', \n",
    "           'ClassSc_S', 'Heating', 'LowQualFinSF', 'KitchenAbvGr', 'RoofMatl', 'ExterCond', 'BsmtFinSF1', \n",
    "           'BsmtFinSF2', 'BsmtFinType2', 'GarageQual', 'GarageCond', 'OpenPorchSF', 'EnclosedPorch', '3SsnPorch', \n",
    "            'ScreenPorch', 'PoolArea', 'PoolQC', 'MiscFeature', 'MiscVal', 'YrSold', 'SaleType', 'SaleCondition', \n",
    "             'HSTtl_D', 'HSTtl_S', 'GLA', 'MSZoning', 'HouseStyle', 'ClassPr_S', 'ImpAc_S', 'Exterior2nd', 'GarageYrBlt']"
   ]
  },
  {
   "cell_type": "code",
   "execution_count": 7,
   "id": "65b9173f",
   "metadata": {},
   "outputs": [],
   "source": [
    "tdata = tdata.drop(drop_list, axis=1)"
   ]
  },
  {
   "cell_type": "code",
   "execution_count": 8,
   "id": "1eabf8d4",
   "metadata": {},
   "outputs": [
    {
     "data": {
      "text/plain": [
       "Index(['PID', 'GrLivArea', 'SalePrice', 'MSSubClass', 'LotFrontage', 'LotArea',\n",
       "       'LotShape', 'LandContour', 'LotConfig', 'Neighborhood', 'Condition1',\n",
       "       'BldgType', 'OverallQual', 'OverallCond', 'YearBuilt', 'YearRemodAdd',\n",
       "       'RoofStyle', 'Exterior1st', 'MasVnrType', 'MasVnrArea', 'ExterQual',\n",
       "       'Foundation', 'BsmtQual', 'BsmtCond', 'BsmtExposure', 'BsmtFinType1',\n",
       "       'BsmtUnfSF', 'TotalBsmtSF', 'HeatingQC', 'CentralAir', 'Electrical',\n",
       "       '1stFlrSF', '2ndFlrSF', 'BsmtFullBath', 'BsmtHalfBath', 'FullBath',\n",
       "       'HalfBath', 'BedroomAbvGr', 'KitchenQual', 'TotRmsAbvGrd', 'Functional',\n",
       "       'Fireplaces', 'FireplaceQu', 'GarageType', 'GarageFinish', 'GarageCars',\n",
       "       'GarageArea', 'PavedDrive', 'WoodDeckSF', 'Fence', 'MoSold', 'GeoRefNo',\n",
       "       'Prop_Addr', 'SchD_S', 'TxD_S', 'LndAc_S', 'OthAc_S'],\n",
       "      dtype='object')"
      ]
     },
     "execution_count": 8,
     "metadata": {},
     "output_type": "execute_result"
    }
   ],
   "source": [
    "tdata.columns"
   ]
  },
  {
   "cell_type": "markdown",
   "id": "2f0bdb18",
   "metadata": {},
   "source": [
    "## For 'HeatingQC', combine the one 'Po' with 'Fa' and Dummify"
   ]
  },
  {
   "cell_type": "code",
   "execution_count": 9,
   "id": "54511e94",
   "metadata": {},
   "outputs": [
    {
     "data": {
      "text/plain": [
       "Ex    1293\n",
       "TA     768\n",
       "Gd     434\n",
       "Fa      84\n",
       "Po       1\n",
       "Name: HeatingQC, dtype: int64"
      ]
     },
     "execution_count": 9,
     "metadata": {},
     "output_type": "execute_result"
    }
   ],
   "source": [
    "# Check initial state\n",
    "tdata['HeatingQC'].value_counts()"
   ]
  },
  {
   "cell_type": "code",
   "execution_count": 10,
   "id": "1a61dee4",
   "metadata": {},
   "outputs": [],
   "source": [
    "# Replace the one 'Po' with 'Fa'\n",
    "tdata['HeatingQC'].replace('Po', 'Fa', inplace=True)"
   ]
  },
  {
   "cell_type": "code",
   "execution_count": 11,
   "id": "b7dfd051",
   "metadata": {},
   "outputs": [],
   "source": [
    "# Dummifying, dropping 'Ex' class' column.\n",
    "HeatingQC_dums = pd.get_dummies(tdata['HeatingQC'], prefix='HeatingQC', prefix_sep='_').drop('HeatingQC_Ex',1)\n",
    "tdata = pd.concat([tdata.drop('HeatingQC', 1), HeatingQC_dums], axis=1)"
   ]
  },
  {
   "cell_type": "code",
   "execution_count": 12,
   "id": "6a0d746c",
   "metadata": {},
   "outputs": [
    {
     "data": {
      "text/plain": [
       "HeatingQC_Fa  HeatingQC_Gd  HeatingQC_TA\n",
       "0             0             0               1293\n",
       "                            1                768\n",
       "              1             0                434\n",
       "1             0             0                 85\n",
       "dtype: int64"
      ]
     },
     "execution_count": 12,
     "metadata": {},
     "output_type": "execute_result"
    }
   ],
   "source": [
    "# Check it\n",
    "tdata.iloc[:,-3:].value_counts()"
   ]
  },
  {
   "cell_type": "markdown",
   "id": "6e7b4911",
   "metadata": {},
   "source": [
    "## 'CentralAir': Making 'Y' == 1, and 'N' == 0"
   ]
  },
  {
   "cell_type": "markdown",
   "id": "ebc4bd7a",
   "metadata": {},
   "source": [
    "Will wait on answer for Luke as to what 0 and 1 should be ascribed to."
   ]
  },
  {
   "cell_type": "code",
   "execution_count": 13,
   "id": "1e616d4d",
   "metadata": {},
   "outputs": [
    {
     "data": {
      "text/plain": [
       "Y    2417\n",
       "N     163\n",
       "Name: CentralAir, dtype: int64"
      ]
     },
     "execution_count": 13,
     "metadata": {},
     "output_type": "execute_result"
    }
   ],
   "source": [
    "# Initial State\n",
    "tdata['CentralAir'].value_counts()"
   ]
  },
  {
   "cell_type": "code",
   "execution_count": 14,
   "id": "deb95528",
   "metadata": {},
   "outputs": [],
   "source": [
    "# Transforming the column, Y == 1 and N == 0\n",
    "tdata['CentralAir'].replace('Y', 1, inplace=True)\n",
    "tdata['CentralAir'].replace('N', 0, inplace=True)"
   ]
  },
  {
   "cell_type": "code",
   "execution_count": 15,
   "id": "76f481de",
   "metadata": {},
   "outputs": [
    {
     "data": {
      "text/plain": [
       "1    2417\n",
       "0     163\n",
       "Name: CentralAir, dtype: int64"
      ]
     },
     "execution_count": 15,
     "metadata": {},
     "output_type": "execute_result"
    }
   ],
   "source": [
    "# Checking the transformation\n",
    "tdata['CentralAir'].value_counts()"
   ]
  },
  {
   "cell_type": "markdown",
   "id": "6f0cebb9",
   "metadata": {},
   "source": [
    "## 'Electrical' - Fill NaN"
   ]
  },
  {
   "cell_type": "markdown",
   "id": "8a6cb3b2",
   "metadata": {},
   "source": [
    "If initial thought is correct, age of house should determine the electrical system. So YrBuilt for the missing value will tell us with high probability the electrical in the house."
   ]
  },
  {
   "cell_type": "code",
   "execution_count": 16,
   "id": "081ab4dc",
   "metadata": {},
   "outputs": [
    {
     "data": {
      "text/html": [
       "<div>\n",
       "<style scoped>\n",
       "    .dataframe tbody tr th:only-of-type {\n",
       "        vertical-align: middle;\n",
       "    }\n",
       "\n",
       "    .dataframe tbody tr th {\n",
       "        vertical-align: top;\n",
       "    }\n",
       "\n",
       "    .dataframe thead th {\n",
       "        text-align: right;\n",
       "    }\n",
       "</style>\n",
       "<table border=\"1\" class=\"dataframe\">\n",
       "  <thead>\n",
       "    <tr style=\"text-align: right;\">\n",
       "      <th></th>\n",
       "      <th>mean</th>\n",
       "      <th>std</th>\n",
       "    </tr>\n",
       "    <tr>\n",
       "      <th>Electrical</th>\n",
       "      <th></th>\n",
       "      <th></th>\n",
       "    </tr>\n",
       "  </thead>\n",
       "  <tbody>\n",
       "    <tr>\n",
       "      <th>FuseA</th>\n",
       "      <td>1937.797619</td>\n",
       "      <td>18.662319</td>\n",
       "    </tr>\n",
       "    <tr>\n",
       "      <th>FuseF</th>\n",
       "      <td>1933.461538</td>\n",
       "      <td>16.509720</td>\n",
       "    </tr>\n",
       "    <tr>\n",
       "      <th>FuseP</th>\n",
       "      <td>1926.000000</td>\n",
       "      <td>14.189198</td>\n",
       "    </tr>\n",
       "    <tr>\n",
       "      <th>SBrkr</th>\n",
       "      <td>1973.347569</td>\n",
       "      <td>28.652937</td>\n",
       "    </tr>\n",
       "  </tbody>\n",
       "</table>\n",
       "</div>"
      ],
      "text/plain": [
       "                   mean        std\n",
       "Electrical                        \n",
       "FuseA       1937.797619  18.662319\n",
       "FuseF       1933.461538  16.509720\n",
       "FuseP       1926.000000  14.189198\n",
       "SBrkr       1973.347569  28.652937"
      ]
     },
     "execution_count": 16,
     "metadata": {},
     "output_type": "execute_result"
    }
   ],
   "source": [
    "# Find info on Year Built for each 'Electrical' class\n",
    "tdata.groupby('Electrical')['YearBuilt'].agg(['mean', 'std'])"
   ]
  },
  {
   "cell_type": "code",
   "execution_count": 17,
   "id": "4378dd30",
   "metadata": {
    "scrolled": true
   },
   "outputs": [
    {
     "data": {
      "text/plain": [
       "2442    2006\n",
       "Name: YearBuilt, dtype: int64"
      ]
     },
     "execution_count": 17,
     "metadata": {},
     "output_type": "execute_result"
    }
   ],
   "source": [
    "# Get the year for the missing value\n",
    "tdata[tdata['Electrical'].isnull()].YearBuilt"
   ]
  },
  {
   "cell_type": "markdown",
   "id": "6c467764",
   "metadata": {},
   "source": [
    "The YearBuilt for the observation with missing 'Electrical' is 2006, a clear sign that the value should be filled in with 'SBrkr'"
   ]
  },
  {
   "cell_type": "code",
   "execution_count": 18,
   "id": "ffaea38b",
   "metadata": {},
   "outputs": [
    {
     "name": "stdout",
     "output_type": "stream",
     "text": [
      "SBrkr    2365\n",
      "FuseA     168\n",
      "FuseF      39\n",
      "FuseP       7\n",
      "Name: Electrical, dtype: int64\n",
      "Missing Values:  1\n"
     ]
    }
   ],
   "source": [
    "# Initial State\n",
    "print(tdata['Electrical'].value_counts())\n",
    "print('Missing Values: ', np.sum(tdata['Electrical'].isnull()))"
   ]
  },
  {
   "cell_type": "code",
   "execution_count": 19,
   "id": "cdff58a3",
   "metadata": {},
   "outputs": [],
   "source": [
    "# Filling the in missing value with 'SBrkr'\n",
    "tdata['Electrical'].fillna(value='SBrkr', inplace=True)"
   ]
  },
  {
   "cell_type": "code",
   "execution_count": 20,
   "id": "a2d26c0f",
   "metadata": {},
   "outputs": [
    {
     "name": "stdout",
     "output_type": "stream",
     "text": [
      "SBrkr    2366\n",
      "FuseA     168\n",
      "FuseF      39\n",
      "FuseP       7\n",
      "Name: Electrical, dtype: int64\n",
      "Missing Values:  0\n"
     ]
    }
   ],
   "source": [
    "# Checking the transformation\n",
    "print(tdata['Electrical'].value_counts())\n",
    "print('Missing Values: ', np.sum(tdata['Electrical'].isnull()))"
   ]
  },
  {
   "cell_type": "markdown",
   "id": "e57a5241",
   "metadata": {},
   "source": [
    "## 'BsmtFullBath' - Fill Nan's"
   ]
  },
  {
   "cell_type": "markdown",
   "id": "5404c688",
   "metadata": {},
   "source": [
    "There are two missing values, check if those observations have basements."
   ]
  },
  {
   "cell_type": "code",
   "execution_count": 21,
   "id": "2399a75f",
   "metadata": {},
   "outputs": [
    {
     "data": {
      "text/html": [
       "<div>\n",
       "<style scoped>\n",
       "    .dataframe tbody tr th:only-of-type {\n",
       "        vertical-align: middle;\n",
       "    }\n",
       "\n",
       "    .dataframe tbody tr th {\n",
       "        vertical-align: top;\n",
       "    }\n",
       "\n",
       "    .dataframe thead th {\n",
       "        text-align: right;\n",
       "    }\n",
       "</style>\n",
       "<table border=\"1\" class=\"dataframe\">\n",
       "  <thead>\n",
       "    <tr style=\"text-align: right;\">\n",
       "      <th></th>\n",
       "      <th>ExterQual</th>\n",
       "      <th>Foundation</th>\n",
       "      <th>BsmtQual</th>\n",
       "      <th>BsmtCond</th>\n",
       "      <th>BsmtExposure</th>\n",
       "      <th>BsmtFinType1</th>\n",
       "      <th>BsmtUnfSF</th>\n",
       "      <th>TotalBsmtSF</th>\n",
       "      <th>CentralAir</th>\n",
       "      <th>Electrical</th>\n",
       "    </tr>\n",
       "  </thead>\n",
       "  <tbody>\n",
       "    <tr>\n",
       "      <th>912</th>\n",
       "      <td>TA</td>\n",
       "      <td>PConc</td>\n",
       "      <td>NaN</td>\n",
       "      <td>NaN</td>\n",
       "      <td>NaN</td>\n",
       "      <td>NaN</td>\n",
       "      <td>NaN</td>\n",
       "      <td>NaN</td>\n",
       "      <td>1</td>\n",
       "      <td>FuseA</td>\n",
       "    </tr>\n",
       "    <tr>\n",
       "      <th>2308</th>\n",
       "      <td>TA</td>\n",
       "      <td>Slab</td>\n",
       "      <td>NaN</td>\n",
       "      <td>NaN</td>\n",
       "      <td>NaN</td>\n",
       "      <td>NaN</td>\n",
       "      <td>0.0</td>\n",
       "      <td>0.0</td>\n",
       "      <td>1</td>\n",
       "      <td>SBrkr</td>\n",
       "    </tr>\n",
       "  </tbody>\n",
       "</table>\n",
       "</div>"
      ],
      "text/plain": [
       "     ExterQual Foundation BsmtQual BsmtCond BsmtExposure BsmtFinType1  \\\n",
       "912         TA      PConc      NaN      NaN          NaN          NaN   \n",
       "2308        TA       Slab      NaN      NaN          NaN          NaN   \n",
       "\n",
       "      BsmtUnfSF  TotalBsmtSF  CentralAir Electrical  \n",
       "912         NaN          NaN           1      FuseA  \n",
       "2308        0.0          0.0           1      SBrkr  "
      ]
     },
     "execution_count": 21,
     "metadata": {},
     "output_type": "execute_result"
    }
   ],
   "source": [
    "tdata[tdata['BsmtFullBath'].isnull()].iloc[:,20:30]"
   ]
  },
  {
   "cell_type": "markdown",
   "id": "c78c0c4f",
   "metadata": {},
   "source": [
    "Confirmed that one has no information at all for any basement column, and one has 0 for TotalBsmtSF, so I am comfortable saying those missing values are because the houses in the observations don't have basements. Will set them to 0."
   ]
  },
  {
   "cell_type": "code",
   "execution_count": 22,
   "id": "466ab2c6",
   "metadata": {},
   "outputs": [
    {
     "data": {
      "text/plain": [
       "0.0    1485\n",
       "1.0    1065\n",
       "2.0      27\n",
       "3.0       1\n",
       "Name: BsmtFullBath, dtype: int64"
      ]
     },
     "execution_count": 22,
     "metadata": {},
     "output_type": "execute_result"
    }
   ],
   "source": [
    "# Initial State\n",
    "tdata['BsmtFullBath'].value_counts()"
   ]
  },
  {
   "cell_type": "code",
   "execution_count": 23,
   "id": "2d256954",
   "metadata": {},
   "outputs": [],
   "source": [
    "# Filling in missing values with 0\n",
    "tdata['BsmtFullBath'].fillna(value=0, inplace=True)"
   ]
  },
  {
   "cell_type": "code",
   "execution_count": 24,
   "id": "403d11d9",
   "metadata": {},
   "outputs": [
    {
     "name": "stdout",
     "output_type": "stream",
     "text": [
      "0.0    1487\n",
      "1.0    1065\n",
      "2.0      27\n",
      "3.0       1\n",
      "Name: BsmtFullBath, dtype: int64\n",
      "Missing values:  0\n"
     ]
    }
   ],
   "source": [
    "# Checking the transformation\n",
    "print(tdata['BsmtFullBath'].value_counts())\n",
    "print('Missing values: ', np.sum(tdata['BsmtFullBath'].isnull()))"
   ]
  },
  {
   "cell_type": "markdown",
   "id": "2cb4000c",
   "metadata": {},
   "source": [
    "## BsmtHalfBath - Fill NaN's"
   ]
  },
  {
   "cell_type": "markdown",
   "id": "1a55c926",
   "metadata": {},
   "source": [
    "Should be the same as BsmtFullBath work. There are two missing values, check if those observations have basements."
   ]
  },
  {
   "cell_type": "code",
   "execution_count": 25,
   "id": "f90db8a8",
   "metadata": {},
   "outputs": [
    {
     "data": {
      "text/html": [
       "<div>\n",
       "<style scoped>\n",
       "    .dataframe tbody tr th:only-of-type {\n",
       "        vertical-align: middle;\n",
       "    }\n",
       "\n",
       "    .dataframe tbody tr th {\n",
       "        vertical-align: top;\n",
       "    }\n",
       "\n",
       "    .dataframe thead th {\n",
       "        text-align: right;\n",
       "    }\n",
       "</style>\n",
       "<table border=\"1\" class=\"dataframe\">\n",
       "  <thead>\n",
       "    <tr style=\"text-align: right;\">\n",
       "      <th></th>\n",
       "      <th>ExterQual</th>\n",
       "      <th>Foundation</th>\n",
       "      <th>BsmtQual</th>\n",
       "      <th>BsmtCond</th>\n",
       "      <th>BsmtExposure</th>\n",
       "      <th>BsmtFinType1</th>\n",
       "      <th>BsmtUnfSF</th>\n",
       "      <th>TotalBsmtSF</th>\n",
       "      <th>CentralAir</th>\n",
       "      <th>Electrical</th>\n",
       "    </tr>\n",
       "  </thead>\n",
       "  <tbody>\n",
       "    <tr>\n",
       "      <th>912</th>\n",
       "      <td>TA</td>\n",
       "      <td>PConc</td>\n",
       "      <td>NaN</td>\n",
       "      <td>NaN</td>\n",
       "      <td>NaN</td>\n",
       "      <td>NaN</td>\n",
       "      <td>NaN</td>\n",
       "      <td>NaN</td>\n",
       "      <td>1</td>\n",
       "      <td>FuseA</td>\n",
       "    </tr>\n",
       "    <tr>\n",
       "      <th>2308</th>\n",
       "      <td>TA</td>\n",
       "      <td>Slab</td>\n",
       "      <td>NaN</td>\n",
       "      <td>NaN</td>\n",
       "      <td>NaN</td>\n",
       "      <td>NaN</td>\n",
       "      <td>0.0</td>\n",
       "      <td>0.0</td>\n",
       "      <td>1</td>\n",
       "      <td>SBrkr</td>\n",
       "    </tr>\n",
       "  </tbody>\n",
       "</table>\n",
       "</div>"
      ],
      "text/plain": [
       "     ExterQual Foundation BsmtQual BsmtCond BsmtExposure BsmtFinType1  \\\n",
       "912         TA      PConc      NaN      NaN          NaN          NaN   \n",
       "2308        TA       Slab      NaN      NaN          NaN          NaN   \n",
       "\n",
       "      BsmtUnfSF  TotalBsmtSF  CentralAir Electrical  \n",
       "912         NaN          NaN           1      FuseA  \n",
       "2308        0.0          0.0           1      SBrkr  "
      ]
     },
     "execution_count": 25,
     "metadata": {},
     "output_type": "execute_result"
    }
   ],
   "source": [
    "tdata[tdata['BsmtHalfBath'].isnull()].iloc[:,20:30]"
   ]
  },
  {
   "cell_type": "markdown",
   "id": "35282337",
   "metadata": {},
   "source": [
    "It's the same rows of data as the above BsmtFullBath Nan's so treat them the same way. Fill with Zeros."
   ]
  },
  {
   "cell_type": "code",
   "execution_count": 26,
   "id": "79ca302e",
   "metadata": {},
   "outputs": [
    {
     "name": "stdout",
     "output_type": "stream",
     "text": [
      "0.0    2420\n",
      "1.0     156\n",
      "2.0       2\n",
      "Name: BsmtHalfBath, dtype: int64\n",
      "Missing values:  2\n"
     ]
    }
   ],
   "source": [
    "# Initial State\n",
    "print(tdata['BsmtHalfBath'].value_counts())\n",
    "print('Missing values: ', np.sum(tdata['BsmtHalfBath'].isnull()))"
   ]
  },
  {
   "cell_type": "code",
   "execution_count": 27,
   "id": "b41c2ad1",
   "metadata": {},
   "outputs": [],
   "source": [
    "# Filling in missing values with 0\n",
    "tdata['BsmtHalfBath'].fillna(value=0, inplace=True)"
   ]
  },
  {
   "cell_type": "code",
   "execution_count": 28,
   "id": "198d917f",
   "metadata": {},
   "outputs": [
    {
     "name": "stdout",
     "output_type": "stream",
     "text": [
      "0.0    2422\n",
      "1.0     156\n",
      "2.0       2\n",
      "Name: BsmtHalfBath, dtype: int64\n",
      "Missing values:  0\n"
     ]
    }
   ],
   "source": [
    "# Checking the transformation\n",
    "print(tdata['BsmtHalfBath'].value_counts())\n",
    "print('Missing values: ', np.sum(tdata['BsmtHalfBath'].isnull()))"
   ]
  },
  {
   "cell_type": "markdown",
   "id": "f018bb0a",
   "metadata": {},
   "source": [
    "## 'KitchenQual' - Combine the one 'Po' into 'Fa', Dummify"
   ]
  },
  {
   "cell_type": "code",
   "execution_count": 29,
   "id": "c92852b8",
   "metadata": {},
   "outputs": [
    {
     "data": {
      "text/plain": [
       "TA    1358\n",
       "Gd    1017\n",
       "Ex     142\n",
       "Fa      62\n",
       "Po       1\n",
       "Name: KitchenQual, dtype: int64"
      ]
     },
     "execution_count": 29,
     "metadata": {},
     "output_type": "execute_result"
    }
   ],
   "source": [
    "# Initial State\n",
    "tdata['KitchenQual'].value_counts()"
   ]
  },
  {
   "cell_type": "code",
   "execution_count": null,
   "id": "73c8a02d",
   "metadata": {},
   "outputs": [],
   "source": [
    "# Replace the one 'Po' with 'Fa'\n",
    "tdata['KitchenQual'].replace('Po', 'Fa', inplace=True)"
   ]
  },
  {
   "cell_type": "code",
   "execution_count": 30,
   "id": "7de9c3c2",
   "metadata": {},
   "outputs": [],
   "source": [
    "# Dummifying, dropping 'TA' class' column.\n",
    "KitchenQual_dums = pd.get_dummies(tdata['KitchenQual'], prefix='KitchenQual', prefix_sep='_').drop('KitchenQual_TA',1)\n",
    "tdata = pd.concat([tdata.drop('KitchenQual', 1), KitchenQual_dums], axis=1)"
   ]
  },
  {
   "cell_type": "code",
   "execution_count": 31,
   "id": "d0bdf29d",
   "metadata": {},
   "outputs": [
    {
     "data": {
      "text/plain": [
       "KitchenQual_Ex  KitchenQual_Fa  KitchenQual_Gd  KitchenQual_Po\n",
       "0               0               0               0                 1358\n",
       "                                1               0                 1017\n",
       "1               0               0               0                  142\n",
       "0               1               0               0                   62\n",
       "                0               0               1                    1\n",
       "dtype: int64"
      ]
     },
     "execution_count": 31,
     "metadata": {},
     "output_type": "execute_result"
    }
   ],
   "source": [
    "# Check the transformation\n",
    "tdata.iloc[:,-4:].value_counts()"
   ]
  },
  {
   "cell_type": "markdown",
   "id": "7e928cc2",
   "metadata": {},
   "source": [
    "## 'YearRemodAdd' - Binarize for Y/N Remodeled, and create 'RemodelYrsAftBuilt'"
   ]
  },
  {
   "cell_type": "code",
   "execution_count": 32,
   "id": "4affbd26",
   "metadata": {},
   "outputs": [],
   "source": [
    "# Remodeled houses had YearRemodAdd date AFTER YearBuilt.\n",
    "# If the years are the same it means the house was not remodeled.\n",
    "## Making a binary column. Later will have to see if it is useful.##\n",
    "tdata['Remodeled'] = tdata['YearRemodAdd'] > tdata['YearBuilt']"
   ]
  },
  {
   "cell_type": "code",
   "execution_count": 33,
   "id": "d182248c",
   "metadata": {},
   "outputs": [
    {
     "data": {
      "text/plain": [
       "0.4624031007751938"
      ]
     },
     "execution_count": 33,
     "metadata": {},
     "output_type": "execute_result"
    }
   ],
   "source": [
    "# Diagnstic\n",
    "# What percent of houses have been remodeled?\n",
    "np.mean(tdata['Remodeled'])"
   ]
  },
  {
   "cell_type": "code",
   "execution_count": 34,
   "id": "dd889895",
   "metadata": {},
   "outputs": [
    {
     "data": {
      "text/plain": [
       "<AxesSubplot:title={'center':'SalePrice'}, xlabel='Remodeled'>"
      ]
     },
     "execution_count": 34,
     "metadata": {},
     "output_type": "execute_result"
    },
    {
     "data": {
      "image/png": "[encoded data removed]",
      "text/plain": [
       "<Figure size 432x288 with 1 Axes>"
      ]
     },
     "metadata": {
      "needs_background": "light"
     },
     "output_type": "display_data"
    }
   ],
   "source": [
    "# Diagnostic\n",
    "#Visualize the price differences\n",
    "tdata.boxplot(column='SalePrice', by='Remodeled')"
   ]
  },
  {
   "cell_type": "code",
   "execution_count": 35,
   "id": "0f3cd798",
   "metadata": {},
   "outputs": [
    {
     "data": {
      "text/plain": [
       "count    1193.000000\n",
       "mean     1986.029338\n",
       "std        22.235884\n",
       "min      1950.000000\n",
       "25%      1958.000000\n",
       "50%      1996.000000\n",
       "75%      2004.000000\n",
       "max      2010.000000\n",
       "Name: YearRemodAdd, dtype: float64"
      ]
     },
     "execution_count": 35,
     "metadata": {},
     "output_type": "execute_result"
    }
   ],
   "source": [
    "# Diagnostic\n",
    "#Describing the remodel years for homes that have been remodeled.\n",
    "tdata[tdata['Remodeled']==True].YearRemodAdd.describe()"
   ]
  },
  {
   "cell_type": "code",
   "execution_count": 36,
   "id": "866dac73",
   "metadata": {},
   "outputs": [
    {
     "data": {
      "text/plain": [
       "(0.0, 60.0)"
      ]
     },
     "execution_count": 36,
     "metadata": {},
     "output_type": "execute_result"
    },
    {
     "data": {
      "image/png": "[encoded data removed]",
      "text/plain": [
       "<Figure size 432x288 with 1 Axes>"
      ]
     },
     "metadata": {
      "needs_background": "light"
     },
     "output_type": "display_data"
    }
   ],
   "source": [
    "#Visualize what the column will be \n",
    "(tdata['YearRemodAdd'] - tdata['YearBuilt']).hist(bins=40)\n",
    "plt.xlim(2,120)\n",
    "plt.ylim(0, 60)"
   ]
  },
  {
   "cell_type": "code",
   "execution_count": 37,
   "id": "a47b2861",
   "metadata": {},
   "outputs": [
    {
     "data": {
      "text/plain": [
       "0      1386\n",
       "1       352\n",
       "30       34\n",
       "40       29\n",
       "25       24\n",
       "       ... \n",
       "110       1\n",
       "115       1\n",
       "121       1\n",
       "123       1\n",
       "127       1\n",
       "Name: RemodelYrsAftBuilt, Length: 116, dtype: int64"
      ]
     },
     "execution_count": 37,
     "metadata": {},
     "output_type": "execute_result"
    }
   ],
   "source": [
    "# Create Column 'RemodelYrsAftBuilt'\n",
    "tdata['RemodelYrsAftBuilt'] = tdata['YearRemodAdd'] - tdata['YearBuilt']\n",
    "tdata['RemodelYrsAftBuilt'].value_counts()\n",
    "      "
   ]
  },
  {
   "cell_type": "code",
   "execution_count": 38,
   "id": "3bb6e4fe",
   "metadata": {},
   "outputs": [
    {
     "data": {
      "text/html": [
       "<div>\n",
       "<style scoped>\n",
       "    .dataframe tbody tr th:only-of-type {\n",
       "        vertical-align: middle;\n",
       "    }\n",
       "\n",
       "    .dataframe tbody tr th {\n",
       "        vertical-align: top;\n",
       "    }\n",
       "\n",
       "    .dataframe thead th {\n",
       "        text-align: right;\n",
       "    }\n",
       "</style>\n",
       "<table border=\"1\" class=\"dataframe\">\n",
       "  <thead>\n",
       "    <tr style=\"text-align: right;\">\n",
       "      <th></th>\n",
       "      <th>Remodeled</th>\n",
       "      <th>RemodelYrsAftBuilt</th>\n",
       "    </tr>\n",
       "  </thead>\n",
       "  <tbody>\n",
       "    <tr>\n",
       "      <th>0</th>\n",
       "      <td>True</td>\n",
       "      <td>11</td>\n",
       "    </tr>\n",
       "    <tr>\n",
       "      <th>1</th>\n",
       "      <td>False</td>\n",
       "      <td>0</td>\n",
       "    </tr>\n",
       "    <tr>\n",
       "      <th>2</th>\n",
       "      <td>True</td>\n",
       "      <td>77</td>\n",
       "    </tr>\n",
       "    <tr>\n",
       "      <th>3</th>\n",
       "      <td>True</td>\n",
       "      <td>103</td>\n",
       "    </tr>\n",
       "    <tr>\n",
       "      <th>4</th>\n",
       "      <td>False</td>\n",
       "      <td>0</td>\n",
       "    </tr>\n",
       "    <tr>\n",
       "      <th>...</th>\n",
       "      <td>...</td>\n",
       "      <td>...</td>\n",
       "    </tr>\n",
       "    <tr>\n",
       "      <th>2575</th>\n",
       "      <td>True</td>\n",
       "      <td>34</td>\n",
       "    </tr>\n",
       "    <tr>\n",
       "      <th>2576</th>\n",
       "      <td>False</td>\n",
       "      <td>0</td>\n",
       "    </tr>\n",
       "    <tr>\n",
       "      <th>2577</th>\n",
       "      <td>True</td>\n",
       "      <td>1</td>\n",
       "    </tr>\n",
       "    <tr>\n",
       "      <th>2578</th>\n",
       "      <td>False</td>\n",
       "      <td>0</td>\n",
       "    </tr>\n",
       "    <tr>\n",
       "      <th>2579</th>\n",
       "      <td>True</td>\n",
       "      <td>1</td>\n",
       "    </tr>\n",
       "  </tbody>\n",
       "</table>\n",
       "<p>2580 rows × 2 columns</p>\n",
       "</div>"
      ],
      "text/plain": [
       "      Remodeled  RemodelYrsAftBuilt\n",
       "0          True                  11\n",
       "1         False                   0\n",
       "2          True                  77\n",
       "3          True                 103\n",
       "4         False                   0\n",
       "...         ...                 ...\n",
       "2575       True                  34\n",
       "2576      False                   0\n",
       "2577       True                   1\n",
       "2578      False                   0\n",
       "2579       True                   1\n",
       "\n",
       "[2580 rows x 2 columns]"
      ]
     },
     "execution_count": 38,
     "metadata": {},
     "output_type": "execute_result"
    }
   ],
   "source": [
    "# See the new columns, show they look good.\n",
    "tdata.iloc[:,-2:]"
   ]
  },
  {
   "cell_type": "markdown",
   "id": "f9b364f4",
   "metadata": {},
   "source": [
    " ## Functional - 3 Categories: Typ, Min, Maj(w/ mod, sal). Dummify"
   ]
  },
  {
   "cell_type": "markdown",
   "id": "60cb6da1",
   "metadata": {},
   "source": [
    "Note to self, I have edited and updated all this info in the notebook. Ready to start adding to it tomorrow morning."
   ]
  },
  {
   "cell_type": "code",
   "execution_count": 42,
   "id": "14b6f6c4",
   "metadata": {},
   "outputs": [
    {
     "data": {
      "text/plain": [
       "Typ     2399\n",
       "Min2      66\n",
       "Min1      57\n",
       "Mod       32\n",
       "Maj1      18\n",
       "Maj2       7\n",
       "Sal        1\n",
       "Name: Functional, dtype: int64"
      ]
     },
     "execution_count": 42,
     "metadata": {},
     "output_type": "execute_result"
    }
   ],
   "source": [
    "# Initial State\n",
    "tdata['Functional'].value_counts()"
   ]
  },
  {
   "cell_type": "code",
   "execution_count": 43,
   "id": "36213869",
   "metadata": {},
   "outputs": [],
   "source": [
    "# Combine the Min1, Min2 into a Min category. Combine the Maj1, Maj2, Mod, and Sal into a Maj category\n",
    "tdata['Functional'].replace(['Min1', 'Min2'], 'Min', inplace=True)\n",
    "tdata['Functional'].replace(['Maj1', 'Maj2', 'Mod', 'Sal'], 'Maj', inplace=True)"
   ]
  },
  {
   "cell_type": "code",
   "execution_count": 44,
   "id": "81e16ab5",
   "metadata": {},
   "outputs": [
    {
     "data": {
      "text/plain": [
       "Typ    2399\n",
       "Min     123\n",
       "Maj      58\n",
       "Name: Functional, dtype: int64"
      ]
     },
     "execution_count": 44,
     "metadata": {},
     "output_type": "execute_result"
    }
   ],
   "source": [
    "# Check the result\n",
    "tdata['Functional'].value_counts()"
   ]
  },
  {
   "cell_type": "code",
   "execution_count": 45,
   "id": "1e0dc7f7",
   "metadata": {},
   "outputs": [],
   "source": [
    "# Dummify the column, drop Typ (modal value)\n",
    "Functional_dums = pd.get_dummies(tdata['Functional'], prefix='Functional', prefix_sep='_').drop('Functional_Typ',1)\n",
    "tdata = pd.concat([tdata.drop('Functional', 1), Functional_dums], axis=1)"
   ]
  },
  {
   "cell_type": "code",
   "execution_count": 46,
   "id": "4fa47165",
   "metadata": {},
   "outputs": [
    {
     "data": {
      "text/plain": [
       "Functional_Maj  Functional_Min\n",
       "0               0                 2399\n",
       "                1                  123\n",
       "1               0                   58\n",
       "dtype: int64"
      ]
     },
     "execution_count": 46,
     "metadata": {},
     "output_type": "execute_result"
    }
   ],
   "source": [
    "# Check the transformation\n",
    "tdata.iloc[:,-2:].value_counts()"
   ]
  },
  {
   "cell_type": "markdown",
   "id": "9f89f6c1",
   "metadata": {},
   "source": [
    "## RoofStyle - Combine into Hip, Gabel, Other. Then Dummify."
   ]
  },
  {
   "cell_type": "code",
   "execution_count": 47,
   "id": "3abcee18",
   "metadata": {},
   "outputs": [
    {
     "data": {
      "text/plain": [
       "Gable      2059\n",
       "Hip         473\n",
       "Gambrel      18\n",
       "Flat         16\n",
       "Mansard      10\n",
       "Shed          4\n",
       "Name: RoofStyle, dtype: int64"
      ]
     },
     "execution_count": 47,
     "metadata": {},
     "output_type": "execute_result"
    }
   ],
   "source": [
    "# Initial State\n",
    "tdata['RoofStyle'].value_counts()"
   ]
  },
  {
   "cell_type": "code",
   "execution_count": 49,
   "id": "23f42d14",
   "metadata": {},
   "outputs": [],
   "source": [
    "# Combine Gambrel, Flat, Mansard, and Shed into 'Other'\n",
    "tdata['RoofStyle'].replace(['Gambrel', 'Flat', 'Mansard', 'Shed'], 'Other', inplace=True)"
   ]
  },
  {
   "cell_type": "code",
   "execution_count": 52,
   "id": "c0960506",
   "metadata": {},
   "outputs": [
    {
     "data": {
      "text/html": [
       "<div>\n",
       "<style scoped>\n",
       "    .dataframe tbody tr th:only-of-type {\n",
       "        vertical-align: middle;\n",
       "    }\n",
       "\n",
       "    .dataframe tbody tr th {\n",
       "        vertical-align: top;\n",
       "    }\n",
       "\n",
       "    .dataframe thead th {\n",
       "        text-align: right;\n",
       "    }\n",
       "</style>\n",
       "<table border=\"1\" class=\"dataframe\">\n",
       "  <thead>\n",
       "    <tr style=\"text-align: right;\">\n",
       "      <th></th>\n",
       "      <th>PID</th>\n",
       "      <th>GrLivArea</th>\n",
       "      <th>SalePrice</th>\n",
       "      <th>MSSubClass</th>\n",
       "      <th>LotFrontage</th>\n",
       "      <th>LotArea</th>\n",
       "      <th>LotShape</th>\n",
       "      <th>LandContour</th>\n",
       "      <th>LotConfig</th>\n",
       "      <th>Neighborhood</th>\n",
       "      <th>...</th>\n",
       "      <th>KitchenQual_Ex</th>\n",
       "      <th>KitchenQual_Fa</th>\n",
       "      <th>KitchenQual_Gd</th>\n",
       "      <th>KitchenQual_Po</th>\n",
       "      <th>Remodeled</th>\n",
       "      <th>RemodelYrsAftBuilt</th>\n",
       "      <th>Functional_Maj</th>\n",
       "      <th>Functional_Min</th>\n",
       "      <th>RoofStyle_Hip</th>\n",
       "      <th>RoofStyle_Other</th>\n",
       "    </tr>\n",
       "  </thead>\n",
       "  <tbody>\n",
       "    <tr>\n",
       "      <th>0</th>\n",
       "      <td>909176150</td>\n",
       "      <td>856</td>\n",
       "      <td>126000</td>\n",
       "      <td>30</td>\n",
       "      <td>NaN</td>\n",
       "      <td>7890</td>\n",
       "      <td>Reg</td>\n",
       "      <td>Lvl</td>\n",
       "      <td>Corner</td>\n",
       "      <td>SWISU</td>\n",
       "      <td>...</td>\n",
       "      <td>0</td>\n",
       "      <td>0</td>\n",
       "      <td>0</td>\n",
       "      <td>0</td>\n",
       "      <td>True</td>\n",
       "      <td>11</td>\n",
       "      <td>0</td>\n",
       "      <td>0</td>\n",
       "      <td>0</td>\n",
       "      <td>0</td>\n",
       "    </tr>\n",
       "    <tr>\n",
       "      <th>1</th>\n",
       "      <td>905476230</td>\n",
       "      <td>1049</td>\n",
       "      <td>139500</td>\n",
       "      <td>120</td>\n",
       "      <td>42.0</td>\n",
       "      <td>4235</td>\n",
       "      <td>Reg</td>\n",
       "      <td>Lvl</td>\n",
       "      <td>Inside</td>\n",
       "      <td>Edwards</td>\n",
       "      <td>...</td>\n",
       "      <td>0</td>\n",
       "      <td>0</td>\n",
       "      <td>1</td>\n",
       "      <td>0</td>\n",
       "      <td>False</td>\n",
       "      <td>0</td>\n",
       "      <td>0</td>\n",
       "      <td>0</td>\n",
       "      <td>0</td>\n",
       "      <td>0</td>\n",
       "    </tr>\n",
       "    <tr>\n",
       "      <th>2</th>\n",
       "      <td>911128020</td>\n",
       "      <td>1001</td>\n",
       "      <td>124900</td>\n",
       "      <td>30</td>\n",
       "      <td>60.0</td>\n",
       "      <td>6060</td>\n",
       "      <td>Reg</td>\n",
       "      <td>Lvl</td>\n",
       "      <td>Inside</td>\n",
       "      <td>IDOTRR</td>\n",
       "      <td>...</td>\n",
       "      <td>0</td>\n",
       "      <td>0</td>\n",
       "      <td>1</td>\n",
       "      <td>0</td>\n",
       "      <td>True</td>\n",
       "      <td>77</td>\n",
       "      <td>0</td>\n",
       "      <td>0</td>\n",
       "      <td>1</td>\n",
       "      <td>0</td>\n",
       "    </tr>\n",
       "    <tr>\n",
       "      <th>3</th>\n",
       "      <td>535377150</td>\n",
       "      <td>1039</td>\n",
       "      <td>114000</td>\n",
       "      <td>70</td>\n",
       "      <td>80.0</td>\n",
       "      <td>8146</td>\n",
       "      <td>Reg</td>\n",
       "      <td>Lvl</td>\n",
       "      <td>Corner</td>\n",
       "      <td>OldTown</td>\n",
       "      <td>...</td>\n",
       "      <td>0</td>\n",
       "      <td>0</td>\n",
       "      <td>0</td>\n",
       "      <td>0</td>\n",
       "      <td>True</td>\n",
       "      <td>103</td>\n",
       "      <td>0</td>\n",
       "      <td>0</td>\n",
       "      <td>0</td>\n",
       "      <td>0</td>\n",
       "    </tr>\n",
       "    <tr>\n",
       "      <th>4</th>\n",
       "      <td>534177230</td>\n",
       "      <td>1665</td>\n",
       "      <td>227000</td>\n",
       "      <td>60</td>\n",
       "      <td>70.0</td>\n",
       "      <td>8400</td>\n",
       "      <td>Reg</td>\n",
       "      <td>Lvl</td>\n",
       "      <td>Inside</td>\n",
       "      <td>NWAmes</td>\n",
       "      <td>...</td>\n",
       "      <td>0</td>\n",
       "      <td>0</td>\n",
       "      <td>1</td>\n",
       "      <td>0</td>\n",
       "      <td>False</td>\n",
       "      <td>0</td>\n",
       "      <td>0</td>\n",
       "      <td>0</td>\n",
       "      <td>0</td>\n",
       "      <td>0</td>\n",
       "    </tr>\n",
       "    <tr>\n",
       "      <th>...</th>\n",
       "      <td>...</td>\n",
       "      <td>...</td>\n",
       "      <td>...</td>\n",
       "      <td>...</td>\n",
       "      <td>...</td>\n",
       "      <td>...</td>\n",
       "      <td>...</td>\n",
       "      <td>...</td>\n",
       "      <td>...</td>\n",
       "      <td>...</td>\n",
       "      <td>...</td>\n",
       "      <td>...</td>\n",
       "      <td>...</td>\n",
       "      <td>...</td>\n",
       "      <td>...</td>\n",
       "      <td>...</td>\n",
       "      <td>...</td>\n",
       "      <td>...</td>\n",
       "      <td>...</td>\n",
       "      <td>...</td>\n",
       "      <td>...</td>\n",
       "    </tr>\n",
       "    <tr>\n",
       "      <th>2575</th>\n",
       "      <td>903205040</td>\n",
       "      <td>952</td>\n",
       "      <td>121000</td>\n",
       "      <td>30</td>\n",
       "      <td>NaN</td>\n",
       "      <td>8854</td>\n",
       "      <td>Reg</td>\n",
       "      <td>Lvl</td>\n",
       "      <td>Inside</td>\n",
       "      <td>BrkSide</td>\n",
       "      <td>...</td>\n",
       "      <td>0</td>\n",
       "      <td>1</td>\n",
       "      <td>0</td>\n",
       "      <td>0</td>\n",
       "      <td>True</td>\n",
       "      <td>34</td>\n",
       "      <td>0</td>\n",
       "      <td>0</td>\n",
       "      <td>0</td>\n",
       "      <td>0</td>\n",
       "    </tr>\n",
       "    <tr>\n",
       "      <th>2576</th>\n",
       "      <td>905402060</td>\n",
       "      <td>1733</td>\n",
       "      <td>139600</td>\n",
       "      <td>20</td>\n",
       "      <td>NaN</td>\n",
       "      <td>13680</td>\n",
       "      <td>IR1</td>\n",
       "      <td>Lvl</td>\n",
       "      <td>CulDSac</td>\n",
       "      <td>Edwards</td>\n",
       "      <td>...</td>\n",
       "      <td>0</td>\n",
       "      <td>0</td>\n",
       "      <td>0</td>\n",
       "      <td>0</td>\n",
       "      <td>False</td>\n",
       "      <td>0</td>\n",
       "      <td>0</td>\n",
       "      <td>1</td>\n",
       "      <td>1</td>\n",
       "      <td>0</td>\n",
       "    </tr>\n",
       "    <tr>\n",
       "      <th>2577</th>\n",
       "      <td>909275030</td>\n",
       "      <td>2002</td>\n",
       "      <td>145000</td>\n",
       "      <td>90</td>\n",
       "      <td>82.0</td>\n",
       "      <td>6270</td>\n",
       "      <td>Reg</td>\n",
       "      <td>HLS</td>\n",
       "      <td>Inside</td>\n",
       "      <td>Crawfor</td>\n",
       "      <td>...</td>\n",
       "      <td>0</td>\n",
       "      <td>0</td>\n",
       "      <td>0</td>\n",
       "      <td>0</td>\n",
       "      <td>True</td>\n",
       "      <td>1</td>\n",
       "      <td>0</td>\n",
       "      <td>0</td>\n",
       "      <td>0</td>\n",
       "      <td>0</td>\n",
       "    </tr>\n",
       "    <tr>\n",
       "      <th>2578</th>\n",
       "      <td>907192040</td>\n",
       "      <td>1842</td>\n",
       "      <td>217500</td>\n",
       "      <td>60</td>\n",
       "      <td>NaN</td>\n",
       "      <td>8826</td>\n",
       "      <td>Reg</td>\n",
       "      <td>Lvl</td>\n",
       "      <td>Inside</td>\n",
       "      <td>CollgCr</td>\n",
       "      <td>...</td>\n",
       "      <td>0</td>\n",
       "      <td>0</td>\n",
       "      <td>1</td>\n",
       "      <td>0</td>\n",
       "      <td>False</td>\n",
       "      <td>0</td>\n",
       "      <td>0</td>\n",
       "      <td>0</td>\n",
       "      <td>0</td>\n",
       "      <td>0</td>\n",
       "    </tr>\n",
       "    <tr>\n",
       "      <th>2579</th>\n",
       "      <td>906223180</td>\n",
       "      <td>1911</td>\n",
       "      <td>215000</td>\n",
       "      <td>60</td>\n",
       "      <td>80.0</td>\n",
       "      <td>9554</td>\n",
       "      <td>IR1</td>\n",
       "      <td>Lvl</td>\n",
       "      <td>Inside</td>\n",
       "      <td>SawyerW</td>\n",
       "      <td>...</td>\n",
       "      <td>0</td>\n",
       "      <td>0</td>\n",
       "      <td>1</td>\n",
       "      <td>0</td>\n",
       "      <td>True</td>\n",
       "      <td>1</td>\n",
       "      <td>0</td>\n",
       "      <td>0</td>\n",
       "      <td>0</td>\n",
       "      <td>0</td>\n",
       "    </tr>\n",
       "  </tbody>\n",
       "</table>\n",
       "<p>2580 rows × 66 columns</p>\n",
       "</div>"
      ],
      "text/plain": [
       "            PID  GrLivArea  SalePrice  MSSubClass  LotFrontage  LotArea  \\\n",
       "0     909176150        856     126000          30          NaN     7890   \n",
       "1     905476230       1049     139500         120         42.0     4235   \n",
       "2     911128020       1001     124900          30         60.0     6060   \n",
       "3     535377150       1039     114000          70         80.0     8146   \n",
       "4     534177230       1665     227000          60         70.0     8400   \n",
       "...         ...        ...        ...         ...          ...      ...   \n",
       "2575  903205040        952     121000          30          NaN     8854   \n",
       "2576  905402060       1733     139600          20          NaN    13680   \n",
       "2577  909275030       2002     145000          90         82.0     6270   \n",
       "2578  907192040       1842     217500          60          NaN     8826   \n",
       "2579  906223180       1911     215000          60         80.0     9554   \n",
       "\n",
       "     LotShape LandContour LotConfig Neighborhood  ... KitchenQual_Ex  \\\n",
       "0         Reg         Lvl    Corner        SWISU  ...              0   \n",
       "1         Reg         Lvl    Inside      Edwards  ...              0   \n",
       "2         Reg         Lvl    Inside       IDOTRR  ...              0   \n",
       "3         Reg         Lvl    Corner      OldTown  ...              0   \n",
       "4         Reg         Lvl    Inside       NWAmes  ...              0   \n",
       "...       ...         ...       ...          ...  ...            ...   \n",
       "2575      Reg         Lvl    Inside      BrkSide  ...              0   \n",
       "2576      IR1         Lvl   CulDSac      Edwards  ...              0   \n",
       "2577      Reg         HLS    Inside      Crawfor  ...              0   \n",
       "2578      Reg         Lvl    Inside      CollgCr  ...              0   \n",
       "2579      IR1         Lvl    Inside      SawyerW  ...              0   \n",
       "\n",
       "     KitchenQual_Fa  KitchenQual_Gd  KitchenQual_Po  Remodeled  \\\n",
       "0                 0               0               0       True   \n",
       "1                 0               1               0      False   \n",
       "2                 0               1               0       True   \n",
       "3                 0               0               0       True   \n",
       "4                 0               1               0      False   \n",
       "...             ...             ...             ...        ...   \n",
       "2575              1               0               0       True   \n",
       "2576              0               0               0      False   \n",
       "2577              0               0               0       True   \n",
       "2578              0               1               0      False   \n",
       "2579              0               1               0       True   \n",
       "\n",
       "      RemodelYrsAftBuilt Functional_Maj Functional_Min  RoofStyle_Hip  \\\n",
       "0                     11              0              0              0   \n",
       "1                      0              0              0              0   \n",
       "2                     77              0              0              1   \n",
       "3                    103              0              0              0   \n",
       "4                      0              0              0              0   \n",
       "...                  ...            ...            ...            ...   \n",
       "2575                  34              0              0              0   \n",
       "2576                   0              0              1              1   \n",
       "2577                   1              0              0              0   \n",
       "2578                   0              0              0              0   \n",
       "2579                   1              0              0              0   \n",
       "\n",
       "     RoofStyle_Other  \n",
       "0                  0  \n",
       "1                  0  \n",
       "2                  0  \n",
       "3                  0  \n",
       "4                  0  \n",
       "...              ...  \n",
       "2575               0  \n",
       "2576               0  \n",
       "2577               0  \n",
       "2578               0  \n",
       "2579               0  \n",
       "\n",
       "[2580 rows x 66 columns]"
      ]
     },
     "execution_count": 52,
     "metadata": {},
     "output_type": "execute_result"
    }
   ],
   "source": [
    "# Dummify, drop Gable (modal value)\n",
    "RoofStyle_dums = pd.get_dummies(tdata['RoofStyle'], prefix='RoofStyle', prefix_sep='_').drop('RoofStyle_Gable',1)\n",
    "pd.concat([tdata.drop('RoofStyle', axis=1), RoofStyle_dums], axis=1)"
   ]
  },
  {
   "cell_type": "code",
   "execution_count": 54,
   "id": "b7d7f32a",
   "metadata": {},
   "outputs": [
    {
     "data": {
      "text/plain": [
       "Functional_Maj  Functional_Min\n",
       "0               0                 2399\n",
       "                1                  123\n",
       "1               0                   58\n",
       "dtype: int64"
      ]
     },
     "execution_count": 54,
     "metadata": {},
     "output_type": "execute_result"
    }
   ],
   "source": [
    "# Check the Transformation\n",
    "tdata.iloc[:, -2:].value_counts()"
   ]
  },
  {
   "cell_type": "markdown",
   "id": "12f298eb",
   "metadata": {},
   "source": [
    "## Exterior1st - Combine Categories into similar materials, then dummify."
   ]
  },
  {
   "cell_type": "markdown",
   "id": "12fa94fe",
   "metadata": {},
   "source": [
    "Materials to combine:\n",
    "Value, roughly, high to low.\n",
    "\n",
    "No stone houses. \n",
    "\n",
    "Common brick is a significant upgrade, can't be combined. Not even sure what to combine it with based on value, its definitely the leader.\n",
    "\n",
    "Vinyl Siding\n",
    "\n",
    "Plywood - Better than hardboard, so should be its own category.\n",
    "\n",
    "Wood shingles - its own category.\n",
    "\n",
    "Stucco - Possibly similar enough to Cement Board (value-wise) to be combined with it.\n",
    "Cement Board - Put w/ Wood siding, similar traits/value/looks, different materials.\n",
    "\n",
    "Metal Siding - definitely its own category.\n",
    "\n",
    "Cinderblock - Other, not used in a while (inferior to concrete)\n",
    "Precast - Other (not different enough from other 'Other's to be significant)\n",
    "Asphalt Shingles - Other (not different enough from other 'Other's to be significant)\n",
    "Immitation Stucco - Other.\n",
    "\n",
    "Hardboard - it's own category, cheapo finish.\n",
    "\n",
    "Asbestos shingles means old, not used in last 50 years. (banned in the 70's) Maybe drop."
   ]
  },
  {
   "cell_type": "code",
   "execution_count": 55,
   "id": "23e78ad3",
   "metadata": {},
   "outputs": [
    {
     "data": {
      "text/plain": [
       "VinylSd    868\n",
       "HdBoard    416\n",
       "MetalSd    407\n",
       "Wd Sdng    385\n",
       "Plywood    194\n",
       "CemntBd     97\n",
       "BrkFace     80\n",
       "WdShing     51\n",
       "Stucco      37\n",
       "AsbShng     34\n",
       "BrkComm      5\n",
       "CBlock       2\n",
       "AsphShn      2\n",
       "ImStucc      1\n",
       "PreCast      1\n",
       "Name: Exterior1st, dtype: int64"
      ]
     },
     "execution_count": 55,
     "metadata": {},
     "output_type": "execute_result"
    }
   ],
   "source": [
    "# Inital State\n",
    "tdata['Exterior1st'].value_counts()"
   ]
  },
  {
   "cell_type": "code",
   "execution_count": 60,
   "id": "fa87b554",
   "metadata": {},
   "outputs": [],
   "source": [
    "# Combine Stucco, Cement Board, and Wood siding (based on value). New cat called Stc_CemBd_WdSd\n",
    "tdata['Exterior1st'].replace(['Stucco', 'CemntBd', 'Wd Sdng'], 'Stc_CemBd_WdSd', inplace=True)\n",
    "# Combine Cinderblock, Precast, Asphalt Singles, Imitation Stucco into other.\n",
    "tdata['Exterior1st'].replace(['CBlock', 'PreCast', 'AsphShn', 'ImStucc'], 'Other', inplace=True)\n",
    "\n",
    "# Potentially drop asbestos shingles, no longer used (actually banned) and might be captured in age of house. \n",
    "# Or, conversely, might be a significant negative."
   ]
  },
  {
   "cell_type": "code",
   "execution_count": 61,
   "id": "e438d84a",
   "metadata": {},
   "outputs": [
    {
     "data": {
      "text/plain": [
       "VinylSd           868\n",
       "Stc_CemBd_WdSd    519\n",
       "HdBoard           416\n",
       "MetalSd           407\n",
       "Plywood           194\n",
       "BrkFace            80\n",
       "WdShing            51\n",
       "AsbShng            34\n",
       "Other               6\n",
       "BrkComm             5\n",
       "Name: Exterior1st, dtype: int64"
      ]
     },
     "execution_count": 61,
     "metadata": {},
     "output_type": "execute_result"
    }
   ],
   "source": [
    "# Check the combinations\n",
    "tdata['Exterior1st'].value_counts()"
   ]
  },
  {
   "cell_type": "markdown",
   "id": "fdc158bc",
   "metadata": {},
   "source": [
    "Still an aweful lot of categories. Maybe combine BrkComm with VinylSd and Plywood. (even though it is more valuable), and maybe combine Other with HdBoard (both low-value cats, even if different). Maybe combine wood shingles withCemBd_WdSd. Talk to team.\n",
    "\n",
    "VinylSd, BrkComm, Plywood\n",
    "HdBoard, Other\n",
    "WdShing, Stc_CemBd_WdSd (Stucco, Cement Board, Wood Siding)"
   ]
  },
  {
   "cell_type": "code",
   "execution_count": 63,
   "id": "5abe158f",
   "metadata": {},
   "outputs": [],
   "source": [
    "# Combine Wood shingles into Stc_CemBd_WdSd\n",
    "tdata['Exterior1st'].replace(['Stc_CemBd_WdSd', 'WdShing'], 'Stc_CemBd_WdSdSh', inplace=True)\n",
    "# Combine BrkComm with VinylSd, Plywood. \n",
    "tdata['Exterior1st'].replace(['BrkComm', 'VinylSd', 'Plywood'], 'VinylPlywBrkcom', inplace=True)\n",
    "# Combine HdBoard and Other\n",
    "tdata['Exterior1st'].replace(['Other', 'HdBoard'], 'HdbdOther', inplace=True)"
   ]
  },
  {
   "cell_type": "code",
   "execution_count": 64,
   "id": "327a3c9a",
   "metadata": {},
   "outputs": [
    {
     "data": {
      "text/plain": [
       "VinylPlywBrkcom     1067\n",
       "Stc_CemBd_WdSdSh     570\n",
       "HdbdOther            422\n",
       "MetalSd              407\n",
       "BrkFace               80\n",
       "AsbShng               34\n",
       "Name: Exterior1st, dtype: int64"
      ]
     },
     "execution_count": 64,
     "metadata": {},
     "output_type": "execute_result"
    }
   ],
   "source": [
    "tdata['Exterior1st'].value_counts()"
   ]
  },
  {
   "cell_type": "code",
   "execution_count": 67,
   "id": "d91b0d86",
   "metadata": {},
   "outputs": [],
   "source": [
    "# Dummify, and drop VinylPlywBrkcom (modal) class\n",
    "Exterior1st_dums = pd.get_dummies(tdata['Exterior1st'], prefix='Exterior1st', \n",
    "                                  prefix_sep='_').drop('Exterior1st_VinylPlywBrkcom', axis=1)\n",
    "tdata = pd.concat([tdata.drop('Exterior1st', axis=1), Exterior1st_dums], axis=1)"
   ]
  },
  {
   "cell_type": "code",
   "execution_count": 68,
   "id": "d64a0775",
   "metadata": {},
   "outputs": [
    {
     "data": {
      "text/plain": [
       "Exterior1st_AsbShng  Exterior1st_BrkFace  Exterior1st_HdbdOther  Exterior1st_MetalSd  Exterior1st_Stc_CemBd_WdSdSh\n",
       "0                    0                    0                      0                    0                               1067\n",
       "                                                                                      1                                570\n",
       "                                          1                      0                    0                                422\n",
       "                                          0                      1                    0                                407\n",
       "                     1                    0                      0                    0                                 80\n",
       "1                    0                    0                      0                    0                                 34\n",
       "dtype: int64"
      ]
     },
     "execution_count": 68,
     "metadata": {},
     "output_type": "execute_result"
    }
   ],
   "source": [
    "# Check the Transformation\n",
    "tdata.iloc[:, -5:].value_counts()"
   ]
  },
  {
   "cell_type": "markdown",
   "id": "b0c7daf2",
   "metadata": {},
   "source": [
    "## MasVnrType - Combine Bricks, Investigate Nulls, Dummify"
   ]
  },
  {
   "cell_type": "code",
   "execution_count": 71,
   "id": "85d60d86",
   "metadata": {},
   "outputs": [
    {
     "name": "stdout",
     "output_type": "stream",
     "text": [
      "None       1559\n",
      "BrkFace     804\n",
      "Stone       183\n",
      "BrkCmn       20\n",
      "Name: MasVnrType, dtype: int64\n",
      "Mising values:  14\n"
     ]
    }
   ],
   "source": [
    "# Initial state\n",
    "print(tdata['MasVnrType'].value_counts())\n",
    "print('Mising values: ', np.sum(tdata['MasVnrType'].isnull()))"
   ]
  },
  {
   "cell_type": "code",
   "execution_count": 85,
   "id": "9390f7b4",
   "metadata": {},
   "outputs": [
    {
     "data": {
      "text/html": [
       "<div>\n",
       "<style scoped>\n",
       "    .dataframe tbody tr th:only-of-type {\n",
       "        vertical-align: middle;\n",
       "    }\n",
       "\n",
       "    .dataframe tbody tr th {\n",
       "        vertical-align: top;\n",
       "    }\n",
       "\n",
       "    .dataframe thead th {\n",
       "        text-align: right;\n",
       "    }\n",
       "</style>\n",
       "<table border=\"1\" class=\"dataframe\">\n",
       "  <thead>\n",
       "    <tr style=\"text-align: right;\">\n",
       "      <th></th>\n",
       "      <th>Remodeled</th>\n",
       "      <th>RemodelYrsAftBuilt</th>\n",
       "      <th>Functional_Maj</th>\n",
       "      <th>Functional_Min</th>\n",
       "      <th>Exterior1st_AsbShng</th>\n",
       "      <th>Exterior1st_BrkFace</th>\n",
       "      <th>Exterior1st_HdbdOther</th>\n",
       "      <th>Exterior1st_MetalSd</th>\n",
       "      <th>Exterior1st_Stc_CemBd_WdSdSh</th>\n",
       "    </tr>\n",
       "  </thead>\n",
       "  <tbody>\n",
       "    <tr>\n",
       "      <th>175</th>\n",
       "      <td>True</td>\n",
       "      <td>1</td>\n",
       "      <td>0</td>\n",
       "      <td>0</td>\n",
       "      <td>0</td>\n",
       "      <td>0</td>\n",
       "      <td>0</td>\n",
       "      <td>0</td>\n",
       "      <td>0</td>\n",
       "    </tr>\n",
       "    <tr>\n",
       "      <th>358</th>\n",
       "      <td>True</td>\n",
       "      <td>1</td>\n",
       "      <td>0</td>\n",
       "      <td>0</td>\n",
       "      <td>0</td>\n",
       "      <td>0</td>\n",
       "      <td>0</td>\n",
       "      <td>0</td>\n",
       "      <td>1</td>\n",
       "    </tr>\n",
       "    <tr>\n",
       "      <th>753</th>\n",
       "      <td>True</td>\n",
       "      <td>1</td>\n",
       "      <td>0</td>\n",
       "      <td>0</td>\n",
       "      <td>0</td>\n",
       "      <td>0</td>\n",
       "      <td>0</td>\n",
       "      <td>0</td>\n",
       "      <td>0</td>\n",
       "    </tr>\n",
       "    <tr>\n",
       "      <th>787</th>\n",
       "      <td>False</td>\n",
       "      <td>0</td>\n",
       "      <td>0</td>\n",
       "      <td>0</td>\n",
       "      <td>0</td>\n",
       "      <td>0</td>\n",
       "      <td>0</td>\n",
       "      <td>0</td>\n",
       "      <td>0</td>\n",
       "    </tr>\n",
       "    <tr>\n",
       "      <th>871</th>\n",
       "      <td>False</td>\n",
       "      <td>0</td>\n",
       "      <td>0</td>\n",
       "      <td>0</td>\n",
       "      <td>0</td>\n",
       "      <td>0</td>\n",
       "      <td>0</td>\n",
       "      <td>0</td>\n",
       "      <td>0</td>\n",
       "    </tr>\n",
       "    <tr>\n",
       "      <th>891</th>\n",
       "      <td>False</td>\n",
       "      <td>0</td>\n",
       "      <td>0</td>\n",
       "      <td>0</td>\n",
       "      <td>0</td>\n",
       "      <td>0</td>\n",
       "      <td>0</td>\n",
       "      <td>0</td>\n",
       "      <td>0</td>\n",
       "    </tr>\n",
       "    <tr>\n",
       "      <th>951</th>\n",
       "      <td>False</td>\n",
       "      <td>0</td>\n",
       "      <td>0</td>\n",
       "      <td>0</td>\n",
       "      <td>0</td>\n",
       "      <td>0</td>\n",
       "      <td>0</td>\n",
       "      <td>0</td>\n",
       "      <td>0</td>\n",
       "    </tr>\n",
       "    <tr>\n",
       "      <th>1041</th>\n",
       "      <td>False</td>\n",
       "      <td>0</td>\n",
       "      <td>0</td>\n",
       "      <td>0</td>\n",
       "      <td>0</td>\n",
       "      <td>0</td>\n",
       "      <td>0</td>\n",
       "      <td>0</td>\n",
       "      <td>0</td>\n",
       "    </tr>\n",
       "    <tr>\n",
       "      <th>1161</th>\n",
       "      <td>False</td>\n",
       "      <td>0</td>\n",
       "      <td>0</td>\n",
       "      <td>0</td>\n",
       "      <td>0</td>\n",
       "      <td>0</td>\n",
       "      <td>0</td>\n",
       "      <td>0</td>\n",
       "      <td>0</td>\n",
       "    </tr>\n",
       "    <tr>\n",
       "      <th>1355</th>\n",
       "      <td>False</td>\n",
       "      <td>0</td>\n",
       "      <td>0</td>\n",
       "      <td>0</td>\n",
       "      <td>0</td>\n",
       "      <td>0</td>\n",
       "      <td>0</td>\n",
       "      <td>0</td>\n",
       "      <td>1</td>\n",
       "    </tr>\n",
       "    <tr>\n",
       "      <th>1553</th>\n",
       "      <td>False</td>\n",
       "      <td>0</td>\n",
       "      <td>0</td>\n",
       "      <td>0</td>\n",
       "      <td>0</td>\n",
       "      <td>0</td>\n",
       "      <td>0</td>\n",
       "      <td>0</td>\n",
       "      <td>0</td>\n",
       "    </tr>\n",
       "    <tr>\n",
       "      <th>2033</th>\n",
       "      <td>False</td>\n",
       "      <td>0</td>\n",
       "      <td>0</td>\n",
       "      <td>0</td>\n",
       "      <td>0</td>\n",
       "      <td>0</td>\n",
       "      <td>0</td>\n",
       "      <td>0</td>\n",
       "      <td>0</td>\n",
       "    </tr>\n",
       "    <tr>\n",
       "      <th>2477</th>\n",
       "      <td>False</td>\n",
       "      <td>0</td>\n",
       "      <td>0</td>\n",
       "      <td>0</td>\n",
       "      <td>0</td>\n",
       "      <td>0</td>\n",
       "      <td>0</td>\n",
       "      <td>0</td>\n",
       "      <td>0</td>\n",
       "    </tr>\n",
       "    <tr>\n",
       "      <th>2536</th>\n",
       "      <td>False</td>\n",
       "      <td>0</td>\n",
       "      <td>0</td>\n",
       "      <td>0</td>\n",
       "      <td>0</td>\n",
       "      <td>0</td>\n",
       "      <td>0</td>\n",
       "      <td>0</td>\n",
       "      <td>0</td>\n",
       "    </tr>\n",
       "  </tbody>\n",
       "</table>\n",
       "</div>"
      ],
      "text/plain": [
       "      Remodeled  RemodelYrsAftBuilt  Functional_Maj  Functional_Min  \\\n",
       "175        True                   1               0               0   \n",
       "358        True                   1               0               0   \n",
       "753        True                   1               0               0   \n",
       "787       False                   0               0               0   \n",
       "871       False                   0               0               0   \n",
       "891       False                   0               0               0   \n",
       "951       False                   0               0               0   \n",
       "1041      False                   0               0               0   \n",
       "1161      False                   0               0               0   \n",
       "1355      False                   0               0               0   \n",
       "1553      False                   0               0               0   \n",
       "2033      False                   0               0               0   \n",
       "2477      False                   0               0               0   \n",
       "2536      False                   0               0               0   \n",
       "\n",
       "      Exterior1st_AsbShng  Exterior1st_BrkFace  Exterior1st_HdbdOther  \\\n",
       "175                     0                    0                      0   \n",
       "358                     0                    0                      0   \n",
       "753                     0                    0                      0   \n",
       "787                     0                    0                      0   \n",
       "871                     0                    0                      0   \n",
       "891                     0                    0                      0   \n",
       "951                     0                    0                      0   \n",
       "1041                    0                    0                      0   \n",
       "1161                    0                    0                      0   \n",
       "1355                    0                    0                      0   \n",
       "1553                    0                    0                      0   \n",
       "2033                    0                    0                      0   \n",
       "2477                    0                    0                      0   \n",
       "2536                    0                    0                      0   \n",
       "\n",
       "      Exterior1st_MetalSd  Exterior1st_Stc_CemBd_WdSdSh  \n",
       "175                     0                             0  \n",
       "358                     0                             1  \n",
       "753                     0                             0  \n",
       "787                     0                             0  \n",
       "871                     0                             0  \n",
       "891                     0                             0  \n",
       "951                     0                             0  \n",
       "1041                    0                             0  \n",
       "1161                    0                             0  \n",
       "1355                    0                             1  \n",
       "1553                    0                             0  \n",
       "2033                    0                             0  \n",
       "2477                    0                             0  \n",
       "2536                    0                             0  "
      ]
     },
     "execution_count": 85,
     "metadata": {},
     "output_type": "execute_result"
    }
   ],
   "source": [
    "tdata[tdata['MasVnrType'].isnull()].iloc[:,60:70] # Changed the column indees to investigate"
   ]
  },
  {
   "cell_type": "markdown",
   "id": "6416a22b",
   "metadata": {},
   "source": [
    "From inspection, these null-values are in rows that:\n",
    "1) Are of all different zoning types.\n",
    "2) 1/3 have missing lot frontage\n",
    "3) Most are 1Fam building types\n",
    "4) Built in 2000 or later.\n",
    "5) NaN for MasVnrArea\n",
    "6) Foundations are all PConc\n",
    "7) Most have paved drives and garages\n",
    "8) All have NaN for Fence\n",
    "\n",
    "Don't see any special relatinoships, and none have MasVnrArea, so going to fill these NaN's in as None (the mode)"
   ]
  },
  {
   "cell_type": "code",
   "execution_count": 86,
   "id": "d5c80fac",
   "metadata": {},
   "outputs": [],
   "source": [
    "# Filling in missing values with 'None'\n",
    "tdata['MasVnrType'].fillna(value='None', inplace=True)"
   ]
  },
  {
   "cell_type": "code",
   "execution_count": 87,
   "id": "d1f0aa15",
   "metadata": {},
   "outputs": [
    {
     "name": "stdout",
     "output_type": "stream",
     "text": [
      "None       1573\n",
      "BrkFace     804\n",
      "Stone       183\n",
      "BrkCmn       20\n",
      "Name: MasVnrType, dtype: int64\n",
      "Missing values:  0\n"
     ]
    }
   ],
   "source": [
    "# Checking the transformation\n",
    "print(tdata['MasVnrType'].value_counts())\n",
    "print('Missing values: ', np.sum(tdata['MasVnrType'].isnull()))"
   ]
  },
  {
   "cell_type": "code",
   "execution_count": 89,
   "id": "dfe34542",
   "metadata": {},
   "outputs": [],
   "source": [
    "# Combining Stone and BrkCmn, those are both much higher value than BrkFace.\n",
    "tdata['MasVnrType'].replace(['Stone', 'BrkCmn'], 'StoneBrkcom', inplace=True)"
   ]
  },
  {
   "cell_type": "code",
   "execution_count": 90,
   "id": "04076e59",
   "metadata": {},
   "outputs": [
    {
     "data": {
      "text/plain": [
       "None           1573\n",
       "BrkFace         804\n",
       "StoneBrkcom     203\n",
       "Name: MasVnrType, dtype: int64"
      ]
     },
     "execution_count": 90,
     "metadata": {},
     "output_type": "execute_result"
    }
   ],
   "source": [
    "# Checking the transformation\n",
    "tdata['MasVnrType'].value_counts()"
   ]
  },
  {
   "cell_type": "code",
   "execution_count": 95,
   "id": "2c0b5ecb",
   "metadata": {},
   "outputs": [],
   "source": [
    "# Create dummy columns\n",
    "MasVnrType_dums = pd.get_dummies(tdata['MasVnrType'], prefix='MasVnrType', \n",
    "                                 prefix_sep='_').drop('MasVnrType_None', axis=1)\n",
    "tdata = pd.concat([tdata.drop('MasVnrType', axis=1), MasVnrType_dums], axis=1)"
   ]
  },
  {
   "cell_type": "code",
   "execution_count": 98,
   "id": "c40bb085",
   "metadata": {},
   "outputs": [
    {
     "data": {
      "text/plain": [
       "MasVnrType_BrkFace  MasVnrType_StoneBrkcom\n",
       "0                   0                         1573\n",
       "1                   0                          804\n",
       "0                   1                          203\n",
       "dtype: int64"
      ]
     },
     "execution_count": 98,
     "metadata": {},
     "output_type": "execute_result"
    }
   ],
   "source": [
    "tdata.iloc[:,-2:].value_counts()"
   ]
  },
  {
   "cell_type": "markdown",
   "id": "dd2292af",
   "metadata": {},
   "source": [
    "## MasVnrArea - Fill NaN's"
   ]
  },
  {
   "cell_type": "markdown",
   "id": "b586ee53",
   "metadata": {},
   "source": [
    "Already found out that the NaN's in this column are the same as the ones in the MasVnrType column above. I filled those in with None for type so am filling these in with 0 for Area."
   ]
  },
  {
   "cell_type": "code",
   "execution_count": 100,
   "id": "2e45da0a",
   "metadata": {},
   "outputs": [
    {
     "name": "stdout",
     "output_type": "stream",
     "text": [
      "0.0       1554\n",
      "120.0       13\n",
      "216.0       11\n",
      "108.0       10\n",
      "176.0       10\n",
      "          ... \n",
      "604.0        1\n",
      "11.0         1\n",
      "1129.0       1\n",
      "673.0        1\n",
      "1159.0       1\n",
      "Name: MasVnrArea, Length: 416, dtype: int64\n",
      "Missing Values:  14\n"
     ]
    }
   ],
   "source": [
    "# Initial State\n",
    "print(tdata['MasVnrArea'].value_counts())\n",
    "print('Missing Values: ', np.sum(tdata['MasVnrArea'].isnull()))\n",
    "#Numerical variable, with a large amount of Zeros."
   ]
  },
  {
   "cell_type": "code",
   "execution_count": 102,
   "id": "ea4bd7ff",
   "metadata": {},
   "outputs": [],
   "source": [
    "# Now filling the NaN's with zeros\n",
    "tdata['MasVnrArea'].fillna(value=0, inplace=True)"
   ]
  },
  {
   "cell_type": "code",
   "execution_count": 103,
   "id": "85ba965d",
   "metadata": {},
   "outputs": [
    {
     "name": "stdout",
     "output_type": "stream",
     "text": [
      "0.0       1568\n",
      "120.0       13\n",
      "216.0       11\n",
      "108.0       10\n",
      "176.0       10\n",
      "          ... \n",
      "604.0        1\n",
      "11.0         1\n",
      "1129.0       1\n",
      "673.0        1\n",
      "1159.0       1\n",
      "Name: MasVnrArea, Length: 416, dtype: int64\n",
      "Missing Values:  0\n"
     ]
    }
   ],
   "source": [
    "# Check that our fills went correctly\n",
    "print(tdata['MasVnrArea'].value_counts())\n",
    "print('Missing Values: ', np.sum(tdata['MasVnrArea'].isnull()))"
   ]
  },
  {
   "cell_type": "markdown",
   "id": "bd0ea163",
   "metadata": {},
   "source": [
    "## Foundation - Dummify\n",
    "Maybe condense later. Potentially ask Mr. Burakowski"
   ]
  },
  {
   "cell_type": "code",
   "execution_count": 104,
   "id": "6d086ebf",
   "metadata": {},
   "outputs": [
    {
     "data": {
      "text/plain": [
       "CBlock    1140\n",
       "PConc     1105\n",
       "BrkTil     278\n",
       "Slab        42\n",
       "Stone       10\n",
       "Wood         5\n",
       "Name: Foundation, dtype: int64"
      ]
     },
     "execution_count": 104,
     "metadata": {},
     "output_type": "execute_result"
    }
   ],
   "source": [
    "tdata['Foundation'].value_counts()"
   ]
  },
  {
   "cell_type": "code",
   "execution_count": 106,
   "id": "50fe64c9",
   "metadata": {},
   "outputs": [],
   "source": [
    "# Create dummy columns\n",
    "Foundation_dums = pd.get_dummies(tdata['Foundation'], prefix='Foundation', \n",
    "                                 prefix_sep='_').drop('Foundation_CBlock', axis=1)\n",
    "tdata = pd.concat([tdata.drop('Foundation', axis=1), Foundation_dums], axis=1)"
   ]
  },
  {
   "cell_type": "code",
   "execution_count": 107,
   "id": "f3f4c606",
   "metadata": {},
   "outputs": [
    {
     "data": {
      "text/plain": [
       "Foundation_BrkTil  Foundation_PConc  Foundation_Slab  Foundation_Stone  Foundation_Wood\n",
       "0                  0                 0                0                 0                  1140\n",
       "                   1                 0                0                 0                  1105\n",
       "1                  0                 0                0                 0                   278\n",
       "0                  0                 1                0                 0                    42\n",
       "                                     0                1                 0                    10\n",
       "                                                      0                 1                     5\n",
       "dtype: int64"
      ]
     },
     "execution_count": 107,
     "metadata": {},
     "output_type": "execute_result"
    }
   ],
   "source": [
    "# Check the dummification\n",
    "tdata.iloc[:,-5:].value_counts()"
   ]
  },
  {
   "cell_type": "markdown",
   "id": "c232d9ba",
   "metadata": {},
   "source": [
    "## BsmtQual - No Basement cat from NaN's, Combine 'Po' into 'Fa', Dummify"
   ]
  },
  {
   "cell_type": "code",
   "execution_count": 109,
   "id": "aa58d344",
   "metadata": {},
   "outputs": [
    {
     "name": "stdout",
     "output_type": "stream",
     "text": [
      "TA    1166\n",
      "Gd    1077\n",
      "Ex     188\n",
      "Fa      78\n",
      "Po       2\n",
      "Name: BsmtQual, dtype: int64\n",
      "Missing values:  69\n"
     ]
    }
   ],
   "source": [
    "# Initial State\n",
    "print(tdata['BsmtQual'].value_counts())\n",
    "print('Missing values: ', np.sum(tdata['BsmtQual'].isnull()))"
   ]
  },
  {
   "cell_type": "code",
   "execution_count": 110,
   "id": "85c3ede1",
   "metadata": {},
   "outputs": [],
   "source": [
    "# Combine 'Po' into 'Fa'\n",
    "tdata['BsmtQual'].replace('Po', 'Fa', inplace=True)\n",
    "# Make 'None' category for NaN's\n",
    "tdata['BsmtQual'].fillna(value='None', inplace=True)"
   ]
  },
  {
   "cell_type": "code",
   "execution_count": 111,
   "id": "bb9884a9",
   "metadata": {},
   "outputs": [
    {
     "name": "stdout",
     "output_type": "stream",
     "text": [
      "TA      1166\n",
      "Gd      1077\n",
      "Ex       188\n",
      "Fa        80\n",
      "None      69\n",
      "Name: BsmtQual, dtype: int64\n",
      "Missing values:  0\n"
     ]
    }
   ],
   "source": [
    "# Check Transformation\n",
    "print(tdata['BsmtQual'].value_counts())\n",
    "print('Missing values: ', np.sum(tdata['BsmtQual'].isnull()))"
   ]
  },
  {
   "cell_type": "code",
   "execution_count": 112,
   "id": "b7f13648",
   "metadata": {},
   "outputs": [],
   "source": [
    "# Create dummy columns\n",
    "BsmtQual_dums = pd.get_dummies(tdata['BsmtQual'], prefix='BsmtQual', \n",
    "                                 prefix_sep='_').drop('BsmtQual_TA', axis=1)\n",
    "tdata = pd.concat([tdata.drop('BsmtQual', axis=1), BsmtQual_dums], axis=1)"
   ]
  },
  {
   "cell_type": "code",
   "execution_count": 113,
   "id": "3472a4bc",
   "metadata": {},
   "outputs": [
    {
     "data": {
      "text/plain": [
       "BsmtQual_Ex  BsmtQual_Fa  BsmtQual_Gd  BsmtQual_None\n",
       "0            0            0            0                1166\n",
       "                          1            0                1077\n",
       "1            0            0            0                 188\n",
       "0            1            0            0                  80\n",
       "             0            0            1                  69\n",
       "dtype: int64"
      ]
     },
     "execution_count": 113,
     "metadata": {},
     "output_type": "execute_result"
    }
   ],
   "source": [
    "# Check the dummification\n",
    "tdata.iloc[:,-4:].value_counts()"
   ]
  },
  {
   "cell_type": "markdown",
   "id": "5845585b",
   "metadata": {},
   "source": [
    "## BsmtCond - Combine 'Po' into 'Fa', 'Ex' into 'Gd'. Fill NaN's w/ 'None', the Dummify"
   ]
  },
  {
   "cell_type": "code",
   "execution_count": 120,
   "id": "c4f7569a",
   "metadata": {},
   "outputs": [
    {
     "name": "stdout",
     "output_type": "stream",
     "text": [
      "TA    2316\n",
      "Gd     101\n",
      "Fa      88\n",
      "Ex       3\n",
      "Po       3\n",
      "Name: BsmtCond, dtype: int64\n",
      "Missing values:  69\n"
     ]
    }
   ],
   "source": [
    "# Initial State\n",
    "print(tdata['BsmtCond'].value_counts())\n",
    "print('Missing values: ', np.sum(tdata['BsmtCond'].isnull()))"
   ]
  },
  {
   "cell_type": "code",
   "execution_count": 121,
   "id": "8e6ea88d",
   "metadata": {},
   "outputs": [],
   "source": [
    "# Combine 'Po' into 'Fa', and 'Ex' into 'Gd'\n",
    "tdata['BsmtCond'].replace('Po', 'Fa', inplace=True)\n",
    "tdata['BsmtCond'].replace('Ex', 'Gd', inplace=True)\n",
    "# Fill NaN's with 'None'\n",
    "tdata['BsmtCond'].fillna(value='None', inplace=True)"
   ]
  },
  {
   "cell_type": "code",
   "execution_count": 122,
   "id": "8a7daf37",
   "metadata": {},
   "outputs": [
    {
     "data": {
      "text/plain": [
       "TA      2316\n",
       "Gd       104\n",
       "Fa        91\n",
       "None      69\n",
       "Name: BsmtCond, dtype: int64"
      ]
     },
     "execution_count": 122,
     "metadata": {},
     "output_type": "execute_result"
    }
   ],
   "source": [
    "# Checking the transformation\n",
    "tdata['BsmtCond'].value_counts()"
   ]
  },
  {
   "cell_type": "code",
   "execution_count": 123,
   "id": "a9d7e245",
   "metadata": {},
   "outputs": [],
   "source": [
    "# Create dummy columns\n",
    "BsmtCond_dums = pd.get_dummies(tdata['BsmtCond'], prefix='BsmtCond', \n",
    "                                 prefix_sep='_').drop('BsmtCond_TA', axis=1)\n",
    "tdata = pd.concat([tdata.drop('BsmtCond', axis=1), BsmtCond_dums], axis=1)"
   ]
  },
  {
   "cell_type": "code",
   "execution_count": 124,
   "id": "698df385",
   "metadata": {},
   "outputs": [
    {
     "data": {
      "text/plain": [
       "BsmtCond_Fa  BsmtCond_Gd  BsmtCond_None\n",
       "0            0            0                2316\n",
       "             1            0                 104\n",
       "1            0            0                  91\n",
       "0            0            1                  69\n",
       "dtype: int64"
      ]
     },
     "execution_count": 124,
     "metadata": {},
     "output_type": "execute_result"
    }
   ],
   "source": [
    "# Check the dummification\n",
    "tdata.iloc[:,-3:].value_counts()"
   ]
  },
  {
   "cell_type": "markdown",
   "id": "49994d41",
   "metadata": {},
   "source": [
    "## BsmtExposure - Create a binary y/n. 'Gd', 'Av' == 1, rest == 0"
   ]
  },
  {
   "cell_type": "markdown",
   "id": "70a26180",
   "metadata": {},
   "source": [
    "Need to figure out what the two NaN's are that are not similar to the rest of the basement column NaN's and decide what to do with them."
   ]
  },
  {
   "cell_type": "code",
   "execution_count": 131,
   "id": "500938b7",
   "metadata": {},
   "outputs": [
    {
     "data": {
      "text/html": [
       "<div>\n",
       "<style scoped>\n",
       "    .dataframe tbody tr th:only-of-type {\n",
       "        vertical-align: middle;\n",
       "    }\n",
       "\n",
       "    .dataframe tbody tr th {\n",
       "        vertical-align: top;\n",
       "    }\n",
       "\n",
       "    .dataframe thead th {\n",
       "        text-align: right;\n",
       "    }\n",
       "</style>\n",
       "<table border=\"1\" class=\"dataframe\">\n",
       "  <thead>\n",
       "    <tr style=\"text-align: right;\">\n",
       "      <th></th>\n",
       "      <th>BsmtFinType1</th>\n",
       "      <th>BsmtUnfSF</th>\n",
       "      <th>TotalBsmtSF</th>\n",
       "      <th>CentralAir</th>\n",
       "      <th>Electrical</th>\n",
       "      <th>1stFlrSF</th>\n",
       "      <th>2ndFlrSF</th>\n",
       "      <th>BsmtFullBath</th>\n",
       "      <th>BsmtHalfBath</th>\n",
       "      <th>FullBath</th>\n",
       "    </tr>\n",
       "  </thead>\n",
       "  <tbody>\n",
       "    <tr>\n",
       "      <th>813</th>\n",
       "      <td>Unf</td>\n",
       "      <td>936.0</td>\n",
       "      <td>936.0</td>\n",
       "      <td>1</td>\n",
       "      <td>SBrkr</td>\n",
       "      <td>936</td>\n",
       "      <td>840</td>\n",
       "      <td>0.0</td>\n",
       "      <td>0.0</td>\n",
       "      <td>2</td>\n",
       "    </tr>\n",
       "    <tr>\n",
       "      <th>1201</th>\n",
       "      <td>Unf</td>\n",
       "      <td>1595.0</td>\n",
       "      <td>1595.0</td>\n",
       "      <td>1</td>\n",
       "      <td>SBrkr</td>\n",
       "      <td>1595</td>\n",
       "      <td>0</td>\n",
       "      <td>0.0</td>\n",
       "      <td>0.0</td>\n",
       "      <td>2</td>\n",
       "    </tr>\n",
       "  </tbody>\n",
       "</table>\n",
       "</div>"
      ],
      "text/plain": [
       "     BsmtFinType1  BsmtUnfSF  TotalBsmtSF  CentralAir Electrical  1stFlrSF  \\\n",
       "813           Unf      936.0        936.0           1      SBrkr       936   \n",
       "1201          Unf     1595.0       1595.0           1      SBrkr      1595   \n",
       "\n",
       "      2ndFlrSF  BsmtFullBath  BsmtHalfBath  FullBath  \n",
       "813        840           0.0           0.0         2  \n",
       "1201         0           0.0           0.0         2  "
      ]
     },
     "execution_count": 131,
     "metadata": {},
     "output_type": "execute_result"
    }
   ],
   "source": [
    "expose_df = tdata[tdata['BsmtExposure'].isnull()]\n",
    "cond_df = data[data['BsmtCond'].isnull()]\n",
    "#The rows not shared w/ other Bsmt Columns\n",
    "expose_df[~expose_df.index.isin(cond_df.index)].iloc[:, 20:30]"
   ]
  },
  {
   "cell_type": "markdown",
   "id": "094dddfa",
   "metadata": {},
   "source": [
    "These both are unfinished basements in 1Fam houses, so I am going to the the BsmtExposure values to the modal value, 'No'"
   ]
  },
  {
   "cell_type": "code",
   "execution_count": 133,
   "id": "e3c1bacf",
   "metadata": {},
   "outputs": [
    {
     "name": "stdout",
     "output_type": "stream",
     "text": [
      "No    1708\n",
      "Av     344\n",
      "Gd     242\n",
      "Mn     215\n",
      "Name: BsmtExposure, dtype: int64\n",
      "Missing values:  71\n"
     ]
    }
   ],
   "source": [
    "# Initial State\n",
    "print(tdata['BsmtExposure'].value_counts())\n",
    "print('Missing values: ', np.sum(tdata['BsmtExposure'].isnull()))"
   ]
  },
  {
   "cell_type": "code",
   "execution_count": 134,
   "id": "91eed40c",
   "metadata": {},
   "outputs": [],
   "source": [
    "# Fill in the two unique NaN's with 'No'. Same for the rest of the NaN's.\n",
    "tdata['BsmtExposure'].fillna(value='No', inplace=True)\n",
    "# Combine Gd, Av into '1', combine Mn, No into '0'\n",
    "tdata['BsmtExposure'].replace(['Gd', 'Av'], 1, inplace=True)\n",
    "tdata['BsmtExposure'].replace(['Mn', 'No'], 0, inplace=True)"
   ]
  },
  {
   "cell_type": "code",
   "execution_count": 135,
   "id": "4aabdbbe",
   "metadata": {},
   "outputs": [
    {
     "name": "stdout",
     "output_type": "stream",
     "text": [
      "0    1994\n",
      "1     586\n",
      "Name: BsmtExposure, dtype: int64\n",
      "Missing values:  0\n"
     ]
    }
   ],
   "source": [
    "# Check Transformation\n",
    "print(tdata['BsmtExposure'].value_counts())\n",
    "print('Missing values: ', np.sum(tdata['BsmtExposure'].isnull()))"
   ]
  },
  {
   "cell_type": "markdown",
   "id": "59618378",
   "metadata": {},
   "source": [
    "## BsmtFinType1 - Binarize, Good Living (y or n)"
   ]
  },
  {
   "cell_type": "code",
   "execution_count": 136,
   "id": "4995aab6",
   "metadata": {},
   "outputs": [
    {
     "name": "stdout",
     "output_type": "stream",
     "text": [
      "GLQ    753\n",
      "Unf    706\n",
      "ALQ    397\n",
      "Rec    265\n",
      "BLQ    251\n",
      "LwQ    139\n",
      "Name: BsmtFinType1, dtype: int64\n",
      "Missing values:  69\n"
     ]
    }
   ],
   "source": [
    "# Initial State\n",
    "print(tdata['BsmtFinType1'].value_counts())\n",
    "print('Missing values: ', np.sum(tdata['BsmtFinType1'].isnull()))"
   ]
  },
  {
   "cell_type": "code",
   "execution_count": 137,
   "id": "a0af7340",
   "metadata": {},
   "outputs": [],
   "source": [
    "# Fill missing values with Unf (this is okay since I am dropping that class)\n",
    "tdata['BsmtFinType1'].fillna(value='Unf', inplace=True)\n",
    "# Change GLQ to 1, the rest to 0\n",
    "tdata['BsmtFinType1'].replace(['Unf', 'ALQ', 'Rec', 'BLQ', 'LwQ'], 0, inplace=True)\n",
    "tdata['BsmtFinType1'].replace(['GLQ'], 1, inplace=True)"
   ]
  },
  {
   "cell_type": "code",
   "execution_count": 138,
   "id": "1eb0f87b",
   "metadata": {},
   "outputs": [
    {
     "data": {
      "text/plain": [
       "0    1827\n",
       "1     753\n",
       "Name: BsmtFinType1, dtype: int64"
      ]
     },
     "execution_count": 138,
     "metadata": {},
     "output_type": "execute_result"
    }
   ],
   "source": [
    "# Check Transformation\n",
    "tdata['BsmtFinType1'].value_counts()"
   ]
  },
  {
   "cell_type": "code",
   "execution_count": null,
   "id": "7a7fa1d1",
   "metadata": {},
   "outputs": [],
   "source": [
    "Note: Maybe change the name of this column to be more descriptive."
   ]
  }
 ],
 "metadata": {
  "kernelspec": {
   "display_name": "Python 3",
   "language": "python",
   "name": "python3"
  },
  "language_info": {
   "codemirror_mode": {
    "name": "ipython",
    "version": 3
   },
   "file_extension": ".py",
   "mimetype": "text/x-python",
   "name": "python",
   "nbconvert_exporter": "python",
   "pygments_lexer": "ipython3",
   "version": "3.8.8"
  }
 },
 "nbformat": 4,
 "nbformat_minor": 5
}
