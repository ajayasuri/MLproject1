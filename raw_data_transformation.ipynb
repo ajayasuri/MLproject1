{
 "cells": [
  {
   "cell_type": "code",
   "execution_count": 82,
   "id": "d9708765",
   "metadata": {},
   "outputs": [],
   "source": [
    "import numpy as np\n",
    "import pandas as pd\n",
    "import matplotlib.pyplot as plt\n"
   ]
  },
  {
   "cell_type": "code",
   "execution_count": 12,
   "id": "6713ca05",
   "metadata": {},
   "outputs": [],
   "source": [
    "data = pd.read_csv('merge_data_update.csv', index_col=0)"
   ]
  },
  {
   "cell_type": "code",
   "execution_count": 13,
   "id": "c514d61c",
   "metadata": {},
   "outputs": [],
   "source": [
    "tdata = data.copy()"
   ]
  },
  {
   "cell_type": "code",
   "execution_count": 15,
   "id": "ed955fce",
   "metadata": {},
   "outputs": [
    {
     "data": {
      "text/html": [
       "<div>\n",
       "<style scoped>\n",
       "    .dataframe tbody tr th:only-of-type {\n",
       "        vertical-align: middle;\n",
       "    }\n",
       "\n",
       "    .dataframe tbody tr th {\n",
       "        vertical-align: top;\n",
       "    }\n",
       "\n",
       "    .dataframe thead th {\n",
       "        text-align: right;\n",
       "    }\n",
       "</style>\n",
       "<table border=\"1\" class=\"dataframe\">\n",
       "  <thead>\n",
       "    <tr style=\"text-align: right;\">\n",
       "      <th></th>\n",
       "      <th>PID</th>\n",
       "      <th>GrLivArea</th>\n",
       "      <th>SalePrice</th>\n",
       "      <th>MSSubClass</th>\n",
       "      <th>MSZoning</th>\n",
       "      <th>LotFrontage</th>\n",
       "      <th>LotArea</th>\n",
       "      <th>Street</th>\n",
       "      <th>Alley</th>\n",
       "      <th>LotShape</th>\n",
       "      <th>...</th>\n",
       "      <th>ClassPr_S</th>\n",
       "      <th>ClassSc_S</th>\n",
       "      <th>SchD_S</th>\n",
       "      <th>TxD_S</th>\n",
       "      <th>LndAc_S</th>\n",
       "      <th>ImpAc_S</th>\n",
       "      <th>OthAc_S</th>\n",
       "      <th>HSTtl_D</th>\n",
       "      <th>HSTtl_S</th>\n",
       "      <th>GLA</th>\n",
       "    </tr>\n",
       "  </thead>\n",
       "  <tbody>\n",
       "    <tr>\n",
       "      <th>0</th>\n",
       "      <td>909176150</td>\n",
       "      <td>856</td>\n",
       "      <td>126000</td>\n",
       "      <td>30</td>\n",
       "      <td>RL</td>\n",
       "      <td>NaN</td>\n",
       "      <td>7890</td>\n",
       "      <td>Pave</td>\n",
       "      <td>NaN</td>\n",
       "      <td>Reg</td>\n",
       "      <td>...</td>\n",
       "      <td>RESIDENTIAL</td>\n",
       "      <td>1-STORY 1945 &amp; OLDER</td>\n",
       "      <td>1.0</td>\n",
       "      <td>1.0</td>\n",
       "      <td>37300.0</td>\n",
       "      <td>0.0</td>\n",
       "      <td>111700.0</td>\n",
       "      <td>NaN</td>\n",
       "      <td>NaN</td>\n",
       "      <td>856.0</td>\n",
       "    </tr>\n",
       "    <tr>\n",
       "      <th>1</th>\n",
       "      <td>905476230</td>\n",
       "      <td>1049</td>\n",
       "      <td>139500</td>\n",
       "      <td>120</td>\n",
       "      <td>RL</td>\n",
       "      <td>42.0</td>\n",
       "      <td>4235</td>\n",
       "      <td>Pave</td>\n",
       "      <td>NaN</td>\n",
       "      <td>Reg</td>\n",
       "      <td>...</td>\n",
       "      <td>RESIDENTIAL</td>\n",
       "      <td>1-STORY TWNHM - 1946 &amp; NEWER</td>\n",
       "      <td>1.0</td>\n",
       "      <td>1.0</td>\n",
       "      <td>43500.0</td>\n",
       "      <td>0.0</td>\n",
       "      <td>130600.0</td>\n",
       "      <td>NaN</td>\n",
       "      <td>NaN</td>\n",
       "      <td>1049.0</td>\n",
       "    </tr>\n",
       "    <tr>\n",
       "      <th>2</th>\n",
       "      <td>911128020</td>\n",
       "      <td>1001</td>\n",
       "      <td>124900</td>\n",
       "      <td>30</td>\n",
       "      <td>C (all)</td>\n",
       "      <td>60.0</td>\n",
       "      <td>6060</td>\n",
       "      <td>Pave</td>\n",
       "      <td>NaN</td>\n",
       "      <td>Reg</td>\n",
       "      <td>...</td>\n",
       "      <td>RESIDENTIAL</td>\n",
       "      <td>1-STORY 1945 &amp; OLDER</td>\n",
       "      <td>1.0</td>\n",
       "      <td>1.0</td>\n",
       "      <td>41100.0</td>\n",
       "      <td>0.0</td>\n",
       "      <td>123200.0</td>\n",
       "      <td>NaN</td>\n",
       "      <td>NaN</td>\n",
       "      <td>1001.0</td>\n",
       "    </tr>\n",
       "    <tr>\n",
       "      <th>3</th>\n",
       "      <td>535377150</td>\n",
       "      <td>1039</td>\n",
       "      <td>114000</td>\n",
       "      <td>70</td>\n",
       "      <td>RL</td>\n",
       "      <td>80.0</td>\n",
       "      <td>8146</td>\n",
       "      <td>Pave</td>\n",
       "      <td>NaN</td>\n",
       "      <td>Reg</td>\n",
       "      <td>...</td>\n",
       "      <td>RESIDENTIAL</td>\n",
       "      <td>2-STORY 1945 &amp; OLDER</td>\n",
       "      <td>1.0</td>\n",
       "      <td>1.0</td>\n",
       "      <td>31100.0</td>\n",
       "      <td>0.0</td>\n",
       "      <td>93300.0</td>\n",
       "      <td>NaN</td>\n",
       "      <td>4850.0</td>\n",
       "      <td>1039.0</td>\n",
       "    </tr>\n",
       "    <tr>\n",
       "      <th>4</th>\n",
       "      <td>534177230</td>\n",
       "      <td>1665</td>\n",
       "      <td>227000</td>\n",
       "      <td>60</td>\n",
       "      <td>RL</td>\n",
       "      <td>70.0</td>\n",
       "      <td>8400</td>\n",
       "      <td>Pave</td>\n",
       "      <td>NaN</td>\n",
       "      <td>Reg</td>\n",
       "      <td>...</td>\n",
       "      <td>RESIDENTIAL</td>\n",
       "      <td>2-STORY 1946 &amp; NEWER</td>\n",
       "      <td>1.0</td>\n",
       "      <td>1.0</td>\n",
       "      <td>64300.0</td>\n",
       "      <td>0.0</td>\n",
       "      <td>192800.0</td>\n",
       "      <td>NaN</td>\n",
       "      <td>NaN</td>\n",
       "      <td>1665.0</td>\n",
       "    </tr>\n",
       "    <tr>\n",
       "      <th>...</th>\n",
       "      <td>...</td>\n",
       "      <td>...</td>\n",
       "      <td>...</td>\n",
       "      <td>...</td>\n",
       "      <td>...</td>\n",
       "      <td>...</td>\n",
       "      <td>...</td>\n",
       "      <td>...</td>\n",
       "      <td>...</td>\n",
       "      <td>...</td>\n",
       "      <td>...</td>\n",
       "      <td>...</td>\n",
       "      <td>...</td>\n",
       "      <td>...</td>\n",
       "      <td>...</td>\n",
       "      <td>...</td>\n",
       "      <td>...</td>\n",
       "      <td>...</td>\n",
       "      <td>...</td>\n",
       "      <td>...</td>\n",
       "      <td>...</td>\n",
       "    </tr>\n",
       "    <tr>\n",
       "      <th>2575</th>\n",
       "      <td>903205040</td>\n",
       "      <td>952</td>\n",
       "      <td>121000</td>\n",
       "      <td>30</td>\n",
       "      <td>RL</td>\n",
       "      <td>NaN</td>\n",
       "      <td>8854</td>\n",
       "      <td>Pave</td>\n",
       "      <td>NaN</td>\n",
       "      <td>Reg</td>\n",
       "      <td>...</td>\n",
       "      <td>RESIDENTIAL</td>\n",
       "      <td>1-STORY 1945 &amp; OLDER</td>\n",
       "      <td>1.0</td>\n",
       "      <td>1.0</td>\n",
       "      <td>34600.0</td>\n",
       "      <td>0.0</td>\n",
       "      <td>103900.0</td>\n",
       "      <td>4850.0</td>\n",
       "      <td>4850.0</td>\n",
       "      <td>952.0</td>\n",
       "    </tr>\n",
       "    <tr>\n",
       "      <th>2576</th>\n",
       "      <td>905402060</td>\n",
       "      <td>1733</td>\n",
       "      <td>139600</td>\n",
       "      <td>20</td>\n",
       "      <td>RL</td>\n",
       "      <td>NaN</td>\n",
       "      <td>13680</td>\n",
       "      <td>Pave</td>\n",
       "      <td>NaN</td>\n",
       "      <td>IR1</td>\n",
       "      <td>...</td>\n",
       "      <td>RESIDENTIAL</td>\n",
       "      <td>1-STORY 1946 &amp; NEWER ALL STYLES</td>\n",
       "      <td>1.0</td>\n",
       "      <td>1.0</td>\n",
       "      <td>46300.0</td>\n",
       "      <td>0.0</td>\n",
       "      <td>138800.0</td>\n",
       "      <td>NaN</td>\n",
       "      <td>NaN</td>\n",
       "      <td>1733.0</td>\n",
       "    </tr>\n",
       "    <tr>\n",
       "      <th>2577</th>\n",
       "      <td>909275030</td>\n",
       "      <td>2002</td>\n",
       "      <td>145000</td>\n",
       "      <td>90</td>\n",
       "      <td>RH</td>\n",
       "      <td>82.0</td>\n",
       "      <td>6270</td>\n",
       "      <td>Pave</td>\n",
       "      <td>NaN</td>\n",
       "      <td>Reg</td>\n",
       "      <td>...</td>\n",
       "      <td>RESIDENTIAL</td>\n",
       "      <td>DUPLEX - ALL STYLES AND AGES</td>\n",
       "      <td>1.0</td>\n",
       "      <td>1.0</td>\n",
       "      <td>45800.0</td>\n",
       "      <td>0.0</td>\n",
       "      <td>137400.0</td>\n",
       "      <td>NaN</td>\n",
       "      <td>NaN</td>\n",
       "      <td>2002.0</td>\n",
       "    </tr>\n",
       "    <tr>\n",
       "      <th>2578</th>\n",
       "      <td>907192040</td>\n",
       "      <td>1842</td>\n",
       "      <td>217500</td>\n",
       "      <td>60</td>\n",
       "      <td>RL</td>\n",
       "      <td>NaN</td>\n",
       "      <td>8826</td>\n",
       "      <td>Pave</td>\n",
       "      <td>NaN</td>\n",
       "      <td>Reg</td>\n",
       "      <td>...</td>\n",
       "      <td>RESIDENTIAL</td>\n",
       "      <td>2-STORY 1946 &amp; NEWER</td>\n",
       "      <td>1.0</td>\n",
       "      <td>1.0</td>\n",
       "      <td>66300.0</td>\n",
       "      <td>0.0</td>\n",
       "      <td>198900.0</td>\n",
       "      <td>4850.0</td>\n",
       "      <td>4850.0</td>\n",
       "      <td>1842.0</td>\n",
       "    </tr>\n",
       "    <tr>\n",
       "      <th>2579</th>\n",
       "      <td>906223180</td>\n",
       "      <td>1911</td>\n",
       "      <td>215000</td>\n",
       "      <td>60</td>\n",
       "      <td>RL</td>\n",
       "      <td>80.0</td>\n",
       "      <td>9554</td>\n",
       "      <td>Pave</td>\n",
       "      <td>NaN</td>\n",
       "      <td>IR1</td>\n",
       "      <td>...</td>\n",
       "      <td>RESIDENTIAL</td>\n",
       "      <td>2-STORY 1946 &amp; NEWER</td>\n",
       "      <td>1.0</td>\n",
       "      <td>1.0</td>\n",
       "      <td>62700.0</td>\n",
       "      <td>0.0</td>\n",
       "      <td>187900.0</td>\n",
       "      <td>NaN</td>\n",
       "      <td>NaN</td>\n",
       "      <td>1911.0</td>\n",
       "    </tr>\n",
       "  </tbody>\n",
       "</table>\n",
       "<p>2580 rows × 97 columns</p>\n",
       "</div>"
      ],
      "text/plain": [
       "            PID  GrLivArea  SalePrice  MSSubClass MSZoning  LotFrontage  \\\n",
       "0     909176150        856     126000          30       RL          NaN   \n",
       "1     905476230       1049     139500         120       RL         42.0   \n",
       "2     911128020       1001     124900          30  C (all)         60.0   \n",
       "3     535377150       1039     114000          70       RL         80.0   \n",
       "4     534177230       1665     227000          60       RL         70.0   \n",
       "...         ...        ...        ...         ...      ...          ...   \n",
       "2575  903205040        952     121000          30       RL          NaN   \n",
       "2576  905402060       1733     139600          20       RL          NaN   \n",
       "2577  909275030       2002     145000          90       RH         82.0   \n",
       "2578  907192040       1842     217500          60       RL          NaN   \n",
       "2579  906223180       1911     215000          60       RL         80.0   \n",
       "\n",
       "      LotArea Street Alley LotShape  ...    ClassPr_S  \\\n",
       "0        7890   Pave   NaN      Reg  ...  RESIDENTIAL   \n",
       "1        4235   Pave   NaN      Reg  ...  RESIDENTIAL   \n",
       "2        6060   Pave   NaN      Reg  ...  RESIDENTIAL   \n",
       "3        8146   Pave   NaN      Reg  ...  RESIDENTIAL   \n",
       "4        8400   Pave   NaN      Reg  ...  RESIDENTIAL   \n",
       "...       ...    ...   ...      ...  ...          ...   \n",
       "2575     8854   Pave   NaN      Reg  ...  RESIDENTIAL   \n",
       "2576    13680   Pave   NaN      IR1  ...  RESIDENTIAL   \n",
       "2577     6270   Pave   NaN      Reg  ...  RESIDENTIAL   \n",
       "2578     8826   Pave   NaN      Reg  ...  RESIDENTIAL   \n",
       "2579     9554   Pave   NaN      IR1  ...  RESIDENTIAL   \n",
       "\n",
       "                            ClassSc_S SchD_S TxD_S  LndAc_S ImpAc_S   OthAc_S  \\\n",
       "0                1-STORY 1945 & OLDER    1.0   1.0  37300.0     0.0  111700.0   \n",
       "1        1-STORY TWNHM - 1946 & NEWER    1.0   1.0  43500.0     0.0  130600.0   \n",
       "2                1-STORY 1945 & OLDER    1.0   1.0  41100.0     0.0  123200.0   \n",
       "3                2-STORY 1945 & OLDER    1.0   1.0  31100.0     0.0   93300.0   \n",
       "4                2-STORY 1946 & NEWER    1.0   1.0  64300.0     0.0  192800.0   \n",
       "...                               ...    ...   ...      ...     ...       ...   \n",
       "2575             1-STORY 1945 & OLDER    1.0   1.0  34600.0     0.0  103900.0   \n",
       "2576  1-STORY 1946 & NEWER ALL STYLES    1.0   1.0  46300.0     0.0  138800.0   \n",
       "2577     DUPLEX - ALL STYLES AND AGES    1.0   1.0  45800.0     0.0  137400.0   \n",
       "2578             2-STORY 1946 & NEWER    1.0   1.0  66300.0     0.0  198900.0   \n",
       "2579             2-STORY 1946 & NEWER    1.0   1.0  62700.0     0.0  187900.0   \n",
       "\n",
       "     HSTtl_D HSTtl_S     GLA  \n",
       "0        NaN     NaN   856.0  \n",
       "1        NaN     NaN  1049.0  \n",
       "2        NaN     NaN  1001.0  \n",
       "3        NaN  4850.0  1039.0  \n",
       "4        NaN     NaN  1665.0  \n",
       "...      ...     ...     ...  \n",
       "2575  4850.0  4850.0   952.0  \n",
       "2576     NaN     NaN  1733.0  \n",
       "2577     NaN     NaN  2002.0  \n",
       "2578  4850.0  4850.0  1842.0  \n",
       "2579     NaN     NaN  1911.0  \n",
       "\n",
       "[2580 rows x 97 columns]"
      ]
     },
     "execution_count": 15,
     "metadata": {},
     "output_type": "execute_result"
    }
   ],
   "source": [
    "tdata"
   ]
  },
  {
   "cell_type": "code",
   "execution_count": 16,
   "id": "a1c625cc",
   "metadata": {},
   "outputs": [
    {
     "data": {
      "text/plain": [
       "Index(['PID', 'GrLivArea', 'SalePrice', 'MSSubClass', 'MSZoning',\n",
       "       'LotFrontage', 'LotArea', 'Street', 'Alley', 'LotShape', 'LandContour',\n",
       "       'Utilities', 'LotConfig', 'LandSlope', 'Neighborhood', 'Condition1',\n",
       "       'Condition2', 'BldgType', 'HouseStyle', 'OverallQual', 'OverallCond',\n",
       "       'YearBuilt', 'YearRemodAdd', 'RoofStyle', 'RoofMatl', 'Exterior1st',\n",
       "       'Exterior2nd', 'MasVnrType', 'MasVnrArea', 'ExterQual', 'ExterCond',\n",
       "       'Foundation', 'BsmtQual', 'BsmtCond', 'BsmtExposure', 'BsmtFinType1',\n",
       "       'BsmtFinSF1', 'BsmtFinType2', 'BsmtFinSF2', 'BsmtUnfSF', 'TotalBsmtSF',\n",
       "       'Heating', 'HeatingQC', 'CentralAir', 'Electrical', '1stFlrSF',\n",
       "       '2ndFlrSF', 'LowQualFinSF', 'BsmtFullBath', 'BsmtHalfBath', 'FullBath',\n",
       "       'HalfBath', 'BedroomAbvGr', 'KitchenAbvGr', 'KitchenQual',\n",
       "       'TotRmsAbvGrd', 'Functional', 'Fireplaces', 'FireplaceQu', 'GarageType',\n",
       "       'GarageYrBlt', 'GarageFinish', 'GarageCars', 'GarageArea', 'GarageQual',\n",
       "       'GarageCond', 'PavedDrive', 'WoodDeckSF', 'OpenPorchSF',\n",
       "       'EnclosedPorch', '3SsnPorch', 'ScreenPorch', 'PoolArea', 'PoolQC',\n",
       "       'Fence', 'MiscFeature', 'MiscVal', 'MoSold', 'YrSold', 'SaleType',\n",
       "       'SaleCondition', 'MapRefNo', 'GeoRefNo', 'Prop_Addr', 'ZngCdPr',\n",
       "       'ZngOLPr', 'ZngOLSc', 'ClassPr_S', 'ClassSc_S', 'SchD_S', 'TxD_S',\n",
       "       'LndAc_S', 'ImpAc_S', 'OthAc_S', 'HSTtl_D', 'HSTtl_S', 'GLA'],\n",
       "      dtype='object')"
      ]
     },
     "execution_count": 16,
     "metadata": {},
     "output_type": "execute_result"
    }
   ],
   "source": [
    "tdata.columns"
   ]
  },
  {
   "cell_type": "markdown",
   "id": "2572faf8",
   "metadata": {},
   "source": [
    "## Drop Columns"
   ]
  },
  {
   "cell_type": "code",
   "execution_count": 19,
   "id": "f2c13b6d",
   "metadata": {},
   "outputs": [],
   "source": [
    "drop_list = ['Street', 'Alley', 'Utilities', 'LandSlope',\n",
    "           'Condition2', 'MapRefNo', 'ZngCdPr', 'ZngOLPr', 'ZngOLSc', \n",
    "           'ClassSc_S', 'Heating', 'LowQualFinSF', 'KitchenAbvGr', \n",
    "           'Functional', 'RoofMatl', 'ExterCond', 'BsmtFinSF1', \n",
    "           'BsmtFinSF2', 'BsmtFinType2', 'GarageQual', 'GarageCond', \n",
    "           'OpenPorchSF', 'EnclosedPorch', '3SsnPorch', 'ScreenPorch', \n",
    "           'PoolArea', 'PoolQC', 'MiscFeature', 'MiscVal', 'YrSold', \n",
    "           'SaleType', 'SaleCondition', 'HSTtl_D', 'HSTtl_S', 'GLA']"
   ]
  },
  {
   "cell_type": "code",
   "execution_count": 23,
   "id": "65b9173f",
   "metadata": {},
   "outputs": [],
   "source": [
    "tdata = tdata.drop(drop_list, axis=1)"
   ]
  },
  {
   "cell_type": "markdown",
   "id": "2f0bdb18",
   "metadata": {},
   "source": [
    "## For 'HeatingQC', combine the one 'Po' with 'Fa'"
   ]
  },
  {
   "cell_type": "code",
   "execution_count": 31,
   "id": "1a61dee4",
   "metadata": {},
   "outputs": [],
   "source": [
    "# Replace the one 'Po' with 'Fa'\n",
    "tdata['HeatingQC'].replace('Po', 'Fa', inplace=True)"
   ]
  },
  {
   "cell_type": "code",
   "execution_count": 32,
   "id": "6a0d746c",
   "metadata": {},
   "outputs": [
    {
     "data": {
      "text/plain": [
       "Ex    1293\n",
       "TA     768\n",
       "Gd     434\n",
       "Fa      85\n",
       "Name: HeatingQC, dtype: int64"
      ]
     },
     "execution_count": 32,
     "metadata": {},
     "output_type": "execute_result"
    }
   ],
   "source": [
    "# Check it\n",
    "tdata['HeatingQC'].value_counts()"
   ]
  },
  {
   "cell_type": "markdown",
   "id": "6e7b4911",
   "metadata": {},
   "source": [
    "## 'CentralAir': Making 'Y' == 0 (base case), and 'N' == 1"
   ]
  },
  {
   "cell_type": "markdown",
   "id": "ebc4bd7a",
   "metadata": {},
   "source": [
    "Maybe we should change the column name to NoCentralAir, more descriptive of it now."
   ]
  },
  {
   "cell_type": "code",
   "execution_count": 33,
   "id": "1e616d4d",
   "metadata": {},
   "outputs": [
    {
     "data": {
      "text/plain": [
       "Y    2417\n",
       "N     163\n",
       "Name: CentralAir, dtype: int64"
      ]
     },
     "execution_count": 33,
     "metadata": {},
     "output_type": "execute_result"
    }
   ],
   "source": [
    "# Initial State\n",
    "tdata['CentralAir'].value_counts()"
   ]
  },
  {
   "cell_type": "code",
   "execution_count": 35,
   "id": "deb95528",
   "metadata": {},
   "outputs": [],
   "source": [
    "# Transforming the column, Y == 0 and N == 1\n",
    "tdata['CentralAir'].replace('Y', 0, inplace=True)\n",
    "tdata['CentralAir'].replace('N', 1, inplace=True)"
   ]
  },
  {
   "cell_type": "code",
   "execution_count": 37,
   "id": "76f481de",
   "metadata": {},
   "outputs": [
    {
     "data": {
      "text/plain": [
       "0    2417\n",
       "1     163\n",
       "Name: CentralAir, dtype: int64"
      ]
     },
     "execution_count": 37,
     "metadata": {},
     "output_type": "execute_result"
    }
   ],
   "source": [
    "# Checking the transformation\n",
    "tdata['CentralAir'].value_counts()"
   ]
  },
  {
   "cell_type": "markdown",
   "id": "6f0cebb9",
   "metadata": {},
   "source": [
    "## 'Electrical' - Fill NaN"
   ]
  },
  {
   "cell_type": "markdown",
   "id": "8a6cb3b2",
   "metadata": {},
   "source": [
    "If initial thought is correct, age of house should determine the electrical system. So YrBuilt for the missing value will tell us with high probability the electrical in the house."
   ]
  },
  {
   "cell_type": "code",
   "execution_count": 39,
   "id": "081ab4dc",
   "metadata": {},
   "outputs": [
    {
     "data": {
      "text/html": [
       "<div>\n",
       "<style scoped>\n",
       "    .dataframe tbody tr th:only-of-type {\n",
       "        vertical-align: middle;\n",
       "    }\n",
       "\n",
       "    .dataframe tbody tr th {\n",
       "        vertical-align: top;\n",
       "    }\n",
       "\n",
       "    .dataframe thead th {\n",
       "        text-align: right;\n",
       "    }\n",
       "</style>\n",
       "<table border=\"1\" class=\"dataframe\">\n",
       "  <thead>\n",
       "    <tr style=\"text-align: right;\">\n",
       "      <th></th>\n",
       "      <th>mean</th>\n",
       "      <th>std</th>\n",
       "    </tr>\n",
       "    <tr>\n",
       "      <th>Electrical</th>\n",
       "      <th></th>\n",
       "      <th></th>\n",
       "    </tr>\n",
       "  </thead>\n",
       "  <tbody>\n",
       "    <tr>\n",
       "      <th>FuseA</th>\n",
       "      <td>1937.797619</td>\n",
       "      <td>18.662319</td>\n",
       "    </tr>\n",
       "    <tr>\n",
       "      <th>FuseF</th>\n",
       "      <td>1933.461538</td>\n",
       "      <td>16.509720</td>\n",
       "    </tr>\n",
       "    <tr>\n",
       "      <th>FuseP</th>\n",
       "      <td>1926.000000</td>\n",
       "      <td>14.189198</td>\n",
       "    </tr>\n",
       "    <tr>\n",
       "      <th>SBrkr</th>\n",
       "      <td>1973.347569</td>\n",
       "      <td>28.652937</td>\n",
       "    </tr>\n",
       "  </tbody>\n",
       "</table>\n",
       "</div>"
      ],
      "text/plain": [
       "                   mean        std\n",
       "Electrical                        \n",
       "FuseA       1937.797619  18.662319\n",
       "FuseF       1933.461538  16.509720\n",
       "FuseP       1926.000000  14.189198\n",
       "SBrkr       1973.347569  28.652937"
      ]
     },
     "execution_count": 39,
     "metadata": {},
     "output_type": "execute_result"
    }
   ],
   "source": [
    "# Find info on Year Built for each 'Electrical' class\n",
    "tdata.groupby('Electrical')['YearBuilt'].agg(['mean', 'std'])"
   ]
  },
  {
   "cell_type": "code",
   "execution_count": 43,
   "id": "4378dd30",
   "metadata": {
    "scrolled": true
   },
   "outputs": [
    {
     "data": {
      "text/plain": [
       "2442    2006\n",
       "Name: YearBuilt, dtype: int64"
      ]
     },
     "execution_count": 43,
     "metadata": {},
     "output_type": "execute_result"
    }
   ],
   "source": [
    "# Get the year for the missing value\n",
    "tdata[tdata['Electrical'].isnull()].YearBuilt"
   ]
  },
  {
   "cell_type": "markdown",
   "id": "6c467764",
   "metadata": {},
   "source": [
    "The YearBuilt for the observation with missing 'Electrical' is 2006, a clear sign that the value should be filled in with 'SBrkr'"
   ]
  },
  {
   "cell_type": "code",
   "execution_count": 51,
   "id": "ffaea38b",
   "metadata": {},
   "outputs": [
    {
     "name": "stdout",
     "output_type": "stream",
     "text": [
      "SBrkr    2365\n",
      "FuseA     168\n",
      "FuseF      39\n",
      "FuseP       7\n",
      "Name: Electrical, dtype: int64\n",
      "Missing Values:  1\n"
     ]
    }
   ],
   "source": [
    "# Initial State\n",
    "print(tdata['Electrical'].value_counts())\n",
    "print('Missing Values: ', np.sum(tdata['Electrical'].isnull()))"
   ]
  },
  {
   "cell_type": "code",
   "execution_count": 52,
   "id": "cdff58a3",
   "metadata": {},
   "outputs": [],
   "source": [
    "# Filling the in missing value with 'SBrkr'\n",
    "tdata['Electrical'].fillna(value='SBrkr', inplace=True)"
   ]
  },
  {
   "cell_type": "code",
   "execution_count": 53,
   "id": "a2d26c0f",
   "metadata": {},
   "outputs": [
    {
     "name": "stdout",
     "output_type": "stream",
     "text": [
      "SBrkr    2366\n",
      "FuseA     168\n",
      "FuseF      39\n",
      "FuseP       7\n",
      "Name: Electrical, dtype: int64\n",
      "Missing Values:  0\n"
     ]
    }
   ],
   "source": [
    "# Checking the transformation\n",
    "print(tdata['Electrical'].value_counts())\n",
    "print('Missing Values: ', np.sum(tdata['Electrical'].isnull()))"
   ]
  },
  {
   "cell_type": "markdown",
   "id": "e57a5241",
   "metadata": {},
   "source": [
    "## 'BsmtFullBath' - Fill Nan's"
   ]
  },
  {
   "cell_type": "markdown",
   "id": "5404c688",
   "metadata": {},
   "source": [
    "There are two missing values, check if those observations have basements."
   ]
  },
  {
   "cell_type": "code",
   "execution_count": 59,
   "id": "2399a75f",
   "metadata": {},
   "outputs": [
    {
     "data": {
      "text/html": [
       "<div>\n",
       "<style scoped>\n",
       "    .dataframe tbody tr th:only-of-type {\n",
       "        vertical-align: middle;\n",
       "    }\n",
       "\n",
       "    .dataframe tbody tr th {\n",
       "        vertical-align: top;\n",
       "    }\n",
       "\n",
       "    .dataframe thead th {\n",
       "        text-align: right;\n",
       "    }\n",
       "</style>\n",
       "<table border=\"1\" class=\"dataframe\">\n",
       "  <thead>\n",
       "    <tr style=\"text-align: right;\">\n",
       "      <th></th>\n",
       "      <th>BsmtQual</th>\n",
       "      <th>BsmtCond</th>\n",
       "      <th>BsmtExposure</th>\n",
       "      <th>BsmtFinType1</th>\n",
       "      <th>BsmtUnfSF</th>\n",
       "      <th>TotalBsmtSF</th>\n",
       "    </tr>\n",
       "  </thead>\n",
       "  <tbody>\n",
       "    <tr>\n",
       "      <th>912</th>\n",
       "      <td>NaN</td>\n",
       "      <td>NaN</td>\n",
       "      <td>NaN</td>\n",
       "      <td>NaN</td>\n",
       "      <td>NaN</td>\n",
       "      <td>NaN</td>\n",
       "    </tr>\n",
       "    <tr>\n",
       "      <th>2308</th>\n",
       "      <td>NaN</td>\n",
       "      <td>NaN</td>\n",
       "      <td>NaN</td>\n",
       "      <td>NaN</td>\n",
       "      <td>0.0</td>\n",
       "      <td>0.0</td>\n",
       "    </tr>\n",
       "  </tbody>\n",
       "</table>\n",
       "</div>"
      ],
      "text/plain": [
       "     BsmtQual BsmtCond BsmtExposure BsmtFinType1  BsmtUnfSF  TotalBsmtSF\n",
       "912       NaN      NaN          NaN          NaN        NaN          NaN\n",
       "2308      NaN      NaN          NaN          NaN        0.0          0.0"
      ]
     },
     "execution_count": 59,
     "metadata": {},
     "output_type": "execute_result"
    }
   ],
   "source": [
    "tdata[tdata['BsmtFullBath'].isnull()].iloc[:,24:30]"
   ]
  },
  {
   "cell_type": "markdown",
   "id": "c78c0c4f",
   "metadata": {},
   "source": [
    "Confirmed that one has no information at all for any basement column, and one has 0 for TotalBsmtSF, so I am comfortable saying those missing values are because the houses in the observations don't have basements. Will set them to 0."
   ]
  },
  {
   "cell_type": "code",
   "execution_count": 61,
   "id": "466ab2c6",
   "metadata": {},
   "outputs": [
    {
     "data": {
      "text/plain": [
       "0.0    1485\n",
       "1.0    1065\n",
       "2.0      27\n",
       "3.0       1\n",
       "Name: BsmtFullBath, dtype: int64"
      ]
     },
     "execution_count": 61,
     "metadata": {},
     "output_type": "execute_result"
    }
   ],
   "source": [
    "# Initial State\n",
    "tdata['BsmtFullBath'].value_counts()"
   ]
  },
  {
   "cell_type": "code",
   "execution_count": 64,
   "id": "2d256954",
   "metadata": {},
   "outputs": [],
   "source": [
    "# Filling in missing values with 0\n",
    "tdata['BsmtFullBath'].fillna(value=0, inplace=True)"
   ]
  },
  {
   "cell_type": "code",
   "execution_count": 67,
   "id": "403d11d9",
   "metadata": {},
   "outputs": [
    {
     "name": "stdout",
     "output_type": "stream",
     "text": [
      "0.0    1487\n",
      "1.0    1065\n",
      "2.0      27\n",
      "3.0       1\n",
      "Name: BsmtFullBath, dtype: int64\n",
      "Missing values:  0\n"
     ]
    }
   ],
   "source": [
    "# Checking the transformation\n",
    "print(tdata['BsmtFullBath'].value_counts())\n",
    "print('Missing values: ', np.sum(tdata['BsmtFullBath'].isnull()))"
   ]
  },
  {
   "cell_type": "markdown",
   "id": "2cb4000c",
   "metadata": {},
   "source": [
    "## BsmtHalfBath - Fill NaN's"
   ]
  },
  {
   "cell_type": "markdown",
   "id": "1a55c926",
   "metadata": {},
   "source": [
    "Should be the same as BsmtFullBath work. There are two missing values, check if those observations have basements."
   ]
  },
  {
   "cell_type": "code",
   "execution_count": 69,
   "id": "f90db8a8",
   "metadata": {},
   "outputs": [
    {
     "data": {
      "text/html": [
       "<div>\n",
       "<style scoped>\n",
       "    .dataframe tbody tr th:only-of-type {\n",
       "        vertical-align: middle;\n",
       "    }\n",
       "\n",
       "    .dataframe tbody tr th {\n",
       "        vertical-align: top;\n",
       "    }\n",
       "\n",
       "    .dataframe thead th {\n",
       "        text-align: right;\n",
       "    }\n",
       "</style>\n",
       "<table border=\"1\" class=\"dataframe\">\n",
       "  <thead>\n",
       "    <tr style=\"text-align: right;\">\n",
       "      <th></th>\n",
       "      <th>BsmtQual</th>\n",
       "      <th>BsmtCond</th>\n",
       "      <th>BsmtExposure</th>\n",
       "      <th>BsmtFinType1</th>\n",
       "      <th>BsmtUnfSF</th>\n",
       "      <th>TotalBsmtSF</th>\n",
       "    </tr>\n",
       "  </thead>\n",
       "  <tbody>\n",
       "    <tr>\n",
       "      <th>912</th>\n",
       "      <td>NaN</td>\n",
       "      <td>NaN</td>\n",
       "      <td>NaN</td>\n",
       "      <td>NaN</td>\n",
       "      <td>NaN</td>\n",
       "      <td>NaN</td>\n",
       "    </tr>\n",
       "    <tr>\n",
       "      <th>2308</th>\n",
       "      <td>NaN</td>\n",
       "      <td>NaN</td>\n",
       "      <td>NaN</td>\n",
       "      <td>NaN</td>\n",
       "      <td>0.0</td>\n",
       "      <td>0.0</td>\n",
       "    </tr>\n",
       "  </tbody>\n",
       "</table>\n",
       "</div>"
      ],
      "text/plain": [
       "     BsmtQual BsmtCond BsmtExposure BsmtFinType1  BsmtUnfSF  TotalBsmtSF\n",
       "912       NaN      NaN          NaN          NaN        NaN          NaN\n",
       "2308      NaN      NaN          NaN          NaN        0.0          0.0"
      ]
     },
     "execution_count": 69,
     "metadata": {},
     "output_type": "execute_result"
    }
   ],
   "source": [
    "tdata[tdata['BsmtHalfBath'].isnull()].iloc[:,24:30]"
   ]
  },
  {
   "cell_type": "markdown",
   "id": "35282337",
   "metadata": {},
   "source": [
    "It's the same rows of data as the above BsmtFullBath Nan's so treat them the same way. Fill with Zeros."
   ]
  },
  {
   "cell_type": "code",
   "execution_count": 71,
   "id": "79ca302e",
   "metadata": {},
   "outputs": [
    {
     "name": "stdout",
     "output_type": "stream",
     "text": [
      "0.0    2420\n",
      "1.0     156\n",
      "2.0       2\n",
      "Name: BsmtHalfBath, dtype: int64\n",
      "Missing values:  2\n"
     ]
    }
   ],
   "source": [
    "# Initial State\n",
    "print(tdata['BsmtHalfBath'].value_counts())\n",
    "print('Missing values: ', np.sum(tdata['BsmtHalfBath'].isnull()))"
   ]
  },
  {
   "cell_type": "code",
   "execution_count": 72,
   "id": "b41c2ad1",
   "metadata": {},
   "outputs": [],
   "source": [
    "# Filling in missing values with 0\n",
    "tdata['BsmtHalfBath'].fillna(value=0, inplace=True)"
   ]
  },
  {
   "cell_type": "code",
   "execution_count": 73,
   "id": "198d917f",
   "metadata": {},
   "outputs": [
    {
     "name": "stdout",
     "output_type": "stream",
     "text": [
      "0.0    2422\n",
      "1.0     156\n",
      "2.0       2\n",
      "Name: BsmtHalfBath, dtype: int64\n",
      "Missing values:  0\n"
     ]
    }
   ],
   "source": [
    "# Checking the transformation\n",
    "print(tdata['BsmtHalfBath'].value_counts())\n",
    "print('Missing values: ', np.sum(tdata['BsmtHalfBath'].isnull()))"
   ]
  },
  {
   "cell_type": "markdown",
   "id": "f018bb0a",
   "metadata": {},
   "source": [
    "## 'KitchenQual' - Combine the one 'Po' into 'Fa'"
   ]
  },
  {
   "cell_type": "code",
   "execution_count": 74,
   "id": "c92852b8",
   "metadata": {},
   "outputs": [
    {
     "data": {
      "text/plain": [
       "TA    1358\n",
       "Gd    1017\n",
       "Ex     142\n",
       "Fa      62\n",
       "Po       1\n",
       "Name: KitchenQual, dtype: int64"
      ]
     },
     "execution_count": 74,
     "metadata": {},
     "output_type": "execute_result"
    }
   ],
   "source": [
    "# Initial State\n",
    "tdata['KitchenQual'].value_counts()"
   ]
  },
  {
   "cell_type": "code",
   "execution_count": 76,
   "id": "7de9c3c2",
   "metadata": {},
   "outputs": [],
   "source": [
    "# Transform the Data\n",
    "tdata['KitchenQual'].replace('Po', 'Fa', inplace=True)"
   ]
  },
  {
   "cell_type": "code",
   "execution_count": 77,
   "id": "d0bdf29d",
   "metadata": {},
   "outputs": [
    {
     "data": {
      "text/plain": [
       "TA    1358\n",
       "Gd    1017\n",
       "Ex     142\n",
       "Fa      63\n",
       "Name: KitchenQual, dtype: int64"
      ]
     },
     "execution_count": 77,
     "metadata": {},
     "output_type": "execute_result"
    }
   ],
   "source": [
    "# Check the transformation\n",
    "tdata['KitchenQual'].value_counts()"
   ]
  },
  {
   "cell_type": "markdown",
   "id": "7e928cc2",
   "metadata": {},
   "source": [
    "## 'YearRemodAdd' - Binarize for Y/N Remodeled"
   ]
  },
  {
   "cell_type": "code",
   "execution_count": 81,
   "id": "4affbd26",
   "metadata": {},
   "outputs": [],
   "source": [
    "# Remodeled houses had YearRemodAdd date AFTER YearBuilt.\n",
    "# If the years are the same it means the house was not remodeled.\n",
    "# Making a binary column. Later will have to see if it is useful.\n",
    "tdata['Remodeled'] = tdata['YearRemodAdd'] > tdata['YearBuilt']"
   ]
  },
  {
   "cell_type": "code",
   "execution_count": 86,
   "id": "d182248c",
   "metadata": {},
   "outputs": [
    {
     "data": {
      "text/plain": [
       "0.4624031007751938"
      ]
     },
     "execution_count": 86,
     "metadata": {},
     "output_type": "execute_result"
    }
   ],
   "source": [
    "# What percent of houses have been remodeled?\n",
    "np.mean(tdata['Remodeled'])"
   ]
  },
  {
   "cell_type": "code",
   "execution_count": 84,
   "id": "dd889895",
   "metadata": {},
   "outputs": [
    {
     "data": {
      "text/plain": [
       "<AxesSubplot:title={'center':'SalePrice'}, xlabel='Remodeled'>"
      ]
     },
     "execution_count": 84,
     "metadata": {},
     "output_type": "execute_result"
    },
    {
     "data": {
      "image/png": "[encoded data removed]",
      "text/plain": [
       "<Figure size 432x288 with 1 Axes>"
      ]
     },
     "metadata": {
      "needs_background": "light"
     },
     "output_type": "display_data"
    }
   ],
   "source": [
    "#Visualize the price differences\n",
    "tdata.boxplot(column='SalePrice', by='Remodeled')"
   ]
  },
  {
   "cell_type": "code",
   "execution_count": 85,
   "id": "0f3cd798",
   "metadata": {},
   "outputs": [
    {
     "data": {
      "text/plain": [
       "count    1193.000000\n",
       "mean     1986.029338\n",
       "std        22.235884\n",
       "min      1950.000000\n",
       "25%      1958.000000\n",
       "50%      1996.000000\n",
       "75%      2004.000000\n",
       "max      2010.000000\n",
       "Name: YearRemodAdd, dtype: float64"
      ]
     },
     "execution_count": 85,
     "metadata": {},
     "output_type": "execute_result"
    }
   ],
   "source": [
    "tdata[tdata['Remodeled']==True].YearRemodAdd.describe()"
   ]
  },
  {
   "cell_type": "markdown",
   "id": "e300bafc",
   "metadata": {},
   "source": [
    "#### I honestly don't now what to do with this YearRemodAdd column. I think it would be best to only keep values with 'Remodeled' = True, as a numeric variable, but i'm not sure how to do that. Can't just make all the non-remodeled homes 0, that will mess up a regression. I imagine there is some way to do this in Python and I don't know it yet."
   ]
  },
  {
   "cell_type": "code",
   "execution_count": null,
   "id": "3994775c",
   "metadata": {},
   "outputs": [],
   "source": [
    " "
   ]
  },
  {
   "cell_type": "code",
   "execution_count": null,
   "id": "4c527293",
   "metadata": {},
   "outputs": [],
   "source": []
  },
  {
   "cell_type": "code",
   "execution_count": null,
   "id": "14b6f6c4",
   "metadata": {},
   "outputs": [],
   "source": []
  },
  {
   "cell_type": "code",
   "execution_count": null,
   "id": "36213869",
   "metadata": {},
   "outputs": [],
   "source": []
  },
  {
   "cell_type": "code",
   "execution_count": null,
   "id": "81e16ab5",
   "metadata": {},
   "outputs": [],
   "source": []
  },
  {
   "cell_type": "code",
   "execution_count": null,
   "id": "1e0dc7f7",
   "metadata": {},
   "outputs": [],
   "source": []
  },
  {
   "cell_type": "code",
   "execution_count": null,
   "id": "4fa47165",
   "metadata": {},
   "outputs": [],
   "source": []
  }
 ],
 "metadata": {
  "kernelspec": {
   "display_name": "Python 3",
   "language": "python",
   "name": "python3"
  },
  "language_info": {
   "codemirror_mode": {
    "name": "ipython",
    "version": 3
   },
   "file_extension": ".py",
   "mimetype": "text/x-python",
   "name": "python",
   "nbconvert_exporter": "python",
   "pygments_lexer": "ipython3",
   "version": "3.8.8"
  }
 },
 "nbformat": 4,
 "nbformat_minor": 5
}
